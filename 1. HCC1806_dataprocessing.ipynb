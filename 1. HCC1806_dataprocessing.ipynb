{
 "cells": [
  {
   "attachments": {},
   "cell_type": "markdown",
   "metadata": {},
   "source": [
    "# HCC1806 Data Preprocessing\n",
    "\n",
    "## Introduction\n",
    "The structure of the file is the following:\n",
    "1. EDA (Exploratory Data Analysis)\n",
    "    * Metadata Files\n",
    "    * Sequencing Data (HCC1806)\n",
    "        * Description\n",
    "        * Duplicates    \n",
    "            * Cells correlation \n",
    "        * Sparsity and NANs\n",
    "        * Labeling\n",
    "        * Outliers\n",
    "            * Boxplot\n",
    "            * IQR\n",
    "            * After Normalization  \n",
    "        * Distribution\n",
    "            * Histogram\n",
    "            * (Density Plot)\n",
    "            * Test for Normality\n",
    "            * Test for other distributions\n",
    "        * Correlation\n",
    "            * More on cells correlation\n",
    "            * Genes correlation\n",
    "        * Transformations\n",
    "        * Normalization\n",
    "\n",
    "2. Dimensionality Reduction \n",
    "## Materials and Methods\n",
    "\n",
    "## Libraries"
   ]
  },
  {
   "cell_type": "markdown",
   "metadata": {},
   "source": [
    "We start checking for libraries that are needed"
   ]
  },
  {
   "cell_type": "code",
   "execution_count": 1,
   "metadata": {},
   "outputs": [
    {
     "name": "stdout",
     "output_type": "stream",
     "text": [
      "Requirement already satisfied: pandas in /opt/anaconda3/lib/python3.11/site-packages (2.1.4)\n",
      "Requirement already satisfied: numpy<2,>=1.23.2 in /opt/anaconda3/lib/python3.11/site-packages (from pandas) (1.26.4)\n",
      "Requirement already satisfied: python-dateutil>=2.8.2 in /opt/anaconda3/lib/python3.11/site-packages (from pandas) (2.8.2)\n",
      "Requirement already satisfied: pytz>=2020.1 in /opt/anaconda3/lib/python3.11/site-packages (from pandas) (2023.3.post1)\n",
      "Requirement already satisfied: tzdata>=2022.1 in /opt/anaconda3/lib/python3.11/site-packages (from pandas) (2023.3)\n",
      "Requirement already satisfied: six>=1.5 in /opt/anaconda3/lib/python3.11/site-packages (from python-dateutil>=2.8.2->pandas) (1.16.0)\n",
      "Collecting numpy==1.19.5\n",
      "  Using cached numpy-1.19.5.zip (7.3 MB)\n",
      "  Installing build dependencies ... \u001b[?25ldone\n",
      "\u001b[?25h  Getting requirements to build wheel ... \u001b[?25ldone\n",
      "\u001b[?25h  Preparing metadata (pyproject.toml) ... \u001b[?25ldone\n",
      "\u001b[?25hBuilding wheels for collected packages: numpy\n",
      "  Building wheel for numpy (pyproject.toml) ... \u001b[?25lerror\n",
      "  \u001b[1;31merror\u001b[0m: \u001b[1msubprocess-exited-with-error\u001b[0m\n",
      "  \n",
      "  \u001b[31m×\u001b[0m \u001b[32mBuilding wheel for numpy \u001b[0m\u001b[1;32m(\u001b[0m\u001b[32mpyproject.toml\u001b[0m\u001b[1;32m)\u001b[0m did not run successfully.\n",
      "  \u001b[31m│\u001b[0m exit code: \u001b[1;36m1\u001b[0m\n",
      "  \u001b[31m╰─>\u001b[0m \u001b[31m[1032 lines of output]\u001b[0m\n",
      "  \u001b[31m   \u001b[0m setup.py:67: RuntimeWarning: NumPy 1.19.5 may not yet support Python 3.11.\n",
      "  \u001b[31m   \u001b[0m   warnings.warn(\n",
      "  \u001b[31m   \u001b[0m Running from numpy source directory.\n",
      "  \u001b[31m   \u001b[0m Cythonizing sources\n",
      "  \u001b[31m   \u001b[0m numpy/random/_bounded_integers.pxd.in has not changed\n",
      "  \u001b[31m   \u001b[0m numpy/random/_philox.pyx has not changed\n",
      "  \u001b[31m   \u001b[0m numpy/random/_bounded_integers.pyx.in has not changed\n",
      "  \u001b[31m   \u001b[0m numpy/random/_sfc64.pyx has not changed\n",
      "  \u001b[31m   \u001b[0m numpy/random/_mt19937.pyx has not changed\n",
      "  \u001b[31m   \u001b[0m numpy/random/bit_generator.pyx has not changed\n",
      "  \u001b[31m   \u001b[0m Processing numpy/random/_bounded_integers.pyx\n",
      "  \u001b[31m   \u001b[0m numpy/random/mtrand.pyx has not changed\n",
      "  \u001b[31m   \u001b[0m numpy/random/_generator.pyx has not changed\n",
      "  \u001b[31m   \u001b[0m numpy/random/_pcg64.pyx has not changed\n",
      "  \u001b[31m   \u001b[0m numpy/random/_common.pyx has not changed\n",
      "  \u001b[31m   \u001b[0m blas_opt_info:\n",
      "  \u001b[31m   \u001b[0m blas_mkl_info:\n",
      "  \u001b[31m   \u001b[0m customize UnixCCompiler\n",
      "  \u001b[31m   \u001b[0m   libraries mkl_rt not found in ['/opt/anaconda3/lib', '/usr/lib']\n",
      "  \u001b[31m   \u001b[0m   NOT AVAILABLE\n",
      "  \u001b[31m   \u001b[0m \n",
      "  \u001b[31m   \u001b[0m blis_info:\n",
      "  \u001b[31m   \u001b[0m   libraries blis not found in ['/opt/anaconda3/lib', '/usr/lib']\n",
      "  \u001b[31m   \u001b[0m   NOT AVAILABLE\n",
      "  \u001b[31m   \u001b[0m \n",
      "  \u001b[31m   \u001b[0m openblas_info:\n",
      "  \u001b[31m   \u001b[0m C compiler: clang -DNDEBUG -fwrapv -O2 -Wall -fPIC -O2 -isystem /opt/anaconda3/include -arch arm64 -fPIC -O2 -isystem /opt/anaconda3/include -arch arm64\n",
      "  \u001b[31m   \u001b[0m \n",
      "  \u001b[31m   \u001b[0m creating /var/folders/l5/l2yq9xlj55l1p5qsn5c6n5wh0000gn/T/tmplu4prccd/var\n",
      "  \u001b[31m   \u001b[0m creating /var/folders/l5/l2yq9xlj55l1p5qsn5c6n5wh0000gn/T/tmplu4prccd/var/folders\n",
      "  \u001b[31m   \u001b[0m creating /var/folders/l5/l2yq9xlj55l1p5qsn5c6n5wh0000gn/T/tmplu4prccd/var/folders/l5\n",
      "  \u001b[31m   \u001b[0m creating /var/folders/l5/l2yq9xlj55l1p5qsn5c6n5wh0000gn/T/tmplu4prccd/var/folders/l5/l2yq9xlj55l1p5qsn5c6n5wh0000gn\n",
      "  \u001b[31m   \u001b[0m creating /var/folders/l5/l2yq9xlj55l1p5qsn5c6n5wh0000gn/T/tmplu4prccd/var/folders/l5/l2yq9xlj55l1p5qsn5c6n5wh0000gn/T\n",
      "  \u001b[31m   \u001b[0m creating /var/folders/l5/l2yq9xlj55l1p5qsn5c6n5wh0000gn/T/tmplu4prccd/var/folders/l5/l2yq9xlj55l1p5qsn5c6n5wh0000gn/T/tmplu4prccd\n",
      "  \u001b[31m   \u001b[0m compile options: '-c'\n",
      "  \u001b[31m   \u001b[0m clang: /var/folders/l5/l2yq9xlj55l1p5qsn5c6n5wh0000gn/T/tmplu4prccd/source.c\n",
      "  \u001b[31m   \u001b[0m clang /var/folders/l5/l2yq9xlj55l1p5qsn5c6n5wh0000gn/T/tmplu4prccd/var/folders/l5/l2yq9xlj55l1p5qsn5c6n5wh0000gn/T/tmplu4prccd/source.o -L/opt/anaconda3/lib -lopenblas -o /var/folders/l5/l2yq9xlj55l1p5qsn5c6n5wh0000gn/T/tmplu4prccd/a.out\n",
      "  \u001b[31m   \u001b[0m   FOUND:\n",
      "  \u001b[31m   \u001b[0m     libraries = ['openblas', 'openblas']\n",
      "  \u001b[31m   \u001b[0m     library_dirs = ['/opt/anaconda3/lib']\n",
      "  \u001b[31m   \u001b[0m     language = c\n",
      "  \u001b[31m   \u001b[0m     define_macros = [('HAVE_CBLAS', None)]\n",
      "  \u001b[31m   \u001b[0m \n",
      "  \u001b[31m   \u001b[0m   FOUND:\n",
      "  \u001b[31m   \u001b[0m     libraries = ['openblas', 'openblas']\n",
      "  \u001b[31m   \u001b[0m     library_dirs = ['/opt/anaconda3/lib']\n",
      "  \u001b[31m   \u001b[0m     language = c\n",
      "  \u001b[31m   \u001b[0m     define_macros = [('HAVE_CBLAS', None)]\n",
      "  \u001b[31m   \u001b[0m \n",
      "  \u001b[31m   \u001b[0m non-existing path in 'numpy/distutils': 'site.cfg'\n",
      "  \u001b[31m   \u001b[0m lapack_opt_info:\n",
      "  \u001b[31m   \u001b[0m lapack_mkl_info:\n",
      "  \u001b[31m   \u001b[0m   libraries mkl_rt not found in ['/opt/anaconda3/lib', '/usr/lib']\n",
      "  \u001b[31m   \u001b[0m   NOT AVAILABLE\n",
      "  \u001b[31m   \u001b[0m \n",
      "  \u001b[31m   \u001b[0m openblas_lapack_info:\n",
      "  \u001b[31m   \u001b[0m C compiler: clang -DNDEBUG -fwrapv -O2 -Wall -fPIC -O2 -isystem /opt/anaconda3/include -arch arm64 -fPIC -O2 -isystem /opt/anaconda3/include -arch arm64\n",
      "  \u001b[31m   \u001b[0m \n",
      "  \u001b[31m   \u001b[0m creating /var/folders/l5/l2yq9xlj55l1p5qsn5c6n5wh0000gn/T/tmpgg6flav_/var\n",
      "  \u001b[31m   \u001b[0m creating /var/folders/l5/l2yq9xlj55l1p5qsn5c6n5wh0000gn/T/tmpgg6flav_/var/folders\n",
      "  \u001b[31m   \u001b[0m creating /var/folders/l5/l2yq9xlj55l1p5qsn5c6n5wh0000gn/T/tmpgg6flav_/var/folders/l5\n",
      "  \u001b[31m   \u001b[0m creating /var/folders/l5/l2yq9xlj55l1p5qsn5c6n5wh0000gn/T/tmpgg6flav_/var/folders/l5/l2yq9xlj55l1p5qsn5c6n5wh0000gn\n",
      "  \u001b[31m   \u001b[0m creating /var/folders/l5/l2yq9xlj55l1p5qsn5c6n5wh0000gn/T/tmpgg6flav_/var/folders/l5/l2yq9xlj55l1p5qsn5c6n5wh0000gn/T\n",
      "  \u001b[31m   \u001b[0m creating /var/folders/l5/l2yq9xlj55l1p5qsn5c6n5wh0000gn/T/tmpgg6flav_/var/folders/l5/l2yq9xlj55l1p5qsn5c6n5wh0000gn/T/tmpgg6flav_\n",
      "  \u001b[31m   \u001b[0m compile options: '-c'\n",
      "  \u001b[31m   \u001b[0m clang: /var/folders/l5/l2yq9xlj55l1p5qsn5c6n5wh0000gn/T/tmpgg6flav_/source.c\n",
      "  \u001b[31m   \u001b[0m clang /var/folders/l5/l2yq9xlj55l1p5qsn5c6n5wh0000gn/T/tmpgg6flav_/var/folders/l5/l2yq9xlj55l1p5qsn5c6n5wh0000gn/T/tmpgg6flav_/source.o -L/opt/anaconda3/lib -lopenblas -o /var/folders/l5/l2yq9xlj55l1p5qsn5c6n5wh0000gn/T/tmpgg6flav_/a.out\n",
      "  \u001b[31m   \u001b[0m   FOUND:\n",
      "  \u001b[31m   \u001b[0m     libraries = ['openblas', 'openblas']\n",
      "  \u001b[31m   \u001b[0m     library_dirs = ['/opt/anaconda3/lib']\n",
      "  \u001b[31m   \u001b[0m     language = c\n",
      "  \u001b[31m   \u001b[0m     define_macros = [('HAVE_CBLAS', None)]\n",
      "  \u001b[31m   \u001b[0m \n",
      "  \u001b[31m   \u001b[0m   FOUND:\n",
      "  \u001b[31m   \u001b[0m     libraries = ['openblas', 'openblas']\n",
      "  \u001b[31m   \u001b[0m     library_dirs = ['/opt/anaconda3/lib']\n",
      "  \u001b[31m   \u001b[0m     language = c\n",
      "  \u001b[31m   \u001b[0m     define_macros = [('HAVE_CBLAS', None)]\n",
      "  \u001b[31m   \u001b[0m \n",
      "  \u001b[31m   \u001b[0m /private/var/folders/l5/l2yq9xlj55l1p5qsn5c6n5wh0000gn/T/pip-build-env-eu8_dt_n/overlay/lib/python3.11/site-packages/setuptools/_distutils/dist.py:275: UserWarning: Unknown distribution option: 'define_macros'\n",
      "  \u001b[31m   \u001b[0m   warnings.warn(msg)\n",
      "  \u001b[31m   \u001b[0m running bdist_wheel\n",
      "  \u001b[31m   \u001b[0m running build\n",
      "  \u001b[31m   \u001b[0m running config_cc\n",
      "  \u001b[31m   \u001b[0m unifing config_cc, config, build_clib, build_ext, build commands --compiler options\n",
      "  \u001b[31m   \u001b[0m running config_fc\n",
      "  \u001b[31m   \u001b[0m unifing config_fc, config, build_clib, build_ext, build commands --fcompiler options\n",
      "  \u001b[31m   \u001b[0m running build_src\n",
      "  \u001b[31m   \u001b[0m build_src\n",
      "  \u001b[31m   \u001b[0m building py_modules sources\n",
      "  \u001b[31m   \u001b[0m building library \"npymath\" sources\n",
      "  \u001b[31m   \u001b[0m Could not locate executable gfortran\n",
      "  \u001b[31m   \u001b[0m Could not locate executable f95\n",
      "  \u001b[31m   \u001b[0m Could not locate executable f90\n",
      "  \u001b[31m   \u001b[0m Could not locate executable f77\n",
      "  \u001b[31m   \u001b[0m Could not locate executable xlf90\n",
      "  \u001b[31m   \u001b[0m Could not locate executable xlf\n",
      "  \u001b[31m   \u001b[0m Could not locate executable ifort\n",
      "  \u001b[31m   \u001b[0m Could not locate executable ifc\n",
      "  \u001b[31m   \u001b[0m Could not locate executable g77\n",
      "  \u001b[31m   \u001b[0m Could not locate executable g95\n",
      "  \u001b[31m   \u001b[0m Could not locate executable pgfortran\n",
      "  \u001b[31m   \u001b[0m don't know how to compile Fortran code on platform 'posix'\n",
      "  \u001b[31m   \u001b[0m   adding 'build/src.macosx-11.0-arm64-3.11/numpy/core/src/npymath' to include_dirs.\n",
      "  \u001b[31m   \u001b[0m None - nothing done with h_files = ['build/src.macosx-11.0-arm64-3.11/numpy/core/src/npymath/npy_math_internal.h']\n",
      "  \u001b[31m   \u001b[0m building library \"npysort\" sources\n",
      "  \u001b[31m   \u001b[0m   adding 'build/src.macosx-11.0-arm64-3.11/numpy/core/src/common' to include_dirs.\n",
      "  \u001b[31m   \u001b[0m None - nothing done with h_files = ['build/src.macosx-11.0-arm64-3.11/numpy/core/src/common/npy_sort.h', 'build/src.macosx-11.0-arm64-3.11/numpy/core/src/common/npy_partition.h', 'build/src.macosx-11.0-arm64-3.11/numpy/core/src/common/npy_binsearch.h']\n",
      "  \u001b[31m   \u001b[0m building library \"npyrandom\" sources\n",
      "  \u001b[31m   \u001b[0m building extension \"numpy.core._multiarray_tests\" sources\n",
      "  \u001b[31m   \u001b[0m building extension \"numpy.core._multiarray_umath\" sources\n",
      "  \u001b[31m   \u001b[0m   adding 'build/src.macosx-11.0-arm64-3.11/numpy/core/src/umath' to include_dirs.\n",
      "  \u001b[31m   \u001b[0m   adding 'build/src.macosx-11.0-arm64-3.11/numpy/core/src/npymath' to include_dirs.\n",
      "  \u001b[31m   \u001b[0m   adding 'build/src.macosx-11.0-arm64-3.11/numpy/core/src/common' to include_dirs.\n",
      "  \u001b[31m   \u001b[0m numpy.core - nothing done with h_files = ['build/src.macosx-11.0-arm64-3.11/numpy/core/src/umath/funcs.inc', 'build/src.macosx-11.0-arm64-3.11/numpy/core/src/umath/simd.inc', 'build/src.macosx-11.0-arm64-3.11/numpy/core/src/umath/loops.h', 'build/src.macosx-11.0-arm64-3.11/numpy/core/src/umath/matmul.h', 'build/src.macosx-11.0-arm64-3.11/numpy/core/src/umath/clip.h', 'build/src.macosx-11.0-arm64-3.11/numpy/core/src/npymath/npy_math_internal.h', 'build/src.macosx-11.0-arm64-3.11/numpy/core/src/common/templ_common.h', 'build/src.macosx-11.0-arm64-3.11/numpy/core/include/numpy/config.h', 'build/src.macosx-11.0-arm64-3.11/numpy/core/include/numpy/_numpyconfig.h', 'build/src.macosx-11.0-arm64-3.11/numpy/core/include/numpy/__multiarray_api.h', 'build/src.macosx-11.0-arm64-3.11/numpy/core/include/numpy/__ufunc_api.h']\n",
      "  \u001b[31m   \u001b[0m building extension \"numpy.core._umath_tests\" sources\n",
      "  \u001b[31m   \u001b[0m building extension \"numpy.core._rational_tests\" sources\n",
      "  \u001b[31m   \u001b[0m building extension \"numpy.core._struct_ufunc_tests\" sources\n",
      "  \u001b[31m   \u001b[0m building extension \"numpy.core._operand_flag_tests\" sources\n",
      "  \u001b[31m   \u001b[0m building extension \"numpy.fft._pocketfft_internal\" sources\n",
      "  \u001b[31m   \u001b[0m building extension \"numpy.linalg.lapack_lite\" sources\n",
      "  \u001b[31m   \u001b[0m building extension \"numpy.linalg._umath_linalg\" sources\n",
      "  \u001b[31m   \u001b[0m building extension \"numpy.random._mt19937\" sources\n",
      "  \u001b[31m   \u001b[0m building extension \"numpy.random._philox\" sources\n",
      "  \u001b[31m   \u001b[0m building extension \"numpy.random._pcg64\" sources\n",
      "  \u001b[31m   \u001b[0m building extension \"numpy.random._sfc64\" sources\n",
      "  \u001b[31m   \u001b[0m building extension \"numpy.random._common\" sources\n",
      "  \u001b[31m   \u001b[0m building extension \"numpy.random.bit_generator\" sources\n",
      "  \u001b[31m   \u001b[0m building extension \"numpy.random._generator\" sources\n",
      "  \u001b[31m   \u001b[0m building extension \"numpy.random._bounded_integers\" sources\n",
      "  \u001b[31m   \u001b[0m building extension \"numpy.random.mtrand\" sources\n",
      "  \u001b[31m   \u001b[0m building data_files sources\n",
      "  \u001b[31m   \u001b[0m build_src: building npy-pkg config files\n",
      "  \u001b[31m   \u001b[0m running build_py\n",
      "  \u001b[31m   \u001b[0m creating build/lib.macosx-11.0-arm64-3.11\n",
      "  \u001b[31m   \u001b[0m creating build/lib.macosx-11.0-arm64-3.11/numpy\n",
      "  \u001b[31m   \u001b[0m copying numpy/conftest.py -> build/lib.macosx-11.0-arm64-3.11/numpy\n",
      "  \u001b[31m   \u001b[0m copying numpy/version.py -> build/lib.macosx-11.0-arm64-3.11/numpy\n",
      "  \u001b[31m   \u001b[0m copying numpy/_globals.py -> build/lib.macosx-11.0-arm64-3.11/numpy\n",
      "  \u001b[31m   \u001b[0m copying numpy/__init__.py -> build/lib.macosx-11.0-arm64-3.11/numpy\n",
      "  \u001b[31m   \u001b[0m copying numpy/dual.py -> build/lib.macosx-11.0-arm64-3.11/numpy\n",
      "  \u001b[31m   \u001b[0m copying numpy/_distributor_init.py -> build/lib.macosx-11.0-arm64-3.11/numpy\n",
      "  \u001b[31m   \u001b[0m copying numpy/setup.py -> build/lib.macosx-11.0-arm64-3.11/numpy\n",
      "  \u001b[31m   \u001b[0m copying numpy/ctypeslib.py -> build/lib.macosx-11.0-arm64-3.11/numpy\n",
      "  \u001b[31m   \u001b[0m copying numpy/matlib.py -> build/lib.macosx-11.0-arm64-3.11/numpy\n",
      "  \u001b[31m   \u001b[0m copying numpy/_pytesttester.py -> build/lib.macosx-11.0-arm64-3.11/numpy\n",
      "  \u001b[31m   \u001b[0m copying build/src.macosx-11.0-arm64-3.11/numpy/__config__.py -> build/lib.macosx-11.0-arm64-3.11/numpy\n",
      "  \u001b[31m   \u001b[0m creating build/lib.macosx-11.0-arm64-3.11/numpy/compat\n",
      "  \u001b[31m   \u001b[0m copying numpy/compat/py3k.py -> build/lib.macosx-11.0-arm64-3.11/numpy/compat\n",
      "  \u001b[31m   \u001b[0m copying numpy/compat/__init__.py -> build/lib.macosx-11.0-arm64-3.11/numpy/compat\n",
      "  \u001b[31m   \u001b[0m copying numpy/compat/setup.py -> build/lib.macosx-11.0-arm64-3.11/numpy/compat\n",
      "  \u001b[31m   \u001b[0m copying numpy/compat/_inspect.py -> build/lib.macosx-11.0-arm64-3.11/numpy/compat\n",
      "  \u001b[31m   \u001b[0m creating build/lib.macosx-11.0-arm64-3.11/numpy/compat/tests\n",
      "  \u001b[31m   \u001b[0m copying numpy/compat/tests/__init__.py -> build/lib.macosx-11.0-arm64-3.11/numpy/compat/tests\n",
      "  \u001b[31m   \u001b[0m copying numpy/compat/tests/test_compat.py -> build/lib.macosx-11.0-arm64-3.11/numpy/compat/tests\n",
      "  \u001b[31m   \u001b[0m creating build/lib.macosx-11.0-arm64-3.11/numpy/core\n",
      "  \u001b[31m   \u001b[0m copying numpy/core/umath.py -> build/lib.macosx-11.0-arm64-3.11/numpy/core\n",
      "  \u001b[31m   \u001b[0m copying numpy/core/fromnumeric.py -> build/lib.macosx-11.0-arm64-3.11/numpy/core\n",
      "  \u001b[31m   \u001b[0m copying numpy/core/_dtype.py -> build/lib.macosx-11.0-arm64-3.11/numpy/core\n",
      "  \u001b[31m   \u001b[0m copying numpy/core/_add_newdocs.py -> build/lib.macosx-11.0-arm64-3.11/numpy/core\n",
      "  \u001b[31m   \u001b[0m copying numpy/core/_methods.py -> build/lib.macosx-11.0-arm64-3.11/numpy/core\n",
      "  \u001b[31m   \u001b[0m copying numpy/core/_internal.py -> build/lib.macosx-11.0-arm64-3.11/numpy/core\n",
      "  \u001b[31m   \u001b[0m copying numpy/core/_string_helpers.py -> build/lib.macosx-11.0-arm64-3.11/numpy/core\n",
      "  \u001b[31m   \u001b[0m copying numpy/core/multiarray.py -> build/lib.macosx-11.0-arm64-3.11/numpy/core\n",
      "  \u001b[31m   \u001b[0m copying numpy/core/_asarray.py -> build/lib.macosx-11.0-arm64-3.11/numpy/core\n",
      "  \u001b[31m   \u001b[0m copying numpy/core/records.py -> build/lib.macosx-11.0-arm64-3.11/numpy/core\n",
      "  \u001b[31m   \u001b[0m copying numpy/core/__init__.py -> build/lib.macosx-11.0-arm64-3.11/numpy/core\n",
      "  \u001b[31m   \u001b[0m copying numpy/core/setup_common.py -> build/lib.macosx-11.0-arm64-3.11/numpy/core\n",
      "  \u001b[31m   \u001b[0m copying numpy/core/memmap.py -> build/lib.macosx-11.0-arm64-3.11/numpy/core\n",
      "  \u001b[31m   \u001b[0m copying numpy/core/overrides.py -> build/lib.macosx-11.0-arm64-3.11/numpy/core\n",
      "  \u001b[31m   \u001b[0m copying numpy/core/getlimits.py -> build/lib.macosx-11.0-arm64-3.11/numpy/core\n",
      "  \u001b[31m   \u001b[0m copying numpy/core/_dtype_ctypes.py -> build/lib.macosx-11.0-arm64-3.11/numpy/core\n",
      "  \u001b[31m   \u001b[0m copying numpy/core/defchararray.py -> build/lib.macosx-11.0-arm64-3.11/numpy/core\n",
      "  \u001b[31m   \u001b[0m copying numpy/core/shape_base.py -> build/lib.macosx-11.0-arm64-3.11/numpy/core\n",
      "  \u001b[31m   \u001b[0m copying numpy/core/machar.py -> build/lib.macosx-11.0-arm64-3.11/numpy/core\n",
      "  \u001b[31m   \u001b[0m copying numpy/core/setup.py -> build/lib.macosx-11.0-arm64-3.11/numpy/core\n",
      "  \u001b[31m   \u001b[0m copying numpy/core/numeric.py -> build/lib.macosx-11.0-arm64-3.11/numpy/core\n",
      "  \u001b[31m   \u001b[0m copying numpy/core/function_base.py -> build/lib.macosx-11.0-arm64-3.11/numpy/core\n",
      "  \u001b[31m   \u001b[0m copying numpy/core/einsumfunc.py -> build/lib.macosx-11.0-arm64-3.11/numpy/core\n",
      "  \u001b[31m   \u001b[0m copying numpy/core/umath_tests.py -> build/lib.macosx-11.0-arm64-3.11/numpy/core\n",
      "  \u001b[31m   \u001b[0m copying numpy/core/_ufunc_config.py -> build/lib.macosx-11.0-arm64-3.11/numpy/core\n",
      "  \u001b[31m   \u001b[0m copying numpy/core/_exceptions.py -> build/lib.macosx-11.0-arm64-3.11/numpy/core\n",
      "  \u001b[31m   \u001b[0m copying numpy/core/numerictypes.py -> build/lib.macosx-11.0-arm64-3.11/numpy/core\n",
      "  \u001b[31m   \u001b[0m copying numpy/core/_type_aliases.py -> build/lib.macosx-11.0-arm64-3.11/numpy/core\n",
      "  \u001b[31m   \u001b[0m copying numpy/core/cversions.py -> build/lib.macosx-11.0-arm64-3.11/numpy/core\n",
      "  \u001b[31m   \u001b[0m copying numpy/core/arrayprint.py -> build/lib.macosx-11.0-arm64-3.11/numpy/core\n",
      "  \u001b[31m   \u001b[0m copying numpy/core/code_generators/generate_numpy_api.py -> build/lib.macosx-11.0-arm64-3.11/numpy/core\n",
      "  \u001b[31m   \u001b[0m creating build/lib.macosx-11.0-arm64-3.11/numpy/core/tests\n",
      "  \u001b[31m   \u001b[0m copying numpy/core/tests/test_numerictypes.py -> build/lib.macosx-11.0-arm64-3.11/numpy/core/tests\n",
      "  \u001b[31m   \u001b[0m copying numpy/core/tests/test_scalar_methods.py -> build/lib.macosx-11.0-arm64-3.11/numpy/core/tests\n",
      "  \u001b[31m   \u001b[0m copying numpy/core/tests/test_scalarmath.py -> build/lib.macosx-11.0-arm64-3.11/numpy/core/tests\n",
      "  \u001b[31m   \u001b[0m copying numpy/core/tests/test_item_selection.py -> build/lib.macosx-11.0-arm64-3.11/numpy/core/tests\n",
      "  \u001b[31m   \u001b[0m copying numpy/core/tests/test_machar.py -> build/lib.macosx-11.0-arm64-3.11/numpy/core/tests\n",
      "  \u001b[31m   \u001b[0m copying numpy/core/tests/test_unicode.py -> build/lib.macosx-11.0-arm64-3.11/numpy/core/tests\n",
      "  \u001b[31m   \u001b[0m copying numpy/core/tests/test_arrayprint.py -> build/lib.macosx-11.0-arm64-3.11/numpy/core/tests\n",
      "  \u001b[31m   \u001b[0m copying numpy/core/tests/test_scalarbuffer.py -> build/lib.macosx-11.0-arm64-3.11/numpy/core/tests\n",
      "  \u001b[31m   \u001b[0m copying numpy/core/tests/test_indexerrors.py -> build/lib.macosx-11.0-arm64-3.11/numpy/core/tests\n",
      "  \u001b[31m   \u001b[0m copying numpy/core/tests/test_print.py -> build/lib.macosx-11.0-arm64-3.11/numpy/core/tests\n",
      "  \u001b[31m   \u001b[0m copying numpy/core/tests/test_half.py -> build/lib.macosx-11.0-arm64-3.11/numpy/core/tests\n",
      "  \u001b[31m   \u001b[0m copying numpy/core/tests/test_mem_overlap.py -> build/lib.macosx-11.0-arm64-3.11/numpy/core/tests\n",
      "  \u001b[31m   \u001b[0m copying numpy/core/tests/test_shape_base.py -> build/lib.macosx-11.0-arm64-3.11/numpy/core/tests\n",
      "  \u001b[31m   \u001b[0m copying numpy/core/tests/test_deprecations.py -> build/lib.macosx-11.0-arm64-3.11/numpy/core/tests\n",
      "  \u001b[31m   \u001b[0m copying numpy/core/tests/__init__.py -> build/lib.macosx-11.0-arm64-3.11/numpy/core/tests\n",
      "  \u001b[31m   \u001b[0m copying numpy/core/tests/test_errstate.py -> build/lib.macosx-11.0-arm64-3.11/numpy/core/tests\n",
      "  \u001b[31m   \u001b[0m copying numpy/core/tests/test_records.py -> build/lib.macosx-11.0-arm64-3.11/numpy/core/tests\n",
      "  \u001b[31m   \u001b[0m copying numpy/core/tests/test_scalarinherit.py -> build/lib.macosx-11.0-arm64-3.11/numpy/core/tests\n",
      "  \u001b[31m   \u001b[0m copying numpy/core/tests/test_indexing.py -> build/lib.macosx-11.0-arm64-3.11/numpy/core/tests\n",
      "  \u001b[31m   \u001b[0m copying numpy/core/tests/test_umath.py -> build/lib.macosx-11.0-arm64-3.11/numpy/core/tests\n",
      "  \u001b[31m   \u001b[0m copying numpy/core/tests/test_numeric.py -> build/lib.macosx-11.0-arm64-3.11/numpy/core/tests\n",
      "  \u001b[31m   \u001b[0m copying numpy/core/tests/test_function_base.py -> build/lib.macosx-11.0-arm64-3.11/numpy/core/tests\n",
      "  \u001b[31m   \u001b[0m copying numpy/core/tests/test_datetime.py -> build/lib.macosx-11.0-arm64-3.11/numpy/core/tests\n",
      "  \u001b[31m   \u001b[0m copying numpy/core/tests/test__exceptions.py -> build/lib.macosx-11.0-arm64-3.11/numpy/core/tests\n",
      "  \u001b[31m   \u001b[0m copying numpy/core/tests/test_extint128.py -> build/lib.macosx-11.0-arm64-3.11/numpy/core/tests\n",
      "  \u001b[31m   \u001b[0m copying numpy/core/tests/test_umath_complex.py -> build/lib.macosx-11.0-arm64-3.11/numpy/core/tests\n",
      "  \u001b[31m   \u001b[0m copying numpy/core/tests/_locales.py -> build/lib.macosx-11.0-arm64-3.11/numpy/core/tests\n",
      "  \u001b[31m   \u001b[0m copying numpy/core/tests/test_defchararray.py -> build/lib.macosx-11.0-arm64-3.11/numpy/core/tests\n",
      "  \u001b[31m   \u001b[0m copying numpy/core/tests/test_conversion_utils.py -> build/lib.macosx-11.0-arm64-3.11/numpy/core/tests\n",
      "  \u001b[31m   \u001b[0m copying numpy/core/tests/test_scalarprint.py -> build/lib.macosx-11.0-arm64-3.11/numpy/core/tests\n",
      "  \u001b[31m   \u001b[0m copying numpy/core/tests/test_abc.py -> build/lib.macosx-11.0-arm64-3.11/numpy/core/tests\n",
      "  \u001b[31m   \u001b[0m copying numpy/core/tests/test_ufunc.py -> build/lib.macosx-11.0-arm64-3.11/numpy/core/tests\n",
      "  \u001b[31m   \u001b[0m copying numpy/core/tests/test_dtype.py -> build/lib.macosx-11.0-arm64-3.11/numpy/core/tests\n",
      "  \u001b[31m   \u001b[0m copying numpy/core/tests/test_umath_accuracy.py -> build/lib.macosx-11.0-arm64-3.11/numpy/core/tests\n",
      "  \u001b[31m   \u001b[0m copying numpy/core/tests/test_getlimits.py -> build/lib.macosx-11.0-arm64-3.11/numpy/core/tests\n",
      "  \u001b[31m   \u001b[0m copying numpy/core/tests/test_einsum.py -> build/lib.macosx-11.0-arm64-3.11/numpy/core/tests\n",
      "  \u001b[31m   \u001b[0m copying numpy/core/tests/test_api.py -> build/lib.macosx-11.0-arm64-3.11/numpy/core/tests\n",
      "  \u001b[31m   \u001b[0m copying numpy/core/tests/test_longdouble.py -> build/lib.macosx-11.0-arm64-3.11/numpy/core/tests\n",
      "  \u001b[31m   \u001b[0m copying numpy/core/tests/test_overrides.py -> build/lib.macosx-11.0-arm64-3.11/numpy/core/tests\n",
      "  \u001b[31m   \u001b[0m copying numpy/core/tests/test_scalar_ctors.py -> build/lib.macosx-11.0-arm64-3.11/numpy/core/tests\n",
      "  \u001b[31m   \u001b[0m copying numpy/core/tests/test_multiarray.py -> build/lib.macosx-11.0-arm64-3.11/numpy/core/tests\n",
      "  \u001b[31m   \u001b[0m copying numpy/core/tests/test_memmap.py -> build/lib.macosx-11.0-arm64-3.11/numpy/core/tests\n",
      "  \u001b[31m   \u001b[0m copying numpy/core/tests/test_nditer.py -> build/lib.macosx-11.0-arm64-3.11/numpy/core/tests\n",
      "  \u001b[31m   \u001b[0m copying numpy/core/tests/test_cpu_features.py -> build/lib.macosx-11.0-arm64-3.11/numpy/core/tests\n",
      "  \u001b[31m   \u001b[0m copying numpy/core/tests/test_protocols.py -> build/lib.macosx-11.0-arm64-3.11/numpy/core/tests\n",
      "  \u001b[31m   \u001b[0m copying numpy/core/tests/test_regression.py -> build/lib.macosx-11.0-arm64-3.11/numpy/core/tests\n",
      "  \u001b[31m   \u001b[0m creating build/lib.macosx-11.0-arm64-3.11/numpy/distutils\n",
      "  \u001b[31m   \u001b[0m copying numpy/distutils/unixccompiler.py -> build/lib.macosx-11.0-arm64-3.11/numpy/distutils\n",
      "  \u001b[31m   \u001b[0m copying numpy/distutils/numpy_distribution.py -> build/lib.macosx-11.0-arm64-3.11/numpy/distutils\n",
      "  \u001b[31m   \u001b[0m copying numpy/distutils/conv_template.py -> build/lib.macosx-11.0-arm64-3.11/numpy/distutils\n",
      "  \u001b[31m   \u001b[0m copying numpy/distutils/cpuinfo.py -> build/lib.macosx-11.0-arm64-3.11/numpy/distutils\n",
      "  \u001b[31m   \u001b[0m copying numpy/distutils/ccompiler.py -> build/lib.macosx-11.0-arm64-3.11/numpy/distutils\n",
      "  \u001b[31m   \u001b[0m copying numpy/distutils/msvc9compiler.py -> build/lib.macosx-11.0-arm64-3.11/numpy/distutils\n",
      "  \u001b[31m   \u001b[0m copying numpy/distutils/npy_pkg_config.py -> build/lib.macosx-11.0-arm64-3.11/numpy/distutils\n",
      "  \u001b[31m   \u001b[0m copying numpy/distutils/misc_util.py -> build/lib.macosx-11.0-arm64-3.11/numpy/distutils\n",
      "  \u001b[31m   \u001b[0m copying numpy/distutils/log.py -> build/lib.macosx-11.0-arm64-3.11/numpy/distutils\n",
      "  \u001b[31m   \u001b[0m copying numpy/distutils/line_endings.py -> build/lib.macosx-11.0-arm64-3.11/numpy/distutils\n",
      "  \u001b[31m   \u001b[0m copying numpy/distutils/lib2def.py -> build/lib.macosx-11.0-arm64-3.11/numpy/distutils\n",
      "  \u001b[31m   \u001b[0m copying numpy/distutils/pathccompiler.py -> build/lib.macosx-11.0-arm64-3.11/numpy/distutils\n",
      "  \u001b[31m   \u001b[0m copying numpy/distutils/system_info.py -> build/lib.macosx-11.0-arm64-3.11/numpy/distutils\n",
      "  \u001b[31m   \u001b[0m copying numpy/distutils/__init__.py -> build/lib.macosx-11.0-arm64-3.11/numpy/distutils\n",
      "  \u001b[31m   \u001b[0m copying numpy/distutils/core.py -> build/lib.macosx-11.0-arm64-3.11/numpy/distutils\n",
      "  \u001b[31m   \u001b[0m copying numpy/distutils/exec_command.py -> build/lib.macosx-11.0-arm64-3.11/numpy/distutils\n",
      "  \u001b[31m   \u001b[0m copying numpy/distutils/from_template.py -> build/lib.macosx-11.0-arm64-3.11/numpy/distutils\n",
      "  \u001b[31m   \u001b[0m copying numpy/distutils/mingw32ccompiler.py -> build/lib.macosx-11.0-arm64-3.11/numpy/distutils\n",
      "  \u001b[31m   \u001b[0m copying numpy/distutils/setup.py -> build/lib.macosx-11.0-arm64-3.11/numpy/distutils\n",
      "  \u001b[31m   \u001b[0m copying numpy/distutils/extension.py -> build/lib.macosx-11.0-arm64-3.11/numpy/distutils\n",
      "  \u001b[31m   \u001b[0m copying numpy/distutils/msvccompiler.py -> build/lib.macosx-11.0-arm64-3.11/numpy/distutils\n",
      "  \u001b[31m   \u001b[0m copying numpy/distutils/intelccompiler.py -> build/lib.macosx-11.0-arm64-3.11/numpy/distutils\n",
      "  \u001b[31m   \u001b[0m copying numpy/distutils/_shell_utils.py -> build/lib.macosx-11.0-arm64-3.11/numpy/distutils\n",
      "  \u001b[31m   \u001b[0m copying build/src.macosx-11.0-arm64-3.11/numpy/distutils/__config__.py -> build/lib.macosx-11.0-arm64-3.11/numpy/distutils\n",
      "  \u001b[31m   \u001b[0m creating build/lib.macosx-11.0-arm64-3.11/numpy/distutils/command\n",
      "  \u001b[31m   \u001b[0m copying numpy/distutils/command/build.py -> build/lib.macosx-11.0-arm64-3.11/numpy/distutils/command\n",
      "  \u001b[31m   \u001b[0m copying numpy/distutils/command/config_compiler.py -> build/lib.macosx-11.0-arm64-3.11/numpy/distutils/command\n",
      "  \u001b[31m   \u001b[0m copying numpy/distutils/command/build_ext.py -> build/lib.macosx-11.0-arm64-3.11/numpy/distutils/command\n",
      "  \u001b[31m   \u001b[0m copying numpy/distutils/command/config.py -> build/lib.macosx-11.0-arm64-3.11/numpy/distutils/command\n",
      "  \u001b[31m   \u001b[0m copying numpy/distutils/command/install_headers.py -> build/lib.macosx-11.0-arm64-3.11/numpy/distutils/command\n",
      "  \u001b[31m   \u001b[0m copying numpy/distutils/command/build_py.py -> build/lib.macosx-11.0-arm64-3.11/numpy/distutils/command\n",
      "  \u001b[31m   \u001b[0m copying numpy/distutils/command/build_src.py -> build/lib.macosx-11.0-arm64-3.11/numpy/distutils/command\n",
      "  \u001b[31m   \u001b[0m copying numpy/distutils/command/__init__.py -> build/lib.macosx-11.0-arm64-3.11/numpy/distutils/command\n",
      "  \u001b[31m   \u001b[0m copying numpy/distutils/command/sdist.py -> build/lib.macosx-11.0-arm64-3.11/numpy/distutils/command\n",
      "  \u001b[31m   \u001b[0m copying numpy/distutils/command/build_scripts.py -> build/lib.macosx-11.0-arm64-3.11/numpy/distutils/command\n",
      "  \u001b[31m   \u001b[0m copying numpy/distutils/command/bdist_rpm.py -> build/lib.macosx-11.0-arm64-3.11/numpy/distutils/command\n",
      "  \u001b[31m   \u001b[0m copying numpy/distutils/command/install_clib.py -> build/lib.macosx-11.0-arm64-3.11/numpy/distutils/command\n",
      "  \u001b[31m   \u001b[0m copying numpy/distutils/command/build_clib.py -> build/lib.macosx-11.0-arm64-3.11/numpy/distutils/command\n",
      "  \u001b[31m   \u001b[0m copying numpy/distutils/command/autodist.py -> build/lib.macosx-11.0-arm64-3.11/numpy/distutils/command\n",
      "  \u001b[31m   \u001b[0m copying numpy/distutils/command/egg_info.py -> build/lib.macosx-11.0-arm64-3.11/numpy/distutils/command\n",
      "  \u001b[31m   \u001b[0m copying numpy/distutils/command/install.py -> build/lib.macosx-11.0-arm64-3.11/numpy/distutils/command\n",
      "  \u001b[31m   \u001b[0m copying numpy/distutils/command/develop.py -> build/lib.macosx-11.0-arm64-3.11/numpy/distutils/command\n",
      "  \u001b[31m   \u001b[0m copying numpy/distutils/command/install_data.py -> build/lib.macosx-11.0-arm64-3.11/numpy/distutils/command\n",
      "  \u001b[31m   \u001b[0m creating build/lib.macosx-11.0-arm64-3.11/numpy/distutils/fcompiler\n",
      "  \u001b[31m   \u001b[0m copying numpy/distutils/fcompiler/gnu.py -> build/lib.macosx-11.0-arm64-3.11/numpy/distutils/fcompiler\n",
      "  \u001b[31m   \u001b[0m copying numpy/distutils/fcompiler/compaq.py -> build/lib.macosx-11.0-arm64-3.11/numpy/distutils/fcompiler\n",
      "  \u001b[31m   \u001b[0m copying numpy/distutils/fcompiler/intel.py -> build/lib.macosx-11.0-arm64-3.11/numpy/distutils/fcompiler\n",
      "  \u001b[31m   \u001b[0m copying numpy/distutils/fcompiler/none.py -> build/lib.macosx-11.0-arm64-3.11/numpy/distutils/fcompiler\n",
      "  \u001b[31m   \u001b[0m copying numpy/distutils/fcompiler/nag.py -> build/lib.macosx-11.0-arm64-3.11/numpy/distutils/fcompiler\n",
      "  \u001b[31m   \u001b[0m copying numpy/distutils/fcompiler/pg.py -> build/lib.macosx-11.0-arm64-3.11/numpy/distutils/fcompiler\n",
      "  \u001b[31m   \u001b[0m copying numpy/distutils/fcompiler/ibm.py -> build/lib.macosx-11.0-arm64-3.11/numpy/distutils/fcompiler\n",
      "  \u001b[31m   \u001b[0m copying numpy/distutils/fcompiler/sun.py -> build/lib.macosx-11.0-arm64-3.11/numpy/distutils/fcompiler\n",
      "  \u001b[31m   \u001b[0m copying numpy/distutils/fcompiler/nv.py -> build/lib.macosx-11.0-arm64-3.11/numpy/distutils/fcompiler\n",
      "  \u001b[31m   \u001b[0m copying numpy/distutils/fcompiler/lahey.py -> build/lib.macosx-11.0-arm64-3.11/numpy/distutils/fcompiler\n",
      "  \u001b[31m   \u001b[0m copying numpy/distutils/fcompiler/__init__.py -> build/lib.macosx-11.0-arm64-3.11/numpy/distutils/fcompiler\n",
      "  \u001b[31m   \u001b[0m copying numpy/distutils/fcompiler/g95.py -> build/lib.macosx-11.0-arm64-3.11/numpy/distutils/fcompiler\n",
      "  \u001b[31m   \u001b[0m copying numpy/distutils/fcompiler/mips.py -> build/lib.macosx-11.0-arm64-3.11/numpy/distutils/fcompiler\n",
      "  \u001b[31m   \u001b[0m copying numpy/distutils/fcompiler/hpux.py -> build/lib.macosx-11.0-arm64-3.11/numpy/distutils/fcompiler\n",
      "  \u001b[31m   \u001b[0m copying numpy/distutils/fcompiler/environment.py -> build/lib.macosx-11.0-arm64-3.11/numpy/distutils/fcompiler\n",
      "  \u001b[31m   \u001b[0m copying numpy/distutils/fcompiler/pathf95.py -> build/lib.macosx-11.0-arm64-3.11/numpy/distutils/fcompiler\n",
      "  \u001b[31m   \u001b[0m copying numpy/distutils/fcompiler/absoft.py -> build/lib.macosx-11.0-arm64-3.11/numpy/distutils/fcompiler\n",
      "  \u001b[31m   \u001b[0m copying numpy/distutils/fcompiler/vast.py -> build/lib.macosx-11.0-arm64-3.11/numpy/distutils/fcompiler\n",
      "  \u001b[31m   \u001b[0m creating build/lib.macosx-11.0-arm64-3.11/numpy/distutils/tests\n",
      "  \u001b[31m   \u001b[0m copying numpy/distutils/tests/test_system_info.py -> build/lib.macosx-11.0-arm64-3.11/numpy/distutils/tests\n",
      "  \u001b[31m   \u001b[0m copying numpy/distutils/tests/test_mingw32ccompiler.py -> build/lib.macosx-11.0-arm64-3.11/numpy/distutils/tests\n",
      "  \u001b[31m   \u001b[0m copying numpy/distutils/tests/test_from_template.py -> build/lib.macosx-11.0-arm64-3.11/numpy/distutils/tests\n",
      "  \u001b[31m   \u001b[0m copying numpy/distutils/tests/__init__.py -> build/lib.macosx-11.0-arm64-3.11/numpy/distutils/tests\n",
      "  \u001b[31m   \u001b[0m copying numpy/distutils/tests/test_fcompiler_intel.py -> build/lib.macosx-11.0-arm64-3.11/numpy/distutils/tests\n",
      "  \u001b[31m   \u001b[0m copying numpy/distutils/tests/test_misc_util.py -> build/lib.macosx-11.0-arm64-3.11/numpy/distutils/tests\n",
      "  \u001b[31m   \u001b[0m copying numpy/distutils/tests/test_fcompiler.py -> build/lib.macosx-11.0-arm64-3.11/numpy/distutils/tests\n",
      "  \u001b[31m   \u001b[0m copying numpy/distutils/tests/test_shell_utils.py -> build/lib.macosx-11.0-arm64-3.11/numpy/distutils/tests\n",
      "  \u001b[31m   \u001b[0m copying numpy/distutils/tests/test_exec_command.py -> build/lib.macosx-11.0-arm64-3.11/numpy/distutils/tests\n",
      "  \u001b[31m   \u001b[0m copying numpy/distutils/tests/test_npy_pkg_config.py -> build/lib.macosx-11.0-arm64-3.11/numpy/distutils/tests\n",
      "  \u001b[31m   \u001b[0m copying numpy/distutils/tests/test_fcompiler_nagfor.py -> build/lib.macosx-11.0-arm64-3.11/numpy/distutils/tests\n",
      "  \u001b[31m   \u001b[0m copying numpy/distutils/tests/test_fcompiler_gnu.py -> build/lib.macosx-11.0-arm64-3.11/numpy/distutils/tests\n",
      "  \u001b[31m   \u001b[0m creating build/lib.macosx-11.0-arm64-3.11/numpy/doc\n",
      "  \u001b[31m   \u001b[0m copying numpy/doc/misc.py -> build/lib.macosx-11.0-arm64-3.11/numpy/doc\n",
      "  \u001b[31m   \u001b[0m copying numpy/doc/internals.py -> build/lib.macosx-11.0-arm64-3.11/numpy/doc\n",
      "  \u001b[31m   \u001b[0m copying numpy/doc/creation.py -> build/lib.macosx-11.0-arm64-3.11/numpy/doc\n",
      "  \u001b[31m   \u001b[0m copying numpy/doc/dispatch.py -> build/lib.macosx-11.0-arm64-3.11/numpy/doc\n",
      "  \u001b[31m   \u001b[0m copying numpy/doc/constants.py -> build/lib.macosx-11.0-arm64-3.11/numpy/doc\n",
      "  \u001b[31m   \u001b[0m copying numpy/doc/ufuncs.py -> build/lib.macosx-11.0-arm64-3.11/numpy/doc\n",
      "  \u001b[31m   \u001b[0m copying numpy/doc/__init__.py -> build/lib.macosx-11.0-arm64-3.11/numpy/doc\n",
      "  \u001b[31m   \u001b[0m copying numpy/doc/broadcasting.py -> build/lib.macosx-11.0-arm64-3.11/numpy/doc\n",
      "  \u001b[31m   \u001b[0m copying numpy/doc/basics.py -> build/lib.macosx-11.0-arm64-3.11/numpy/doc\n",
      "  \u001b[31m   \u001b[0m copying numpy/doc/subclassing.py -> build/lib.macosx-11.0-arm64-3.11/numpy/doc\n",
      "  \u001b[31m   \u001b[0m copying numpy/doc/indexing.py -> build/lib.macosx-11.0-arm64-3.11/numpy/doc\n",
      "  \u001b[31m   \u001b[0m copying numpy/doc/byteswapping.py -> build/lib.macosx-11.0-arm64-3.11/numpy/doc\n",
      "  \u001b[31m   \u001b[0m copying numpy/doc/structured_arrays.py -> build/lib.macosx-11.0-arm64-3.11/numpy/doc\n",
      "  \u001b[31m   \u001b[0m copying numpy/doc/glossary.py -> build/lib.macosx-11.0-arm64-3.11/numpy/doc\n",
      "  \u001b[31m   \u001b[0m creating build/lib.macosx-11.0-arm64-3.11/numpy/f2py\n",
      "  \u001b[31m   \u001b[0m copying numpy/f2py/cfuncs.py -> build/lib.macosx-11.0-arm64-3.11/numpy/f2py\n",
      "  \u001b[31m   \u001b[0m copying numpy/f2py/common_rules.py -> build/lib.macosx-11.0-arm64-3.11/numpy/f2py\n",
      "  \u001b[31m   \u001b[0m copying numpy/f2py/crackfortran.py -> build/lib.macosx-11.0-arm64-3.11/numpy/f2py\n",
      "  \u001b[31m   \u001b[0m copying numpy/f2py/cb_rules.py -> build/lib.macosx-11.0-arm64-3.11/numpy/f2py\n",
      "  \u001b[31m   \u001b[0m copying numpy/f2py/__init__.py -> build/lib.macosx-11.0-arm64-3.11/numpy/f2py\n",
      "  \u001b[31m   \u001b[0m copying numpy/f2py/rules.py -> build/lib.macosx-11.0-arm64-3.11/numpy/f2py\n",
      "  \u001b[31m   \u001b[0m copying numpy/f2py/f2py2e.py -> build/lib.macosx-11.0-arm64-3.11/numpy/f2py\n",
      "  \u001b[31m   \u001b[0m copying numpy/f2py/func2subr.py -> build/lib.macosx-11.0-arm64-3.11/numpy/f2py\n",
      "  \u001b[31m   \u001b[0m copying numpy/f2py/__version__.py -> build/lib.macosx-11.0-arm64-3.11/numpy/f2py\n",
      "  \u001b[31m   \u001b[0m copying numpy/f2py/diagnose.py -> build/lib.macosx-11.0-arm64-3.11/numpy/f2py\n",
      "  \u001b[31m   \u001b[0m copying numpy/f2py/setup.py -> build/lib.macosx-11.0-arm64-3.11/numpy/f2py\n",
      "  \u001b[31m   \u001b[0m copying numpy/f2py/capi_maps.py -> build/lib.macosx-11.0-arm64-3.11/numpy/f2py\n",
      "  \u001b[31m   \u001b[0m copying numpy/f2py/f90mod_rules.py -> build/lib.macosx-11.0-arm64-3.11/numpy/f2py\n",
      "  \u001b[31m   \u001b[0m copying numpy/f2py/f2py_testing.py -> build/lib.macosx-11.0-arm64-3.11/numpy/f2py\n",
      "  \u001b[31m   \u001b[0m copying numpy/f2py/use_rules.py -> build/lib.macosx-11.0-arm64-3.11/numpy/f2py\n",
      "  \u001b[31m   \u001b[0m copying numpy/f2py/auxfuncs.py -> build/lib.macosx-11.0-arm64-3.11/numpy/f2py\n",
      "  \u001b[31m   \u001b[0m copying numpy/f2py/__main__.py -> build/lib.macosx-11.0-arm64-3.11/numpy/f2py\n",
      "  \u001b[31m   \u001b[0m creating build/lib.macosx-11.0-arm64-3.11/numpy/f2py/tests\n",
      "  \u001b[31m   \u001b[0m copying numpy/f2py/tests/test_mixed.py -> build/lib.macosx-11.0-arm64-3.11/numpy/f2py/tests\n",
      "  \u001b[31m   \u001b[0m copying numpy/f2py/tests/test_return_logical.py -> build/lib.macosx-11.0-arm64-3.11/numpy/f2py/tests\n",
      "  \u001b[31m   \u001b[0m copying numpy/f2py/tests/test_assumed_shape.py -> build/lib.macosx-11.0-arm64-3.11/numpy/f2py/tests\n",
      "  \u001b[31m   \u001b[0m copying numpy/f2py/tests/test_common.py -> build/lib.macosx-11.0-arm64-3.11/numpy/f2py/tests\n",
      "  \u001b[31m   \u001b[0m copying numpy/f2py/tests/test_kind.py -> build/lib.macosx-11.0-arm64-3.11/numpy/f2py/tests\n",
      "  \u001b[31m   \u001b[0m copying numpy/f2py/tests/test_array_from_pyobj.py -> build/lib.macosx-11.0-arm64-3.11/numpy/f2py/tests\n",
      "  \u001b[31m   \u001b[0m copying numpy/f2py/tests/test_return_real.py -> build/lib.macosx-11.0-arm64-3.11/numpy/f2py/tests\n",
      "  \u001b[31m   \u001b[0m copying numpy/f2py/tests/util.py -> build/lib.macosx-11.0-arm64-3.11/numpy/f2py/tests\n",
      "  \u001b[31m   \u001b[0m copying numpy/f2py/tests/test_size.py -> build/lib.macosx-11.0-arm64-3.11/numpy/f2py/tests\n",
      "  \u001b[31m   \u001b[0m copying numpy/f2py/tests/test_callback.py -> build/lib.macosx-11.0-arm64-3.11/numpy/f2py/tests\n",
      "  \u001b[31m   \u001b[0m copying numpy/f2py/tests/test_string.py -> build/lib.macosx-11.0-arm64-3.11/numpy/f2py/tests\n",
      "  \u001b[31m   \u001b[0m copying numpy/f2py/tests/__init__.py -> build/lib.macosx-11.0-arm64-3.11/numpy/f2py/tests\n",
      "  \u001b[31m   \u001b[0m copying numpy/f2py/tests/test_quoted_character.py -> build/lib.macosx-11.0-arm64-3.11/numpy/f2py/tests\n",
      "  \u001b[31m   \u001b[0m copying numpy/f2py/tests/test_parameter.py -> build/lib.macosx-11.0-arm64-3.11/numpy/f2py/tests\n",
      "  \u001b[31m   \u001b[0m copying numpy/f2py/tests/test_semicolon_split.py -> build/lib.macosx-11.0-arm64-3.11/numpy/f2py/tests\n",
      "  \u001b[31m   \u001b[0m copying numpy/f2py/tests/test_compile_function.py -> build/lib.macosx-11.0-arm64-3.11/numpy/f2py/tests\n",
      "  \u001b[31m   \u001b[0m copying numpy/f2py/tests/test_block_docstring.py -> build/lib.macosx-11.0-arm64-3.11/numpy/f2py/tests\n",
      "  \u001b[31m   \u001b[0m copying numpy/f2py/tests/test_return_integer.py -> build/lib.macosx-11.0-arm64-3.11/numpy/f2py/tests\n",
      "  \u001b[31m   \u001b[0m copying numpy/f2py/tests/test_return_character.py -> build/lib.macosx-11.0-arm64-3.11/numpy/f2py/tests\n",
      "  \u001b[31m   \u001b[0m copying numpy/f2py/tests/test_return_complex.py -> build/lib.macosx-11.0-arm64-3.11/numpy/f2py/tests\n",
      "  \u001b[31m   \u001b[0m copying numpy/f2py/tests/test_crackfortran.py -> build/lib.macosx-11.0-arm64-3.11/numpy/f2py/tests\n",
      "  \u001b[31m   \u001b[0m copying numpy/f2py/tests/test_regression.py -> build/lib.macosx-11.0-arm64-3.11/numpy/f2py/tests\n",
      "  \u001b[31m   \u001b[0m creating build/lib.macosx-11.0-arm64-3.11/numpy/fft\n",
      "  \u001b[31m   \u001b[0m copying numpy/fft/__init__.py -> build/lib.macosx-11.0-arm64-3.11/numpy/fft\n",
      "  \u001b[31m   \u001b[0m copying numpy/fft/setup.py -> build/lib.macosx-11.0-arm64-3.11/numpy/fft\n",
      "  \u001b[31m   \u001b[0m copying numpy/fft/helper.py -> build/lib.macosx-11.0-arm64-3.11/numpy/fft\n",
      "  \u001b[31m   \u001b[0m copying numpy/fft/_pocketfft.py -> build/lib.macosx-11.0-arm64-3.11/numpy/fft\n",
      "  \u001b[31m   \u001b[0m creating build/lib.macosx-11.0-arm64-3.11/numpy/fft/tests\n",
      "  \u001b[31m   \u001b[0m copying numpy/fft/tests/test_pocketfft.py -> build/lib.macosx-11.0-arm64-3.11/numpy/fft/tests\n",
      "  \u001b[31m   \u001b[0m copying numpy/fft/tests/test_helper.py -> build/lib.macosx-11.0-arm64-3.11/numpy/fft/tests\n",
      "  \u001b[31m   \u001b[0m copying numpy/fft/tests/__init__.py -> build/lib.macosx-11.0-arm64-3.11/numpy/fft/tests\n",
      "  \u001b[31m   \u001b[0m creating build/lib.macosx-11.0-arm64-3.11/numpy/lib\n",
      "  \u001b[31m   \u001b[0m copying numpy/lib/_iotools.py -> build/lib.macosx-11.0-arm64-3.11/numpy/lib\n",
      "  \u001b[31m   \u001b[0m copying numpy/lib/mixins.py -> build/lib.macosx-11.0-arm64-3.11/numpy/lib\n",
      "  \u001b[31m   \u001b[0m copying numpy/lib/nanfunctions.py -> build/lib.macosx-11.0-arm64-3.11/numpy/lib\n",
      "  \u001b[31m   \u001b[0m copying numpy/lib/recfunctions.py -> build/lib.macosx-11.0-arm64-3.11/numpy/lib\n",
      "  \u001b[31m   \u001b[0m copying numpy/lib/histograms.py -> build/lib.macosx-11.0-arm64-3.11/numpy/lib\n",
      "  \u001b[31m   \u001b[0m copying numpy/lib/scimath.py -> build/lib.macosx-11.0-arm64-3.11/numpy/lib\n",
      "  \u001b[31m   \u001b[0m copying numpy/lib/_version.py -> build/lib.macosx-11.0-arm64-3.11/numpy/lib\n",
      "  \u001b[31m   \u001b[0m copying numpy/lib/user_array.py -> build/lib.macosx-11.0-arm64-3.11/numpy/lib\n",
      "  \u001b[31m   \u001b[0m copying numpy/lib/__init__.py -> build/lib.macosx-11.0-arm64-3.11/numpy/lib\n",
      "  \u001b[31m   \u001b[0m copying numpy/lib/format.py -> build/lib.macosx-11.0-arm64-3.11/numpy/lib\n",
      "  \u001b[31m   \u001b[0m copying numpy/lib/twodim_base.py -> build/lib.macosx-11.0-arm64-3.11/numpy/lib\n",
      "  \u001b[31m   \u001b[0m copying numpy/lib/financial.py -> build/lib.macosx-11.0-arm64-3.11/numpy/lib\n",
      "  \u001b[31m   \u001b[0m copying numpy/lib/index_tricks.py -> build/lib.macosx-11.0-arm64-3.11/numpy/lib\n",
      "  \u001b[31m   \u001b[0m copying numpy/lib/npyio.py -> build/lib.macosx-11.0-arm64-3.11/numpy/lib\n",
      "  \u001b[31m   \u001b[0m copying numpy/lib/shape_base.py -> build/lib.macosx-11.0-arm64-3.11/numpy/lib\n",
      "  \u001b[31m   \u001b[0m copying numpy/lib/setup.py -> build/lib.macosx-11.0-arm64-3.11/numpy/lib\n",
      "  \u001b[31m   \u001b[0m copying numpy/lib/stride_tricks.py -> build/lib.macosx-11.0-arm64-3.11/numpy/lib\n",
      "  \u001b[31m   \u001b[0m copying numpy/lib/utils.py -> build/lib.macosx-11.0-arm64-3.11/numpy/lib\n",
      "  \u001b[31m   \u001b[0m copying numpy/lib/arrayterator.py -> build/lib.macosx-11.0-arm64-3.11/numpy/lib\n",
      "  \u001b[31m   \u001b[0m copying numpy/lib/function_base.py -> build/lib.macosx-11.0-arm64-3.11/numpy/lib\n",
      "  \u001b[31m   \u001b[0m copying numpy/lib/arraysetops.py -> build/lib.macosx-11.0-arm64-3.11/numpy/lib\n",
      "  \u001b[31m   \u001b[0m copying numpy/lib/arraypad.py -> build/lib.macosx-11.0-arm64-3.11/numpy/lib\n",
      "  \u001b[31m   \u001b[0m copying numpy/lib/type_check.py -> build/lib.macosx-11.0-arm64-3.11/numpy/lib\n",
      "  \u001b[31m   \u001b[0m copying numpy/lib/polynomial.py -> build/lib.macosx-11.0-arm64-3.11/numpy/lib\n",
      "  \u001b[31m   \u001b[0m copying numpy/lib/_datasource.py -> build/lib.macosx-11.0-arm64-3.11/numpy/lib\n",
      "  \u001b[31m   \u001b[0m copying numpy/lib/ufunclike.py -> build/lib.macosx-11.0-arm64-3.11/numpy/lib\n",
      "  \u001b[31m   \u001b[0m creating build/lib.macosx-11.0-arm64-3.11/numpy/lib/tests\n",
      "  \u001b[31m   \u001b[0m copying numpy/lib/tests/test_type_check.py -> build/lib.macosx-11.0-arm64-3.11/numpy/lib/tests\n",
      "  \u001b[31m   \u001b[0m copying numpy/lib/tests/test_utils.py -> build/lib.macosx-11.0-arm64-3.11/numpy/lib/tests\n",
      "  \u001b[31m   \u001b[0m copying numpy/lib/tests/test_twodim_base.py -> build/lib.macosx-11.0-arm64-3.11/numpy/lib/tests\n",
      "  \u001b[31m   \u001b[0m copying numpy/lib/tests/test_polynomial.py -> build/lib.macosx-11.0-arm64-3.11/numpy/lib/tests\n",
      "  \u001b[31m   \u001b[0m copying numpy/lib/tests/test__iotools.py -> build/lib.macosx-11.0-arm64-3.11/numpy/lib/tests\n",
      "  \u001b[31m   \u001b[0m copying numpy/lib/tests/test_shape_base.py -> build/lib.macosx-11.0-arm64-3.11/numpy/lib/tests\n",
      "  \u001b[31m   \u001b[0m copying numpy/lib/tests/test_ufunclike.py -> build/lib.macosx-11.0-arm64-3.11/numpy/lib/tests\n",
      "  \u001b[31m   \u001b[0m copying numpy/lib/tests/test_index_tricks.py -> build/lib.macosx-11.0-arm64-3.11/numpy/lib/tests\n",
      "  \u001b[31m   \u001b[0m copying numpy/lib/tests/__init__.py -> build/lib.macosx-11.0-arm64-3.11/numpy/lib/tests\n",
      "  \u001b[31m   \u001b[0m copying numpy/lib/tests/test_arrayterator.py -> build/lib.macosx-11.0-arm64-3.11/numpy/lib/tests\n",
      "  \u001b[31m   \u001b[0m copying numpy/lib/tests/test__version.py -> build/lib.macosx-11.0-arm64-3.11/numpy/lib/tests\n",
      "  \u001b[31m   \u001b[0m copying numpy/lib/tests/test_io.py -> build/lib.macosx-11.0-arm64-3.11/numpy/lib/tests\n",
      "  \u001b[31m   \u001b[0m copying numpy/lib/tests/test_arraysetops.py -> build/lib.macosx-11.0-arm64-3.11/numpy/lib/tests\n",
      "  \u001b[31m   \u001b[0m copying numpy/lib/tests/test_function_base.py -> build/lib.macosx-11.0-arm64-3.11/numpy/lib/tests\n",
      "  \u001b[31m   \u001b[0m copying numpy/lib/tests/test_arraypad.py -> build/lib.macosx-11.0-arm64-3.11/numpy/lib/tests\n",
      "  \u001b[31m   \u001b[0m copying numpy/lib/tests/test_mixins.py -> build/lib.macosx-11.0-arm64-3.11/numpy/lib/tests\n",
      "  \u001b[31m   \u001b[0m copying numpy/lib/tests/test_packbits.py -> build/lib.macosx-11.0-arm64-3.11/numpy/lib/tests\n",
      "  \u001b[31m   \u001b[0m copying numpy/lib/tests/test__datasource.py -> build/lib.macosx-11.0-arm64-3.11/numpy/lib/tests\n",
      "  \u001b[31m   \u001b[0m copying numpy/lib/tests/test_stride_tricks.py -> build/lib.macosx-11.0-arm64-3.11/numpy/lib/tests\n",
      "  \u001b[31m   \u001b[0m copying numpy/lib/tests/test_financial.py -> build/lib.macosx-11.0-arm64-3.11/numpy/lib/tests\n",
      "  \u001b[31m   \u001b[0m copying numpy/lib/tests/test_recfunctions.py -> build/lib.macosx-11.0-arm64-3.11/numpy/lib/tests\n",
      "  \u001b[31m   \u001b[0m copying numpy/lib/tests/test_nanfunctions.py -> build/lib.macosx-11.0-arm64-3.11/numpy/lib/tests\n",
      "  \u001b[31m   \u001b[0m copying numpy/lib/tests/test_format.py -> build/lib.macosx-11.0-arm64-3.11/numpy/lib/tests\n",
      "  \u001b[31m   \u001b[0m copying numpy/lib/tests/test_histograms.py -> build/lib.macosx-11.0-arm64-3.11/numpy/lib/tests\n",
      "  \u001b[31m   \u001b[0m copying numpy/lib/tests/test_regression.py -> build/lib.macosx-11.0-arm64-3.11/numpy/lib/tests\n",
      "  \u001b[31m   \u001b[0m creating build/lib.macosx-11.0-arm64-3.11/numpy/linalg\n",
      "  \u001b[31m   \u001b[0m copying numpy/linalg/__init__.py -> build/lib.macosx-11.0-arm64-3.11/numpy/linalg\n",
      "  \u001b[31m   \u001b[0m copying numpy/linalg/setup.py -> build/lib.macosx-11.0-arm64-3.11/numpy/linalg\n",
      "  \u001b[31m   \u001b[0m copying numpy/linalg/linalg.py -> build/lib.macosx-11.0-arm64-3.11/numpy/linalg\n",
      "  \u001b[31m   \u001b[0m creating build/lib.macosx-11.0-arm64-3.11/numpy/linalg/tests\n",
      "  \u001b[31m   \u001b[0m copying numpy/linalg/tests/test_linalg.py -> build/lib.macosx-11.0-arm64-3.11/numpy/linalg/tests\n",
      "  \u001b[31m   \u001b[0m copying numpy/linalg/tests/test_deprecations.py -> build/lib.macosx-11.0-arm64-3.11/numpy/linalg/tests\n",
      "  \u001b[31m   \u001b[0m copying numpy/linalg/tests/__init__.py -> build/lib.macosx-11.0-arm64-3.11/numpy/linalg/tests\n",
      "  \u001b[31m   \u001b[0m copying numpy/linalg/tests/test_build.py -> build/lib.macosx-11.0-arm64-3.11/numpy/linalg/tests\n",
      "  \u001b[31m   \u001b[0m copying numpy/linalg/tests/test_regression.py -> build/lib.macosx-11.0-arm64-3.11/numpy/linalg/tests\n",
      "  \u001b[31m   \u001b[0m creating build/lib.macosx-11.0-arm64-3.11/numpy/ma\n",
      "  \u001b[31m   \u001b[0m copying numpy/ma/extras.py -> build/lib.macosx-11.0-arm64-3.11/numpy/ma\n",
      "  \u001b[31m   \u001b[0m copying numpy/ma/testutils.py -> build/lib.macosx-11.0-arm64-3.11/numpy/ma\n",
      "  \u001b[31m   \u001b[0m copying numpy/ma/__init__.py -> build/lib.macosx-11.0-arm64-3.11/numpy/ma\n",
      "  \u001b[31m   \u001b[0m copying numpy/ma/core.py -> build/lib.macosx-11.0-arm64-3.11/numpy/ma\n",
      "  \u001b[31m   \u001b[0m copying numpy/ma/bench.py -> build/lib.macosx-11.0-arm64-3.11/numpy/ma\n",
      "  \u001b[31m   \u001b[0m copying numpy/ma/setup.py -> build/lib.macosx-11.0-arm64-3.11/numpy/ma\n",
      "  \u001b[31m   \u001b[0m copying numpy/ma/timer_comparison.py -> build/lib.macosx-11.0-arm64-3.11/numpy/ma\n",
      "  \u001b[31m   \u001b[0m copying numpy/ma/mrecords.py -> build/lib.macosx-11.0-arm64-3.11/numpy/ma\n",
      "  \u001b[31m   \u001b[0m creating build/lib.macosx-11.0-arm64-3.11/numpy/ma/tests\n",
      "  \u001b[31m   \u001b[0m copying numpy/ma/tests/test_old_ma.py -> build/lib.macosx-11.0-arm64-3.11/numpy/ma/tests\n",
      "  \u001b[31m   \u001b[0m copying numpy/ma/tests/test_core.py -> build/lib.macosx-11.0-arm64-3.11/numpy/ma/tests\n",
      "  \u001b[31m   \u001b[0m copying numpy/ma/tests/test_deprecations.py -> build/lib.macosx-11.0-arm64-3.11/numpy/ma/tests\n",
      "  \u001b[31m   \u001b[0m copying numpy/ma/tests/__init__.py -> build/lib.macosx-11.0-arm64-3.11/numpy/ma/tests\n",
      "  \u001b[31m   \u001b[0m copying numpy/ma/tests/test_subclassing.py -> build/lib.macosx-11.0-arm64-3.11/numpy/ma/tests\n",
      "  \u001b[31m   \u001b[0m copying numpy/ma/tests/test_extras.py -> build/lib.macosx-11.0-arm64-3.11/numpy/ma/tests\n",
      "  \u001b[31m   \u001b[0m copying numpy/ma/tests/test_mrecords.py -> build/lib.macosx-11.0-arm64-3.11/numpy/ma/tests\n",
      "  \u001b[31m   \u001b[0m copying numpy/ma/tests/test_regression.py -> build/lib.macosx-11.0-arm64-3.11/numpy/ma/tests\n",
      "  \u001b[31m   \u001b[0m creating build/lib.macosx-11.0-arm64-3.11/numpy/matrixlib\n",
      "  \u001b[31m   \u001b[0m copying numpy/matrixlib/__init__.py -> build/lib.macosx-11.0-arm64-3.11/numpy/matrixlib\n",
      "  \u001b[31m   \u001b[0m copying numpy/matrixlib/setup.py -> build/lib.macosx-11.0-arm64-3.11/numpy/matrixlib\n",
      "  \u001b[31m   \u001b[0m copying numpy/matrixlib/defmatrix.py -> build/lib.macosx-11.0-arm64-3.11/numpy/matrixlib\n",
      "  \u001b[31m   \u001b[0m creating build/lib.macosx-11.0-arm64-3.11/numpy/matrixlib/tests\n",
      "  \u001b[31m   \u001b[0m copying numpy/matrixlib/tests/test_matrix_linalg.py -> build/lib.macosx-11.0-arm64-3.11/numpy/matrixlib/tests\n",
      "  \u001b[31m   \u001b[0m copying numpy/matrixlib/tests/test_defmatrix.py -> build/lib.macosx-11.0-arm64-3.11/numpy/matrixlib/tests\n",
      "  \u001b[31m   \u001b[0m copying numpy/matrixlib/tests/__init__.py -> build/lib.macosx-11.0-arm64-3.11/numpy/matrixlib/tests\n",
      "  \u001b[31m   \u001b[0m copying numpy/matrixlib/tests/test_interaction.py -> build/lib.macosx-11.0-arm64-3.11/numpy/matrixlib/tests\n",
      "  \u001b[31m   \u001b[0m copying numpy/matrixlib/tests/test_numeric.py -> build/lib.macosx-11.0-arm64-3.11/numpy/matrixlib/tests\n",
      "  \u001b[31m   \u001b[0m copying numpy/matrixlib/tests/test_masked_matrix.py -> build/lib.macosx-11.0-arm64-3.11/numpy/matrixlib/tests\n",
      "  \u001b[31m   \u001b[0m copying numpy/matrixlib/tests/test_multiarray.py -> build/lib.macosx-11.0-arm64-3.11/numpy/matrixlib/tests\n",
      "  \u001b[31m   \u001b[0m copying numpy/matrixlib/tests/test_regression.py -> build/lib.macosx-11.0-arm64-3.11/numpy/matrixlib/tests\n",
      "  \u001b[31m   \u001b[0m creating build/lib.macosx-11.0-arm64-3.11/numpy/polynomial\n",
      "  \u001b[31m   \u001b[0m copying numpy/polynomial/laguerre.py -> build/lib.macosx-11.0-arm64-3.11/numpy/polynomial\n",
      "  \u001b[31m   \u001b[0m copying numpy/polynomial/_polybase.py -> build/lib.macosx-11.0-arm64-3.11/numpy/polynomial\n",
      "  \u001b[31m   \u001b[0m copying numpy/polynomial/polyutils.py -> build/lib.macosx-11.0-arm64-3.11/numpy/polynomial\n",
      "  \u001b[31m   \u001b[0m copying numpy/polynomial/__init__.py -> build/lib.macosx-11.0-arm64-3.11/numpy/polynomial\n",
      "  \u001b[31m   \u001b[0m copying numpy/polynomial/setup.py -> build/lib.macosx-11.0-arm64-3.11/numpy/polynomial\n",
      "  \u001b[31m   \u001b[0m copying numpy/polynomial/hermite_e.py -> build/lib.macosx-11.0-arm64-3.11/numpy/polynomial\n",
      "  \u001b[31m   \u001b[0m copying numpy/polynomial/chebyshev.py -> build/lib.macosx-11.0-arm64-3.11/numpy/polynomial\n",
      "  \u001b[31m   \u001b[0m copying numpy/polynomial/polynomial.py -> build/lib.macosx-11.0-arm64-3.11/numpy/polynomial\n",
      "  \u001b[31m   \u001b[0m copying numpy/polynomial/legendre.py -> build/lib.macosx-11.0-arm64-3.11/numpy/polynomial\n",
      "  \u001b[31m   \u001b[0m copying numpy/polynomial/hermite.py -> build/lib.macosx-11.0-arm64-3.11/numpy/polynomial\n",
      "  \u001b[31m   \u001b[0m creating build/lib.macosx-11.0-arm64-3.11/numpy/polynomial/tests\n",
      "  \u001b[31m   \u001b[0m copying numpy/polynomial/tests/test_chebyshev.py -> build/lib.macosx-11.0-arm64-3.11/numpy/polynomial/tests\n",
      "  \u001b[31m   \u001b[0m copying numpy/polynomial/tests/test_hermite_e.py -> build/lib.macosx-11.0-arm64-3.11/numpy/polynomial/tests\n",
      "  \u001b[31m   \u001b[0m copying numpy/polynomial/tests/test_polynomial.py -> build/lib.macosx-11.0-arm64-3.11/numpy/polynomial/tests\n",
      "  \u001b[31m   \u001b[0m copying numpy/polynomial/tests/__init__.py -> build/lib.macosx-11.0-arm64-3.11/numpy/polynomial/tests\n",
      "  \u001b[31m   \u001b[0m copying numpy/polynomial/tests/test_laguerre.py -> build/lib.macosx-11.0-arm64-3.11/numpy/polynomial/tests\n",
      "  \u001b[31m   \u001b[0m copying numpy/polynomial/tests/test_legendre.py -> build/lib.macosx-11.0-arm64-3.11/numpy/polynomial/tests\n",
      "  \u001b[31m   \u001b[0m copying numpy/polynomial/tests/test_printing.py -> build/lib.macosx-11.0-arm64-3.11/numpy/polynomial/tests\n",
      "  \u001b[31m   \u001b[0m copying numpy/polynomial/tests/test_hermite.py -> build/lib.macosx-11.0-arm64-3.11/numpy/polynomial/tests\n",
      "  \u001b[31m   \u001b[0m copying numpy/polynomial/tests/test_classes.py -> build/lib.macosx-11.0-arm64-3.11/numpy/polynomial/tests\n",
      "  \u001b[31m   \u001b[0m copying numpy/polynomial/tests/test_polyutils.py -> build/lib.macosx-11.0-arm64-3.11/numpy/polynomial/tests\n",
      "  \u001b[31m   \u001b[0m creating build/lib.macosx-11.0-arm64-3.11/numpy/random\n",
      "  \u001b[31m   \u001b[0m copying numpy/random/_pickle.py -> build/lib.macosx-11.0-arm64-3.11/numpy/random\n",
      "  \u001b[31m   \u001b[0m copying numpy/random/__init__.py -> build/lib.macosx-11.0-arm64-3.11/numpy/random\n",
      "  \u001b[31m   \u001b[0m copying numpy/random/setup.py -> build/lib.macosx-11.0-arm64-3.11/numpy/random\n",
      "  \u001b[31m   \u001b[0m creating build/lib.macosx-11.0-arm64-3.11/numpy/random/tests\n",
      "  \u001b[31m   \u001b[0m copying numpy/random/tests/test_generator_mt19937.py -> build/lib.macosx-11.0-arm64-3.11/numpy/random/tests\n",
      "  \u001b[31m   \u001b[0m copying numpy/random/tests/test_randomstate.py -> build/lib.macosx-11.0-arm64-3.11/numpy/random/tests\n",
      "  \u001b[31m   \u001b[0m copying numpy/random/tests/test_direct.py -> build/lib.macosx-11.0-arm64-3.11/numpy/random/tests\n",
      "  \u001b[31m   \u001b[0m copying numpy/random/tests/test_extending.py -> build/lib.macosx-11.0-arm64-3.11/numpy/random/tests\n",
      "  \u001b[31m   \u001b[0m copying numpy/random/tests/__init__.py -> build/lib.macosx-11.0-arm64-3.11/numpy/random/tests\n",
      "  \u001b[31m   \u001b[0m copying numpy/random/tests/test_smoke.py -> build/lib.macosx-11.0-arm64-3.11/numpy/random/tests\n",
      "  \u001b[31m   \u001b[0m copying numpy/random/tests/test_randomstate_regression.py -> build/lib.macosx-11.0-arm64-3.11/numpy/random/tests\n",
      "  \u001b[31m   \u001b[0m copying numpy/random/tests/test_seed_sequence.py -> build/lib.macosx-11.0-arm64-3.11/numpy/random/tests\n",
      "  \u001b[31m   \u001b[0m copying numpy/random/tests/test_generator_mt19937_regressions.py -> build/lib.macosx-11.0-arm64-3.11/numpy/random/tests\n",
      "  \u001b[31m   \u001b[0m copying numpy/random/tests/test_random.py -> build/lib.macosx-11.0-arm64-3.11/numpy/random/tests\n",
      "  \u001b[31m   \u001b[0m copying numpy/random/tests/test_regression.py -> build/lib.macosx-11.0-arm64-3.11/numpy/random/tests\n",
      "  \u001b[31m   \u001b[0m creating build/lib.macosx-11.0-arm64-3.11/numpy/testing\n",
      "  \u001b[31m   \u001b[0m copying numpy/testing/__init__.py -> build/lib.macosx-11.0-arm64-3.11/numpy/testing\n",
      "  \u001b[31m   \u001b[0m copying numpy/testing/setup.py -> build/lib.macosx-11.0-arm64-3.11/numpy/testing\n",
      "  \u001b[31m   \u001b[0m copying numpy/testing/utils.py -> build/lib.macosx-11.0-arm64-3.11/numpy/testing\n",
      "  \u001b[31m   \u001b[0m copying numpy/testing/print_coercion_tables.py -> build/lib.macosx-11.0-arm64-3.11/numpy/testing\n",
      "  \u001b[31m   \u001b[0m creating build/lib.macosx-11.0-arm64-3.11/numpy/testing/_private\n",
      "  \u001b[31m   \u001b[0m copying numpy/testing/_private/nosetester.py -> build/lib.macosx-11.0-arm64-3.11/numpy/testing/_private\n",
      "  \u001b[31m   \u001b[0m copying numpy/testing/_private/__init__.py -> build/lib.macosx-11.0-arm64-3.11/numpy/testing/_private\n",
      "  \u001b[31m   \u001b[0m copying numpy/testing/_private/noseclasses.py -> build/lib.macosx-11.0-arm64-3.11/numpy/testing/_private\n",
      "  \u001b[31m   \u001b[0m copying numpy/testing/_private/utils.py -> build/lib.macosx-11.0-arm64-3.11/numpy/testing/_private\n",
      "  \u001b[31m   \u001b[0m copying numpy/testing/_private/parameterized.py -> build/lib.macosx-11.0-arm64-3.11/numpy/testing/_private\n",
      "  \u001b[31m   \u001b[0m copying numpy/testing/_private/decorators.py -> build/lib.macosx-11.0-arm64-3.11/numpy/testing/_private\n",
      "  \u001b[31m   \u001b[0m creating build/lib.macosx-11.0-arm64-3.11/numpy/testing/tests\n",
      "  \u001b[31m   \u001b[0m copying numpy/testing/tests/test_utils.py -> build/lib.macosx-11.0-arm64-3.11/numpy/testing/tests\n",
      "  \u001b[31m   \u001b[0m copying numpy/testing/tests/test_decorators.py -> build/lib.macosx-11.0-arm64-3.11/numpy/testing/tests\n",
      "  \u001b[31m   \u001b[0m copying numpy/testing/tests/__init__.py -> build/lib.macosx-11.0-arm64-3.11/numpy/testing/tests\n",
      "  \u001b[31m   \u001b[0m copying numpy/testing/tests/test_doctesting.py -> build/lib.macosx-11.0-arm64-3.11/numpy/testing/tests\n",
      "  \u001b[31m   \u001b[0m creating build/lib.macosx-11.0-arm64-3.11/numpy/tests\n",
      "  \u001b[31m   \u001b[0m copying numpy/tests/test_warnings.py -> build/lib.macosx-11.0-arm64-3.11/numpy/tests\n",
      "  \u001b[31m   \u001b[0m copying numpy/tests/test_matlib.py -> build/lib.macosx-11.0-arm64-3.11/numpy/tests\n",
      "  \u001b[31m   \u001b[0m copying numpy/tests/test_ctypeslib.py -> build/lib.macosx-11.0-arm64-3.11/numpy/tests\n",
      "  \u001b[31m   \u001b[0m copying numpy/tests/test_numpy_version.py -> build/lib.macosx-11.0-arm64-3.11/numpy/tests\n",
      "  \u001b[31m   \u001b[0m copying numpy/tests/__init__.py -> build/lib.macosx-11.0-arm64-3.11/numpy/tests\n",
      "  \u001b[31m   \u001b[0m copying numpy/tests/test_reloading.py -> build/lib.macosx-11.0-arm64-3.11/numpy/tests\n",
      "  \u001b[31m   \u001b[0m copying numpy/tests/test_public_api.py -> build/lib.macosx-11.0-arm64-3.11/numpy/tests\n",
      "  \u001b[31m   \u001b[0m copying numpy/tests/test_scripts.py -> build/lib.macosx-11.0-arm64-3.11/numpy/tests\n",
      "  \u001b[31m   \u001b[0m running build_clib\n",
      "  \u001b[31m   \u001b[0m customize UnixCCompiler\n",
      "  \u001b[31m   \u001b[0m customize UnixCCompiler using new_build_clib\n",
      "  \u001b[31m   \u001b[0m building 'npymath' library\n",
      "  \u001b[31m   \u001b[0m compiling C sources\n",
      "  \u001b[31m   \u001b[0m C compiler: clang -DNDEBUG -fwrapv -O2 -Wall -fPIC -O2 -isystem /opt/anaconda3/include -arch arm64 -fPIC -O2 -isystem /opt/anaconda3/include -arch arm64\n",
      "  \u001b[31m   \u001b[0m \n",
      "  \u001b[31m   \u001b[0m creating build/temp.macosx-11.0-arm64-3.11\n",
      "  \u001b[31m   \u001b[0m creating build/temp.macosx-11.0-arm64-3.11/numpy\n",
      "  \u001b[31m   \u001b[0m creating build/temp.macosx-11.0-arm64-3.11/numpy/core\n",
      "  \u001b[31m   \u001b[0m creating build/temp.macosx-11.0-arm64-3.11/numpy/core/src\n",
      "  \u001b[31m   \u001b[0m creating build/temp.macosx-11.0-arm64-3.11/numpy/core/src/npymath\n",
      "  \u001b[31m   \u001b[0m creating build/temp.macosx-11.0-arm64-3.11/build\n",
      "  \u001b[31m   \u001b[0m creating build/temp.macosx-11.0-arm64-3.11/build/src.macosx-11.0-arm64-3.11\n",
      "  \u001b[31m   \u001b[0m creating build/temp.macosx-11.0-arm64-3.11/build/src.macosx-11.0-arm64-3.11/numpy\n",
      "  \u001b[31m   \u001b[0m creating build/temp.macosx-11.0-arm64-3.11/build/src.macosx-11.0-arm64-3.11/numpy/core\n",
      "  \u001b[31m   \u001b[0m creating build/temp.macosx-11.0-arm64-3.11/build/src.macosx-11.0-arm64-3.11/numpy/core/src\n",
      "  \u001b[31m   \u001b[0m creating build/temp.macosx-11.0-arm64-3.11/build/src.macosx-11.0-arm64-3.11/numpy/core/src/npymath\n",
      "  \u001b[31m   \u001b[0m compile options: '-Ibuild/src.macosx-11.0-arm64-3.11/numpy/core/src/npymath -Inumpy/core/include -Ibuild/src.macosx-11.0-arm64-3.11/numpy/core/include/numpy -Inumpy/core/src/common -Inumpy/core/src -Inumpy/core -Inumpy/core/src/npymath -Inumpy/core/src/multiarray -Inumpy/core/src/umath -Inumpy/core/src/npysort -I/opt/anaconda3/include/python3.11 -Ibuild/src.macosx-11.0-arm64-3.11/numpy/core/src/common -Ibuild/src.macosx-11.0-arm64-3.11/numpy/core/src/npymath -c'\n",
      "  \u001b[31m   \u001b[0m clang: numpy/core/src/npymath/npy_math.cclang: build/src.macosx-11.0-arm64-3.11/numpy/core/src/npymath/ieee754.c\n",
      "  \u001b[31m   \u001b[0m \n",
      "  \u001b[31m   \u001b[0m clang: build/src.macosx-11.0-arm64-3.11/numpy/core/src/npymath/npy_math_complex.c\n",
      "  \u001b[31m   \u001b[0m clang: numpy/core/src/npymath/halffloat.c\n",
      "  \u001b[31m   \u001b[0m In file included from numpy/core/src/npymath/npy_math.c:9:\n",
      "  \u001b[31m   \u001b[0m numpy/core/src/npymath/npy_math_internal.h.src:490:21: warning: incompatible pointer types passing 'npy_longdouble *' (aka 'double *') to parameter of type 'long double *' [-Wincompatible-pointer-types]\n",
      "  \u001b[31m   \u001b[0m     return modfl(x, iptr);\n",
      "  \u001b[31m   \u001b[0m                     ^~~~\n",
      "  \u001b[31m   \u001b[0m /Library/Developer/CommandLineTools/SDKs/MacOSX.sdk/usr/include/math.h:394:52: note: passing argument to parameter here\n",
      "  \u001b[31m   \u001b[0m extern long double modfl(long double, long double *);\n",
      "  \u001b[31m   \u001b[0m                                                    ^\n",
      "  \u001b[31m   \u001b[0m 1 warning generated.\n",
      "  \u001b[31m   \u001b[0m ar: adding 4 object files to build/temp.macosx-11.0-arm64-3.11/libnpymath.a\n",
      "  \u001b[31m   \u001b[0m ranlib:@ build/temp.macosx-11.0-arm64-3.11/libnpymath.a\n",
      "  \u001b[31m   \u001b[0m building 'npysort' library\n",
      "  \u001b[31m   \u001b[0m compiling C sources\n",
      "  \u001b[31m   \u001b[0m C compiler: clang -DNDEBUG -fwrapv -O2 -Wall -fPIC -O2 -isystem /opt/anaconda3/include -arch arm64 -fPIC -O2 -isystem /opt/anaconda3/include -arch arm64\n",
      "  \u001b[31m   \u001b[0m \n",
      "  \u001b[31m   \u001b[0m creating build/temp.macosx-11.0-arm64-3.11/build/src.macosx-11.0-arm64-3.11/numpy/core/src/npysort\n",
      "  \u001b[31m   \u001b[0m compile options: '-Ibuild/src.macosx-11.0-arm64-3.11/numpy/core/src/common -Inumpy/core/include -Ibuild/src.macosx-11.0-arm64-3.11/numpy/core/include/numpy -Inumpy/core/src/common -Inumpy/core/src -Inumpy/core -Inumpy/core/src/npymath -Inumpy/core/src/multiarray -Inumpy/core/src/umath -Inumpy/core/src/npysort -I/opt/anaconda3/include/python3.11 -Ibuild/src.macosx-11.0-arm64-3.11/numpy/core/src/common -Ibuild/src.macosx-11.0-arm64-3.11/numpy/core/src/npymath -c'\n",
      "  \u001b[31m   \u001b[0m clang: build/src.macosx-11.0-arm64-3.11/numpy/core/src/npysort/quicksort.c\n",
      "  \u001b[31m   \u001b[0m clang: build/src.macosx-11.0-arm64-3.11/numpy/core/src/npysort/timsort.c\n",
      "  \u001b[31m   \u001b[0m clang: build/src.macosx-11.0-arm64-3.11/numpy/core/src/npysort/mergesort.c\n",
      "  \u001b[31m   \u001b[0m clang: build/src.macosx-11.0-arm64-3.11/numpy/core/src/npysort/heapsort.c\n",
      "  \u001b[31m   \u001b[0m clang: build/src.macosx-11.0-arm64-3.11/numpy/core/src/npysort/radixsort.c\n",
      "  \u001b[31m   \u001b[0m clang: build/src.macosx-11.0-arm64-3.11/numpy/core/src/npysort/selection.c\n",
      "  \u001b[31m   \u001b[0m clang: build/src.macosx-11.0-arm64-3.11/numpy/core/src/npysort/binsearch.c\n",
      "  \u001b[31m   \u001b[0m ar: adding 7 object files to build/temp.macosx-11.0-arm64-3.11/libnpysort.a\n",
      "  \u001b[31m   \u001b[0m ranlib:@ build/temp.macosx-11.0-arm64-3.11/libnpysort.a\n",
      "  \u001b[31m   \u001b[0m building 'npyrandom' library\n",
      "  \u001b[31m   \u001b[0m compiling C sources\n",
      "  \u001b[31m   \u001b[0m C compiler: clang -DNDEBUG -fwrapv -O2 -Wall -fPIC -O2 -isystem /opt/anaconda3/include -arch arm64 -fPIC -O2 -isystem /opt/anaconda3/include -arch arm64\n",
      "  \u001b[31m   \u001b[0m \n",
      "  \u001b[31m   \u001b[0m creating build/temp.macosx-11.0-arm64-3.11/numpy/random\n",
      "  \u001b[31m   \u001b[0m creating build/temp.macosx-11.0-arm64-3.11/numpy/random/src\n",
      "  \u001b[31m   \u001b[0m creating build/temp.macosx-11.0-arm64-3.11/numpy/random/src/distributions\n",
      "  \u001b[31m   \u001b[0m compile options: '-Inumpy/core/include -Ibuild/src.macosx-11.0-arm64-3.11/numpy/core/include/numpy -Inumpy/core/src/common -Inumpy/core/src -Inumpy/core -Inumpy/core/src/npymath -Inumpy/core/src/multiarray -Inumpy/core/src/umath -Inumpy/core/src/npysort -I/opt/anaconda3/include/python3.11 -Ibuild/src.macosx-11.0-arm64-3.11/numpy/core/src/common -Ibuild/src.macosx-11.0-arm64-3.11/numpy/core/src/npymath -c'\n",
      "  \u001b[31m   \u001b[0m clang: numpy/random/src/distributions/logfactorial.cclang: numpy/random/src/distributions/distributions.c\n",
      "  \u001b[31m   \u001b[0m \n",
      "  \u001b[31m   \u001b[0m clang: numpy/random/src/distributions/random_mvhg_count.c\n",
      "  \u001b[31m   \u001b[0m clang: numpy/random/src/distributions/random_hypergeometric.c\n",
      "  \u001b[31m   \u001b[0m clang: numpy/random/src/distributions/random_mvhg_marginals.c\n",
      "  \u001b[31m   \u001b[0m ar: adding 5 object files to build/temp.macosx-11.0-arm64-3.11/libnpyrandom.a\n",
      "  \u001b[31m   \u001b[0m ranlib:@ build/temp.macosx-11.0-arm64-3.11/libnpyrandom.a\n",
      "  \u001b[31m   \u001b[0m running build_ext\n",
      "  \u001b[31m   \u001b[0m customize UnixCCompiler\n",
      "  \u001b[31m   \u001b[0m customize UnixCCompiler using new_build_ext\n",
      "  \u001b[31m   \u001b[0m building 'numpy.core._multiarray_tests' extension\n",
      "  \u001b[31m   \u001b[0m compiling C sources\n",
      "  \u001b[31m   \u001b[0m C compiler: clang -DNDEBUG -fwrapv -O2 -Wall -fPIC -O2 -isystem /opt/anaconda3/include -arch arm64 -fPIC -O2 -isystem /opt/anaconda3/include -arch arm64\n",
      "  \u001b[31m   \u001b[0m \n",
      "  \u001b[31m   \u001b[0m creating build/temp.macosx-11.0-arm64-3.11/build/src.macosx-11.0-arm64-3.11/numpy/core/src/multiarray\n",
      "  \u001b[31m   \u001b[0m creating build/temp.macosx-11.0-arm64-3.11/numpy/core/src/common\n",
      "  \u001b[31m   \u001b[0m compile options: '-DNPY_INTERNAL_BUILD=1 -DHAVE_NPY_CONFIG_H=1 -D_FILE_OFFSET_BITS=64 -D_LARGEFILE_SOURCE=1 -D_LARGEFILE64_SOURCE=1 -Inumpy/core/include -Ibuild/src.macosx-11.0-arm64-3.11/numpy/core/include/numpy -Inumpy/core/src/common -Inumpy/core/src -Inumpy/core -Inumpy/core/src/npymath -Inumpy/core/src/multiarray -Inumpy/core/src/umath -Inumpy/core/src/npysort -I/opt/anaconda3/include/python3.11 -Ibuild/src.macosx-11.0-arm64-3.11/numpy/core/src/common -Ibuild/src.macosx-11.0-arm64-3.11/numpy/core/src/npymath -c'\n",
      "  \u001b[31m   \u001b[0m clang: build/src.macosx-11.0-arm64-3.11/numpy/core/src/multiarray/_multiarray_tests.cclang: numpy/core/src/common/mem_overlap.c\n",
      "  \u001b[31m   \u001b[0m \n",
      "  \u001b[31m   \u001b[0m In file included from numpy/core/src/multiarray/_multiarray_tests.c.src:7:\n",
      "  \u001b[31m   \u001b[0m In file included from numpy/core/include/numpy/npy_math.h:596:\n",
      "  \u001b[31m   \u001b[0m numpy/core/src/npymath/npy_math_internal.h.src:490:21: warning: incompatible pointer types passing 'npy_longdouble *' (aka 'double *') to parameter of type 'long double *' [-Wincompatible-pointer-types]\n",
      "  \u001b[31m   \u001b[0m     return modfl(x, iptr);\n",
      "  \u001b[31m   \u001b[0m                     ^~~~\n",
      "  \u001b[31m   \u001b[0m /Library/Developer/CommandLineTools/SDKs/MacOSX.sdk/usr/include/math.h:394:52: note: passing argument to parameter here\n",
      "  \u001b[31m   \u001b[0m extern long double modfl(long double, long double *);\n",
      "  \u001b[31m   \u001b[0m                                                    ^\n",
      "  \u001b[31m   \u001b[0m numpy/core/src/multiarray/_multiarray_tests.c.src:1895:61: warning: format specifies type 'long double' but the argument has type 'npy_longdouble' (aka 'double') [-Wformat]\n",
      "  \u001b[31m   \u001b[0m         PyOS_snprintf(str, sizeof(str), \"%.*Lg\", precision, x);\n",
      "  \u001b[31m   \u001b[0m                                          ~~~~~              ^\n",
      "  \u001b[31m   \u001b[0m                                          %.*g\n",
      "  \u001b[31m   \u001b[0m 2 warnings generated.\n",
      "  \u001b[31m   \u001b[0m clang -bundle -undefined dynamic_lookup -Wl,-rpath,/opt/anaconda3/lib -L/opt/anaconda3/lib -Wl,-rpath,/opt/anaconda3/lib -L/opt/anaconda3/lib build/temp.macosx-11.0-arm64-3.11/build/src.macosx-11.0-arm64-3.11/numpy/core/src/multiarray/_multiarray_tests.o build/temp.macosx-11.0-arm64-3.11/numpy/core/src/common/mem_overlap.o -Lbuild/temp.macosx-11.0-arm64-3.11 -lnpymath -o build/lib.macosx-11.0-arm64-3.11/numpy/core/_multiarray_tests.cpython-311-darwin.so\n",
      "  \u001b[31m   \u001b[0m building 'numpy.core._multiarray_umath' extension\n",
      "  \u001b[31m   \u001b[0m compiling C sources\n",
      "  \u001b[31m   \u001b[0m C compiler: clang -DNDEBUG -fwrapv -O2 -Wall -fPIC -O2 -isystem /opt/anaconda3/include -arch arm64 -fPIC -O2 -isystem /opt/anaconda3/include -arch arm64\n",
      "  \u001b[31m   \u001b[0m \n",
      "  \u001b[31m   \u001b[0m creating build/temp.macosx-11.0-arm64-3.11/numpy/core/src/multiarray\n",
      "  \u001b[31m   \u001b[0m creating build/temp.macosx-11.0-arm64-3.11/numpy/core/src/umath\n",
      "  \u001b[31m   \u001b[0m creating build/temp.macosx-11.0-arm64-3.11/build/src.macosx-11.0-arm64-3.11/numpy/core/src/umath\n",
      "  \u001b[31m   \u001b[0m creating build/temp.macosx-11.0-arm64-3.11/build/src.macosx-11.0-arm64-3.11/numpy/core/src/common\n",
      "  \u001b[31m   \u001b[0m compile options: '-DNPY_INTERNAL_BUILD=1 -DHAVE_NPY_CONFIG_H=1 -D_FILE_OFFSET_BITS=64 -D_LARGEFILE_SOURCE=1 -D_LARGEFILE64_SOURCE=1 -DHAVE_CBLAS -Ibuild/src.macosx-11.0-arm64-3.11/numpy/core/src/umath -Ibuild/src.macosx-11.0-arm64-3.11/numpy/core/src/npymath -Ibuild/src.macosx-11.0-arm64-3.11/numpy/core/src/common -Inumpy/core/include -Ibuild/src.macosx-11.0-arm64-3.11/numpy/core/include/numpy -Inumpy/core/src/common -Inumpy/core/src -Inumpy/core -Inumpy/core/src/npymath -Inumpy/core/src/multiarray -Inumpy/core/src/umath -Inumpy/core/src/npysort -I/opt/anaconda3/include/python3.11 -Ibuild/src.macosx-11.0-arm64-3.11/numpy/core/src/common -Ibuild/src.macosx-11.0-arm64-3.11/numpy/core/src/npymath -c'\n",
      "  \u001b[31m   \u001b[0m clang: numpy/core/src/multiarray/alloc.cclang: numpy/core/src/multiarray/array_assign_scalar.c\n",
      "  \u001b[31m   \u001b[0m clang: numpy/core/src/multiarray/buffer.c\n",
      "  \u001b[31m   \u001b[0m clang: numpy/core/src/multiarray/common.c\n",
      "  \u001b[31m   \u001b[0m clang: numpy/core/src/multiarray/conversion_utils.c\n",
      "  \u001b[31m   \u001b[0m \n",
      "  \u001b[31m   \u001b[0m clang: numpy/core/src/multiarray/datetime_strings.c\n",
      "  \u001b[31m   \u001b[0m clang: build/src.macosx-11.0-arm64-3.11/numpy/core/src/multiarray/einsum.c\n",
      "  \u001b[31m   \u001b[0m clang: numpy/core/src/multiarray/descriptor.c\n",
      "  \u001b[31m   \u001b[0m In file included from numpy/core/src/multiarray/einsum.c.src:19:\n",
      "  \u001b[31m   \u001b[0m In file included from numpy/core/include/numpy/halffloat.h:5:\n",
      "  \u001b[31m   \u001b[0m In file included from numpy/core/include/numpy/npy_math.h:596:\n",
      "  \u001b[31m   \u001b[0m numpy/core/src/npymath/npy_math_internal.h.src:490:21: warning: incompatible pointer types passing 'npy_longdouble *' (aka 'double *') to parameter of type 'long double *' [-Wincompatible-pointer-types]\n",
      "  \u001b[31m   \u001b[0m     return modfl(x, iptr);\n",
      "  \u001b[31m   \u001b[0m                     ^~~~\n",
      "  \u001b[31m   \u001b[0m /Library/Developer/CommandLineTools/SDKs/MacOSX.sdk/usr/include/math.h:394:52: note: passing argument to parameter here\n",
      "  \u001b[31m   \u001b[0m extern long double modfl(long double, long double *);\n",
      "  \u001b[31m   \u001b[0m                                                    ^\n",
      "  \u001b[31m   \u001b[0m clang: numpy/core/src/multiarray/arrayobject.c\n",
      "  \u001b[31m   \u001b[0m numpy/core/src/multiarray/einsum.c.src:2158:32: warning: unknown warning group '-Wmaybe-uninitialized', ignored [-Wunknown-warning-option]\n",
      "  \u001b[31m   \u001b[0m #pragma GCC diagnostic ignored \"-Wmaybe-uninitialized\"\n",
      "  \u001b[31m   \u001b[0m                                ^\n",
      "  \u001b[31m   \u001b[0m clang: numpy/core/src/multiarray/array_assign_array.c\n",
      "  \u001b[31m   \u001b[0m clang: numpy/core/src/multiarray/convert.c\n",
      "  \u001b[31m   \u001b[0m clang: numpy/core/src/multiarray/ctors.c\n",
      "  \u001b[31m   \u001b[0m clang: numpy/core/src/multiarray/calculation.c\n",
      "  \u001b[31m   \u001b[0m clang: numpy/core/src/multiarray/datetime_busday.c\n",
      "  \u001b[31m   \u001b[0m In file included from numpy/core/src/multiarray/ctors.c:10:\n",
      "  \u001b[31m   \u001b[0m In file included from numpy/core/include/numpy/npy_math.h:596:\n",
      "  \u001b[31m   \u001b[0m numpy/core/src/npymath/npy_math_internal.h.src:490:21: warning: incompatible pointer types passing 'npy_longdouble *' (aka 'double *') to parameter of type 'long double *' [-Wincompatible-pointer-types]\n",
      "  \u001b[31m   \u001b[0m     return modfl(x, iptr);\n",
      "  \u001b[31m   \u001b[0m                     ^~~~\n",
      "  \u001b[31m   \u001b[0m /Library/Developer/CommandLineTools/SDKs/MacOSX.sdk/usr/include/math.h:394:52: note: passing argument to parameter here\n",
      "  \u001b[31m   \u001b[0m extern long double modfl(long double, long double *);\n",
      "  \u001b[31m   \u001b[0m                                                    ^\n",
      "  \u001b[31m   \u001b[0m clang: numpy/core/src/multiarray/arrayfunction_override.c\n",
      "  \u001b[31m   \u001b[0m clang: numpy/core/src/multiarray/convert_datatype.c\n",
      "  \u001b[31m   \u001b[0m clang: numpy/core/src/multiarray/compiled_base.c\n",
      "  \u001b[31m   \u001b[0m clang: numpy/core/src/multiarray/datetime_busdaycal.c\n",
      "  \u001b[31m   \u001b[0m clang: numpy/core/src/multiarray/hashdescr.c\n",
      "  \u001b[31m   \u001b[0m clang: numpy/core/src/multiarray/dragon4.c\n",
      "  \u001b[31m   \u001b[0m In file included from numpy/core/src/multiarray/convert_datatype.c:13:\n",
      "  \u001b[31m   \u001b[0m In file included from numpy/core/include/numpy/npy_math.h:596:\n",
      "  \u001b[31m   \u001b[0m numpy/core/src/npymath/npy_math_internal.h.src:490:21: warning: incompatible pointer types passing 'npy_longdouble *' (aka 'double *') to parameter of type 'long double *' [-Wincompatible-pointer-types]\n",
      "  \u001b[31m   \u001b[0m     return modfl(x, iptr);\n",
      "  \u001b[31m   \u001b[0m                     ^~~~\n",
      "  \u001b[31m   \u001b[0m /Library/Developer/CommandLineTools/SDKs/MacOSX.sdk/usr/include/math.h:394:52: note: passing argument to parameter here\n",
      "  \u001b[31m   \u001b[0m extern long double modfl(long double, long double *);\n",
      "  \u001b[31m   \u001b[0m                                                    ^\n",
      "  \u001b[31m   \u001b[0m clang: build/src.macosx-11.0-arm64-3.11/numpy/core/src/multiarray/arraytypes.c\n",
      "  \u001b[31m   \u001b[0m In file included from numpy/core/src/multiarray/compiled_base.c:9:\n",
      "  \u001b[31m   \u001b[0m In file included from numpy/core/include/numpy/npy_math.h:596:\n",
      "  \u001b[31m   \u001b[0m numpy/core/src/npymath/npy_math_internal.h.src:490:21: warning: incompatible pointer types passing 'npy_longdouble *' (aka 'double *') to parameter of type 'long double *' [-Wincompatible-pointer-types]\n",
      "  \u001b[31m   \u001b[0m     return modfl(x, iptr);\n",
      "  \u001b[31m   \u001b[0m                     ^~~~\n",
      "  \u001b[31m   \u001b[0m /Library/Developer/CommandLineTools/SDKs/MacOSX.sdk/usr/include/math.h:394:52: note: passing argument to parameter here\n",
      "  \u001b[31m   \u001b[0m extern long double modfl(long double, long double *);\n",
      "  \u001b[31m   \u001b[0m                                                    ^\n",
      "  \u001b[31m   \u001b[0m clang: numpy/core/src/multiarray/item_selection.c\n",
      "  \u001b[31m   \u001b[0m clang: build/src.macosx-11.0-arm64-3.11/numpy/core/src/multiarray/lowlevel_strided_loops.c\n",
      "  \u001b[31m   \u001b[0m In file included from numpy/core/src/multiarray/arraytypes.c.src:16:\n",
      "  \u001b[31m   \u001b[0m In file included from numpy/core/include/numpy/npy_math.h:596:\n",
      "  \u001b[31m   \u001b[0m numpy/core/src/npymath/npy_math_internal.h.src:490:21: warning: incompatible pointer types passing 'npy_longdouble *' (aka 'double *') to parameter of type 'long double *' [-Wincompatible-pointer-types]\n",
      "  \u001b[31m   \u001b[0m     return modfl(x, iptr);\n",
      "  \u001b[31m   \u001b[0m                     ^~~~\n",
      "  \u001b[31m   \u001b[0m /Library/Developer/CommandLineTools/SDKs/MacOSX.sdk/usr/include/math.h:394:52: note: passing argument to parameter here\n",
      "  \u001b[31m   \u001b[0m extern long double modfl(long double, long double *);\n",
      "  \u001b[31m   \u001b[0m                                                    ^\n",
      "  \u001b[31m   \u001b[0m In file included from numpy/core/src/multiarray/item_selection.c:10:\n",
      "  \u001b[31m   \u001b[0m In file included from numpy/core/include/numpy/npy_math.h:596:\n",
      "  \u001b[31m   \u001b[0m numpy/core/src/npymath/npy_math_internal.h.src:490:21: warning: incompatible pointer types passing 'npy_longdouble *' (aka 'double *') to parameter of type 'long double *' [-Wincompatible-pointer-types]\n",
      "  \u001b[31m   \u001b[0m     return modfl(x, iptr);\n",
      "  \u001b[31m   \u001b[0m                     ^~~~\n",
      "  \u001b[31m   \u001b[0m /Library/Developer/CommandLineTools/SDKs/MacOSX.sdk/usr/include/math.h:394:52: note: passing argument to parameter here\n",
      "  \u001b[31m   \u001b[0m extern long double modfl(long double, long double *);\n",
      "  \u001b[31m   \u001b[0m                                                    ^\n",
      "  \u001b[31m   \u001b[0m In file included from numpy/core/src/multiarray/lowlevel_strided_loops.c.src:18:\n",
      "  \u001b[31m   \u001b[0m In file included from numpy/core/include/numpy/halffloat.h:5:\n",
      "  \u001b[31m   \u001b[0m In file included from numpy/core/include/numpy/npy_math.h:596:\n",
      "  \u001b[31m   \u001b[0m numpy/core/src/npymath/npy_math_internal.h.src:490:21: warning: incompatible pointer types passing 'npy_longdouble *' (aka 'double *') to parameter of type 'long double *' [-Wincompatible-pointer-types]\n",
      "  \u001b[31m   \u001b[0m     return modfl(x, iptr);\n",
      "  \u001b[31m   \u001b[0m                     ^~~~\n",
      "  \u001b[31m   \u001b[0m /Library/Developer/CommandLineTools/SDKs/MacOSX.sdk/usr/include/math.h:394:52: note: passing argument to parameter here\n",
      "  \u001b[31m   \u001b[0m extern long double modfl(long double, long double *);\n",
      "  \u001b[31m   \u001b[0m                                                    ^\n",
      "  \u001b[31m   \u001b[0m 1 warning generated.\n",
      "  \u001b[31m   \u001b[0m clang: numpy/core/src/multiarray/datetime.c\n",
      "  \u001b[31m   \u001b[0m 1 warning generated.\n",
      "  \u001b[31m   \u001b[0m clang: numpy/core/src/multiarray/multiarraymodule.c\n",
      "  \u001b[31m   \u001b[0m clang: numpy/core/src/multiarray/dtype_transfer.c\n",
      "  \u001b[31m   \u001b[0m In file included from numpy/core/src/multiarray/multiarraymodule.c:28:\n",
      "  \u001b[31m   \u001b[0m In file included from numpy/core/include/numpy/npy_math.h:596:\n",
      "  \u001b[31m   \u001b[0m numpy/core/src/npymath/npy_math_internal.h.src:490:21: warning: incompatible pointer types passing 'npy_longdouble *' (aka 'double *') to parameter of type 'long double *' [-Wincompatible-pointer-types]\n",
      "  \u001b[31m   \u001b[0m     return modfl(x, iptr);\n",
      "  \u001b[31m   \u001b[0m                     ^~~~\n",
      "  \u001b[31m   \u001b[0m /Library/Developer/CommandLineTools/SDKs/MacOSX.sdk/usr/include/math.h:394:52: note: passing argument to parameter here\n",
      "  \u001b[31m   \u001b[0m extern long double modfl(long double, long double *);\n",
      "  \u001b[31m   \u001b[0m                                                    ^\n",
      "  \u001b[31m   \u001b[0m 1 warning generated.\n",
      "  \u001b[31m   \u001b[0m clang: numpy/core/src/multiarray/nditer_constr.c\n",
      "  \u001b[31m   \u001b[0m 1 warning generated.\n",
      "  \u001b[31m   \u001b[0m clang: numpy/core/src/multiarray/iterators.c\n",
      "  \u001b[31m   \u001b[0m clang: numpy/core/src/multiarray/refcount.c\n",
      "  \u001b[31m   \u001b[0m clang: numpy/core/src/multiarray/sequence.c\n",
      "  \u001b[31m   \u001b[0m clang: numpy/core/src/multiarray/shape.c\n",
      "  \u001b[31m   \u001b[0m clang: numpy/core/src/multiarray/scalarapi.c\n",
      "  \u001b[31m   \u001b[0m In file included from numpy/core/src/multiarray/shape.c:10:\n",
      "  \u001b[31m   \u001b[0m In file included from numpy/core/include/numpy/npy_math.h:596:\n",
      "  \u001b[31m   \u001b[0m numpy/core/src/npymath/npy_math_internal.h.src:490:21: warning: incompatible pointer types passing 'npy_longdouble *' (aka 'double *') to parameter of type 'long double *' [-Wincompatible-pointer-types]\n",
      "  \u001b[31m   \u001b[0m     return modfl(x, iptr);\n",
      "  \u001b[31m   \u001b[0m                     ^~~~\n",
      "  \u001b[31m   \u001b[0m /Library/Developer/CommandLineTools/SDKs/MacOSX.sdk/usr/include/math.h:394:52: note: passing argument to parameter here\n",
      "  \u001b[31m   \u001b[0m extern long double modfl(long double, long double *);\n",
      "  \u001b[31m   \u001b[0m                                                    ^\n",
      "  \u001b[31m   \u001b[0m In file included from numpy/core/src/multiarray/scalarapi.c:10:\n",
      "  \u001b[31m   \u001b[0m In file included from numpy/core/include/numpy/npy_math.h:596:\n",
      "  \u001b[31m   \u001b[0m numpy/core/src/npymath/npy_math_internal.h.src:490:21: warning: incompatible pointer types passing 'npy_longdouble *' (aka 'double *') to parameter of type 'long double *' [-Wincompatible-pointer-types]\n",
      "  \u001b[31m   \u001b[0m     return modfl(x, iptr);\n",
      "  \u001b[31m   \u001b[0m                     ^~~~\n",
      "  \u001b[31m   \u001b[0m /Library/Developer/CommandLineTools/SDKs/MacOSX.sdk/usr/include/math.h:394:52: note: passing argument to parameter here\n",
      "  \u001b[31m   \u001b[0m extern long double modfl(long double, long double *);\n",
      "  \u001b[31m   \u001b[0m                                                    ^\n",
      "  \u001b[31m   \u001b[0m numpy/core/src/multiarray/scalarapi.c:759:38: warning: 'ob_shash' is deprecated [-Wdeprecated-declarations]\n",
      "  \u001b[31m   \u001b[0m             ((PyStringObject *)obj)->ob_shash = -1;\n",
      "  \u001b[31m   \u001b[0m                                      ^\n",
      "  \u001b[31m   \u001b[0m /opt/anaconda3/include/python3.11/cpython/bytesobject.h:7:5: note: 'ob_shash' has been explicitly marked deprecated here\n",
      "  \u001b[31m   \u001b[0m     Py_DEPRECATED(3.11) Py_hash_t ob_shash;\n",
      "  \u001b[31m   \u001b[0m     ^\n",
      "  \u001b[31m   \u001b[0m /opt/anaconda3/include/python3.11/pyport.h:336:54: note: expanded from macro 'Py_DEPRECATED'\n",
      "  \u001b[31m   \u001b[0m #define Py_DEPRECATED(VERSION_UNUSED) __attribute__((__deprecated__))\n",
      "  \u001b[31m   \u001b[0m                                                      ^\n",
      "  \u001b[31m   \u001b[0m clang: numpy/core/src/multiarray/temp_elide.c\n",
      "  \u001b[31m   \u001b[0m 2 warnings generated.\n",
      "  \u001b[31m   \u001b[0m clang: build/src.macosx-11.0-arm64-3.11/numpy/core/src/multiarray/scalartypes.c\n",
      "  \u001b[31m   \u001b[0m clang: numpy/core/src/multiarray/nditer_pywrap.c\n",
      "  \u001b[31m   \u001b[0m 1 warning generated.\n",
      "  \u001b[31m   \u001b[0m clang: numpy/core/src/multiarray/vdot.c\n",
      "  \u001b[31m   \u001b[0m clang: numpy/core/src/multiarray/typeinfo.c\n",
      "  \u001b[31m   \u001b[0m In file included from numpy/core/src/multiarray/scalartypes.c.src:12:\n",
      "  \u001b[31m   \u001b[0m In file included from numpy/core/include/numpy/npy_math.h:596:\n",
      "  \u001b[31m   \u001b[0m numpy/core/src/npymath/npy_math_internal.h.src:490:21: warning: incompatible pointer types passing 'npy_longdouble *' (aka 'double *') to parameter of type 'long double *' [-Wincompatible-pointer-types]\n",
      "  \u001b[31m   \u001b[0m     return modfl(x, iptr);\n",
      "  \u001b[31m   \u001b[0m                     ^~~~\n",
      "  \u001b[31m   \u001b[0m /Library/Developer/CommandLineTools/SDKs/MacOSX.sdk/usr/include/math.h:394:52: note: passing argument to parameter here\n",
      "  \u001b[31m   \u001b[0m extern long double modfl(long double, long double *);\n",
      "  \u001b[31m   \u001b[0m                                                    ^\n",
      "  \u001b[31m   \u001b[0m numpy/core/src/multiarray/scalartypes.c.src:1881:9: warning: variable 'i' set but not used [-Wunused-but-set-variable]\n",
      "  \u001b[31m   \u001b[0m     int i;\n",
      "  \u001b[31m   \u001b[0m         ^\n",
      "  \u001b[31m   \u001b[0m numpy/core/src/multiarray/scalartypes.c.src:1881:9: warning: variable 'i' set but not used [-Wunused-but-set-variable]\n",
      "  \u001b[31m   \u001b[0m     int i;\n",
      "  \u001b[31m   \u001b[0m         ^\n",
      "  \u001b[31m   \u001b[0m numpy/core/src/multiarray/scalartypes.c.src:1881:9: warning: variable 'i' set but not used [-Wunused-but-set-variable]\n",
      "  \u001b[31m   \u001b[0m     int i;\n",
      "  \u001b[31m   \u001b[0m         ^\n",
      "  \u001b[31m   \u001b[0m numpy/core/src/multiarray/scalartypes.c.src:1881:9: warning: variable 'i' set but not used [-Wunused-but-set-variable]\n",
      "  \u001b[31m   \u001b[0m     int i;\n",
      "  \u001b[31m   \u001b[0m         ^\n",
      "  \u001b[31m   \u001b[0m numpy/core/src/multiarray/scalartypes.c.src:2968:65: error: too few arguments to function call, expected 2, have 1\n",
      "  \u001b[31m   \u001b[0m     return _Py_HashDouble((double) PyArrayScalar_VAL(obj, Float));\n",
      "  \u001b[31m   \u001b[0m            ~~~~~~~~~~~~~~                                       ^\n",
      "  \u001b[31m   \u001b[0m /opt/anaconda3/include/python3.11/pyhash.h:10:23: note: '_Py_HashDouble' declared here\n",
      "  \u001b[31m   \u001b[0m PyAPI_FUNC(Py_hash_t) _Py_HashDouble(PyObject *, double);\n",
      "  \u001b[31m   \u001b[0m                       ^\n",
      "  \u001b[31m   \u001b[0m numpy/core/src/multiarray/scalartypes.c.src:2977:48: error: too few arguments to function call, expected 2, have 1\n",
      "  \u001b[31m   \u001b[0m             PyArrayScalar_VAL(obj, CFloat).real);\n",
      "  \u001b[31m   \u001b[0m                                                ^\n",
      "  \u001b[31m   \u001b[0m /opt/anaconda3/include/python3.11/pyhash.h:10:23: note: '_Py_HashDouble' declared here\n",
      "  \u001b[31m   \u001b[0m PyAPI_FUNC(Py_hash_t) _Py_HashDouble(PyObject *, double);\n",
      "  \u001b[31m   \u001b[0m                       ^\n",
      "  \u001b[31m   \u001b[0m numpy/core/src/multiarray/scalartypes.c.src:2983:48: error: too few arguments to function call, expected 2, have 1\n",
      "  \u001b[31m   \u001b[0m             PyArrayScalar_VAL(obj, CFloat).imag);\n",
      "  \u001b[31m   \u001b[0m                                                ^\n",
      "  \u001b[31m   \u001b[0m /opt/anaconda3/include/python3.11/pyhash.h:10:23: note: '_Py_HashDouble' declared here\n",
      "  \u001b[31m   \u001b[0m PyAPI_FUNC(Py_hash_t) _Py_HashDouble(PyObject *, double);\n",
      "  \u001b[31m   \u001b[0m                       ^\n",
      "  \u001b[31m   \u001b[0m numpy/core/src/multiarray/scalartypes.c.src:2968:70: error: too few arguments to function call, expected 2, have 1\n",
      "  \u001b[31m   \u001b[0m     return _Py_HashDouble((double) PyArrayScalar_VAL(obj, LongDouble));\n",
      "  \u001b[31m   \u001b[0m            ~~~~~~~~~~~~~~                                            ^\n",
      "  \u001b[31m   \u001b[0m /opt/anaconda3/include/python3.11/pyhash.h:10:23: note: '_Py_HashDouble' declared here\n",
      "  \u001b[31m   \u001b[0m PyAPI_FUNC(Py_hash_t) _Py_HashDouble(PyObject *, double);\n",
      "  \u001b[31m   \u001b[0m                       ^\n",
      "  \u001b[31m   \u001b[0m numpy/core/src/multiarray/scalartypes.c.src:2977:53: error: too few arguments to function call, expected 2, have 1\n",
      "  \u001b[31m   \u001b[0m             PyArrayScalar_VAL(obj, CLongDouble).real);\n",
      "  \u001b[31m   \u001b[0m                                                     ^\n",
      "  \u001b[31m   \u001b[0m /opt/anaconda3/include/python3.11/pyhash.h:10:23: note: '_Py_HashDouble' declared here\n",
      "  \u001b[31m   \u001b[0m PyAPI_FUNC(Py_hash_t) _Py_HashDouble(PyObject *, double);\n",
      "  \u001b[31m   \u001b[0m                       ^\n",
      "  \u001b[31m   \u001b[0m clang: numpy/core/src/multiarray/usertypes.c\n",
      "  \u001b[31m   \u001b[0m numpy/core/src/multiarray/scalartypes.c.src:2983:53: error: too few arguments to function call, expected 2, have 1\n",
      "  \u001b[31m   \u001b[0m             PyArrayScalar_VAL(obj, CLongDouble).imag);\n",
      "  \u001b[31m   \u001b[0m                                                     ^\n",
      "  \u001b[31m   \u001b[0m /opt/anaconda3/include/python3.11/pyhash.h:10:23: note: '_Py_HashDouble' declared here\n",
      "  \u001b[31m   \u001b[0m PyAPI_FUNC(Py_hash_t) _Py_HashDouble(PyObject *, double);\n",
      "  \u001b[31m   \u001b[0m                       ^\n",
      "  \u001b[31m   \u001b[0m numpy/core/src/multiarray/scalartypes.c.src:2998:75: error: too few arguments to function call, expected 2, have 1\n",
      "  \u001b[31m   \u001b[0m     return _Py_HashDouble(npy_half_to_double(PyArrayScalar_VAL(obj, Half)));\n",
      "  \u001b[31m   \u001b[0m            ~~~~~~~~~~~~~~                                                 ^\n",
      "  \u001b[31m   \u001b[0m /opt/anaconda3/include/python3.11/pyhash.h:10:23: note: '_Py_HashDouble' declared here\n",
      "  \u001b[31m   \u001b[0m PyAPI_FUNC(Py_hash_t) _Py_HashDouble(PyObject *, double);\n",
      "  \u001b[31m   \u001b[0m                       ^\n",
      "  \u001b[31m   \u001b[0m clang: numpy/core/src/umath/umathmodule.c\n",
      "  \u001b[31m   \u001b[0m 5 warnings and 7 errors generated.\n",
      "  \u001b[31m   \u001b[0m clang: build/src.macosx-11.0-arm64-3.11/numpy/core/src/umath/loops.c\n",
      "  \u001b[31m   \u001b[0m In file included from numpy/core/src/umath/umathmodule.c:27:\n",
      "  \u001b[31m   \u001b[0m In file included from numpy/core/include/numpy/ufuncobject.h:4:\n",
      "  \u001b[31m   \u001b[0m In file included from numpy/core/include/numpy/npy_math.h:596:\n",
      "  \u001b[31m   \u001b[0m numpy/core/src/npymath/npy_math_internal.h.src:490:21: warning: incompatible pointer types passing 'npy_longdouble *' (aka 'double *') to parameter of type 'long double *' [-Wincompatible-pointer-types]\n",
      "  \u001b[31m   \u001b[0m     return modfl(x, iptr);\n",
      "  \u001b[31m   \u001b[0m                     ^~~~\n",
      "  \u001b[31m   \u001b[0m /Library/Developer/CommandLineTools/SDKs/MacOSX.sdk/usr/include/math.h:394:52: note: passing argument to parameter here\n",
      "  \u001b[31m   \u001b[0m extern long double modfl(long double, long double *);\n",
      "  \u001b[31m   \u001b[0m                                                    ^\n",
      "  \u001b[31m   \u001b[0m In file included from numpy/core/src/umath/loops.c.src:12:\n",
      "  \u001b[31m   \u001b[0m In file included from numpy/core/include/numpy/ufuncobject.h:4:\n",
      "  \u001b[31m   \u001b[0m In file included from numpy/core/include/numpy/npy_math.h:596:\n",
      "  \u001b[31m   \u001b[0m numpy/core/src/npymath/npy_math_internal.h.src:490:21: warning: incompatible pointer types passing 'npy_longdouble *' (aka 'double *') to parameter of type 'long double *' [-Wincompatible-pointer-types]\n",
      "  \u001b[31m   \u001b[0m     return modfl(x, iptr);\n",
      "  \u001b[31m   \u001b[0m                     ^~~~\n",
      "  \u001b[31m   \u001b[0m /Library/Developer/CommandLineTools/SDKs/MacOSX.sdk/usr/include/math.h:394:52: note: passing argument to parameter here\n",
      "  \u001b[31m   \u001b[0m extern long double modfl(long double, long double *);\n",
      "  \u001b[31m   \u001b[0m                                                    ^\n",
      "  \u001b[31m   \u001b[0m clang: numpy/core/src/umath/ufunc_object.c\n",
      "  \u001b[31m   \u001b[0m 1 warning generated.\n",
      "  \u001b[31m   \u001b[0m clang: numpy/core/src/umath/reduction.c\n",
      "  \u001b[31m   \u001b[0m clang: numpy/core/src/multiarray/number.c\n",
      "  \u001b[31m   \u001b[0m In file included from numpy/core/src/umath/ufunc_object.c:37:\n",
      "  \u001b[31m   \u001b[0m In file included from numpy/core/include/numpy/ufuncobject.h:4:\n",
      "  \u001b[31m   \u001b[0m In file included from numpy/core/include/numpy/npy_math.h:596:\n",
      "  \u001b[31m   \u001b[0m numpy/core/src/npymath/npy_math_internal.h.src:490:21: warning: incompatible pointer types passing 'npy_longdouble *' (aka 'double *') to parameter of type 'long double *' [-Wincompatible-pointer-types]\n",
      "  \u001b[31m   \u001b[0m     return modfl(x, iptr);\n",
      "  \u001b[31m   \u001b[0m                     ^~~~\n",
      "  \u001b[31m   \u001b[0m /Library/Developer/CommandLineTools/SDKs/MacOSX.sdk/usr/include/math.h:394:52: note: passing argument to parameter here\n",
      "  \u001b[31m   \u001b[0m extern long double modfl(long double, long double *);\n",
      "  \u001b[31m   \u001b[0m                                                    ^\n",
      "  \u001b[31m   \u001b[0m In file included from numpy/core/src/umath/reduction.c:23:\n",
      "  \u001b[31m   \u001b[0m In file included from numpy/core/include/numpy/ufuncobject.h:4:\n",
      "  \u001b[31m   \u001b[0m In file included from numpy/core/include/numpy/npy_math.h:596:\n",
      "  \u001b[31m   \u001b[0m numpy/core/src/npymath/npy_math_internal.h.src:490:21: warning: incompatible pointer types passing 'npy_longdouble *' (aka 'double *') to parameter of type 'long double *' [-Wincompatible-pointer-types]\n",
      "  \u001b[31m   \u001b[0m     return modfl(x, iptr);\n",
      "  \u001b[31m   \u001b[0m                     ^~~~\n",
      "  \u001b[31m   \u001b[0m /Library/Developer/CommandLineTools/SDKs/MacOSX.sdk/usr/include/math.h:394:52: note: passing argument to parameter here\n",
      "  \u001b[31m   \u001b[0m extern long double modfl(long double, long double *);\n",
      "  \u001b[31m   \u001b[0m                                                    ^\n",
      "  \u001b[31m   \u001b[0m 1 warning generated.\n",
      "  \u001b[31m   \u001b[0m 1 warning generated.\n",
      "  \u001b[31m   \u001b[0m clang: numpy/core/src/umath/ufunc_type_resolution.c\n",
      "  \u001b[31m   \u001b[0m clang: build/src.macosx-11.0-arm64-3.11/numpy/core/src/multiarray/nditer_templ.c\n",
      "  \u001b[31m   \u001b[0m In file included from numpy/core/src/umath/ufunc_type_resolution.c:23:\n",
      "  \u001b[31m   \u001b[0m In file included from numpy/core/include/numpy/ufuncobject.h:4:\n",
      "  \u001b[31m   \u001b[0m In file included from numpy/core/include/numpy/npy_math.h:596:\n",
      "  \u001b[31m   \u001b[0m numpy/core/src/npymath/npy_math_internal.h.src:490:21: warning: incompatible pointer types passing 'npy_longdouble *' (aka 'double *') to parameter of type 'long double *' [-Wincompatible-pointer-types]\n",
      "  \u001b[31m   \u001b[0m     return modfl(x, iptr);\n",
      "  \u001b[31m   \u001b[0m                     ^~~~\n",
      "  \u001b[31m   \u001b[0m /Library/Developer/CommandLineTools/SDKs/MacOSX.sdk/usr/include/math.h:394:52: note: passing argument to parameter here\n",
      "  \u001b[31m   \u001b[0m extern long double modfl(long double, long double *);\n",
      "  \u001b[31m   \u001b[0m                                                    ^\n",
      "  \u001b[31m   \u001b[0m clang: build/src.macosx-11.0-arm64-3.11/numpy/core/src/npymath/ieee754.c\n",
      "  \u001b[31m   \u001b[0m In file included from numpy/core/src/npymath/ieee754.c.src:7:\n",
      "  \u001b[31m   \u001b[0m In file included from numpy/core/src/npymath/npy_math_common.h:9:\n",
      "  \u001b[31m   \u001b[0m In file included from numpy/core/include/numpy/npy_math.h:596:\n",
      "  \u001b[31m   \u001b[0m numpy/core/src/npymath/npy_math_internal.h.src:490:21: warning: incompatible pointer types passing 'npy_longdouble *' (aka 'double *') to parameter of type 'long double *' [-Wincompatible-pointer-types]\n",
      "  \u001b[31m   \u001b[0m     return modfl(x, iptr);\n",
      "  \u001b[31m   \u001b[0m                     ^~~~\n",
      "  \u001b[31m   \u001b[0m /Library/Developer/CommandLineTools/SDKs/MacOSX.sdk/usr/include/math.h:394:52: note: passing argument to parameter here\n",
      "  \u001b[31m   \u001b[0m extern long double modfl(long double, long double *);\n",
      "  \u001b[31m   \u001b[0m                                                    ^\n",
      "  \u001b[31m   \u001b[0m 1 warning generated.\n",
      "  \u001b[31m   \u001b[0m clang: build/src.macosx-11.0-arm64-3.11/numpy/core/src/npymath/npy_math_complex.c\n",
      "  \u001b[31m   \u001b[0m 1 warning generated.\n",
      "  \u001b[31m   \u001b[0m clang: numpy/core/src/umath/override.c\n",
      "  \u001b[31m   \u001b[0m In file included from numpy/core/src/npymath/npy_math_complex.c.src:34:\n",
      "  \u001b[31m   \u001b[0m In file included from numpy/core/src/npymath/npy_math_common.h:9:\n",
      "  \u001b[31m   \u001b[0m In file included from numpy/core/include/numpy/npy_math.h:596:\n",
      "  \u001b[31m   \u001b[0m numpy/core/src/npymath/npy_math_internal.h.src:490:21: warning: incompatible pointer types passing 'npy_longdouble *' (aka 'double *') to parameter of type 'long double *' [-Wincompatible-pointer-types]\n",
      "  \u001b[31m   \u001b[0m     return modfl(x, iptr);\n",
      "  \u001b[31m   \u001b[0m                     ^~~~\n",
      "  \u001b[31m   \u001b[0m /Library/Developer/CommandLineTools/SDKs/MacOSX.sdk/usr/include/math.h:394:52: note: passing argument to parameter here\n",
      "  \u001b[31m   \u001b[0m extern long double modfl(long double, long double *);\n",
      "  \u001b[31m   \u001b[0m                                                    ^\n",
      "  \u001b[31m   \u001b[0m 1 warning generated.\n",
      "  \u001b[31m   \u001b[0m clang: numpy/core/src/npymath/halffloat.c\n",
      "  \u001b[31m   \u001b[0m 2 warnings generated.\n",
      "  \u001b[31m   \u001b[0m In file included from numpy/core/src/umath/override.c:5:\n",
      "  \u001b[31m   \u001b[0m In file included from numpy/core/include/numpy/ufuncobject.h:4:\n",
      "  \u001b[31m   \u001b[0m In file included from numpy/core/include/numpy/npy_math.h:596:\n",
      "  \u001b[31m   \u001b[0m numpy/core/src/npymath/npy_math_internal.h.src:490:21: warning: incompatible pointer types passing 'npy_longdouble *' (aka 'double *') to parameter of type 'long double *' [-Wincompatible-pointer-types]\n",
      "  \u001b[31m   \u001b[0m     return modfl(x, iptr);\n",
      "  \u001b[31m   \u001b[0m                     ^~~~\n",
      "  \u001b[31m   \u001b[0m /Library/Developer/CommandLineTools/SDKs/MacOSX.sdk/usr/include/math.h:394:52: note: passing argument to parameter here\n",
      "  \u001b[31m   \u001b[0m extern long double modfl(long double, long double *);\n",
      "  \u001b[31m   \u001b[0m                                                    ^\n",
      "  \u001b[31m   \u001b[0m clang: numpy/core/src/multiarray/flagsobject.c\n",
      "  \u001b[31m   \u001b[0m In file included from numpy/core/src/npymath/halffloat.c:2:\n",
      "  \u001b[31m   \u001b[0m In file included from numpy/core/include/numpy/halffloat.h:5:\n",
      "  \u001b[31m   \u001b[0m In file included from numpy/core/include/numpy/npy_math.h:596:\n",
      "  \u001b[31m   \u001b[0m numpy/core/src/npymath/npy_math_internal.h.src:490:21: warning: incompatible pointer types passing 'npy_longdouble *' (aka 'double *') to parameter of type 'long double *' [-Wincompatible-pointer-types]\n",
      "  \u001b[31m   \u001b[0m     return modfl(x, iptr);\n",
      "  \u001b[31m   \u001b[0m                     ^~~~\n",
      "  \u001b[31m   \u001b[0m /Library/Developer/CommandLineTools/SDKs/MacOSX.sdk/usr/include/math.h:394:52: note: passing argument to parameter here\n",
      "  \u001b[31m   \u001b[0m extern long double modfl(long double, long double *);\n",
      "  \u001b[31m   \u001b[0m                                                    ^\n",
      "  \u001b[31m   \u001b[0m 1 warning generated.\n",
      "  \u001b[31m   \u001b[0m clang: numpy/core/src/npymath/npy_math.c\n",
      "  \u001b[31m   \u001b[0m 1 warning generated.\n",
      "  \u001b[31m   \u001b[0m clang: numpy/core/src/common/array_assign.c\n",
      "  \u001b[31m   \u001b[0m clang: numpy/core/src/multiarray/getset.c\n",
      "  \u001b[31m   \u001b[0m In file included from numpy/core/src/npymath/npy_math.c:9:\n",
      "  \u001b[31m   \u001b[0m numpy/core/src/npymath/npy_math_internal.h.src:490:21: warning: incompatible pointer types passing 'npy_longdouble *' (aka 'double *') to parameter of type 'long double *' [-Wincompatible-pointer-types]\n",
      "  \u001b[31m   \u001b[0m     return modfl(x, iptr);\n",
      "  \u001b[31m   \u001b[0m                     ^~~~\n",
      "  \u001b[31m   \u001b[0m /Library/Developer/CommandLineTools/SDKs/MacOSX.sdk/usr/include/math.h:394:52: note: passing argument to parameter here\n",
      "  \u001b[31m   \u001b[0m extern long double modfl(long double, long double *);\n",
      "  \u001b[31m   \u001b[0m                                                    ^\n",
      "  \u001b[31m   \u001b[0m 1 warning generated.\n",
      "  \u001b[31m   \u001b[0m clang: numpy/core/src/umath/extobj.c\n",
      "  \u001b[31m   \u001b[0m 1 warning generated.\n",
      "  \u001b[31m   \u001b[0m clang: numpy/core/src/common/mem_overlap.c\n",
      "  \u001b[31m   \u001b[0m clang: numpy/core/src/common/ucsnarrow.c\n",
      "  \u001b[31m   \u001b[0m clang: numpy/core/src/multiarray/nditer_api.c\n",
      "  \u001b[31m   \u001b[0m In file included from numpy/core/src/umath/extobj.c:12:\n",
      "  \u001b[31m   \u001b[0m In file included from numpy/core/include/numpy/ufuncobject.h:4:\n",
      "  \u001b[31m   \u001b[0m In file included from numpy/core/include/numpy/npy_math.h:596:\n",
      "  \u001b[31m   \u001b[0m numpy/core/src/npymath/npy_math_internal.h.src:490:21: warning: incompatible pointer types passing 'npy_longdouble *' (aka 'double *') to parameter of type 'long double *' [-Wincompatible-pointer-types]\n",
      "  \u001b[31m   \u001b[0m     return modfl(x, iptr);\n",
      "  \u001b[31m   \u001b[0m                     ^~~~\n",
      "  \u001b[31m   \u001b[0m /Library/Developer/CommandLineTools/SDKs/MacOSX.sdk/usr/include/math.h:394:52: note: passing argument to parameter here\n",
      "  \u001b[31m   \u001b[0m extern long double modfl(long double, long double *);\n",
      "  \u001b[31m   \u001b[0m                                                    ^\n",
      "  \u001b[31m   \u001b[0m 1 warning generated.\n",
      "  \u001b[31m   \u001b[0m clang: build/src.macosx-11.0-arm64-3.11/numpy/core/src/umath/scalarmath.c\n",
      "  \u001b[31m   \u001b[0m clang: build/src.macosx-11.0-arm64-3.11/numpy/core/src/common/npy_cpu_features.c\n",
      "  \u001b[31m   \u001b[0m In file included from numpy/core/src/common/ucsnarrow.c:11:\n",
      "  \u001b[31m   \u001b[0m In file included from numpy/core/include/numpy/npy_math.h:596:\n",
      "  \u001b[31m   \u001b[0m numpy/core/src/npymath/npy_math_internal.h.src:490:21: warning: incompatible pointer types passing 'npy_longdouble *' (aka 'double *') to parameter of type 'long double *' [-Wincompatible-pointer-types]\n",
      "  \u001b[31m   \u001b[0m     return modfl(x, iptr);\n",
      "  \u001b[31m   \u001b[0m                     ^~~~\n",
      "  \u001b[31m   \u001b[0m /Library/Developer/CommandLineTools/SDKs/MacOSX.sdk/usr/include/math.h:394:52: note: passing argument to parameter here\n",
      "  \u001b[31m   \u001b[0m extern long double modfl(long double, long double *);\n",
      "  \u001b[31m   \u001b[0m                                                    ^\n",
      "  \u001b[31m   \u001b[0m 1 warning generated.\n",
      "  \u001b[31m   \u001b[0m clang: numpy/core/src/common/ufunc_override.c\n",
      "  \u001b[31m   \u001b[0m In file included from numpy/core/src/umath/scalarmath.c.src:16:\n",
      "  \u001b[31m   \u001b[0m In file included from numpy/core/include/numpy/ufuncobject.h:4:\n",
      "  \u001b[31m   \u001b[0m In file included from numpy/core/include/numpy/npy_math.h:596:\n",
      "  \u001b[31m   \u001b[0m numpy/core/src/npymath/npy_math_internal.h.src:490:21: warning: incompatible pointer types passing 'npy_longdouble *' (aka 'double *') to parameter of type 'long double *' [-Wincompatible-pointer-types]\n",
      "  \u001b[31m   \u001b[0m     return modfl(x, iptr);\n",
      "  \u001b[31m   \u001b[0m                     ^~~~\n",
      "  \u001b[31m   \u001b[0m /Library/Developer/CommandLineTools/SDKs/MacOSX.sdk/usr/include/math.h:394:52: note: passing argument to parameter here\n",
      "  \u001b[31m   \u001b[0m extern long double modfl(long double, long double *);\n",
      "  \u001b[31m   \u001b[0m                                                    ^\n",
      "  \u001b[31m   \u001b[0m clang: numpy/core/src/common/cblasfuncs.c\n",
      "  \u001b[31m   \u001b[0m clang: numpy/core/src/common/numpyos.c\n",
      "  \u001b[31m   \u001b[0m clang: numpy/core/src/common/npy_longdouble.c\n",
      "  \u001b[31m   \u001b[0m In file included from numpy/core/src/common/npy_longdouble.c:7:\n",
      "  \u001b[31m   \u001b[0m In file included from numpy/core/include/numpy/npy_math.h:596:\n",
      "  \u001b[31m   \u001b[0m numpy/core/src/npymath/npy_math_internal.h.src:490:21: warning: incompatible pointer types passing 'npy_longdouble *' (aka 'double *') to parameter of type 'long double *' [-Wincompatible-pointer-types]\n",
      "  \u001b[31m   \u001b[0m     return modfl(x, iptr);\n",
      "  \u001b[31m   \u001b[0m                     ^~~~\n",
      "  \u001b[31m   \u001b[0m /Library/Developer/CommandLineTools/SDKs/MacOSX.sdk/usr/include/math.h:394:52: note: passing argument to parameter here\n",
      "  \u001b[31m   \u001b[0m extern long double modfl(long double, long double *);\n",
      "  \u001b[31m   \u001b[0m                                                    ^\n",
      "  \u001b[31m   \u001b[0m 1 warning generated.\n",
      "  \u001b[31m   \u001b[0m In file included from numpy/core/src/common/numpyos.c:10:\n",
      "  \u001b[31m   \u001b[0m In file included from numpy/core/include/numpy/npy_math.h:596:\n",
      "  \u001b[31m   \u001b[0m numpy/core/src/npymath/npy_math_internal.h.src:490:21: warning: incompatible pointer types passing 'npy_longdouble *' (aka 'double *') to parameter of type 'long double *' [-Wincompatible-pointer-types]\n",
      "  \u001b[31m   \u001b[0m     return modfl(x, iptr);\n",
      "  \u001b[31m   \u001b[0m                     ^~~~\n",
      "  \u001b[31m   \u001b[0m /Library/Developer/CommandLineTools/SDKs/MacOSX.sdk/usr/include/math.h:394:52: note: passing argument to parameter here\n",
      "  \u001b[31m   \u001b[0m extern long double modfl(long double, long double *);\n",
      "  \u001b[31m   \u001b[0m                                                    ^\n",
      "  \u001b[31m   \u001b[0m clang: numpy/core/src/common/python_xerbla.c\n",
      "  \u001b[31m   \u001b[0m 1 warning generated.\n",
      "  \u001b[31m   \u001b[0m 1 warning generated.\n",
      "  \u001b[31m   \u001b[0m 1 warning generated.\n",
      "  \u001b[31m   \u001b[0m 1 warning generated.\n",
      "  \u001b[31m   \u001b[0m clang: numpy/core/src/multiarray/mapping.c\n",
      "  \u001b[31m   \u001b[0m clang: numpy/core/src/multiarray/methods.c\n",
      "  \u001b[31m   \u001b[0m 1 warning generated.\n",
      "  \u001b[31m   \u001b[0m clang: build/src.macosx-11.0-arm64-3.11/numpy/core/src/umath/matmul.c\n",
      "  \u001b[31m   \u001b[0m In file included from numpy/core/src/umath/matmul.c.src:12:\n",
      "  \u001b[31m   \u001b[0m In file included from numpy/core/include/numpy/ufuncobject.h:4:\n",
      "  \u001b[31m   \u001b[0m In file included from numpy/core/include/numpy/npy_math.h:596:\n",
      "  \u001b[31m   \u001b[0m numpy/core/src/npymath/npy_math_internal.h.src:490:21: warning: incompatible pointer types passing 'npy_longdouble *' (aka 'double *') to parameter of type 'long double *' [-Wincompatible-pointer-types]\n",
      "  \u001b[31m   \u001b[0m     return modfl(x, iptr);\n",
      "  \u001b[31m   \u001b[0m                     ^~~~\n",
      "  \u001b[31m   \u001b[0m /Library/Developer/CommandLineTools/SDKs/MacOSX.sdk/usr/include/math.h:394:52: note: passing argument to parameter here\n",
      "  \u001b[31m   \u001b[0m extern long double modfl(long double, long double *);\n",
      "  \u001b[31m   \u001b[0m                                                    ^\n",
      "  \u001b[31m   \u001b[0m 1 warning generated.\n",
      "  \u001b[31m   \u001b[0m clang: build/src.macosx-11.0-arm64-3.11/numpy/core/src/umath/clip.c\n",
      "  \u001b[31m   \u001b[0m In file included from numpy/core/src/umath/clip.c.src:10:\n",
      "  \u001b[31m   \u001b[0m In file included from numpy/core/include/numpy/halffloat.h:5:\n",
      "  \u001b[31m   \u001b[0m In file included from numpy/core/include/numpy/npy_math.h:596:\n",
      "  \u001b[31m   \u001b[0m numpy/core/src/npymath/npy_math_internal.h.src:490:21: warning: incompatible pointer types passing 'npy_longdouble *' (aka 'double *') to parameter of type 'long double *' [-Wincompatible-pointer-types]\n",
      "  \u001b[31m   \u001b[0m     return modfl(x, iptr);\n",
      "  \u001b[31m   \u001b[0m                     ^~~~\n",
      "  \u001b[31m   \u001b[0m /Library/Developer/CommandLineTools/SDKs/MacOSX.sdk/usr/include/math.h:394:52: note: passing argument to parameter here\n",
      "  \u001b[31m   \u001b[0m extern long double modfl(long double, long double *);\n",
      "  \u001b[31m   \u001b[0m                                                    ^\n",
      "  \u001b[31m   \u001b[0m 1 warning generated.\n",
      "  \u001b[31m   \u001b[0m error: Command \"clang -DNDEBUG -fwrapv -O2 -Wall -fPIC -O2 -isystem /opt/anaconda3/include -arch arm64 -fPIC -O2 -isystem /opt/anaconda3/include -arch arm64 -DNPY_INTERNAL_BUILD=1 -DHAVE_NPY_CONFIG_H=1 -D_FILE_OFFSET_BITS=64 -D_LARGEFILE_SOURCE=1 -D_LARGEFILE64_SOURCE=1 -DHAVE_CBLAS -Ibuild/src.macosx-11.0-arm64-3.11/numpy/core/src/umath -Ibuild/src.macosx-11.0-arm64-3.11/numpy/core/src/npymath -Ibuild/src.macosx-11.0-arm64-3.11/numpy/core/src/common -Inumpy/core/include -Ibuild/src.macosx-11.0-arm64-3.11/numpy/core/include/numpy -Inumpy/core/src/common -Inumpy/core/src -Inumpy/core -Inumpy/core/src/npymath -Inumpy/core/src/multiarray -Inumpy/core/src/umath -Inumpy/core/src/npysort -I/opt/anaconda3/include/python3.11 -Ibuild/src.macosx-11.0-arm64-3.11/numpy/core/src/common -Ibuild/src.macosx-11.0-arm64-3.11/numpy/core/src/npymath -c build/src.macosx-11.0-arm64-3.11/numpy/core/src/multiarray/scalartypes.c -o build/temp.macosx-11.0-arm64-3.11/build/src.macosx-11.0-arm64-3.11/numpy/core/src/multiarray/scalartypes.o -MMD -MF build/temp.macosx-11.0-arm64-3.11/build/src.macosx-11.0-arm64-3.11/numpy/core/src/multiarray/scalartypes.o.d\" failed with exit status 1\n",
      "  \u001b[31m   \u001b[0m \u001b[31m[end of output]\u001b[0m\n",
      "  \n",
      "  \u001b[1;35mnote\u001b[0m: This error originates from a subprocess, and is likely not a problem with pip.\n",
      "\u001b[?25h\u001b[31m  ERROR: Failed building wheel for numpy\u001b[0m\u001b[31m\n",
      "\u001b[0mFailed to build numpy\n",
      "\u001b[31mERROR: Could not build wheels for numpy, which is required to install pyproject.toml-based projects\u001b[0m\u001b[31m\n",
      "\u001b[0mRequirement already satisfied: matplotlib in /opt/anaconda3/lib/python3.11/site-packages (3.8.0)\n",
      "Requirement already satisfied: contourpy>=1.0.1 in /opt/anaconda3/lib/python3.11/site-packages (from matplotlib) (1.2.0)\n",
      "Requirement already satisfied: cycler>=0.10 in /opt/anaconda3/lib/python3.11/site-packages (from matplotlib) (0.11.0)\n",
      "Requirement already satisfied: fonttools>=4.22.0 in /opt/anaconda3/lib/python3.11/site-packages (from matplotlib) (4.25.0)\n",
      "Requirement already satisfied: kiwisolver>=1.0.1 in /opt/anaconda3/lib/python3.11/site-packages (from matplotlib) (1.4.4)\n",
      "Requirement already satisfied: numpy<2,>=1.21 in /opt/anaconda3/lib/python3.11/site-packages (from matplotlib) (1.26.4)\n",
      "Requirement already satisfied: packaging>=20.0 in /opt/anaconda3/lib/python3.11/site-packages (from matplotlib) (23.1)\n",
      "Requirement already satisfied: pillow>=6.2.0 in /opt/anaconda3/lib/python3.11/site-packages (from matplotlib) (10.2.0)\n",
      "Requirement already satisfied: pyparsing>=2.3.1 in /opt/anaconda3/lib/python3.11/site-packages (from matplotlib) (3.0.9)\n",
      "Requirement already satisfied: python-dateutil>=2.7 in /opt/anaconda3/lib/python3.11/site-packages (from matplotlib) (2.8.2)\n",
      "Requirement already satisfied: six>=1.5 in /opt/anaconda3/lib/python3.11/site-packages (from python-dateutil>=2.7->matplotlib) (1.16.0)\n",
      "Requirement already satisfied: seaborn in /opt/anaconda3/lib/python3.11/site-packages (0.12.2)\n",
      "Requirement already satisfied: numpy!=1.24.0,>=1.17 in /opt/anaconda3/lib/python3.11/site-packages (from seaborn) (1.26.4)\n",
      "Requirement already satisfied: pandas>=0.25 in /opt/anaconda3/lib/python3.11/site-packages (from seaborn) (2.1.4)\n",
      "Requirement already satisfied: matplotlib!=3.6.1,>=3.1 in /opt/anaconda3/lib/python3.11/site-packages (from seaborn) (3.8.0)\n",
      "Requirement already satisfied: contourpy>=1.0.1 in /opt/anaconda3/lib/python3.11/site-packages (from matplotlib!=3.6.1,>=3.1->seaborn) (1.2.0)\n",
      "Requirement already satisfied: cycler>=0.10 in /opt/anaconda3/lib/python3.11/site-packages (from matplotlib!=3.6.1,>=3.1->seaborn) (0.11.0)\n",
      "Requirement already satisfied: fonttools>=4.22.0 in /opt/anaconda3/lib/python3.11/site-packages (from matplotlib!=3.6.1,>=3.1->seaborn) (4.25.0)\n",
      "Requirement already satisfied: kiwisolver>=1.0.1 in /opt/anaconda3/lib/python3.11/site-packages (from matplotlib!=3.6.1,>=3.1->seaborn) (1.4.4)\n",
      "Requirement already satisfied: packaging>=20.0 in /opt/anaconda3/lib/python3.11/site-packages (from matplotlib!=3.6.1,>=3.1->seaborn) (23.1)\n",
      "Requirement already satisfied: pillow>=6.2.0 in /opt/anaconda3/lib/python3.11/site-packages (from matplotlib!=3.6.1,>=3.1->seaborn) (10.2.0)\n",
      "Requirement already satisfied: pyparsing>=2.3.1 in /opt/anaconda3/lib/python3.11/site-packages (from matplotlib!=3.6.1,>=3.1->seaborn) (3.0.9)\n",
      "Requirement already satisfied: python-dateutil>=2.7 in /opt/anaconda3/lib/python3.11/site-packages (from matplotlib!=3.6.1,>=3.1->seaborn) (2.8.2)\n",
      "Requirement already satisfied: pytz>=2020.1 in /opt/anaconda3/lib/python3.11/site-packages (from pandas>=0.25->seaborn) (2023.3.post1)\n",
      "Requirement already satisfied: tzdata>=2022.1 in /opt/anaconda3/lib/python3.11/site-packages (from pandas>=0.25->seaborn) (2023.3)\n",
      "Requirement already satisfied: six>=1.5 in /opt/anaconda3/lib/python3.11/site-packages (from python-dateutil>=2.7->matplotlib!=3.6.1,>=3.1->seaborn) (1.16.0)\n",
      "Requirement already satisfied: scikit-learn in /opt/anaconda3/lib/python3.11/site-packages (1.2.2)\n",
      "Requirement already satisfied: numpy>=1.17.3 in /opt/anaconda3/lib/python3.11/site-packages (from scikit-learn) (1.26.4)\n",
      "Requirement already satisfied: scipy>=1.3.2 in /opt/anaconda3/lib/python3.11/site-packages (from scikit-learn) (1.11.4)\n",
      "Requirement already satisfied: joblib>=1.1.1 in /opt/anaconda3/lib/python3.11/site-packages (from scikit-learn) (1.2.0)\n",
      "Requirement already satisfied: threadpoolctl>=2.0.0 in /opt/anaconda3/lib/python3.11/site-packages (from scikit-learn) (2.2.0)\n",
      "\u001b[31mERROR: Could not find a version that satisfies the requirement scipy.stats (from versions: none)\u001b[0m\u001b[31m\n",
      "\u001b[0m\u001b[31mERROR: No matching distribution found for scipy.stats\u001b[0m\u001b[31m\n",
      "\u001b[0mCollecting scanpy\n",
      "  Downloading scanpy-1.10.1-py3-none-any.whl.metadata (8.6 kB)\n",
      "Collecting anndata>=0.8 (from scanpy)\n",
      "  Downloading anndata-0.10.7-py3-none-any.whl.metadata (6.6 kB)\n",
      "Requirement already satisfied: h5py>=3.1 in /opt/anaconda3/lib/python3.11/site-packages (from scanpy) (3.9.0)\n",
      "Requirement already satisfied: joblib in /opt/anaconda3/lib/python3.11/site-packages (from scanpy) (1.2.0)\n",
      "Collecting legacy-api-wrap>=1.4 (from scanpy)\n",
      "  Downloading legacy_api_wrap-1.4-py3-none-any.whl.metadata (1.8 kB)\n",
      "Requirement already satisfied: matplotlib>=3.6 in /opt/anaconda3/lib/python3.11/site-packages (from scanpy) (3.8.0)\n",
      "Collecting natsort (from scanpy)\n",
      "  Downloading natsort-8.4.0-py3-none-any.whl.metadata (21 kB)\n",
      "Requirement already satisfied: networkx>=2.7 in /opt/anaconda3/lib/python3.11/site-packages (from scanpy) (3.1)\n",
      "Requirement already satisfied: numba>=0.56 in /opt/anaconda3/lib/python3.11/site-packages (from scanpy) (0.59.0)\n",
      "Requirement already satisfied: numpy>=1.23 in /opt/anaconda3/lib/python3.11/site-packages (from scanpy) (1.26.4)\n",
      "Requirement already satisfied: packaging>=21.3 in /opt/anaconda3/lib/python3.11/site-packages (from scanpy) (23.1)\n",
      "Requirement already satisfied: pandas>=1.5 in /opt/anaconda3/lib/python3.11/site-packages (from scanpy) (2.1.4)\n",
      "Requirement already satisfied: patsy in /opt/anaconda3/lib/python3.11/site-packages (from scanpy) (0.5.3)\n",
      "Collecting pynndescent>=0.5 (from scanpy)\n",
      "  Downloading pynndescent-0.5.12-py3-none-any.whl.metadata (6.8 kB)\n",
      "Requirement already satisfied: scikit-learn>=0.24 in /opt/anaconda3/lib/python3.11/site-packages (from scanpy) (1.2.2)\n",
      "Requirement already satisfied: scipy>=1.8 in /opt/anaconda3/lib/python3.11/site-packages (from scanpy) (1.11.4)\n",
      "Collecting seaborn>=0.13 (from scanpy)\n",
      "  Downloading seaborn-0.13.2-py3-none-any.whl.metadata (5.4 kB)\n",
      "Collecting session-info (from scanpy)\n",
      "  Downloading session_info-1.0.0.tar.gz (24 kB)\n",
      "  Preparing metadata (setup.py) ... \u001b[?25ldone\n",
      "\u001b[?25hRequirement already satisfied: statsmodels>=0.13 in /opt/anaconda3/lib/python3.11/site-packages (from scanpy) (0.14.0)\n",
      "Requirement already satisfied: tqdm in /opt/anaconda3/lib/python3.11/site-packages (from scanpy) (4.65.0)\n",
      "Collecting umap-learn!=0.5.0,>=0.5 (from scanpy)\n",
      "  Downloading umap_learn-0.5.6-py3-none-any.whl.metadata (21 kB)\n",
      "Collecting array-api-compat!=1.5,>1.4 (from anndata>=0.8->scanpy)\n",
      "  Downloading array_api_compat-1.6-py3-none-any.whl.metadata (1.4 kB)\n",
      "Requirement already satisfied: contourpy>=1.0.1 in /opt/anaconda3/lib/python3.11/site-packages (from matplotlib>=3.6->scanpy) (1.2.0)\n",
      "Requirement already satisfied: cycler>=0.10 in /opt/anaconda3/lib/python3.11/site-packages (from matplotlib>=3.6->scanpy) (0.11.0)\n",
      "Requirement already satisfied: fonttools>=4.22.0 in /opt/anaconda3/lib/python3.11/site-packages (from matplotlib>=3.6->scanpy) (4.25.0)\n",
      "Requirement already satisfied: kiwisolver>=1.0.1 in /opt/anaconda3/lib/python3.11/site-packages (from matplotlib>=3.6->scanpy) (1.4.4)\n",
      "Requirement already satisfied: pillow>=6.2.0 in /opt/anaconda3/lib/python3.11/site-packages (from matplotlib>=3.6->scanpy) (10.2.0)\n",
      "Requirement already satisfied: pyparsing>=2.3.1 in /opt/anaconda3/lib/python3.11/site-packages (from matplotlib>=3.6->scanpy) (3.0.9)\n",
      "Requirement already satisfied: python-dateutil>=2.7 in /opt/anaconda3/lib/python3.11/site-packages (from matplotlib>=3.6->scanpy) (2.8.2)\n",
      "Requirement already satisfied: llvmlite<0.43,>=0.42.0dev0 in /opt/anaconda3/lib/python3.11/site-packages (from numba>=0.56->scanpy) (0.42.0)\n",
      "Requirement already satisfied: pytz>=2020.1 in /opt/anaconda3/lib/python3.11/site-packages (from pandas>=1.5->scanpy) (2023.3.post1)\n",
      "Requirement already satisfied: tzdata>=2022.1 in /opt/anaconda3/lib/python3.11/site-packages (from pandas>=1.5->scanpy) (2023.3)\n",
      "Requirement already satisfied: threadpoolctl>=2.0.0 in /opt/anaconda3/lib/python3.11/site-packages (from scikit-learn>=0.24->scanpy) (2.2.0)\n",
      "Requirement already satisfied: six in /opt/anaconda3/lib/python3.11/site-packages (from patsy->scanpy) (1.16.0)\n",
      "Collecting stdlib_list (from session-info->scanpy)\n",
      "  Downloading stdlib_list-0.10.0-py3-none-any.whl.metadata (3.3 kB)\n",
      "Downloading scanpy-1.10.1-py3-none-any.whl (2.1 MB)\n",
      "\u001b[2K   \u001b[90m━━━━━━━━━━━━━━━━━━━━━━━━━━━━━━━━━━━━━━━━\u001b[0m \u001b[32m2.1/2.1 MB\u001b[0m \u001b[31m26.7 MB/s\u001b[0m eta \u001b[36m0:00:00\u001b[0m00:01\u001b[0m00:01\u001b[0m\n",
      "\u001b[?25hDownloading anndata-0.10.7-py3-none-any.whl (122 kB)\n",
      "\u001b[2K   \u001b[90m━━━━━━━━━━━━━━━━━━━━━━━━━━━━━━━━━━━━━━━━\u001b[0m \u001b[32m122.4/122.4 kB\u001b[0m \u001b[31m17.5 MB/s\u001b[0m eta \u001b[36m0:00:00\u001b[0m\n",
      "\u001b[?25hDownloading legacy_api_wrap-1.4-py3-none-any.whl (15 kB)\n",
      "Downloading pynndescent-0.5.12-py3-none-any.whl (56 kB)\n",
      "\u001b[2K   \u001b[90m━━━━━━━━━━━━━━━━━━━━━━━━━━━━━━━━━━━━━━━━\u001b[0m \u001b[32m56.8/56.8 kB\u001b[0m \u001b[31m12.1 MB/s\u001b[0m eta \u001b[36m0:00:00\u001b[0m\n",
      "\u001b[?25hDownloading seaborn-0.13.2-py3-none-any.whl (294 kB)\n",
      "\u001b[2K   \u001b[90m━━━━━━━━━━━━━━━━━━━━━━━━━━━━━━━━━━━━━━━━\u001b[0m \u001b[32m294.9/294.9 kB\u001b[0m \u001b[31m29.7 MB/s\u001b[0m eta \u001b[36m0:00:00\u001b[0m\n",
      "\u001b[?25hDownloading umap_learn-0.5.6-py3-none-any.whl (85 kB)\n",
      "\u001b[2K   \u001b[90m━━━━━━━━━━━━━━━━━━━━━━━━━━━━━━━━━━━━━━━━\u001b[0m \u001b[32m85.7/85.7 kB\u001b[0m \u001b[31m14.0 MB/s\u001b[0m eta \u001b[36m0:00:00\u001b[0m\n",
      "\u001b[?25hDownloading natsort-8.4.0-py3-none-any.whl (38 kB)\n",
      "Downloading array_api_compat-1.6-py3-none-any.whl (36 kB)\n",
      "Downloading stdlib_list-0.10.0-py3-none-any.whl (79 kB)\n",
      "\u001b[2K   \u001b[90m━━━━━━━━━━━━━━━━━━━━━━━━━━━━━━━━━━━━━━━━\u001b[0m \u001b[32m79.8/79.8 kB\u001b[0m \u001b[31m15.9 MB/s\u001b[0m eta \u001b[36m0:00:00\u001b[0m\n",
      "\u001b[?25hBuilding wheels for collected packages: session-info\n",
      "  Building wheel for session-info (setup.py) ... \u001b[?25ldone\n",
      "\u001b[?25h  Created wheel for session-info: filename=session_info-1.0.0-py3-none-any.whl size=8026 sha256=4a338c3f0b2b3a11eda5f55beea138730ca77bf95cdd4d1a44401ddb27d842f2\n",
      "  Stored in directory: /Users/elisatofanelli/Library/Caches/pip/wheels/4e/56/35/a748fc57279a4b84d0b332879445fed1ad8478e7257986b015\n",
      "Successfully built session-info\n",
      "Installing collected packages: array-api-compat, stdlib_list, natsort, legacy-api-wrap, session-info, seaborn, pynndescent, anndata, umap-learn, scanpy\n",
      "  Attempting uninstall: seaborn\n",
      "    Found existing installation: seaborn 0.12.2\n",
      "    Uninstalling seaborn-0.12.2:\n",
      "      Successfully uninstalled seaborn-0.12.2\n",
      "Successfully installed anndata-0.10.7 array-api-compat-1.6 legacy-api-wrap-1.4 natsort-8.4.0 pynndescent-0.5.12 scanpy-1.10.1 seaborn-0.13.2 session-info-1.0.0 stdlib_list-0.10.0 umap-learn-0.5.6\n"
     ]
    }
   ],
   "source": [
    "# Check for libraries that are needed\n",
    "!pip install pandas\n",
    "!pip install numpy==1.19.5\n",
    "!pip install matplotlib\n",
    "!pip install seaborn\n",
    "!pip install scikit-learn\n",
    "!pip install scipy.stats\n",
    "!pip install scanpy\n"
   ]
  },
  {
   "cell_type": "code",
   "execution_count": 2,
   "metadata": {},
   "outputs": [],
   "source": [
    "# install additional packages\n",
    "!pip install -q scanpy\n",
    "!pip install -q scikit-misc\n",
    "!pip install -q pyvis\n",
    "!pip install -q leidenalg"
   ]
  },
  {
   "cell_type": "markdown",
   "metadata": {},
   "source": [
    "We import libraries"
   ]
  },
  {
   "cell_type": "code",
   "execution_count": 2,
   "metadata": {},
   "outputs": [],
   "source": [
    "# Importing the libraries\n",
    "import pandas as pd\n",
    "import numpy as np\n",
    "import matplotlib.pyplot as plt\n",
    "import seaborn as sns\n",
    "%matplotlib inline \n",
    "sns.set(color_codes=True)\n",
    "import torch as th\n",
    "from sklearn.preprocessing import StandardScaler\n",
    "from scipy.stats import skew\n",
    "from scipy.stats import kurtosis\n",
    "from scipy.stats import kstest\n",
    "from scipy.stats import poisson\n",
    "from scipy.stats import chisquare\n",
    "from scipy.stats import nbinom\n",
    "from scipy.stats import gamma\n",
    "from scipy.stats import chi2_contingency\n",
    "import scipy.stats as stats\n",
    "import random\n",
    "from scipy.stats import mannwhitneyu\n",
    "import scanpy as sc\n",
    "from sklearn.decomposition import PCA\n",
    "from sklearn.cluster import KMeans\n",
    "from collections import defaultdict\n",
    "from sklearn.metrics.pairwise import euclidean_distances\n",
    "import plotly"
   ]
  },
  {
   "attachments": {},
   "cell_type": "markdown",
   "metadata": {},
   "source": [
    "------------------------------------------------------------------------\n",
    "\n",
    "------------------------------------------------------------------------"
   ]
  },
  {
   "attachments": {},
   "cell_type": "markdown",
   "metadata": {},
   "source": [
    "## EDA (Exploratory Data Analysis)\n",
    "Now we start by loading the 4 dataset.\n",
    "Each of them is from a single experiment, and each experiment is different because of the sequencing technique for the cells' RNA, and of the cells' environment.\n",
    "\n",
    "### Metadata files\n",
    "We start with the metadata files, one for each experiment. They are TSV files"
   ]
  },
  {
   "cell_type": "markdown",
   "metadata": {},
   "source": [
    "We import the first dataset and look at its stucture"
   ]
  },
  {
   "cell_type": "code",
   "execution_count": 3,
   "metadata": {},
   "outputs": [
    {
     "name": "stdout",
     "output_type": "stream",
     "text": [
      "Dataframe dimensions: (383, 9)\n",
      "Dataframe columns: Index(['Filename', 'Cell Line', 'Lane', 'Pos', 'Condition', 'Hours',\n",
      "       'Cell name', 'PreprocessingTag', 'ProcessingComments'],\n",
      "      dtype='object')\n"
     ]
    }
   ],
   "source": [
    "df_metaM_path = '../ai_lab/SmartSeq/MCF7_SmartS_MetaData.tsv'\n",
    "df_metaM = pd.read_csv(df_metaM_path, delimiter='\\t')\n",
    "print(\"Dataframe dimensions:\", df_metaM.shape)\n",
    "print(\"Dataframe columns:\", df_metaM.columns)"
   ]
  },
  {
   "cell_type": "markdown",
   "metadata": {},
   "source": [
    "We start doing some manipulations to shape the dataset in the way we need it: we drop the first column \"Filename\" as it is not needed"
   ]
  },
  {
   "cell_type": "code",
   "execution_count": 4,
   "metadata": {},
   "outputs": [
    {
     "data": {
      "text/html": [
       "<div>\n",
       "<style scoped>\n",
       "    .dataframe tbody tr th:only-of-type {\n",
       "        vertical-align: middle;\n",
       "    }\n",
       "\n",
       "    .dataframe tbody tr th {\n",
       "        vertical-align: top;\n",
       "    }\n",
       "\n",
       "    .dataframe thead th {\n",
       "        text-align: right;\n",
       "    }\n",
       "</style>\n",
       "<table border=\"1\" class=\"dataframe\">\n",
       "  <thead>\n",
       "    <tr style=\"text-align: right;\">\n",
       "      <th></th>\n",
       "      <th>Cell Line</th>\n",
       "      <th>Lane</th>\n",
       "      <th>Pos</th>\n",
       "      <th>Condition</th>\n",
       "      <th>Hours</th>\n",
       "      <th>Cell name</th>\n",
       "      <th>PreprocessingTag</th>\n",
       "      <th>ProcessingComments</th>\n",
       "    </tr>\n",
       "  </thead>\n",
       "  <tbody>\n",
       "    <tr>\n",
       "      <th>0</th>\n",
       "      <td>MCF7</td>\n",
       "      <td>output.STAR.1</td>\n",
       "      <td>A10</td>\n",
       "      <td>Hypo</td>\n",
       "      <td>72</td>\n",
       "      <td>S28</td>\n",
       "      <td>Aligned.sortedByCoord.out.bam</td>\n",
       "      <td>STAR,FeatureCounts</td>\n",
       "    </tr>\n",
       "    <tr>\n",
       "      <th>1</th>\n",
       "      <td>MCF7</td>\n",
       "      <td>output.STAR.1</td>\n",
       "      <td>A11</td>\n",
       "      <td>Hypo</td>\n",
       "      <td>72</td>\n",
       "      <td>S29</td>\n",
       "      <td>Aligned.sortedByCoord.out.bam</td>\n",
       "      <td>STAR,FeatureCounts</td>\n",
       "    </tr>\n",
       "    <tr>\n",
       "      <th>2</th>\n",
       "      <td>MCF7</td>\n",
       "      <td>output.STAR.1</td>\n",
       "      <td>A12</td>\n",
       "      <td>Hypo</td>\n",
       "      <td>72</td>\n",
       "      <td>S30</td>\n",
       "      <td>Aligned.sortedByCoord.out.bam</td>\n",
       "      <td>STAR,FeatureCounts</td>\n",
       "    </tr>\n",
       "    <tr>\n",
       "      <th>3</th>\n",
       "      <td>MCF7</td>\n",
       "      <td>output.STAR.1</td>\n",
       "      <td>A1</td>\n",
       "      <td>Norm</td>\n",
       "      <td>72</td>\n",
       "      <td>S1</td>\n",
       "      <td>Aligned.sortedByCoord.out.bam</td>\n",
       "      <td>STAR,FeatureCounts</td>\n",
       "    </tr>\n",
       "    <tr>\n",
       "      <th>4</th>\n",
       "      <td>MCF7</td>\n",
       "      <td>output.STAR.1</td>\n",
       "      <td>A2</td>\n",
       "      <td>Norm</td>\n",
       "      <td>72</td>\n",
       "      <td>S2</td>\n",
       "      <td>Aligned.sortedByCoord.out.bam</td>\n",
       "      <td>STAR,FeatureCounts</td>\n",
       "    </tr>\n",
       "  </tbody>\n",
       "</table>\n",
       "</div>"
      ],
      "text/plain": [
       "  Cell Line           Lane  Pos Condition  Hours Cell name  \\\n",
       "0      MCF7  output.STAR.1  A10      Hypo     72       S28   \n",
       "1      MCF7  output.STAR.1  A11      Hypo     72       S29   \n",
       "2      MCF7  output.STAR.1  A12      Hypo     72       S30   \n",
       "3      MCF7  output.STAR.1   A1      Norm     72        S1   \n",
       "4      MCF7  output.STAR.1   A2      Norm     72        S2   \n",
       "\n",
       "                PreprocessingTag  ProcessingComments  \n",
       "0  Aligned.sortedByCoord.out.bam  STAR,FeatureCounts  \n",
       "1  Aligned.sortedByCoord.out.bam  STAR,FeatureCounts  \n",
       "2  Aligned.sortedByCoord.out.bam  STAR,FeatureCounts  \n",
       "3  Aligned.sortedByCoord.out.bam  STAR,FeatureCounts  \n",
       "4  Aligned.sortedByCoord.out.bam  STAR,FeatureCounts  "
      ]
     },
     "execution_count": 4,
     "metadata": {},
     "output_type": "execute_result"
    }
   ],
   "source": [
    "\n",
    "\n",
    "df_metaM = df_metaM.drop(columns=['Filename'])\n",
    "df_metaM.head()"
   ]
  },
  {
   "cell_type": "markdown",
   "metadata": {},
   "source": [
    "We import the second dataset and look at its structure"
   ]
  },
  {
   "cell_type": "code",
   "execution_count": 5,
   "metadata": {},
   "outputs": [
    {
     "name": "stdout",
     "output_type": "stream",
     "text": [
      "Dataframe dimensions: (243, 9)\n",
      "Dataframe columns: Index(['Filename', 'Cell Line', 'PCR Plate', 'Pos', 'Condition', 'Hours',\n",
      "       'Cell name', 'PreprocessingTag', 'ProcessingComments'],\n",
      "      dtype='object')\n"
     ]
    }
   ],
   "source": [
    "df_metaH_path = '../ai_lab/SmartSeq/HCC1806_SmartS_MetaData.tsv'\n",
    "df_metaH = pd.read_csv(df_metaH_path, delimiter='\\t')\n",
    "print(\"Dataframe dimensions:\", df_metaH.shape)\n",
    "print(\"Dataframe columns:\", df_metaH.columns)"
   ]
  },
  {
   "cell_type": "markdown",
   "metadata": {},
   "source": [
    "We display the first 5 rows of our dataframe to take a closer look at the structure"
   ]
  },
  {
   "cell_type": "code",
   "execution_count": 6,
   "metadata": {},
   "outputs": [
    {
     "data": {
      "text/html": [
       "<div>\n",
       "<style scoped>\n",
       "    .dataframe tbody tr th:only-of-type {\n",
       "        vertical-align: middle;\n",
       "    }\n",
       "\n",
       "    .dataframe tbody tr th {\n",
       "        vertical-align: top;\n",
       "    }\n",
       "\n",
       "    .dataframe thead th {\n",
       "        text-align: right;\n",
       "    }\n",
       "</style>\n",
       "<table border=\"1\" class=\"dataframe\">\n",
       "  <thead>\n",
       "    <tr style=\"text-align: right;\">\n",
       "      <th></th>\n",
       "      <th>Filename</th>\n",
       "      <th>Cell Line</th>\n",
       "      <th>PCR Plate</th>\n",
       "      <th>Pos</th>\n",
       "      <th>Condition</th>\n",
       "      <th>Hours</th>\n",
       "      <th>Cell name</th>\n",
       "      <th>PreprocessingTag</th>\n",
       "      <th>ProcessingComments</th>\n",
       "    </tr>\n",
       "  </thead>\n",
       "  <tbody>\n",
       "    <tr>\n",
       "      <th>0</th>\n",
       "      <td>output.STAR.PCRPlate1A10_Normoxia_S123_Aligned...</td>\n",
       "      <td>HCC1806</td>\n",
       "      <td>1</td>\n",
       "      <td>A10</td>\n",
       "      <td>Normo</td>\n",
       "      <td>24</td>\n",
       "      <td>S123</td>\n",
       "      <td>Aligned.sortedByCoord.out.bam</td>\n",
       "      <td>STAR,FeatureCounts</td>\n",
       "    </tr>\n",
       "    <tr>\n",
       "      <th>1</th>\n",
       "      <td>output.STAR.PCRPlate1A12_Normoxia_S26_Aligned....</td>\n",
       "      <td>HCC1806</td>\n",
       "      <td>1</td>\n",
       "      <td>A12</td>\n",
       "      <td>Normo</td>\n",
       "      <td>24</td>\n",
       "      <td>S26</td>\n",
       "      <td>Aligned.sortedByCoord.out.bam</td>\n",
       "      <td>STAR,FeatureCounts</td>\n",
       "    </tr>\n",
       "    <tr>\n",
       "      <th>2</th>\n",
       "      <td>output.STAR.PCRPlate1A1_Hypoxia_S97_Aligned.so...</td>\n",
       "      <td>HCC1806</td>\n",
       "      <td>1</td>\n",
       "      <td>A1</td>\n",
       "      <td>Hypo</td>\n",
       "      <td>24</td>\n",
       "      <td>S97</td>\n",
       "      <td>Aligned.sortedByCoord.out.bam</td>\n",
       "      <td>STAR,FeatureCounts</td>\n",
       "    </tr>\n",
       "    <tr>\n",
       "      <th>3</th>\n",
       "      <td>output.STAR.PCRPlate1A2_Hypoxia_S104_Aligned.s...</td>\n",
       "      <td>HCC1806</td>\n",
       "      <td>1</td>\n",
       "      <td>A2</td>\n",
       "      <td>Hypo</td>\n",
       "      <td>24</td>\n",
       "      <td>S104</td>\n",
       "      <td>Aligned.sortedByCoord.out.bam</td>\n",
       "      <td>STAR,FeatureCounts</td>\n",
       "    </tr>\n",
       "    <tr>\n",
       "      <th>4</th>\n",
       "      <td>output.STAR.PCRPlate1A3_Hypoxia_S4_Aligned.sor...</td>\n",
       "      <td>HCC1806</td>\n",
       "      <td>1</td>\n",
       "      <td>A3</td>\n",
       "      <td>Hypo</td>\n",
       "      <td>24</td>\n",
       "      <td>S4</td>\n",
       "      <td>Aligned.sortedByCoord.out.bam</td>\n",
       "      <td>STAR,FeatureCounts</td>\n",
       "    </tr>\n",
       "  </tbody>\n",
       "</table>\n",
       "</div>"
      ],
      "text/plain": [
       "                                            Filename Cell Line  PCR Plate  \\\n",
       "0  output.STAR.PCRPlate1A10_Normoxia_S123_Aligned...   HCC1806          1   \n",
       "1  output.STAR.PCRPlate1A12_Normoxia_S26_Aligned....   HCC1806          1   \n",
       "2  output.STAR.PCRPlate1A1_Hypoxia_S97_Aligned.so...   HCC1806          1   \n",
       "3  output.STAR.PCRPlate1A2_Hypoxia_S104_Aligned.s...   HCC1806          1   \n",
       "4  output.STAR.PCRPlate1A3_Hypoxia_S4_Aligned.sor...   HCC1806          1   \n",
       "\n",
       "   Pos Condition  Hours Cell name               PreprocessingTag  \\\n",
       "0  A10     Normo     24      S123  Aligned.sortedByCoord.out.bam   \n",
       "1  A12     Normo     24       S26  Aligned.sortedByCoord.out.bam   \n",
       "2   A1      Hypo     24       S97  Aligned.sortedByCoord.out.bam   \n",
       "3   A2      Hypo     24      S104  Aligned.sortedByCoord.out.bam   \n",
       "4   A3      Hypo     24        S4  Aligned.sortedByCoord.out.bam   \n",
       "\n",
       "   ProcessingComments  \n",
       "0  STAR,FeatureCounts  \n",
       "1  STAR,FeatureCounts  \n",
       "2  STAR,FeatureCounts  \n",
       "3  STAR,FeatureCounts  \n",
       "4  STAR,FeatureCounts  "
      ]
     },
     "execution_count": 6,
     "metadata": {},
     "output_type": "execute_result"
    }
   ],
   "source": [
    "df_metaH.head()"
   ]
  },
  {
   "cell_type": "markdown",
   "metadata": {},
   "source": [
    "## What is the dataset made of?\n",
    "\n",
    "For every row, we have a single observation from an experiment, and of course in the columns we have the collected data of the experiment. In order:\n",
    "#### 1.  Cell Line \n",
    "  Content\n",
    "\n",
    "#### 2. Lane\n",
    "  Content\n",
    "\n",
    "#### 3. Pos\n",
    "  Content\n",
    "\n",
    "#### 4. Condition\n",
    "  Content\n",
    "\n",
    "#### 5. Hours\n",
    "  Content\n",
    "\n",
    "#### 6. Cell Name\n",
    "  Content\n",
    "\n",
    "#### 7. Preprocessing Tag\n",
    "  Content\n",
    "  \n",
    "#### 8. ProcessingComments\n",
    "  Content\n"
   ]
  },
  {
   "cell_type": "code",
   "execution_count": 7,
   "metadata": {},
   "outputs": [
    {
     "name": "stdout",
     "output_type": "stream",
     "text": [
      "Condition\n",
      "Hypo     126\n",
      "Normo    117\n",
      "Name: count, dtype: int64\n"
     ]
    },
    {
     "data": {
      "image/png": "[encoded data removed]",
      "text/plain": [
       "<Figure size 640x480 with 1 Axes>"
      ]
     },
     "metadata": {},
     "output_type": "display_data"
    }
   ],
   "source": [
    "# before starting the analysis of seqdata we check the counts for Norm or Hypo\n",
    "# in the column 'Condition' for both the datasets count the number of Norm and Hypo\n",
    "counts = df_metaH['Condition'].value_counts()\n",
    "# Histogram of the counts\n",
    "print(counts)\n",
    "# Plot the histogram with two columns for each condition\n",
    "counts.plot(kind='bar', color=['blue', 'red'])\n",
    "plt.title('HCC1806 Condition counts')\n",
    "plt.xlabel('Condition')\n",
    "plt.ylabel('Count')\n",
    "plt.show()\n"
   ]
  },
  {
   "attachments": {},
   "cell_type": "markdown",
   "metadata": {},
   "source": [
    "They have similar count so we can proceed with the analysis."
   ]
  },
  {
   "cell_type": "markdown",
   "metadata": {},
   "source": [
    "## Sequencing data\n",
    "\n",
    "Now we go to sequencing data, and we notice that they are space-delimited.\n",
    "Here we just create the path and the dataset on Python.\n",
    " \n"
   ]
  },
  {
   "cell_type": "code",
   "execution_count": 8,
   "metadata": {},
   "outputs": [],
   "source": [
    "#We just create the path and the dataset on Python\n",
    "df_seq_pathHFilt = '../ai_lab/SmartSeq/HCC1806_SmartS_Filtered_Data.txt'\n",
    "\n",
    "df_seq_pathHFiltNorm = '../ai_lab/SmartSeq/HCC1806_SmartS_Filtered_Normalised_3000_Data_train.txt'\n",
    "\n",
    "df_seq_pathHUnfilt = '../ai_lab/SmartSeq/HCC1806_SmartS_Unfiltered_Data.txt'\n",
    "\n",
    "df_seq_pathMFilt = '../ai_lab/SmartSeq/MCF7_SmartS_Filtered_Data.txt'\n",
    "\n",
    "df_seq_pathMFiltNorm = '../ai_lab/SmartSeq/MCF7_SmartS_Filtered_Normalised_3000_Data_train.txt'\n",
    "\n",
    "df_seq_pathMUnfilt = '../ai_lab/SmartSeq/MCF7_SmartS_Unfiltered_Data.txt'\n",
    "\n",
    "df_seq_HFilt = pd.read_csv(df_seq_pathHFilt, delimiter=' ')\n",
    "\n",
    "df_seq_HFiltNorm = pd.read_csv(df_seq_pathHFiltNorm, delimiter=' ')\n",
    "\n",
    "df_seq_HUnfilt = pd.read_csv(df_seq_pathHUnfilt, delimiter=' ')\n",
    "\n",
    "df_seq_MFilt = pd.read_csv(df_seq_pathMFilt, delimiter=' ')\n",
    "\n",
    "df_seq_MFiltNorm = pd.read_csv(df_seq_pathMFiltNorm, delimiter=' ')\n",
    "\n",
    "df_seq_MUnfilt = pd.read_csv(df_seq_pathMUnfilt, delimiter=' ')"
   ]
  },
  {
   "attachments": {},
   "cell_type": "markdown",
   "metadata": {},
   "source": [
    "There are six dataset, and we can understand what they actually are based on their name, for the EDA part we focus on the Unfiltered datased but then we will use Filtered and Normalised one for supervised/uns ML.\n",
    "\n",
    "#### 1. SmartSeq\\HCC1806_SmartS_Unfiltered_Data.txt\n",
    "  The cell line is HCC1806, the technology is SmartS, and this dataset contains the Unfiltered data\n",
    "\n",
    "#### 2. SmartSeq\\MCF7_SmartS_Unfiltered_Data.txt\n",
    "  The cell line is MCF7, the technology is SmartS, and this dataset contains the Unfiltered data\n",
    "\n"
   ]
  },
  {
   "attachments": {},
   "cell_type": "markdown",
   "metadata": {},
   "source": [
    "We analyze one dataset at a time.\n",
    "\n",
    "#### 1. SmartSeq\\HCC1806_SmartS_Unfiltered_Data.txt"
   ]
  },
  {
   "cell_type": "markdown",
   "metadata": {},
   "source": [
    "We take a closer look at the dataframe for the unfiltred data and we see in particular that the features are on the rows so we understand that we are going to need to transpose the data matrix at some point during our research"
   ]
  },
  {
   "cell_type": "code",
   "execution_count": 9,
   "metadata": {},
   "outputs": [
    {
     "name": "stdout",
     "output_type": "stream",
     "text": [
      "Dataframe dimension: (23396, 243)\n",
      "First Column: WASH7P         0\n",
      "CICP27         0\n",
      "DDX11L17       0\n",
      "WASH9P         0\n",
      "OR4F29         2\n",
      "            ... \n",
      "MT-TE         22\n",
      "MT-CYB      4208\n",
      "MT-TT         26\n",
      "MT-TP         66\n",
      "MAFIP          0\n",
      "Name: output.STAR.PCRPlate1A10_Normoxia_S123_Aligned.sortedByCoord.out.bam, Length: 23396, dtype: int64\n",
      "Columns list: ['output.STAR.PCRPlate1A10_Normoxia_S123_Aligned.sortedByCoord.out.bam', 'output.STAR.PCRPlate1A12_Normoxia_S26_Aligned.sortedByCoord.out.bam', 'output.STAR.PCRPlate1A1_Hypoxia_S97_Aligned.sortedByCoord.out.bam', 'output.STAR.PCRPlate1A2_Hypoxia_S104_Aligned.sortedByCoord.out.bam', 'output.STAR.PCRPlate1A3_Hypoxia_S4_Aligned.sortedByCoord.out.bam', 'output.STAR.PCRPlate1A4_Hypoxia_S8_Aligned.sortedByCoord.out.bam', 'output.STAR.PCRPlate1A5_Hypoxia_S108_Aligned.sortedByCoord.out.bam', 'output.STAR.PCRPlate1A6_Hypoxia_S11_Aligned.sortedByCoord.out.bam', 'output.STAR.PCRPlate1A7_Normoxia_S113_Aligned.sortedByCoord.out.bam', 'output.STAR.PCRPlate1A8_Normoxia_S119_Aligned.sortedByCoord.out.bam', 'output.STAR.PCRPlate1A9_Normoxia_S20_Aligned.sortedByCoord.out.bam', 'output.STAR.PCRPlate1B11_Normoxia_S127_Aligned.sortedByCoord.out.bam', 'output.STAR.PCRPlate1B12_Normoxia_S27_Aligned.sortedByCoord.out.bam', 'output.STAR.PCRPlate1B1_Hypoxia_S98_Aligned.sortedByCoord.out.bam', 'output.STAR.PCRPlate1B2_Hypoxia_S1_Aligned.sortedByCoord.out.bam', 'output.STAR.PCRPlate1B3_Hypoxia_S5_Aligned.sortedByCoord.out.bam', 'output.STAR.PCRPlate1B4_Hypoxia_S105_Aligned.sortedByCoord.out.bam', 'output.STAR.PCRPlate1B5_Hypoxia_S109_Aligned.sortedByCoord.out.bam', 'output.STAR.PCRPlate1B6_Hypoxia_S12_Aligned.sortedByCoord.out.bam', 'output.STAR.PCRPlate1B7_Normoxia_S114_Aligned.sortedByCoord.out.bam', 'output.STAR.PCRPlate1B9_Normoxia_S21_Aligned.sortedByCoord.out.bam', 'output.STAR.PCRPlate1C10_Normoxia_S124_Aligned.sortedByCoord.out.bam', 'output.STAR.PCRPlate1C11_Normoxia_S128_Aligned.sortedByCoord.out.bam', 'output.STAR.PCRPlate1C12_Normoxia_S28_Aligned.sortedByCoord.out.bam', 'output.STAR.PCRPlate1C1_Hypoxia_S99_Aligned.sortedByCoord.out.bam', 'output.STAR.PCRPlate1C5_Hypoxia_S110_Aligned.sortedByCoord.out.bam', 'output.STAR.PCRPlate1C6_Hypoxia_S13_Aligned.sortedByCoord.out.bam', 'output.STAR.PCRPlate1C7_Normoxia_S115_Aligned.sortedByCoord.out.bam', 'output.STAR.PCRPlate1C8_Normoxia_S120_Aligned.sortedByCoord.out.bam', 'output.STAR.PCRPlate1C9_Normoxia_S22_Aligned.sortedByCoord.out.bam', 'output.STAR.PCRPlate1D10_Normoxia_S125_Aligned.sortedByCoord.out.bam', 'output.STAR.PCRPlate1D12_Normoxia_S29_Aligned.sortedByCoord.out.bam', 'output.STAR.PCRPlate1D1_Hypoxia_S100_Aligned.sortedByCoord.out.bam', 'output.STAR.PCRPlate1D3_Hypoxia_S6_Aligned.sortedByCoord.out.bam', 'output.STAR.PCRPlate1D5_Hypoxia_S111_Aligned.sortedByCoord.out.bam', 'output.STAR.PCRPlate1D9_Normoxia_S23_Aligned.sortedByCoord.out.bam', 'output.STAR.PCRPlate1E12_Normoxia_S30_Aligned.sortedByCoord.out.bam', 'output.STAR.PCRPlate1E1_Hypoxia_S101_Aligned.sortedByCoord.out.bam', 'output.STAR.PCRPlate1E5_Hypoxia_S112_Aligned.sortedByCoord.out.bam', 'output.STAR.PCRPlate1E6_Hypoxia_S14_Aligned.sortedByCoord.out.bam', 'output.STAR.PCRPlate1E7_Normoxia_S116_Aligned.sortedByCoord.out.bam', 'output.STAR.PCRPlate1E8_Normoxia_S17_Aligned.sortedByCoord.out.bam', 'output.STAR.PCRPlate1F12_Normoxia_S31_Aligned.sortedByCoord.out.bam', 'output.STAR.PCRPlate1F4_Hypoxia_S106_Aligned.sortedByCoord.out.bam', 'output.STAR.PCRPlate1F5_Hypoxia_S9_Aligned.sortedByCoord.out.bam', 'output.STAR.PCRPlate1F7_Normoxia_S117_Aligned.sortedByCoord.out.bam', 'output.STAR.PCRPlate1F8_Normoxia_S18_Aligned.sortedByCoord.out.bam', 'output.STAR.PCRPlate1F9_Normoxia_S24_Aligned.sortedByCoord.out.bam', 'output.STAR.PCRPlate1G10_Normoxia_S126_Aligned.sortedByCoord.out.bam', 'output.STAR.PCRPlate1G11_Normoxia_S25_Aligned.sortedByCoord.out.bam', 'output.STAR.PCRPlate1G12_Normoxia_S32_Aligned.sortedByCoord.out.bam', 'output.STAR.PCRPlate1G1_Hypoxia_S102_Aligned.sortedByCoord.out.bam', 'output.STAR.PCRPlate1G2_Hypoxia_S2_Aligned.sortedByCoord.out.bam', 'output.STAR.PCRPlate1G3_Hypoxia_S7_Aligned.sortedByCoord.out.bam', 'output.STAR.PCRPlate1G4_Hypoxia_S107_Aligned.sortedByCoord.out.bam', 'output.STAR.PCRPlate1G6_Hypoxia_S15_Aligned.sortedByCoord.out.bam', 'output.STAR.PCRPlate1G7_Normoxia_S118_Aligned.sortedByCoord.out.bam', 'output.STAR.PCRPlate1G8_Normoxia_S19_Aligned.sortedByCoord.out.bam', 'output.STAR.PCRPlate1G9_Normoxia_S121_Aligned.sortedByCoord.out.bam', 'output.STAR.PCRPlate1H1_Hypoxia_S103_Aligned.sortedByCoord.out.bam', 'output.STAR.PCRPlate1H2_Hypoxia_S3_Aligned.sortedByCoord.out.bam', 'output.STAR.PCRPlate1H5_Hypoxia_S10_Aligned.sortedByCoord.out.bam', 'output.STAR.PCRPlate1H6_Hypoxia_S16_Aligned.sortedByCoord.out.bam', 'output.STAR.PCRPlate1H9_Normoxia_S122_Aligned.sortedByCoord.out.bam', 'output.STAR.PCRPlate2A10_Normoxia_S153_Aligned.sortedByCoord.out.bam', 'output.STAR.PCRPlate2A1_Hypoxia_S129_Aligned.sortedByCoord.out.bam', 'output.STAR.PCRPlate2A3_Hypoxia_S36_Aligned.sortedByCoord.out.bam', 'output.STAR.PCRPlate2A4_Hypoxia_S138_Aligned.sortedByCoord.out.bam', 'output.STAR.PCRPlate2A6_Hypoxia_S44_Aligned.sortedByCoord.out.bam', 'output.STAR.PCRPlate2A8_Normoxia_S151_Aligned.sortedByCoord.out.bam', 'output.STAR.PCRPlate2A9_Normoxia_S53_Aligned.sortedByCoord.out.bam', 'output.STAR.PCRPlate2B11_Normoxia_S159_Aligned.sortedByCoord.out.bam', 'output.STAR.PCRPlate2B1_Hypoxia_S130_Aligned.sortedByCoord.out.bam', 'output.STAR.PCRPlate2B2_Hypoxia_S135_Aligned.sortedByCoord.out.bam', 'output.STAR.PCRPlate2B3_Hypoxia_S37_Aligned.sortedByCoord.out.bam', 'output.STAR.PCRPlate2B4_Hypoxia_S139_Aligned.sortedByCoord.out.bam', 'output.STAR.PCRPlate2B6_Hypoxia_S45_Aligned.sortedByCoord.out.bam', 'output.STAR.PCRPlate2B8_Normoxia_S152_Aligned.sortedByCoord.out.bam', 'output.STAR.PCRPlate2C10_Normoxia_S154_Aligned.sortedByCoord.out.bam', 'output.STAR.PCRPlate2C11_Normoxia_S160_Aligned.sortedByCoord.out.bam', 'output.STAR.PCRPlate2C12_Normoxia_S59_Aligned.sortedByCoord.out.bam', 'output.STAR.PCRPlate2C1_Hypoxia_S131_Aligned.sortedByCoord.out.bam', 'output.STAR.PCRPlate2C3_Hypoxia_S38_Aligned.sortedByCoord.out.bam', 'output.STAR.PCRPlate2C4_Hypoxia_S140_Aligned.sortedByCoord.out.bam', 'output.STAR.PCRPlate2C5_Hypoxia_S144_Aligned.sortedByCoord.out.bam', 'output.STAR.PCRPlate2C6_Hypoxia_S46_Aligned.sortedByCoord.out.bam', 'output.STAR.PCRPlate2C7_Normoxia_S147_Aligned.sortedByCoord.out.bam', 'output.STAR.PCRPlate2C8_Normoxia_S49_Aligned.sortedByCoord.out.bam', 'output.STAR.PCRPlate2D12_Normoxia_S60_Aligned.sortedByCoord.out.bam', 'output.STAR.PCRPlate2D1_Hypoxia_S132_Aligned.sortedByCoord.out.bam', 'output.STAR.PCRPlate2D2_Hypoxia_S136_Aligned.sortedByCoord.out.bam', 'output.STAR.PCRPlate2D5_Hypoxia_S41_Aligned.sortedByCoord.out.bam', 'output.STAR.PCRPlate2D6_Hypoxia_S47_Aligned.sortedByCoord.out.bam', 'output.STAR.PCRPlate2D9_Normoxia_S54_Aligned.sortedByCoord.out.bam', 'output.STAR.PCRPlate2E10_Normoxia_S155_Aligned.sortedByCoord.out.bam', 'output.STAR.PCRPlate2E11_Normoxia_S57_Aligned.sortedByCoord.out.bam', 'output.STAR.PCRPlate2E12_Normoxia_S61_Aligned.sortedByCoord.out.bam', 'output.STAR.PCRPlate2E3_Hypoxia_S39_Aligned.sortedByCoord.out.bam', 'output.STAR.PCRPlate2E4_Hypoxia_S141_Aligned.sortedByCoord.out.bam', 'output.STAR.PCRPlate2E5_Hypoxia_S42_Aligned.sortedByCoord.out.bam', 'output.STAR.PCRPlate2E6_Hypoxia_S48_Aligned.sortedByCoord.out.bam', 'output.STAR.PCRPlate2E7_Normoxia_S148_Aligned.sortedByCoord.out.bam', 'output.STAR.PCRPlate2E8_Normoxia_S50_Aligned.sortedByCoord.out.bam', 'output.STAR.PCRPlate2E9_Normoxia_S55_Aligned.sortedByCoord.out.bam', 'output.STAR.PCRPlate2F10_Normoxia_S156_Aligned.sortedByCoord.out.bam', 'output.STAR.PCRPlate2F12_Normoxia_S62_Aligned.sortedByCoord.out.bam', 'output.STAR.PCRPlate2F1_Hypoxia_S133_Aligned.sortedByCoord.out.bam', 'output.STAR.PCRPlate2F2_Hypoxia_S33_Aligned.sortedByCoord.out.bam', 'output.STAR.PCRPlate2F3_Hypoxia_S40_Aligned.sortedByCoord.out.bam', 'output.STAR.PCRPlate2F4_Hypoxia_S142_Aligned.sortedByCoord.out.bam', 'output.STAR.PCRPlate2F6_Hypoxia_S145_Aligned.sortedByCoord.out.bam', 'output.STAR.PCRPlate2F7_Normoxia_S149_Aligned.sortedByCoord.out.bam', 'output.STAR.PCRPlate2F8_Normoxia_S51_Aligned.sortedByCoord.out.bam', 'output.STAR.PCRPlate2G10_Normoxia_S157_Aligned.sortedByCoord.out.bam', 'output.STAR.PCRPlate2G12_Normoxia_S63_Aligned.sortedByCoord.out.bam', 'output.STAR.PCRPlate2G2_Hypoxia_S34_Aligned.sortedByCoord.out.bam', 'output.STAR.PCRPlate2G4_Hypoxia_S143_Aligned.sortedByCoord.out.bam', 'output.STAR.PCRPlate2G7_Normoxia_S150_Aligned.sortedByCoord.out.bam', 'output.STAR.PCRPlate2G8_Normoxia_S52_Aligned.sortedByCoord.out.bam', 'output.STAR.PCRPlate2G9_Normoxia_S56_Aligned.sortedByCoord.out.bam', 'output.STAR.PCRPlate2H10_Normoxia_S158_Aligned.sortedByCoord.out.bam', 'output.STAR.PCRPlate2H11_Normoxia_S58_Aligned.sortedByCoord.out.bam', 'output.STAR.PCRPlate2H1_Hypoxia_S134_Aligned.sortedByCoord.out.bam', 'output.STAR.PCRPlate2H2_Hypoxia_S35_Aligned.sortedByCoord.out.bam', 'output.STAR.PCRPlate2H3_Hypoxia_S137_Aligned.sortedByCoord.out.bam', 'output.STAR.PCRPlate2H5_Hypoxia_S43_Aligned.sortedByCoord.out.bam', 'output.STAR.PCRPlate2H6_Hypoxia_S146_Aligned.sortedByCoord.out.bam', 'output.STAR.PCRPlate3A10_Normoxia_S186_Aligned.sortedByCoord.out.bam', 'output.STAR.PCRPlate3A11_Normoxia_S89_Aligned.sortedByCoord.out.bam', 'output.STAR.PCRPlate3A12_Normoxia_S94_Aligned.sortedByCoord.out.bam', 'output.STAR.PCRPlate3A2_Hypoxia_S166_Aligned.sortedByCoord.out.bam', 'output.STAR.PCRPlate3A3_Hypoxia_S69_Aligned.sortedByCoord.out.bam', 'output.STAR.PCRPlate3A5_Hypoxia_S75_Aligned.sortedByCoord.out.bam', 'output.STAR.PCRPlate3A6_Hypoxia_S177_Aligned.sortedByCoord.out.bam', 'output.STAR.PCRPlate3A9_Normoxia_S83_Aligned.sortedByCoord.out.bam', 'output.STAR.PCRPlate3B11_Normoxia_S90_Aligned.sortedByCoord.out.bam', 'output.STAR.PCRPlate3B1_Hypoxia_S64_Aligned.sortedByCoord.out.bam', 'output.STAR.PCRPlate3B3_Hypoxia_S70_Aligned.sortedByCoord.out.bam', 'output.STAR.PCRPlate3B4_Hypoxia_S173_Aligned.sortedByCoord.out.bam', 'output.STAR.PCRPlate3B5_Hypoxia_S76_Aligned.sortedByCoord.out.bam', 'output.STAR.PCRPlate3B6_Hypoxia_S178_Aligned.sortedByCoord.out.bam', 'output.STAR.PCRPlate3B7_Normoxia_S183_Aligned.sortedByCoord.out.bam', 'output.STAR.PCRPlate3B8_Normoxia_S82_Aligned.sortedByCoord.out.bam', 'output.STAR.PCRPlate3B9_Normoxia_S84_Aligned.sortedByCoord.out.bam', 'output.STAR.PCRPlate3C10_Normoxia_S187_Aligned.sortedByCoord.out.bam', 'output.STAR.PCRPlate3C11_Normoxia_S91_Aligned.sortedByCoord.out.bam', 'output.STAR.PCRPlate3C12_Normoxia_S95_Aligned.sortedByCoord.out.bam', 'output.STAR.PCRPlate3C2_Hypoxia_S167_Aligned.sortedByCoord.out.bam', 'output.STAR.PCRPlate3C3_Hypoxia_S71_Aligned.sortedByCoord.out.bam', 'output.STAR.PCRPlate3C5_Hypoxia_S77_Aligned.sortedByCoord.out.bam', 'output.STAR.PCRPlate3C6_Hypoxia_S179_Aligned.sortedByCoord.out.bam', 'output.STAR.PCRPlate3C9_Normoxia_S85_Aligned.sortedByCoord.out.bam', 'output.STAR.PCRPlate3D10_Normoxia_S188_Aligned.sortedByCoord.out.bam', 'output.STAR.PCRPlate3D11_Normoxia_S92_Aligned.sortedByCoord.out.bam', 'output.STAR.PCRPlate3D12_Normoxia_S96_Aligned.sortedByCoord.out.bam', 'output.STAR.PCRPlate3D1_Hypoxia_S161_Aligned.sortedByCoord.out.bam', 'output.STAR.PCRPlate3D2_Hypoxia_S168_Aligned.sortedByCoord.out.bam', 'output.STAR.PCRPlate3D3_Hypoxia_S72_Aligned.sortedByCoord.out.bam', 'output.STAR.PCRPlate3D4_Hypoxia_S174_Aligned.sortedByCoord.out.bam', 'output.STAR.PCRPlate3D5_Hypoxia_S78_Aligned.sortedByCoord.out.bam', 'output.STAR.PCRPlate3D9_Normoxia_S86_Aligned.sortedByCoord.out.bam', 'output.STAR.PCRPlate3E10_Normoxia_S189_Aligned.sortedByCoord.out.bam', 'output.STAR.PCRPlate3E12_Normoxia_S217_Aligned.sortedByCoord.out.bam', 'output.STAR.PCRPlate3E1_Hypoxia_S162_Aligned.sortedByCoord.out.bam', 'output.STAR.PCRPlate3E2_Hypoxia_S65_Aligned.sortedByCoord.out.bam', 'output.STAR.PCRPlate3E3_Hypoxia_S169_Aligned.sortedByCoord.out.bam', 'output.STAR.PCRPlate3E4_Hypoxia_S175_Aligned.sortedByCoord.out.bam', 'output.STAR.PCRPlate3E5_Hypoxia_S79_Aligned.sortedByCoord.out.bam', 'output.STAR.PCRPlate3E9_Normoxia_S87_Aligned.sortedByCoord.out.bam', 'output.STAR.PCRPlate3F10_Normoxia_S190_Aligned.sortedByCoord.out.bam', 'output.STAR.PCRPlate3F12_Normoxia_S218_Aligned.sortedByCoord.out.bam', 'output.STAR.PCRPlate3F1_Hypoxia_S163_Aligned.sortedByCoord.out.bam', 'output.STAR.PCRPlate3F2_Hypoxia_S66_Aligned.sortedByCoord.out.bam', 'output.STAR.PCRPlate3F3_Hypoxia_S170_Aligned.sortedByCoord.out.bam', 'output.STAR.PCRPlate3F4_Hypoxia_S176_Aligned.sortedByCoord.out.bam', 'output.STAR.PCRPlate3F6_Hypoxia_S180_Aligned.sortedByCoord.out.bam', 'output.STAR.PCRPlate3F9_Normoxia_S88_Aligned.sortedByCoord.out.bam', 'output.STAR.PCRPlate3G10_Normoxia_S191_Aligned.sortedByCoord.out.bam', 'output.STAR.PCRPlate3G11_Normoxia_S93_Aligned.sortedByCoord.out.bam', 'output.STAR.PCRPlate3G12_Normoxia_S219_Aligned.sortedByCoord.out.bam', 'output.STAR.PCRPlate3G1_Hypoxia_S164_Aligned.sortedByCoord.out.bam', 'output.STAR.PCRPlate3G2_Hypoxia_S67_Aligned.sortedByCoord.out.bam', 'output.STAR.PCRPlate3G3_Hypoxia_S171_Aligned.sortedByCoord.out.bam', 'output.STAR.PCRPlate3G4_Hypoxia_S73_Aligned.sortedByCoord.out.bam', 'output.STAR.PCRPlate3G5_Hypoxia_S80_Aligned.sortedByCoord.out.bam', 'output.STAR.PCRPlate3G6_Hypoxia_S181_Aligned.sortedByCoord.out.bam', 'output.STAR.PCRPlate3G7_Normoxia_S184_Aligned.sortedByCoord.out.bam', 'output.STAR.PCRPlate3G9_Normoxia_S185_Aligned.sortedByCoord.out.bam', 'output.STAR.PCRPlate3H10_Normoxia_S192_Aligned.sortedByCoord.out.bam', 'output.STAR.PCRPlate3H1_Hypoxia_S165_Aligned.sortedByCoord.out.bam', 'output.STAR.PCRPlate3H2_Hypoxia_S68_Aligned.sortedByCoord.out.bam', 'output.STAR.PCRPlate3H3_Hypoxia_S172_Aligned.sortedByCoord.out.bam', 'output.STAR.PCRPlate3H4_Hypoxia_S74_Aligned.sortedByCoord.out.bam', 'output.STAR.PCRPlate3H6_Hypoxia_S182_Aligned.sortedByCoord.out.bam', 'output.STAR.PCRPlate3H7_Normoxia_S81_Aligned.sortedByCoord.out.bam', 'output.STAR.PCRPlate4A10_Normoxia_S237_Aligned.sortedByCoord.out.bam', 'output.STAR.PCRPlate4A1_Hypoxia_S220_Aligned.sortedByCoord.out.bam', 'output.STAR.PCRPlate4A3_Hypoxia_S200_Aligned.sortedByCoord.out.bam', 'output.STAR.PCRPlate4A7_Normoxia_S201_Aligned.sortedByCoord.out.bam', 'output.STAR.PCRPlate4A8_Normoxia_S206_Aligned.sortedByCoord.out.bam', 'output.STAR.PCRPlate4A9_Normoxia_S234_Aligned.sortedByCoord.out.bam', 'output.STAR.PCRPlate4B10_Normoxia_S238_Aligned.sortedByCoord.out.bam', 'output.STAR.PCRPlate4B11_Normoxia_S211_Aligned.sortedByCoord.out.bam', 'output.STAR.PCRPlate4B12_Normoxia_S215_Aligned.sortedByCoord.out.bam', 'output.STAR.PCRPlate4B1_Hypoxia_S221_Aligned.sortedByCoord.out.bam', 'output.STAR.PCRPlate4B2_Hypoxia_S194_Aligned.sortedByCoord.out.bam', 'output.STAR.PCRPlate4B3_Hypoxia_S225_Aligned.sortedByCoord.out.bam', 'output.STAR.PCRPlate4B6_Hypoxia_S230_Aligned.sortedByCoord.out.bam', 'output.STAR.PCRPlate4B8_Normoxia_S207_Aligned.sortedByCoord.out.bam', 'output.STAR.PCRPlate4C10_Normoxia_S239_Aligned.sortedByCoord.out.bam', 'output.STAR.PCRPlate4C11_Normoxia_S212_Aligned.sortedByCoord.out.bam', 'output.STAR.PCRPlate4C12_Normoxia_S216_Aligned.sortedByCoord.out.bam', 'output.STAR.PCRPlate4C1_Hypoxia_S222_Aligned.sortedByCoord.out.bam', 'output.STAR.PCRPlate4C2_Hypoxia_S195_Aligned.sortedByCoord.out.bam', 'output.STAR.PCRPlate4C3_Hypoxia_S226_Aligned.sortedByCoord.out.bam', 'output.STAR.PCRPlate4C6_Hypoxia_S231_Aligned.sortedByCoord.out.bam', 'output.STAR.PCRPlate4C7_Normoxia_S202_Aligned.sortedByCoord.out.bam', 'output.STAR.PCRPlate4C8_Normoxia_S208_Aligned.sortedByCoord.out.bam', 'output.STAR.PCRPlate4E11_Normoxia_S213_Aligned.sortedByCoord.out.bam', 'output.STAR.PCRPlate4E12_Normoxia_S241_Aligned.sortedByCoord.out.bam', 'output.STAR.PCRPlate4E1_Hypoxia_S223_Aligned.sortedByCoord.out.bam', 'output.STAR.PCRPlate4E2_Hypoxia_S196_Aligned.sortedByCoord.out.bam', 'output.STAR.PCRPlate4E3_Hypoxia_S227_Aligned.sortedByCoord.out.bam', 'output.STAR.PCRPlate4E8_Normoxia_S233_Aligned.sortedByCoord.out.bam', 'output.STAR.PCRPlate4F10_Normoxia_S240_Aligned.sortedByCoord.out.bam', 'output.STAR.PCRPlate4F12_Normoxia_S242_Aligned.sortedByCoord.out.bam', 'output.STAR.PCRPlate4F1_Hypoxia_S224_Aligned.sortedByCoord.out.bam', 'output.STAR.PCRPlate4F2_Hypoxia_S197_Aligned.sortedByCoord.out.bam', 'output.STAR.PCRPlate4F4_Hypoxia_S228_Aligned.sortedByCoord.out.bam', 'output.STAR.PCRPlate4F5_Hypoxia_S229_Aligned.sortedByCoord.out.bam', 'output.STAR.PCRPlate4F7_Normoxia_S203_Aligned.sortedByCoord.out.bam', 'output.STAR.PCRPlate4F9_Normoxia_S235_Aligned.sortedByCoord.out.bam', 'output.STAR.PCRPlate4G10_Normoxia_S209_Aligned.sortedByCoord.out.bam', 'output.STAR.PCRPlate4G12_Normoxia_S243_Aligned.sortedByCoord.out.bam', 'output.STAR.PCRPlate4G1_Hypoxia_S193_Aligned.sortedByCoord.out.bam', 'output.STAR.PCRPlate4G2_Hypoxia_S198_Aligned.sortedByCoord.out.bam', 'output.STAR.PCRPlate4G6_Hypoxia_S232_Aligned.sortedByCoord.out.bam', 'output.STAR.PCRPlate4G7_Normoxia_S204_Aligned.sortedByCoord.out.bam', 'output.STAR.PCRPlate4H10_Normoxia_S210_Aligned.sortedByCoord.out.bam', 'output.STAR.PCRPlate4H11_Normoxia_S214_Aligned.sortedByCoord.out.bam', 'output.STAR.PCRPlate4H2_Hypoxia_S199_Aligned.sortedByCoord.out.bam', 'output.STAR.PCRPlate4H7_Normoxia_S205_Aligned.sortedByCoord.out.bam', 'output.STAR.PCRPlate4H9_Normoxia_S236_Aligned.sortedByCoord.out.bam']\n"
     ]
    }
   ],
   "source": [
    "# Exploring the dataframe for the unfiltered data\n",
    "print(\"Dataframe dimension:\", df_seq_HUnfilt.shape)\n",
    "print(\"First Column:\", df_seq_HUnfilt.iloc[:,0])\n",
    "print(\"Columns list:\", list(df_seq_HUnfilt.columns))\n",
    "# Hence we see features on the rows and therefore we need to transpose the data matrix"
   ]
  },
  {
   "cell_type": "code",
   "execution_count": 10,
   "metadata": {},
   "outputs": [
    {
     "name": "stdout",
     "output_type": "stream",
     "text": [
      "Data types in the dataframe: output.STAR.PCRPlate1A10_Normoxia_S123_Aligned.sortedByCoord.out.bam    int64\n",
      "output.STAR.PCRPlate1A12_Normoxia_S26_Aligned.sortedByCoord.out.bam     int64\n",
      "output.STAR.PCRPlate1A1_Hypoxia_S97_Aligned.sortedByCoord.out.bam       int64\n",
      "output.STAR.PCRPlate1A2_Hypoxia_S104_Aligned.sortedByCoord.out.bam      int64\n",
      "output.STAR.PCRPlate1A3_Hypoxia_S4_Aligned.sortedByCoord.out.bam        int64\n",
      "                                                                        ...  \n",
      "output.STAR.PCRPlate4H10_Normoxia_S210_Aligned.sortedByCoord.out.bam    int64\n",
      "output.STAR.PCRPlate4H11_Normoxia_S214_Aligned.sortedByCoord.out.bam    int64\n",
      "output.STAR.PCRPlate4H2_Hypoxia_S199_Aligned.sortedByCoord.out.bam      int64\n",
      "output.STAR.PCRPlate4H7_Normoxia_S205_Aligned.sortedByCoord.out.bam     int64\n",
      "output.STAR.PCRPlate4H9_Normoxia_S236_Aligned.sortedByCoord.out.bam     int64\n",
      "Length: 243, dtype: object\n",
      "Gene symbols in the dataframe: Index(['WASH7P', 'CICP27', 'DDX11L17', 'WASH9P', 'OR4F29', 'MTND1P23',\n",
      "       'MTND2P28', 'MTCO1P12', 'MTCO2P12', 'MTATP8P1',\n",
      "       ...\n",
      "       'MT-TH', 'MT-TS2', 'MT-TL2', 'MT-ND5', 'MT-ND6', 'MT-TE', 'MT-CYB',\n",
      "       'MT-TT', 'MT-TP', 'MAFIP'],\n",
      "      dtype='object', length=23396)\n"
     ]
    }
   ],
   "source": [
    "# Check for the types of data in the dataframe\n",
    "print(\"Data types in the dataframe:\", df_seq_HUnfilt.dtypes)\n",
    "# Check for features\n",
    "gene_symbols = df_seq_HUnfilt.index\n",
    "print(\"Gene symbols in the dataframe:\",gene_symbols)"
   ]
  },
  {
   "cell_type": "markdown",
   "metadata": {},
   "source": [
    "Here we take the transpose of our dataframe"
   ]
  },
  {
   "cell_type": "code",
   "execution_count": 11,
   "metadata": {},
   "outputs": [
    {
     "name": "stdout",
     "output_type": "stream",
     "text": [
      "Dataframe dimension before transpose: (23396, 243)\n",
      "Dataframe dimension after transpose: (243, 23396)\n"
     ]
    },
    {
     "data": {
      "text/html": [
       "<div>\n",
       "<style scoped>\n",
       "    .dataframe tbody tr th:only-of-type {\n",
       "        vertical-align: middle;\n",
       "    }\n",
       "\n",
       "    .dataframe tbody tr th {\n",
       "        vertical-align: top;\n",
       "    }\n",
       "\n",
       "    .dataframe thead th {\n",
       "        text-align: right;\n",
       "    }\n",
       "</style>\n",
       "<table border=\"1\" class=\"dataframe\">\n",
       "  <thead>\n",
       "    <tr style=\"text-align: right;\">\n",
       "      <th></th>\n",
       "      <th>WASH7P</th>\n",
       "      <th>CICP27</th>\n",
       "      <th>DDX11L17</th>\n",
       "      <th>WASH9P</th>\n",
       "      <th>OR4F29</th>\n",
       "      <th>MTND1P23</th>\n",
       "      <th>MTND2P28</th>\n",
       "      <th>MTCO1P12</th>\n",
       "      <th>MTCO2P12</th>\n",
       "      <th>MTATP8P1</th>\n",
       "      <th>...</th>\n",
       "      <th>MT-TH</th>\n",
       "      <th>MT-TS2</th>\n",
       "      <th>MT-TL2</th>\n",
       "      <th>MT-ND5</th>\n",
       "      <th>MT-ND6</th>\n",
       "      <th>MT-TE</th>\n",
       "      <th>MT-CYB</th>\n",
       "      <th>MT-TT</th>\n",
       "      <th>MT-TP</th>\n",
       "      <th>MAFIP</th>\n",
       "    </tr>\n",
       "  </thead>\n",
       "  <tbody>\n",
       "    <tr>\n",
       "      <th>output.STAR.PCRPlate1A10_Normoxia_S123_Aligned.sortedByCoord.out.bam</th>\n",
       "      <td>0</td>\n",
       "      <td>0</td>\n",
       "      <td>0</td>\n",
       "      <td>0</td>\n",
       "      <td>2</td>\n",
       "      <td>250</td>\n",
       "      <td>54</td>\n",
       "      <td>1740</td>\n",
       "      <td>6</td>\n",
       "      <td>1</td>\n",
       "      <td>...</td>\n",
       "      <td>17</td>\n",
       "      <td>5</td>\n",
       "      <td>15</td>\n",
       "      <td>3852</td>\n",
       "      <td>900</td>\n",
       "      <td>22</td>\n",
       "      <td>4208</td>\n",
       "      <td>26</td>\n",
       "      <td>66</td>\n",
       "      <td>0</td>\n",
       "    </tr>\n",
       "    <tr>\n",
       "      <th>output.STAR.PCRPlate1A12_Normoxia_S26_Aligned.sortedByCoord.out.bam</th>\n",
       "      <td>0</td>\n",
       "      <td>0</td>\n",
       "      <td>0</td>\n",
       "      <td>0</td>\n",
       "      <td>0</td>\n",
       "      <td>424</td>\n",
       "      <td>100</td>\n",
       "      <td>2340</td>\n",
       "      <td>5</td>\n",
       "      <td>1</td>\n",
       "      <td>...</td>\n",
       "      <td>49</td>\n",
       "      <td>29</td>\n",
       "      <td>36</td>\n",
       "      <td>7457</td>\n",
       "      <td>1439</td>\n",
       "      <td>43</td>\n",
       "      <td>6491</td>\n",
       "      <td>62</td>\n",
       "      <td>71</td>\n",
       "      <td>4</td>\n",
       "    </tr>\n",
       "    <tr>\n",
       "      <th>output.STAR.PCRPlate1A1_Hypoxia_S97_Aligned.sortedByCoord.out.bam</th>\n",
       "      <td>0</td>\n",
       "      <td>0</td>\n",
       "      <td>0</td>\n",
       "      <td>0</td>\n",
       "      <td>0</td>\n",
       "      <td>11</td>\n",
       "      <td>0</td>\n",
       "      <td>22</td>\n",
       "      <td>0</td>\n",
       "      <td>0</td>\n",
       "      <td>...</td>\n",
       "      <td>0</td>\n",
       "      <td>0</td>\n",
       "      <td>0</td>\n",
       "      <td>93</td>\n",
       "      <td>12</td>\n",
       "      <td>0</td>\n",
       "      <td>25</td>\n",
       "      <td>0</td>\n",
       "      <td>1</td>\n",
       "      <td>0</td>\n",
       "    </tr>\n",
       "    <tr>\n",
       "      <th>output.STAR.PCRPlate1A2_Hypoxia_S104_Aligned.sortedByCoord.out.bam</th>\n",
       "      <td>0</td>\n",
       "      <td>0</td>\n",
       "      <td>0</td>\n",
       "      <td>0</td>\n",
       "      <td>0</td>\n",
       "      <td>63</td>\n",
       "      <td>16</td>\n",
       "      <td>1020</td>\n",
       "      <td>3</td>\n",
       "      <td>0</td>\n",
       "      <td>...</td>\n",
       "      <td>43</td>\n",
       "      <td>17</td>\n",
       "      <td>8</td>\n",
       "      <td>1479</td>\n",
       "      <td>234</td>\n",
       "      <td>0</td>\n",
       "      <td>4819</td>\n",
       "      <td>11</td>\n",
       "      <td>3</td>\n",
       "      <td>7</td>\n",
       "    </tr>\n",
       "    <tr>\n",
       "      <th>output.STAR.PCRPlate1A3_Hypoxia_S4_Aligned.sortedByCoord.out.bam</th>\n",
       "      <td>0</td>\n",
       "      <td>0</td>\n",
       "      <td>0</td>\n",
       "      <td>0</td>\n",
       "      <td>0</td>\n",
       "      <td>27</td>\n",
       "      <td>3</td>\n",
       "      <td>303</td>\n",
       "      <td>0</td>\n",
       "      <td>0</td>\n",
       "      <td>...</td>\n",
       "      <td>0</td>\n",
       "      <td>0</td>\n",
       "      <td>3</td>\n",
       "      <td>303</td>\n",
       "      <td>33</td>\n",
       "      <td>0</td>\n",
       "      <td>310</td>\n",
       "      <td>4</td>\n",
       "      <td>9</td>\n",
       "      <td>0</td>\n",
       "    </tr>\n",
       "  </tbody>\n",
       "</table>\n",
       "<p>5 rows × 23396 columns</p>\n",
       "</div>"
      ],
      "text/plain": [
       "                                                    WASH7P  CICP27  DDX11L17  \\\n",
       "output.STAR.PCRPlate1A10_Normoxia_S123_Aligned....       0       0         0   \n",
       "output.STAR.PCRPlate1A12_Normoxia_S26_Aligned.s...       0       0         0   \n",
       "output.STAR.PCRPlate1A1_Hypoxia_S97_Aligned.sor...       0       0         0   \n",
       "output.STAR.PCRPlate1A2_Hypoxia_S104_Aligned.so...       0       0         0   \n",
       "output.STAR.PCRPlate1A3_Hypoxia_S4_Aligned.sort...       0       0         0   \n",
       "\n",
       "                                                    WASH9P  OR4F29  MTND1P23  \\\n",
       "output.STAR.PCRPlate1A10_Normoxia_S123_Aligned....       0       2       250   \n",
       "output.STAR.PCRPlate1A12_Normoxia_S26_Aligned.s...       0       0       424   \n",
       "output.STAR.PCRPlate1A1_Hypoxia_S97_Aligned.sor...       0       0        11   \n",
       "output.STAR.PCRPlate1A2_Hypoxia_S104_Aligned.so...       0       0        63   \n",
       "output.STAR.PCRPlate1A3_Hypoxia_S4_Aligned.sort...       0       0        27   \n",
       "\n",
       "                                                    MTND2P28  MTCO1P12  \\\n",
       "output.STAR.PCRPlate1A10_Normoxia_S123_Aligned....        54      1740   \n",
       "output.STAR.PCRPlate1A12_Normoxia_S26_Aligned.s...       100      2340   \n",
       "output.STAR.PCRPlate1A1_Hypoxia_S97_Aligned.sor...         0        22   \n",
       "output.STAR.PCRPlate1A2_Hypoxia_S104_Aligned.so...        16      1020   \n",
       "output.STAR.PCRPlate1A3_Hypoxia_S4_Aligned.sort...         3       303   \n",
       "\n",
       "                                                    MTCO2P12  MTATP8P1  ...  \\\n",
       "output.STAR.PCRPlate1A10_Normoxia_S123_Aligned....         6         1  ...   \n",
       "output.STAR.PCRPlate1A12_Normoxia_S26_Aligned.s...         5         1  ...   \n",
       "output.STAR.PCRPlate1A1_Hypoxia_S97_Aligned.sor...         0         0  ...   \n",
       "output.STAR.PCRPlate1A2_Hypoxia_S104_Aligned.so...         3         0  ...   \n",
       "output.STAR.PCRPlate1A3_Hypoxia_S4_Aligned.sort...         0         0  ...   \n",
       "\n",
       "                                                    MT-TH  MT-TS2  MT-TL2  \\\n",
       "output.STAR.PCRPlate1A10_Normoxia_S123_Aligned....     17       5      15   \n",
       "output.STAR.PCRPlate1A12_Normoxia_S26_Aligned.s...     49      29      36   \n",
       "output.STAR.PCRPlate1A1_Hypoxia_S97_Aligned.sor...      0       0       0   \n",
       "output.STAR.PCRPlate1A2_Hypoxia_S104_Aligned.so...     43      17       8   \n",
       "output.STAR.PCRPlate1A3_Hypoxia_S4_Aligned.sort...      0       0       3   \n",
       "\n",
       "                                                    MT-ND5  MT-ND6  MT-TE  \\\n",
       "output.STAR.PCRPlate1A10_Normoxia_S123_Aligned....    3852     900     22   \n",
       "output.STAR.PCRPlate1A12_Normoxia_S26_Aligned.s...    7457    1439     43   \n",
       "output.STAR.PCRPlate1A1_Hypoxia_S97_Aligned.sor...      93      12      0   \n",
       "output.STAR.PCRPlate1A2_Hypoxia_S104_Aligned.so...    1479     234      0   \n",
       "output.STAR.PCRPlate1A3_Hypoxia_S4_Aligned.sort...     303      33      0   \n",
       "\n",
       "                                                    MT-CYB  MT-TT  MT-TP  \\\n",
       "output.STAR.PCRPlate1A10_Normoxia_S123_Aligned....    4208     26     66   \n",
       "output.STAR.PCRPlate1A12_Normoxia_S26_Aligned.s...    6491     62     71   \n",
       "output.STAR.PCRPlate1A1_Hypoxia_S97_Aligned.sor...      25      0      1   \n",
       "output.STAR.PCRPlate1A2_Hypoxia_S104_Aligned.so...    4819     11      3   \n",
       "output.STAR.PCRPlate1A3_Hypoxia_S4_Aligned.sort...     310      4      9   \n",
       "\n",
       "                                                    MAFIP  \n",
       "output.STAR.PCRPlate1A10_Normoxia_S123_Aligned....      0  \n",
       "output.STAR.PCRPlate1A12_Normoxia_S26_Aligned.s...      4  \n",
       "output.STAR.PCRPlate1A1_Hypoxia_S97_Aligned.sor...      0  \n",
       "output.STAR.PCRPlate1A2_Hypoxia_S104_Aligned.so...      7  \n",
       "output.STAR.PCRPlate1A3_Hypoxia_S4_Aligned.sort...      0  \n",
       "\n",
       "[5 rows x 23396 columns]"
      ]
     },
     "execution_count": 11,
     "metadata": {},
     "output_type": "execute_result"
    }
   ],
   "source": [
    "# Take the transpose of the dataframe\n",
    "print(\"Dataframe dimension before transpose:\", df_seq_HUnfilt.shape)\n",
    "df_seq_HUnfilt = df_seq_HUnfilt.T\n",
    "print(\"Dataframe dimension after transpose:\", df_seq_HUnfilt.shape)\n",
    "df_seq_HUnfilt.head(5)\n"
   ]
  },
  {
   "cell_type": "markdown",
   "metadata": {},
   "source": [
    "Here we just look for missing values in our dataframe"
   ]
  },
  {
   "cell_type": "code",
   "execution_count": null,
   "metadata": {},
   "outputs": [],
   "source": [
    "# Now we look at evetual missing values in the dataframe\n",
    "print(\"Missing values in the dataframe by columns:\", df_seq_HUnfilt.isnull().sum())\n",
    "print(\"Missing values in the whole dataframe:\", df_seq_HUnfilt.isna().sum().sum())"
   ]
  },
  {
   "cell_type": "markdown",
   "metadata": {},
   "source": [
    "Now we generate descriptive statistics for the DataFrame df_seq_HUnfilt"
   ]
  },
  {
   "cell_type": "code",
   "execution_count": null,
   "metadata": {},
   "outputs": [],
   "source": [
    "df_seq_HUnfilt.describe()"
   ]
  },
  {
   "cell_type": "markdown",
   "metadata": {},
   "source": [
    "We add the column 'Filename' to the dataframe df.metah in order to merge it based on this common column with df_seq_HUnfilt"
   ]
  },
  {
   "cell_type": "code",
   "execution_count": 13,
   "metadata": {},
   "outputs": [
    {
     "name": "stdout",
     "output_type": "stream",
     "text": [
      "Index(['Filename', 'Cell Line', 'PCR Plate', 'Pos', 'Condition', 'Hours',\n",
      "       'Cell name', 'PreprocessingTag', 'ProcessingComments'],\n",
      "      dtype='object')\n",
      "Index(['WASH7P', 'CICP27', 'DDX11L17', 'WASH9P', 'OR4F29', 'MTND1P23',\n",
      "       'MTND2P28', 'MTCO1P12', 'MTCO2P12', 'MTATP8P1',\n",
      "       ...\n",
      "       'MT-TS2', 'MT-TL2', 'MT-ND5', 'MT-ND6', 'MT-TE', 'MT-CYB', 'MT-TT',\n",
      "       'MT-TP', 'MAFIP', 'Condition'],\n",
      "      dtype='object', length=23397)\n"
     ]
    }
   ],
   "source": [
    "# Now we want to add the target column (i.e. the class) to the dataframe, we get the condition from metadata\n",
    "print(df_metaH.columns)\n",
    "df_metaH.set_index('Filename', inplace=True)\n",
    "# Merge the two dataframes with key 'Filename'\n",
    "merged_df = pd.merge(df_seq_HUnfilt, df_metaH['Condition'], left_index=True, right_index=True)\n",
    "print(merged_df.columns)"
   ]
  },
  {
   "cell_type": "markdown",
   "metadata": {},
   "source": [
    "Now transform the categorical variable 'Condition' to numerical "
   ]
  },
  {
   "cell_type": "code",
   "execution_count": 14,
   "metadata": {},
   "outputs": [
    {
     "name": "stdout",
     "output_type": "stream",
     "text": [
      "                                                    WASH7P  CICP27  DDX11L17  \\\n",
      "output.STAR.PCRPlate1A10_Normoxia_S123_Aligned....       0       0         0   \n",
      "output.STAR.PCRPlate1A12_Normoxia_S26_Aligned.s...       0       0         0   \n",
      "output.STAR.PCRPlate1A1_Hypoxia_S97_Aligned.sor...       0       0         0   \n",
      "output.STAR.PCRPlate1A2_Hypoxia_S104_Aligned.so...       0       0         0   \n",
      "output.STAR.PCRPlate1A3_Hypoxia_S4_Aligned.sort...       0       0         0   \n",
      "\n",
      "                                                    WASH9P  OR4F29  MTND1P23  \\\n",
      "output.STAR.PCRPlate1A10_Normoxia_S123_Aligned....       0       2       250   \n",
      "output.STAR.PCRPlate1A12_Normoxia_S26_Aligned.s...       0       0       424   \n",
      "output.STAR.PCRPlate1A1_Hypoxia_S97_Aligned.sor...       0       0        11   \n",
      "output.STAR.PCRPlate1A2_Hypoxia_S104_Aligned.so...       0       0        63   \n",
      "output.STAR.PCRPlate1A3_Hypoxia_S4_Aligned.sort...       0       0        27   \n",
      "\n",
      "                                                    MTND2P28  MTCO1P12  \\\n",
      "output.STAR.PCRPlate1A10_Normoxia_S123_Aligned....        54      1740   \n",
      "output.STAR.PCRPlate1A12_Normoxia_S26_Aligned.s...       100      2340   \n",
      "output.STAR.PCRPlate1A1_Hypoxia_S97_Aligned.sor...         0        22   \n",
      "output.STAR.PCRPlate1A2_Hypoxia_S104_Aligned.so...        16      1020   \n",
      "output.STAR.PCRPlate1A3_Hypoxia_S4_Aligned.sort...         3       303   \n",
      "\n",
      "                                                    MTCO2P12  MTATP8P1  ...  \\\n",
      "output.STAR.PCRPlate1A10_Normoxia_S123_Aligned....         6         1  ...   \n",
      "output.STAR.PCRPlate1A12_Normoxia_S26_Aligned.s...         5         1  ...   \n",
      "output.STAR.PCRPlate1A1_Hypoxia_S97_Aligned.sor...         0         0  ...   \n",
      "output.STAR.PCRPlate1A2_Hypoxia_S104_Aligned.so...         3         0  ...   \n",
      "output.STAR.PCRPlate1A3_Hypoxia_S4_Aligned.sort...         0         0  ...   \n",
      "\n",
      "                                                    MT-ND5  MT-ND6  MT-TE  \\\n",
      "output.STAR.PCRPlate1A10_Normoxia_S123_Aligned....    3852     900     22   \n",
      "output.STAR.PCRPlate1A12_Normoxia_S26_Aligned.s...    7457    1439     43   \n",
      "output.STAR.PCRPlate1A1_Hypoxia_S97_Aligned.sor...      93      12      0   \n",
      "output.STAR.PCRPlate1A2_Hypoxia_S104_Aligned.so...    1479     234      0   \n",
      "output.STAR.PCRPlate1A3_Hypoxia_S4_Aligned.sort...     303      33      0   \n",
      "\n",
      "                                                    MT-CYB  MT-TT  MT-TP  \\\n",
      "output.STAR.PCRPlate1A10_Normoxia_S123_Aligned....    4208     26     66   \n",
      "output.STAR.PCRPlate1A12_Normoxia_S26_Aligned.s...    6491     62     71   \n",
      "output.STAR.PCRPlate1A1_Hypoxia_S97_Aligned.sor...      25      0      1   \n",
      "output.STAR.PCRPlate1A2_Hypoxia_S104_Aligned.so...    4819     11      3   \n",
      "output.STAR.PCRPlate1A3_Hypoxia_S4_Aligned.sort...     310      4      9   \n",
      "\n",
      "                                                    MAFIP  Condition  \\\n",
      "output.STAR.PCRPlate1A10_Normoxia_S123_Aligned....      0      Normo   \n",
      "output.STAR.PCRPlate1A12_Normoxia_S26_Aligned.s...      4      Normo   \n",
      "output.STAR.PCRPlate1A1_Hypoxia_S97_Aligned.sor...      0       Hypo   \n",
      "output.STAR.PCRPlate1A2_Hypoxia_S104_Aligned.so...      7       Hypo   \n",
      "output.STAR.PCRPlate1A3_Hypoxia_S4_Aligned.sort...      0       Hypo   \n",
      "\n",
      "                                                    category_Hypo  \\\n",
      "output.STAR.PCRPlate1A10_Normoxia_S123_Aligned....              0   \n",
      "output.STAR.PCRPlate1A12_Normoxia_S26_Aligned.s...              0   \n",
      "output.STAR.PCRPlate1A1_Hypoxia_S97_Aligned.sor...              1   \n",
      "output.STAR.PCRPlate1A2_Hypoxia_S104_Aligned.so...              1   \n",
      "output.STAR.PCRPlate1A3_Hypoxia_S4_Aligned.sort...              1   \n",
      "\n",
      "                                                    category_Normo  \n",
      "output.STAR.PCRPlate1A10_Normoxia_S123_Aligned....               1  \n",
      "output.STAR.PCRPlate1A12_Normoxia_S26_Aligned.s...               1  \n",
      "output.STAR.PCRPlate1A1_Hypoxia_S97_Aligned.sor...               0  \n",
      "output.STAR.PCRPlate1A2_Hypoxia_S104_Aligned.so...               0  \n",
      "output.STAR.PCRPlate1A3_Hypoxia_S4_Aligned.sort...               0  \n",
      "\n",
      "[5 rows x 23399 columns]\n"
     ]
    }
   ],
   "source": [
    "# Now transform the categorical variable 'Condition' to numerical\n",
    "dummy_variables = pd.get_dummies(merged_df['Condition'], prefix='category').astype('int')\n",
    "merged = pd.concat([merged_df, dummy_variables], axis=1)\n",
    "print(merged.head())\n",
    "merged.drop(columns=['category_Hypo', 'Condition'], inplace=True)\n",
    "merged.rename(columns={'category_Normo': 'Target'}, inplace=True)\n",
    "# Note that 1 = Hypo, 0 = Norm"
   ]
  },
  {
   "cell_type": "markdown",
   "metadata": {},
   "source": [
    "We take a lot at the dataframe again showing 5 rows"
   ]
  },
  {
   "cell_type": "code",
   "execution_count": 15,
   "metadata": {},
   "outputs": [
    {
     "data": {
      "text/html": [
       "<div>\n",
       "<style scoped>\n",
       "    .dataframe tbody tr th:only-of-type {\n",
       "        vertical-align: middle;\n",
       "    }\n",
       "\n",
       "    .dataframe tbody tr th {\n",
       "        vertical-align: top;\n",
       "    }\n",
       "\n",
       "    .dataframe thead th {\n",
       "        text-align: right;\n",
       "    }\n",
       "</style>\n",
       "<table border=\"1\" class=\"dataframe\">\n",
       "  <thead>\n",
       "    <tr style=\"text-align: right;\">\n",
       "      <th></th>\n",
       "      <th>WASH7P</th>\n",
       "      <th>CICP27</th>\n",
       "      <th>DDX11L17</th>\n",
       "      <th>WASH9P</th>\n",
       "      <th>OR4F29</th>\n",
       "      <th>MTND1P23</th>\n",
       "      <th>MTND2P28</th>\n",
       "      <th>MTCO1P12</th>\n",
       "      <th>MTCO2P12</th>\n",
       "      <th>MTATP8P1</th>\n",
       "      <th>...</th>\n",
       "      <th>MT-TS2</th>\n",
       "      <th>MT-TL2</th>\n",
       "      <th>MT-ND5</th>\n",
       "      <th>MT-ND6</th>\n",
       "      <th>MT-TE</th>\n",
       "      <th>MT-CYB</th>\n",
       "      <th>MT-TT</th>\n",
       "      <th>MT-TP</th>\n",
       "      <th>MAFIP</th>\n",
       "      <th>Target</th>\n",
       "    </tr>\n",
       "  </thead>\n",
       "  <tbody>\n",
       "    <tr>\n",
       "      <th>output.STAR.PCRPlate1A10_Normoxia_S123_Aligned.sortedByCoord.out.bam</th>\n",
       "      <td>0</td>\n",
       "      <td>0</td>\n",
       "      <td>0</td>\n",
       "      <td>0</td>\n",
       "      <td>2</td>\n",
       "      <td>250</td>\n",
       "      <td>54</td>\n",
       "      <td>1740</td>\n",
       "      <td>6</td>\n",
       "      <td>1</td>\n",
       "      <td>...</td>\n",
       "      <td>5</td>\n",
       "      <td>15</td>\n",
       "      <td>3852</td>\n",
       "      <td>900</td>\n",
       "      <td>22</td>\n",
       "      <td>4208</td>\n",
       "      <td>26</td>\n",
       "      <td>66</td>\n",
       "      <td>0</td>\n",
       "      <td>1</td>\n",
       "    </tr>\n",
       "    <tr>\n",
       "      <th>output.STAR.PCRPlate1A12_Normoxia_S26_Aligned.sortedByCoord.out.bam</th>\n",
       "      <td>0</td>\n",
       "      <td>0</td>\n",
       "      <td>0</td>\n",
       "      <td>0</td>\n",
       "      <td>0</td>\n",
       "      <td>424</td>\n",
       "      <td>100</td>\n",
       "      <td>2340</td>\n",
       "      <td>5</td>\n",
       "      <td>1</td>\n",
       "      <td>...</td>\n",
       "      <td>29</td>\n",
       "      <td>36</td>\n",
       "      <td>7457</td>\n",
       "      <td>1439</td>\n",
       "      <td>43</td>\n",
       "      <td>6491</td>\n",
       "      <td>62</td>\n",
       "      <td>71</td>\n",
       "      <td>4</td>\n",
       "      <td>1</td>\n",
       "    </tr>\n",
       "    <tr>\n",
       "      <th>output.STAR.PCRPlate1A1_Hypoxia_S97_Aligned.sortedByCoord.out.bam</th>\n",
       "      <td>0</td>\n",
       "      <td>0</td>\n",
       "      <td>0</td>\n",
       "      <td>0</td>\n",
       "      <td>0</td>\n",
       "      <td>11</td>\n",
       "      <td>0</td>\n",
       "      <td>22</td>\n",
       "      <td>0</td>\n",
       "      <td>0</td>\n",
       "      <td>...</td>\n",
       "      <td>0</td>\n",
       "      <td>0</td>\n",
       "      <td>93</td>\n",
       "      <td>12</td>\n",
       "      <td>0</td>\n",
       "      <td>25</td>\n",
       "      <td>0</td>\n",
       "      <td>1</td>\n",
       "      <td>0</td>\n",
       "      <td>0</td>\n",
       "    </tr>\n",
       "    <tr>\n",
       "      <th>output.STAR.PCRPlate1A2_Hypoxia_S104_Aligned.sortedByCoord.out.bam</th>\n",
       "      <td>0</td>\n",
       "      <td>0</td>\n",
       "      <td>0</td>\n",
       "      <td>0</td>\n",
       "      <td>0</td>\n",
       "      <td>63</td>\n",
       "      <td>16</td>\n",
       "      <td>1020</td>\n",
       "      <td>3</td>\n",
       "      <td>0</td>\n",
       "      <td>...</td>\n",
       "      <td>17</td>\n",
       "      <td>8</td>\n",
       "      <td>1479</td>\n",
       "      <td>234</td>\n",
       "      <td>0</td>\n",
       "      <td>4819</td>\n",
       "      <td>11</td>\n",
       "      <td>3</td>\n",
       "      <td>7</td>\n",
       "      <td>0</td>\n",
       "    </tr>\n",
       "    <tr>\n",
       "      <th>output.STAR.PCRPlate1A3_Hypoxia_S4_Aligned.sortedByCoord.out.bam</th>\n",
       "      <td>0</td>\n",
       "      <td>0</td>\n",
       "      <td>0</td>\n",
       "      <td>0</td>\n",
       "      <td>0</td>\n",
       "      <td>27</td>\n",
       "      <td>3</td>\n",
       "      <td>303</td>\n",
       "      <td>0</td>\n",
       "      <td>0</td>\n",
       "      <td>...</td>\n",
       "      <td>0</td>\n",
       "      <td>3</td>\n",
       "      <td>303</td>\n",
       "      <td>33</td>\n",
       "      <td>0</td>\n",
       "      <td>310</td>\n",
       "      <td>4</td>\n",
       "      <td>9</td>\n",
       "      <td>0</td>\n",
       "      <td>0</td>\n",
       "    </tr>\n",
       "  </tbody>\n",
       "</table>\n",
       "<p>5 rows × 23397 columns</p>\n",
       "</div>"
      ],
      "text/plain": [
       "                                                    WASH7P  CICP27  DDX11L17  \\\n",
       "output.STAR.PCRPlate1A10_Normoxia_S123_Aligned....       0       0         0   \n",
       "output.STAR.PCRPlate1A12_Normoxia_S26_Aligned.s...       0       0         0   \n",
       "output.STAR.PCRPlate1A1_Hypoxia_S97_Aligned.sor...       0       0         0   \n",
       "output.STAR.PCRPlate1A2_Hypoxia_S104_Aligned.so...       0       0         0   \n",
       "output.STAR.PCRPlate1A3_Hypoxia_S4_Aligned.sort...       0       0         0   \n",
       "\n",
       "                                                    WASH9P  OR4F29  MTND1P23  \\\n",
       "output.STAR.PCRPlate1A10_Normoxia_S123_Aligned....       0       2       250   \n",
       "output.STAR.PCRPlate1A12_Normoxia_S26_Aligned.s...       0       0       424   \n",
       "output.STAR.PCRPlate1A1_Hypoxia_S97_Aligned.sor...       0       0        11   \n",
       "output.STAR.PCRPlate1A2_Hypoxia_S104_Aligned.so...       0       0        63   \n",
       "output.STAR.PCRPlate1A3_Hypoxia_S4_Aligned.sort...       0       0        27   \n",
       "\n",
       "                                                    MTND2P28  MTCO1P12  \\\n",
       "output.STAR.PCRPlate1A10_Normoxia_S123_Aligned....        54      1740   \n",
       "output.STAR.PCRPlate1A12_Normoxia_S26_Aligned.s...       100      2340   \n",
       "output.STAR.PCRPlate1A1_Hypoxia_S97_Aligned.sor...         0        22   \n",
       "output.STAR.PCRPlate1A2_Hypoxia_S104_Aligned.so...        16      1020   \n",
       "output.STAR.PCRPlate1A3_Hypoxia_S4_Aligned.sort...         3       303   \n",
       "\n",
       "                                                    MTCO2P12  MTATP8P1  ...  \\\n",
       "output.STAR.PCRPlate1A10_Normoxia_S123_Aligned....         6         1  ...   \n",
       "output.STAR.PCRPlate1A12_Normoxia_S26_Aligned.s...         5         1  ...   \n",
       "output.STAR.PCRPlate1A1_Hypoxia_S97_Aligned.sor...         0         0  ...   \n",
       "output.STAR.PCRPlate1A2_Hypoxia_S104_Aligned.so...         3         0  ...   \n",
       "output.STAR.PCRPlate1A3_Hypoxia_S4_Aligned.sort...         0         0  ...   \n",
       "\n",
       "                                                    MT-TS2  MT-TL2  MT-ND5  \\\n",
       "output.STAR.PCRPlate1A10_Normoxia_S123_Aligned....       5      15    3852   \n",
       "output.STAR.PCRPlate1A12_Normoxia_S26_Aligned.s...      29      36    7457   \n",
       "output.STAR.PCRPlate1A1_Hypoxia_S97_Aligned.sor...       0       0      93   \n",
       "output.STAR.PCRPlate1A2_Hypoxia_S104_Aligned.so...      17       8    1479   \n",
       "output.STAR.PCRPlate1A3_Hypoxia_S4_Aligned.sort...       0       3     303   \n",
       "\n",
       "                                                    MT-ND6  MT-TE  MT-CYB  \\\n",
       "output.STAR.PCRPlate1A10_Normoxia_S123_Aligned....     900     22    4208   \n",
       "output.STAR.PCRPlate1A12_Normoxia_S26_Aligned.s...    1439     43    6491   \n",
       "output.STAR.PCRPlate1A1_Hypoxia_S97_Aligned.sor...      12      0      25   \n",
       "output.STAR.PCRPlate1A2_Hypoxia_S104_Aligned.so...     234      0    4819   \n",
       "output.STAR.PCRPlate1A3_Hypoxia_S4_Aligned.sort...      33      0     310   \n",
       "\n",
       "                                                    MT-TT  MT-TP  MAFIP  \\\n",
       "output.STAR.PCRPlate1A10_Normoxia_S123_Aligned....     26     66      0   \n",
       "output.STAR.PCRPlate1A12_Normoxia_S26_Aligned.s...     62     71      4   \n",
       "output.STAR.PCRPlate1A1_Hypoxia_S97_Aligned.sor...      0      1      0   \n",
       "output.STAR.PCRPlate1A2_Hypoxia_S104_Aligned.so...     11      3      7   \n",
       "output.STAR.PCRPlate1A3_Hypoxia_S4_Aligned.sort...      4      9      0   \n",
       "\n",
       "                                                    Target  \n",
       "output.STAR.PCRPlate1A10_Normoxia_S123_Aligned....       1  \n",
       "output.STAR.PCRPlate1A12_Normoxia_S26_Aligned.s...       1  \n",
       "output.STAR.PCRPlate1A1_Hypoxia_S97_Aligned.sor...       0  \n",
       "output.STAR.PCRPlate1A2_Hypoxia_S104_Aligned.so...       0  \n",
       "output.STAR.PCRPlate1A3_Hypoxia_S4_Aligned.sort...       0  \n",
       "\n",
       "[5 rows x 23397 columns]"
      ]
     },
     "execution_count": 15,
     "metadata": {},
     "output_type": "execute_result"
    }
   ],
   "source": [
    "merged.head()"
   ]
  },
  {
   "attachments": {},
   "cell_type": "markdown",
   "metadata": {},
   "source": [
    "We now look for:\n",
    "1. Duplicates\n",
    "2. Sparsity\n",
    "3. NaNs\n",
    "4. Outliers\n",
    "5. Distributions\n",
    "6. Correlation\n",
    "7. Normalization"
   ]
  },
  {
   "cell_type": "markdown",
   "metadata": {},
   "source": [
    "We now start analyzing the data. \n",
    "First we look for duplicates."
   ]
  },
  {
   "cell_type": "code",
   "execution_count": 12,
   "metadata": {},
   "outputs": [
    {
     "ename": "NameError",
     "evalue": "name 'merged' is not defined",
     "output_type": "error",
     "traceback": [
      "\u001b[0;31m---------------------------------------------------------------------------\u001b[0m",
      "\u001b[0;31mNameError\u001b[0m                                 Traceback (most recent call last)",
      "Cell \u001b[0;32mIn[12], line 2\u001b[0m\n\u001b[1;32m      1\u001b[0m \u001b[38;5;66;03m# Check for duplicates\u001b[39;00m\n\u001b[0;32m----> 2\u001b[0m \u001b[38;5;28mprint\u001b[39m(\u001b[38;5;124m\"\u001b[39m\u001b[38;5;124mNumber of duplicates in the dataframe:\u001b[39m\u001b[38;5;124m\"\u001b[39m, \u001b[43mmerged\u001b[49m\u001b[38;5;241m.\u001b[39mduplicated()\u001b[38;5;241m.\u001b[39msum())\n\u001b[1;32m      3\u001b[0m \u001b[38;5;66;03m# we will now check for duplicates in a broader sense, by checking for observations with high correlation\u001b[39;00m\n\u001b[1;32m      4\u001b[0m \u001b[38;5;66;03m# we start by computing the correlation matrix of the observations\u001b[39;00m\n\u001b[1;32m      5\u001b[0m merged_t \u001b[38;5;241m=\u001b[39m merged\u001b[38;5;241m.\u001b[39mT\n",
      "\u001b[0;31mNameError\u001b[0m: name 'merged' is not defined"
     ]
    }
   ],
   "source": [
    "# Check for duplicates\n",
    "print(\"Number of duplicates in the dataframe:\", merged.duplicated().sum())\n",
    "# we will now check for duplicates in a broader sense, by checking for observations with high correlation\n",
    "# we start by computing the correlation matrix of the observations\n",
    "merged_t = merged.T\n",
    "correlation_matrix_transpose = merged_t.corr()\n",
    "correlation_matrix_transpose"
   ]
  },
  {
   "cell_type": "code",
   "execution_count": null,
   "metadata": {},
   "outputs": [],
   "source": [
    "# now we will check for observations with high correlation and drop them\n",
    "columns_to_keep = []\n",
    "\n",
    "def add_representative(corr_matrix, col, threshold=0.95):\n",
    "    corr = corr_matrix[col].drop(col)\n",
    "    max_corr_id = corr.idxmax()\n",
    "    max_corr = corr[max_corr_id]\n",
    "    if max_corr < threshold:\n",
    "        columns_to_keep.append(col)\n",
    "        return None\n",
    "    else:\n",
    "        if (col not in columns_to_keep) and (max_corr_id not in columns_to_keep):\n",
    "            columns_to_keep.append(col)\n",
    "            print('choosing %s as representative for %s with correlation %s' % (col, max_corr_id, max_corr))\n",
    "            return None\n",
    "        \n",
    "\n",
    "\n",
    "for col in merged_t:\n",
    "    add_representative(correlation_matrix_transpose, col, 0.95)\n",
    "\n",
    "dropped_cols = [col for col in merged_t if col not in columns_to_keep]\n",
    "\n",
    "merged_uncorr_obs = merged_t[columns_to_keep].T\n",
    "print('dropped %s observations' % str(len(dropped_cols)))\n",
    "merged_uncorr_obs"
   ]
  },
  {
   "cell_type": "markdown",
   "metadata": {},
   "source": [
    "Now we look at the sparsity of the model. In particular we calculate this value as the percentage of missing values."
   ]
  },
  {
   "cell_type": "code",
   "execution_count": null,
   "metadata": {},
   "outputs": [],
   "source": [
    "# Check for sparsity\n",
    "total_elements = merged.shape[0] * merged.shape[1]\n",
    "print(\"Total number of elements in the DataFrame:\", total_elements)\n",
    "missing_values = (merged == 0).sum().sum()\n",
    "print(\"Total number of missing values in the DataFrame:\", missing_values)\n",
    "# Calculate the sparsity as the percentage of missing values\n",
    "sparsity = (missing_values / total_elements) * 100\n",
    "print(\"Sparsity of the DataFrame: {:.2f}%\".format(sparsity))"
   ]
  },
  {
   "cell_type": "markdown",
   "metadata": {},
   "source": [
    "Now we want to visualize the sparsity of our model. \n",
    "In order to do so we create a binary DataFrame indicating missing values (1 for missing, 0 for not missing) and we select the color white for the missing ones and red for not missing ones.\n",
    "Then we create the heatmap, add a title and labels with custom font size and style and remove the plot's spines (borders) for a cleaner appearance."
   ]
  },
  {
   "cell_type": "code",
   "execution_count": null,
   "metadata": {},
   "outputs": [],
   "source": [
    "# Visualization of sparsity\n",
    "# Assuming merged is your DataFrame\n",
    "\n",
    "# Create a binary DataFrame indicating missing values (1 for missing, 0 for not missing)\n",
    "missing_mask = merged == 0\n",
    "\n",
    "# Set up a custom color palette\n",
    "colors = [\"#FFFFFF\", \"#FF6347\"]  # White for non-missing, red for missing\n",
    "\n",
    "# Create the heatmap\n",
    "plt.figure(figsize=(12, 8))\n",
    "sns.heatmap(missing_mask, cmap=sns.color_palette(colors), cbar=False, xticklabels=False, yticklabels=False)\n",
    "\n",
    "# Add title and labels with custom font size and style\n",
    "plt.title('Sparsity Pattern of the DataFrame', fontsize=18, fontweight='bold')\n",
    "plt.xlabel('Genes', fontsize=14)\n",
    "plt.ylabel('Observations', fontsize=14)\n",
    "\n",
    "\n",
    "\n",
    "# Remove the spines (borders) of the plot\n",
    "plt.gca().spines['top'].set_visible(False)\n",
    "plt.gca().spines['right'].set_visible(False)\n",
    "\n",
    "plt.show()\n"
   ]
  },
  {
   "attachments": {},
   "cell_type": "markdown",
   "metadata": {},
   "source": [
    "DA AGGIUNGERE PACO"
   ]
  },
  {
   "cell_type": "markdown",
   "metadata": {},
   "source": [
    "We now check for the number of NaN values in the dataframe"
   ]
  },
  {
   "cell_type": "code",
   "execution_count": null,
   "metadata": {},
   "outputs": [],
   "source": [
    "# Check for NaN values\n",
    "print(\"Number of NaN values in the DataFrame:\", merged.isna().sum().sum())"
   ]
  },
  {
   "cell_type": "markdown",
   "metadata": {},
   "source": [
    "We now look for outliers. \n",
    "We use different tecniques.\n",
    "The first one is with boxplots\n",
    "So we create a set of 5 boxplots, each depicting the distribution of gene expression counts for a randomly selected subset of genes from the merged DataFrame. \n"
   ]
  },
  {
   "attachments": {},
   "cell_type": "markdown",
   "metadata": {},
   "source": [
    "Outliers for dataset with rows as cells and columns as genes"
   ]
  },
  {
   "cell_type": "code",
   "execution_count": null,
   "metadata": {},
   "outputs": [],
   "source": [
    "np.random.seed(42)\n",
    "\n",
    "# Number of boxplots you want to create\n",
    "num_boxplots = 5\n",
    "\n",
    "# Randomly select column indices\n",
    "random_columns = np.random.choice(merged.columns[1:], num_boxplots, replace=False)\n",
    "\n",
    "\n",
    "plt.figure(figsize=(12, 8))  \n",
    "for i, column in enumerate(random_columns):\n",
    "    plt.subplot(1, len(random_columns), i+1)\n",
    "    \n",
    "    # Customizing boxplot appearance\n",
    "    sns.boxplot(y=merged[column], color='skyblue', width=0.5)\n",
    "    \n",
    "    # Overlaying swarmplot for better visualization of individual data points\n",
    "    sns.swarmplot(y=merged[column], color='red', alpha=0.5)\n",
    "    \n",
    "    plt.title(f'Boxplot of {column}', fontsize=14)\n",
    "    plt.ylabel('Count of the gene expression', fontsize=12)\n",
    "    plt.xlabel('', fontsize=12)\n",
    "    plt.xticks(fontsize=10)\n",
    "    plt.yticks(fontsize=10)\n",
    "    plt.grid(True)\n",
    "\n",
    "\n",
    "plt.tight_layout()\n",
    "plt.show()"
   ]
  },
  {
   "cell_type": "markdown",
   "metadata": {},
   "source": [
    "Secondly we use the Inter-Quartile Range (IQR) proximity rule for each column.\n",
    "We start calculating the first and third quartiles along with the IQR for each column in the DataFrame merged. We then identifie outliers based on the IQR proximity rule and print both the number of outliers in each column and the percentage of outliers in the entire DataFrame."
   ]
  },
  {
   "cell_type": "code",
   "execution_count": null,
   "metadata": {},
   "outputs": [],
   "source": [
    "# Outliers with Inter-Quartile Range (IQR) proximity rule for each column\n",
    "Q1 = merged.quantile(0.25)\n",
    "Q3 = merged.quantile(0.75)\n",
    "IQR = Q3 - Q1\n",
    "outliers = (merged < (Q1 - 1.5 * IQR)) | (merged > (Q3 + 1.5 * IQR))\n",
    "# Print outliers fora each column\n",
    "print(\"Number of outliers in the DataFrame:\", outliers.sum())\n",
    "# Print outliers percentage\n",
    "outliers_percentage = (outliers.sum().sum() / total_elements) * 100\n",
    "print(\"{:.2f}%\".format(outliers_percentage))"
   ]
  },
  {
   "cell_type": "markdown",
   "metadata": {},
   "source": [
    "As third approach we normalize each column independently and find the outliers of the flattened array"
   ]
  },
  {
   "cell_type": "code",
   "execution_count": null,
   "metadata": {},
   "outputs": [],
   "source": [
    "# now we normalize each column independently\n",
    "from sklearn.preprocessing import StandardScaler\n",
    "scaler = StandardScaler()\n",
    "\n",
    "features_df_normalized = merged[merged.columns[:-1]].copy()\n",
    "features_df_normalized[features_df_normalized.columns] = scaler.fit_transform(features_df_normalized[features_df_normalized.columns])\n",
    "features_df_normalized.describe()"
   ]
  },
  {
   "cell_type": "code",
   "execution_count": null,
   "metadata": {},
   "outputs": [],
   "source": [
    "# convert the dataframe to a numpy array, find outliers\n",
    "features_array_normalized = np.array(features_df_normalized.T)\n",
    "# still need to find the outliers\n",
    "fig = plt.figure(figsize=(10, 7))\n",
    "plt.boxplot(features_array_normalized.flatten())\n",
    "# here, we notice that most of the data are outliers"
   ]
  },
  {
   "attachments": {},
   "cell_type": "markdown",
   "metadata": {},
   "source": [
    "Now we are interested in discovering if the number of times a gene is expressed is generated by some known distribution.\n",
    "\n",
    "In order to do so, we start having a look at the distribution by plotting histograms with the frequencies of number of expressions for 5 random genes, with their kernel densities.\n",
    "\n",
    "By doing this, we immediately notice that the distributions are highly asymmetrical."
   ]
  },
  {
   "cell_type": "code",
   "execution_count": null,
   "metadata": {},
   "outputs": [],
   "source": [
    "#visualize the distribution of the data through histograms\n",
    "np.random.seed(42)\n",
    "\n",
    "# Number of boxplots you want to create\n",
    "num_boxplots = 6\n",
    "\n",
    "# Randomly select column indices\n",
    "random_columns = np.random.choice(merged.columns[1:], num_boxplots, replace=False)\n",
    "\n",
    "\n",
    "\n",
    "fig = plt.figure(figsize=(12, 8))\n",
    "for i, column in enumerate(random_columns):  # Adjusted to only consider the first 5 columns\n",
    "    plt.subplot(2, 3, i+1)  # Adjusted to fit in a 2x3 grid\n",
    "    sns.histplot(merged[column], kde=True, color='skyblue')\n",
    "    plt.title(f'Histogram of {column}', fontsize=12)\n",
    "    plt.xlabel('')\n",
    "    plt.ylabel('Count', fontsize=10)\n",
    "    plt.xticks(fontsize=8)\n",
    "    plt.yticks(fontsize=8)\n",
    "    plt.grid(True)\n",
    "plt.tight_layout()\n",
    "plt.show()\n",
    "\n"
   ]
  },
  {
   "cell_type": "markdown",
   "metadata": {},
   "source": [
    "to check this asymmetry, we compute the skewness of these distributions for all the genes.\n",
    "\n",
    "Skewness is ***a measure of symmetry***, or more precisely, the lack of symmetry.\n",
    "\n",
    "We obtain that all the skewness are positive. This means that the distribution is characterised by a tail stretching right, as we could already say from the first histograms."
   ]
  },
  {
   "cell_type": "code",
   "execution_count": null,
   "metadata": {},
   "outputs": [],
   "source": [
    "# Calculate skewness for each column in your DataFrame\n",
    "skewness_values = merged[random_columns].skew()\n",
    "\n",
    "# Print skewness values\n",
    "print(\"Skewness for each selected feature:\")\n",
    "print(skewness_values)"
   ]
  },
  {
   "cell_type": "markdown",
   "metadata": {},
   "source": [
    "We now want to visualize this values we found.\n",
    "In order to do so we utilize an histogram with as refererence the rounded skewness values."
   ]
  },
  {
   "cell_type": "code",
   "execution_count": null,
   "metadata": {},
   "outputs": [],
   "source": [
    "# Calculate skewness for each column in your DataFrame\n",
    "skewness_values = merged.skew()\n",
    "\n",
    "# Round the skewness values\n",
    "rounded_skewness_values = np.round(skewness_values, decimals=2)\n",
    "\n",
    "# Set seaborn style\n",
    "sns.set(style=\"whitegrid\")\n",
    "\n",
    "# Plot a histogram of rounded skewness values\n",
    "plt.figure(figsize=(10, 6))\n",
    "sns.histplot(rounded_skewness_values, bins=20, color='skyblue', edgecolor='black')\n",
    "plt.title('Histogram of Rounded Skewness Values', fontsize=16)\n",
    "plt.xlabel('Skewness', fontsize=14)\n",
    "plt.ylabel('Frequency', fontsize=14)\n",
    "plt.xticks(fontsize=12)\n",
    "plt.yticks(fontsize=12)\n",
    "plt.grid(axis='y', linestyle='--', alpha=0.7)\n",
    "plt.show()"
   ]
  },
  {
   "cell_type": "markdown",
   "metadata": {},
   "source": [
    "we proceed the analysis of the shape of the distribution by computing the kurtosis.\n",
    "\n",
    "Kurtosis measures the peakedness or flatness of a distribution relative to a normal distribution. A positive kurtosis indicates a relatively peaked distribution (leptokurtic), while a negative kurtosis indicates a flatter distribution (platykurtic) compared to a normal distribution.\n",
    "\n",
    "Also in this case, we get positive values, which suggest heavier tails and a more peaked distribution.\n",
    "\n",
    "These informations on skewness and kurtosis suggest that the distributions are not normal."
   ]
  },
  {
   "cell_type": "code",
   "execution_count": null,
   "metadata": {},
   "outputs": [],
   "source": [
    "# Calculate kurtosis for each column in your DataFrame\n",
    "kurtosis_values = merged[random_columns].kurtosis()\n",
    "\n",
    "# Print kurtosis values\n",
    "print(\"Kurtosis for each feature:\")\n",
    "print(kurtosis_values)"
   ]
  },
  {
   "cell_type": "markdown",
   "metadata": {},
   "source": [
    "We want to visualize this value as well.\n",
    "Again we proceed creating a histogram using as data the rounded kurtosis values of our dataframe"
   ]
  },
  {
   "cell_type": "code",
   "execution_count": null,
   "metadata": {},
   "outputs": [],
   "source": [
    "# Calculate kurtosis for each column in your DataFrame\n",
    "kurtosis_values = merged.kurtosis()\n",
    "\n",
    "# Round the kurtosis values\n",
    "rounded_kurtosis_values = np.round(kurtosis_values, decimals=2)\n",
    "\n",
    "# Set seaborn style\n",
    "sns.set(style=\"whitegrid\")\n",
    "\n",
    "# Plot a histogram of rounded kurtosis values\n",
    "plt.figure(figsize=(10, 6))\n",
    "sns.histplot(rounded_kurtosis_values, bins=20, color='skyblue', edgecolor='black')\n",
    "plt.title('Histogram of Rounded Kurtosis Values', fontsize=16)\n",
    "plt.xlabel('Kurtosis', fontsize=14)\n",
    "plt.ylabel('Frequency', fontsize=14)\n",
    "plt.xticks(fontsize=12)\n",
    "plt.yticks(fontsize=12)\n",
    "plt.grid(axis='y', linestyle='--', alpha=0.7)\n",
    "plt.show()"
   ]
  },
  {
   "cell_type": "markdown",
   "metadata": {},
   "source": [
    "The analysis of the distribution of our dataframe goes on.\n",
    "To check the non-normality mathematically we run the Kolmogorov-Smirnov test, a statistic tool commonly used to check if a distribution is not normal.\n",
    "\n",
    "we proceed with the following hypothesis testing:\n",
    "\n",
    "H0: our distribution is normal\n",
    "\n",
    "H1: not normal.\n",
    "\n",
    "Setting our p value threshold at 0.05, we have statistically significant evidence that none of our feature is normally distributed.\n",
    "\n",
    "We then count how many features according to this test have non-normal distribution and we find out that this a common characteristic of all the features."
   ]
  },
  {
   "cell_type": "code",
   "execution_count": null,
   "metadata": {},
   "outputs": [],
   "source": [
    "# Test the distribution of the data matrix using Kolmogorov-Smirnov\n",
    "# Test normality of each feature\n",
    "def test_distribution_per_feature(data):\n",
    "    non_normal_count = 0\n",
    "    for column in data.columns:\n",
    "        p_value = kstest(data[column], 'norm')[1]\n",
    "        if p_value < 0.05:\n",
    "            non_normal_count += 1\n",
    "    print(\"Number of features with non-normal distribution:\", non_normal_count)\n",
    "    if data.shape[1] == non_normal_count:\n",
    "        print(\"All features have non-normal distribution\")\n",
    "    else:\n",
    "        print(\"Not all features have non-normal distribution\")\n",
    "    return non_normal_count\n",
    "\n",
    "non_normal_count = test_distribution_per_feature(merged)\n"
   ]
  },
  {
   "cell_type": "markdown",
   "metadata": {},
   "source": [
    "Some distribution commonly found in nature are also the poisson one and the negative binomial one. For this reason we want to check this ones too\n",
    "\n",
    "Before checking mathematically if it’s plausible to assume some distributions, we have to introduce the chi squared test.\n",
    "\n",
    "The chi-square goodness-of-fit test is used to determine if a sample of categorical data follows a specific distribution, such as a normal distribution or any other expected distribution. It compares the observed frequencies of the categories with the frequencies that would be expected if the data followed the specified distribution. If the difference between the observed and expected frequencies is sufficiently large, it suggests that the data may not follow the expected distribution."
   ]
  },
  {
   "cell_type": "markdown",
   "metadata": {},
   "source": [
    "We run such test to see if we can exclude the poisson distribution. \n",
    "\n",
    "To do so we estimate the parameter lamba with the estimator lambda. Then we create random samples from a poisson distribution with such lambda, and we run the test.\n",
    "\n",
    "If some features pass this test, we don’t have the guarantee that they are poisson, but we can check it by plotting the histogram and the qq plot.\n",
    "\n",
    "From our test we see that there are 3156 columns that could be poisson distributed.\n",
    "\n",
    "To see if they actually are we plot 3 of them and we actually see that they really might me poisson."
   ]
  },
  {
   "cell_type": "code",
   "execution_count": null,
   "metadata": {},
   "outputs": [],
   "source": [
    "# Iterate over columns and perform the test\n",
    "def test_poissondistribution_per_feature(data):\n",
    "    poisson_list = [] # initialize list to store features with Poisson distribution\n",
    "    for column in data.columns:\n",
    "        observed_values = data[column].values  # values of the column\n",
    "        support = np.unique(observed_values) # unique values in the column\n",
    "        mean = observed_values.mean() # mean of the column (we will need this for the Poisson distribution)\n",
    "        obs_freq = [] # initialize an empty array to store observed frequencies\n",
    "        for value in support:\n",
    "            obs_freq.append((observed_values == value).sum()) # count the number of times each unique value appears in the column\n",
    "        exp_freq = [] # initialize an empty array to store expected frequencies\n",
    "        for value in support:\n",
    "            exp_freq.append(poisson.pmf(value, mean) * len(observed_values)) # calculate the expected frequency for each unique value\n",
    "        # normalize the observed and expected frequencies\n",
    "        obs_freq = obs_freq / np.sum(obs_freq)\n",
    "        exp_freq = exp_freq / np.sum(exp_freq)\n",
    "        \n",
    "        # perform the chi-square test\n",
    "        _, p = chisquare(obs_freq, exp_freq)\n",
    "        \n",
    "        # if p-value is greater than 0.05, we don't reject the null hypothesis that the data doesn't follow a Poisson distribution\n",
    "        if p >= 0.05:\n",
    "            poisson_list.append(column)\n",
    "    print(\"Number of features that might have poisson distribution:\", len(poisson_list))\n",
    "    if len(poisson_list) == 0:\n",
    "        print(\"All features have non-poisson distribution\")\n",
    "    else:\n",
    "        print(\"Some features might have poisson distribution\")\n",
    "    return poisson_list\n",
    "\n",
    "poisson_columns = test_poissondistribution_per_feature(merged)"
   ]
  },
  {
   "cell_type": "code",
   "execution_count": null,
   "metadata": {},
   "outputs": [],
   "source": [
    "# now we plot the hist of the poisson columns\n",
    "#now we visualize the empirical distribution against the Gamma distribution for some columns\n",
    "np.random.seed(42)\n",
    "\n",
    "# Number of boxplots you want to create\n",
    "num_boxplots = 3\n",
    "\n",
    "# Randomly select column indices\n",
    "random_columns = np.random.choice(poisson_columns, num_boxplots, replace=False)\n",
    "\n",
    "fig = plt.figure(figsize=(12, 8))\n",
    "for i, column in enumerate(random_columns):  # Adjusted to only consider the first 5 columns\n",
    "    plt.subplot(2, 3, i+1)  # Adjusted to fit in a 2x3 grid\n",
    "    observed_values = merged[column].values  # Observed counts from your data\n",
    "    mean = observed_values.mean()\n",
    "    poisson_values = np.random.poisson(mean, len(observed_values))\n",
    "    \n",
    "    stats.probplot(observed_values, dist='poisson', sparams=(mean,), plot=plt)\n",
    "    plt.title(f'QQ-plot of {column}', fontsize=12)\n",
    "\n",
    "    plt.subplot(2, 3, i+4)\n",
    "    sns.histplot(observed_values, kde=True, color='skyblue', label='Observed', bins=30)\n",
    "    sns.histplot(poisson_values, kde=True, color='red', label='Gamma', bins=30)\n",
    "    plt.title(f'Histogram of {column}', fontsize=12)\n",
    "    plt.xlabel('')\n",
    "    plt.ylabel('Count', fontsize=10)\n",
    "    plt.xticks(fontsize=8)\n",
    "    plt.yticks(fontsize=8)\n",
    "    plt.grid(True)\n",
    "plt.tight_layout()\n",
    "plt.show()"
   ]
  },
  {
   "cell_type": "markdown",
   "metadata": {},
   "source": [
    "We now do exactly the same for the negative binomial distribution."
   ]
  },
  {
   "cell_type": "code",
   "execution_count": null,
   "metadata": {},
   "outputs": [],
   "source": [
    "# Iterate over columns and perform the test\n",
    "def test_negative_binomial_distribution_per_feature(data):\n",
    "    nbin_list = [] # initialize list to store features with Gamma distribution\n",
    "    for column in data.columns:\n",
    "        observed_values = data[column].values  # values of the column\n",
    "        support = np.unique(observed_values) # unique values in the column\n",
    "        mean = observed_values.mean() # mean of the column (we will need this for the nbinom distribution)\n",
    "        var = observed_values.var() # variance of the column (we will need this for the nbinom distribution)\n",
    "        size = mean ** 2 / (var - mean) # size parameter of the nbinom distribution\n",
    "        prob = 1 - (mean/var) # probability parameter of the nbinom distribution\n",
    "        obs_freq = [] # initialize an empty array to store observed frequencies\n",
    "        for value in support:\n",
    "            obs_freq.append((observed_values == value).sum()) # count the number of times each unique value appears in the column\n",
    "        exp_freq = [] # initialize an empty array to store expected frequencies\n",
    "        for value in support:\n",
    "            exp_freq.append(nbinom.pmf(value, size, prob) * len(observed_values)) # calculate the expected frequency for each unique value\n",
    "        # normalize the observed and expected frequencies\n",
    "        obs_freq = obs_freq / np.sum(obs_freq)\n",
    "        exp_freq = exp_freq / np.sum(exp_freq)\n",
    "        \n",
    "        # perform the chi-square test\n",
    "        _, p = chisquare(obs_freq, exp_freq)\n",
    "        \n",
    "        # if p-value is greater than 0.05, we don't reject the null hypothesis that the data doesn't follow a negative binomial distribution\n",
    "        if p >= 0.05:\n",
    "            nbin_list.append(column)\n",
    "    print(\"Number of features with Negative Binomial distribution:\", len(nbin_list))\n",
    "    if len(nbin_list) == 0:\n",
    "        print(\"All features have non-Negative Binomial distribution\")\n",
    "    else:\n",
    "        print(\"Some features might have Negative Binomial distribution\")\n",
    "    return nbin_list\n",
    "\n",
    "negative_binomial_columns = test_negative_binomial_distribution_per_feature(merged)"
   ]
  },
  {
   "cell_type": "code",
   "execution_count": null,
   "metadata": {},
   "outputs": [],
   "source": [
    "# now we plot the hist of the nbin columns\n",
    "#now we visualize the empirical distribution against the negative binomial distribution for some columns\n",
    "\n",
    "np.random.seed(100)\n",
    "\n",
    "# Number of boxplots you want to create\n",
    "num_boxplots = 3\n",
    "\n",
    "# Randomly select column indices\n",
    "random_columns = np.random.choice(negative_binomial_columns, num_boxplots, replace=False)\n",
    "\n",
    "fig = plt.figure(figsize=(12, 8))\n",
    "for i, column in enumerate(random_columns):  # Adjusted to only consider the first 5 columns\n",
    "    plt.subplot(2, 3, i+1)  # Adjusted to fit in a 2x3 grid\n",
    "    observed_values = merged[column].values  # Observed counts from your data\n",
    "    mean = observed_values.mean() # mean of the column (we will need this for the nbinom distribution)\n",
    "    var = observed_values.var() # variance of the column (we will need this for the nbinom distribution)\n",
    "    # HERE WE ARE CHEATING WITH THE ABSOLUTE VALUE AND THE \"NORMALIZATION\" OF THE PROB\n",
    "    size = abs(mean ** 2 / (var - mean)) # size parameter of the nbinom distribution\n",
    "    prob = 1 - (mean/var) # probability parameter of the nbinom distribution\n",
    "    if prob < 0:\n",
    "        prob = 0\n",
    "    elif prob > 1:\n",
    "        prob = 1\n",
    "\n",
    "\n",
    "    stats.probplot(observed_values, dist='nbinom', sparams=(size,prob), plot=plt)\n",
    "    plt.title(f'QQ-plot of {column}', fontsize=12)\n",
    "\n",
    "    plt.subplot(2, 3, i+4)\n",
    "    plt.title(f'QQ-plot of {column}', fontsize=12)\n",
    "    nbinom_values = np.random.negative_binomial(size, prob, len(observed_values))\n",
    "    sns.histplot(observed_values, kde=True, color='skyblue', label='Observed', bins=30)\n",
    "    sns.histplot(nbinom_values, kde=True, color='red', label='Negative Binomial', bins=30)\n",
    "    plt.title(f'Histogram of {column}', fontsize=12)\n",
    "    plt.xlabel('')\n",
    "    plt.ylabel('Count', fontsize=10)\n",
    "    plt.xticks(fontsize=8)\n",
    "    plt.yticks(fontsize=8)\n",
    "    plt.grid(True)\n",
    "plt.tight_layout()\n",
    "plt.show()"
   ]
  },
  {
   "cell_type": "code",
   "execution_count": null,
   "metadata": {},
   "outputs": [],
   "source": [
    "# from scipy.stats import gamma\n",
    "\n",
    "# def test_gamma_distribution_per_feature(data):\n",
    "#     non_gamma_count = 0\n",
    "#     for column in data.columns:\n",
    "#         observed_values = data[column].values  # Observed counts from your data\n",
    "#         shape, loc, scale = gamma.fit(observed_values)\n",
    "#         expected_values = gamma.pdf(observed_values, shape, loc, scale) * len(observed_values)\n",
    "#         expected_values += 1e-10  # Adjust this value if needed\n",
    "\n",
    "#         contingency_table = [[observed_values[i], expected_values[i]] for i in range(len(observed_values))]\n",
    "\n",
    "#         chi2, p, _, _ = chi2_contingency(contingency_table)\n",
    "        \n",
    "#         # Check if the p-value is less than the significance level\n",
    "#         if p < 0.05:\n",
    "#             non_gamma_count += 1\n",
    "    \n",
    "#     print(\"Number of features with non-gamma distribution:\", non_gamma_count)\n",
    "\n",
    "#     if data.shape[1] == non_gamma_count:\n",
    "#         print(\"All features have non-gamma distribution\")\n",
    "#     else:\n",
    "#         print(\"Not all features have non-gamma distribution\")\n",
    "        \n",
    "#     return non_gamma_count\n",
    "\n",
    "# test_gamma_distribution_per_feature(merged)\n",
    "\n",
    "# # eventually run this and maybe also plot it"
   ]
  },
  {
   "cell_type": "markdown",
   "metadata": {},
   "source": [
    "What we can check is that, under some specific condition (i.e. hypoxia), the genes could have some distribution (that maybe we can’t observe in the mixed case). \n",
    "\n",
    "So we go through the exact same process for for the genes under hypoxia and normoxia separately."
   ]
  },
  {
   "cell_type": "code",
   "execution_count": null,
   "metadata": {},
   "outputs": [],
   "source": [
    "#now we check the distribution but for hypoxia and normoxia separtely\n",
    "merged_norm = merged[merged['Target'] == 0]\n",
    "merged_hypo = merged[merged['Target'] == 1]"
   ]
  },
  {
   "cell_type": "code",
   "execution_count": null,
   "metadata": {},
   "outputs": [],
   "source": [
    "print(\"Number of normoxia samples:\", merged_norm.shape[0])\n",
    "test_distribution_per_feature(merged_norm)\n",
    "print(\"Number of hypoxia samples:\", merged_hypo.shape[0])\n",
    "test_distribution_per_feature(merged_hypo)"
   ]
  },
  {
   "cell_type": "code",
   "execution_count": null,
   "metadata": {},
   "outputs": [],
   "source": [
    "print(\"Number of normoxia samples:\", merged_norm.shape[0])\n",
    "test_negative_binomial_distribution_per_feature(merged_norm)\n",
    "print(\"Number of hypoxia samples:\", merged_hypo.shape[0])\n",
    "test_negative_binomial_distribution_per_feature(merged_hypo)"
   ]
  },
  {
   "cell_type": "markdown",
   "metadata": {},
   "source": [
    "We now take a look at the correlation.\n",
    "we already inspected the one between cells during the duplicates inspection, so now we procced looking at the one between genes.\n",
    "We do so by calculating the correlation matrix. "
   ]
  },
  {
   "cell_type": "code",
   "execution_count": null,
   "metadata": {},
   "outputs": [],
   "source": [
    "# We will use pytorch correlation matrix to calculate the correlation matrix usint torch.corrcoef\n",
    "# Correlation matrix between the genes (features)\n",
    "\n",
    "# Convert the DataFrame to a PyTorch tensor\n",
    "data_tensor = th.tensor(merged.values).T\n",
    "# Calculate the correlation matrix\n",
    "correlation_matrix = th.corrcoef(data_tensor)\n",
    "print(correlation_matrix)\n",
    "# Nicely visuaize the correlation matrix\n",
    "# plt.figure(figsize=(12,10))\n",
    "# sns.heatmap(correlation_matrix, cmap='coolwarm', yticklabels = False, xticklabels = False)\n",
    "# plt.xlabel('Sample')\n",
    "# plt.ylabel('Sample')\n",
    "# plt.show()\n",
    "\n",
    "# Compute the midpoint\n",
    "midpoint = (correlation_matrix.max() - correlation_matrix.min()) / 2 + correlation_matrix.min()\n",
    "# Print the size of the correlation matrix\n",
    "print(\"Size of the correlation matrix: \", correlation_matrix.shape)\n",
    "# Print average and minimum correlation values\n",
    "print(\"Average correlation between cells: \", float(midpoint))\n",
    "print(\"Minimum correlation between cells: \", float(correlation_matrix.min()), \"\\n\")"
   ]
  },
  {
   "cell_type": "markdown",
   "metadata": {},
   "source": [
    "here we come back to inspect the correlation between cells.\n",
    "In particular, we procced analysing the cells in the dataset with the lowest correlation with other cells, retrieve their names and plot histograms of their expression values."
   ]
  },
  {
   "cell_type": "code",
   "execution_count": null,
   "metadata": {},
   "outputs": [],
   "source": [
    "# We can see from the minimum value obtained that there are some cells that are \n",
    "# completely uncorrelated from the others and we want to see why\n",
    "# Find the indices of the minimum value in the correlation matrix\n",
    "data_tensor_transpose = data_tensor.T\n",
    "print(data_tensor_transpose.shape)\n",
    "correlation_matrix_transpose = th.corrcoef(data_tensor_transpose)\n",
    "print(correlation_matrix_transpose.shape)\n",
    "min_indices = th.where(correlation_matrix_transpose == correlation_matrix_transpose.min())\n",
    "print(\"Indices of the minimum value in the correlation matrix: \", min_indices)\n",
    "# Transform min_indices to a list\n",
    "value1 = min_indices[0].item()\n",
    "value2 = min_indices[1].item()\n",
    "# Access rows with index value1 and value2\n",
    "cells_identified = merged.iloc[[value1, value2]]\n",
    "print(f\"Cell names with minimum correlation: {cells_identified.index[0]}, {cells_identified.index[1]}\")\n",
    "\n",
    "fig, axs = plt.subplots(1, 2, figsize=(12, 6))\n",
    "axs[0].hist(data_tensor_transpose[min_indices[0]], bins=20, color='skyblue', edgecolor='black')\n",
    "# set title with corresponding cell index\n",
    "\n",
    "axs[0].set_title(f'Histogram of Cell: \\n{cells_identified.index[0]}', fontsize=12)\n",
    "axs[0].set_xlabel('Expression Value', fontsize=12)\n",
    "axs[0].set_ylabel('Frequency', fontsize=12)\n",
    "axs[1].hist(data_tensor_transpose[min_indices[1]], bins=20, color='skyblue', edgecolor='black')\n",
    "axs[1].set_title(f'Histogram of Cell: \\n{cells_identified.index[0]}', fontsize=12)\n",
    "axs[1].set_xlabel('Expression Value', fontsize=12)\n",
    "axs[1].set_ylabel('Frequency', fontsize=12)\n",
    "plt.tight_layout()\n",
    "plt.show()"
   ]
  },
  {
   "cell_type": "markdown",
   "metadata": {},
   "source": [
    "we proceed plottinf the two types of correlation we looked at using histograms."
   ]
  },
  {
   "cell_type": "code",
   "execution_count": null,
   "metadata": {},
   "outputs": [],
   "source": [
    "# Correlation between cells (samples)\n",
    "# Plot histogram of the values to see the distribution\n",
    "data_tensor = th.tensor(merged.values)\n",
    "correlation_matrix_transpose = th.corrcoef(data_tensor)\n",
    "plt.figure(figsize=(10, 6))\n",
    "sns.histplot(correlation_matrix_transpose.flatten(), bins=100, color='skyblue', edgecolor='black')\n",
    "plt.title('Histogram of Correlation Matrix Values', fontsize=16)\n",
    "plt.xlabel('Correlation Value', fontsize=14)\n",
    "plt.ylabel('Frequency', fontsize=14)\n",
    "plt.xticks(fontsize=12)\n",
    "plt.yticks(fontsize=12)\n",
    "plt.grid(axis='y', linestyle='--', alpha=0.7)\n",
    "plt.show()\n",
    "\n",
    "# Clear that we have peaks at high correlation values between cells. In principle, this is explained by the fact that every \n",
    "# gene expression in the table is coming from the same cell line we expect overall an high correlation among them."
   ]
  },
  {
   "cell_type": "code",
   "execution_count": null,
   "metadata": {},
   "outputs": [],
   "source": [
    "# We now can plot the distribution of the correlation between gene expression profiles using a \n",
    "# histogram (we do it on the first ten variables)\n",
    "\n",
    "correlation_matrix = pd.DataFrame(correlation_matrix_transpose)\n",
    "print(correlation_matrix.shape)\n",
    "c_subset = correlation_matrix.iloc[:,:10]\n",
    "sns.histplot(c_subset,bins=100)\n",
    "plt.legend().set_visible(False)\n",
    "plt.ylabel('Frequency')\n",
    "plt.xlabel('Correlation between cells expression profiles')\n",
    "plt.plot()\n"
   ]
  },
  {
   "cell_type": "markdown",
   "metadata": {},
   "source": [
    "we are now insterested in seeing if the correlation between the cells is different between the two classes hypoxia and normoxia. \n",
    "We can do this by plotting the correlation matrix for each class separately.\n",
    "We can do this by splitting the dataframe into two dataframes, one for each class."
   ]
  },
  {
   "cell_type": "code",
   "execution_count": null,
   "metadata": {},
   "outputs": [],
   "source": [
    "\n",
    "# Convert the DataFrames to PyTorch tensors\n",
    "data_tensor_norm = th.tensor(merged_norm.values)\n",
    "data_tensor_hypo = th.tensor(merged_hypo.values)\n",
    "\n",
    "# Calculate the correlation matrices\n",
    "correlation_matrix_norm = th.corrcoef(data_tensor_norm)\n",
    "correlation_matrix_hypo = th.corrcoef(data_tensor_hypo)\n",
    "\n",
    "# Plot the correlation matrices with subplots\n",
    "fig, axs = plt.subplots(1, 2, figsize=(12, 6))\n",
    "sns.heatmap(correlation_matrix_norm, cmap='coolwarm', yticklabels = False, xticklabels = False, ax=axs[0], square=True)\n",
    "sns.heatmap(correlation_matrix_hypo, cmap='coolwarm', yticklabels = False, xticklabels = False, ax=axs[1], square=True)\n",
    "# Set titles with number of genes that are norm or hypo\n",
    "axs[0].set_title(f'Normoxia ({merged_norm.shape[0]} cells)')\n",
    "axs[1].set_title(f'Hypoxia ({merged_hypo.shape[0]} cells)')\n",
    "plt.show() \n",
    "\n",
    "# Check shape of correlation matrices\n",
    "print(\"Shape of correlation matrix for normoxia:\", correlation_matrix_norm.shape)\n",
    "print(\"Shape of correlation matrix for hypoxia:\", correlation_matrix_hypo.shape)"
   ]
  },
  {
   "attachments": {},
   "cell_type": "markdown",
   "metadata": {},
   "source": [
    "________________________________________________________________________________________________________________________\n",
    "We are now interested in doing the same data analysis that we did for the trasposed dataset for the original dataset."
   ]
  },
  {
   "cell_type": "code",
   "execution_count": null,
   "metadata": {},
   "outputs": [],
   "source": [
    "# we simply transpose again the dataframe (now we have cells as columns)\n",
    "print(\"Dataframe dimension before transpose:\", df_seq_HUnfilt.shape)\n",
    "df_seq_HUnfilt = df_seq_HUnfilt.T\n",
    "print(\"Dataframe dimension after transpose:\", df_seq_HUnfilt.shape)\n",
    "df_seq_HUnfilt.head(5)"
   ]
  },
  {
   "cell_type": "code",
   "execution_count": null,
   "metadata": {},
   "outputs": [],
   "source": [
    "\n",
    "print(\"Missing values in the dataframe by columns:\", df_seq_HUnfilt.isnull().sum())\n",
    "print(\"Missing values in the whole dataframe:\", df_seq_HUnfilt.isna().sum().sum())"
   ]
  },
  {
   "cell_type": "code",
   "execution_count": null,
   "metadata": {},
   "outputs": [],
   "source": [
    "df_seq_HUnfilt.describe()"
   ]
  },
  {
   "cell_type": "code",
   "execution_count": null,
   "metadata": {},
   "outputs": [],
   "source": [
    "# Just renaming\n",
    "mergedT = df_seq_HUnfilt"
   ]
  },
  {
   "attachments": {},
   "cell_type": "markdown",
   "metadata": {},
   "source": [
    "Outliers for the transpose dataset (rows are genes)"
   ]
  },
  {
   "cell_type": "code",
   "execution_count": null,
   "metadata": {},
   "outputs": [],
   "source": [
    "# # TO REVIEW\n",
    "# np.random.seed(42)\n",
    "\n",
    "# # Number of boxplots you want to create\n",
    "# num_boxplots = 5\n",
    "\n",
    "# # Randomly select column indices\n",
    "# random_columns = np.random.choice(mergedT.columns[1:], num_boxplots, replace=False)\n",
    "\n",
    "\n",
    "# plt.figure(figsize=(12, 8))  \n",
    "# for i, column in enumerate(random_columns):\n",
    "#     plt.subplot(1, len(random_columns), i+1)\n",
    "    \n",
    "#     # Customizing boxplot appearance\n",
    "#     sns.boxplot(y=mergedT[column], color='skyblue', width=0.5)\n",
    "    \n",
    "#     # Overlaying swarmplot for better visualization of individual data points\n",
    "#     sns.swarmplot(y=mergedT[column], color='red', alpha=0.5)\n",
    "    \n",
    "#     plt.title(f'Boxplot of {column}', fontsize=14)\n",
    "#     plt.ylabel('Count of the gene expression', fontsize=12)\n",
    "#     plt.xlabel('', fontsize=12)\n",
    "#     plt.xticks(fontsize=10)\n",
    "#     plt.yticks(fontsize=10)\n",
    "#     plt.grid(True)\n",
    "\n",
    "\n",
    "# plt.tight_layout()\n",
    "# plt.show()"
   ]
  },
  {
   "cell_type": "code",
   "execution_count": null,
   "metadata": {},
   "outputs": [],
   "source": [
    "# Outliers with Inter-Quartile Range (IQR) proximity rule for each column\n",
    "Q1 = mergedT.quantile(0.25)\n",
    "Q3 = mergedT.quantile(0.75)\n",
    "IQR = Q3 - Q1\n",
    "outliers = (mergedT < (Q1 - 1.5 * IQR)) | (mergedT > (Q3 + 1.5 * IQR))\n",
    "# Print outliers fora each column\n",
    "print(\"Number of outliers in the DataFrame:\", outliers.sum())\n",
    "# Print outliers percentage\n",
    "outliers_percentage = (outliers.sum().sum() / total_elements) * 100\n",
    "print(\"{:.2f}%\".format(outliers_percentage))"
   ]
  },
  {
   "cell_type": "code",
   "execution_count": null,
   "metadata": {},
   "outputs": [],
   "source": [
    "# edo"
   ]
  },
  {
   "attachments": {},
   "cell_type": "markdown",
   "metadata": {},
   "source": [
    "Now we analyze distribution of the transpose dataset (rows are genes) in the same way we did before."
   ]
  },
  {
   "cell_type": "code",
   "execution_count": null,
   "metadata": {},
   "outputs": [],
   "source": [
    "#visualize the distribution of the data through histograms\n",
    "np.random.seed(42)\n",
    "\n",
    "# Number of boxplots you want to create\n",
    "num_boxplots = 3\n",
    "\n",
    "# Randomly select column indices\n",
    "random_columns = np.random.choice(mergedT.columns[1:], num_boxplots, replace=False)\n",
    "\n",
    "\n",
    "\n",
    "fig = plt.figure(figsize=(12, 8))\n",
    "for i, column in enumerate(random_columns):  # Adjusted to only consider the first 5 columns\n",
    "    plt.subplot(2, 3, i+1)  # Adjusted to fit in a 2x3 grid\n",
    "    sns.histplot(mergedT[column], kde=True, color='skyblue')\n",
    "    plt.title(f'Histogram of {column}', fontsize=12)\n",
    "    plt.xlabel('')\n",
    "    plt.ylabel('Count', fontsize=10)\n",
    "    # rescale the y-axis to better visualize the distribution\n",
    "    \n",
    "    plt.xticks(fontsize=8)\n",
    "    plt.yticks(fontsize=8)\n",
    "    plt.grid(True)\n",
    "plt.tight_layout()\n",
    "plt.show()\n"
   ]
  },
  {
   "cell_type": "code",
   "execution_count": null,
   "metadata": {},
   "outputs": [],
   "source": [
    "# Calculate skewness for each column in your DataFrame\n",
    "skewness_valuesT = mergedT[random_columns].skew()\n",
    "\n",
    "# Print skewness values\n",
    "print(\"Skewness for each selected feature:\")\n",
    "print(skewness_valuesT)"
   ]
  },
  {
   "cell_type": "code",
   "execution_count": null,
   "metadata": {},
   "outputs": [],
   "source": [
    "# Calculate skewness for each column in your DataFrame\n",
    "skewness_valuesT = mergedT.skew()\n",
    "\n",
    "# Round the skewness values\n",
    "rounded_skewnessT_values = np.round(skewness_valuesT, decimals=2)\n",
    "\n",
    "# Set seaborn style\n",
    "sns.set(style=\"whitegrid\")\n",
    "\n",
    "# Plot a histogram of rounded skewness values\n",
    "plt.figure(figsize=(10, 6))\n",
    "sns.histplot(rounded_skewnessT_values, bins=20, color='skyblue', edgecolor='black')\n",
    "plt.title('Histogram of Rounded Skewness Values', fontsize=16)\n",
    "plt.xlabel('Skewness', fontsize=14)\n",
    "plt.ylabel('Frequency', fontsize=14)\n",
    "plt.xticks(fontsize=12)\n",
    "plt.yticks(fontsize=12)\n",
    "plt.grid(axis='y', linestyle='--', alpha=0.7)\n",
    "plt.show()"
   ]
  },
  {
   "cell_type": "code",
   "execution_count": null,
   "metadata": {},
   "outputs": [],
   "source": [
    "# Calculate kurtosis for each column in your DataFrame\n",
    "kurtosis_valuesT = mergedT[random_columns].kurtosis()\n",
    "\n",
    "# Print kurtosis values\n",
    "print(\"Kurtosis for each feature:\")\n",
    "print(kurtosis_valuesT)"
   ]
  },
  {
   "cell_type": "code",
   "execution_count": null,
   "metadata": {},
   "outputs": [],
   "source": [
    "# Calculate kurtosis for each column in your DataFrame\n",
    "kurtosis_valuesT = mergedT.kurtosis()\n",
    "\n",
    "# Round the kurtosis values\n",
    "rounded_kurtosisT_values = np.round(kurtosis_valuesT, decimals=2)\n",
    "\n",
    "# Set seaborn style\n",
    "sns.set(style=\"whitegrid\")\n",
    "\n",
    "# Plot a histogram of rounded kurtosis values\n",
    "plt.figure(figsize=(10, 6))\n",
    "sns.histplot(rounded_kurtosisT_values, bins=20, color='skyblue', edgecolor='black')\n",
    "plt.title('Histogram of Rounded Kurtosis Values', fontsize=16)\n",
    "plt.xlabel('Kurtosis', fontsize=14)\n",
    "plt.ylabel('Frequency', fontsize=14)\n",
    "plt.xticks(fontsize=12)\n",
    "plt.yticks(fontsize=12)\n",
    "plt.grid(axis='y', linestyle='--', alpha=0.7)\n",
    "plt.show()"
   ]
  },
  {
   "cell_type": "code",
   "execution_count": null,
   "metadata": {},
   "outputs": [],
   "source": [
    "# Test normality using the Kolmogorov-Smirnov test impl. before\n",
    "non_normal_countT = test_distribution_per_feature(mergedT)"
   ]
  },
  {
   "cell_type": "code",
   "execution_count": null,
   "metadata": {},
   "outputs": [],
   "source": [
    "# Now test other distribition in the same way\n",
    "test_poissondistribution_per_feature(mergedT)"
   ]
  },
  {
   "cell_type": "code",
   "execution_count": null,
   "metadata": {},
   "outputs": [],
   "source": [
    "test_negative_binomial_distribution_per_feature(mergedT)"
   ]
  },
  {
   "cell_type": "code",
   "execution_count": null,
   "metadata": {},
   "outputs": [],
   "source": [
    "# test_gamma_distribution_per_feature(mergedT)"
   ]
  },
  {
   "cell_type": "code",
   "execution_count": null,
   "metadata": {},
   "outputs": [],
   "source": [
    "# DA AGGIUNGERE REPR FOR GAMMA"
   ]
  },
  {
   "attachments": {},
   "cell_type": "markdown",
   "metadata": {},
   "source": [
    "________________________________________________________________________________________________________________________"
   ]
  },
  {
   "attachments": {},
   "cell_type": "markdown",
   "metadata": {},
   "source": [
    "Now that we finished the analysis of the data we proceed with the normalization.\n",
    "In order to do so, we will work on the transpose dataset (genes as rows and cells as columns)"
   ]
  },
  {
   "cell_type": "code",
   "execution_count": null,
   "metadata": {},
   "outputs": [],
   "source": [
    "mergedT.shape"
   ]
  },
  {
   "cell_type": "markdown",
   "metadata": {},
   "source": [
    "since we have an highly non normal distributed data we try to take different concave transformations and then check which one is the best.\n",
    "the first transformation we use is a squarw root with a random index to pick a single feature from the transposed dataset for the analysis."
   ]
  },
  {
   "cell_type": "code",
   "execution_count": null,
   "metadata": {},
   "outputs": [],
   "source": [
    "# Highly non normal distribution hence we take concave transformations the features\n",
    "# Inspect first a single randomly selected feature\n",
    "\n",
    "# we are using the transposed dataset\n",
    "\n",
    "# Select a random index with seed\n",
    "np.random.seed(42)\n",
    "randomindex = np.random.randint(0, mergedT.shape[1])\n",
    "\n",
    "# Apply the square root of the feature with random index\n",
    "mergedT_squareroot = np.sqrt(mergedT[mergedT.columns[randomindex]])\n",
    "# Boxplot of the feature and the transformed feature\n",
    "fig, axs = plt.subplots(1, 2, figsize=(10,6))\n",
    "plt.suptitle(\"Boxplot for one column\")\n",
    "axs[0].boxplot(mergedT[mergedT.columns[randomindex]]+1)\n",
    "axs[0].set_title(\"Raw data\")\n",
    "axs[0].get_xaxis().set_visible(False)\n",
    "axs[0].grid(True)\n",
    "axs[1].boxplot(mergedT_squareroot)\n",
    "axs[1].set_title(\"Square Root data\")\n",
    "axs[1].get_xaxis().set_visible(False)\n",
    "axs[1].grid(True)\n",
    "\n",
    "plt.show()"
   ]
  },
  {
   "cell_type": "markdown",
   "metadata": {},
   "source": [
    "the second transformation is the cubic root."
   ]
  },
  {
   "cell_type": "code",
   "execution_count": null,
   "metadata": {},
   "outputs": [],
   "source": [
    "mergedT_cuberoot = np.cbrt(mergedT[mergedT.columns[randomindex]])\n",
    "# Boxplot of the feature and the transformed feature\n",
    "fig, axs = plt.subplots(1, 2, figsize=(10,6))\n",
    "plt.suptitle(\"Boxplot for one column\")\n",
    "axs[0].boxplot(mergedT[mergedT.columns[randomindex]]+1)\n",
    "axs[0].set_title(\"Raw data\")\n",
    "axs[0].get_xaxis().set_visible(False)\n",
    "axs[0].grid(True)\n",
    "axs[1].boxplot(mergedT_cuberoot)\n",
    "axs[1].set_title(\"Cube Root data\")\n",
    "axs[1].get_xaxis().set_visible(False)\n",
    "axs[1].grid(True)\n",
    "\n",
    "plt.show()"
   ]
  },
  {
   "cell_type": "markdown",
   "metadata": {},
   "source": [
    "the last transformation is the logarithm."
   ]
  },
  {
   "cell_type": "code",
   "execution_count": null,
   "metadata": {},
   "outputs": [],
   "source": [
    "mergedT_log2_onecol = np.log2(mergedT[mergedT.columns[randomindex]]+1)\n",
    "# Boxplot of the feature and the transformed feature\n",
    "fig, axs = plt.subplots(1, 2, figsize=(10,6))\n",
    "plt.suptitle(\"Boxplot for one column\")\n",
    "axs[0].boxplot(mergedT[mergedT.columns[randomindex]]+1)\n",
    "axs[0].set_title(\"Raw data\")\n",
    "axs[0].get_xaxis().set_visible(False)\n",
    "axs[0].grid(True)\n",
    "axs[1].boxplot(mergedT_log2_onecol)\n",
    "axs[1].set_title(\"Log data\")\n",
    "axs[1].get_xaxis().set_visible(False)\n",
    "axs[1].grid(True)\n",
    "\n",
    "plt.show()"
   ]
  },
  {
   "cell_type": "markdown",
   "metadata": {},
   "source": [
    "We now show that between the transformation we tryed the best one is the log one.\n",
    "In order to do so we look at the skewness of the transformed data and then plot the histograms to inspect why the skewness is negative. Finally we procced plotting the density of the transformed columns."
   ]
  },
  {
   "cell_type": "code",
   "execution_count": null,
   "metadata": {},
   "outputs": [],
   "source": [
    "# Prove that log transformation is the best\n",
    "# Calculate the skewness of the raw data\n",
    "skewness_raw = mergedT[mergedT.columns[randomindex]].skew()\n",
    "# Calculate the skewness of the log transformed data\n",
    "skewness_log = np.log2(mergedT[mergedT.columns[randomindex]]+1).skew()\n",
    "# Calculate the skewness of the square root transformed data\n",
    "skewness_sqrt = np.sqrt(mergedT[mergedT.columns[randomindex]]).skew()\n",
    "# Calculate the skewness of the cube root transformed data\n",
    "skewness_cbrt = np.cbrt(mergedT[mergedT.columns[randomindex]]).skew()\n",
    "# Print the skewness values\n",
    "print(f\"Skewness of raw data: {skewness_raw}\")\n",
    "print(f\"Skewness of log transformed data: {skewness_log}\")\n",
    "print(f\"Skewness of square root transformed data: {skewness_sqrt}\")\n",
    "print(f\"Skewness of cube root transformed data: {skewness_cbrt}\")\n",
    "\n",
    "# Plot the histogram of transformed column, inspect why the skewness is negative\n",
    "fig, axs = plt.subplots(1, 2, figsize=(10,6))\n",
    "plt.suptitle(\"Histogram for one column\")\n",
    "axs[0].hist(mergedT[mergedT.columns[randomindex]], bins = 100)\n",
    "# Set x-axis limit\n",
    "axs[0].set_xlim(0, 1000)\n",
    "axs[0].set_title(\"Raw data\")\n",
    "axs[0].grid(True)\n",
    "axs[1].hist(mergedT_log2_onecol)\n",
    "axs[1].set_title(\"Log data\")\n",
    "axs[1].grid(True)\n",
    "\n",
    "# Plot the density of the transformed column\n",
    "fig, axs = plt.subplots(1, 2, figsize=(10,6))\n",
    "plt.suptitle(\"Density plot for one column\")\n",
    "sns.kdeplot(mergedT[mergedT.columns[randomindex]], ax=axs[0])\n",
    "axs[0].set_title(\"Raw data\")\n",
    "axs[0].grid(True)\n",
    "sns.kdeplot(mergedT_log2_onecol, ax=axs[1])\n",
    "axs[1].set_title(\"Log data\")\n",
    "axs[1].grid(True)\n"
   ]
  },
  {
   "cell_type": "markdown",
   "metadata": {},
   "source": [
    "now we plot the densities of 10 randomly selected features all in one plot with sns with rescaled x axis"
   ]
  },
  {
   "cell_type": "code",
   "execution_count": null,
   "metadata": {},
   "outputs": [],
   "source": [
    "np.random.seed(42)\n",
    "fig, ax = plt.subplots(1, 1, figsize=(10,6))\n",
    "plt.suptitle(\"Density plot for 10 columns\")\n",
    "for i in np.random.randint(0, mergedT.shape[1], 10):\n",
    "    np.log2(mergedT[mergedT.columns[i]]+1).plot.density(legend = False)\n",
    "ax.set_title(\"Raw data\")\n",
    "# Rescale x limits\n",
    "ax.set_xlim(-10, 20)\n",
    "plt.grid(True)\n",
    "ax.grid(True)\n",
    "plt.show()\n",
    "\n"
   ]
  },
  {
   "attachments": {},
   "cell_type": "markdown",
   "metadata": {},
   "source": [
    "DA CAMBIARE What can we say about these results? We see that there are two peaks, so close to half of the genes are usually not expressed (or very low expressed) while roughly the other half is very expressed. So, this indicates the presence of two subgroups of genes for each cell. In classification, we want to \"compare\" these distributions, but from the boxplot above, we can see that different samples have different expression levels range, which complicates the task!"
   ]
  },
  {
   "cell_type": "markdown",
   "metadata": {},
   "source": [
    "Now that we saw that the log transformation is the best for this randomly selected random feature, we proceed inspecting the whole dataset.\n",
    "So we apply the three transformations to the whole dataset and we check which one is the best by analyzing the skewness and the kurtosis of the two resulting datasets.\n"
   ]
  },
  {
   "cell_type": "code",
   "execution_count": null,
   "metadata": {},
   "outputs": [],
   "source": [
    "# Apply the log transformation to the entire dataset\n",
    "mergedT_log = np.log2(mergedT+1)\n",
    "mergedT_cbrt = np.cbrt(mergedT)\n",
    "mergedT_sqrt = np.sqrt(mergedT)\n",
    "# Convert to DataFrame\n",
    "mergedT_log = pd.DataFrame(mergedT_log, columns=mergedT.columns, index=mergedT.index)\n",
    "mergedT_cbrt = pd.DataFrame(mergedT_cbrt, columns=mergedT.columns, index=mergedT.index)\n",
    "mergedT_sqrt = pd.DataFrame(mergedT_sqrt, columns=mergedT.columns, index=mergedT.index)\n",
    "# Check skewness of the transformed data\n",
    "skewness_log = mergedT_log.skew()\n",
    "skewness_cbrt = mergedT_cbrt.skew()\n",
    "skewness_sqrt = mergedT_sqrt.skew()\n",
    "# Print the skewness values\n",
    "print(f\"Skewness of log transformed data: {skewness_log.mean()}\")\n",
    "print(f\"Skewness of cube root transformed data: {skewness_cbrt.mean()}\")\n",
    "print(f\"Skewness of square root transformed data: {skewness_sqrt.mean()}\")\n",
    "# Plot the histograms of the transformed data\n",
    "fig, axs = plt.subplots(1, 3, figsize=(15, 5))\n",
    "plt.suptitle(\"Histograms of transformed data\")\n",
    "axs[0].hist(mergedT_log.values.flatten(), bins=50, color='blue', alpha=0.7)\n",
    "axs[0].set_title(\"Log transformed data\")\n",
    "axs[1].hist(mergedT_cbrt.values.flatten(), bins=50, color='red', alpha=0.7)\n",
    "axs[1].set_title(\"Cube root transformed data\")\n",
    "axs[2].hist(mergedT_sqrt.values.flatten(), bins=50, color='green', alpha=0.7)\n",
    "axs[2].set_title(\"Square root transformed data\")\n",
    "plt.show()"
   ]
  },
  {
   "cell_type": "markdown",
   "metadata": {},
   "source": [
    "Now that we saw that indeed the log transformation is the best we do some more plots on the data transformed in this way."
   ]
  },
  {
   "cell_type": "code",
   "execution_count": null,
   "metadata": {},
   "outputs": [],
   "source": [
    "# Create a list of skewness values for all columns\n",
    "skewness_log = mergedT_log.skew()\n",
    "\n",
    "# Now we histogram plot the skewness values for the log transformed data\n",
    "fig, ax = plt.subplots(1, 1, figsize=(10,6))\n",
    "plt.suptitle(\"Histogram of skewness values for log transformed data\")\n",
    "sns.histplot(skewness_log, bins=1000, color='blue')\n",
    "ax.set_title(\"Log transformed data\")\n",
    "# Set x limits\n",
    "ax.set_xlim(0, 2)\n",
    "plt.grid(True)\n",
    "plt.show()\n"
   ]
  },
  {
   "cell_type": "code",
   "execution_count": null,
   "metadata": {},
   "outputs": [],
   "source": [
    "# kurtosis of log-trasnformed dataframe computed one column at a time\n",
    "kurtosis_log = mergedT_log.kurtosis()\n",
    "# Plot the histogram of kurtosis values\n",
    "fig = plt.figure(figsize=(10,6))\n",
    "plt.suptitle(\"Histogram of kurtosis values for log transformed data\")\n",
    "sns.histplot(kurtosis_log, bins=1000, color='blue')\n",
    "plt.title(\"Log transformed data\")\n",
    "plt.xlim(0, 10)\n",
    "plt.grid(True)\n",
    "plt.show()"
   ]
  },
  {
   "attachments": {},
   "cell_type": "markdown",
   "metadata": {},
   "source": [
    "We use CPM (Counts Per Million) normalization, which is a common normalization technique for RNA-seq data. It is calculated as follows:\n",
    "CPM values are calculated by dividing the number of reads mapped to a gene by a million scaling factor divided by the total of mapped reads.\n",
    "We will do it across columns (i.e. across cells) because we want the genes' reads to be \"normalized\" and so comparable across different observations"
   ]
  },
  {
   "cell_type": "code",
   "execution_count": null,
   "metadata": {},
   "outputs": [],
   "source": [
    "# CPM Normalization with a for loop\n",
    "# Initialize a new DataFrame\n",
    "mergedT_cpm = pd.DataFrame()\n",
    "# Loop over each column\n",
    "for column in mergedT.columns:\n",
    "    # Calculate the CPM\n",
    "    cpm = mergedT[column] / mergedT[column].sum() * 1e6\n",
    "    # Add the CPM to the new DataFrame\n",
    "    mergedT_cpm = pd.concat([mergedT_cpm, cpm], axis=1)\n"
   ]
  },
  {
   "cell_type": "code",
   "execution_count": null,
   "metadata": {},
   "outputs": [],
   "source": [
    "mergedT_cpm.shape"
   ]
  },
  {
   "cell_type": "code",
   "execution_count": null,
   "metadata": {},
   "outputs": [],
   "source": [
    "mergedT_cpm.head()"
   ]
  },
  {
   "cell_type": "code",
   "execution_count": null,
   "metadata": {},
   "outputs": [],
   "source": [
    "mergedT_cpm.describe()"
   ]
  },
  {
   "cell_type": "markdown",
   "metadata": {},
   "source": [
    "Here we boxplot our CPM-normalized cells. The distribution start to look balanced."
   ]
  },
  {
   "cell_type": "code",
   "execution_count": null,
   "metadata": {},
   "outputs": [],
   "source": [
    "#box-plot of log-transformed 50 random columns of dataframe\n",
    "random_columns = list(range(0, mergedT.shape[1])) # list of integers from 1 to 243\n",
    "random.shuffle(random_columns)\n",
    "random_columns = random_columns[:50]\n",
    "normalized_small = mergedT_cpm.iloc[:, random_columns]\n",
    "plt.figure(figsize=(16,4))\n",
    "plot=sns.boxplot(data=normalized_small,palette=\"Set3\")\n",
    "plt.setp(plot.get_xticklabels(), rotation=90);\n"
   ]
  },
  {
   "cell_type": "markdown",
   "metadata": {},
   "source": [
    "Here we see that the Skeweness and Kurtosis values are still very high.The log transformation will definitely improve the symmetry of the distributions."
   ]
  },
  {
   "cell_type": "code",
   "execution_count": null,
   "metadata": {},
   "outputs": [],
   "source": [
    "# Check again skewness and kurtosis of the CPM normalized data\n",
    "skewness_cpm = mergedT_cpm.skew()\n",
    "kurtosis_cpm = mergedT_cpm.kurtosis()\n",
    "# Print the skewness and kurtosis values\n",
    "print(f\"Mean Skewness of CPM normalized data: {skewness_cpm.mean()}\")\n",
    "print(f\"Mean Kurtosis of CPM normalized data: {kurtosis_cpm.mean()}\")\n",
    "# boxplot of skewness\n",
    "fig, ax = plt.subplots(1, 2, figsize=(10,5))\n",
    "plt.suptitle(\"Boxplot of CPM Normalized Data\")\n",
    "ax[0].boxplot(skewness_cpm)\n",
    "ax[0].grid(True)\n",
    "ax[0].set_title(\"Skewness\")\n",
    "ax[1].boxplot(kurtosis_cpm)\n",
    "ax[1].grid(True)\n",
    "ax[1].set_title(\"Kurtosis\")\n",
    "plt.show()\n"
   ]
  },
  {
   "cell_type": "code",
   "execution_count": null,
   "metadata": {},
   "outputs": [],
   "source": [
    "# Now we will apply the log transformation to the CPM normalized data\n",
    "mergedT_cpm_log = np.log2(mergedT_cpm+1)\n",
    "# Convert to DataFrame\n",
    "mergedT_cpm_log = pd.DataFrame(mergedT_cpm_log, columns=mergedT_cpm.columns, index=mergedT_cpm.index)"
   ]
  },
  {
   "cell_type": "markdown",
   "metadata": {},
   "source": [
    "The boxplot of 10 random cells shows that the distributions after the log transformation are even more balanced and symmetric."
   ]
  },
  {
   "cell_type": "code",
   "execution_count": null,
   "metadata": {},
   "outputs": [],
   "source": [
    "# Study the distributions of 10 random columns now (boxplot and densities)\n",
    "log_small = mergedT_cpm_log.iloc[:, random_columns]\n",
    "plt.figure(figsize=(16,4))\n",
    "plot=sns.boxplot(data=log_small, palette=\"Set3\")\n",
    "plt.setp(plot.get_xticklabels(), rotation=90);\n"
   ]
  },
  {
   "cell_type": "markdown",
   "metadata": {},
   "source": [
    "Plotting the densities of 10 random cells, we notice a Bimodal distributions, with of course a peak at the 0, as we expected since most of the genes in each cell have 0 reading, and a second peak around 5, so this means that most of the genes, when they apprear, have a similar number of readings."
   ]
  },
  {
   "cell_type": "code",
   "execution_count": null,
   "metadata": {},
   "outputs": [],
   "source": [
    "# Densities of the 10 random columns\n",
    "fig, ax = plt.subplots(1, 1, figsize=(10,6))\n",
    "plt.suptitle(\"Density plot of 10 random columns\")\n",
    "for i in range(10):\n",
    "    sns.kdeplot(mergedT_cpm_log.iloc[:, i], ax=ax)\n",
    "ax.set_title(\"Log transformed CPM normalized data\")\n",
    "ax.set_xlabel(\"\")\n",
    "ax.grid(True)\n",
    "plt.show()\n"
   ]
  },
  {
   "cell_type": "code",
   "execution_count": null,
   "metadata": {},
   "outputs": [],
   "source": [
    "# from scipy.stats import beta\n",
    "\n",
    "# # Iterate over columns and perform the test\n",
    "# def test_beta_distribution_per_feature(data):\n",
    "#     beta_list = [] # initialize list to store features with Gamma distribution\n",
    "#     for column in data.columns:\n",
    "#         observed_values = data[column].values  # values of the column\n",
    "#         support = np.unique(observed_values) # unique values in the column\n",
    "#         mean = observed_values.mean() # mean of the column (we will need this for the nbinom distribution)\n",
    "#         var = observed_values.var() # variance of the column (we will need this for the nbinom distribution)\n",
    "#         a = mean*(1/(1-mean))\n",
    "#         b = mean*(1/var - 1/mean)\n",
    "#         obs_freq = [] # initialize an empty array to store observed frequencies\n",
    "#         for value in support:\n",
    "#             obs_freq.append((observed_values == value).sum()) # count the number of times each unique value appears in the column\n",
    "#         exp_freq = [] # initialize an empty array to store expected frequencies\n",
    "#         for value in support:\n",
    "#             exp_freq.append(beta.pdf(value,a,b) * len(observed_values)) # calculate the expected frequency for each unique value\n",
    "#         # normalize the observed and expected frequencies\n",
    "#         obs_freq = obs_freq / np.sum(obs_freq)\n",
    "#         exp_freq = exp_freq / np.sum(exp_freq)\n",
    "        \n",
    "#         # perform the chi-square test\n",
    "#         _, p = chisquare(obs_freq, exp_freq)\n",
    "        \n",
    "#         # if p-value is greater than 0.05, we don't reject the null hypothesis that the data doesn't follow a beta distribution\n",
    "#         if p >= 0.05:\n",
    "#             beta_list.append(column)\n",
    "#     print(\"Number of features with Beta distribution:\", len(beta_list))\n",
    "#     if len(beta_list) == 0:\n",
    "#         print(\"All features have non-Beta distribution\")\n",
    "#     else:\n",
    "#         print(\"Some features might have Beta distribution\")\n",
    "#     return beta_list\n",
    "\n",
    "# beta_columns = test_beta_distribution_per_feature(mergedT_cpm_log)"
   ]
  },
  {
   "attachments": {},
   "cell_type": "markdown",
   "metadata": {},
   "source": [
    "________________________________________________________________________________________________________________________"
   ]
  },
  {
   "attachments": {},
   "cell_type": "markdown",
   "metadata": {},
   "source": [
    "## Feature Selection"
   ]
  },
  {
   "attachments": {},
   "cell_type": "markdown",
   "metadata": {},
   "source": [
    "In this section we try to find the genes that explain most of the variance, discarding all the others.So we want to remove these \"undetectable\" genes. How could we define a detectable gene? When there are biological replicates in each group, in this case, we have a sample size of 2 in each group. Therefore we could define a gene as detectable if there is a minimum counts-per-million (CPM) threshold in at least 2 samples.\n",
    "Genes with very low counts in all samples provide\n",
    "little evidence for differential expression.\n",
    "We filter using CPM values rather than counts\n",
    "because they account for differences in\n",
    "sequencing depth between samples.\n",
    "we could define a gene as detectable if there is a minimum counts-per-million threshold in at least 2 samples.\n",
    "There is no general rule for choosing the threshold,\n",
    "so we will do grid search for finding the optimal value.\n"
   ]
  },
  {
   "cell_type": "code",
   "execution_count": null,
   "metadata": {},
   "outputs": [],
   "source": [
    "def filter_CPM(data, threshold):\n",
    "    data_filtered = pd.DataFrame()\n",
    "    # Keep track of the number of rows removed\n",
    "    removed_genes = 0\n",
    "    # Create a mask to filter out rows with low counts\n",
    "    if 'Target' in data.index:\n",
    "        data = data.drop('Target')\n",
    "    mask_thr = data > threshold\n",
    "    mask_rows = mask_thr.sum(axis=1) >= 2\n",
    "    data_filtered = data.loc[mask_rows, :]\n",
    "    return data_filtered"
   ]
  },
  {
   "cell_type": "code",
   "execution_count": null,
   "metadata": {},
   "outputs": [],
   "source": [
    "filteredcpm = filter_CPM(mergedT_cpm_log, 0.5)\n",
    "print(filteredcpm)\n",
    "print(\"Number of rows before filtering:\", mergedT_cpm_log.shape[0])"
   ]
  },
  {
   "cell_type": "code",
   "execution_count": null,
   "metadata": {},
   "outputs": [],
   "source": [
    "# check if there is target column in the filtered data\n",
    "print(\"Target column in the filtered data:\", \"Target\" in mergedT_cpm_log.columns)\n",
    "print(\"Target column in the filtered data:\", \"Target\" in filteredcpm.columns)\n"
   ]
  },
  {
   "cell_type": "code",
   "execution_count": null,
   "metadata": {},
   "outputs": [],
   "source": [
    "mergedT_cpm_log_transpose = mergedT_cpm_log.T"
   ]
  },
  {
   "cell_type": "markdown",
   "metadata": {},
   "source": [
    "Technicality: the function discarded the 'Target' row, so we need to add it again"
   ]
  },
  {
   "cell_type": "code",
   "execution_count": null,
   "metadata": {},
   "outputs": [],
   "source": [
    "# Now we want to add the target column (i.e. the class) to the dataframe, we get the condition from metadata\n",
    "df_metaH = pd.read_csv(df_metaH_path, delimiter='\\t')\n",
    "print(df_metaH.columns)\n",
    "df_metaH.set_index('Filename', inplace=True)\n",
    "# Merge the two dataframes with key 'Filename'\n",
    "merged_transition = pd.merge(mergedT_cpm_log_transpose, df_metaH['Condition'], left_index=True, right_index=True)\n",
    "\n",
    "# Now transform the categorical variable 'Condition' to numerical\n",
    "dummy_variables = pd.get_dummies(merged_transition['Condition'], prefix='category').astype('int')\n",
    "merged_cpm_log = pd.concat([merged_transition, dummy_variables], axis=1)\n",
    "print(merged_cpm_log.head())\n",
    "merged_cpm_log.drop(columns=['category_Hypo', 'Condition'], inplace=True)\n",
    "merged_cpm_log.rename(columns={'category_Normo': 'Target'}, inplace=True)\n",
    "# Note that 1 = Hypo, 0 = Norm"
   ]
  },
  {
   "cell_type": "code",
   "execution_count": null,
   "metadata": {},
   "outputs": [],
   "source": [
    "def add_target_column(data, metadata_path, target_column_name, target_category):\n",
    "    df_meta = pd.read_csv(metadata_path, delimiter='\\t')\n",
    "    df_meta.set_index('Filename', inplace=True)\n",
    "    merged_transition = pd.merge(data, df_meta[target_column_name], left_index=True, right_index=True)\n",
    "    dummy_variables = pd.get_dummies(merged_transition[target_column_name], prefix='category').astype('int')\n",
    "    \n",
    "    # Set the target category to 1 and the others to 0\n",
    "    dummy_variables['Target'] = dummy_variables[target_category]\n",
    "    dummy_variables.drop(columns=[col for col in dummy_variables.columns if col != 'Target'], inplace=True)\n",
    "    \n",
    "    merged_data = pd.concat([merged_transition, dummy_variables], axis=1)\n",
    "    merged_data.drop(columns=[target_column_name], inplace=True)\n",
    "    return merged_data\n",
    "\n",
    "add_target_column(mergedT_cpm_log_transpose, df_metaH_path, 'Condition', 'category_Normo')"
   ]
  },
  {
   "cell_type": "code",
   "execution_count": null,
   "metadata": {},
   "outputs": [],
   "source": [
    "merged_cpm_log.shape"
   ]
  },
  {
   "cell_type": "code",
   "execution_count": null,
   "metadata": {},
   "outputs": [],
   "source": [
    "# Split the dataset in Normo and Hypo based on Condition\n",
    "normo_cpm_log = merged_cpm_log[merged_cpm_log[\"Target\"] == 0]\n",
    "hypo_cpm_log = merged_cpm_log[merged_cpm_log[\"Target\"] == 1]"
   ]
  },
  {
   "cell_type": "markdown",
   "metadata": {},
   "source": [
    "Since we have only two groups (Normoxia and Hypoxia), it could be useful to understand the significant genes to run the Wilcoxon Rank-Sum Test too.\n",
    "In the Mann-Whitney test, the null hypothesis (usually denoted as \n",
    "states that there are no significant differences between the probability distributions of the two samples, meaning that both samples are drawn from the same population. \n",
    "The alternative hypothesis (usually denoted as  asserts that there is a significant difference between the distributions of the two samples, suggesting that one sample stochastically dominates the other.\n",
    "So we run this test for each gene, and we store the corresponding p-values in a dictionary.\n"
   ]
  },
  {
   "cell_type": "code",
   "execution_count": null,
   "metadata": {},
   "outputs": [],
   "source": [
    "# Wilcoxon rank-sum test \n",
    "# We will use the Wilcoxon rank-sum test to compare the distributions of two groups of samples.\n",
    "def wilcoxon_ranksum_test(data):\n",
    "    normo = data[data[\"Target\"] == 0]\n",
    "    hypo = data[data[\"Target\"] == 1]\n",
    "    p_values = {}\n",
    "    for i in range(data.shape[1]):\n",
    "        p_values[data.columns[i]] = mannwhitneyu(normo.iloc[:, i], hypo.iloc[:, i], alternative = \"two-sided\")[1]\n",
    "    return p_values\n",
    "\n",
    "p_values_mannwhitneyu = wilcoxon_ranksum_test(merged_cpm_log)\n",
    "# print(p_values_mannwhitneyu)"
   ]
  },
  {
   "cell_type": "markdown",
   "metadata": {},
   "source": [
    "Gene expression analysis involves comparing the expression levels of thousands of genes between different experimental conditions.\n",
    " Researchers typically conduct statistical testsfor each gene to determine if there are significant differences in expression between the conditions.\n",
    "\n",
    "However, when performing thousands of statistical tests simultaneously, there's a high chance of observing false positives (genes incorrectly identified as differentially expressed) due to random chance alone. To address this issue, researchers use multiple testing corrections to control the false discovery rate (FDR).\n",
    "Here's how q-values come into play: by  Benjamini-Hochberg procedure we adjusts the p-values to account for the number of tests performed and controls the FDR.\n",
    "By using q-values, we can prioritize genes that are more likely to be truly differentially expressed while minimizing the number of false discoveries. "
   ]
  },
  {
   "cell_type": "code",
   "execution_count": null,
   "metadata": {},
   "outputs": [],
   "source": [
    "def q_value (p_val_dict):\n",
    "  sorted_list = [[key, value] for (key, value) in sorted(p_val_dict.items(), key=lambda x: x[1])]\n",
    "  rank = 1\n",
    "  for p in sorted_list:\n",
    "    p[1] = p[1] * len(p_val_dict)/rank\n",
    "    rank += 1\n",
    "  q_val_dict = dict(sorted_list)\n",
    "  q_val_dict = (sorted(q_val_dict.items()))\n",
    "  return q_val_dict"
   ]
  },
  {
   "cell_type": "code",
   "execution_count": null,
   "metadata": {},
   "outputs": [],
   "source": [
    "q_value(p_values_mannwhitneyu)"
   ]
  },
  {
   "cell_type": "markdown",
   "metadata": {},
   "source": [
    "For choosing the optimal number of significant genes, we will combine q-values with CPM threshold.\n",
    "we will proceed in the following way:\n",
    "1. We filter the data using the CPM threshold\n",
    "2. We run the Mann-Whitney test on the remaining features, computing the p-values (and then the q-values) for each gene\n",
    "3. We keep only the ones with an associated q value >0.05\n",
    "4. We perform gridsearch to find the optimal value for the threshold"
   ]
  },
  {
   "cell_type": "code",
   "execution_count": null,
   "metadata": {},
   "outputs": [],
   "source": [
    "# from datafilter select the genes that have a q-value < 0.05 and drop those rows\n",
    "data_filtered_transpose = filteredcpm.T\n",
    "count = [value for value in q_value(p_values_mannwhitneyu) if value[1] <= 0.05]\n",
    "# we create a list with just the first values of each tuple\n",
    "count = [value[0] for value in count]\n",
    "#we remove from count the eleemnt 'Target'\n",
    "count.remove('Target')\n",
    "finaldf = data_filtered_transpose.drop(columns = count)"
   ]
  },
  {
   "cell_type": "code",
   "execution_count": null,
   "metadata": {},
   "outputs": [],
   "source": [
    "data_filtered_transpose.shape"
   ]
  },
  {
   "cell_type": "code",
   "execution_count": null,
   "metadata": {},
   "outputs": [],
   "source": [
    "finaldf.shape"
   ]
  },
  {
   "cell_type": "code",
   "execution_count": null,
   "metadata": {},
   "outputs": [],
   "source": [
    "mergedT_cpm_log.shape"
   ]
  },
  {
   "cell_type": "code",
   "execution_count": null,
   "metadata": {},
   "outputs": [],
   "source": [
    "# Now we plot the number of features we drop for each treshold value with grid search\n",
    "def grid_search_thresholds(data, thresholds):\n",
    "    n_features = []\n",
    "    for threshold in thresholds:\n",
    "        data_filtered = filter_CPM(data, threshold)\n",
    "        data_filtered = data_filtered.T\n",
    "        print(\"Number of features dropped for CPM\", threshold, \":\", data.shape[0]-data_filtered.shape[1])\n",
    "        data_filtered = add_target_column(data_filtered, df_metaH_path, 'Condition', 'category_Normo')\n",
    "        p_vals = wilcoxon_ranksum_test(data_filtered)\n",
    "        count = [value for value in q_value(p_vals) if value[1] <= 0.05]\n",
    "        count = [value[0] for value in count]\n",
    "        # Delete all columns in count that are not in colsdatafilt\n",
    "        finaldf = data_filtered[count]\n",
    "        print(\"Number of features dropped after q-value test for threshold\", threshold, \":\", data_filtered.shape[1]-len(count))\n",
    "        n_features.append(finaldf.shape[1])\n",
    "        # Plot the number of features we drop for each treshold value\n",
    "    plt.plot(thresholds, n_features)\n",
    "    plt.xlabel('Threshold')\n",
    "    plt.ylabel('Number of features')\n",
    "    plt.title('Number of significant features for each threshold value')\n",
    "    plt.axvline(x=2.1, color = \"red\", linestyle = \"--\", label = \"Optimal Threshold\")\n",
    "    plt.legend()\n",
    "    plt.show()  \n",
    "    return n_features\n",
    "\n",
    "thresholds = np.linspace(start = 0, stop = 10, num = 20)\n",
    "grid_search_thresholds(mergedT_cpm_log, thresholds)"
   ]
  },
  {
   "cell_type": "code",
   "execution_count": null,
   "metadata": {},
   "outputs": [],
   "source": [
    "merged_cpm_log_filtered = filter_CPM(mergedT_cpm_log, 2.1)\n",
    "merged_cpm_log_filtered = merged_cpm_log_filtered.T\n",
    "merged_cpm_log_filtered = add_target_column(merged_cpm_log_filtered, df_metaH_path, 'Condition', 'category_Normo')\n",
    "pvals = wilcoxon_ranksum_test(merged_cpm_log_filtered)\n",
    "qvals = q_value(pvals)\n",
    "count = [value for value in qvals if value[1] <= 0.05]\n",
    "count = [value[0] for value in count]\n",
    "merged_cpm_log_filtered = merged_cpm_log_filtered[count]"
   ]
  },
  {
   "cell_type": "code",
   "execution_count": null,
   "metadata": {},
   "outputs": [],
   "source": [
    "print(merged_cpm_log_filtered.shape)"
   ]
  },
  {
   "cell_type": "code",
   "execution_count": null,
   "metadata": {},
   "outputs": [],
   "source": [
    "merged_cpm_log_filtered.head()\n",
    "# Check if there is target in columns with boolean\n",
    "print('Target' in merged_cpm_log_filtered.columns)"
   ]
  },
  {
   "attachments": {},
   "cell_type": "markdown",
   "metadata": {},
   "source": [
    "It's clear that an optimal value for the threshold is approximately 2.1., and by choosing such a value we will keep approximately 3800 features"
   ]
  },
  {
   "cell_type": "code",
   "execution_count": null,
   "metadata": {},
   "outputs": [],
   "source": [
    "# Now scatter plot the variance of the genes\n",
    "filt_first = filter_CPM(mergedT_cpm_log, 2.1).T\n",
    "adata = sc.AnnData(filt_first)\n",
    "\n",
    "sc.pp.highly_variable_genes(adata, n_top_genes=3000, inplace=False, flavor='seurat_v3')\n",
    "# Note since our dataset is already log-transformed as the function 'Expects logarithmized data'\n",
    "sc.pl.highly_variable_genes(adata, inplace = False)"
   ]
  },
  {
   "cell_type": "code",
   "execution_count": null,
   "metadata": {},
   "outputs": [],
   "source": [
    "adata = adata[:, adata.var['highly_variable']]\n",
    "print(\"Total matching: \", adata.var['highly_variable'].index.isin(df_seq_HFiltNorm.index).astype(bool).sum())\n",
    "print(\"Percentage matching to the given training dataset: \", round(adata.var['highly_variable'].index.isin(df_seq_HFiltNorm.index).astype(bool).sum()/3000*100, 2), \"%\")"
   ]
  },
  {
   "attachments": {},
   "cell_type": "markdown",
   "metadata": {},
   "source": [
    "## DIMENSIONALITY REDUCTION FOR VISUALIZATION"
   ]
  },
  {
   "cell_type": "markdown",
   "metadata": {},
   "source": [
    "we now start the training part of our model.\n",
    "Firsly we perform PCA in order to diminuish the dimensions of our dataset and visualize it."
   ]
  },
  {
   "cell_type": "code",
   "execution_count": 16,
   "metadata": {},
   "outputs": [
    {
     "data": {
      "text/html": [
       "<div>\n",
       "<style scoped>\n",
       "    .dataframe tbody tr th:only-of-type {\n",
       "        vertical-align: middle;\n",
       "    }\n",
       "\n",
       "    .dataframe tbody tr th {\n",
       "        vertical-align: top;\n",
       "    }\n",
       "\n",
       "    .dataframe thead th {\n",
       "        text-align: right;\n",
       "    }\n",
       "</style>\n",
       "<table border=\"1\" class=\"dataframe\">\n",
       "  <thead>\n",
       "    <tr style=\"text-align: right;\">\n",
       "      <th></th>\n",
       "      <th>DDIT4</th>\n",
       "      <th>ANGPTL4</th>\n",
       "      <th>CALML5</th>\n",
       "      <th>KRT14</th>\n",
       "      <th>CCNB1</th>\n",
       "      <th>IGFBP3</th>\n",
       "      <th>AKR1C2</th>\n",
       "      <th>KRT6A</th>\n",
       "      <th>NDRG1</th>\n",
       "      <th>KRT4</th>\n",
       "      <th>...</th>\n",
       "      <th>MST1R</th>\n",
       "      <th>ZYG11A</th>\n",
       "      <th>NRG1</th>\n",
       "      <th>RBMS3</th>\n",
       "      <th>VCPIP1</th>\n",
       "      <th>LINC02693</th>\n",
       "      <th>OR8B9P</th>\n",
       "      <th>NEAT1</th>\n",
       "      <th>ZDHHC23</th>\n",
       "      <th>ODAD2</th>\n",
       "    </tr>\n",
       "  </thead>\n",
       "  <tbody>\n",
       "    <tr>\n",
       "      <th>output.STAR.PCRPlate1G12_Normoxia_S32_Aligned.sortedByCoord.out.bam</th>\n",
       "      <td>0</td>\n",
       "      <td>48</td>\n",
       "      <td>0</td>\n",
       "      <td>321</td>\n",
       "      <td>298</td>\n",
       "      <td>82</td>\n",
       "      <td>6250</td>\n",
       "      <td>634</td>\n",
       "      <td>0</td>\n",
       "      <td>0</td>\n",
       "      <td>...</td>\n",
       "      <td>78</td>\n",
       "      <td>10</td>\n",
       "      <td>136</td>\n",
       "      <td>0</td>\n",
       "      <td>0</td>\n",
       "      <td>29</td>\n",
       "      <td>0</td>\n",
       "      <td>29</td>\n",
       "      <td>0</td>\n",
       "      <td>0</td>\n",
       "    </tr>\n",
       "    <tr>\n",
       "      <th>output.STAR.PCRPlate1G1_Hypoxia_S102_Aligned.sortedByCoord.out.bam</th>\n",
       "      <td>8739</td>\n",
       "      <td>2101</td>\n",
       "      <td>55</td>\n",
       "      <td>96</td>\n",
       "      <td>1824</td>\n",
       "      <td>1938</td>\n",
       "      <td>62</td>\n",
       "      <td>0</td>\n",
       "      <td>522</td>\n",
       "      <td>413</td>\n",
       "      <td>...</td>\n",
       "      <td>279</td>\n",
       "      <td>0</td>\n",
       "      <td>264</td>\n",
       "      <td>0</td>\n",
       "      <td>134</td>\n",
       "      <td>68</td>\n",
       "      <td>0</td>\n",
       "      <td>213</td>\n",
       "      <td>0</td>\n",
       "      <td>0</td>\n",
       "    </tr>\n",
       "    <tr>\n",
       "      <th>output.STAR.PCRPlate1G2_Hypoxia_S2_Aligned.sortedByCoord.out.bam</th>\n",
       "      <td>13098</td>\n",
       "      <td>14032</td>\n",
       "      <td>0</td>\n",
       "      <td>0</td>\n",
       "      <td>1616</td>\n",
       "      <td>247</td>\n",
       "      <td>430</td>\n",
       "      <td>907</td>\n",
       "      <td>348</td>\n",
       "      <td>0</td>\n",
       "      <td>...</td>\n",
       "      <td>311</td>\n",
       "      <td>0</td>\n",
       "      <td>38</td>\n",
       "      <td>0</td>\n",
       "      <td>0</td>\n",
       "      <td>0</td>\n",
       "      <td>0</td>\n",
       "      <td>92</td>\n",
       "      <td>0</td>\n",
       "      <td>0</td>\n",
       "    </tr>\n",
       "    <tr>\n",
       "      <th>output.STAR.PCRPlate1G3_Hypoxia_S7_Aligned.sortedByCoord.out.bam</th>\n",
       "      <td>2880</td>\n",
       "      <td>356</td>\n",
       "      <td>0</td>\n",
       "      <td>6211</td>\n",
       "      <td>3</td>\n",
       "      <td>3430</td>\n",
       "      <td>79</td>\n",
       "      <td>1953</td>\n",
       "      <td>592</td>\n",
       "      <td>176</td>\n",
       "      <td>...</td>\n",
       "      <td>125</td>\n",
       "      <td>0</td>\n",
       "      <td>16</td>\n",
       "      <td>0</td>\n",
       "      <td>4</td>\n",
       "      <td>1</td>\n",
       "      <td>0</td>\n",
       "      <td>1</td>\n",
       "      <td>0</td>\n",
       "      <td>0</td>\n",
       "    </tr>\n",
       "    <tr>\n",
       "      <th>output.STAR.PCRPlate1G4_Hypoxia_S107_Aligned.sortedByCoord.out.bam</th>\n",
       "      <td>7777</td>\n",
       "      <td>5661</td>\n",
       "      <td>4383</td>\n",
       "      <td>0</td>\n",
       "      <td>145</td>\n",
       "      <td>4618</td>\n",
       "      <td>246</td>\n",
       "      <td>85</td>\n",
       "      <td>206</td>\n",
       "      <td>0</td>\n",
       "      <td>...</td>\n",
       "      <td>268</td>\n",
       "      <td>1</td>\n",
       "      <td>25</td>\n",
       "      <td>0</td>\n",
       "      <td>0</td>\n",
       "      <td>0</td>\n",
       "      <td>0</td>\n",
       "      <td>128</td>\n",
       "      <td>0</td>\n",
       "      <td>0</td>\n",
       "    </tr>\n",
       "  </tbody>\n",
       "</table>\n",
       "<p>5 rows × 3000 columns</p>\n",
       "</div>"
      ],
      "text/plain": [
       "                                                    DDIT4  ANGPTL4  CALML5  \\\n",
       "output.STAR.PCRPlate1G12_Normoxia_S32_Aligned.s...      0       48       0   \n",
       "output.STAR.PCRPlate1G1_Hypoxia_S102_Aligned.so...   8739     2101      55   \n",
       "output.STAR.PCRPlate1G2_Hypoxia_S2_Aligned.sort...  13098    14032       0   \n",
       "output.STAR.PCRPlate1G3_Hypoxia_S7_Aligned.sort...   2880      356       0   \n",
       "output.STAR.PCRPlate1G4_Hypoxia_S107_Aligned.so...   7777     5661    4383   \n",
       "\n",
       "                                                    KRT14  CCNB1  IGFBP3  \\\n",
       "output.STAR.PCRPlate1G12_Normoxia_S32_Aligned.s...    321    298      82   \n",
       "output.STAR.PCRPlate1G1_Hypoxia_S102_Aligned.so...     96   1824    1938   \n",
       "output.STAR.PCRPlate1G2_Hypoxia_S2_Aligned.sort...      0   1616     247   \n",
       "output.STAR.PCRPlate1G3_Hypoxia_S7_Aligned.sort...   6211      3    3430   \n",
       "output.STAR.PCRPlate1G4_Hypoxia_S107_Aligned.so...      0    145    4618   \n",
       "\n",
       "                                                    AKR1C2  KRT6A  NDRG1  \\\n",
       "output.STAR.PCRPlate1G12_Normoxia_S32_Aligned.s...    6250    634      0   \n",
       "output.STAR.PCRPlate1G1_Hypoxia_S102_Aligned.so...      62      0    522   \n",
       "output.STAR.PCRPlate1G2_Hypoxia_S2_Aligned.sort...     430    907    348   \n",
       "output.STAR.PCRPlate1G3_Hypoxia_S7_Aligned.sort...      79   1953    592   \n",
       "output.STAR.PCRPlate1G4_Hypoxia_S107_Aligned.so...     246     85    206   \n",
       "\n",
       "                                                    KRT4  ...  MST1R  ZYG11A  \\\n",
       "output.STAR.PCRPlate1G12_Normoxia_S32_Aligned.s...     0  ...     78      10   \n",
       "output.STAR.PCRPlate1G1_Hypoxia_S102_Aligned.so...   413  ...    279       0   \n",
       "output.STAR.PCRPlate1G2_Hypoxia_S2_Aligned.sort...     0  ...    311       0   \n",
       "output.STAR.PCRPlate1G3_Hypoxia_S7_Aligned.sort...   176  ...    125       0   \n",
       "output.STAR.PCRPlate1G4_Hypoxia_S107_Aligned.so...     0  ...    268       1   \n",
       "\n",
       "                                                    NRG1  RBMS3  VCPIP1  \\\n",
       "output.STAR.PCRPlate1G12_Normoxia_S32_Aligned.s...   136      0       0   \n",
       "output.STAR.PCRPlate1G1_Hypoxia_S102_Aligned.so...   264      0     134   \n",
       "output.STAR.PCRPlate1G2_Hypoxia_S2_Aligned.sort...    38      0       0   \n",
       "output.STAR.PCRPlate1G3_Hypoxia_S7_Aligned.sort...    16      0       4   \n",
       "output.STAR.PCRPlate1G4_Hypoxia_S107_Aligned.so...    25      0       0   \n",
       "\n",
       "                                                    LINC02693  OR8B9P  NEAT1  \\\n",
       "output.STAR.PCRPlate1G12_Normoxia_S32_Aligned.s...         29       0     29   \n",
       "output.STAR.PCRPlate1G1_Hypoxia_S102_Aligned.so...         68       0    213   \n",
       "output.STAR.PCRPlate1G2_Hypoxia_S2_Aligned.sort...          0       0     92   \n",
       "output.STAR.PCRPlate1G3_Hypoxia_S7_Aligned.sort...          1       0      1   \n",
       "output.STAR.PCRPlate1G4_Hypoxia_S107_Aligned.so...          0       0    128   \n",
       "\n",
       "                                                    ZDHHC23  ODAD2  \n",
       "output.STAR.PCRPlate1G12_Normoxia_S32_Aligned.s...        0      0  \n",
       "output.STAR.PCRPlate1G1_Hypoxia_S102_Aligned.so...        0      0  \n",
       "output.STAR.PCRPlate1G2_Hypoxia_S2_Aligned.sort...        0      0  \n",
       "output.STAR.PCRPlate1G3_Hypoxia_S7_Aligned.sort...        0      0  \n",
       "output.STAR.PCRPlate1G4_Hypoxia_S107_Aligned.so...        0      0  \n",
       "\n",
       "[5 rows x 3000 columns]"
      ]
     },
     "execution_count": 16,
     "metadata": {},
     "output_type": "execute_result"
    }
   ],
   "source": [
    "# Now use the dataset already Filtered and Normalized to train the model\n",
    "df_seq_HFiltNorm.T.head()"
   ]
  },
  {
   "cell_type": "code",
   "execution_count": 18,
   "metadata": {},
   "outputs": [
    {
     "data": {
      "text/html": [
       "<div>\n",
       "<style scoped>\n",
       "    .dataframe tbody tr th:only-of-type {\n",
       "        vertical-align: middle;\n",
       "    }\n",
       "\n",
       "    .dataframe tbody tr th {\n",
       "        vertical-align: top;\n",
       "    }\n",
       "\n",
       "    .dataframe thead th {\n",
       "        text-align: right;\n",
       "    }\n",
       "</style>\n",
       "<table border=\"1\" class=\"dataframe\">\n",
       "  <thead>\n",
       "    <tr style=\"text-align: right;\">\n",
       "      <th></th>\n",
       "      <th>DDIT4</th>\n",
       "      <th>ANGPTL4</th>\n",
       "      <th>CALML5</th>\n",
       "      <th>KRT14</th>\n",
       "      <th>CCNB1</th>\n",
       "      <th>IGFBP3</th>\n",
       "      <th>AKR1C2</th>\n",
       "      <th>KRT6A</th>\n",
       "      <th>NDRG1</th>\n",
       "      <th>KRT4</th>\n",
       "      <th>...</th>\n",
       "      <th>ZYG11A</th>\n",
       "      <th>NRG1</th>\n",
       "      <th>RBMS3</th>\n",
       "      <th>VCPIP1</th>\n",
       "      <th>LINC02693</th>\n",
       "      <th>OR8B9P</th>\n",
       "      <th>NEAT1</th>\n",
       "      <th>ZDHHC23</th>\n",
       "      <th>ODAD2</th>\n",
       "      <th>Condition</th>\n",
       "    </tr>\n",
       "  </thead>\n",
       "  <tbody>\n",
       "    <tr>\n",
       "      <th>output.STAR.PCRPlate1G12_Normoxia_S32_Aligned.sortedByCoord.out.bam</th>\n",
       "      <td>-0.972303</td>\n",
       "      <td>-0.606545</td>\n",
       "      <td>-0.450147</td>\n",
       "      <td>-0.252175</td>\n",
       "      <td>-0.449918</td>\n",
       "      <td>-0.424383</td>\n",
       "      <td>1.880221</td>\n",
       "      <td>-0.296169</td>\n",
       "      <td>-0.732176</td>\n",
       "      <td>-0.258044</td>\n",
       "      <td>...</td>\n",
       "      <td>0.485505</td>\n",
       "      <td>-0.019549</td>\n",
       "      <td>-0.329853</td>\n",
       "      <td>-0.458669</td>\n",
       "      <td>-0.325664</td>\n",
       "      <td>-0.145424</td>\n",
       "      <td>-0.520198</td>\n",
       "      <td>-0.432756</td>\n",
       "      <td>-0.249221</td>\n",
       "      <td>Normo</td>\n",
       "    </tr>\n",
       "    <tr>\n",
       "      <th>output.STAR.PCRPlate1G1_Hypoxia_S102_Aligned.sortedByCoord.out.bam</th>\n",
       "      <td>1.131562</td>\n",
       "      <td>0.449488</td>\n",
       "      <td>-0.387969</td>\n",
       "      <td>-0.346692</td>\n",
       "      <td>0.756530</td>\n",
       "      <td>0.237912</td>\n",
       "      <td>-0.522609</td>\n",
       "      <td>-0.467565</td>\n",
       "      <td>0.102503</td>\n",
       "      <td>0.010645</td>\n",
       "      <td>...</td>\n",
       "      <td>-0.364947</td>\n",
       "      <td>0.852907</td>\n",
       "      <td>-0.329853</td>\n",
       "      <td>0.625773</td>\n",
       "      <td>0.126343</td>\n",
       "      <td>-0.145424</td>\n",
       "      <td>0.789606</td>\n",
       "      <td>-0.432756</td>\n",
       "      <td>-0.249221</td>\n",
       "      <td>Hypo</td>\n",
       "    </tr>\n",
       "    <tr>\n",
       "      <th>output.STAR.PCRPlate1G2_Hypoxia_S2_Aligned.sortedByCoord.out.bam</th>\n",
       "      <td>2.180967</td>\n",
       "      <td>6.586620</td>\n",
       "      <td>-0.450147</td>\n",
       "      <td>-0.387019</td>\n",
       "      <td>0.592086</td>\n",
       "      <td>-0.365504</td>\n",
       "      <td>-0.379713</td>\n",
       "      <td>-0.222367</td>\n",
       "      <td>-0.175723</td>\n",
       "      <td>-0.258044</td>\n",
       "      <td>...</td>\n",
       "      <td>-0.364947</td>\n",
       "      <td>-0.687524</td>\n",
       "      <td>-0.329853</td>\n",
       "      <td>-0.458669</td>\n",
       "      <td>-0.661772</td>\n",
       "      <td>-0.145424</td>\n",
       "      <td>-0.071733</td>\n",
       "      <td>-0.432756</td>\n",
       "      <td>-0.249221</td>\n",
       "      <td>Hypo</td>\n",
       "    </tr>\n",
       "    <tr>\n",
       "      <th>output.STAR.PCRPlate1G3_Hypoxia_S7_Aligned.sortedByCoord.out.bam</th>\n",
       "      <td>-0.278959</td>\n",
       "      <td>-0.448114</td>\n",
       "      <td>-0.450147</td>\n",
       "      <td>2.222070</td>\n",
       "      <td>-0.683143</td>\n",
       "      <td>0.770317</td>\n",
       "      <td>-0.516008</td>\n",
       "      <td>0.060409</td>\n",
       "      <td>0.214433</td>\n",
       "      <td>-0.143542</td>\n",
       "      <td>...</td>\n",
       "      <td>-0.364947</td>\n",
       "      <td>-0.837477</td>\n",
       "      <td>-0.329853</td>\n",
       "      <td>-0.426298</td>\n",
       "      <td>-0.650182</td>\n",
       "      <td>-0.145424</td>\n",
       "      <td>-0.719516</td>\n",
       "      <td>-0.432756</td>\n",
       "      <td>-0.249221</td>\n",
       "      <td>Hypo</td>\n",
       "    </tr>\n",
       "    <tr>\n",
       "      <th>output.STAR.PCRPlate1G4_Hypoxia_S107_Aligned.sortedByCoord.out.bam</th>\n",
       "      <td>0.899966</td>\n",
       "      <td>2.280700</td>\n",
       "      <td>4.504940</td>\n",
       "      <td>-0.387019</td>\n",
       "      <td>-0.570879</td>\n",
       "      <td>1.194243</td>\n",
       "      <td>-0.451161</td>\n",
       "      <td>-0.444586</td>\n",
       "      <td>-0.402781</td>\n",
       "      <td>-0.258044</td>\n",
       "      <td>...</td>\n",
       "      <td>-0.279901</td>\n",
       "      <td>-0.776133</td>\n",
       "      <td>-0.329853</td>\n",
       "      <td>-0.458669</td>\n",
       "      <td>-0.661772</td>\n",
       "      <td>-0.145424</td>\n",
       "      <td>0.184533</td>\n",
       "      <td>-0.432756</td>\n",
       "      <td>-0.249221</td>\n",
       "      <td>Hypo</td>\n",
       "    </tr>\n",
       "    <tr>\n",
       "      <th>...</th>\n",
       "      <td>...</td>\n",
       "      <td>...</td>\n",
       "      <td>...</td>\n",
       "      <td>...</td>\n",
       "      <td>...</td>\n",
       "      <td>...</td>\n",
       "      <td>...</td>\n",
       "      <td>...</td>\n",
       "      <td>...</td>\n",
       "      <td>...</td>\n",
       "      <td>...</td>\n",
       "      <td>...</td>\n",
       "      <td>...</td>\n",
       "      <td>...</td>\n",
       "      <td>...</td>\n",
       "      <td>...</td>\n",
       "      <td>...</td>\n",
       "      <td>...</td>\n",
       "      <td>...</td>\n",
       "      <td>...</td>\n",
       "      <td>...</td>\n",
       "    </tr>\n",
       "    <tr>\n",
       "      <th>output.STAR.PCRPlate4H10_Normoxia_S210_Aligned.sortedByCoord.out.bam</th>\n",
       "      <td>-0.953284</td>\n",
       "      <td>-0.628664</td>\n",
       "      <td>-0.450147</td>\n",
       "      <td>0.494300</td>\n",
       "      <td>-0.247526</td>\n",
       "      <td>-0.418316</td>\n",
       "      <td>-0.236817</td>\n",
       "      <td>0.670837</td>\n",
       "      <td>-0.629840</td>\n",
       "      <td>-0.258044</td>\n",
       "      <td>...</td>\n",
       "      <td>-0.364947</td>\n",
       "      <td>0.852907</td>\n",
       "      <td>-0.329853</td>\n",
       "      <td>-0.377741</td>\n",
       "      <td>-0.267715</td>\n",
       "      <td>-0.145424</td>\n",
       "      <td>-0.555791</td>\n",
       "      <td>-0.432756</td>\n",
       "      <td>-0.249221</td>\n",
       "      <td>Normo</td>\n",
       "    </tr>\n",
       "    <tr>\n",
       "      <th>output.STAR.PCRPlate4H11_Normoxia_S214_Aligned.sortedByCoord.out.bam</th>\n",
       "      <td>-0.932099</td>\n",
       "      <td>-0.630721</td>\n",
       "      <td>-0.450147</td>\n",
       "      <td>-0.375677</td>\n",
       "      <td>2.148767</td>\n",
       "      <td>-0.405827</td>\n",
       "      <td>-0.545519</td>\n",
       "      <td>-0.306442</td>\n",
       "      <td>-0.714587</td>\n",
       "      <td>-0.258044</td>\n",
       "      <td>...</td>\n",
       "      <td>-0.364947</td>\n",
       "      <td>-0.128606</td>\n",
       "      <td>0.816694</td>\n",
       "      <td>-0.458669</td>\n",
       "      <td>-0.047506</td>\n",
       "      <td>-0.145424</td>\n",
       "      <td>0.533340</td>\n",
       "      <td>1.441677</td>\n",
       "      <td>-0.249221</td>\n",
       "      <td>Normo</td>\n",
       "    </tr>\n",
       "    <tr>\n",
       "      <th>output.STAR.PCRPlate4H2_Hypoxia_S199_Aligned.sortedByCoord.out.bam</th>\n",
       "      <td>1.479920</td>\n",
       "      <td>0.987535</td>\n",
       "      <td>-0.450147</td>\n",
       "      <td>-0.324428</td>\n",
       "      <td>0.114567</td>\n",
       "      <td>-0.414034</td>\n",
       "      <td>-0.268658</td>\n",
       "      <td>-0.300765</td>\n",
       "      <td>0.457481</td>\n",
       "      <td>-0.258044</td>\n",
       "      <td>...</td>\n",
       "      <td>-0.364947</td>\n",
       "      <td>-0.571651</td>\n",
       "      <td>-0.329853</td>\n",
       "      <td>0.811909</td>\n",
       "      <td>-0.163405</td>\n",
       "      <td>-0.145424</td>\n",
       "      <td>0.077756</td>\n",
       "      <td>-0.432756</td>\n",
       "      <td>-0.249221</td>\n",
       "      <td>Hypo</td>\n",
       "    </tr>\n",
       "    <tr>\n",
       "      <th>output.STAR.PCRPlate4H7_Normoxia_S205_Aligned.sortedByCoord.out.bam</th>\n",
       "      <td>-0.915006</td>\n",
       "      <td>-0.610146</td>\n",
       "      <td>2.791065</td>\n",
       "      <td>-0.045077</td>\n",
       "      <td>1.059327</td>\n",
       "      <td>-0.347662</td>\n",
       "      <td>-0.149448</td>\n",
       "      <td>0.310744</td>\n",
       "      <td>-0.730577</td>\n",
       "      <td>-0.258044</td>\n",
       "      <td>...</td>\n",
       "      <td>-0.364947</td>\n",
       "      <td>-0.660259</td>\n",
       "      <td>-0.329853</td>\n",
       "      <td>-0.248255</td>\n",
       "      <td>-0.661772</td>\n",
       "      <td>-0.145424</td>\n",
       "      <td>-0.634094</td>\n",
       "      <td>-0.255922</td>\n",
       "      <td>-0.249221</td>\n",
       "      <td>Normo</td>\n",
       "    </tr>\n",
       "    <tr>\n",
       "      <th>output.STAR.PCRPlate4H9_Normoxia_S236_Aligned.sortedByCoord.out.bam</th>\n",
       "      <td>-0.957859</td>\n",
       "      <td>-0.631236</td>\n",
       "      <td>-0.450147</td>\n",
       "      <td>-0.384078</td>\n",
       "      <td>-0.308401</td>\n",
       "      <td>-0.450075</td>\n",
       "      <td>-0.218567</td>\n",
       "      <td>-0.137209</td>\n",
       "      <td>-0.730577</td>\n",
       "      <td>-0.258044</td>\n",
       "      <td>...</td>\n",
       "      <td>0.230370</td>\n",
       "      <td>0.791562</td>\n",
       "      <td>-0.329853</td>\n",
       "      <td>-0.199698</td>\n",
       "      <td>-0.372024</td>\n",
       "      <td>-0.145424</td>\n",
       "      <td>-0.634094</td>\n",
       "      <td>-0.291289</td>\n",
       "      <td>-0.249221</td>\n",
       "      <td>Normo</td>\n",
       "    </tr>\n",
       "  </tbody>\n",
       "</table>\n",
       "<p>182 rows × 3001 columns</p>\n",
       "</div>"
      ],
      "text/plain": [
       "                                                       DDIT4   ANGPTL4  \\\n",
       "output.STAR.PCRPlate1G12_Normoxia_S32_Aligned.s... -0.972303 -0.606545   \n",
       "output.STAR.PCRPlate1G1_Hypoxia_S102_Aligned.so...  1.131562  0.449488   \n",
       "output.STAR.PCRPlate1G2_Hypoxia_S2_Aligned.sort...  2.180967  6.586620   \n",
       "output.STAR.PCRPlate1G3_Hypoxia_S7_Aligned.sort... -0.278959 -0.448114   \n",
       "output.STAR.PCRPlate1G4_Hypoxia_S107_Aligned.so...  0.899966  2.280700   \n",
       "...                                                      ...       ...   \n",
       "output.STAR.PCRPlate4H10_Normoxia_S210_Aligned.... -0.953284 -0.628664   \n",
       "output.STAR.PCRPlate4H11_Normoxia_S214_Aligned.... -0.932099 -0.630721   \n",
       "output.STAR.PCRPlate4H2_Hypoxia_S199_Aligned.so...  1.479920  0.987535   \n",
       "output.STAR.PCRPlate4H7_Normoxia_S205_Aligned.s... -0.915006 -0.610146   \n",
       "output.STAR.PCRPlate4H9_Normoxia_S236_Aligned.s... -0.957859 -0.631236   \n",
       "\n",
       "                                                      CALML5     KRT14  \\\n",
       "output.STAR.PCRPlate1G12_Normoxia_S32_Aligned.s... -0.450147 -0.252175   \n",
       "output.STAR.PCRPlate1G1_Hypoxia_S102_Aligned.so... -0.387969 -0.346692   \n",
       "output.STAR.PCRPlate1G2_Hypoxia_S2_Aligned.sort... -0.450147 -0.387019   \n",
       "output.STAR.PCRPlate1G3_Hypoxia_S7_Aligned.sort... -0.450147  2.222070   \n",
       "output.STAR.PCRPlate1G4_Hypoxia_S107_Aligned.so...  4.504940 -0.387019   \n",
       "...                                                      ...       ...   \n",
       "output.STAR.PCRPlate4H10_Normoxia_S210_Aligned.... -0.450147  0.494300   \n",
       "output.STAR.PCRPlate4H11_Normoxia_S214_Aligned.... -0.450147 -0.375677   \n",
       "output.STAR.PCRPlate4H2_Hypoxia_S199_Aligned.so... -0.450147 -0.324428   \n",
       "output.STAR.PCRPlate4H7_Normoxia_S205_Aligned.s...  2.791065 -0.045077   \n",
       "output.STAR.PCRPlate4H9_Normoxia_S236_Aligned.s... -0.450147 -0.384078   \n",
       "\n",
       "                                                       CCNB1    IGFBP3  \\\n",
       "output.STAR.PCRPlate1G12_Normoxia_S32_Aligned.s... -0.449918 -0.424383   \n",
       "output.STAR.PCRPlate1G1_Hypoxia_S102_Aligned.so...  0.756530  0.237912   \n",
       "output.STAR.PCRPlate1G2_Hypoxia_S2_Aligned.sort...  0.592086 -0.365504   \n",
       "output.STAR.PCRPlate1G3_Hypoxia_S7_Aligned.sort... -0.683143  0.770317   \n",
       "output.STAR.PCRPlate1G4_Hypoxia_S107_Aligned.so... -0.570879  1.194243   \n",
       "...                                                      ...       ...   \n",
       "output.STAR.PCRPlate4H10_Normoxia_S210_Aligned.... -0.247526 -0.418316   \n",
       "output.STAR.PCRPlate4H11_Normoxia_S214_Aligned....  2.148767 -0.405827   \n",
       "output.STAR.PCRPlate4H2_Hypoxia_S199_Aligned.so...  0.114567 -0.414034   \n",
       "output.STAR.PCRPlate4H7_Normoxia_S205_Aligned.s...  1.059327 -0.347662   \n",
       "output.STAR.PCRPlate4H9_Normoxia_S236_Aligned.s... -0.308401 -0.450075   \n",
       "\n",
       "                                                      AKR1C2     KRT6A  \\\n",
       "output.STAR.PCRPlate1G12_Normoxia_S32_Aligned.s...  1.880221 -0.296169   \n",
       "output.STAR.PCRPlate1G1_Hypoxia_S102_Aligned.so... -0.522609 -0.467565   \n",
       "output.STAR.PCRPlate1G2_Hypoxia_S2_Aligned.sort... -0.379713 -0.222367   \n",
       "output.STAR.PCRPlate1G3_Hypoxia_S7_Aligned.sort... -0.516008  0.060409   \n",
       "output.STAR.PCRPlate1G4_Hypoxia_S107_Aligned.so... -0.451161 -0.444586   \n",
       "...                                                      ...       ...   \n",
       "output.STAR.PCRPlate4H10_Normoxia_S210_Aligned.... -0.236817  0.670837   \n",
       "output.STAR.PCRPlate4H11_Normoxia_S214_Aligned.... -0.545519 -0.306442   \n",
       "output.STAR.PCRPlate4H2_Hypoxia_S199_Aligned.so... -0.268658 -0.300765   \n",
       "output.STAR.PCRPlate4H7_Normoxia_S205_Aligned.s... -0.149448  0.310744   \n",
       "output.STAR.PCRPlate4H9_Normoxia_S236_Aligned.s... -0.218567 -0.137209   \n",
       "\n",
       "                                                       NDRG1      KRT4  ...  \\\n",
       "output.STAR.PCRPlate1G12_Normoxia_S32_Aligned.s... -0.732176 -0.258044  ...   \n",
       "output.STAR.PCRPlate1G1_Hypoxia_S102_Aligned.so...  0.102503  0.010645  ...   \n",
       "output.STAR.PCRPlate1G2_Hypoxia_S2_Aligned.sort... -0.175723 -0.258044  ...   \n",
       "output.STAR.PCRPlate1G3_Hypoxia_S7_Aligned.sort...  0.214433 -0.143542  ...   \n",
       "output.STAR.PCRPlate1G4_Hypoxia_S107_Aligned.so... -0.402781 -0.258044  ...   \n",
       "...                                                      ...       ...  ...   \n",
       "output.STAR.PCRPlate4H10_Normoxia_S210_Aligned.... -0.629840 -0.258044  ...   \n",
       "output.STAR.PCRPlate4H11_Normoxia_S214_Aligned.... -0.714587 -0.258044  ...   \n",
       "output.STAR.PCRPlate4H2_Hypoxia_S199_Aligned.so...  0.457481 -0.258044  ...   \n",
       "output.STAR.PCRPlate4H7_Normoxia_S205_Aligned.s... -0.730577 -0.258044  ...   \n",
       "output.STAR.PCRPlate4H9_Normoxia_S236_Aligned.s... -0.730577 -0.258044  ...   \n",
       "\n",
       "                                                      ZYG11A      NRG1  \\\n",
       "output.STAR.PCRPlate1G12_Normoxia_S32_Aligned.s...  0.485505 -0.019549   \n",
       "output.STAR.PCRPlate1G1_Hypoxia_S102_Aligned.so... -0.364947  0.852907   \n",
       "output.STAR.PCRPlate1G2_Hypoxia_S2_Aligned.sort... -0.364947 -0.687524   \n",
       "output.STAR.PCRPlate1G3_Hypoxia_S7_Aligned.sort... -0.364947 -0.837477   \n",
       "output.STAR.PCRPlate1G4_Hypoxia_S107_Aligned.so... -0.279901 -0.776133   \n",
       "...                                                      ...       ...   \n",
       "output.STAR.PCRPlate4H10_Normoxia_S210_Aligned.... -0.364947  0.852907   \n",
       "output.STAR.PCRPlate4H11_Normoxia_S214_Aligned.... -0.364947 -0.128606   \n",
       "output.STAR.PCRPlate4H2_Hypoxia_S199_Aligned.so... -0.364947 -0.571651   \n",
       "output.STAR.PCRPlate4H7_Normoxia_S205_Aligned.s... -0.364947 -0.660259   \n",
       "output.STAR.PCRPlate4H9_Normoxia_S236_Aligned.s...  0.230370  0.791562   \n",
       "\n",
       "                                                       RBMS3    VCPIP1  \\\n",
       "output.STAR.PCRPlate1G12_Normoxia_S32_Aligned.s... -0.329853 -0.458669   \n",
       "output.STAR.PCRPlate1G1_Hypoxia_S102_Aligned.so... -0.329853  0.625773   \n",
       "output.STAR.PCRPlate1G2_Hypoxia_S2_Aligned.sort... -0.329853 -0.458669   \n",
       "output.STAR.PCRPlate1G3_Hypoxia_S7_Aligned.sort... -0.329853 -0.426298   \n",
       "output.STAR.PCRPlate1G4_Hypoxia_S107_Aligned.so... -0.329853 -0.458669   \n",
       "...                                                      ...       ...   \n",
       "output.STAR.PCRPlate4H10_Normoxia_S210_Aligned.... -0.329853 -0.377741   \n",
       "output.STAR.PCRPlate4H11_Normoxia_S214_Aligned....  0.816694 -0.458669   \n",
       "output.STAR.PCRPlate4H2_Hypoxia_S199_Aligned.so... -0.329853  0.811909   \n",
       "output.STAR.PCRPlate4H7_Normoxia_S205_Aligned.s... -0.329853 -0.248255   \n",
       "output.STAR.PCRPlate4H9_Normoxia_S236_Aligned.s... -0.329853 -0.199698   \n",
       "\n",
       "                                                    LINC02693    OR8B9P  \\\n",
       "output.STAR.PCRPlate1G12_Normoxia_S32_Aligned.s...  -0.325664 -0.145424   \n",
       "output.STAR.PCRPlate1G1_Hypoxia_S102_Aligned.so...   0.126343 -0.145424   \n",
       "output.STAR.PCRPlate1G2_Hypoxia_S2_Aligned.sort...  -0.661772 -0.145424   \n",
       "output.STAR.PCRPlate1G3_Hypoxia_S7_Aligned.sort...  -0.650182 -0.145424   \n",
       "output.STAR.PCRPlate1G4_Hypoxia_S107_Aligned.so...  -0.661772 -0.145424   \n",
       "...                                                       ...       ...   \n",
       "output.STAR.PCRPlate4H10_Normoxia_S210_Aligned....  -0.267715 -0.145424   \n",
       "output.STAR.PCRPlate4H11_Normoxia_S214_Aligned....  -0.047506 -0.145424   \n",
       "output.STAR.PCRPlate4H2_Hypoxia_S199_Aligned.so...  -0.163405 -0.145424   \n",
       "output.STAR.PCRPlate4H7_Normoxia_S205_Aligned.s...  -0.661772 -0.145424   \n",
       "output.STAR.PCRPlate4H9_Normoxia_S236_Aligned.s...  -0.372024 -0.145424   \n",
       "\n",
       "                                                       NEAT1   ZDHHC23  \\\n",
       "output.STAR.PCRPlate1G12_Normoxia_S32_Aligned.s... -0.520198 -0.432756   \n",
       "output.STAR.PCRPlate1G1_Hypoxia_S102_Aligned.so...  0.789606 -0.432756   \n",
       "output.STAR.PCRPlate1G2_Hypoxia_S2_Aligned.sort... -0.071733 -0.432756   \n",
       "output.STAR.PCRPlate1G3_Hypoxia_S7_Aligned.sort... -0.719516 -0.432756   \n",
       "output.STAR.PCRPlate1G4_Hypoxia_S107_Aligned.so...  0.184533 -0.432756   \n",
       "...                                                      ...       ...   \n",
       "output.STAR.PCRPlate4H10_Normoxia_S210_Aligned.... -0.555791 -0.432756   \n",
       "output.STAR.PCRPlate4H11_Normoxia_S214_Aligned....  0.533340  1.441677   \n",
       "output.STAR.PCRPlate4H2_Hypoxia_S199_Aligned.so...  0.077756 -0.432756   \n",
       "output.STAR.PCRPlate4H7_Normoxia_S205_Aligned.s... -0.634094 -0.255922   \n",
       "output.STAR.PCRPlate4H9_Normoxia_S236_Aligned.s... -0.634094 -0.291289   \n",
       "\n",
       "                                                       ODAD2  Condition  \n",
       "output.STAR.PCRPlate1G12_Normoxia_S32_Aligned.s... -0.249221      Normo  \n",
       "output.STAR.PCRPlate1G1_Hypoxia_S102_Aligned.so... -0.249221       Hypo  \n",
       "output.STAR.PCRPlate1G2_Hypoxia_S2_Aligned.sort... -0.249221       Hypo  \n",
       "output.STAR.PCRPlate1G3_Hypoxia_S7_Aligned.sort... -0.249221       Hypo  \n",
       "output.STAR.PCRPlate1G4_Hypoxia_S107_Aligned.so... -0.249221       Hypo  \n",
       "...                                                      ...        ...  \n",
       "output.STAR.PCRPlate4H10_Normoxia_S210_Aligned.... -0.249221      Normo  \n",
       "output.STAR.PCRPlate4H11_Normoxia_S214_Aligned.... -0.249221      Normo  \n",
       "output.STAR.PCRPlate4H2_Hypoxia_S199_Aligned.so... -0.249221       Hypo  \n",
       "output.STAR.PCRPlate4H7_Normoxia_S205_Aligned.s... -0.249221      Normo  \n",
       "output.STAR.PCRPlate4H9_Normoxia_S236_Aligned.s... -0.249221      Normo  \n",
       "\n",
       "[182 rows x 3001 columns]"
      ]
     },
     "execution_count": 18,
     "metadata": {},
     "output_type": "execute_result"
    }
   ],
   "source": [
    "merged_df_pca = pd.merge(df_dim_red, df_metaH['Condition'], left_index=True, right_index=True)\n",
    "merged_df_pca"
   ]
  },
  {
   "cell_type": "code",
   "execution_count": 19,
   "metadata": {},
   "outputs": [
    {
     "name": "stdout",
     "output_type": "stream",
     "text": [
      "The number of dimensions needed to explain 95% of the variance is 156\n"
     ]
    },
    {
     "data": {
      "image/png": "[encoded data removed]",
      "text/plain": [
       "<Figure size 640x480 with 1 Axes>"
      ]
     },
     "metadata": {},
     "output_type": "display_data"
    }
   ],
   "source": [
    "pca = PCA()\n",
    "pca_array = pca.fit_transform(df_dim_red)\n",
    "pca_array_df = pd.DataFrame(pca_array, columns=[f'PC{i+1}' for i in range(pca_array.shape[1])], index=df_dim_red.index)\n",
    "merged_pca_array_df = pd.merge(pca_array_df, df_metaH['Condition'], left_index=True, right_index=True)\n",
    "cumsum = np.cumsum(pca.explained_variance_ratio_)\n",
    "plt.plot(cumsum)\n",
    "nec_dimensions = np.argmax(cumsum >= 0.95)\n",
    "plt.scatter(nec_dimensions, 0.95, color='red')\n",
    "plt.plot([nec_dimensions, nec_dimensions], [0, 0.95], linestyle='--', color='black')\n",
    "plt.plot([0, nec_dimensions], [0.95, 0.95], linestyle='--', color='black')\n",
    "print(f\"The number of dimensions needed to explain 95% of the variance is {nec_dimensions}\")"
   ]
  },
  {
   "cell_type": "code",
   "execution_count": 20,
   "metadata": {},
   "outputs": [
    {
     "data": {
      "text/html": [
       "<div>\n",
       "<style scoped>\n",
       "    .dataframe tbody tr th:only-of-type {\n",
       "        vertical-align: middle;\n",
       "    }\n",
       "\n",
       "    .dataframe tbody tr th {\n",
       "        vertical-align: top;\n",
       "    }\n",
       "\n",
       "    .dataframe thead th {\n",
       "        text-align: right;\n",
       "    }\n",
       "</style>\n",
       "<table border=\"1\" class=\"dataframe\">\n",
       "  <thead>\n",
       "    <tr style=\"text-align: right;\">\n",
       "      <th></th>\n",
       "      <th>PC1</th>\n",
       "      <th>PC2</th>\n",
       "      <th>PC3</th>\n",
       "      <th>Condition</th>\n",
       "    </tr>\n",
       "  </thead>\n",
       "  <tbody>\n",
       "    <tr>\n",
       "      <th>output.STAR.PCRPlate1G12_Normoxia_S32_Aligned.sortedByCoord.out.bam</th>\n",
       "      <td>-2.849172</td>\n",
       "      <td>-5.641256</td>\n",
       "      <td>3.283657</td>\n",
       "      <td>Normo</td>\n",
       "    </tr>\n",
       "    <tr>\n",
       "      <th>output.STAR.PCRPlate1G1_Hypoxia_S102_Aligned.sortedByCoord.out.bam</th>\n",
       "      <td>7.899027</td>\n",
       "      <td>10.434396</td>\n",
       "      <td>-8.601802</td>\n",
       "      <td>Hypo</td>\n",
       "    </tr>\n",
       "    <tr>\n",
       "      <th>output.STAR.PCRPlate1G2_Hypoxia_S2_Aligned.sortedByCoord.out.bam</th>\n",
       "      <td>-0.497909</td>\n",
       "      <td>12.686548</td>\n",
       "      <td>-9.234080</td>\n",
       "      <td>Hypo</td>\n",
       "    </tr>\n",
       "    <tr>\n",
       "      <th>output.STAR.PCRPlate1G3_Hypoxia_S7_Aligned.sortedByCoord.out.bam</th>\n",
       "      <td>4.081950</td>\n",
       "      <td>8.070230</td>\n",
       "      <td>-4.739527</td>\n",
       "      <td>Hypo</td>\n",
       "    </tr>\n",
       "    <tr>\n",
       "      <th>output.STAR.PCRPlate1G4_Hypoxia_S107_Aligned.sortedByCoord.out.bam</th>\n",
       "      <td>2.255481</td>\n",
       "      <td>2.840024</td>\n",
       "      <td>-4.790213</td>\n",
       "      <td>Hypo</td>\n",
       "    </tr>\n",
       "  </tbody>\n",
       "</table>\n",
       "</div>"
      ],
      "text/plain": [
       "                                                         PC1        PC2  \\\n",
       "output.STAR.PCRPlate1G12_Normoxia_S32_Aligned.s... -2.849172  -5.641256   \n",
       "output.STAR.PCRPlate1G1_Hypoxia_S102_Aligned.so...  7.899027  10.434396   \n",
       "output.STAR.PCRPlate1G2_Hypoxia_S2_Aligned.sort... -0.497909  12.686548   \n",
       "output.STAR.PCRPlate1G3_Hypoxia_S7_Aligned.sort...  4.081950   8.070230   \n",
       "output.STAR.PCRPlate1G4_Hypoxia_S107_Aligned.so...  2.255481   2.840024   \n",
       "\n",
       "                                                         PC3 Condition  \n",
       "output.STAR.PCRPlate1G12_Normoxia_S32_Aligned.s...  3.283657     Normo  \n",
       "output.STAR.PCRPlate1G1_Hypoxia_S102_Aligned.so... -8.601802      Hypo  \n",
       "output.STAR.PCRPlate1G2_Hypoxia_S2_Aligned.sort... -9.234080      Hypo  \n",
       "output.STAR.PCRPlate1G3_Hypoxia_S7_Aligned.sort... -4.739527      Hypo  \n",
       "output.STAR.PCRPlate1G4_Hypoxia_S107_Aligned.so... -4.790213      Hypo  "
      ]
     },
     "execution_count": 20,
     "metadata": {},
     "output_type": "execute_result"
    }
   ],
   "source": [
    "# we now use pca to visualize the data\n",
    "three_dim_df = merged_pca_array_df[['PC1', 'PC2', 'PC3', 'Condition']]\n",
    "three_dim_df.head()"
   ]
  },
  {
   "cell_type": "code",
   "execution_count": 21,
   "metadata": {},
   "outputs": [
    {
     "data": {
      "application/vnd.plotly.v1+json": {
       "config": {
        "plotlyServerURL": "https://plot.ly"
       },
       "data": [
        {
         "hovertemplate": "Condition=Normo<br>PC1=%{x}<br>PC2=%{y}<br>PC3=%{z}<extra></extra>",
         "legendgroup": "Normo",
         "marker": {
          "color": "#636efa",
          "symbol": "circle"
         },
         "mode": "markers",
         "name": "Normo",
         "scene": "scene",
         "showlegend": true,
         "type": "scatter3d",
         "x": [
          -2.849172362669632,
          0.8955037750411307,
          7.723932179956828,
          -7.774682148760614,
          -6.3157592765678165,
          -4.271424460580183,
          -2.5729235572659364,
          -5.394955209003875,
          -2.995661546396527,
          -7.906085647564885,
          -10.432395167334526,
          -3.293918455814849,
          -5.226937379123299,
          -11.085370800971576,
          -8.853921717837716,
          -5.2514413920930005,
          -6.805478022638315,
          -2.3049972252974986,
          -2.9940059038482887,
          0.9176027771763298,
          -7.1153742619902305,
          -7.28590057459112,
          -5.919735116078817,
          -5.870777399565983,
          -2.900656449523277,
          -2.8861891069511088,
          3.3705452540435217,
          -8.755003669309067,
          13.104295221583037,
          -4.812995374004535,
          -5.410525677084922,
          -2.7409490457580286,
          -8.46731758169173,
          -4.364952186767466,
          -4.863652411894696,
          -7.398150154412245,
          -5.932990974844489,
          -6.908326986331833,
          -3.858490690843944,
          -8.539969842641781,
          -5.073629308218087,
          -6.620875656542033,
          -4.784959831366707,
          -5.312978204761448,
          -13.63342569872808,
          2.8204729247627176,
          -7.457551578495613,
          -1.3203858973380556,
          -8.647503083564166,
          -1.561102548297432,
          -9.434525432952238,
          -7.991506037093942,
          -8.450664093529575,
          19.201616878271892,
          -6.8127008664342945,
          -0.27067451292605843,
          -7.961895078783681,
          9.172539224836278,
          -3.485871828407423,
          -8.99092750512477,
          -7.101573786971669,
          -7.8656698292865235,
          1.43642124899059,
          -8.598874315915612,
          -0.9853306258744691,
          -3.843650523751153,
          11.926975702339192,
          0.6229670326555106,
          3.7377239173811754,
          -6.837607130463202,
          3.8655408304034418,
          -7.197435637881675,
          -6.329013298732748,
          -5.01106438750158,
          -4.800260214835492,
          -1.5761487427256986,
          -3.7650647863681708,
          -6.113221864859857,
          -6.419359907096028,
          6.967223121706853,
          -5.9986262896563725,
          -5.029623305433096,
          -10.48313671350801,
          -5.148519616838007,
          -5.424450900004501
         ],
         "y": [
          -5.641256115002739,
          -16.137828454635756,
          -4.747882943722972,
          -2.7706505485860475,
          -0.03704672979941619,
          -7.41537507485837,
          -2.32368403346476,
          -1.4911954667862497,
          -10.113255975644211,
          -12.895911284842164,
          -7.174996670373616,
          -9.387890598598428,
          -16.984563642807387,
          -1.4276081077744476,
          -0.9216856123718435,
          -17.327881982182692,
          -1.525783739189023,
          -11.510592962897714,
          -1.9868866841932058,
          -4.544162182477544,
          -2.618532074123268,
          -1.7540733727356643,
          -11.004993236954137,
          -7.096703184390901,
          17.152620138286526,
          1.8488985129414786,
          -19.30529753483762,
          4.402063868699041,
          -14.73448148908008,
          2.88074515163185,
          -0.5955431376618404,
          -3.472923367566429,
          -8.570355323714416,
          -6.36818281427621,
          5.293339641829961,
          -7.382060133061835,
          -7.593995906612811,
          -9.77359209090743,
          -6.845267819108061,
          -2.0697550180051265,
          -6.483831015697471,
          0.6184275180613273,
          -3.5814732924919066,
          -5.266225608690674,
          -4.500235829831704,
          7.3380625097875845,
          -2.5756812844217523,
          -8.778665994361768,
          -4.4113521921728625,
          -4.948706962807648,
          -4.77333817504672,
          -2.2397181987772865,
          -4.815072323492581,
          -11.748316712423849,
          -9.01480728624836,
          -1.6326010718540427,
          1.3949935753802163,
          -5.447810772071911,
          6.424214563881391,
          -14.577416643826606,
          1.304726114071103,
          -3.617677253027576,
          -13.494933899557477,
          -3.979029571647444,
          -10.665444567290658,
          -12.38875144935886,
          -22.78527759706334,
          -7.094196768187723,
          -17.363305769961624,
          -7.346952750275758,
          6.485374556719537,
          -9.632836220539641,
          -11.852116719683032,
          -3.0392340747021427,
          -15.864311292255621,
          -6.12806839263544,
          -2.19577748261161,
          -5.465541432847866,
          -14.3048987299876,
          -8.743328429205206,
          -2.477779289145385,
          -0.6925415472640096,
          9.072834760316624,
          -2.65966423576633,
          -10.692700284345603
         ],
         "z": [
          3.283656780835777,
          4.513095306203504,
          17.302600179325047,
          2.3163506517497168,
          2.5780133359681563,
          5.428060624704883,
          1.596063288905233,
          -1.090629427329872,
          0.8896617932717752,
          5.652546203880813,
          2.2435915927314816,
          2.9365644083189846,
          4.297175857725193,
          3.532845425582431,
          2.6309490670403917,
          4.238144829805848,
          0.39033522854826225,
          3.4426635581429177,
          -2.6775454227648843,
          3.150367161881262,
          2.6739016976944745,
          3.1188391216054754,
          3.845146957602427,
          2.865827952012429,
          1.2056849916704138,
          3.3931640590224283,
          6.0009825665111505,
          6.340122240285962,
          1.8697354183060995,
          -1.9351042930680924,
          1.6867287620914555,
          -0.2599864194367467,
          5.328927286825306,
          0.8267844416361219,
          1.9789529504223773,
          2.8641391159910357,
          3.487655829825539,
          5.098348543931384,
          0.4131523021022264,
          2.4935826263720053,
          1.9478417823035503,
          -0.06385674791526419,
          2.0117993074443232,
          -0.3597165410900633,
          1.8234850143813706,
          -0.40674319710264156,
          2.4028543576425756,
          2.1923912972572204,
          0.9219096296147969,
          9.91047092534014,
          1.2591840148720443,
          1.8276888142548575,
          1.9374858040959475,
          4.806525398271227,
          5.028190259623083,
          -2.310201863478755,
          0.6651487275368176,
          0.7451284996760161,
          3.32809418024873,
          9.213898581054318,
          -2.019338916426841,
          2.5092430756546626,
          1.6521720366652597,
          1.9510262836417753,
          -1.0787303883273602,
          5.014959081430899,
          6.361657645332179,
          0.6421563898361087,
          3.2789995567698957,
          4.708748363143752,
          10.331978972378877,
          2.4907575454692434,
          3.454149390970175,
          0.04872545898670843,
          3.549271819068087,
          0.2657176018807728,
          -0.29862429961501313,
          0.942687603309826,
          4.085915784776279,
          -0.40621457593198096,
          -1.194949656258979,
          0.47192071332415036,
          -0.5260840196999674,
          0.17675364405610558,
          2.0014734467293813
         ]
        },
        {
         "hovertemplate": "Condition=Hypo<br>PC1=%{x}<br>PC2=%{y}<br>PC3=%{z}<extra></extra>",
         "legendgroup": "Hypo",
         "marker": {
          "color": "#EF553B",
          "symbol": "circle"
         },
         "mode": "markers",
         "name": "Hypo",
         "scene": "scene",
         "showlegend": true,
         "type": "scatter3d",
         "x": [
          7.899027305532452,
          -0.49790867557148816,
          4.08194954526045,
          2.255481037997968,
          -2.3611681189341724,
          -6.022287975037674,
          0.8443545804585706,
          2.9886048597008275,
          -0.2796633984329374,
          -5.044109071870207,
          -1.9380629931003115,
          -1.9732831389835952,
          -4.383335766509444,
          -2.3477636106160387,
          -1.5837464001282469,
          -1.3173204769995368,
          1.4354115798971305,
          -2.675379207185505,
          13.297108140260919,
          0.7568906875907876,
          0.14920208018051448,
          -4.6283232750795955,
          -6.570901495349145,
          -4.925426011375755,
          -2.674679066300048,
          -1.6892403944445242,
          3.677560509803704,
          26.541328307186017,
          17.253191206398476,
          -6.432228419549475,
          14.48926336776308,
          -3.1338370674439755,
          9.085327617604296,
          -1.152485177469137,
          -2.7769556088534415,
          -3.1015273423662775,
          3.5124986727261107,
          3.379401180264602,
          -0.10545502495587486,
          -3.2737434886126153,
          30.680868139924673,
          2.9008824382585017,
          3.8491493820615394,
          42.76317960028818,
          1.9178060610992362,
          21.433537737908445,
          78.66297003131086,
          2.057411004657517,
          -10.046259199342957,
          -6.299428561924536,
          38.652037110903464,
          0.9397667050428319,
          -0.29234643423445505,
          -3.877131117987466,
          -4.151980306685417,
          -1.0023251652630052,
          17.562246759699665,
          -7.142438628904406,
          -4.350860277697849,
          -3.673916135529846,
          -1.866570651900903,
          2.0183259267630493,
          2.942974197902245,
          -2.7329480608775314,
          -5.374841808500188,
          1.3887113137237599,
          -8.59677328863079,
          2.00224570106641,
          -0.47740648765298815,
          56.17749158871266,
          2.6459200678092207,
          2.766131346421729,
          -3.915407423981668,
          -2.4804068781116633,
          -1.8271074495438149,
          34.03071053667683,
          -2.83511190347778,
          -0.368304823696431,
          3.4476346789792576,
          -1.1080326991734726,
          26.555146936847187,
          -3.7857371175936207,
          3.110153444316943,
          -2.7062800952321577,
          3.266837751475076,
          5.1149009017463305,
          -7.2362966443108885,
          -0.062258947141145014,
          -3.6334040696008136,
          -5.43680100030993,
          7.92705830071212,
          -3.998167430434428,
          -3.8796217946869125,
          -0.3312669922542469,
          2.6871943599558583,
          -0.15107799541323033,
          -3.681015378453294
         ],
         "y": [
          10.434395806411578,
          12.686548265433037,
          8.070230161126299,
          2.8400244237845804,
          3.3366563376622467,
          21.252592876795408,
          7.128051921255405,
          -6.277360111638842,
          2.5250730560195422,
          3.639647363216703,
          9.060476443374002,
          6.705589719145348,
          4.5619901580396665,
          5.455131933163638,
          -0.10502465387326483,
          2.938745121604368,
          6.208403985630278,
          -13.903741493607777,
          27.73482974916098,
          7.903847516141752,
          0.5144876664631793,
          3.395135059131701,
          -6.955367690303406,
          9.043199328204203,
          2.6086082713130256,
          3.751821447417311,
          1.4075876645468794,
          -12.778643448906468,
          -2.2143069577153667,
          9.148139290188718,
          -17.311991578749836,
          8.235297496113416,
          2.4989953709860555,
          10.558424332820469,
          3.2023869676483203,
          6.901885054582686,
          -0.28837908256561046,
          3.187436121669881,
          3.585531251992102,
          -1.230867358070013,
          6.075964328696224,
          8.276595023283743,
          2.7950378795116255,
          -16.995884995266255,
          1.0258639158366951,
          13.249220956251559,
          -5.29916233103775,
          -7.687876375043792,
          -3.9145295390096115,
          3.99536703546195,
          -10.21382218332274,
          2.20751133661208,
          8.87234410226932,
          5.48852079124348,
          9.897439553183185,
          2.0624991281324156,
          9.26584034496904,
          13.131173151536489,
          7.233766646981234,
          6.429138834244982,
          9.417235016612576,
          14.683653135448628,
          11.665015574986196,
          17.50024877659726,
          1.4880698305164566,
          11.86714426651555,
          10.115926324202826,
          12.899521272215456,
          2.552678526237898,
          9.068343887454969,
          19.326097050407505,
          1.2880197471000514,
          7.902277107466988,
          8.179388402271409,
          7.320508400848842,
          5.135653919261903,
          -0.8459496066171797,
          2.8726319831611247,
          41.917529648952716,
          3.651815568651669,
          -3.098185928588508,
          2.5023979569589923,
          -7.392725393816734,
          -0.8001950006760357,
          7.76252473115736,
          8.902753033834797,
          6.801523158727039,
          6.894252693548359,
          6.467072456187381,
          5.726014519870114,
          0.31641024864755535,
          1.4190885096235073,
          2.277163873723871,
          3.7596751456708564,
          7.450652429768769,
          5.462792783334846,
          10.80769608280369
         ],
         "z": [
          -8.601801994061448,
          -9.234080240599104,
          -4.739527028442201,
          -4.79021317302805,
          -0.7042027903859284,
          -10.515476114260629,
          -7.86775162227546,
          4.103697567883822,
          -5.44750746776227,
          -4.623141588425825,
          -3.278475154766089,
          -4.281832626371496,
          -4.240728059239435,
          -3.4285438672666193,
          -2.757187867285087,
          -4.774681645968235,
          -4.522289650210167,
          1.9026542063443674,
          6.1145387038185754,
          -6.164911948184396,
          -3.06215100332849,
          -1.860278301444576,
          0.19831374371195293,
          -3.1144893765354302,
          -2.184751351340642,
          -7.33386084074151,
          -1.2642025841216302,
          0.34657244007970855,
          -4.790944262249489,
          -3.8317363384015213,
          4.409032992986296,
          -8.292502943309183,
          -5.504363126858451,
          -4.767347758906823,
          -2.938295488296091,
          -5.178086999505968,
          -4.061274702747705,
          -4.031548086683411,
          -3.9775178092435985,
          -2.247668272552772,
          -5.94793784556961,
          -7.592804972248964,
          -2.957371269292821,
          2.5217316185561067,
          -2.649090327496282,
          -15.21857560570013,
          12.530733056302655,
          -1.6255443189074357,
          0.5575761107984218,
          -2.321719946573421,
          0.5583509515715376,
          -3.194155194195929,
          26.87867477849741,
          -5.462000609509514,
          -2.6643853696768605,
          -2.337999117394159,
          -8.020239676854066,
          -3.8899887660085493,
          -2.848154685138121,
          -3.0775020222772413,
          -6.894703999386979,
          -8.302211340881392,
          -4.985031288699682,
          2.954249312541747,
          -1.5140450283680005,
          -7.216682187943315,
          -5.540666773069945,
          -4.9517544320394515,
          -5.047271703392711,
          -6.782443829583459,
          -3.214221637245596,
          0.08257905471720574,
          -4.625778409185623,
          -3.4807826384912235,
          -4.493840354749719,
          -3.0534664865003562,
          -3.6089380717601705,
          -3.674287087872192,
          99.76886572501009,
          -4.015447038458151,
          -3.5680514729727704,
          -4.733259955920872,
          1.7249046076310548,
          -4.461413690785109,
          -9.347774170678168,
          -7.4466814468776805,
          -3.557614457606376,
          -4.603641403641574,
          -5.4406133565489005,
          -3.8478926468352666,
          2.080845942819176,
          -2.9630325142508633,
          -3.8295288023981664,
          -6.444800038700342,
          -0.44005363359066874,
          -7.440862795371161,
          -4.232733704946237
         ]
        }
       ],
       "layout": {
        "legend": {
         "title": {
          "text": "Condition"
         },
         "tracegroupgap": 0
        },
        "scene": {
         "domain": {
          "x": [
           0,
           1
          ],
          "y": [
           0,
           1
          ]
         },
         "xaxis": {
          "title": {
           "text": "PC1"
          }
         },
         "yaxis": {
          "title": {
           "text": "PC2"
          }
         },
         "zaxis": {
          "title": {
           "text": "PC3"
          }
         }
        },
        "template": {
         "data": {
          "bar": [
           {
            "error_x": {
             "color": "#2a3f5f"
            },
            "error_y": {
             "color": "#2a3f5f"
            },
            "marker": {
             "line": {
              "color": "#E5ECF6",
              "width": 0.5
             },
             "pattern": {
              "fillmode": "overlay",
              "size": 10,
              "solidity": 0.2
             }
            },
            "type": "bar"
           }
          ],
          "barpolar": [
           {
            "marker": {
             "line": {
              "color": "#E5ECF6",
              "width": 0.5
             },
             "pattern": {
              "fillmode": "overlay",
              "size": 10,
              "solidity": 0.2
             }
            },
            "type": "barpolar"
           }
          ],
          "carpet": [
           {
            "aaxis": {
             "endlinecolor": "#2a3f5f",
             "gridcolor": "white",
             "linecolor": "white",
             "minorgridcolor": "white",
             "startlinecolor": "#2a3f5f"
            },
            "baxis": {
             "endlinecolor": "#2a3f5f",
             "gridcolor": "white",
             "linecolor": "white",
             "minorgridcolor": "white",
             "startlinecolor": "#2a3f5f"
            },
            "type": "carpet"
           }
          ],
          "choropleth": [
           {
            "colorbar": {
             "outlinewidth": 0,
             "ticks": ""
            },
            "type": "choropleth"
           }
          ],
          "contour": [
           {
            "colorbar": {
             "outlinewidth": 0,
             "ticks": ""
            },
            "colorscale": [
             [
              0,
              "#0d0887"
             ],
             [
              0.1111111111111111,
              "#46039f"
             ],
             [
              0.2222222222222222,
              "#7201a8"
             ],
             [
              0.3333333333333333,
              "#9c179e"
             ],
             [
              0.4444444444444444,
              "#bd3786"
             ],
             [
              0.5555555555555556,
              "#d8576b"
             ],
             [
              0.6666666666666666,
              "#ed7953"
             ],
             [
              0.7777777777777778,
              "#fb9f3a"
             ],
             [
              0.8888888888888888,
              "#fdca26"
             ],
             [
              1,
              "#f0f921"
             ]
            ],
            "type": "contour"
           }
          ],
          "contourcarpet": [
           {
            "colorbar": {
             "outlinewidth": 0,
             "ticks": ""
            },
            "type": "contourcarpet"
           }
          ],
          "heatmap": [
           {
            "colorbar": {
             "outlinewidth": 0,
             "ticks": ""
            },
            "colorscale": [
             [
              0,
              "#0d0887"
             ],
             [
              0.1111111111111111,
              "#46039f"
             ],
             [
              0.2222222222222222,
              "#7201a8"
             ],
             [
              0.3333333333333333,
              "#9c179e"
             ],
             [
              0.4444444444444444,
              "#bd3786"
             ],
             [
              0.5555555555555556,
              "#d8576b"
             ],
             [
              0.6666666666666666,
              "#ed7953"
             ],
             [
              0.7777777777777778,
              "#fb9f3a"
             ],
             [
              0.8888888888888888,
              "#fdca26"
             ],
             [
              1,
              "#f0f921"
             ]
            ],
            "type": "heatmap"
           }
          ],
          "heatmapgl": [
           {
            "colorbar": {
             "outlinewidth": 0,
             "ticks": ""
            },
            "colorscale": [
             [
              0,
              "#0d0887"
             ],
             [
              0.1111111111111111,
              "#46039f"
             ],
             [
              0.2222222222222222,
              "#7201a8"
             ],
             [
              0.3333333333333333,
              "#9c179e"
             ],
             [
              0.4444444444444444,
              "#bd3786"
             ],
             [
              0.5555555555555556,
              "#d8576b"
             ],
             [
              0.6666666666666666,
              "#ed7953"
             ],
             [
              0.7777777777777778,
              "#fb9f3a"
             ],
             [
              0.8888888888888888,
              "#fdca26"
             ],
             [
              1,
              "#f0f921"
             ]
            ],
            "type": "heatmapgl"
           }
          ],
          "histogram": [
           {
            "marker": {
             "pattern": {
              "fillmode": "overlay",
              "size": 10,
              "solidity": 0.2
             }
            },
            "type": "histogram"
           }
          ],
          "histogram2d": [
           {
            "colorbar": {
             "outlinewidth": 0,
             "ticks": ""
            },
            "colorscale": [
             [
              0,
              "#0d0887"
             ],
             [
              0.1111111111111111,
              "#46039f"
             ],
             [
              0.2222222222222222,
              "#7201a8"
             ],
             [
              0.3333333333333333,
              "#9c179e"
             ],
             [
              0.4444444444444444,
              "#bd3786"
             ],
             [
              0.5555555555555556,
              "#d8576b"
             ],
             [
              0.6666666666666666,
              "#ed7953"
             ],
             [
              0.7777777777777778,
              "#fb9f3a"
             ],
             [
              0.8888888888888888,
              "#fdca26"
             ],
             [
              1,
              "#f0f921"
             ]
            ],
            "type": "histogram2d"
           }
          ],
          "histogram2dcontour": [
           {
            "colorbar": {
             "outlinewidth": 0,
             "ticks": ""
            },
            "colorscale": [
             [
              0,
              "#0d0887"
             ],
             [
              0.1111111111111111,
              "#46039f"
             ],
             [
              0.2222222222222222,
              "#7201a8"
             ],
             [
              0.3333333333333333,
              "#9c179e"
             ],
             [
              0.4444444444444444,
              "#bd3786"
             ],
             [
              0.5555555555555556,
              "#d8576b"
             ],
             [
              0.6666666666666666,
              "#ed7953"
             ],
             [
              0.7777777777777778,
              "#fb9f3a"
             ],
             [
              0.8888888888888888,
              "#fdca26"
             ],
             [
              1,
              "#f0f921"
             ]
            ],
            "type": "histogram2dcontour"
           }
          ],
          "mesh3d": [
           {
            "colorbar": {
             "outlinewidth": 0,
             "ticks": ""
            },
            "type": "mesh3d"
           }
          ],
          "parcoords": [
           {
            "line": {
             "colorbar": {
              "outlinewidth": 0,
              "ticks": ""
             }
            },
            "type": "parcoords"
           }
          ],
          "pie": [
           {
            "automargin": true,
            "type": "pie"
           }
          ],
          "scatter": [
           {
            "fillpattern": {
             "fillmode": "overlay",
             "size": 10,
             "solidity": 0.2
            },
            "type": "scatter"
           }
          ],
          "scatter3d": [
           {
            "line": {
             "colorbar": {
              "outlinewidth": 0,
              "ticks": ""
             }
            },
            "marker": {
             "colorbar": {
              "outlinewidth": 0,
              "ticks": ""
             }
            },
            "type": "scatter3d"
           }
          ],
          "scattercarpet": [
           {
            "marker": {
             "colorbar": {
              "outlinewidth": 0,
              "ticks": ""
             }
            },
            "type": "scattercarpet"
           }
          ],
          "scattergeo": [
           {
            "marker": {
             "colorbar": {
              "outlinewidth": 0,
              "ticks": ""
             }
            },
            "type": "scattergeo"
           }
          ],
          "scattergl": [
           {
            "marker": {
             "colorbar": {
              "outlinewidth": 0,
              "ticks": ""
             }
            },
            "type": "scattergl"
           }
          ],
          "scattermapbox": [
           {
            "marker": {
             "colorbar": {
              "outlinewidth": 0,
              "ticks": ""
             }
            },
            "type": "scattermapbox"
           }
          ],
          "scatterpolar": [
           {
            "marker": {
             "colorbar": {
              "outlinewidth": 0,
              "ticks": ""
             }
            },
            "type": "scatterpolar"
           }
          ],
          "scatterpolargl": [
           {
            "marker": {
             "colorbar": {
              "outlinewidth": 0,
              "ticks": ""
             }
            },
            "type": "scatterpolargl"
           }
          ],
          "scatterternary": [
           {
            "marker": {
             "colorbar": {
              "outlinewidth": 0,
              "ticks": ""
             }
            },
            "type": "scatterternary"
           }
          ],
          "surface": [
           {
            "colorbar": {
             "outlinewidth": 0,
             "ticks": ""
            },
            "colorscale": [
             [
              0,
              "#0d0887"
             ],
             [
              0.1111111111111111,
              "#46039f"
             ],
             [
              0.2222222222222222,
              "#7201a8"
             ],
             [
              0.3333333333333333,
              "#9c179e"
             ],
             [
              0.4444444444444444,
              "#bd3786"
             ],
             [
              0.5555555555555556,
              "#d8576b"
             ],
             [
              0.6666666666666666,
              "#ed7953"
             ],
             [
              0.7777777777777778,
              "#fb9f3a"
             ],
             [
              0.8888888888888888,
              "#fdca26"
             ],
             [
              1,
              "#f0f921"
             ]
            ],
            "type": "surface"
           }
          ],
          "table": [
           {
            "cells": {
             "fill": {
              "color": "#EBF0F8"
             },
             "line": {
              "color": "white"
             }
            },
            "header": {
             "fill": {
              "color": "#C8D4E3"
             },
             "line": {
              "color": "white"
             }
            },
            "type": "table"
           }
          ]
         },
         "layout": {
          "annotationdefaults": {
           "arrowcolor": "#2a3f5f",
           "arrowhead": 0,
           "arrowwidth": 1
          },
          "autotypenumbers": "strict",
          "coloraxis": {
           "colorbar": {
            "outlinewidth": 0,
            "ticks": ""
           }
          },
          "colorscale": {
           "diverging": [
            [
             0,
             "#8e0152"
            ],
            [
             0.1,
             "#c51b7d"
            ],
            [
             0.2,
             "#de77ae"
            ],
            [
             0.3,
             "#f1b6da"
            ],
            [
             0.4,
             "#fde0ef"
            ],
            [
             0.5,
             "#f7f7f7"
            ],
            [
             0.6,
             "#e6f5d0"
            ],
            [
             0.7,
             "#b8e186"
            ],
            [
             0.8,
             "#7fbc41"
            ],
            [
             0.9,
             "#4d9221"
            ],
            [
             1,
             "#276419"
            ]
           ],
           "sequential": [
            [
             0,
             "#0d0887"
            ],
            [
             0.1111111111111111,
             "#46039f"
            ],
            [
             0.2222222222222222,
             "#7201a8"
            ],
            [
             0.3333333333333333,
             "#9c179e"
            ],
            [
             0.4444444444444444,
             "#bd3786"
            ],
            [
             0.5555555555555556,
             "#d8576b"
            ],
            [
             0.6666666666666666,
             "#ed7953"
            ],
            [
             0.7777777777777778,
             "#fb9f3a"
            ],
            [
             0.8888888888888888,
             "#fdca26"
            ],
            [
             1,
             "#f0f921"
            ]
           ],
           "sequentialminus": [
            [
             0,
             "#0d0887"
            ],
            [
             0.1111111111111111,
             "#46039f"
            ],
            [
             0.2222222222222222,
             "#7201a8"
            ],
            [
             0.3333333333333333,
             "#9c179e"
            ],
            [
             0.4444444444444444,
             "#bd3786"
            ],
            [
             0.5555555555555556,
             "#d8576b"
            ],
            [
             0.6666666666666666,
             "#ed7953"
            ],
            [
             0.7777777777777778,
             "#fb9f3a"
            ],
            [
             0.8888888888888888,
             "#fdca26"
            ],
            [
             1,
             "#f0f921"
            ]
           ]
          },
          "colorway": [
           "#636efa",
           "#EF553B",
           "#00cc96",
           "#ab63fa",
           "#FFA15A",
           "#19d3f3",
           "#FF6692",
           "#B6E880",
           "#FF97FF",
           "#FECB52"
          ],
          "font": {
           "color": "#2a3f5f"
          },
          "geo": {
           "bgcolor": "white",
           "lakecolor": "white",
           "landcolor": "#E5ECF6",
           "showlakes": true,
           "showland": true,
           "subunitcolor": "white"
          },
          "hoverlabel": {
           "align": "left"
          },
          "hovermode": "closest",
          "mapbox": {
           "style": "light"
          },
          "paper_bgcolor": "white",
          "plot_bgcolor": "#E5ECF6",
          "polar": {
           "angularaxis": {
            "gridcolor": "white",
            "linecolor": "white",
            "ticks": ""
           },
           "bgcolor": "#E5ECF6",
           "radialaxis": {
            "gridcolor": "white",
            "linecolor": "white",
            "ticks": ""
           }
          },
          "scene": {
           "xaxis": {
            "backgroundcolor": "#E5ECF6",
            "gridcolor": "white",
            "gridwidth": 2,
            "linecolor": "white",
            "showbackground": true,
            "ticks": "",
            "zerolinecolor": "white"
           },
           "yaxis": {
            "backgroundcolor": "#E5ECF6",
            "gridcolor": "white",
            "gridwidth": 2,
            "linecolor": "white",
            "showbackground": true,
            "ticks": "",
            "zerolinecolor": "white"
           },
           "zaxis": {
            "backgroundcolor": "#E5ECF6",
            "gridcolor": "white",
            "gridwidth": 2,
            "linecolor": "white",
            "showbackground": true,
            "ticks": "",
            "zerolinecolor": "white"
           }
          },
          "shapedefaults": {
           "line": {
            "color": "#2a3f5f"
           }
          },
          "ternary": {
           "aaxis": {
            "gridcolor": "white",
            "linecolor": "white",
            "ticks": ""
           },
           "baxis": {
            "gridcolor": "white",
            "linecolor": "white",
            "ticks": ""
           },
           "bgcolor": "#E5ECF6",
           "caxis": {
            "gridcolor": "white",
            "linecolor": "white",
            "ticks": ""
           }
          },
          "title": {
           "x": 0.05
          },
          "xaxis": {
           "automargin": true,
           "gridcolor": "white",
           "linecolor": "white",
           "ticks": "",
           "title": {
            "standoff": 15
           },
           "zerolinecolor": "white",
           "zerolinewidth": 2
          },
          "yaxis": {
           "automargin": true,
           "gridcolor": "white",
           "linecolor": "white",
           "ticks": "",
           "title": {
            "standoff": 15
           },
           "zerolinecolor": "white",
           "zerolinewidth": 2
          }
         }
        },
        "title": {
         "text": "3-dimensional representation of the data with UMAP"
        }
       }
      }
     },
     "metadata": {},
     "output_type": "display_data"
    }
   ],
   "source": [
    "import plotly.express as px\n",
    "\n",
    "fig = px.scatter_3d(\n",
    "    data_frame = three_dim_df,\n",
    "    x = \"PC1\",\n",
    "    y = \"PC2\",\n",
    "    z = \"PC3\",\n",
    "    title=\"3-dimensional representation of the data with UMAP\",\n",
    "    color = \"Condition\"\n",
    ")\n",
    "# Show the fig\n",
    "fig.show()"
   ]
  },
  {
   "cell_type": "markdown",
   "metadata": {},
   "source": [
    "UMAP"
   ]
  },
  {
   "cell_type": "code",
   "execution_count": 22,
   "metadata": {},
   "outputs": [
    {
     "data": {
      "application/vnd.plotly.v1+json": {
       "config": {
        "plotlyServerURL": "https://plot.ly"
       },
       "data": [
        {
         "hovertemplate": "Condition=Normo<br>UMAP1=%{x}<br>UMAP2=%{y}<br>UMAP3=%{z}<extra></extra>",
         "legendgroup": "Normo",
         "marker": {
          "color": "#636efa",
          "symbol": "circle"
         },
         "mode": "markers",
         "name": "Normo",
         "scene": "scene",
         "showlegend": true,
         "type": "scatter3d",
         "x": [
          -2.129356861114502,
          -1.4000027179718018,
          -1.3743723630905151,
          -1.3069546222686768,
          8.397205352783203,
          -1.404377818107605,
          -1.4481186866760254,
          8.30968952178955,
          -1.4940567016601562,
          2.2593226432800293,
          2.583005905151367,
          -1.7441203594207764,
          -1.0825775861740112,
          2.1181223392486572,
          2.597761869430542,
          -1.0826812982559204,
          -1.746253252029419,
          -1.5705375671386719,
          8.636699676513672,
          7.268767356872559,
          -1.9194509983062744,
          2.4247984886169434,
          -2.468714952468872,
          -1.427021861076355,
          8.178044319152832,
          8.03464412689209,
          -1.5472222566604614,
          2.870856761932373,
          2.1404690742492676,
          -1.7664529085159302,
          8.553130149841309,
          8.198375701904297,
          2.5142669677734375,
          -1.8294416666030884,
          -1.5326299667358398,
          -1.5163171291351318,
          -1.3816454410552979,
          2.729567050933838,
          -1.7208317518234253,
          2.642534017562866,
          -1.5448639392852783,
          -1.9792559146881104,
          8.5233736038208,
          8.323186874389648,
          2.370086193084717,
          8.195977210998535,
          -2.0782532691955566,
          8.001801490783691,
          2.901581287384033,
          -0.8616619110107422,
          2.764197826385498,
          -2.014249324798584,
          -2.0187056064605713,
          2.055793046951294,
          2.6327271461486816,
          7.98721170425415,
          -1.3557223081588745,
          8.19709587097168,
          8.140152931213379,
          2.4064781665802,
          8.816953659057617,
          -1.1652984619140625,
          -1.8002246618270874,
          2.6211493015289307,
          -1.6170434951782227,
          -1.5786725282669067,
          -1.343623399734497,
          -1.692526936531067,
          -1.5024617910385132,
          2.457793951034546,
          -1.535335659980774,
          -1.7669066190719604,
          2.75400447845459,
          8.077009201049805,
          2.5619277954101562,
          7.42626953125,
          7.926680088043213,
          0.33473604917526245,
          -1.1974736452102661,
          0.3419018089771271,
          8.454086303710938,
          8.248892784118652,
          8.447630882263184,
          8.13406753540039,
          0.25182750821113586
         ],
         "y": [
          3.7170495986938477,
          1.6646474599838257,
          4.001815319061279,
          3.767313241958618,
          2.3919625282287598,
          3.027482032775879,
          3.324810743331909,
          1.8053920269012451,
          4.357032775878906,
          10.296027183532715,
          10.409523010253906,
          4.0487799644470215,
          3.3268020153045654,
          10.203414916992188,
          10.200819969177246,
          3.3268682956695557,
          3.8667478561401367,
          1.8974623680114746,
          1.9589999914169312,
          0.1182355284690857,
          3.935807704925537,
          10.634337425231934,
          3.2305221557617188,
          3.7548325061798096,
          1.486329436302185,
          1.7136248350143433,
          1.855017066001892,
          10.411035537719727,
          3.856689214706421,
          3.670315980911255,
          1.8345195055007935,
          1.9541971683502197,
          10.551342964172363,
          3.5045621395111084,
          3.3000423908233643,
          3.1718921661376953,
          4.280490875244141,
          10.155258178710938,
          4.082008361816406,
          10.049860000610352,
          3.9736709594726562,
          3.6136207580566406,
          1.9957395792007446,
          2.0506393909454346,
          10.352981567382812,
          2.065011739730835,
          3.5016629695892334,
          2.1717164516448975,
          10.32551383972168,
          3.5343592166900635,
          10.453243255615234,
          3.691633701324463,
          4.078927993774414,
          3.8164327144622803,
          10.384077072143555,
          1.737370491027832,
          4.112185955047607,
          1.6095075607299805,
          1.9778931140899658,
          10.628995895385742,
          2.1292829513549805,
          3.804198980331421,
          3.259567975997925,
          10.457795143127441,
          3.5319602489471436,
          3.6691558361053467,
          1.5968505144119263,
          3.269230842590332,
          1.8106365203857422,
          10.308270454406738,
          3.0150132179260254,
          4.254034519195557,
          10.773629188537598,
          2.2107961177825928,
          10.4420166015625,
          0.31918588280677795,
          1.5025551319122314,
          4.691021919250488,
          3.207428455352783,
          4.699183940887451,
          1.9774876832962036,
          2.2050790786743164,
          1.5799840688705444,
          1.5221842527389526,
          4.619509220123291
         ],
         "z": [
          9.322908401489258,
          10.671637535095215,
          9.442997932434082,
          9.725065231323242,
          6.808863162994385,
          9.313283920288086,
          9.140215873718262,
          6.603337287902832,
          9.37198543548584,
          5.090723514556885,
          5.284848690032959,
          9.54649543762207,
          -1.3439565896987915,
          5.078909873962402,
          5.072504997253418,
          -1.3440144062042236,
          9.12033748626709,
          10.458443641662598,
          7.164855480194092,
          7.626899242401123,
          9.620636940002441,
          5.353910446166992,
          10.034090995788574,
          9.356317520141602,
          7.047616958618164,
          6.736390113830566,
          10.50054931640625,
          4.94431734085083,
          9.682441711425781,
          9.202934265136719,
          7.371230602264404,
          7.025104999542236,
          5.003861427307129,
          9.333847045898438,
          9.565943717956543,
          9.157536506652832,
          9.303260803222656,
          5.165631294250488,
          9.230521202087402,
          5.185497283935547,
          9.068350791931152,
          9.417802810668945,
          6.858389854431152,
          7.033658981323242,
          5.450830459594727,
          7.381585121154785,
          9.13626766204834,
          7.2953314781188965,
          5.355010032653809,
          9.50013256072998,
          5.523715496063232,
          9.2124662399292,
          9.374237060546875,
          9.76483154296875,
          5.127955436706543,
          7.2944769859313965,
          9.703941345214844,
          6.930022716522217,
          6.943093299865723,
          4.911107063293457,
          7.069543361663818,
          9.968393325805664,
          9.681676864624023,
          5.015845775604248,
          9.768904685974121,
          8.967065811157227,
          10.733673095703125,
          9.469033241271973,
          10.543994903564453,
          5.4857282638549805,
          9.483210563659668,
          9.874134063720703,
          5.352660655975342,
          7.36691951751709,
          5.195809364318848,
          7.518797874450684,
          7.462888717651367,
          10.515616416931152,
          9.150031089782715,
          10.521893501281738,
          7.398037433624268,
          7.128302097320557,
          7.544378280639648,
          7.191106796264648,
          10.447566032409668
         ]
        },
        {
         "hovertemplate": "Condition=Hypo<br>UMAP1=%{x}<br>UMAP2=%{y}<br>UMAP3=%{z}<extra></extra>",
         "legendgroup": "Hypo",
         "marker": {
          "color": "#EF553B",
          "symbol": "circle"
         },
         "mode": "markers",
         "name": "Hypo",
         "scene": "scene",
         "showlegend": true,
         "type": "scatter3d",
         "x": [
          8.314146995544434,
          7.9866108894348145,
          -1.6218597888946533,
          3.488799571990967,
          -1.3179492950439453,
          8.50455093383789,
          12.903168678283691,
          -1.3244106769561768,
          -1.6240555047988892,
          8.468198776245117,
          13.239864349365234,
          3.5438027381896973,
          3.241953134536743,
          8.19904899597168,
          -1.5440419912338257,
          8.312105178833008,
          13.150273323059082,
          -2.4899890422821045,
          3.4040305614471436,
          3.099046230316162,
          8.0897855758667,
          3.462411880493164,
          2.417795181274414,
          -1.979189395904541,
          3.3999383449554443,
          13.019742012023926,
          12.795450210571289,
          2.0598230361938477,
          7.42616605758667,
          2.154158115386963,
          2.079496145248413,
          3.564458131790161,
          12.886920928955078,
          3.6621761322021484,
          8.6834716796875,
          2.5985324382781982,
          12.904339790344238,
          3.4572150707244873,
          13.097040176391602,
          2.5872652530670166,
          13.131437301635742,
          13.584446907043457,
          13.053525924682617,
          2.1682848930358887,
          3.3053200244903564,
          12.97019100189209,
          2.087360382080078,
          2.21701979637146,
          2.5410354137420654,
          3.823929786682129,
          1.9850941896438599,
          12.826340675354004,
          -1.0817633867263794,
          -1.9309512376785278,
          8.78931999206543,
          -1.1602511405944824,
          12.751825332641602,
          3.6385886669158936,
          -1.4706579446792603,
          8.67171573638916,
          3.516291856765747,
          8.426104545593262,
          3.2468605041503906,
          13.096892356872559,
          -2.0306456089019775,
          12.681982040405273,
          2.380115509033203,
          8.002683639526367,
          -1.9426336288452148,
          2.6787540912628174,
          3.2408416271209717,
          3.542250871658325,
          3.726040840148926,
          12.967214584350586,
          -1.558644413948059,
          13.315703392028809,
          12.737667083740234,
          13.217172622680664,
          7.227956771850586,
          3.451707601547241,
          2.5606894493103027,
          -1.4807881116867065,
          -1.6864765882492065,
          12.751033782958984,
          13.05363941192627,
          12.877435684204102,
          2.714231014251709,
          8.14189624786377,
          -1.7673323154449463,
          3.294512987136841,
          -1.285702109336853,
          3.4254183769226074,
          2.322894334793091,
          13.13116455078125,
          3.3050220012664795,
          13.485930442810059,
          8.357394218444824
         ],
         "y": [
          1.6981121301651,
          1.7726737260818481,
          4.778371334075928,
          0.16826102137565613,
          3.610853910446167,
          1.5238196849822998,
          4.98875617980957,
          3.5141451358795166,
          4.736179351806641,
          1.5860118865966797,
          5.016148090362549,
          -0.10119763761758804,
          0.11511942744255066,
          1.3924643993377686,
          3.3344764709472656,
          1.641707181930542,
          4.925390720367432,
          3.240201711654663,
          0.5134826302528381,
          0.16715151071548462,
          1.466465950012207,
          0.3040470778942108,
          10.409998893737793,
          3.840789318084717,
          0.6027653217315674,
          4.882310390472412,
          4.890831470489502,
          3.792320966720581,
          0.30401888489723206,
          10.309813499450684,
          9.636543273925781,
          0.1711694449186325,
          4.779590606689453,
          0.5243481397628784,
          1.5228315591812134,
          10.182910919189453,
          5.253016471862793,
          0.21334390342235565,
          4.9336347579956055,
          10.406461715698242,
          4.663846492767334,
          4.678281784057617,
          5.004080772399902,
          3.8756966590881348,
          0.016355380415916443,
          5.132721900939941,
          3.8547120094299316,
          9.726189613342285,
          10.038654327392578,
          0.504804790019989,
          3.7443156242370605,
          5.1678147315979,
          3.971783399581909,
          3.126742124557495,
          1.8051282167434692,
          3.525042772293091,
          5.054712295532227,
          0.39815396070480347,
          3.37147855758667,
          2.3122239112854004,
          0.430937260389328,
          1.7179341316223145,
          0.4022403061389923,
          4.554264545440674,
          3.7204885482788086,
          4.906594753265381,
          10.55683422088623,
          1.7712208032608032,
          3.6570358276367188,
          3.9100112915039062,
          0.36502352356910706,
          0.36425086855888367,
          0.3628484010696411,
          4.52382230758667,
          3.6876118183135986,
          4.826052188873291,
          4.691900730133057,
          5.130401134490967,
          0.06754700839519501,
          0.27064430713653564,
          3.8897387981414795,
          3.5726563930511475,
          3.505775213241577,
          5.426418304443359,
          4.5521955490112305,
          5.177259922027588,
          10.579975128173828,
          1.940448522567749,
          3.5210158824920654,
          0.40574967861175537,
          3.9346189498901367,
          0.11031419038772583,
          10.217761039733887,
          5.077279567718506,
          -0.06343156844377518,
          4.744478225708008,
          1.545381784439087
         ],
         "z": [
          7.025283336639404,
          7.068380355834961,
          10.315857887268066,
          1.0662201642990112,
          9.400636672973633,
          7.027930736541748,
          3.311068058013916,
          9.12055492401123,
          10.297727584838867,
          6.554068088531494,
          3.375236749649048,
          1.0283056497573853,
          1.0693864822387695,
          6.845732688903809,
          9.29922866821289,
          7.164511203765869,
          3.3560612201690674,
          10.065120697021484,
          1.0174133777618408,
          1.3262747526168823,
          7.074520587921143,
          1.1339775323867798,
          5.234460353851318,
          9.515679359436035,
          0.681560754776001,
          3.7253761291503906,
          3.5128984451293945,
          9.763337135314941,
          7.507070064544678,
          4.975355625152588,
          5.315901756286621,
          0.7586061954498291,
          3.430759906768799,
          0.9709866642951965,
          6.697056293487549,
          4.840243339538574,
          3.2817087173461914,
          1.2103185653686523,
          3.6152310371398926,
          4.880049228668213,
          3.582265615463257,
          2.667578935623169,
          3.6603317260742188,
          9.651287078857422,
          0.7219797968864441,
          3.5023443698883057,
          9.75779914855957,
          5.252874374389648,
          5.3840813636779785,
          0.8585718870162964,
          9.82398509979248,
          3.3090591430664062,
          9.324806213378906,
          9.526626586914062,
          7.100558280944824,
          9.333950996398926,
          3.680173397064209,
          0.9271990060806274,
          9.58313274383545,
          7.11677885055542,
          0.707249104976654,
          6.754868507385254,
          0.6529319286346436,
          3.1289217472076416,
          9.957106590270996,
          3.267335891723633,
          5.575766086578369,
          6.981015682220459,
          9.728450775146484,
          9.362214088439941,
          0.8195699453353882,
          1.1499601602554321,
          1.0130668878555298,
          3.4662926197052,
          9.665182113647461,
          3.4305996894836426,
          3.520836353302002,
          3.2803890705108643,
          7.655778884887695,
          0.9805765151977539,
          9.449758529663086,
          9.80804443359375,
          9.017027854919434,
          3.093219757080078,
          3.5847065448760986,
          3.720383882522583,
          5.366070747375488,
          7.372811794281006,
          9.935991287231445,
          1.0308700799942017,
          9.950209617614746,
          0.9978445172309875,
          4.98123025894165,
          3.258857011795044,
          1.2755584716796875,
          2.7652220726013184,
          7.439916610717773
         ]
        }
       ],
       "layout": {
        "legend": {
         "title": {
          "text": "Condition"
         },
         "tracegroupgap": 0
        },
        "scene": {
         "domain": {
          "x": [
           0,
           1
          ],
          "y": [
           0,
           1
          ]
         },
         "xaxis": {
          "title": {
           "text": "UMAP1"
          }
         },
         "yaxis": {
          "title": {
           "text": "UMAP2"
          }
         },
         "zaxis": {
          "title": {
           "text": "UMAP3"
          }
         }
        },
        "template": {
         "data": {
          "bar": [
           {
            "error_x": {
             "color": "#2a3f5f"
            },
            "error_y": {
             "color": "#2a3f5f"
            },
            "marker": {
             "line": {
              "color": "#E5ECF6",
              "width": 0.5
             },
             "pattern": {
              "fillmode": "overlay",
              "size": 10,
              "solidity": 0.2
             }
            },
            "type": "bar"
           }
          ],
          "barpolar": [
           {
            "marker": {
             "line": {
              "color": "#E5ECF6",
              "width": 0.5
             },
             "pattern": {
              "fillmode": "overlay",
              "size": 10,
              "solidity": 0.2
             }
            },
            "type": "barpolar"
           }
          ],
          "carpet": [
           {
            "aaxis": {
             "endlinecolor": "#2a3f5f",
             "gridcolor": "white",
             "linecolor": "white",
             "minorgridcolor": "white",
             "startlinecolor": "#2a3f5f"
            },
            "baxis": {
             "endlinecolor": "#2a3f5f",
             "gridcolor": "white",
             "linecolor": "white",
             "minorgridcolor": "white",
             "startlinecolor": "#2a3f5f"
            },
            "type": "carpet"
           }
          ],
          "choropleth": [
           {
            "colorbar": {
             "outlinewidth": 0,
             "ticks": ""
            },
            "type": "choropleth"
           }
          ],
          "contour": [
           {
            "colorbar": {
             "outlinewidth": 0,
             "ticks": ""
            },
            "colorscale": [
             [
              0,
              "#0d0887"
             ],
             [
              0.1111111111111111,
              "#46039f"
             ],
             [
              0.2222222222222222,
              "#7201a8"
             ],
             [
              0.3333333333333333,
              "#9c179e"
             ],
             [
              0.4444444444444444,
              "#bd3786"
             ],
             [
              0.5555555555555556,
              "#d8576b"
             ],
             [
              0.6666666666666666,
              "#ed7953"
             ],
             [
              0.7777777777777778,
              "#fb9f3a"
             ],
             [
              0.8888888888888888,
              "#fdca26"
             ],
             [
              1,
              "#f0f921"
             ]
            ],
            "type": "contour"
           }
          ],
          "contourcarpet": [
           {
            "colorbar": {
             "outlinewidth": 0,
             "ticks": ""
            },
            "type": "contourcarpet"
           }
          ],
          "heatmap": [
           {
            "colorbar": {
             "outlinewidth": 0,
             "ticks": ""
            },
            "colorscale": [
             [
              0,
              "#0d0887"
             ],
             [
              0.1111111111111111,
              "#46039f"
             ],
             [
              0.2222222222222222,
              "#7201a8"
             ],
             [
              0.3333333333333333,
              "#9c179e"
             ],
             [
              0.4444444444444444,
              "#bd3786"
             ],
             [
              0.5555555555555556,
              "#d8576b"
             ],
             [
              0.6666666666666666,
              "#ed7953"
             ],
             [
              0.7777777777777778,
              "#fb9f3a"
             ],
             [
              0.8888888888888888,
              "#fdca26"
             ],
             [
              1,
              "#f0f921"
             ]
            ],
            "type": "heatmap"
           }
          ],
          "heatmapgl": [
           {
            "colorbar": {
             "outlinewidth": 0,
             "ticks": ""
            },
            "colorscale": [
             [
              0,
              "#0d0887"
             ],
             [
              0.1111111111111111,
              "#46039f"
             ],
             [
              0.2222222222222222,
              "#7201a8"
             ],
             [
              0.3333333333333333,
              "#9c179e"
             ],
             [
              0.4444444444444444,
              "#bd3786"
             ],
             [
              0.5555555555555556,
              "#d8576b"
             ],
             [
              0.6666666666666666,
              "#ed7953"
             ],
             [
              0.7777777777777778,
              "#fb9f3a"
             ],
             [
              0.8888888888888888,
              "#fdca26"
             ],
             [
              1,
              "#f0f921"
             ]
            ],
            "type": "heatmapgl"
           }
          ],
          "histogram": [
           {
            "marker": {
             "pattern": {
              "fillmode": "overlay",
              "size": 10,
              "solidity": 0.2
             }
            },
            "type": "histogram"
           }
          ],
          "histogram2d": [
           {
            "colorbar": {
             "outlinewidth": 0,
             "ticks": ""
            },
            "colorscale": [
             [
              0,
              "#0d0887"
             ],
             [
              0.1111111111111111,
              "#46039f"
             ],
             [
              0.2222222222222222,
              "#7201a8"
             ],
             [
              0.3333333333333333,
              "#9c179e"
             ],
             [
              0.4444444444444444,
              "#bd3786"
             ],
             [
              0.5555555555555556,
              "#d8576b"
             ],
             [
              0.6666666666666666,
              "#ed7953"
             ],
             [
              0.7777777777777778,
              "#fb9f3a"
             ],
             [
              0.8888888888888888,
              "#fdca26"
             ],
             [
              1,
              "#f0f921"
             ]
            ],
            "type": "histogram2d"
           }
          ],
          "histogram2dcontour": [
           {
            "colorbar": {
             "outlinewidth": 0,
             "ticks": ""
            },
            "colorscale": [
             [
              0,
              "#0d0887"
             ],
             [
              0.1111111111111111,
              "#46039f"
             ],
             [
              0.2222222222222222,
              "#7201a8"
             ],
             [
              0.3333333333333333,
              "#9c179e"
             ],
             [
              0.4444444444444444,
              "#bd3786"
             ],
             [
              0.5555555555555556,
              "#d8576b"
             ],
             [
              0.6666666666666666,
              "#ed7953"
             ],
             [
              0.7777777777777778,
              "#fb9f3a"
             ],
             [
              0.8888888888888888,
              "#fdca26"
             ],
             [
              1,
              "#f0f921"
             ]
            ],
            "type": "histogram2dcontour"
           }
          ],
          "mesh3d": [
           {
            "colorbar": {
             "outlinewidth": 0,
             "ticks": ""
            },
            "type": "mesh3d"
           }
          ],
          "parcoords": [
           {
            "line": {
             "colorbar": {
              "outlinewidth": 0,
              "ticks": ""
             }
            },
            "type": "parcoords"
           }
          ],
          "pie": [
           {
            "automargin": true,
            "type": "pie"
           }
          ],
          "scatter": [
           {
            "fillpattern": {
             "fillmode": "overlay",
             "size": 10,
             "solidity": 0.2
            },
            "type": "scatter"
           }
          ],
          "scatter3d": [
           {
            "line": {
             "colorbar": {
              "outlinewidth": 0,
              "ticks": ""
             }
            },
            "marker": {
             "colorbar": {
              "outlinewidth": 0,
              "ticks": ""
             }
            },
            "type": "scatter3d"
           }
          ],
          "scattercarpet": [
           {
            "marker": {
             "colorbar": {
              "outlinewidth": 0,
              "ticks": ""
             }
            },
            "type": "scattercarpet"
           }
          ],
          "scattergeo": [
           {
            "marker": {
             "colorbar": {
              "outlinewidth": 0,
              "ticks": ""
             }
            },
            "type": "scattergeo"
           }
          ],
          "scattergl": [
           {
            "marker": {
             "colorbar": {
              "outlinewidth": 0,
              "ticks": ""
             }
            },
            "type": "scattergl"
           }
          ],
          "scattermapbox": [
           {
            "marker": {
             "colorbar": {
              "outlinewidth": 0,
              "ticks": ""
             }
            },
            "type": "scattermapbox"
           }
          ],
          "scatterpolar": [
           {
            "marker": {
             "colorbar": {
              "outlinewidth": 0,
              "ticks": ""
             }
            },
            "type": "scatterpolar"
           }
          ],
          "scatterpolargl": [
           {
            "marker": {
             "colorbar": {
              "outlinewidth": 0,
              "ticks": ""
             }
            },
            "type": "scatterpolargl"
           }
          ],
          "scatterternary": [
           {
            "marker": {
             "colorbar": {
              "outlinewidth": 0,
              "ticks": ""
             }
            },
            "type": "scatterternary"
           }
          ],
          "surface": [
           {
            "colorbar": {
             "outlinewidth": 0,
             "ticks": ""
            },
            "colorscale": [
             [
              0,
              "#0d0887"
             ],
             [
              0.1111111111111111,
              "#46039f"
             ],
             [
              0.2222222222222222,
              "#7201a8"
             ],
             [
              0.3333333333333333,
              "#9c179e"
             ],
             [
              0.4444444444444444,
              "#bd3786"
             ],
             [
              0.5555555555555556,
              "#d8576b"
             ],
             [
              0.6666666666666666,
              "#ed7953"
             ],
             [
              0.7777777777777778,
              "#fb9f3a"
             ],
             [
              0.8888888888888888,
              "#fdca26"
             ],
             [
              1,
              "#f0f921"
             ]
            ],
            "type": "surface"
           }
          ],
          "table": [
           {
            "cells": {
             "fill": {
              "color": "#EBF0F8"
             },
             "line": {
              "color": "white"
             }
            },
            "header": {
             "fill": {
              "color": "#C8D4E3"
             },
             "line": {
              "color": "white"
             }
            },
            "type": "table"
           }
          ]
         },
         "layout": {
          "annotationdefaults": {
           "arrowcolor": "#2a3f5f",
           "arrowhead": 0,
           "arrowwidth": 1
          },
          "autotypenumbers": "strict",
          "coloraxis": {
           "colorbar": {
            "outlinewidth": 0,
            "ticks": ""
           }
          },
          "colorscale": {
           "diverging": [
            [
             0,
             "#8e0152"
            ],
            [
             0.1,
             "#c51b7d"
            ],
            [
             0.2,
             "#de77ae"
            ],
            [
             0.3,
             "#f1b6da"
            ],
            [
             0.4,
             "#fde0ef"
            ],
            [
             0.5,
             "#f7f7f7"
            ],
            [
             0.6,
             "#e6f5d0"
            ],
            [
             0.7,
             "#b8e186"
            ],
            [
             0.8,
             "#7fbc41"
            ],
            [
             0.9,
             "#4d9221"
            ],
            [
             1,
             "#276419"
            ]
           ],
           "sequential": [
            [
             0,
             "#0d0887"
            ],
            [
             0.1111111111111111,
             "#46039f"
            ],
            [
             0.2222222222222222,
             "#7201a8"
            ],
            [
             0.3333333333333333,
             "#9c179e"
            ],
            [
             0.4444444444444444,
             "#bd3786"
            ],
            [
             0.5555555555555556,
             "#d8576b"
            ],
            [
             0.6666666666666666,
             "#ed7953"
            ],
            [
             0.7777777777777778,
             "#fb9f3a"
            ],
            [
             0.8888888888888888,
             "#fdca26"
            ],
            [
             1,
             "#f0f921"
            ]
           ],
           "sequentialminus": [
            [
             0,
             "#0d0887"
            ],
            [
             0.1111111111111111,
             "#46039f"
            ],
            [
             0.2222222222222222,
             "#7201a8"
            ],
            [
             0.3333333333333333,
             "#9c179e"
            ],
            [
             0.4444444444444444,
             "#bd3786"
            ],
            [
             0.5555555555555556,
             "#d8576b"
            ],
            [
             0.6666666666666666,
             "#ed7953"
            ],
            [
             0.7777777777777778,
             "#fb9f3a"
            ],
            [
             0.8888888888888888,
             "#fdca26"
            ],
            [
             1,
             "#f0f921"
            ]
           ]
          },
          "colorway": [
           "#636efa",
           "#EF553B",
           "#00cc96",
           "#ab63fa",
           "#FFA15A",
           "#19d3f3",
           "#FF6692",
           "#B6E880",
           "#FF97FF",
           "#FECB52"
          ],
          "font": {
           "color": "#2a3f5f"
          },
          "geo": {
           "bgcolor": "white",
           "lakecolor": "white",
           "landcolor": "#E5ECF6",
           "showlakes": true,
           "showland": true,
           "subunitcolor": "white"
          },
          "hoverlabel": {
           "align": "left"
          },
          "hovermode": "closest",
          "mapbox": {
           "style": "light"
          },
          "paper_bgcolor": "white",
          "plot_bgcolor": "#E5ECF6",
          "polar": {
           "angularaxis": {
            "gridcolor": "white",
            "linecolor": "white",
            "ticks": ""
           },
           "bgcolor": "#E5ECF6",
           "radialaxis": {
            "gridcolor": "white",
            "linecolor": "white",
            "ticks": ""
           }
          },
          "scene": {
           "xaxis": {
            "backgroundcolor": "#E5ECF6",
            "gridcolor": "white",
            "gridwidth": 2,
            "linecolor": "white",
            "showbackground": true,
            "ticks": "",
            "zerolinecolor": "white"
           },
           "yaxis": {
            "backgroundcolor": "#E5ECF6",
            "gridcolor": "white",
            "gridwidth": 2,
            "linecolor": "white",
            "showbackground": true,
            "ticks": "",
            "zerolinecolor": "white"
           },
           "zaxis": {
            "backgroundcolor": "#E5ECF6",
            "gridcolor": "white",
            "gridwidth": 2,
            "linecolor": "white",
            "showbackground": true,
            "ticks": "",
            "zerolinecolor": "white"
           }
          },
          "shapedefaults": {
           "line": {
            "color": "#2a3f5f"
           }
          },
          "ternary": {
           "aaxis": {
            "gridcolor": "white",
            "linecolor": "white",
            "ticks": ""
           },
           "baxis": {
            "gridcolor": "white",
            "linecolor": "white",
            "ticks": ""
           },
           "bgcolor": "#E5ECF6",
           "caxis": {
            "gridcolor": "white",
            "linecolor": "white",
            "ticks": ""
           }
          },
          "title": {
           "x": 0.05
          },
          "xaxis": {
           "automargin": true,
           "gridcolor": "white",
           "linecolor": "white",
           "ticks": "",
           "title": {
            "standoff": 15
           },
           "zerolinecolor": "white",
           "zerolinewidth": 2
          },
          "yaxis": {
           "automargin": true,
           "gridcolor": "white",
           "linecolor": "white",
           "ticks": "",
           "title": {
            "standoff": 15
           },
           "zerolinecolor": "white",
           "zerolinewidth": 2
          }
         }
        },
        "title": {
         "text": "3-dimensional representation of the data with UMAP, n_neighbors = 2"
        }
       }
      }
     },
     "metadata": {},
     "output_type": "display_data"
    },
    {
     "data": {
      "application/vnd.plotly.v1+json": {
       "config": {
        "plotlyServerURL": "https://plot.ly"
       },
       "data": [
        {
         "hovertemplate": "Condition=Normo<br>UMAP1=%{x}<br>UMAP2=%{y}<br>UMAP3=%{z}<extra></extra>",
         "legendgroup": "Normo",
         "marker": {
          "color": "#636efa",
          "symbol": "circle"
         },
         "mode": "markers",
         "name": "Normo",
         "scene": "scene",
         "showlegend": true,
         "type": "scatter3d",
         "x": [
          0.2260308712720871,
          0.5228172540664673,
          0.8681101202964783,
          -0.017353881150484085,
          0.9304931163787842,
          0.8367485404014587,
          0.10881780833005905,
          0.6822486519813538,
          0.5941231846809387,
          0.28476256132125854,
          0.2573930025100708,
          0.4221176207065582,
          0.07854225486516953,
          0.22669216990470886,
          0.1316305249929428,
          -0.04316229000687599,
          0.5132545232772827,
          0.42964860796928406,
          0.748615026473999,
          1.027480959892273,
          -0.11882751435041428,
          0.8035755753517151,
          0.06276117265224457,
          0.26738545298576355,
          0.28478771448135376,
          0.7162548899650574,
          0.290955513715744,
          0.4151804447174072,
          1.5000954866409302,
          0.33419904112815857,
          0.15647603571414948,
          0.046594299376010895,
          0.9281371235847473,
          0.00756376888602972,
          -0.00009119378955801949,
          1.1691826581954956,
          0.01707458682358265,
          0.46860161423683167,
          0.6789728403091431,
          0.7057322859764099,
          -0.4621679484844208,
          0.8214627504348755,
          0.9631177186965942,
          0.5273006558418274,
          0.7178951501846313,
          0.889786958694458,
          -0.046350035816431046,
          0.8421173095703125,
          0.46753376722335815,
          0.4373346269130707,
          0.576781153678894,
          0.21488066017627716,
          -0.4022725522518158,
          1.100274682044983,
          0.5403679609298706,
          0.5700297355651855,
          -0.33980637788772583,
          0.8976543545722961,
          -0.1920250952243805,
          0.39350178837776184,
          0.5807533860206604,
          -0.07932718843221664,
          0.9560932517051697,
          0.17277827858924866,
          0.08643118292093277,
          -0.389058917760849,
          0.5983467698097229,
          1.3024202585220337,
          0.6524310111999512,
          -0.21280767023563385,
          -0.1354667693376541,
          -0.5231590867042542,
          0.5610313415527344,
          -0.297239750623703,
          -0.0003054321277886629,
          1.3257921934127808,
          0.28865015506744385,
          -0.48662370443344116,
          -0.16640082001686096,
          -0.3008826971054077,
          0.43848717212677,
          0.7216871976852417,
          0.12983183562755585,
          0.7033341526985168,
          -0.3426019549369812
         ],
         "y": [
          1.6155441999435425,
          0.5218861699104309,
          1.0335965156555176,
          2.1053788661956787,
          2.0894296169281006,
          1.469733476638794,
          2.324965476989746,
          1.9336336851119995,
          1.6692110300064087,
          1.7519574165344238,
          2.1542258262634277,
          1.2682769298553467,
          0.5697693228721619,
          2.5722694396972656,
          2.6600546836853027,
          0.440958172082901,
          2.166959285736084,
          0.7599160075187683,
          1.8628222942352295,
          1.1942148208618164,
          2.70330548286438,
          2.1113791465759277,
          0.944026529788971,
          1.6908390522003174,
          2.8117661476135254,
          1.6276599168777466,
          0.6784383654594421,
          2.282233476638794,
          0.5045603513717651,
          2.7360548973083496,
          2.151384115219116,
          1.6268973350524902,
          1.6231135129928589,
          1.8083363771438599,
          3.1525394916534424,
          1.3275439739227295,
          1.62253999710083,
          2.1529252529144287,
          1.5311176776885986,
          2.233884572982788,
          2.4112865924835205,
          1.9980863332748413,
          1.9634615182876587,
          2.047693967819214,
          2.226492166519165,
          1.8097102642059326,
          1.49650239944458,
          1.1793445348739624,
          1.882223129272461,
          1.0769848823547363,
          1.8173986673355103,
          2.6134986877441406,
          2.196995496749878,
          0.5035797357559204,
          1.978251338005066,
          1.9501813650131226,
          2.3838095664978027,
          1.0157408714294434,
          2.695695638656616,
          1.2461761236190796,
          2.231123208999634,
          2.695286989212036,
          0.5401415824890137,
          2.2328333854675293,
          1.0470690727233887,
          1.5792443752288818,
          0.33757248520851135,
          1.4247010946273804,
          0.6380608677864075,
          1.940242886543274,
          1.8802746534347534,
          1.5040555000305176,
          1.4366562366485596,
          2.4888389110565186,
          1.1409780979156494,
          1.4358230829238892,
          2.1683034896850586,
          1.4067655801773071,
          1.071283221244812,
          1.1039481163024902,
          1.8013582229614258,
          1.9133524894714355,
          2.625816583633423,
          2.2429816722869873,
          1.2385504245758057
         ],
         "z": [
          0.6915880441665649,
          0.4456503689289093,
          0.46890875697135925,
          0.9258596897125244,
          -0.009241366758942604,
          0.7912324070930481,
          1.5847856998443604,
          1.2393200397491455,
          0.27326181530952454,
          0.02863919548690319,
          0.06393083184957504,
          0.3068857192993164,
          0.23918096721172333,
          -0.3178042471408844,
          -0.0935446098446846,
          0.24008780717849731,
          0.7453845143318176,
          1.0663872957229614,
          1.2990742921829224,
          1.661475419998169,
          0.3518224358558655,
          -0.3344348073005676,
          0.09098082035779953,
          0.5615420341491699,
          1.4107192754745483,
          1.745809555053711,
          0.7899909019470215,
          -0.18231023848056793,
          1.5066449642181396,
          1.1855379343032837,
          1.2263102531433105,
          1.3649966716766357,
          -0.4492570161819458,
          0.9655097126960754,
          0.6743990778923035,
          0.11305464059114456,
          0.04248274862766266,
          -0.1607934683561325,
          1.1599352359771729,
          -0.41648656129837036,
          1.2978777885437012,
          0.1424131691455841,
          0.7099867463111877,
          1.4405512809753418,
          -0.6821388006210327,
          2.0862081050872803,
          0.562129020690918,
          1.0917423963546753,
          -0.518713653087616,
          1.3215323686599731,
          -0.030165117233991623,
          0.6411144137382507,
          0.7903380393981934,
          1.3564679622650146,
          0.24127821624279022,
          1.3022561073303223,
          0.36409568786621094,
          1.5359492301940918,
          1.1948237419128418,
          -0.24371033906936646,
          2.15411376953125,
          0.7362393140792847,
          0.9095520377159119,
          -0.5830738544464111,
          1.081205129623413,
          0.25474461913108826,
          0.6756142973899841,
          0.6598285436630249,
          0.9097368121147156,
          -0.0015897188568487763,
          1.7826604843139648,
          0.8724671602249146,
          0.18841098248958588,
          1.5413320064544678,
          -0.14907924830913544,
          1.3686635494232178,
          1.8987162113189697,
          0.668057382106781,
          0.24612028896808624,
          0.9462106823921204,
          1.9572315216064453,
          2.110665798187256,
          0.028214260935783386,
          1.4081194400787354,
          0.937739908695221
         ]
        },
        {
         "hovertemplate": "Condition=Hypo<br>UMAP1=%{x}<br>UMAP2=%{y}<br>UMAP3=%{z}<extra></extra>",
         "legendgroup": "Hypo",
         "marker": {
          "color": "#EF553B",
          "symbol": "circle"
         },
         "mode": "markers",
         "name": "Hypo",
         "scene": "scene",
         "showlegend": true,
         "type": "scatter3d",
         "x": [
          1.9199774265289307,
          1.9691065549850464,
          1.5148619413375854,
          1.4681345224380493,
          0.7264096140861511,
          1.0812954902648926,
          2.265558958053589,
          0.6027302742004395,
          1.5344412326812744,
          1.208726167678833,
          1.643778681755066,
          1.2481967210769653,
          0.9891924262046814,
          0.7478206753730774,
          0.7733286619186401,
          1.0267033576965332,
          1.8283681869506836,
          0.2309701144695282,
          1.166203498840332,
          1.2328588962554932,
          1.7104333639144897,
          0.9571570158004761,
          0.09648986160755157,
          0.9639546871185303,
          0.7249637246131897,
          1.9542968273162842,
          1.4793418645858765,
          1.4032444953918457,
          1.6384031772613525,
          1.132728099822998,
          1.2384271621704102,
          1.3655610084533691,
          1.8651739358901978,
          1.3911612033843994,
          1.0701380968093872,
          1.0696773529052734,
          1.4448645114898682,
          1.5827662944793701,
          1.6756007671356201,
          1.3121699094772339,
          1.837189793586731,
          2.5137345790863037,
          2.0950090885162354,
          1.4402824640274048,
          1.3822687864303589,
          2.5444631576538086,
          1.491310954093933,
          1.4751640558242798,
          1.0651649236679077,
          0.5290300250053406,
          1.737119436264038,
          2.0801594257354736,
          0.47760865092277527,
          0.6432327032089233,
          0.586419403553009,
          1.7749420404434204,
          2.2827670574188232,
          0.8014984130859375,
          0.6529520153999329,
          2.0771708488464355,
          1.5053998231887817,
          1.5187935829162598,
          1.9298032522201538,
          2.1312413215637207,
          0.4181935489177704,
          2.0659401416778564,
          1.4333572387695312,
          1.3689697980880737,
          1.3291850090026855,
          1.9325309991836548,
          1.7483091354370117,
          1.0640009641647339,
          1.1907130479812622,
          1.9724432229995728,
          1.1672815084457397,
          2.0036914348602295,
          1.73868989944458,
          2.2648231983184814,
          1.1293951272964478,
          0.9406197667121887,
          1.9608162641525269,
          1.0715168714523315,
          0.36334335803985596,
          1.9412293434143066,
          2.3201165199279785,
          2.071861743927002,
          0.6532978415489197,
          2.1463944911956787,
          0.5033202171325684,
          0.7118781208992004,
          1.8468800783157349,
          1.2466602325439453,
          -0.15643112361431122,
          2.553901195526123,
          1.5612159967422485,
          2.558274269104004,
          0.6570584177970886
         ],
         "y": [
          2.2839322090148926,
          2.6634128093719482,
          2.7689640522003174,
          3.2487614154815674,
          2.4005227088928223,
          3.3246679306030273,
          2.1608211994171143,
          1.1266233921051025,
          2.800779104232788,
          2.1377012729644775,
          2.355818748474121,
          2.549898862838745,
          3.564000129699707,
          2.528425693511963,
          3.005317211151123,
          1.8489415645599365,
          2.764873743057251,
          1.1389596462249756,
          2.8363826274871826,
          3.247994899749756,
          2.1429240703582764,
          3.121394157409668,
          2.0285515785217285,
          2.34018874168396,
          3.123826503753662,
          2.494934558868408,
          2.461533546447754,
          0.7115468382835388,
          1.6740905046463013,
          2.49469256401062,
          0.7943860292434692,
          3.574666738510132,
          3.0609240531921387,
          3.515270709991455,
          2.897629737854004,
          1.9038405418395996,
          1.6802284717559814,
          2.7525289058685303,
          2.466829538345337,
          1.634147047996521,
          2.394157886505127,
          2.40891695022583,
          2.4958674907684326,
          0.5794067978858948,
          3.161864995956421,
          2.2505083084106445,
          0.7839812636375427,
          1.077265739440918,
          2.2683818340301514,
          3.2083067893981934,
          0.5665557384490967,
          2.4676129817962646,
          1.1153538227081299,
          3.3182384967803955,
          2.6397459506988525,
          2.6962625980377197,
          2.441481113433838,
          3.4950063228607178,
          2.7533364295959473,
          2.0359160900115967,
          3.341412305831909,
          2.4977290630340576,
          3.1047756671905518,
          1.9298964738845825,
          2.7034263610839844,
          2.9551920890808105,
          2.4251580238342285,
          3.013148784637451,
          2.759467124938965,
          0.7136644721031189,
          3.3413233757019043,
          2.7366139888763428,
          3.8376009464263916,
          3.1106820106506348,
          3.400850534439087,
          1.950897455215454,
          1.6433032751083374,
          2.8893089294433594,
          1.1871007680892944,
          3.8456897735595703,
          0.6589816808700562,
          3.0070245265960693,
          0.6793999671936035,
          2.412637233734131,
          2.717940092086792,
          2.803417921066284,
          3.068781614303589,
          2.313448905944824,
          3.655207395553589,
          3.6251299381256104,
          1.542371153831482,
          3.26248836517334,
          2.4644432067871094,
          2.7177703380584717,
          3.7097551822662354,
          2.4191770553588867,
          3.472134590148926
         ],
         "z": [
          1.1258631944656372,
          0.8144538402557373,
          2.079946756362915,
          1.5006426572799683,
          0.880684494972229,
          1.120348334312439,
          1.35009765625,
          0.6644214391708374,
          1.9902286529541016,
          1.6938332319259644,
          1.176482081413269,
          1.3132834434509277,
          1.0403677225112915,
          1.6724977493286133,
          1.7808736562728882,
          1.554405689239502,
          1.1423016786575317,
          -0.023828374221920967,
          0.9093797206878662,
          1.0420130491256714,
          1.661405086517334,
          0.8807740807533264,
          -0.178594708442688,
          0.26991006731987,
          1.508692741394043,
          1.7516642808914185,
          0.9337092041969299,
          1.5951943397521973,
          1.2396185398101807,
          0.08133608102798462,
          0.5846582055091858,
          1.3433512449264526,
          1.9083399772644043,
          0.6594772338867188,
          1.0404376983642578,
          -0.4563271105289459,
          1.2544046640396118,
          1.3849782943725586,
          0.7175655961036682,
          0.1575556993484497,
          1.9381579160690308,
          1.1783767938613892,
          1.1255098581314087,
          1.2922964096069336,
          0.7544451951980591,
          1.1373354196548462,
          1.5656996965408325,
          0.6786789894104004,
          -0.5852925181388855,
          0.5518344640731812,
          1.3870849609375,
          1.4616681337356567,
          1.2773051261901855,
          0.9782207608222961,
          1.8564035892486572,
          1.0907237529754639,
          1.662407636642456,
          0.46839460730552673,
          0.10858746618032455,
          0.8728746771812439,
          1.8260177373886108,
          1.6883732080459595,
          1.1397607326507568,
          1.6708571910858154,
          1.8050528764724731,
          1.525520920753479,
          -0.2997181713581085,
          1.591491937637329,
          0.685749351978302,
          1.6735737323760986,
          0.9897051453590393,
          1.4472801685333252,
          1.0395963191986084,
          0.6146013140678406,
          0.4069121181964874,
          1.4909882545471191,
          0.9554968476295471,
          0.9859626293182373,
          1.5603381395339966,
          0.8868357539176941,
          1.6264218091964722,
          2.0397727489471436,
          0.3897305428981781,
          0.48606106638908386,
          1.3902626037597656,
          1.8744524717330933,
          -0.07992764562368393,
          0.6289893388748169,
          0.7654805183410645,
          0.5628989934921265,
          0.5485056042671204,
          0.5837772488594055,
          -0.09851561486721039,
          1.5541999340057373,
          0.9007445573806763,
          1.149308681488037,
          1.4255421161651611
         ]
        }
       ],
       "layout": {
        "legend": {
         "title": {
          "text": "Condition"
         },
         "tracegroupgap": 0
        },
        "scene": {
         "domain": {
          "x": [
           0,
           1
          ],
          "y": [
           0,
           1
          ]
         },
         "xaxis": {
          "title": {
           "text": "UMAP1"
          }
         },
         "yaxis": {
          "title": {
           "text": "UMAP2"
          }
         },
         "zaxis": {
          "title": {
           "text": "UMAP3"
          }
         }
        },
        "template": {
         "data": {
          "bar": [
           {
            "error_x": {
             "color": "#2a3f5f"
            },
            "error_y": {
             "color": "#2a3f5f"
            },
            "marker": {
             "line": {
              "color": "#E5ECF6",
              "width": 0.5
             },
             "pattern": {
              "fillmode": "overlay",
              "size": 10,
              "solidity": 0.2
             }
            },
            "type": "bar"
           }
          ],
          "barpolar": [
           {
            "marker": {
             "line": {
              "color": "#E5ECF6",
              "width": 0.5
             },
             "pattern": {
              "fillmode": "overlay",
              "size": 10,
              "solidity": 0.2
             }
            },
            "type": "barpolar"
           }
          ],
          "carpet": [
           {
            "aaxis": {
             "endlinecolor": "#2a3f5f",
             "gridcolor": "white",
             "linecolor": "white",
             "minorgridcolor": "white",
             "startlinecolor": "#2a3f5f"
            },
            "baxis": {
             "endlinecolor": "#2a3f5f",
             "gridcolor": "white",
             "linecolor": "white",
             "minorgridcolor": "white",
             "startlinecolor": "#2a3f5f"
            },
            "type": "carpet"
           }
          ],
          "choropleth": [
           {
            "colorbar": {
             "outlinewidth": 0,
             "ticks": ""
            },
            "type": "choropleth"
           }
          ],
          "contour": [
           {
            "colorbar": {
             "outlinewidth": 0,
             "ticks": ""
            },
            "colorscale": [
             [
              0,
              "#0d0887"
             ],
             [
              0.1111111111111111,
              "#46039f"
             ],
             [
              0.2222222222222222,
              "#7201a8"
             ],
             [
              0.3333333333333333,
              "#9c179e"
             ],
             [
              0.4444444444444444,
              "#bd3786"
             ],
             [
              0.5555555555555556,
              "#d8576b"
             ],
             [
              0.6666666666666666,
              "#ed7953"
             ],
             [
              0.7777777777777778,
              "#fb9f3a"
             ],
             [
              0.8888888888888888,
              "#fdca26"
             ],
             [
              1,
              "#f0f921"
             ]
            ],
            "type": "contour"
           }
          ],
          "contourcarpet": [
           {
            "colorbar": {
             "outlinewidth": 0,
             "ticks": ""
            },
            "type": "contourcarpet"
           }
          ],
          "heatmap": [
           {
            "colorbar": {
             "outlinewidth": 0,
             "ticks": ""
            },
            "colorscale": [
             [
              0,
              "#0d0887"
             ],
             [
              0.1111111111111111,
              "#46039f"
             ],
             [
              0.2222222222222222,
              "#7201a8"
             ],
             [
              0.3333333333333333,
              "#9c179e"
             ],
             [
              0.4444444444444444,
              "#bd3786"
             ],
             [
              0.5555555555555556,
              "#d8576b"
             ],
             [
              0.6666666666666666,
              "#ed7953"
             ],
             [
              0.7777777777777778,
              "#fb9f3a"
             ],
             [
              0.8888888888888888,
              "#fdca26"
             ],
             [
              1,
              "#f0f921"
             ]
            ],
            "type": "heatmap"
           }
          ],
          "heatmapgl": [
           {
            "colorbar": {
             "outlinewidth": 0,
             "ticks": ""
            },
            "colorscale": [
             [
              0,
              "#0d0887"
             ],
             [
              0.1111111111111111,
              "#46039f"
             ],
             [
              0.2222222222222222,
              "#7201a8"
             ],
             [
              0.3333333333333333,
              "#9c179e"
             ],
             [
              0.4444444444444444,
              "#bd3786"
             ],
             [
              0.5555555555555556,
              "#d8576b"
             ],
             [
              0.6666666666666666,
              "#ed7953"
             ],
             [
              0.7777777777777778,
              "#fb9f3a"
             ],
             [
              0.8888888888888888,
              "#fdca26"
             ],
             [
              1,
              "#f0f921"
             ]
            ],
            "type": "heatmapgl"
           }
          ],
          "histogram": [
           {
            "marker": {
             "pattern": {
              "fillmode": "overlay",
              "size": 10,
              "solidity": 0.2
             }
            },
            "type": "histogram"
           }
          ],
          "histogram2d": [
           {
            "colorbar": {
             "outlinewidth": 0,
             "ticks": ""
            },
            "colorscale": [
             [
              0,
              "#0d0887"
             ],
             [
              0.1111111111111111,
              "#46039f"
             ],
             [
              0.2222222222222222,
              "#7201a8"
             ],
             [
              0.3333333333333333,
              "#9c179e"
             ],
             [
              0.4444444444444444,
              "#bd3786"
             ],
             [
              0.5555555555555556,
              "#d8576b"
             ],
             [
              0.6666666666666666,
              "#ed7953"
             ],
             [
              0.7777777777777778,
              "#fb9f3a"
             ],
             [
              0.8888888888888888,
              "#fdca26"
             ],
             [
              1,
              "#f0f921"
             ]
            ],
            "type": "histogram2d"
           }
          ],
          "histogram2dcontour": [
           {
            "colorbar": {
             "outlinewidth": 0,
             "ticks": ""
            },
            "colorscale": [
             [
              0,
              "#0d0887"
             ],
             [
              0.1111111111111111,
              "#46039f"
             ],
             [
              0.2222222222222222,
              "#7201a8"
             ],
             [
              0.3333333333333333,
              "#9c179e"
             ],
             [
              0.4444444444444444,
              "#bd3786"
             ],
             [
              0.5555555555555556,
              "#d8576b"
             ],
             [
              0.6666666666666666,
              "#ed7953"
             ],
             [
              0.7777777777777778,
              "#fb9f3a"
             ],
             [
              0.8888888888888888,
              "#fdca26"
             ],
             [
              1,
              "#f0f921"
             ]
            ],
            "type": "histogram2dcontour"
           }
          ],
          "mesh3d": [
           {
            "colorbar": {
             "outlinewidth": 0,
             "ticks": ""
            },
            "type": "mesh3d"
           }
          ],
          "parcoords": [
           {
            "line": {
             "colorbar": {
              "outlinewidth": 0,
              "ticks": ""
             }
            },
            "type": "parcoords"
           }
          ],
          "pie": [
           {
            "automargin": true,
            "type": "pie"
           }
          ],
          "scatter": [
           {
            "fillpattern": {
             "fillmode": "overlay",
             "size": 10,
             "solidity": 0.2
            },
            "type": "scatter"
           }
          ],
          "scatter3d": [
           {
            "line": {
             "colorbar": {
              "outlinewidth": 0,
              "ticks": ""
             }
            },
            "marker": {
             "colorbar": {
              "outlinewidth": 0,
              "ticks": ""
             }
            },
            "type": "scatter3d"
           }
          ],
          "scattercarpet": [
           {
            "marker": {
             "colorbar": {
              "outlinewidth": 0,
              "ticks": ""
             }
            },
            "type": "scattercarpet"
           }
          ],
          "scattergeo": [
           {
            "marker": {
             "colorbar": {
              "outlinewidth": 0,
              "ticks": ""
             }
            },
            "type": "scattergeo"
           }
          ],
          "scattergl": [
           {
            "marker": {
             "colorbar": {
              "outlinewidth": 0,
              "ticks": ""
             }
            },
            "type": "scattergl"
           }
          ],
          "scattermapbox": [
           {
            "marker": {
             "colorbar": {
              "outlinewidth": 0,
              "ticks": ""
             }
            },
            "type": "scattermapbox"
           }
          ],
          "scatterpolar": [
           {
            "marker": {
             "colorbar": {
              "outlinewidth": 0,
              "ticks": ""
             }
            },
            "type": "scatterpolar"
           }
          ],
          "scatterpolargl": [
           {
            "marker": {
             "colorbar": {
              "outlinewidth": 0,
              "ticks": ""
             }
            },
            "type": "scatterpolargl"
           }
          ],
          "scatterternary": [
           {
            "marker": {
             "colorbar": {
              "outlinewidth": 0,
              "ticks": ""
             }
            },
            "type": "scatterternary"
           }
          ],
          "surface": [
           {
            "colorbar": {
             "outlinewidth": 0,
             "ticks": ""
            },
            "colorscale": [
             [
              0,
              "#0d0887"
             ],
             [
              0.1111111111111111,
              "#46039f"
             ],
             [
              0.2222222222222222,
              "#7201a8"
             ],
             [
              0.3333333333333333,
              "#9c179e"
             ],
             [
              0.4444444444444444,
              "#bd3786"
             ],
             [
              0.5555555555555556,
              "#d8576b"
             ],
             [
              0.6666666666666666,
              "#ed7953"
             ],
             [
              0.7777777777777778,
              "#fb9f3a"
             ],
             [
              0.8888888888888888,
              "#fdca26"
             ],
             [
              1,
              "#f0f921"
             ]
            ],
            "type": "surface"
           }
          ],
          "table": [
           {
            "cells": {
             "fill": {
              "color": "#EBF0F8"
             },
             "line": {
              "color": "white"
             }
            },
            "header": {
             "fill": {
              "color": "#C8D4E3"
             },
             "line": {
              "color": "white"
             }
            },
            "type": "table"
           }
          ]
         },
         "layout": {
          "annotationdefaults": {
           "arrowcolor": "#2a3f5f",
           "arrowhead": 0,
           "arrowwidth": 1
          },
          "autotypenumbers": "strict",
          "coloraxis": {
           "colorbar": {
            "outlinewidth": 0,
            "ticks": ""
           }
          },
          "colorscale": {
           "diverging": [
            [
             0,
             "#8e0152"
            ],
            [
             0.1,
             "#c51b7d"
            ],
            [
             0.2,
             "#de77ae"
            ],
            [
             0.3,
             "#f1b6da"
            ],
            [
             0.4,
             "#fde0ef"
            ],
            [
             0.5,
             "#f7f7f7"
            ],
            [
             0.6,
             "#e6f5d0"
            ],
            [
             0.7,
             "#b8e186"
            ],
            [
             0.8,
             "#7fbc41"
            ],
            [
             0.9,
             "#4d9221"
            ],
            [
             1,
             "#276419"
            ]
           ],
           "sequential": [
            [
             0,
             "#0d0887"
            ],
            [
             0.1111111111111111,
             "#46039f"
            ],
            [
             0.2222222222222222,
             "#7201a8"
            ],
            [
             0.3333333333333333,
             "#9c179e"
            ],
            [
             0.4444444444444444,
             "#bd3786"
            ],
            [
             0.5555555555555556,
             "#d8576b"
            ],
            [
             0.6666666666666666,
             "#ed7953"
            ],
            [
             0.7777777777777778,
             "#fb9f3a"
            ],
            [
             0.8888888888888888,
             "#fdca26"
            ],
            [
             1,
             "#f0f921"
            ]
           ],
           "sequentialminus": [
            [
             0,
             "#0d0887"
            ],
            [
             0.1111111111111111,
             "#46039f"
            ],
            [
             0.2222222222222222,
             "#7201a8"
            ],
            [
             0.3333333333333333,
             "#9c179e"
            ],
            [
             0.4444444444444444,
             "#bd3786"
            ],
            [
             0.5555555555555556,
             "#d8576b"
            ],
            [
             0.6666666666666666,
             "#ed7953"
            ],
            [
             0.7777777777777778,
             "#fb9f3a"
            ],
            [
             0.8888888888888888,
             "#fdca26"
            ],
            [
             1,
             "#f0f921"
            ]
           ]
          },
          "colorway": [
           "#636efa",
           "#EF553B",
           "#00cc96",
           "#ab63fa",
           "#FFA15A",
           "#19d3f3",
           "#FF6692",
           "#B6E880",
           "#FF97FF",
           "#FECB52"
          ],
          "font": {
           "color": "#2a3f5f"
          },
          "geo": {
           "bgcolor": "white",
           "lakecolor": "white",
           "landcolor": "#E5ECF6",
           "showlakes": true,
           "showland": true,
           "subunitcolor": "white"
          },
          "hoverlabel": {
           "align": "left"
          },
          "hovermode": "closest",
          "mapbox": {
           "style": "light"
          },
          "paper_bgcolor": "white",
          "plot_bgcolor": "#E5ECF6",
          "polar": {
           "angularaxis": {
            "gridcolor": "white",
            "linecolor": "white",
            "ticks": ""
           },
           "bgcolor": "#E5ECF6",
           "radialaxis": {
            "gridcolor": "white",
            "linecolor": "white",
            "ticks": ""
           }
          },
          "scene": {
           "xaxis": {
            "backgroundcolor": "#E5ECF6",
            "gridcolor": "white",
            "gridwidth": 2,
            "linecolor": "white",
            "showbackground": true,
            "ticks": "",
            "zerolinecolor": "white"
           },
           "yaxis": {
            "backgroundcolor": "#E5ECF6",
            "gridcolor": "white",
            "gridwidth": 2,
            "linecolor": "white",
            "showbackground": true,
            "ticks": "",
            "zerolinecolor": "white"
           },
           "zaxis": {
            "backgroundcolor": "#E5ECF6",
            "gridcolor": "white",
            "gridwidth": 2,
            "linecolor": "white",
            "showbackground": true,
            "ticks": "",
            "zerolinecolor": "white"
           }
          },
          "shapedefaults": {
           "line": {
            "color": "#2a3f5f"
           }
          },
          "ternary": {
           "aaxis": {
            "gridcolor": "white",
            "linecolor": "white",
            "ticks": ""
           },
           "baxis": {
            "gridcolor": "white",
            "linecolor": "white",
            "ticks": ""
           },
           "bgcolor": "#E5ECF6",
           "caxis": {
            "gridcolor": "white",
            "linecolor": "white",
            "ticks": ""
           }
          },
          "title": {
           "x": 0.05
          },
          "xaxis": {
           "automargin": true,
           "gridcolor": "white",
           "linecolor": "white",
           "ticks": "",
           "title": {
            "standoff": 15
           },
           "zerolinecolor": "white",
           "zerolinewidth": 2
          },
          "yaxis": {
           "automargin": true,
           "gridcolor": "white",
           "linecolor": "white",
           "ticks": "",
           "title": {
            "standoff": 15
           },
           "zerolinecolor": "white",
           "zerolinewidth": 2
          }
         }
        },
        "title": {
         "text": "3-dimensional representation of the data with UMAP, n_neighbors = 10"
        }
       }
      }
     },
     "metadata": {},
     "output_type": "display_data"
    },
    {
     "data": {
      "application/vnd.plotly.v1+json": {
       "config": {
        "plotlyServerURL": "https://plot.ly"
       },
       "data": [
        {
         "hovertemplate": "Condition=Normo<br>UMAP1=%{x}<br>UMAP2=%{y}<br>UMAP3=%{z}<extra></extra>",
         "legendgroup": "Normo",
         "marker": {
          "color": "#636efa",
          "symbol": "circle"
         },
         "mode": "markers",
         "name": "Normo",
         "scene": "scene",
         "showlegend": true,
         "type": "scatter3d",
         "x": [
          3.106733560562134,
          3.5427308082580566,
          3.461411714553833,
          2.5984246730804443,
          2.7756741046905518,
          3.164306163787842,
          3.074836492538452,
          3.182603597640991,
          3.3536038398742676,
          2.7921721935272217,
          2.4327077865600586,
          3.291670322418213,
          3.0731964111328125,
          2.225557804107666,
          2.0783238410949707,
          2.8317840099334717,
          2.9014201164245605,
          3.479599952697754,
          2.984387159347534,
          3.4328675270080566,
          2.3926920890808105,
          2.813180446624756,
          2.774794578552246,
          2.9866983890533447,
          2.777231454849243,
          2.6988401412963867,
          3.458685874938965,
          2.528484582901001,
          4.509829044342041,
          2.580169916152954,
          2.6292994022369385,
          3.203786849975586,
          2.809168577194214,
          2.875274658203125,
          2.3595385551452637,
          3.3816978931427,
          2.707939863204956,
          2.573291778564453,
          3.53006911277771,
          3.0190913677215576,
          2.239612102508545,
          2.5327041149139404,
          2.5478744506835938,
          2.6390178203582764,
          2.3152289390563965,
          2.3076858520507812,
          2.591104030609131,
          3.780245065689087,
          2.145322799682617,
          3.4157016277313232,
          2.4489288330078125,
          2.7037665843963623,
          2.7763330936431885,
          4.281487941741943,
          2.2645463943481445,
          2.628934383392334,
          2.375791311264038,
          3.8874852657318115,
          2.042855978012085,
          2.570131540298462,
          2.0310802459716797,
          2.4628427028656006,
          3.8904788494110107,
          2.15034818649292,
          3.5607047080993652,
          3.110093832015991,
          3.7333481311798096,
          3.626648426055908,
          3.767429828643799,
          2.503432512283325,
          3.035069704055786,
          2.92919659614563,
          3.166088819503784,
          2.095416307449341,
          2.9860453605651855,
          4.0523505210876465,
          2.38474178314209,
          2.8917388916015625,
          3.132153034210205,
          3.7061519622802734,
          3.4039688110351562,
          2.1674787998199463,
          1.9099771976470947,
          2.7768898010253906,
          3.6925148963928223
         ],
         "y": [
          4.266867637634277,
          5.1168012619018555,
          4.056346893310547,
          3.595552921295166,
          4.057027816772461,
          4.17909049987793,
          3.5630223751068115,
          3.8952574729919434,
          4.4828715324401855,
          4.775786399841309,
          4.372122287750244,
          4.310070037841797,
          5.274147987365723,
          4.092647552490234,
          4.056188106536865,
          5.141539573669434,
          3.4384098052978516,
          4.633932590484619,
          3.530601739883423,
          4.229639053344727,
          3.9443280696868896,
          4.723795413970947,
          4.965015411376953,
          3.918853521347046,
          2.8074100017547607,
          2.925485849380493,
          4.904560089111328,
          4.347260475158691,
          4.608238697052002,
          3.3101234436035156,
          3.409114122390747,
          3.673654317855835,
          4.7846360206604,
          3.7343368530273438,
          3.3624677658081055,
          3.799875497817993,
          4.433241367340088,
          4.961424827575684,
          4.04475736618042,
          4.265041351318359,
          4.13546085357666,
          4.040262222290039,
          3.9481990337371826,
          4.155842304229736,
          4.601352691650391,
          3.2949869632720947,
          4.290548801422119,
          4.583431243896484,
          4.732154846191406,
          4.035422325134277,
          4.619266510009766,
          3.447509527206421,
          3.8131120204925537,
          4.802449703216553,
          4.499881744384766,
          3.5102176666259766,
          3.6309258937835693,
          4.395904541015625,
          3.359445095062256,
          5.1192097663879395,
          3.2692129611968994,
          3.1937429904937744,
          5.11533784866333,
          4.307546615600586,
          4.476676940917969,
          4.724303722381592,
          5.033740997314453,
          4.973588943481445,
          5.055076599121094,
          4.776869297027588,
          3.427945375442505,
          4.480057716369629,
          5.2751240730285645,
          3.871143102645874,
          5.456477165222168,
          4.653780937194824,
          3.2453434467315674,
          4.07073450088501,
          5.280177116394043,
          4.739857196807861,
          3.2987632751464844,
          3.2342936992645264,
          3.800682544708252,
          3.0277836322784424,
          4.503624439239502
         ],
         "z": [
          16.035890579223633,
          16.168649673461914,
          15.73503589630127,
          16.157472610473633,
          14.729270935058594,
          15.781784057617188,
          16.245389938354492,
          15.19905948638916,
          15.424368858337402,
          15.303601264953613,
          15.158852577209473,
          15.773707389831543,
          15.393552780151367,
          14.819660186767578,
          15.489129066467285,
          15.456125259399414,
          16.354442596435547,
          16.33322525024414,
          15.115400314331055,
          15.271990776062012,
          15.71715259552002,
          14.539155960083008,
          15.926434516906738,
          16.235239028930664,
          15.442869186401367,
          15.566396713256836,
          15.99743938446045,
          14.866562843322754,
          16.234350204467773,
          15.642507553100586,
          15.690779685974121,
          15.746901512145996,
          14.915606498718262,
          15.760316848754883,
          16.143762588500977,
          16.47063636779785,
          15.81749153137207,
          15.35275936126709,
          16.265155792236328,
          15.005186080932617,
          16.184446334838867,
          15.393024444580078,
          14.76020622253418,
          16.071748733520508,
          14.546686172485352,
          14.987146377563477,
          16.3996524810791,
          15.527376174926758,
          15.058219909667969,
          16.62590980529785,
          14.98464298248291,
          16.021682739257812,
          16.630754470825195,
          16.16679573059082,
          15.551338195800781,
          15.058116912841797,
          15.514572143554688,
          16.155046463012695,
          15.521564483642578,
          14.915761947631836,
          15.713409423828125,
          16.11910629272461,
          15.813263893127441,
          14.970036506652832,
          16.53909683227539,
          16.133869171142578,
          16.331979751586914,
          15.276529312133789,
          15.746990203857422,
          15.742170333862305,
          16.75881576538086,
          16.61295509338379,
          14.981040954589844,
          16.153894424438477,
          15.597525596618652,
          15.414327621459961,
          15.28065299987793,
          16.461986541748047,
          16.037681579589844,
          16.28155517578125,
          16.54853057861328,
          15.119573593139648,
          15.01894474029541,
          15.051301956176758,
          15.899033546447754
         ]
        },
        {
         "hovertemplate": "Condition=Hypo<br>UMAP1=%{x}<br>UMAP2=%{y}<br>UMAP3=%{z}<extra></extra>",
         "legendgroup": "Hypo",
         "marker": {
          "color": "#EF553B",
          "symbol": "circle"
         },
         "mode": "markers",
         "name": "Hypo",
         "scene": "scene",
         "showlegend": true,
         "type": "scatter3d",
         "x": [
          3.985072135925293,
          3.441678047180176,
          3.8372998237609863,
          3.9902169704437256,
          3.527386426925659,
          3.1952807903289795,
          4.370270252227783,
          3.7331461906433105,
          4.508877277374268,
          3.1548993587493896,
          3.4554691314697266,
          3.5257134437561035,
          3.038300037384033,
          3.3912482261657715,
          3.926671028137207,
          3.9385485649108887,
          3.7087090015411377,
          3.1371679306030273,
          3.6635961532592773,
          3.9352424144744873,
          3.8284952640533447,
          3.3011891841888428,
          3.019603967666626,
          3.372837781906128,
          3.6242926120758057,
          4.2850422859191895,
          4.246311187744141,
          4.241124629974365,
          3.9663612842559814,
          2.9758756160736084,
          3.9497413635253906,
          3.762352466583252,
          4.5837483406066895,
          3.8556771278381348,
          3.15837025642395,
          2.930783271789551,
          4.401862621307373,
          4.262942314147949,
          4.327281951904297,
          3.345256805419922,
          4.259542942047119,
          4.408263206481934,
          4.475231170654297,
          4.422876358032227,
          4.245957851409912,
          4.573368549346924,
          4.61069917678833,
          4.12290620803833,
          2.915422201156616,
          3.134594202041626,
          4.206967353820801,
          4.812276363372803,
          3.5259854793548584,
          3.5999155044555664,
          2.804622173309326,
          3.785747766494751,
          4.73025369644165,
          3.2181010246276855,
          3.1123838424682617,
          2.9462568759918213,
          4.36307954788208,
          3.4247984886169434,
          4.358938694000244,
          3.4544527530670166,
          2.4885475635528564,
          4.654188632965088,
          2.5967044830322266,
          3.849717140197754,
          3.7976653575897217,
          4.874050617218018,
          4.250359058380127,
          4.249026775360107,
          3.6967570781707764,
          4.239180564880371,
          3.198275327682495,
          4.701109409332275,
          4.4413838386535645,
          4.139603137969971,
          2.792459726333618,
          4.1776275634765625,
          4.768891334533691,
          3.5974411964416504,
          3.16726016998291,
          4.705341815948486,
          4.8909196853637695,
          4.8365678787231445,
          2.2722020149230957,
          3.4628095626831055,
          3.692464828491211,
          3.4453039169311523,
          4.49700927734375,
          4.072631359100342,
          3.4041852951049805,
          4.475189685821533,
          3.973738193511963,
          4.455750942230225,
          2.815126895904541
         ],
         "y": [
          3.660738706588745,
          3.0433475971221924,
          3.3744266033172607,
          3.3654754161834717,
          3.6849777698516846,
          2.7571663856506348,
          3.4953253269195557,
          4.2670745849609375,
          3.3564321994781494,
          3.775298595428467,
          3.4791996479034424,
          2.8537955284118652,
          2.7891974449157715,
          3.2545344829559326,
          3.6879665851593018,
          4.188464164733887,
          3.1041407585144043,
          4.990838050842285,
          3.3383350372314453,
          2.9530892372131348,
          3.766875982284546,
          2.9172403812408447,
          4.750269412994385,
          3.564079999923706,
          2.9225196838378906,
          3.855170726776123,
          3.6224277019500732,
          4.31921911239624,
          4.398445129394531,
          3.7764813899993896,
          5.068769454956055,
          2.559713840484619,
          3.8607938289642334,
          2.746218681335449,
          3.1189708709716797,
          4.430836200714111,
          4.1241865158081055,
          3.303330898284912,
          3.1993346214294434,
          4.662131309509277,
          4.163231372833252,
          4.106108665466309,
          3.9379801750183105,
          4.5973734855651855,
          2.880455255508423,
          3.8122124671936035,
          4.594033718109131,
          4.861728191375732,
          4.826610565185547,
          2.9943647384643555,
          4.6431474685668945,
          3.525681495666504,
          3.7638840675354004,
          2.7750887870788574,
          2.975545883178711,
          3.084508180618286,
          3.7667911052703857,
          2.4943883419036865,
          2.593017101287842,
          3.3698995113372803,
          2.683570623397827,
          2.683716297149658,
          2.761018753051758,
          3.63236927986145,
          3.1513025760650635,
          3.3716485500335693,
          4.269747257232666,
          2.807410717010498,
          3.4429965019226074,
          4.308324813842773,
          2.655744791030884,
          2.9709877967834473,
          2.975266695022583,
          3.0735723972320557,
          2.438051223754883,
          4.200351715087891,
          4.534135341644287,
          3.4206488132476807,
          4.160675525665283,
          2.82585072517395,
          4.518253326416016,
          2.631159543991089,
          5.132710933685303,
          3.220574378967285,
          3.620220899581909,
          3.2437584400177,
          3.812516689300537,
          3.2544467449188232,
          2.2906394004821777,
          2.428687572479248,
          4.6611647605896,
          2.4571235179901123,
          4.235124588012695,
          3.378793239593506,
          2.337885618209839,
          3.838388442993164,
          2.5193426609039307
         ],
         "z": [
          14.490655899047852,
          14.640419006347656,
          15.627047538757324,
          14.765992164611816,
          15.47791576385498,
          14.84952163696289,
          15.146622657775879,
          16.141738891601562,
          15.495129585266113,
          14.493048667907715,
          15.003168106079102,
          15.208449363708496,
          15.2855806350708,
          15.524229049682617,
          15.979044914245605,
          14.877833366394043,
          14.998322486877441,
          15.836475372314453,
          14.533405303955078,
          15.311521530151367,
          15.18017292022705,
          15.750467300415039,
          15.271744728088379,
          15.066967964172363,
          15.60420036315918,
          15.273453712463379,
          14.77389907836914,
          16.15593147277832,
          15.117295265197754,
          14.864864349365234,
          15.169300079345703,
          15.484445571899414,
          15.426823616027832,
          15.208481788635254,
          14.651795387268066,
          14.242063522338867,
          15.597273826599121,
          15.330316543579102,
          14.999828338623047,
          14.499767303466797,
          14.989718437194824,
          14.349425315856934,
          14.784756660461426,
          16.113590240478516,
          15.034472465515137,
          14.625757217407227,
          15.772774696350098,
          14.800591468811035,
          14.34607219696045,
          16.35520362854004,
          15.90666389465332,
          15.012794494628906,
          16.44990348815918,
          15.852720260620117,
          14.75421142578125,
          14.240455627441406,
          15.309398651123047,
          15.457140922546387,
          16.0801944732666,
          14.356222152709961,
          15.606714248657227,
          14.421239852905273,
          15.24984073638916,
          14.186208724975586,
          14.537567138671875,
          14.824912071228027,
          14.214871406555176,
          14.519099235534668,
          16.236841201782227,
          16.219202041625977,
          14.847332000732422,
          15.646512031555176,
          16.168609619140625,
          14.326201438903809,
          15.640833854675293,
          14.986791610717773,
          14.906153678894043,
          14.15829849243164,
          15.479180335998535,
          15.944316864013672,
          16.196115493774414,
          14.829922676086426,
          16.347288131713867,
          15.722125053405762,
          14.636463165283203,
          15.231500625610352,
          14.538329124450684,
          14.049022674560547,
          15.810308456420898,
          15.78628158569336,
          15.049131393432617,
          15.47851276397705,
          14.304914474487305,
          15.889180183410645,
          15.135102272033691,
          14.222085952758789,
          15.053204536437988
         ]
        }
       ],
       "layout": {
        "legend": {
         "title": {
          "text": "Condition"
         },
         "tracegroupgap": 0
        },
        "scene": {
         "domain": {
          "x": [
           0,
           1
          ],
          "y": [
           0,
           1
          ]
         },
         "xaxis": {
          "title": {
           "text": "UMAP1"
          }
         },
         "yaxis": {
          "title": {
           "text": "UMAP2"
          }
         },
         "zaxis": {
          "title": {
           "text": "UMAP3"
          }
         }
        },
        "template": {
         "data": {
          "bar": [
           {
            "error_x": {
             "color": "#2a3f5f"
            },
            "error_y": {
             "color": "#2a3f5f"
            },
            "marker": {
             "line": {
              "color": "#E5ECF6",
              "width": 0.5
             },
             "pattern": {
              "fillmode": "overlay",
              "size": 10,
              "solidity": 0.2
             }
            },
            "type": "bar"
           }
          ],
          "barpolar": [
           {
            "marker": {
             "line": {
              "color": "#E5ECF6",
              "width": 0.5
             },
             "pattern": {
              "fillmode": "overlay",
              "size": 10,
              "solidity": 0.2
             }
            },
            "type": "barpolar"
           }
          ],
          "carpet": [
           {
            "aaxis": {
             "endlinecolor": "#2a3f5f",
             "gridcolor": "white",
             "linecolor": "white",
             "minorgridcolor": "white",
             "startlinecolor": "#2a3f5f"
            },
            "baxis": {
             "endlinecolor": "#2a3f5f",
             "gridcolor": "white",
             "linecolor": "white",
             "minorgridcolor": "white",
             "startlinecolor": "#2a3f5f"
            },
            "type": "carpet"
           }
          ],
          "choropleth": [
           {
            "colorbar": {
             "outlinewidth": 0,
             "ticks": ""
            },
            "type": "choropleth"
           }
          ],
          "contour": [
           {
            "colorbar": {
             "outlinewidth": 0,
             "ticks": ""
            },
            "colorscale": [
             [
              0,
              "#0d0887"
             ],
             [
              0.1111111111111111,
              "#46039f"
             ],
             [
              0.2222222222222222,
              "#7201a8"
             ],
             [
              0.3333333333333333,
              "#9c179e"
             ],
             [
              0.4444444444444444,
              "#bd3786"
             ],
             [
              0.5555555555555556,
              "#d8576b"
             ],
             [
              0.6666666666666666,
              "#ed7953"
             ],
             [
              0.7777777777777778,
              "#fb9f3a"
             ],
             [
              0.8888888888888888,
              "#fdca26"
             ],
             [
              1,
              "#f0f921"
             ]
            ],
            "type": "contour"
           }
          ],
          "contourcarpet": [
           {
            "colorbar": {
             "outlinewidth": 0,
             "ticks": ""
            },
            "type": "contourcarpet"
           }
          ],
          "heatmap": [
           {
            "colorbar": {
             "outlinewidth": 0,
             "ticks": ""
            },
            "colorscale": [
             [
              0,
              "#0d0887"
             ],
             [
              0.1111111111111111,
              "#46039f"
             ],
             [
              0.2222222222222222,
              "#7201a8"
             ],
             [
              0.3333333333333333,
              "#9c179e"
             ],
             [
              0.4444444444444444,
              "#bd3786"
             ],
             [
              0.5555555555555556,
              "#d8576b"
             ],
             [
              0.6666666666666666,
              "#ed7953"
             ],
             [
              0.7777777777777778,
              "#fb9f3a"
             ],
             [
              0.8888888888888888,
              "#fdca26"
             ],
             [
              1,
              "#f0f921"
             ]
            ],
            "type": "heatmap"
           }
          ],
          "heatmapgl": [
           {
            "colorbar": {
             "outlinewidth": 0,
             "ticks": ""
            },
            "colorscale": [
             [
              0,
              "#0d0887"
             ],
             [
              0.1111111111111111,
              "#46039f"
             ],
             [
              0.2222222222222222,
              "#7201a8"
             ],
             [
              0.3333333333333333,
              "#9c179e"
             ],
             [
              0.4444444444444444,
              "#bd3786"
             ],
             [
              0.5555555555555556,
              "#d8576b"
             ],
             [
              0.6666666666666666,
              "#ed7953"
             ],
             [
              0.7777777777777778,
              "#fb9f3a"
             ],
             [
              0.8888888888888888,
              "#fdca26"
             ],
             [
              1,
              "#f0f921"
             ]
            ],
            "type": "heatmapgl"
           }
          ],
          "histogram": [
           {
            "marker": {
             "pattern": {
              "fillmode": "overlay",
              "size": 10,
              "solidity": 0.2
             }
            },
            "type": "histogram"
           }
          ],
          "histogram2d": [
           {
            "colorbar": {
             "outlinewidth": 0,
             "ticks": ""
            },
            "colorscale": [
             [
              0,
              "#0d0887"
             ],
             [
              0.1111111111111111,
              "#46039f"
             ],
             [
              0.2222222222222222,
              "#7201a8"
             ],
             [
              0.3333333333333333,
              "#9c179e"
             ],
             [
              0.4444444444444444,
              "#bd3786"
             ],
             [
              0.5555555555555556,
              "#d8576b"
             ],
             [
              0.6666666666666666,
              "#ed7953"
             ],
             [
              0.7777777777777778,
              "#fb9f3a"
             ],
             [
              0.8888888888888888,
              "#fdca26"
             ],
             [
              1,
              "#f0f921"
             ]
            ],
            "type": "histogram2d"
           }
          ],
          "histogram2dcontour": [
           {
            "colorbar": {
             "outlinewidth": 0,
             "ticks": ""
            },
            "colorscale": [
             [
              0,
              "#0d0887"
             ],
             [
              0.1111111111111111,
              "#46039f"
             ],
             [
              0.2222222222222222,
              "#7201a8"
             ],
             [
              0.3333333333333333,
              "#9c179e"
             ],
             [
              0.4444444444444444,
              "#bd3786"
             ],
             [
              0.5555555555555556,
              "#d8576b"
             ],
             [
              0.6666666666666666,
              "#ed7953"
             ],
             [
              0.7777777777777778,
              "#fb9f3a"
             ],
             [
              0.8888888888888888,
              "#fdca26"
             ],
             [
              1,
              "#f0f921"
             ]
            ],
            "type": "histogram2dcontour"
           }
          ],
          "mesh3d": [
           {
            "colorbar": {
             "outlinewidth": 0,
             "ticks": ""
            },
            "type": "mesh3d"
           }
          ],
          "parcoords": [
           {
            "line": {
             "colorbar": {
              "outlinewidth": 0,
              "ticks": ""
             }
            },
            "type": "parcoords"
           }
          ],
          "pie": [
           {
            "automargin": true,
            "type": "pie"
           }
          ],
          "scatter": [
           {
            "fillpattern": {
             "fillmode": "overlay",
             "size": 10,
             "solidity": 0.2
            },
            "type": "scatter"
           }
          ],
          "scatter3d": [
           {
            "line": {
             "colorbar": {
              "outlinewidth": 0,
              "ticks": ""
             }
            },
            "marker": {
             "colorbar": {
              "outlinewidth": 0,
              "ticks": ""
             }
            },
            "type": "scatter3d"
           }
          ],
          "scattercarpet": [
           {
            "marker": {
             "colorbar": {
              "outlinewidth": 0,
              "ticks": ""
             }
            },
            "type": "scattercarpet"
           }
          ],
          "scattergeo": [
           {
            "marker": {
             "colorbar": {
              "outlinewidth": 0,
              "ticks": ""
             }
            },
            "type": "scattergeo"
           }
          ],
          "scattergl": [
           {
            "marker": {
             "colorbar": {
              "outlinewidth": 0,
              "ticks": ""
             }
            },
            "type": "scattergl"
           }
          ],
          "scattermapbox": [
           {
            "marker": {
             "colorbar": {
              "outlinewidth": 0,
              "ticks": ""
             }
            },
            "type": "scattermapbox"
           }
          ],
          "scatterpolar": [
           {
            "marker": {
             "colorbar": {
              "outlinewidth": 0,
              "ticks": ""
             }
            },
            "type": "scatterpolar"
           }
          ],
          "scatterpolargl": [
           {
            "marker": {
             "colorbar": {
              "outlinewidth": 0,
              "ticks": ""
             }
            },
            "type": "scatterpolargl"
           }
          ],
          "scatterternary": [
           {
            "marker": {
             "colorbar": {
              "outlinewidth": 0,
              "ticks": ""
             }
            },
            "type": "scatterternary"
           }
          ],
          "surface": [
           {
            "colorbar": {
             "outlinewidth": 0,
             "ticks": ""
            },
            "colorscale": [
             [
              0,
              "#0d0887"
             ],
             [
              0.1111111111111111,
              "#46039f"
             ],
             [
              0.2222222222222222,
              "#7201a8"
             ],
             [
              0.3333333333333333,
              "#9c179e"
             ],
             [
              0.4444444444444444,
              "#bd3786"
             ],
             [
              0.5555555555555556,
              "#d8576b"
             ],
             [
              0.6666666666666666,
              "#ed7953"
             ],
             [
              0.7777777777777778,
              "#fb9f3a"
             ],
             [
              0.8888888888888888,
              "#fdca26"
             ],
             [
              1,
              "#f0f921"
             ]
            ],
            "type": "surface"
           }
          ],
          "table": [
           {
            "cells": {
             "fill": {
              "color": "#EBF0F8"
             },
             "line": {
              "color": "white"
             }
            },
            "header": {
             "fill": {
              "color": "#C8D4E3"
             },
             "line": {
              "color": "white"
             }
            },
            "type": "table"
           }
          ]
         },
         "layout": {
          "annotationdefaults": {
           "arrowcolor": "#2a3f5f",
           "arrowhead": 0,
           "arrowwidth": 1
          },
          "autotypenumbers": "strict",
          "coloraxis": {
           "colorbar": {
            "outlinewidth": 0,
            "ticks": ""
           }
          },
          "colorscale": {
           "diverging": [
            [
             0,
             "#8e0152"
            ],
            [
             0.1,
             "#c51b7d"
            ],
            [
             0.2,
             "#de77ae"
            ],
            [
             0.3,
             "#f1b6da"
            ],
            [
             0.4,
             "#fde0ef"
            ],
            [
             0.5,
             "#f7f7f7"
            ],
            [
             0.6,
             "#e6f5d0"
            ],
            [
             0.7,
             "#b8e186"
            ],
            [
             0.8,
             "#7fbc41"
            ],
            [
             0.9,
             "#4d9221"
            ],
            [
             1,
             "#276419"
            ]
           ],
           "sequential": [
            [
             0,
             "#0d0887"
            ],
            [
             0.1111111111111111,
             "#46039f"
            ],
            [
             0.2222222222222222,
             "#7201a8"
            ],
            [
             0.3333333333333333,
             "#9c179e"
            ],
            [
             0.4444444444444444,
             "#bd3786"
            ],
            [
             0.5555555555555556,
             "#d8576b"
            ],
            [
             0.6666666666666666,
             "#ed7953"
            ],
            [
             0.7777777777777778,
             "#fb9f3a"
            ],
            [
             0.8888888888888888,
             "#fdca26"
            ],
            [
             1,
             "#f0f921"
            ]
           ],
           "sequentialminus": [
            [
             0,
             "#0d0887"
            ],
            [
             0.1111111111111111,
             "#46039f"
            ],
            [
             0.2222222222222222,
             "#7201a8"
            ],
            [
             0.3333333333333333,
             "#9c179e"
            ],
            [
             0.4444444444444444,
             "#bd3786"
            ],
            [
             0.5555555555555556,
             "#d8576b"
            ],
            [
             0.6666666666666666,
             "#ed7953"
            ],
            [
             0.7777777777777778,
             "#fb9f3a"
            ],
            [
             0.8888888888888888,
             "#fdca26"
            ],
            [
             1,
             "#f0f921"
            ]
           ]
          },
          "colorway": [
           "#636efa",
           "#EF553B",
           "#00cc96",
           "#ab63fa",
           "#FFA15A",
           "#19d3f3",
           "#FF6692",
           "#B6E880",
           "#FF97FF",
           "#FECB52"
          ],
          "font": {
           "color": "#2a3f5f"
          },
          "geo": {
           "bgcolor": "white",
           "lakecolor": "white",
           "landcolor": "#E5ECF6",
           "showlakes": true,
           "showland": true,
           "subunitcolor": "white"
          },
          "hoverlabel": {
           "align": "left"
          },
          "hovermode": "closest",
          "mapbox": {
           "style": "light"
          },
          "paper_bgcolor": "white",
          "plot_bgcolor": "#E5ECF6",
          "polar": {
           "angularaxis": {
            "gridcolor": "white",
            "linecolor": "white",
            "ticks": ""
           },
           "bgcolor": "#E5ECF6",
           "radialaxis": {
            "gridcolor": "white",
            "linecolor": "white",
            "ticks": ""
           }
          },
          "scene": {
           "xaxis": {
            "backgroundcolor": "#E5ECF6",
            "gridcolor": "white",
            "gridwidth": 2,
            "linecolor": "white",
            "showbackground": true,
            "ticks": "",
            "zerolinecolor": "white"
           },
           "yaxis": {
            "backgroundcolor": "#E5ECF6",
            "gridcolor": "white",
            "gridwidth": 2,
            "linecolor": "white",
            "showbackground": true,
            "ticks": "",
            "zerolinecolor": "white"
           },
           "zaxis": {
            "backgroundcolor": "#E5ECF6",
            "gridcolor": "white",
            "gridwidth": 2,
            "linecolor": "white",
            "showbackground": true,
            "ticks": "",
            "zerolinecolor": "white"
           }
          },
          "shapedefaults": {
           "line": {
            "color": "#2a3f5f"
           }
          },
          "ternary": {
           "aaxis": {
            "gridcolor": "white",
            "linecolor": "white",
            "ticks": ""
           },
           "baxis": {
            "gridcolor": "white",
            "linecolor": "white",
            "ticks": ""
           },
           "bgcolor": "#E5ECF6",
           "caxis": {
            "gridcolor": "white",
            "linecolor": "white",
            "ticks": ""
           }
          },
          "title": {
           "x": 0.05
          },
          "xaxis": {
           "automargin": true,
           "gridcolor": "white",
           "linecolor": "white",
           "ticks": "",
           "title": {
            "standoff": 15
           },
           "zerolinecolor": "white",
           "zerolinewidth": 2
          },
          "yaxis": {
           "automargin": true,
           "gridcolor": "white",
           "linecolor": "white",
           "ticks": "",
           "title": {
            "standoff": 15
           },
           "zerolinecolor": "white",
           "zerolinewidth": 2
          }
         }
        },
        "title": {
         "text": "3-dimensional representation of the data with UMAP, n_neighbors = 50"
        }
       }
      }
     },
     "metadata": {},
     "output_type": "display_data"
    },
    {
     "data": {
      "application/vnd.plotly.v1+json": {
       "config": {
        "plotlyServerURL": "https://plot.ly"
       },
       "data": [
        {
         "hovertemplate": "Condition=Normo<br>UMAP1=%{x}<br>UMAP2=%{y}<br>UMAP3=%{z}<extra></extra>",
         "legendgroup": "Normo",
         "marker": {
          "color": "#636efa",
          "symbol": "circle"
         },
         "mode": "markers",
         "name": "Normo",
         "scene": "scene",
         "showlegend": true,
         "type": "scatter3d",
         "x": [
          9.154541015625,
          8.52953052520752,
          9.145394325256348,
          9.021665573120117,
          8.798576354980469,
          8.607100486755371,
          9.1483154296875,
          9.05230712890625,
          8.774327278137207,
          8.314981460571289,
          8.54918384552002,
          8.91075611114502,
          8.075675010681152,
          8.495304107666016,
          8.73998737335205,
          8.066879272460938,
          9.144240379333496,
          8.835891723632812,
          9.289384841918945,
          9.403299331665039,
          8.648898124694824,
          8.16877555847168,
          8.174606323242188,
          8.588186264038086,
          9.515002250671387,
          9.405905723571777,
          8.760516166687012,
          8.805915832519531,
          9.555520057678223,
          8.988764762878418,
          8.891986846923828,
          9.279878616333008,
          8.416400909423828,
          8.840044975280762,
          8.880208015441895,
          9.004603385925293,
          8.469520568847656,
          8.071586608886719,
          9.135847091674805,
          8.480627059936523,
          8.452879905700684,
          8.331613540649414,
          8.346619606018066,
          8.80057144165039,
          8.28083324432373,
          9.651268005371094,
          8.617606163024902,
          9.435967445373535,
          8.405619621276855,
          8.772357940673828,
          8.111967086791992,
          9.1349515914917,
          8.633810043334961,
          9.364216804504395,
          8.261809349060059,
          9.063570976257324,
          8.72678279876709,
          9.161921501159668,
          9.102876663208008,
          7.883919715881348,
          8.744747161865234,
          8.927133560180664,
          8.988330841064453,
          8.300342559814453,
          9.056402206420898,
          8.519655227661133,
          8.673337936401367,
          9.307171821594238,
          8.875921249389648,
          8.201972007751465,
          9.987183570861816,
          8.713781356811523,
          7.9430646896362305,
          8.655231475830078,
          8.05212688446045,
          9.611407279968262,
          9.361533164978027,
          8.59919261932373,
          8.06220531463623,
          8.993107795715332,
          9.173993110656738,
          9.504512786865234,
          8.64167594909668,
          9.383260726928711,
          8.699234008789062
         ],
         "y": [
          6.921700477600098,
          7.313986778259277,
          7.532456874847412,
          7.073952674865723,
          7.795074462890625,
          7.371471405029297,
          6.995639324188232,
          7.891951560974121,
          7.269594669342041,
          7.736251354217529,
          7.290651798248291,
          7.124460220336914,
          7.858394145965576,
          7.332642555236816,
          7.298874378204346,
          7.901865005493164,
          6.50693941116333,
          7.368941783905029,
          7.707036018371582,
          7.9111528396606445,
          6.914229869842529,
          7.899487018585205,
          7.150801181793213,
          6.6317973136901855,
          6.583755016326904,
          7.529738426208496,
          7.455434799194336,
          7.660554885864258,
          7.8886847496032715,
          6.794696807861328,
          6.931690692901611,
          6.748987674713135,
          7.615231990814209,
          6.9431471824646,
          6.473358631134033,
          6.615821361541748,
          6.847411155700684,
          7.789882183074951,
          8.120075225830078,
          8.039840698242188,
          8.22508716583252,
          6.886016368865967,
          7.791763782501221,
          7.717387676239014,
          7.647933483123779,
          6.712325572967529,
          8.141995429992676,
          7.331007957458496,
          8.342402458190918,
          8.300457954406738,
          7.280511856079102,
          6.237160682678223,
          6.4003729820251465,
          7.6396026611328125,
          7.140862464904785,
          8.309270858764648,
          6.685821056365967,
          8.067688941955566,
          6.4765143394470215,
          7.679826259613037,
          7.934311389923096,
          6.357232570648193,
          7.844834804534912,
          7.284669399261475,
          7.661431312561035,
          7.785813331604004,
          7.242958068847656,
          6.994759559631348,
          7.651752471923828,
          6.658102035522461,
          8.602766036987305,
          6.589533805847168,
          8.073297500610352,
          8.447173118591309,
          7.454380035400391,
          7.533672332763672,
          8.369564056396484,
          6.216686725616455,
          7.083988666534424,
          6.922163963317871,
          8.66181755065918,
          6.413003921508789,
          6.878840446472168,
          7.185934066772461,
          6.695122241973877
         ],
         "z": [
          8.049918174743652,
          7.113927364349365,
          8.036373138427734,
          8.278813362121582,
          8.6820650100708,
          7.716290473937988,
          7.764346122741699,
          8.270384788513184,
          7.856588840484619,
          8.061341285705566,
          8.462695121765137,
          7.342459678649902,
          7.50374174118042,
          8.657907485961914,
          8.841535568237305,
          7.487751483917236,
          7.8737006187438965,
          7.175631046295166,
          8.258342742919922,
          7.617163181304932,
          8.56367301940918,
          8.811267852783203,
          7.626393795013428,
          8.213147163391113,
          8.289729118347168,
          8.659320831298828,
          7.065568447113037,
          8.75611686706543,
          6.592008590698242,
          8.408061981201172,
          7.9939351081848145,
          7.472256183624268,
          8.328580856323242,
          7.518646717071533,
          8.304876327514648,
          7.562091827392578,
          7.694511890411377,
          8.140363693237305,
          7.601611614227295,
          8.748580932617188,
          7.793893814086914,
          8.689891815185547,
          8.392030715942383,
          7.893057823181152,
          8.887898445129395,
          7.585315704345703,
          7.830952167510986,
          7.256938934326172,
          8.662064552307129,
          7.240808963775635,
          8.570788383483887,
          8.299358367919922,
          7.725647926330566,
          6.867567539215088,
          8.187457084655762,
          8.305741310119629,
          8.292658805847168,
          6.903292655944824,
          8.499637603759766,
          8.540413856506348,
          8.2090482711792,
          8.63531494140625,
          7.016674995422363,
          8.820770263671875,
          7.273215293884277,
          7.278951644897461,
          6.764906406402588,
          7.0850677490234375,
          6.8547492027282715,
          7.891915798187256,
          8.098398208618164,
          7.443393707275391,
          7.8297319412231445,
          8.098435401916504,
          7.545422077178955,
          7.4656476974487305,
          8.865823745727539,
          7.883018970489502,
          7.209962844848633,
          6.881637096405029,
          8.386240005493164,
          7.5973052978515625,
          9.085357666015625,
          8.454595565795898,
          6.993851184844971
         ]
        },
        {
         "hovertemplate": "Condition=Hypo<br>UMAP1=%{x}<br>UMAP2=%{y}<br>UMAP3=%{z}<extra></extra>",
         "legendgroup": "Hypo",
         "marker": {
          "color": "#EF553B",
          "symbol": "circle"
         },
         "mode": "markers",
         "name": "Hypo",
         "scene": "scene",
         "showlegend": true,
         "type": "scatter3d",
         "x": [
          10.138008117675781,
          10.340438842773438,
          10.063095092773438,
          10.299113273620605,
          9.400874137878418,
          9.92320728302002,
          10.39110279083252,
          9.125041961669922,
          10.546161651611328,
          9.492881774902344,
          9.63906478881836,
          9.787422180175781,
          9.833335876464844,
          9.456741333007812,
          9.843276977539062,
          9.712925910949707,
          10.295706748962402,
          8.3733491897583,
          10.094386100769043,
          9.989947319030762,
          9.72315502166748,
          9.796950340270996,
          8.032700538635254,
          9.262941360473633,
          9.688021659851074,
          10.139365196228027,
          10.056672096252441,
          9.707547187805176,
          10.00119686126709,
          9.245458602905273,
          9.284448623657227,
          9.991012573242188,
          10.342035293579102,
          10.376409530639648,
          9.737129211425781,
          8.79039478302002,
          10.12539291381836,
          10.466775894165039,
          10.446338653564453,
          8.869758605957031,
          10.195387840270996,
          10.59217357635498,
          10.462499618530273,
          9.857145309448242,
          10.1136474609375,
          10.528549194335938,
          9.934272766113281,
          9.681353569030762,
          8.229071617126465,
          9.400070190429688,
          9.558323860168457,
          10.320342063903809,
          9.052385330200195,
          9.91818618774414,
          9.32958698272705,
          10.007064819335938,
          10.517250061035156,
          9.700031280517578,
          9.231090545654297,
          9.473284721374512,
          10.535624504089355,
          10.07595157623291,
          10.729364395141602,
          10.113778114318848,
          9.456002235412598,
          10.848348617553711,
          8.56743335723877,
          10.544631958007812,
          9.424412727355957,
          9.994281768798828,
          10.4783353805542,
          9.885270118713379,
          9.557217597961426,
          9.796338081359863,
          10.069067001342773,
          10.18353271484375,
          9.711755752563477,
          10.358498573303223,
          9.185909271240234,
          10.226971626281738,
          9.869440078735352,
          10.200730323791504,
          8.329184532165527,
          10.05842399597168,
          10.789044380187988,
          10.877046585083008,
          8.917229652404785,
          10.42003345489502,
          10.073183059692383,
          9.805274963378906,
          10.125539779663086,
          10.483038902282715,
          8.967124938964844,
          10.913630485534668,
          10.422603607177734,
          10.870725631713867,
          9.827364921569824
         ],
         "y": [
          8.275227546691895,
          8.066492080688477,
          7.6063947677612305,
          7.206275939941406,
          8.024328231811523,
          7.925535202026367,
          7.806089878082275,
          7.530257225036621,
          7.316762924194336,
          7.3107008934021,
          7.987248420715332,
          7.243173122406006,
          7.06016731262207,
          7.149922847747803,
          7.078446865081787,
          8.106400489807129,
          7.752824306488037,
          7.353501319885254,
          7.366147518157959,
          8.09077262878418,
          7.628842353820801,
          6.803308010101318,
          7.413150310516357,
          7.043878555297852,
          7.158656597137451,
          8.058156967163086,
          7.391174793243408,
          7.564956188201904,
          7.895126819610596,
          7.635578632354736,
          8.045928001403809,
          7.119143486022949,
          7.379786491394043,
          7.397042274475098,
          7.913222312927246,
          8.102714538574219,
          7.518747329711914,
          7.52778959274292,
          8.32144546508789,
          8.110867500305176,
          7.5944414138793945,
          8.384905815124512,
          8.14555835723877,
          7.916003704071045,
          8.265829086303711,
          8.12408447265625,
          7.754343032836914,
          8.19289779663086,
          7.906854152679443,
          6.430750846862793,
          8.038326263427734,
          8.211396217346191,
          8.484021186828613,
          6.676961421966553,
          8.095703125,
          8.474146842956543,
          7.806697845458984,
          6.6451287269592285,
          6.771254062652588,
          8.739106178283691,
          6.9209513664245605,
          7.847167491912842,
          7.877448081970215,
          7.386974811553955,
          7.412469387054443,
          7.559136390686035,
          7.664686679840088,
          7.0911431312561035,
          8.339534759521484,
          8.308362007141113,
          7.640769004821777,
          8.829025268554688,
          7.010437965393066,
          8.058311462402344,
          6.612321853637695,
          8.338491439819336,
          8.523679733276367,
          8.642224311828613,
          7.879525661468506,
          6.730807781219482,
          8.319208145141602,
          6.818993091583252,
          7.321455001831055,
          7.0443196296691895,
          7.889648914337158,
          7.713465690612793,
          7.1593337059021,
          8.035958290100098,
          6.739384174346924,
          6.542196273803711,
          6.724926948547363,
          6.817681312561035,
          7.6444902420043945,
          7.348883152008057,
          6.496224403381348,
          8.284667015075684,
          7.411766052246094
         ],
         "z": [
          8.37474250793457,
          8.980840682983398,
          8.059873580932617,
          8.267091751098633,
          8.901543617248535,
          9.049092292785645,
          7.864788055419922,
          7.475021839141846,
          7.862598419189453,
          9.059880256652832,
          8.377375602722168,
          8.460132598876953,
          9.195877075195312,
          7.884060382843018,
          7.767969131469727,
          7.908959865570068,
          8.633017539978027,
          7.463809967041016,
          8.472004890441895,
          8.231236457824707,
          8.169533729553223,
          8.158167839050293,
          8.110535621643066,
          8.76671028137207,
          8.151567459106445,
          7.497621059417725,
          8.623359680175781,
          6.786239147186279,
          7.377612113952637,
          9.118878364562988,
          7.19878625869751,
          8.714147567749023,
          7.736825942993164,
          8.8740234375,
          8.843475341796875,
          9.067353248596191,
          7.319116115570068,
          8.332058906555176,
          8.384612083435059,
          8.748893737792969,
          7.654139041900635,
          7.9992146492004395,
          8.25203800201416,
          6.768149375915527,
          8.763627052307129,
          7.657881259918213,
          6.833873748779297,
          7.379080772399902,
          9.088225364685059,
          8.807476043701172,
          6.751720428466797,
          7.790646553039551,
          7.413801670074463,
          8.241765022277832,
          9.33394718170166,
          8.916850090026855,
          7.424595355987549,
          9.013007164001465,
          8.871015548706055,
          8.505817413330078,
          8.21704387664795,
          8.902833938598633,
          8.552055358886719,
          9.18941593170166,
          9.30195140838623,
          8.296199798583984,
          9.274012565612793,
          8.762398719787598,
          7.984603404998779,
          7.048562526702881,
          9.14900016784668,
          8.491633415222168,
          8.8590087890625,
          9.32396125793457,
          8.853340148925781,
          7.804544925689697,
          7.582482814788818,
          7.948768615722656,
          7.9287638664245605,
          8.189126968383789,
          6.924596309661865,
          7.702213764190674,
          7.042398452758789,
          7.381196022033691,
          7.578237533569336,
          7.833038330078125,
          9.225074768066406,
          9.042737007141113,
          8.79464054107666,
          8.62145709991455,
          7.385916233062744,
          8.763365745544434,
          9.478805541992188,
          8.606209754943848,
          8.455461502075195,
          8.036036491394043,
          9.533360481262207
         ]
        }
       ],
       "layout": {
        "legend": {
         "title": {
          "text": "Condition"
         },
         "tracegroupgap": 0
        },
        "scene": {
         "domain": {
          "x": [
           0,
           1
          ],
          "y": [
           0,
           1
          ]
         },
         "xaxis": {
          "title": {
           "text": "UMAP1"
          }
         },
         "yaxis": {
          "title": {
           "text": "UMAP2"
          }
         },
         "zaxis": {
          "title": {
           "text": "UMAP3"
          }
         }
        },
        "template": {
         "data": {
          "bar": [
           {
            "error_x": {
             "color": "#2a3f5f"
            },
            "error_y": {
             "color": "#2a3f5f"
            },
            "marker": {
             "line": {
              "color": "#E5ECF6",
              "width": 0.5
             },
             "pattern": {
              "fillmode": "overlay",
              "size": 10,
              "solidity": 0.2
             }
            },
            "type": "bar"
           }
          ],
          "barpolar": [
           {
            "marker": {
             "line": {
              "color": "#E5ECF6",
              "width": 0.5
             },
             "pattern": {
              "fillmode": "overlay",
              "size": 10,
              "solidity": 0.2
             }
            },
            "type": "barpolar"
           }
          ],
          "carpet": [
           {
            "aaxis": {
             "endlinecolor": "#2a3f5f",
             "gridcolor": "white",
             "linecolor": "white",
             "minorgridcolor": "white",
             "startlinecolor": "#2a3f5f"
            },
            "baxis": {
             "endlinecolor": "#2a3f5f",
             "gridcolor": "white",
             "linecolor": "white",
             "minorgridcolor": "white",
             "startlinecolor": "#2a3f5f"
            },
            "type": "carpet"
           }
          ],
          "choropleth": [
           {
            "colorbar": {
             "outlinewidth": 0,
             "ticks": ""
            },
            "type": "choropleth"
           }
          ],
          "contour": [
           {
            "colorbar": {
             "outlinewidth": 0,
             "ticks": ""
            },
            "colorscale": [
             [
              0,
              "#0d0887"
             ],
             [
              0.1111111111111111,
              "#46039f"
             ],
             [
              0.2222222222222222,
              "#7201a8"
             ],
             [
              0.3333333333333333,
              "#9c179e"
             ],
             [
              0.4444444444444444,
              "#bd3786"
             ],
             [
              0.5555555555555556,
              "#d8576b"
             ],
             [
              0.6666666666666666,
              "#ed7953"
             ],
             [
              0.7777777777777778,
              "#fb9f3a"
             ],
             [
              0.8888888888888888,
              "#fdca26"
             ],
             [
              1,
              "#f0f921"
             ]
            ],
            "type": "contour"
           }
          ],
          "contourcarpet": [
           {
            "colorbar": {
             "outlinewidth": 0,
             "ticks": ""
            },
            "type": "contourcarpet"
           }
          ],
          "heatmap": [
           {
            "colorbar": {
             "outlinewidth": 0,
             "ticks": ""
            },
            "colorscale": [
             [
              0,
              "#0d0887"
             ],
             [
              0.1111111111111111,
              "#46039f"
             ],
             [
              0.2222222222222222,
              "#7201a8"
             ],
             [
              0.3333333333333333,
              "#9c179e"
             ],
             [
              0.4444444444444444,
              "#bd3786"
             ],
             [
              0.5555555555555556,
              "#d8576b"
             ],
             [
              0.6666666666666666,
              "#ed7953"
             ],
             [
              0.7777777777777778,
              "#fb9f3a"
             ],
             [
              0.8888888888888888,
              "#fdca26"
             ],
             [
              1,
              "#f0f921"
             ]
            ],
            "type": "heatmap"
           }
          ],
          "heatmapgl": [
           {
            "colorbar": {
             "outlinewidth": 0,
             "ticks": ""
            },
            "colorscale": [
             [
              0,
              "#0d0887"
             ],
             [
              0.1111111111111111,
              "#46039f"
             ],
             [
              0.2222222222222222,
              "#7201a8"
             ],
             [
              0.3333333333333333,
              "#9c179e"
             ],
             [
              0.4444444444444444,
              "#bd3786"
             ],
             [
              0.5555555555555556,
              "#d8576b"
             ],
             [
              0.6666666666666666,
              "#ed7953"
             ],
             [
              0.7777777777777778,
              "#fb9f3a"
             ],
             [
              0.8888888888888888,
              "#fdca26"
             ],
             [
              1,
              "#f0f921"
             ]
            ],
            "type": "heatmapgl"
           }
          ],
          "histogram": [
           {
            "marker": {
             "pattern": {
              "fillmode": "overlay",
              "size": 10,
              "solidity": 0.2
             }
            },
            "type": "histogram"
           }
          ],
          "histogram2d": [
           {
            "colorbar": {
             "outlinewidth": 0,
             "ticks": ""
            },
            "colorscale": [
             [
              0,
              "#0d0887"
             ],
             [
              0.1111111111111111,
              "#46039f"
             ],
             [
              0.2222222222222222,
              "#7201a8"
             ],
             [
              0.3333333333333333,
              "#9c179e"
             ],
             [
              0.4444444444444444,
              "#bd3786"
             ],
             [
              0.5555555555555556,
              "#d8576b"
             ],
             [
              0.6666666666666666,
              "#ed7953"
             ],
             [
              0.7777777777777778,
              "#fb9f3a"
             ],
             [
              0.8888888888888888,
              "#fdca26"
             ],
             [
              1,
              "#f0f921"
             ]
            ],
            "type": "histogram2d"
           }
          ],
          "histogram2dcontour": [
           {
            "colorbar": {
             "outlinewidth": 0,
             "ticks": ""
            },
            "colorscale": [
             [
              0,
              "#0d0887"
             ],
             [
              0.1111111111111111,
              "#46039f"
             ],
             [
              0.2222222222222222,
              "#7201a8"
             ],
             [
              0.3333333333333333,
              "#9c179e"
             ],
             [
              0.4444444444444444,
              "#bd3786"
             ],
             [
              0.5555555555555556,
              "#d8576b"
             ],
             [
              0.6666666666666666,
              "#ed7953"
             ],
             [
              0.7777777777777778,
              "#fb9f3a"
             ],
             [
              0.8888888888888888,
              "#fdca26"
             ],
             [
              1,
              "#f0f921"
             ]
            ],
            "type": "histogram2dcontour"
           }
          ],
          "mesh3d": [
           {
            "colorbar": {
             "outlinewidth": 0,
             "ticks": ""
            },
            "type": "mesh3d"
           }
          ],
          "parcoords": [
           {
            "line": {
             "colorbar": {
              "outlinewidth": 0,
              "ticks": ""
             }
            },
            "type": "parcoords"
           }
          ],
          "pie": [
           {
            "automargin": true,
            "type": "pie"
           }
          ],
          "scatter": [
           {
            "fillpattern": {
             "fillmode": "overlay",
             "size": 10,
             "solidity": 0.2
            },
            "type": "scatter"
           }
          ],
          "scatter3d": [
           {
            "line": {
             "colorbar": {
              "outlinewidth": 0,
              "ticks": ""
             }
            },
            "marker": {
             "colorbar": {
              "outlinewidth": 0,
              "ticks": ""
             }
            },
            "type": "scatter3d"
           }
          ],
          "scattercarpet": [
           {
            "marker": {
             "colorbar": {
              "outlinewidth": 0,
              "ticks": ""
             }
            },
            "type": "scattercarpet"
           }
          ],
          "scattergeo": [
           {
            "marker": {
             "colorbar": {
              "outlinewidth": 0,
              "ticks": ""
             }
            },
            "type": "scattergeo"
           }
          ],
          "scattergl": [
           {
            "marker": {
             "colorbar": {
              "outlinewidth": 0,
              "ticks": ""
             }
            },
            "type": "scattergl"
           }
          ],
          "scattermapbox": [
           {
            "marker": {
             "colorbar": {
              "outlinewidth": 0,
              "ticks": ""
             }
            },
            "type": "scattermapbox"
           }
          ],
          "scatterpolar": [
           {
            "marker": {
             "colorbar": {
              "outlinewidth": 0,
              "ticks": ""
             }
            },
            "type": "scatterpolar"
           }
          ],
          "scatterpolargl": [
           {
            "marker": {
             "colorbar": {
              "outlinewidth": 0,
              "ticks": ""
             }
            },
            "type": "scatterpolargl"
           }
          ],
          "scatterternary": [
           {
            "marker": {
             "colorbar": {
              "outlinewidth": 0,
              "ticks": ""
             }
            },
            "type": "scatterternary"
           }
          ],
          "surface": [
           {
            "colorbar": {
             "outlinewidth": 0,
             "ticks": ""
            },
            "colorscale": [
             [
              0,
              "#0d0887"
             ],
             [
              0.1111111111111111,
              "#46039f"
             ],
             [
              0.2222222222222222,
              "#7201a8"
             ],
             [
              0.3333333333333333,
              "#9c179e"
             ],
             [
              0.4444444444444444,
              "#bd3786"
             ],
             [
              0.5555555555555556,
              "#d8576b"
             ],
             [
              0.6666666666666666,
              "#ed7953"
             ],
             [
              0.7777777777777778,
              "#fb9f3a"
             ],
             [
              0.8888888888888888,
              "#fdca26"
             ],
             [
              1,
              "#f0f921"
             ]
            ],
            "type": "surface"
           }
          ],
          "table": [
           {
            "cells": {
             "fill": {
              "color": "#EBF0F8"
             },
             "line": {
              "color": "white"
             }
            },
            "header": {
             "fill": {
              "color": "#C8D4E3"
             },
             "line": {
              "color": "white"
             }
            },
            "type": "table"
           }
          ]
         },
         "layout": {
          "annotationdefaults": {
           "arrowcolor": "#2a3f5f",
           "arrowhead": 0,
           "arrowwidth": 1
          },
          "autotypenumbers": "strict",
          "coloraxis": {
           "colorbar": {
            "outlinewidth": 0,
            "ticks": ""
           }
          },
          "colorscale": {
           "diverging": [
            [
             0,
             "#8e0152"
            ],
            [
             0.1,
             "#c51b7d"
            ],
            [
             0.2,
             "#de77ae"
            ],
            [
             0.3,
             "#f1b6da"
            ],
            [
             0.4,
             "#fde0ef"
            ],
            [
             0.5,
             "#f7f7f7"
            ],
            [
             0.6,
             "#e6f5d0"
            ],
            [
             0.7,
             "#b8e186"
            ],
            [
             0.8,
             "#7fbc41"
            ],
            [
             0.9,
             "#4d9221"
            ],
            [
             1,
             "#276419"
            ]
           ],
           "sequential": [
            [
             0,
             "#0d0887"
            ],
            [
             0.1111111111111111,
             "#46039f"
            ],
            [
             0.2222222222222222,
             "#7201a8"
            ],
            [
             0.3333333333333333,
             "#9c179e"
            ],
            [
             0.4444444444444444,
             "#bd3786"
            ],
            [
             0.5555555555555556,
             "#d8576b"
            ],
            [
             0.6666666666666666,
             "#ed7953"
            ],
            [
             0.7777777777777778,
             "#fb9f3a"
            ],
            [
             0.8888888888888888,
             "#fdca26"
            ],
            [
             1,
             "#f0f921"
            ]
           ],
           "sequentialminus": [
            [
             0,
             "#0d0887"
            ],
            [
             0.1111111111111111,
             "#46039f"
            ],
            [
             0.2222222222222222,
             "#7201a8"
            ],
            [
             0.3333333333333333,
             "#9c179e"
            ],
            [
             0.4444444444444444,
             "#bd3786"
            ],
            [
             0.5555555555555556,
             "#d8576b"
            ],
            [
             0.6666666666666666,
             "#ed7953"
            ],
            [
             0.7777777777777778,
             "#fb9f3a"
            ],
            [
             0.8888888888888888,
             "#fdca26"
            ],
            [
             1,
             "#f0f921"
            ]
           ]
          },
          "colorway": [
           "#636efa",
           "#EF553B",
           "#00cc96",
           "#ab63fa",
           "#FFA15A",
           "#19d3f3",
           "#FF6692",
           "#B6E880",
           "#FF97FF",
           "#FECB52"
          ],
          "font": {
           "color": "#2a3f5f"
          },
          "geo": {
           "bgcolor": "white",
           "lakecolor": "white",
           "landcolor": "#E5ECF6",
           "showlakes": true,
           "showland": true,
           "subunitcolor": "white"
          },
          "hoverlabel": {
           "align": "left"
          },
          "hovermode": "closest",
          "mapbox": {
           "style": "light"
          },
          "paper_bgcolor": "white",
          "plot_bgcolor": "#E5ECF6",
          "polar": {
           "angularaxis": {
            "gridcolor": "white",
            "linecolor": "white",
            "ticks": ""
           },
           "bgcolor": "#E5ECF6",
           "radialaxis": {
            "gridcolor": "white",
            "linecolor": "white",
            "ticks": ""
           }
          },
          "scene": {
           "xaxis": {
            "backgroundcolor": "#E5ECF6",
            "gridcolor": "white",
            "gridwidth": 2,
            "linecolor": "white",
            "showbackground": true,
            "ticks": "",
            "zerolinecolor": "white"
           },
           "yaxis": {
            "backgroundcolor": "#E5ECF6",
            "gridcolor": "white",
            "gridwidth": 2,
            "linecolor": "white",
            "showbackground": true,
            "ticks": "",
            "zerolinecolor": "white"
           },
           "zaxis": {
            "backgroundcolor": "#E5ECF6",
            "gridcolor": "white",
            "gridwidth": 2,
            "linecolor": "white",
            "showbackground": true,
            "ticks": "",
            "zerolinecolor": "white"
           }
          },
          "shapedefaults": {
           "line": {
            "color": "#2a3f5f"
           }
          },
          "ternary": {
           "aaxis": {
            "gridcolor": "white",
            "linecolor": "white",
            "ticks": ""
           },
           "baxis": {
            "gridcolor": "white",
            "linecolor": "white",
            "ticks": ""
           },
           "bgcolor": "#E5ECF6",
           "caxis": {
            "gridcolor": "white",
            "linecolor": "white",
            "ticks": ""
           }
          },
          "title": {
           "x": 0.05
          },
          "xaxis": {
           "automargin": true,
           "gridcolor": "white",
           "linecolor": "white",
           "ticks": "",
           "title": {
            "standoff": 15
           },
           "zerolinecolor": "white",
           "zerolinewidth": 2
          },
          "yaxis": {
           "automargin": true,
           "gridcolor": "white",
           "linecolor": "white",
           "ticks": "",
           "title": {
            "standoff": 15
           },
           "zerolinecolor": "white",
           "zerolinewidth": 2
          }
         }
        },
        "title": {
         "text": "3-dimensional representation of the data with UMAP, n_neighbors = 181"
        }
       }
      }
     },
     "metadata": {},
     "output_type": "display_data"
    }
   ],
   "source": [
    "import umap.umap_ as umap\n",
    "\n",
    "n_neighbors_list = [2, 10, 50, df_dim_red.shape[0]-1]\n",
    "\n",
    "umap_dict = {}\n",
    "for n in n_neighbors_list:\n",
    "    reducer = umap.UMAP(n_components=3, n_neighbors=n)\n",
    "    embedding = reducer.fit_transform(df_dim_red)\n",
    "    columns = [f'UMAP{i+1}' for i in range(embedding.shape[1])]\n",
    "    umap_embedding_df = pd.DataFrame(embedding, columns=columns, index=df_dim_red.index)\n",
    "    merged_umap = pd.merge(umap_embedding_df, df_metaH['Condition'], left_index=True, right_index=True)\n",
    "    merged_umap['n_neighbors'] = [n]*df_dim_red.shape[0]\n",
    "    umap_dict[n] = merged_umap\n",
    "    \n",
    "    fig = px.scatter_3d(\n",
    "    data_frame = merged_umap,\n",
    "    x = \"UMAP1\",\n",
    "    y = \"UMAP2\",\n",
    "    z = \"UMAP3\",\n",
    "    title=f\"3-dimensional representation of the data with UMAP, n_neighbors = {n}\",\n",
    "    color = \"Condition\"\n",
    "    )\n",
    "    fig.show()"
   ]
  }
 ],
 "metadata": {
  "kernelspec": {
   "display_name": "base",
   "language": "python",
   "name": "python3"
  },
  "language_info": {
   "codemirror_mode": {
    "name": "ipython",
    "version": 3
   },
   "file_extension": ".py",
   "mimetype": "text/x-python",
   "name": "python",
   "nbconvert_exporter": "python",
   "pygments_lexer": "ipython3",
   "version": "3.11.5"
  },
  "vscode": {
   "interpreter": {
    "hash": "7f217336c97d15ce4a94207d0500046615b0bc55fbf2d342e9c35c59defb6831"
   }
  }
 },
 "nbformat": 4,
 "nbformat_minor": 2
}
