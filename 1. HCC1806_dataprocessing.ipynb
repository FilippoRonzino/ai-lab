{
 "cells": [
  {
   "attachments": {},
   "cell_type": "markdown",
   "metadata": {},
   "source": [
    "# HCC1806 Data Preprocessing\n",
    "\n",
    "## Introduction\n",
    "The structure of the file is the following:\n",
    "1. EDA (Exploratory Data Analysis)\n",
    "    * Metadata Files\n",
    "    * Sequencing Data (HCC1806)\n",
    "        * Description\n",
    "        * Duplicates    \n",
    "            * Cells correlation \n",
    "        * Sparsity and NANs\n",
    "        * Labeling\n",
    "        * Outliers\n",
    "            * Boxplot\n",
    "            * IQR\n",
    "            * After Normalization  \n",
    "        * Distribution\n",
    "            * Histogram\n",
    "            * (Density Plot)\n",
    "            * Test for Normality\n",
    "            * Test for other distributions\n",
    "        * Correlation\n",
    "            * More on cells correlation\n",
    "            * Genes correlation\n",
    "        * Transformations\n",
    "        * Normalization\n",
    "\n",
    "2. Dimensionality Reduction \n",
    "## Materials and Methods\n",
    "\n",
    "## Libraries"
   ]
  },
  {
   "cell_type": "markdown",
   "metadata": {},
   "source": [
    "We start checking for libraries that are needed"
   ]
  },
  {
   "cell_type": "code",
   "execution_count": 1,
   "metadata": {},
   "outputs": [
    {
     "name": "stdout",
     "output_type": "stream",
     "text": [
      "Requirement already satisfied: pandas in /opt/anaconda3/lib/python3.11/site-packages (2.1.4)\n",
      "Requirement already satisfied: numpy<2,>=1.23.2 in /opt/anaconda3/lib/python3.11/site-packages (from pandas) (1.26.4)\n",
      "Requirement already satisfied: python-dateutil>=2.8.2 in /opt/anaconda3/lib/python3.11/site-packages (from pandas) (2.8.2)\n",
      "Requirement already satisfied: pytz>=2020.1 in /opt/anaconda3/lib/python3.11/site-packages (from pandas) (2023.3.post1)\n",
      "Requirement already satisfied: tzdata>=2022.1 in /opt/anaconda3/lib/python3.11/site-packages (from pandas) (2023.3)\n",
      "Requirement already satisfied: six>=1.5 in /opt/anaconda3/lib/python3.11/site-packages (from python-dateutil>=2.8.2->pandas) (1.16.0)\n",
      "Collecting numpy==1.19.5\n",
      "  Using cached numpy-1.19.5.zip (7.3 MB)\n",
      "  Installing build dependencies ... \u001b[?25ldone\n",
      "\u001b[?25h  Getting requirements to build wheel ... \u001b[?25ldone\n",
      "\u001b[?25h  Preparing metadata (pyproject.toml) ... \u001b[?25ldone\n",
      "\u001b[?25hBuilding wheels for collected packages: numpy\n",
      "  Building wheel for numpy (pyproject.toml) ... \u001b[?25lerror\n",
      "  \u001b[1;31merror\u001b[0m: \u001b[1msubprocess-exited-with-error\u001b[0m\n",
      "  \n",
      "  \u001b[31m×\u001b[0m \u001b[32mBuilding wheel for numpy \u001b[0m\u001b[1;32m(\u001b[0m\u001b[32mpyproject.toml\u001b[0m\u001b[1;32m)\u001b[0m did not run successfully.\n",
      "  \u001b[31m│\u001b[0m exit code: \u001b[1;36m1\u001b[0m\n",
      "  \u001b[31m╰─>\u001b[0m \u001b[31m[1032 lines of output]\u001b[0m\n",
      "  \u001b[31m   \u001b[0m setup.py:67: RuntimeWarning: NumPy 1.19.5 may not yet support Python 3.11.\n",
      "  \u001b[31m   \u001b[0m   warnings.warn(\n",
      "  \u001b[31m   \u001b[0m Running from numpy source directory.\n",
      "  \u001b[31m   \u001b[0m Cythonizing sources\n",
      "  \u001b[31m   \u001b[0m numpy/random/_bounded_integers.pxd.in has not changed\n",
      "  \u001b[31m   \u001b[0m numpy/random/_philox.pyx has not changed\n",
      "  \u001b[31m   \u001b[0m numpy/random/_bounded_integers.pyx.in has not changed\n",
      "  \u001b[31m   \u001b[0m numpy/random/_sfc64.pyx has not changed\n",
      "  \u001b[31m   \u001b[0m numpy/random/_mt19937.pyx has not changed\n",
      "  \u001b[31m   \u001b[0m numpy/random/bit_generator.pyx has not changed\n",
      "  \u001b[31m   \u001b[0m Processing numpy/random/_bounded_integers.pyx\n",
      "  \u001b[31m   \u001b[0m numpy/random/mtrand.pyx has not changed\n",
      "  \u001b[31m   \u001b[0m numpy/random/_generator.pyx has not changed\n",
      "  \u001b[31m   \u001b[0m numpy/random/_pcg64.pyx has not changed\n",
      "  \u001b[31m   \u001b[0m numpy/random/_common.pyx has not changed\n",
      "  \u001b[31m   \u001b[0m blas_opt_info:\n",
      "  \u001b[31m   \u001b[0m blas_mkl_info:\n",
      "  \u001b[31m   \u001b[0m customize UnixCCompiler\n",
      "  \u001b[31m   \u001b[0m   libraries mkl_rt not found in ['/opt/anaconda3/lib', '/usr/lib']\n",
      "  \u001b[31m   \u001b[0m   NOT AVAILABLE\n",
      "  \u001b[31m   \u001b[0m \n",
      "  \u001b[31m   \u001b[0m blis_info:\n",
      "  \u001b[31m   \u001b[0m   libraries blis not found in ['/opt/anaconda3/lib', '/usr/lib']\n",
      "  \u001b[31m   \u001b[0m   NOT AVAILABLE\n",
      "  \u001b[31m   \u001b[0m \n",
      "  \u001b[31m   \u001b[0m openblas_info:\n",
      "  \u001b[31m   \u001b[0m C compiler: clang -DNDEBUG -fwrapv -O2 -Wall -fPIC -O2 -isystem /opt/anaconda3/include -arch arm64 -fPIC -O2 -isystem /opt/anaconda3/include -arch arm64\n",
      "  \u001b[31m   \u001b[0m \n",
      "  \u001b[31m   \u001b[0m creating /var/folders/l5/l2yq9xlj55l1p5qsn5c6n5wh0000gn/T/tmplu4prccd/var\n",
      "  \u001b[31m   \u001b[0m creating /var/folders/l5/l2yq9xlj55l1p5qsn5c6n5wh0000gn/T/tmplu4prccd/var/folders\n",
      "  \u001b[31m   \u001b[0m creating /var/folders/l5/l2yq9xlj55l1p5qsn5c6n5wh0000gn/T/tmplu4prccd/var/folders/l5\n",
      "  \u001b[31m   \u001b[0m creating /var/folders/l5/l2yq9xlj55l1p5qsn5c6n5wh0000gn/T/tmplu4prccd/var/folders/l5/l2yq9xlj55l1p5qsn5c6n5wh0000gn\n",
      "  \u001b[31m   \u001b[0m creating /var/folders/l5/l2yq9xlj55l1p5qsn5c6n5wh0000gn/T/tmplu4prccd/var/folders/l5/l2yq9xlj55l1p5qsn5c6n5wh0000gn/T\n",
      "  \u001b[31m   \u001b[0m creating /var/folders/l5/l2yq9xlj55l1p5qsn5c6n5wh0000gn/T/tmplu4prccd/var/folders/l5/l2yq9xlj55l1p5qsn5c6n5wh0000gn/T/tmplu4prccd\n",
      "  \u001b[31m   \u001b[0m compile options: '-c'\n",
      "  \u001b[31m   \u001b[0m clang: /var/folders/l5/l2yq9xlj55l1p5qsn5c6n5wh0000gn/T/tmplu4prccd/source.c\n",
      "  \u001b[31m   \u001b[0m clang /var/folders/l5/l2yq9xlj55l1p5qsn5c6n5wh0000gn/T/tmplu4prccd/var/folders/l5/l2yq9xlj55l1p5qsn5c6n5wh0000gn/T/tmplu4prccd/source.o -L/opt/anaconda3/lib -lopenblas -o /var/folders/l5/l2yq9xlj55l1p5qsn5c6n5wh0000gn/T/tmplu4prccd/a.out\n",
      "  \u001b[31m   \u001b[0m   FOUND:\n",
      "  \u001b[31m   \u001b[0m     libraries = ['openblas', 'openblas']\n",
      "  \u001b[31m   \u001b[0m     library_dirs = ['/opt/anaconda3/lib']\n",
      "  \u001b[31m   \u001b[0m     language = c\n",
      "  \u001b[31m   \u001b[0m     define_macros = [('HAVE_CBLAS', None)]\n",
      "  \u001b[31m   \u001b[0m \n",
      "  \u001b[31m   \u001b[0m   FOUND:\n",
      "  \u001b[31m   \u001b[0m     libraries = ['openblas', 'openblas']\n",
      "  \u001b[31m   \u001b[0m     library_dirs = ['/opt/anaconda3/lib']\n",
      "  \u001b[31m   \u001b[0m     language = c\n",
      "  \u001b[31m   \u001b[0m     define_macros = [('HAVE_CBLAS', None)]\n",
      "  \u001b[31m   \u001b[0m \n",
      "  \u001b[31m   \u001b[0m non-existing path in 'numpy/distutils': 'site.cfg'\n",
      "  \u001b[31m   \u001b[0m lapack_opt_info:\n",
      "  \u001b[31m   \u001b[0m lapack_mkl_info:\n",
      "  \u001b[31m   \u001b[0m   libraries mkl_rt not found in ['/opt/anaconda3/lib', '/usr/lib']\n",
      "  \u001b[31m   \u001b[0m   NOT AVAILABLE\n",
      "  \u001b[31m   \u001b[0m \n",
      "  \u001b[31m   \u001b[0m openblas_lapack_info:\n",
      "  \u001b[31m   \u001b[0m C compiler: clang -DNDEBUG -fwrapv -O2 -Wall -fPIC -O2 -isystem /opt/anaconda3/include -arch arm64 -fPIC -O2 -isystem /opt/anaconda3/include -arch arm64\n",
      "  \u001b[31m   \u001b[0m \n",
      "  \u001b[31m   \u001b[0m creating /var/folders/l5/l2yq9xlj55l1p5qsn5c6n5wh0000gn/T/tmpgg6flav_/var\n",
      "  \u001b[31m   \u001b[0m creating /var/folders/l5/l2yq9xlj55l1p5qsn5c6n5wh0000gn/T/tmpgg6flav_/var/folders\n",
      "  \u001b[31m   \u001b[0m creating /var/folders/l5/l2yq9xlj55l1p5qsn5c6n5wh0000gn/T/tmpgg6flav_/var/folders/l5\n",
      "  \u001b[31m   \u001b[0m creating /var/folders/l5/l2yq9xlj55l1p5qsn5c6n5wh0000gn/T/tmpgg6flav_/var/folders/l5/l2yq9xlj55l1p5qsn5c6n5wh0000gn\n",
      "  \u001b[31m   \u001b[0m creating /var/folders/l5/l2yq9xlj55l1p5qsn5c6n5wh0000gn/T/tmpgg6flav_/var/folders/l5/l2yq9xlj55l1p5qsn5c6n5wh0000gn/T\n",
      "  \u001b[31m   \u001b[0m creating /var/folders/l5/l2yq9xlj55l1p5qsn5c6n5wh0000gn/T/tmpgg6flav_/var/folders/l5/l2yq9xlj55l1p5qsn5c6n5wh0000gn/T/tmpgg6flav_\n",
      "  \u001b[31m   \u001b[0m compile options: '-c'\n",
      "  \u001b[31m   \u001b[0m clang: /var/folders/l5/l2yq9xlj55l1p5qsn5c6n5wh0000gn/T/tmpgg6flav_/source.c\n",
      "  \u001b[31m   \u001b[0m clang /var/folders/l5/l2yq9xlj55l1p5qsn5c6n5wh0000gn/T/tmpgg6flav_/var/folders/l5/l2yq9xlj55l1p5qsn5c6n5wh0000gn/T/tmpgg6flav_/source.o -L/opt/anaconda3/lib -lopenblas -o /var/folders/l5/l2yq9xlj55l1p5qsn5c6n5wh0000gn/T/tmpgg6flav_/a.out\n",
      "  \u001b[31m   \u001b[0m   FOUND:\n",
      "  \u001b[31m   \u001b[0m     libraries = ['openblas', 'openblas']\n",
      "  \u001b[31m   \u001b[0m     library_dirs = ['/opt/anaconda3/lib']\n",
      "  \u001b[31m   \u001b[0m     language = c\n",
      "  \u001b[31m   \u001b[0m     define_macros = [('HAVE_CBLAS', None)]\n",
      "  \u001b[31m   \u001b[0m \n",
      "  \u001b[31m   \u001b[0m   FOUND:\n",
      "  \u001b[31m   \u001b[0m     libraries = ['openblas', 'openblas']\n",
      "  \u001b[31m   \u001b[0m     library_dirs = ['/opt/anaconda3/lib']\n",
      "  \u001b[31m   \u001b[0m     language = c\n",
      "  \u001b[31m   \u001b[0m     define_macros = [('HAVE_CBLAS', None)]\n",
      "  \u001b[31m   \u001b[0m \n",
      "  \u001b[31m   \u001b[0m /private/var/folders/l5/l2yq9xlj55l1p5qsn5c6n5wh0000gn/T/pip-build-env-eu8_dt_n/overlay/lib/python3.11/site-packages/setuptools/_distutils/dist.py:275: UserWarning: Unknown distribution option: 'define_macros'\n",
      "  \u001b[31m   \u001b[0m   warnings.warn(msg)\n",
      "  \u001b[31m   \u001b[0m running bdist_wheel\n",
      "  \u001b[31m   \u001b[0m running build\n",
      "  \u001b[31m   \u001b[0m running config_cc\n",
      "  \u001b[31m   \u001b[0m unifing config_cc, config, build_clib, build_ext, build commands --compiler options\n",
      "  \u001b[31m   \u001b[0m running config_fc\n",
      "  \u001b[31m   \u001b[0m unifing config_fc, config, build_clib, build_ext, build commands --fcompiler options\n",
      "  \u001b[31m   \u001b[0m running build_src\n",
      "  \u001b[31m   \u001b[0m build_src\n",
      "  \u001b[31m   \u001b[0m building py_modules sources\n",
      "  \u001b[31m   \u001b[0m building library \"npymath\" sources\n",
      "  \u001b[31m   \u001b[0m Could not locate executable gfortran\n",
      "  \u001b[31m   \u001b[0m Could not locate executable f95\n",
      "  \u001b[31m   \u001b[0m Could not locate executable f90\n",
      "  \u001b[31m   \u001b[0m Could not locate executable f77\n",
      "  \u001b[31m   \u001b[0m Could not locate executable xlf90\n",
      "  \u001b[31m   \u001b[0m Could not locate executable xlf\n",
      "  \u001b[31m   \u001b[0m Could not locate executable ifort\n",
      "  \u001b[31m   \u001b[0m Could not locate executable ifc\n",
      "  \u001b[31m   \u001b[0m Could not locate executable g77\n",
      "  \u001b[31m   \u001b[0m Could not locate executable g95\n",
      "  \u001b[31m   \u001b[0m Could not locate executable pgfortran\n",
      "  \u001b[31m   \u001b[0m don't know how to compile Fortran code on platform 'posix'\n",
      "  \u001b[31m   \u001b[0m   adding 'build/src.macosx-11.0-arm64-3.11/numpy/core/src/npymath' to include_dirs.\n",
      "  \u001b[31m   \u001b[0m None - nothing done with h_files = ['build/src.macosx-11.0-arm64-3.11/numpy/core/src/npymath/npy_math_internal.h']\n",
      "  \u001b[31m   \u001b[0m building library \"npysort\" sources\n",
      "  \u001b[31m   \u001b[0m   adding 'build/src.macosx-11.0-arm64-3.11/numpy/core/src/common' to include_dirs.\n",
      "  \u001b[31m   \u001b[0m None - nothing done with h_files = ['build/src.macosx-11.0-arm64-3.11/numpy/core/src/common/npy_sort.h', 'build/src.macosx-11.0-arm64-3.11/numpy/core/src/common/npy_partition.h', 'build/src.macosx-11.0-arm64-3.11/numpy/core/src/common/npy_binsearch.h']\n",
      "  \u001b[31m   \u001b[0m building library \"npyrandom\" sources\n",
      "  \u001b[31m   \u001b[0m building extension \"numpy.core._multiarray_tests\" sources\n",
      "  \u001b[31m   \u001b[0m building extension \"numpy.core._multiarray_umath\" sources\n",
      "  \u001b[31m   \u001b[0m   adding 'build/src.macosx-11.0-arm64-3.11/numpy/core/src/umath' to include_dirs.\n",
      "  \u001b[31m   \u001b[0m   adding 'build/src.macosx-11.0-arm64-3.11/numpy/core/src/npymath' to include_dirs.\n",
      "  \u001b[31m   \u001b[0m   adding 'build/src.macosx-11.0-arm64-3.11/numpy/core/src/common' to include_dirs.\n",
      "  \u001b[31m   \u001b[0m numpy.core - nothing done with h_files = ['build/src.macosx-11.0-arm64-3.11/numpy/core/src/umath/funcs.inc', 'build/src.macosx-11.0-arm64-3.11/numpy/core/src/umath/simd.inc', 'build/src.macosx-11.0-arm64-3.11/numpy/core/src/umath/loops.h', 'build/src.macosx-11.0-arm64-3.11/numpy/core/src/umath/matmul.h', 'build/src.macosx-11.0-arm64-3.11/numpy/core/src/umath/clip.h', 'build/src.macosx-11.0-arm64-3.11/numpy/core/src/npymath/npy_math_internal.h', 'build/src.macosx-11.0-arm64-3.11/numpy/core/src/common/templ_common.h', 'build/src.macosx-11.0-arm64-3.11/numpy/core/include/numpy/config.h', 'build/src.macosx-11.0-arm64-3.11/numpy/core/include/numpy/_numpyconfig.h', 'build/src.macosx-11.0-arm64-3.11/numpy/core/include/numpy/__multiarray_api.h', 'build/src.macosx-11.0-arm64-3.11/numpy/core/include/numpy/__ufunc_api.h']\n",
      "  \u001b[31m   \u001b[0m building extension \"numpy.core._umath_tests\" sources\n",
      "  \u001b[31m   \u001b[0m building extension \"numpy.core._rational_tests\" sources\n",
      "  \u001b[31m   \u001b[0m building extension \"numpy.core._struct_ufunc_tests\" sources\n",
      "  \u001b[31m   \u001b[0m building extension \"numpy.core._operand_flag_tests\" sources\n",
      "  \u001b[31m   \u001b[0m building extension \"numpy.fft._pocketfft_internal\" sources\n",
      "  \u001b[31m   \u001b[0m building extension \"numpy.linalg.lapack_lite\" sources\n",
      "  \u001b[31m   \u001b[0m building extension \"numpy.linalg._umath_linalg\" sources\n",
      "  \u001b[31m   \u001b[0m building extension \"numpy.random._mt19937\" sources\n",
      "  \u001b[31m   \u001b[0m building extension \"numpy.random._philox\" sources\n",
      "  \u001b[31m   \u001b[0m building extension \"numpy.random._pcg64\" sources\n",
      "  \u001b[31m   \u001b[0m building extension \"numpy.random._sfc64\" sources\n",
      "  \u001b[31m   \u001b[0m building extension \"numpy.random._common\" sources\n",
      "  \u001b[31m   \u001b[0m building extension \"numpy.random.bit_generator\" sources\n",
      "  \u001b[31m   \u001b[0m building extension \"numpy.random._generator\" sources\n",
      "  \u001b[31m   \u001b[0m building extension \"numpy.random._bounded_integers\" sources\n",
      "  \u001b[31m   \u001b[0m building extension \"numpy.random.mtrand\" sources\n",
      "  \u001b[31m   \u001b[0m building data_files sources\n",
      "  \u001b[31m   \u001b[0m build_src: building npy-pkg config files\n",
      "  \u001b[31m   \u001b[0m running build_py\n",
      "  \u001b[31m   \u001b[0m creating build/lib.macosx-11.0-arm64-3.11\n",
      "  \u001b[31m   \u001b[0m creating build/lib.macosx-11.0-arm64-3.11/numpy\n",
      "  \u001b[31m   \u001b[0m copying numpy/conftest.py -> build/lib.macosx-11.0-arm64-3.11/numpy\n",
      "  \u001b[31m   \u001b[0m copying numpy/version.py -> build/lib.macosx-11.0-arm64-3.11/numpy\n",
      "  \u001b[31m   \u001b[0m copying numpy/_globals.py -> build/lib.macosx-11.0-arm64-3.11/numpy\n",
      "  \u001b[31m   \u001b[0m copying numpy/__init__.py -> build/lib.macosx-11.0-arm64-3.11/numpy\n",
      "  \u001b[31m   \u001b[0m copying numpy/dual.py -> build/lib.macosx-11.0-arm64-3.11/numpy\n",
      "  \u001b[31m   \u001b[0m copying numpy/_distributor_init.py -> build/lib.macosx-11.0-arm64-3.11/numpy\n",
      "  \u001b[31m   \u001b[0m copying numpy/setup.py -> build/lib.macosx-11.0-arm64-3.11/numpy\n",
      "  \u001b[31m   \u001b[0m copying numpy/ctypeslib.py -> build/lib.macosx-11.0-arm64-3.11/numpy\n",
      "  \u001b[31m   \u001b[0m copying numpy/matlib.py -> build/lib.macosx-11.0-arm64-3.11/numpy\n",
      "  \u001b[31m   \u001b[0m copying numpy/_pytesttester.py -> build/lib.macosx-11.0-arm64-3.11/numpy\n",
      "  \u001b[31m   \u001b[0m copying build/src.macosx-11.0-arm64-3.11/numpy/__config__.py -> build/lib.macosx-11.0-arm64-3.11/numpy\n",
      "  \u001b[31m   \u001b[0m creating build/lib.macosx-11.0-arm64-3.11/numpy/compat\n",
      "  \u001b[31m   \u001b[0m copying numpy/compat/py3k.py -> build/lib.macosx-11.0-arm64-3.11/numpy/compat\n",
      "  \u001b[31m   \u001b[0m copying numpy/compat/__init__.py -> build/lib.macosx-11.0-arm64-3.11/numpy/compat\n",
      "  \u001b[31m   \u001b[0m copying numpy/compat/setup.py -> build/lib.macosx-11.0-arm64-3.11/numpy/compat\n",
      "  \u001b[31m   \u001b[0m copying numpy/compat/_inspect.py -> build/lib.macosx-11.0-arm64-3.11/numpy/compat\n",
      "  \u001b[31m   \u001b[0m creating build/lib.macosx-11.0-arm64-3.11/numpy/compat/tests\n",
      "  \u001b[31m   \u001b[0m copying numpy/compat/tests/__init__.py -> build/lib.macosx-11.0-arm64-3.11/numpy/compat/tests\n",
      "  \u001b[31m   \u001b[0m copying numpy/compat/tests/test_compat.py -> build/lib.macosx-11.0-arm64-3.11/numpy/compat/tests\n",
      "  \u001b[31m   \u001b[0m creating build/lib.macosx-11.0-arm64-3.11/numpy/core\n",
      "  \u001b[31m   \u001b[0m copying numpy/core/umath.py -> build/lib.macosx-11.0-arm64-3.11/numpy/core\n",
      "  \u001b[31m   \u001b[0m copying numpy/core/fromnumeric.py -> build/lib.macosx-11.0-arm64-3.11/numpy/core\n",
      "  \u001b[31m   \u001b[0m copying numpy/core/_dtype.py -> build/lib.macosx-11.0-arm64-3.11/numpy/core\n",
      "  \u001b[31m   \u001b[0m copying numpy/core/_add_newdocs.py -> build/lib.macosx-11.0-arm64-3.11/numpy/core\n",
      "  \u001b[31m   \u001b[0m copying numpy/core/_methods.py -> build/lib.macosx-11.0-arm64-3.11/numpy/core\n",
      "  \u001b[31m   \u001b[0m copying numpy/core/_internal.py -> build/lib.macosx-11.0-arm64-3.11/numpy/core\n",
      "  \u001b[31m   \u001b[0m copying numpy/core/_string_helpers.py -> build/lib.macosx-11.0-arm64-3.11/numpy/core\n",
      "  \u001b[31m   \u001b[0m copying numpy/core/multiarray.py -> build/lib.macosx-11.0-arm64-3.11/numpy/core\n",
      "  \u001b[31m   \u001b[0m copying numpy/core/_asarray.py -> build/lib.macosx-11.0-arm64-3.11/numpy/core\n",
      "  \u001b[31m   \u001b[0m copying numpy/core/records.py -> build/lib.macosx-11.0-arm64-3.11/numpy/core\n",
      "  \u001b[31m   \u001b[0m copying numpy/core/__init__.py -> build/lib.macosx-11.0-arm64-3.11/numpy/core\n",
      "  \u001b[31m   \u001b[0m copying numpy/core/setup_common.py -> build/lib.macosx-11.0-arm64-3.11/numpy/core\n",
      "  \u001b[31m   \u001b[0m copying numpy/core/memmap.py -> build/lib.macosx-11.0-arm64-3.11/numpy/core\n",
      "  \u001b[31m   \u001b[0m copying numpy/core/overrides.py -> build/lib.macosx-11.0-arm64-3.11/numpy/core\n",
      "  \u001b[31m   \u001b[0m copying numpy/core/getlimits.py -> build/lib.macosx-11.0-arm64-3.11/numpy/core\n",
      "  \u001b[31m   \u001b[0m copying numpy/core/_dtype_ctypes.py -> build/lib.macosx-11.0-arm64-3.11/numpy/core\n",
      "  \u001b[31m   \u001b[0m copying numpy/core/defchararray.py -> build/lib.macosx-11.0-arm64-3.11/numpy/core\n",
      "  \u001b[31m   \u001b[0m copying numpy/core/shape_base.py -> build/lib.macosx-11.0-arm64-3.11/numpy/core\n",
      "  \u001b[31m   \u001b[0m copying numpy/core/machar.py -> build/lib.macosx-11.0-arm64-3.11/numpy/core\n",
      "  \u001b[31m   \u001b[0m copying numpy/core/setup.py -> build/lib.macosx-11.0-arm64-3.11/numpy/core\n",
      "  \u001b[31m   \u001b[0m copying numpy/core/numeric.py -> build/lib.macosx-11.0-arm64-3.11/numpy/core\n",
      "  \u001b[31m   \u001b[0m copying numpy/core/function_base.py -> build/lib.macosx-11.0-arm64-3.11/numpy/core\n",
      "  \u001b[31m   \u001b[0m copying numpy/core/einsumfunc.py -> build/lib.macosx-11.0-arm64-3.11/numpy/core\n",
      "  \u001b[31m   \u001b[0m copying numpy/core/umath_tests.py -> build/lib.macosx-11.0-arm64-3.11/numpy/core\n",
      "  \u001b[31m   \u001b[0m copying numpy/core/_ufunc_config.py -> build/lib.macosx-11.0-arm64-3.11/numpy/core\n",
      "  \u001b[31m   \u001b[0m copying numpy/core/_exceptions.py -> build/lib.macosx-11.0-arm64-3.11/numpy/core\n",
      "  \u001b[31m   \u001b[0m copying numpy/core/numerictypes.py -> build/lib.macosx-11.0-arm64-3.11/numpy/core\n",
      "  \u001b[31m   \u001b[0m copying numpy/core/_type_aliases.py -> build/lib.macosx-11.0-arm64-3.11/numpy/core\n",
      "  \u001b[31m   \u001b[0m copying numpy/core/cversions.py -> build/lib.macosx-11.0-arm64-3.11/numpy/core\n",
      "  \u001b[31m   \u001b[0m copying numpy/core/arrayprint.py -> build/lib.macosx-11.0-arm64-3.11/numpy/core\n",
      "  \u001b[31m   \u001b[0m copying numpy/core/code_generators/generate_numpy_api.py -> build/lib.macosx-11.0-arm64-3.11/numpy/core\n",
      "  \u001b[31m   \u001b[0m creating build/lib.macosx-11.0-arm64-3.11/numpy/core/tests\n",
      "  \u001b[31m   \u001b[0m copying numpy/core/tests/test_numerictypes.py -> build/lib.macosx-11.0-arm64-3.11/numpy/core/tests\n",
      "  \u001b[31m   \u001b[0m copying numpy/core/tests/test_scalar_methods.py -> build/lib.macosx-11.0-arm64-3.11/numpy/core/tests\n",
      "  \u001b[31m   \u001b[0m copying numpy/core/tests/test_scalarmath.py -> build/lib.macosx-11.0-arm64-3.11/numpy/core/tests\n",
      "  \u001b[31m   \u001b[0m copying numpy/core/tests/test_item_selection.py -> build/lib.macosx-11.0-arm64-3.11/numpy/core/tests\n",
      "  \u001b[31m   \u001b[0m copying numpy/core/tests/test_machar.py -> build/lib.macosx-11.0-arm64-3.11/numpy/core/tests\n",
      "  \u001b[31m   \u001b[0m copying numpy/core/tests/test_unicode.py -> build/lib.macosx-11.0-arm64-3.11/numpy/core/tests\n",
      "  \u001b[31m   \u001b[0m copying numpy/core/tests/test_arrayprint.py -> build/lib.macosx-11.0-arm64-3.11/numpy/core/tests\n",
      "  \u001b[31m   \u001b[0m copying numpy/core/tests/test_scalarbuffer.py -> build/lib.macosx-11.0-arm64-3.11/numpy/core/tests\n",
      "  \u001b[31m   \u001b[0m copying numpy/core/tests/test_indexerrors.py -> build/lib.macosx-11.0-arm64-3.11/numpy/core/tests\n",
      "  \u001b[31m   \u001b[0m copying numpy/core/tests/test_print.py -> build/lib.macosx-11.0-arm64-3.11/numpy/core/tests\n",
      "  \u001b[31m   \u001b[0m copying numpy/core/tests/test_half.py -> build/lib.macosx-11.0-arm64-3.11/numpy/core/tests\n",
      "  \u001b[31m   \u001b[0m copying numpy/core/tests/test_mem_overlap.py -> build/lib.macosx-11.0-arm64-3.11/numpy/core/tests\n",
      "  \u001b[31m   \u001b[0m copying numpy/core/tests/test_shape_base.py -> build/lib.macosx-11.0-arm64-3.11/numpy/core/tests\n",
      "  \u001b[31m   \u001b[0m copying numpy/core/tests/test_deprecations.py -> build/lib.macosx-11.0-arm64-3.11/numpy/core/tests\n",
      "  \u001b[31m   \u001b[0m copying numpy/core/tests/__init__.py -> build/lib.macosx-11.0-arm64-3.11/numpy/core/tests\n",
      "  \u001b[31m   \u001b[0m copying numpy/core/tests/test_errstate.py -> build/lib.macosx-11.0-arm64-3.11/numpy/core/tests\n",
      "  \u001b[31m   \u001b[0m copying numpy/core/tests/test_records.py -> build/lib.macosx-11.0-arm64-3.11/numpy/core/tests\n",
      "  \u001b[31m   \u001b[0m copying numpy/core/tests/test_scalarinherit.py -> build/lib.macosx-11.0-arm64-3.11/numpy/core/tests\n",
      "  \u001b[31m   \u001b[0m copying numpy/core/tests/test_indexing.py -> build/lib.macosx-11.0-arm64-3.11/numpy/core/tests\n",
      "  \u001b[31m   \u001b[0m copying numpy/core/tests/test_umath.py -> build/lib.macosx-11.0-arm64-3.11/numpy/core/tests\n",
      "  \u001b[31m   \u001b[0m copying numpy/core/tests/test_numeric.py -> build/lib.macosx-11.0-arm64-3.11/numpy/core/tests\n",
      "  \u001b[31m   \u001b[0m copying numpy/core/tests/test_function_base.py -> build/lib.macosx-11.0-arm64-3.11/numpy/core/tests\n",
      "  \u001b[31m   \u001b[0m copying numpy/core/tests/test_datetime.py -> build/lib.macosx-11.0-arm64-3.11/numpy/core/tests\n",
      "  \u001b[31m   \u001b[0m copying numpy/core/tests/test__exceptions.py -> build/lib.macosx-11.0-arm64-3.11/numpy/core/tests\n",
      "  \u001b[31m   \u001b[0m copying numpy/core/tests/test_extint128.py -> build/lib.macosx-11.0-arm64-3.11/numpy/core/tests\n",
      "  \u001b[31m   \u001b[0m copying numpy/core/tests/test_umath_complex.py -> build/lib.macosx-11.0-arm64-3.11/numpy/core/tests\n",
      "  \u001b[31m   \u001b[0m copying numpy/core/tests/_locales.py -> build/lib.macosx-11.0-arm64-3.11/numpy/core/tests\n",
      "  \u001b[31m   \u001b[0m copying numpy/core/tests/test_defchararray.py -> build/lib.macosx-11.0-arm64-3.11/numpy/core/tests\n",
      "  \u001b[31m   \u001b[0m copying numpy/core/tests/test_conversion_utils.py -> build/lib.macosx-11.0-arm64-3.11/numpy/core/tests\n",
      "  \u001b[31m   \u001b[0m copying numpy/core/tests/test_scalarprint.py -> build/lib.macosx-11.0-arm64-3.11/numpy/core/tests\n",
      "  \u001b[31m   \u001b[0m copying numpy/core/tests/test_abc.py -> build/lib.macosx-11.0-arm64-3.11/numpy/core/tests\n",
      "  \u001b[31m   \u001b[0m copying numpy/core/tests/test_ufunc.py -> build/lib.macosx-11.0-arm64-3.11/numpy/core/tests\n",
      "  \u001b[31m   \u001b[0m copying numpy/core/tests/test_dtype.py -> build/lib.macosx-11.0-arm64-3.11/numpy/core/tests\n",
      "  \u001b[31m   \u001b[0m copying numpy/core/tests/test_umath_accuracy.py -> build/lib.macosx-11.0-arm64-3.11/numpy/core/tests\n",
      "  \u001b[31m   \u001b[0m copying numpy/core/tests/test_getlimits.py -> build/lib.macosx-11.0-arm64-3.11/numpy/core/tests\n",
      "  \u001b[31m   \u001b[0m copying numpy/core/tests/test_einsum.py -> build/lib.macosx-11.0-arm64-3.11/numpy/core/tests\n",
      "  \u001b[31m   \u001b[0m copying numpy/core/tests/test_api.py -> build/lib.macosx-11.0-arm64-3.11/numpy/core/tests\n",
      "  \u001b[31m   \u001b[0m copying numpy/core/tests/test_longdouble.py -> build/lib.macosx-11.0-arm64-3.11/numpy/core/tests\n",
      "  \u001b[31m   \u001b[0m copying numpy/core/tests/test_overrides.py -> build/lib.macosx-11.0-arm64-3.11/numpy/core/tests\n",
      "  \u001b[31m   \u001b[0m copying numpy/core/tests/test_scalar_ctors.py -> build/lib.macosx-11.0-arm64-3.11/numpy/core/tests\n",
      "  \u001b[31m   \u001b[0m copying numpy/core/tests/test_multiarray.py -> build/lib.macosx-11.0-arm64-3.11/numpy/core/tests\n",
      "  \u001b[31m   \u001b[0m copying numpy/core/tests/test_memmap.py -> build/lib.macosx-11.0-arm64-3.11/numpy/core/tests\n",
      "  \u001b[31m   \u001b[0m copying numpy/core/tests/test_nditer.py -> build/lib.macosx-11.0-arm64-3.11/numpy/core/tests\n",
      "  \u001b[31m   \u001b[0m copying numpy/core/tests/test_cpu_features.py -> build/lib.macosx-11.0-arm64-3.11/numpy/core/tests\n",
      "  \u001b[31m   \u001b[0m copying numpy/core/tests/test_protocols.py -> build/lib.macosx-11.0-arm64-3.11/numpy/core/tests\n",
      "  \u001b[31m   \u001b[0m copying numpy/core/tests/test_regression.py -> build/lib.macosx-11.0-arm64-3.11/numpy/core/tests\n",
      "  \u001b[31m   \u001b[0m creating build/lib.macosx-11.0-arm64-3.11/numpy/distutils\n",
      "  \u001b[31m   \u001b[0m copying numpy/distutils/unixccompiler.py -> build/lib.macosx-11.0-arm64-3.11/numpy/distutils\n",
      "  \u001b[31m   \u001b[0m copying numpy/distutils/numpy_distribution.py -> build/lib.macosx-11.0-arm64-3.11/numpy/distutils\n",
      "  \u001b[31m   \u001b[0m copying numpy/distutils/conv_template.py -> build/lib.macosx-11.0-arm64-3.11/numpy/distutils\n",
      "  \u001b[31m   \u001b[0m copying numpy/distutils/cpuinfo.py -> build/lib.macosx-11.0-arm64-3.11/numpy/distutils\n",
      "  \u001b[31m   \u001b[0m copying numpy/distutils/ccompiler.py -> build/lib.macosx-11.0-arm64-3.11/numpy/distutils\n",
      "  \u001b[31m   \u001b[0m copying numpy/distutils/msvc9compiler.py -> build/lib.macosx-11.0-arm64-3.11/numpy/distutils\n",
      "  \u001b[31m   \u001b[0m copying numpy/distutils/npy_pkg_config.py -> build/lib.macosx-11.0-arm64-3.11/numpy/distutils\n",
      "  \u001b[31m   \u001b[0m copying numpy/distutils/misc_util.py -> build/lib.macosx-11.0-arm64-3.11/numpy/distutils\n",
      "  \u001b[31m   \u001b[0m copying numpy/distutils/log.py -> build/lib.macosx-11.0-arm64-3.11/numpy/distutils\n",
      "  \u001b[31m   \u001b[0m copying numpy/distutils/line_endings.py -> build/lib.macosx-11.0-arm64-3.11/numpy/distutils\n",
      "  \u001b[31m   \u001b[0m copying numpy/distutils/lib2def.py -> build/lib.macosx-11.0-arm64-3.11/numpy/distutils\n",
      "  \u001b[31m   \u001b[0m copying numpy/distutils/pathccompiler.py -> build/lib.macosx-11.0-arm64-3.11/numpy/distutils\n",
      "  \u001b[31m   \u001b[0m copying numpy/distutils/system_info.py -> build/lib.macosx-11.0-arm64-3.11/numpy/distutils\n",
      "  \u001b[31m   \u001b[0m copying numpy/distutils/__init__.py -> build/lib.macosx-11.0-arm64-3.11/numpy/distutils\n",
      "  \u001b[31m   \u001b[0m copying numpy/distutils/core.py -> build/lib.macosx-11.0-arm64-3.11/numpy/distutils\n",
      "  \u001b[31m   \u001b[0m copying numpy/distutils/exec_command.py -> build/lib.macosx-11.0-arm64-3.11/numpy/distutils\n",
      "  \u001b[31m   \u001b[0m copying numpy/distutils/from_template.py -> build/lib.macosx-11.0-arm64-3.11/numpy/distutils\n",
      "  \u001b[31m   \u001b[0m copying numpy/distutils/mingw32ccompiler.py -> build/lib.macosx-11.0-arm64-3.11/numpy/distutils\n",
      "  \u001b[31m   \u001b[0m copying numpy/distutils/setup.py -> build/lib.macosx-11.0-arm64-3.11/numpy/distutils\n",
      "  \u001b[31m   \u001b[0m copying numpy/distutils/extension.py -> build/lib.macosx-11.0-arm64-3.11/numpy/distutils\n",
      "  \u001b[31m   \u001b[0m copying numpy/distutils/msvccompiler.py -> build/lib.macosx-11.0-arm64-3.11/numpy/distutils\n",
      "  \u001b[31m   \u001b[0m copying numpy/distutils/intelccompiler.py -> build/lib.macosx-11.0-arm64-3.11/numpy/distutils\n",
      "  \u001b[31m   \u001b[0m copying numpy/distutils/_shell_utils.py -> build/lib.macosx-11.0-arm64-3.11/numpy/distutils\n",
      "  \u001b[31m   \u001b[0m copying build/src.macosx-11.0-arm64-3.11/numpy/distutils/__config__.py -> build/lib.macosx-11.0-arm64-3.11/numpy/distutils\n",
      "  \u001b[31m   \u001b[0m creating build/lib.macosx-11.0-arm64-3.11/numpy/distutils/command\n",
      "  \u001b[31m   \u001b[0m copying numpy/distutils/command/build.py -> build/lib.macosx-11.0-arm64-3.11/numpy/distutils/command\n",
      "  \u001b[31m   \u001b[0m copying numpy/distutils/command/config_compiler.py -> build/lib.macosx-11.0-arm64-3.11/numpy/distutils/command\n",
      "  \u001b[31m   \u001b[0m copying numpy/distutils/command/build_ext.py -> build/lib.macosx-11.0-arm64-3.11/numpy/distutils/command\n",
      "  \u001b[31m   \u001b[0m copying numpy/distutils/command/config.py -> build/lib.macosx-11.0-arm64-3.11/numpy/distutils/command\n",
      "  \u001b[31m   \u001b[0m copying numpy/distutils/command/install_headers.py -> build/lib.macosx-11.0-arm64-3.11/numpy/distutils/command\n",
      "  \u001b[31m   \u001b[0m copying numpy/distutils/command/build_py.py -> build/lib.macosx-11.0-arm64-3.11/numpy/distutils/command\n",
      "  \u001b[31m   \u001b[0m copying numpy/distutils/command/build_src.py -> build/lib.macosx-11.0-arm64-3.11/numpy/distutils/command\n",
      "  \u001b[31m   \u001b[0m copying numpy/distutils/command/__init__.py -> build/lib.macosx-11.0-arm64-3.11/numpy/distutils/command\n",
      "  \u001b[31m   \u001b[0m copying numpy/distutils/command/sdist.py -> build/lib.macosx-11.0-arm64-3.11/numpy/distutils/command\n",
      "  \u001b[31m   \u001b[0m copying numpy/distutils/command/build_scripts.py -> build/lib.macosx-11.0-arm64-3.11/numpy/distutils/command\n",
      "  \u001b[31m   \u001b[0m copying numpy/distutils/command/bdist_rpm.py -> build/lib.macosx-11.0-arm64-3.11/numpy/distutils/command\n",
      "  \u001b[31m   \u001b[0m copying numpy/distutils/command/install_clib.py -> build/lib.macosx-11.0-arm64-3.11/numpy/distutils/command\n",
      "  \u001b[31m   \u001b[0m copying numpy/distutils/command/build_clib.py -> build/lib.macosx-11.0-arm64-3.11/numpy/distutils/command\n",
      "  \u001b[31m   \u001b[0m copying numpy/distutils/command/autodist.py -> build/lib.macosx-11.0-arm64-3.11/numpy/distutils/command\n",
      "  \u001b[31m   \u001b[0m copying numpy/distutils/command/egg_info.py -> build/lib.macosx-11.0-arm64-3.11/numpy/distutils/command\n",
      "  \u001b[31m   \u001b[0m copying numpy/distutils/command/install.py -> build/lib.macosx-11.0-arm64-3.11/numpy/distutils/command\n",
      "  \u001b[31m   \u001b[0m copying numpy/distutils/command/develop.py -> build/lib.macosx-11.0-arm64-3.11/numpy/distutils/command\n",
      "  \u001b[31m   \u001b[0m copying numpy/distutils/command/install_data.py -> build/lib.macosx-11.0-arm64-3.11/numpy/distutils/command\n",
      "  \u001b[31m   \u001b[0m creating build/lib.macosx-11.0-arm64-3.11/numpy/distutils/fcompiler\n",
      "  \u001b[31m   \u001b[0m copying numpy/distutils/fcompiler/gnu.py -> build/lib.macosx-11.0-arm64-3.11/numpy/distutils/fcompiler\n",
      "  \u001b[31m   \u001b[0m copying numpy/distutils/fcompiler/compaq.py -> build/lib.macosx-11.0-arm64-3.11/numpy/distutils/fcompiler\n",
      "  \u001b[31m   \u001b[0m copying numpy/distutils/fcompiler/intel.py -> build/lib.macosx-11.0-arm64-3.11/numpy/distutils/fcompiler\n",
      "  \u001b[31m   \u001b[0m copying numpy/distutils/fcompiler/none.py -> build/lib.macosx-11.0-arm64-3.11/numpy/distutils/fcompiler\n",
      "  \u001b[31m   \u001b[0m copying numpy/distutils/fcompiler/nag.py -> build/lib.macosx-11.0-arm64-3.11/numpy/distutils/fcompiler\n",
      "  \u001b[31m   \u001b[0m copying numpy/distutils/fcompiler/pg.py -> build/lib.macosx-11.0-arm64-3.11/numpy/distutils/fcompiler\n",
      "  \u001b[31m   \u001b[0m copying numpy/distutils/fcompiler/ibm.py -> build/lib.macosx-11.0-arm64-3.11/numpy/distutils/fcompiler\n",
      "  \u001b[31m   \u001b[0m copying numpy/distutils/fcompiler/sun.py -> build/lib.macosx-11.0-arm64-3.11/numpy/distutils/fcompiler\n",
      "  \u001b[31m   \u001b[0m copying numpy/distutils/fcompiler/nv.py -> build/lib.macosx-11.0-arm64-3.11/numpy/distutils/fcompiler\n",
      "  \u001b[31m   \u001b[0m copying numpy/distutils/fcompiler/lahey.py -> build/lib.macosx-11.0-arm64-3.11/numpy/distutils/fcompiler\n",
      "  \u001b[31m   \u001b[0m copying numpy/distutils/fcompiler/__init__.py -> build/lib.macosx-11.0-arm64-3.11/numpy/distutils/fcompiler\n",
      "  \u001b[31m   \u001b[0m copying numpy/distutils/fcompiler/g95.py -> build/lib.macosx-11.0-arm64-3.11/numpy/distutils/fcompiler\n",
      "  \u001b[31m   \u001b[0m copying numpy/distutils/fcompiler/mips.py -> build/lib.macosx-11.0-arm64-3.11/numpy/distutils/fcompiler\n",
      "  \u001b[31m   \u001b[0m copying numpy/distutils/fcompiler/hpux.py -> build/lib.macosx-11.0-arm64-3.11/numpy/distutils/fcompiler\n",
      "  \u001b[31m   \u001b[0m copying numpy/distutils/fcompiler/environment.py -> build/lib.macosx-11.0-arm64-3.11/numpy/distutils/fcompiler\n",
      "  \u001b[31m   \u001b[0m copying numpy/distutils/fcompiler/pathf95.py -> build/lib.macosx-11.0-arm64-3.11/numpy/distutils/fcompiler\n",
      "  \u001b[31m   \u001b[0m copying numpy/distutils/fcompiler/absoft.py -> build/lib.macosx-11.0-arm64-3.11/numpy/distutils/fcompiler\n",
      "  \u001b[31m   \u001b[0m copying numpy/distutils/fcompiler/vast.py -> build/lib.macosx-11.0-arm64-3.11/numpy/distutils/fcompiler\n",
      "  \u001b[31m   \u001b[0m creating build/lib.macosx-11.0-arm64-3.11/numpy/distutils/tests\n",
      "  \u001b[31m   \u001b[0m copying numpy/distutils/tests/test_system_info.py -> build/lib.macosx-11.0-arm64-3.11/numpy/distutils/tests\n",
      "  \u001b[31m   \u001b[0m copying numpy/distutils/tests/test_mingw32ccompiler.py -> build/lib.macosx-11.0-arm64-3.11/numpy/distutils/tests\n",
      "  \u001b[31m   \u001b[0m copying numpy/distutils/tests/test_from_template.py -> build/lib.macosx-11.0-arm64-3.11/numpy/distutils/tests\n",
      "  \u001b[31m   \u001b[0m copying numpy/distutils/tests/__init__.py -> build/lib.macosx-11.0-arm64-3.11/numpy/distutils/tests\n",
      "  \u001b[31m   \u001b[0m copying numpy/distutils/tests/test_fcompiler_intel.py -> build/lib.macosx-11.0-arm64-3.11/numpy/distutils/tests\n",
      "  \u001b[31m   \u001b[0m copying numpy/distutils/tests/test_misc_util.py -> build/lib.macosx-11.0-arm64-3.11/numpy/distutils/tests\n",
      "  \u001b[31m   \u001b[0m copying numpy/distutils/tests/test_fcompiler.py -> build/lib.macosx-11.0-arm64-3.11/numpy/distutils/tests\n",
      "  \u001b[31m   \u001b[0m copying numpy/distutils/tests/test_shell_utils.py -> build/lib.macosx-11.0-arm64-3.11/numpy/distutils/tests\n",
      "  \u001b[31m   \u001b[0m copying numpy/distutils/tests/test_exec_command.py -> build/lib.macosx-11.0-arm64-3.11/numpy/distutils/tests\n",
      "  \u001b[31m   \u001b[0m copying numpy/distutils/tests/test_npy_pkg_config.py -> build/lib.macosx-11.0-arm64-3.11/numpy/distutils/tests\n",
      "  \u001b[31m   \u001b[0m copying numpy/distutils/tests/test_fcompiler_nagfor.py -> build/lib.macosx-11.0-arm64-3.11/numpy/distutils/tests\n",
      "  \u001b[31m   \u001b[0m copying numpy/distutils/tests/test_fcompiler_gnu.py -> build/lib.macosx-11.0-arm64-3.11/numpy/distutils/tests\n",
      "  \u001b[31m   \u001b[0m creating build/lib.macosx-11.0-arm64-3.11/numpy/doc\n",
      "  \u001b[31m   \u001b[0m copying numpy/doc/misc.py -> build/lib.macosx-11.0-arm64-3.11/numpy/doc\n",
      "  \u001b[31m   \u001b[0m copying numpy/doc/internals.py -> build/lib.macosx-11.0-arm64-3.11/numpy/doc\n",
      "  \u001b[31m   \u001b[0m copying numpy/doc/creation.py -> build/lib.macosx-11.0-arm64-3.11/numpy/doc\n",
      "  \u001b[31m   \u001b[0m copying numpy/doc/dispatch.py -> build/lib.macosx-11.0-arm64-3.11/numpy/doc\n",
      "  \u001b[31m   \u001b[0m copying numpy/doc/constants.py -> build/lib.macosx-11.0-arm64-3.11/numpy/doc\n",
      "  \u001b[31m   \u001b[0m copying numpy/doc/ufuncs.py -> build/lib.macosx-11.0-arm64-3.11/numpy/doc\n",
      "  \u001b[31m   \u001b[0m copying numpy/doc/__init__.py -> build/lib.macosx-11.0-arm64-3.11/numpy/doc\n",
      "  \u001b[31m   \u001b[0m copying numpy/doc/broadcasting.py -> build/lib.macosx-11.0-arm64-3.11/numpy/doc\n",
      "  \u001b[31m   \u001b[0m copying numpy/doc/basics.py -> build/lib.macosx-11.0-arm64-3.11/numpy/doc\n",
      "  \u001b[31m   \u001b[0m copying numpy/doc/subclassing.py -> build/lib.macosx-11.0-arm64-3.11/numpy/doc\n",
      "  \u001b[31m   \u001b[0m copying numpy/doc/indexing.py -> build/lib.macosx-11.0-arm64-3.11/numpy/doc\n",
      "  \u001b[31m   \u001b[0m copying numpy/doc/byteswapping.py -> build/lib.macosx-11.0-arm64-3.11/numpy/doc\n",
      "  \u001b[31m   \u001b[0m copying numpy/doc/structured_arrays.py -> build/lib.macosx-11.0-arm64-3.11/numpy/doc\n",
      "  \u001b[31m   \u001b[0m copying numpy/doc/glossary.py -> build/lib.macosx-11.0-arm64-3.11/numpy/doc\n",
      "  \u001b[31m   \u001b[0m creating build/lib.macosx-11.0-arm64-3.11/numpy/f2py\n",
      "  \u001b[31m   \u001b[0m copying numpy/f2py/cfuncs.py -> build/lib.macosx-11.0-arm64-3.11/numpy/f2py\n",
      "  \u001b[31m   \u001b[0m copying numpy/f2py/common_rules.py -> build/lib.macosx-11.0-arm64-3.11/numpy/f2py\n",
      "  \u001b[31m   \u001b[0m copying numpy/f2py/crackfortran.py -> build/lib.macosx-11.0-arm64-3.11/numpy/f2py\n",
      "  \u001b[31m   \u001b[0m copying numpy/f2py/cb_rules.py -> build/lib.macosx-11.0-arm64-3.11/numpy/f2py\n",
      "  \u001b[31m   \u001b[0m copying numpy/f2py/__init__.py -> build/lib.macosx-11.0-arm64-3.11/numpy/f2py\n",
      "  \u001b[31m   \u001b[0m copying numpy/f2py/rules.py -> build/lib.macosx-11.0-arm64-3.11/numpy/f2py\n",
      "  \u001b[31m   \u001b[0m copying numpy/f2py/f2py2e.py -> build/lib.macosx-11.0-arm64-3.11/numpy/f2py\n",
      "  \u001b[31m   \u001b[0m copying numpy/f2py/func2subr.py -> build/lib.macosx-11.0-arm64-3.11/numpy/f2py\n",
      "  \u001b[31m   \u001b[0m copying numpy/f2py/__version__.py -> build/lib.macosx-11.0-arm64-3.11/numpy/f2py\n",
      "  \u001b[31m   \u001b[0m copying numpy/f2py/diagnose.py -> build/lib.macosx-11.0-arm64-3.11/numpy/f2py\n",
      "  \u001b[31m   \u001b[0m copying numpy/f2py/setup.py -> build/lib.macosx-11.0-arm64-3.11/numpy/f2py\n",
      "  \u001b[31m   \u001b[0m copying numpy/f2py/capi_maps.py -> build/lib.macosx-11.0-arm64-3.11/numpy/f2py\n",
      "  \u001b[31m   \u001b[0m copying numpy/f2py/f90mod_rules.py -> build/lib.macosx-11.0-arm64-3.11/numpy/f2py\n",
      "  \u001b[31m   \u001b[0m copying numpy/f2py/f2py_testing.py -> build/lib.macosx-11.0-arm64-3.11/numpy/f2py\n",
      "  \u001b[31m   \u001b[0m copying numpy/f2py/use_rules.py -> build/lib.macosx-11.0-arm64-3.11/numpy/f2py\n",
      "  \u001b[31m   \u001b[0m copying numpy/f2py/auxfuncs.py -> build/lib.macosx-11.0-arm64-3.11/numpy/f2py\n",
      "  \u001b[31m   \u001b[0m copying numpy/f2py/__main__.py -> build/lib.macosx-11.0-arm64-3.11/numpy/f2py\n",
      "  \u001b[31m   \u001b[0m creating build/lib.macosx-11.0-arm64-3.11/numpy/f2py/tests\n",
      "  \u001b[31m   \u001b[0m copying numpy/f2py/tests/test_mixed.py -> build/lib.macosx-11.0-arm64-3.11/numpy/f2py/tests\n",
      "  \u001b[31m   \u001b[0m copying numpy/f2py/tests/test_return_logical.py -> build/lib.macosx-11.0-arm64-3.11/numpy/f2py/tests\n",
      "  \u001b[31m   \u001b[0m copying numpy/f2py/tests/test_assumed_shape.py -> build/lib.macosx-11.0-arm64-3.11/numpy/f2py/tests\n",
      "  \u001b[31m   \u001b[0m copying numpy/f2py/tests/test_common.py -> build/lib.macosx-11.0-arm64-3.11/numpy/f2py/tests\n",
      "  \u001b[31m   \u001b[0m copying numpy/f2py/tests/test_kind.py -> build/lib.macosx-11.0-arm64-3.11/numpy/f2py/tests\n",
      "  \u001b[31m   \u001b[0m copying numpy/f2py/tests/test_array_from_pyobj.py -> build/lib.macosx-11.0-arm64-3.11/numpy/f2py/tests\n",
      "  \u001b[31m   \u001b[0m copying numpy/f2py/tests/test_return_real.py -> build/lib.macosx-11.0-arm64-3.11/numpy/f2py/tests\n",
      "  \u001b[31m   \u001b[0m copying numpy/f2py/tests/util.py -> build/lib.macosx-11.0-arm64-3.11/numpy/f2py/tests\n",
      "  \u001b[31m   \u001b[0m copying numpy/f2py/tests/test_size.py -> build/lib.macosx-11.0-arm64-3.11/numpy/f2py/tests\n",
      "  \u001b[31m   \u001b[0m copying numpy/f2py/tests/test_callback.py -> build/lib.macosx-11.0-arm64-3.11/numpy/f2py/tests\n",
      "  \u001b[31m   \u001b[0m copying numpy/f2py/tests/test_string.py -> build/lib.macosx-11.0-arm64-3.11/numpy/f2py/tests\n",
      "  \u001b[31m   \u001b[0m copying numpy/f2py/tests/__init__.py -> build/lib.macosx-11.0-arm64-3.11/numpy/f2py/tests\n",
      "  \u001b[31m   \u001b[0m copying numpy/f2py/tests/test_quoted_character.py -> build/lib.macosx-11.0-arm64-3.11/numpy/f2py/tests\n",
      "  \u001b[31m   \u001b[0m copying numpy/f2py/tests/test_parameter.py -> build/lib.macosx-11.0-arm64-3.11/numpy/f2py/tests\n",
      "  \u001b[31m   \u001b[0m copying numpy/f2py/tests/test_semicolon_split.py -> build/lib.macosx-11.0-arm64-3.11/numpy/f2py/tests\n",
      "  \u001b[31m   \u001b[0m copying numpy/f2py/tests/test_compile_function.py -> build/lib.macosx-11.0-arm64-3.11/numpy/f2py/tests\n",
      "  \u001b[31m   \u001b[0m copying numpy/f2py/tests/test_block_docstring.py -> build/lib.macosx-11.0-arm64-3.11/numpy/f2py/tests\n",
      "  \u001b[31m   \u001b[0m copying numpy/f2py/tests/test_return_integer.py -> build/lib.macosx-11.0-arm64-3.11/numpy/f2py/tests\n",
      "  \u001b[31m   \u001b[0m copying numpy/f2py/tests/test_return_character.py -> build/lib.macosx-11.0-arm64-3.11/numpy/f2py/tests\n",
      "  \u001b[31m   \u001b[0m copying numpy/f2py/tests/test_return_complex.py -> build/lib.macosx-11.0-arm64-3.11/numpy/f2py/tests\n",
      "  \u001b[31m   \u001b[0m copying numpy/f2py/tests/test_crackfortran.py -> build/lib.macosx-11.0-arm64-3.11/numpy/f2py/tests\n",
      "  \u001b[31m   \u001b[0m copying numpy/f2py/tests/test_regression.py -> build/lib.macosx-11.0-arm64-3.11/numpy/f2py/tests\n",
      "  \u001b[31m   \u001b[0m creating build/lib.macosx-11.0-arm64-3.11/numpy/fft\n",
      "  \u001b[31m   \u001b[0m copying numpy/fft/__init__.py -> build/lib.macosx-11.0-arm64-3.11/numpy/fft\n",
      "  \u001b[31m   \u001b[0m copying numpy/fft/setup.py -> build/lib.macosx-11.0-arm64-3.11/numpy/fft\n",
      "  \u001b[31m   \u001b[0m copying numpy/fft/helper.py -> build/lib.macosx-11.0-arm64-3.11/numpy/fft\n",
      "  \u001b[31m   \u001b[0m copying numpy/fft/_pocketfft.py -> build/lib.macosx-11.0-arm64-3.11/numpy/fft\n",
      "  \u001b[31m   \u001b[0m creating build/lib.macosx-11.0-arm64-3.11/numpy/fft/tests\n",
      "  \u001b[31m   \u001b[0m copying numpy/fft/tests/test_pocketfft.py -> build/lib.macosx-11.0-arm64-3.11/numpy/fft/tests\n",
      "  \u001b[31m   \u001b[0m copying numpy/fft/tests/test_helper.py -> build/lib.macosx-11.0-arm64-3.11/numpy/fft/tests\n",
      "  \u001b[31m   \u001b[0m copying numpy/fft/tests/__init__.py -> build/lib.macosx-11.0-arm64-3.11/numpy/fft/tests\n",
      "  \u001b[31m   \u001b[0m creating build/lib.macosx-11.0-arm64-3.11/numpy/lib\n",
      "  \u001b[31m   \u001b[0m copying numpy/lib/_iotools.py -> build/lib.macosx-11.0-arm64-3.11/numpy/lib\n",
      "  \u001b[31m   \u001b[0m copying numpy/lib/mixins.py -> build/lib.macosx-11.0-arm64-3.11/numpy/lib\n",
      "  \u001b[31m   \u001b[0m copying numpy/lib/nanfunctions.py -> build/lib.macosx-11.0-arm64-3.11/numpy/lib\n",
      "  \u001b[31m   \u001b[0m copying numpy/lib/recfunctions.py -> build/lib.macosx-11.0-arm64-3.11/numpy/lib\n",
      "  \u001b[31m   \u001b[0m copying numpy/lib/histograms.py -> build/lib.macosx-11.0-arm64-3.11/numpy/lib\n",
      "  \u001b[31m   \u001b[0m copying numpy/lib/scimath.py -> build/lib.macosx-11.0-arm64-3.11/numpy/lib\n",
      "  \u001b[31m   \u001b[0m copying numpy/lib/_version.py -> build/lib.macosx-11.0-arm64-3.11/numpy/lib\n",
      "  \u001b[31m   \u001b[0m copying numpy/lib/user_array.py -> build/lib.macosx-11.0-arm64-3.11/numpy/lib\n",
      "  \u001b[31m   \u001b[0m copying numpy/lib/__init__.py -> build/lib.macosx-11.0-arm64-3.11/numpy/lib\n",
      "  \u001b[31m   \u001b[0m copying numpy/lib/format.py -> build/lib.macosx-11.0-arm64-3.11/numpy/lib\n",
      "  \u001b[31m   \u001b[0m copying numpy/lib/twodim_base.py -> build/lib.macosx-11.0-arm64-3.11/numpy/lib\n",
      "  \u001b[31m   \u001b[0m copying numpy/lib/financial.py -> build/lib.macosx-11.0-arm64-3.11/numpy/lib\n",
      "  \u001b[31m   \u001b[0m copying numpy/lib/index_tricks.py -> build/lib.macosx-11.0-arm64-3.11/numpy/lib\n",
      "  \u001b[31m   \u001b[0m copying numpy/lib/npyio.py -> build/lib.macosx-11.0-arm64-3.11/numpy/lib\n",
      "  \u001b[31m   \u001b[0m copying numpy/lib/shape_base.py -> build/lib.macosx-11.0-arm64-3.11/numpy/lib\n",
      "  \u001b[31m   \u001b[0m copying numpy/lib/setup.py -> build/lib.macosx-11.0-arm64-3.11/numpy/lib\n",
      "  \u001b[31m   \u001b[0m copying numpy/lib/stride_tricks.py -> build/lib.macosx-11.0-arm64-3.11/numpy/lib\n",
      "  \u001b[31m   \u001b[0m copying numpy/lib/utils.py -> build/lib.macosx-11.0-arm64-3.11/numpy/lib\n",
      "  \u001b[31m   \u001b[0m copying numpy/lib/arrayterator.py -> build/lib.macosx-11.0-arm64-3.11/numpy/lib\n",
      "  \u001b[31m   \u001b[0m copying numpy/lib/function_base.py -> build/lib.macosx-11.0-arm64-3.11/numpy/lib\n",
      "  \u001b[31m   \u001b[0m copying numpy/lib/arraysetops.py -> build/lib.macosx-11.0-arm64-3.11/numpy/lib\n",
      "  \u001b[31m   \u001b[0m copying numpy/lib/arraypad.py -> build/lib.macosx-11.0-arm64-3.11/numpy/lib\n",
      "  \u001b[31m   \u001b[0m copying numpy/lib/type_check.py -> build/lib.macosx-11.0-arm64-3.11/numpy/lib\n",
      "  \u001b[31m   \u001b[0m copying numpy/lib/polynomial.py -> build/lib.macosx-11.0-arm64-3.11/numpy/lib\n",
      "  \u001b[31m   \u001b[0m copying numpy/lib/_datasource.py -> build/lib.macosx-11.0-arm64-3.11/numpy/lib\n",
      "  \u001b[31m   \u001b[0m copying numpy/lib/ufunclike.py -> build/lib.macosx-11.0-arm64-3.11/numpy/lib\n",
      "  \u001b[31m   \u001b[0m creating build/lib.macosx-11.0-arm64-3.11/numpy/lib/tests\n",
      "  \u001b[31m   \u001b[0m copying numpy/lib/tests/test_type_check.py -> build/lib.macosx-11.0-arm64-3.11/numpy/lib/tests\n",
      "  \u001b[31m   \u001b[0m copying numpy/lib/tests/test_utils.py -> build/lib.macosx-11.0-arm64-3.11/numpy/lib/tests\n",
      "  \u001b[31m   \u001b[0m copying numpy/lib/tests/test_twodim_base.py -> build/lib.macosx-11.0-arm64-3.11/numpy/lib/tests\n",
      "  \u001b[31m   \u001b[0m copying numpy/lib/tests/test_polynomial.py -> build/lib.macosx-11.0-arm64-3.11/numpy/lib/tests\n",
      "  \u001b[31m   \u001b[0m copying numpy/lib/tests/test__iotools.py -> build/lib.macosx-11.0-arm64-3.11/numpy/lib/tests\n",
      "  \u001b[31m   \u001b[0m copying numpy/lib/tests/test_shape_base.py -> build/lib.macosx-11.0-arm64-3.11/numpy/lib/tests\n",
      "  \u001b[31m   \u001b[0m copying numpy/lib/tests/test_ufunclike.py -> build/lib.macosx-11.0-arm64-3.11/numpy/lib/tests\n",
      "  \u001b[31m   \u001b[0m copying numpy/lib/tests/test_index_tricks.py -> build/lib.macosx-11.0-arm64-3.11/numpy/lib/tests\n",
      "  \u001b[31m   \u001b[0m copying numpy/lib/tests/__init__.py -> build/lib.macosx-11.0-arm64-3.11/numpy/lib/tests\n",
      "  \u001b[31m   \u001b[0m copying numpy/lib/tests/test_arrayterator.py -> build/lib.macosx-11.0-arm64-3.11/numpy/lib/tests\n",
      "  \u001b[31m   \u001b[0m copying numpy/lib/tests/test__version.py -> build/lib.macosx-11.0-arm64-3.11/numpy/lib/tests\n",
      "  \u001b[31m   \u001b[0m copying numpy/lib/tests/test_io.py -> build/lib.macosx-11.0-arm64-3.11/numpy/lib/tests\n",
      "  \u001b[31m   \u001b[0m copying numpy/lib/tests/test_arraysetops.py -> build/lib.macosx-11.0-arm64-3.11/numpy/lib/tests\n",
      "  \u001b[31m   \u001b[0m copying numpy/lib/tests/test_function_base.py -> build/lib.macosx-11.0-arm64-3.11/numpy/lib/tests\n",
      "  \u001b[31m   \u001b[0m copying numpy/lib/tests/test_arraypad.py -> build/lib.macosx-11.0-arm64-3.11/numpy/lib/tests\n",
      "  \u001b[31m   \u001b[0m copying numpy/lib/tests/test_mixins.py -> build/lib.macosx-11.0-arm64-3.11/numpy/lib/tests\n",
      "  \u001b[31m   \u001b[0m copying numpy/lib/tests/test_packbits.py -> build/lib.macosx-11.0-arm64-3.11/numpy/lib/tests\n",
      "  \u001b[31m   \u001b[0m copying numpy/lib/tests/test__datasource.py -> build/lib.macosx-11.0-arm64-3.11/numpy/lib/tests\n",
      "  \u001b[31m   \u001b[0m copying numpy/lib/tests/test_stride_tricks.py -> build/lib.macosx-11.0-arm64-3.11/numpy/lib/tests\n",
      "  \u001b[31m   \u001b[0m copying numpy/lib/tests/test_financial.py -> build/lib.macosx-11.0-arm64-3.11/numpy/lib/tests\n",
      "  \u001b[31m   \u001b[0m copying numpy/lib/tests/test_recfunctions.py -> build/lib.macosx-11.0-arm64-3.11/numpy/lib/tests\n",
      "  \u001b[31m   \u001b[0m copying numpy/lib/tests/test_nanfunctions.py -> build/lib.macosx-11.0-arm64-3.11/numpy/lib/tests\n",
      "  \u001b[31m   \u001b[0m copying numpy/lib/tests/test_format.py -> build/lib.macosx-11.0-arm64-3.11/numpy/lib/tests\n",
      "  \u001b[31m   \u001b[0m copying numpy/lib/tests/test_histograms.py -> build/lib.macosx-11.0-arm64-3.11/numpy/lib/tests\n",
      "  \u001b[31m   \u001b[0m copying numpy/lib/tests/test_regression.py -> build/lib.macosx-11.0-arm64-3.11/numpy/lib/tests\n",
      "  \u001b[31m   \u001b[0m creating build/lib.macosx-11.0-arm64-3.11/numpy/linalg\n",
      "  \u001b[31m   \u001b[0m copying numpy/linalg/__init__.py -> build/lib.macosx-11.0-arm64-3.11/numpy/linalg\n",
      "  \u001b[31m   \u001b[0m copying numpy/linalg/setup.py -> build/lib.macosx-11.0-arm64-3.11/numpy/linalg\n",
      "  \u001b[31m   \u001b[0m copying numpy/linalg/linalg.py -> build/lib.macosx-11.0-arm64-3.11/numpy/linalg\n",
      "  \u001b[31m   \u001b[0m creating build/lib.macosx-11.0-arm64-3.11/numpy/linalg/tests\n",
      "  \u001b[31m   \u001b[0m copying numpy/linalg/tests/test_linalg.py -> build/lib.macosx-11.0-arm64-3.11/numpy/linalg/tests\n",
      "  \u001b[31m   \u001b[0m copying numpy/linalg/tests/test_deprecations.py -> build/lib.macosx-11.0-arm64-3.11/numpy/linalg/tests\n",
      "  \u001b[31m   \u001b[0m copying numpy/linalg/tests/__init__.py -> build/lib.macosx-11.0-arm64-3.11/numpy/linalg/tests\n",
      "  \u001b[31m   \u001b[0m copying numpy/linalg/tests/test_build.py -> build/lib.macosx-11.0-arm64-3.11/numpy/linalg/tests\n",
      "  \u001b[31m   \u001b[0m copying numpy/linalg/tests/test_regression.py -> build/lib.macosx-11.0-arm64-3.11/numpy/linalg/tests\n",
      "  \u001b[31m   \u001b[0m creating build/lib.macosx-11.0-arm64-3.11/numpy/ma\n",
      "  \u001b[31m   \u001b[0m copying numpy/ma/extras.py -> build/lib.macosx-11.0-arm64-3.11/numpy/ma\n",
      "  \u001b[31m   \u001b[0m copying numpy/ma/testutils.py -> build/lib.macosx-11.0-arm64-3.11/numpy/ma\n",
      "  \u001b[31m   \u001b[0m copying numpy/ma/__init__.py -> build/lib.macosx-11.0-arm64-3.11/numpy/ma\n",
      "  \u001b[31m   \u001b[0m copying numpy/ma/core.py -> build/lib.macosx-11.0-arm64-3.11/numpy/ma\n",
      "  \u001b[31m   \u001b[0m copying numpy/ma/bench.py -> build/lib.macosx-11.0-arm64-3.11/numpy/ma\n",
      "  \u001b[31m   \u001b[0m copying numpy/ma/setup.py -> build/lib.macosx-11.0-arm64-3.11/numpy/ma\n",
      "  \u001b[31m   \u001b[0m copying numpy/ma/timer_comparison.py -> build/lib.macosx-11.0-arm64-3.11/numpy/ma\n",
      "  \u001b[31m   \u001b[0m copying numpy/ma/mrecords.py -> build/lib.macosx-11.0-arm64-3.11/numpy/ma\n",
      "  \u001b[31m   \u001b[0m creating build/lib.macosx-11.0-arm64-3.11/numpy/ma/tests\n",
      "  \u001b[31m   \u001b[0m copying numpy/ma/tests/test_old_ma.py -> build/lib.macosx-11.0-arm64-3.11/numpy/ma/tests\n",
      "  \u001b[31m   \u001b[0m copying numpy/ma/tests/test_core.py -> build/lib.macosx-11.0-arm64-3.11/numpy/ma/tests\n",
      "  \u001b[31m   \u001b[0m copying numpy/ma/tests/test_deprecations.py -> build/lib.macosx-11.0-arm64-3.11/numpy/ma/tests\n",
      "  \u001b[31m   \u001b[0m copying numpy/ma/tests/__init__.py -> build/lib.macosx-11.0-arm64-3.11/numpy/ma/tests\n",
      "  \u001b[31m   \u001b[0m copying numpy/ma/tests/test_subclassing.py -> build/lib.macosx-11.0-arm64-3.11/numpy/ma/tests\n",
      "  \u001b[31m   \u001b[0m copying numpy/ma/tests/test_extras.py -> build/lib.macosx-11.0-arm64-3.11/numpy/ma/tests\n",
      "  \u001b[31m   \u001b[0m copying numpy/ma/tests/test_mrecords.py -> build/lib.macosx-11.0-arm64-3.11/numpy/ma/tests\n",
      "  \u001b[31m   \u001b[0m copying numpy/ma/tests/test_regression.py -> build/lib.macosx-11.0-arm64-3.11/numpy/ma/tests\n",
      "  \u001b[31m   \u001b[0m creating build/lib.macosx-11.0-arm64-3.11/numpy/matrixlib\n",
      "  \u001b[31m   \u001b[0m copying numpy/matrixlib/__init__.py -> build/lib.macosx-11.0-arm64-3.11/numpy/matrixlib\n",
      "  \u001b[31m   \u001b[0m copying numpy/matrixlib/setup.py -> build/lib.macosx-11.0-arm64-3.11/numpy/matrixlib\n",
      "  \u001b[31m   \u001b[0m copying numpy/matrixlib/defmatrix.py -> build/lib.macosx-11.0-arm64-3.11/numpy/matrixlib\n",
      "  \u001b[31m   \u001b[0m creating build/lib.macosx-11.0-arm64-3.11/numpy/matrixlib/tests\n",
      "  \u001b[31m   \u001b[0m copying numpy/matrixlib/tests/test_matrix_linalg.py -> build/lib.macosx-11.0-arm64-3.11/numpy/matrixlib/tests\n",
      "  \u001b[31m   \u001b[0m copying numpy/matrixlib/tests/test_defmatrix.py -> build/lib.macosx-11.0-arm64-3.11/numpy/matrixlib/tests\n",
      "  \u001b[31m   \u001b[0m copying numpy/matrixlib/tests/__init__.py -> build/lib.macosx-11.0-arm64-3.11/numpy/matrixlib/tests\n",
      "  \u001b[31m   \u001b[0m copying numpy/matrixlib/tests/test_interaction.py -> build/lib.macosx-11.0-arm64-3.11/numpy/matrixlib/tests\n",
      "  \u001b[31m   \u001b[0m copying numpy/matrixlib/tests/test_numeric.py -> build/lib.macosx-11.0-arm64-3.11/numpy/matrixlib/tests\n",
      "  \u001b[31m   \u001b[0m copying numpy/matrixlib/tests/test_masked_matrix.py -> build/lib.macosx-11.0-arm64-3.11/numpy/matrixlib/tests\n",
      "  \u001b[31m   \u001b[0m copying numpy/matrixlib/tests/test_multiarray.py -> build/lib.macosx-11.0-arm64-3.11/numpy/matrixlib/tests\n",
      "  \u001b[31m   \u001b[0m copying numpy/matrixlib/tests/test_regression.py -> build/lib.macosx-11.0-arm64-3.11/numpy/matrixlib/tests\n",
      "  \u001b[31m   \u001b[0m creating build/lib.macosx-11.0-arm64-3.11/numpy/polynomial\n",
      "  \u001b[31m   \u001b[0m copying numpy/polynomial/laguerre.py -> build/lib.macosx-11.0-arm64-3.11/numpy/polynomial\n",
      "  \u001b[31m   \u001b[0m copying numpy/polynomial/_polybase.py -> build/lib.macosx-11.0-arm64-3.11/numpy/polynomial\n",
      "  \u001b[31m   \u001b[0m copying numpy/polynomial/polyutils.py -> build/lib.macosx-11.0-arm64-3.11/numpy/polynomial\n",
      "  \u001b[31m   \u001b[0m copying numpy/polynomial/__init__.py -> build/lib.macosx-11.0-arm64-3.11/numpy/polynomial\n",
      "  \u001b[31m   \u001b[0m copying numpy/polynomial/setup.py -> build/lib.macosx-11.0-arm64-3.11/numpy/polynomial\n",
      "  \u001b[31m   \u001b[0m copying numpy/polynomial/hermite_e.py -> build/lib.macosx-11.0-arm64-3.11/numpy/polynomial\n",
      "  \u001b[31m   \u001b[0m copying numpy/polynomial/chebyshev.py -> build/lib.macosx-11.0-arm64-3.11/numpy/polynomial\n",
      "  \u001b[31m   \u001b[0m copying numpy/polynomial/polynomial.py -> build/lib.macosx-11.0-arm64-3.11/numpy/polynomial\n",
      "  \u001b[31m   \u001b[0m copying numpy/polynomial/legendre.py -> build/lib.macosx-11.0-arm64-3.11/numpy/polynomial\n",
      "  \u001b[31m   \u001b[0m copying numpy/polynomial/hermite.py -> build/lib.macosx-11.0-arm64-3.11/numpy/polynomial\n",
      "  \u001b[31m   \u001b[0m creating build/lib.macosx-11.0-arm64-3.11/numpy/polynomial/tests\n",
      "  \u001b[31m   \u001b[0m copying numpy/polynomial/tests/test_chebyshev.py -> build/lib.macosx-11.0-arm64-3.11/numpy/polynomial/tests\n",
      "  \u001b[31m   \u001b[0m copying numpy/polynomial/tests/test_hermite_e.py -> build/lib.macosx-11.0-arm64-3.11/numpy/polynomial/tests\n",
      "  \u001b[31m   \u001b[0m copying numpy/polynomial/tests/test_polynomial.py -> build/lib.macosx-11.0-arm64-3.11/numpy/polynomial/tests\n",
      "  \u001b[31m   \u001b[0m copying numpy/polynomial/tests/__init__.py -> build/lib.macosx-11.0-arm64-3.11/numpy/polynomial/tests\n",
      "  \u001b[31m   \u001b[0m copying numpy/polynomial/tests/test_laguerre.py -> build/lib.macosx-11.0-arm64-3.11/numpy/polynomial/tests\n",
      "  \u001b[31m   \u001b[0m copying numpy/polynomial/tests/test_legendre.py -> build/lib.macosx-11.0-arm64-3.11/numpy/polynomial/tests\n",
      "  \u001b[31m   \u001b[0m copying numpy/polynomial/tests/test_printing.py -> build/lib.macosx-11.0-arm64-3.11/numpy/polynomial/tests\n",
      "  \u001b[31m   \u001b[0m copying numpy/polynomial/tests/test_hermite.py -> build/lib.macosx-11.0-arm64-3.11/numpy/polynomial/tests\n",
      "  \u001b[31m   \u001b[0m copying numpy/polynomial/tests/test_classes.py -> build/lib.macosx-11.0-arm64-3.11/numpy/polynomial/tests\n",
      "  \u001b[31m   \u001b[0m copying numpy/polynomial/tests/test_polyutils.py -> build/lib.macosx-11.0-arm64-3.11/numpy/polynomial/tests\n",
      "  \u001b[31m   \u001b[0m creating build/lib.macosx-11.0-arm64-3.11/numpy/random\n",
      "  \u001b[31m   \u001b[0m copying numpy/random/_pickle.py -> build/lib.macosx-11.0-arm64-3.11/numpy/random\n",
      "  \u001b[31m   \u001b[0m copying numpy/random/__init__.py -> build/lib.macosx-11.0-arm64-3.11/numpy/random\n",
      "  \u001b[31m   \u001b[0m copying numpy/random/setup.py -> build/lib.macosx-11.0-arm64-3.11/numpy/random\n",
      "  \u001b[31m   \u001b[0m creating build/lib.macosx-11.0-arm64-3.11/numpy/random/tests\n",
      "  \u001b[31m   \u001b[0m copying numpy/random/tests/test_generator_mt19937.py -> build/lib.macosx-11.0-arm64-3.11/numpy/random/tests\n",
      "  \u001b[31m   \u001b[0m copying numpy/random/tests/test_randomstate.py -> build/lib.macosx-11.0-arm64-3.11/numpy/random/tests\n",
      "  \u001b[31m   \u001b[0m copying numpy/random/tests/test_direct.py -> build/lib.macosx-11.0-arm64-3.11/numpy/random/tests\n",
      "  \u001b[31m   \u001b[0m copying numpy/random/tests/test_extending.py -> build/lib.macosx-11.0-arm64-3.11/numpy/random/tests\n",
      "  \u001b[31m   \u001b[0m copying numpy/random/tests/__init__.py -> build/lib.macosx-11.0-arm64-3.11/numpy/random/tests\n",
      "  \u001b[31m   \u001b[0m copying numpy/random/tests/test_smoke.py -> build/lib.macosx-11.0-arm64-3.11/numpy/random/tests\n",
      "  \u001b[31m   \u001b[0m copying numpy/random/tests/test_randomstate_regression.py -> build/lib.macosx-11.0-arm64-3.11/numpy/random/tests\n",
      "  \u001b[31m   \u001b[0m copying numpy/random/tests/test_seed_sequence.py -> build/lib.macosx-11.0-arm64-3.11/numpy/random/tests\n",
      "  \u001b[31m   \u001b[0m copying numpy/random/tests/test_generator_mt19937_regressions.py -> build/lib.macosx-11.0-arm64-3.11/numpy/random/tests\n",
      "  \u001b[31m   \u001b[0m copying numpy/random/tests/test_random.py -> build/lib.macosx-11.0-arm64-3.11/numpy/random/tests\n",
      "  \u001b[31m   \u001b[0m copying numpy/random/tests/test_regression.py -> build/lib.macosx-11.0-arm64-3.11/numpy/random/tests\n",
      "  \u001b[31m   \u001b[0m creating build/lib.macosx-11.0-arm64-3.11/numpy/testing\n",
      "  \u001b[31m   \u001b[0m copying numpy/testing/__init__.py -> build/lib.macosx-11.0-arm64-3.11/numpy/testing\n",
      "  \u001b[31m   \u001b[0m copying numpy/testing/setup.py -> build/lib.macosx-11.0-arm64-3.11/numpy/testing\n",
      "  \u001b[31m   \u001b[0m copying numpy/testing/utils.py -> build/lib.macosx-11.0-arm64-3.11/numpy/testing\n",
      "  \u001b[31m   \u001b[0m copying numpy/testing/print_coercion_tables.py -> build/lib.macosx-11.0-arm64-3.11/numpy/testing\n",
      "  \u001b[31m   \u001b[0m creating build/lib.macosx-11.0-arm64-3.11/numpy/testing/_private\n",
      "  \u001b[31m   \u001b[0m copying numpy/testing/_private/nosetester.py -> build/lib.macosx-11.0-arm64-3.11/numpy/testing/_private\n",
      "  \u001b[31m   \u001b[0m copying numpy/testing/_private/__init__.py -> build/lib.macosx-11.0-arm64-3.11/numpy/testing/_private\n",
      "  \u001b[31m   \u001b[0m copying numpy/testing/_private/noseclasses.py -> build/lib.macosx-11.0-arm64-3.11/numpy/testing/_private\n",
      "  \u001b[31m   \u001b[0m copying numpy/testing/_private/utils.py -> build/lib.macosx-11.0-arm64-3.11/numpy/testing/_private\n",
      "  \u001b[31m   \u001b[0m copying numpy/testing/_private/parameterized.py -> build/lib.macosx-11.0-arm64-3.11/numpy/testing/_private\n",
      "  \u001b[31m   \u001b[0m copying numpy/testing/_private/decorators.py -> build/lib.macosx-11.0-arm64-3.11/numpy/testing/_private\n",
      "  \u001b[31m   \u001b[0m creating build/lib.macosx-11.0-arm64-3.11/numpy/testing/tests\n",
      "  \u001b[31m   \u001b[0m copying numpy/testing/tests/test_utils.py -> build/lib.macosx-11.0-arm64-3.11/numpy/testing/tests\n",
      "  \u001b[31m   \u001b[0m copying numpy/testing/tests/test_decorators.py -> build/lib.macosx-11.0-arm64-3.11/numpy/testing/tests\n",
      "  \u001b[31m   \u001b[0m copying numpy/testing/tests/__init__.py -> build/lib.macosx-11.0-arm64-3.11/numpy/testing/tests\n",
      "  \u001b[31m   \u001b[0m copying numpy/testing/tests/test_doctesting.py -> build/lib.macosx-11.0-arm64-3.11/numpy/testing/tests\n",
      "  \u001b[31m   \u001b[0m creating build/lib.macosx-11.0-arm64-3.11/numpy/tests\n",
      "  \u001b[31m   \u001b[0m copying numpy/tests/test_warnings.py -> build/lib.macosx-11.0-arm64-3.11/numpy/tests\n",
      "  \u001b[31m   \u001b[0m copying numpy/tests/test_matlib.py -> build/lib.macosx-11.0-arm64-3.11/numpy/tests\n",
      "  \u001b[31m   \u001b[0m copying numpy/tests/test_ctypeslib.py -> build/lib.macosx-11.0-arm64-3.11/numpy/tests\n",
      "  \u001b[31m   \u001b[0m copying numpy/tests/test_numpy_version.py -> build/lib.macosx-11.0-arm64-3.11/numpy/tests\n",
      "  \u001b[31m   \u001b[0m copying numpy/tests/__init__.py -> build/lib.macosx-11.0-arm64-3.11/numpy/tests\n",
      "  \u001b[31m   \u001b[0m copying numpy/tests/test_reloading.py -> build/lib.macosx-11.0-arm64-3.11/numpy/tests\n",
      "  \u001b[31m   \u001b[0m copying numpy/tests/test_public_api.py -> build/lib.macosx-11.0-arm64-3.11/numpy/tests\n",
      "  \u001b[31m   \u001b[0m copying numpy/tests/test_scripts.py -> build/lib.macosx-11.0-arm64-3.11/numpy/tests\n",
      "  \u001b[31m   \u001b[0m running build_clib\n",
      "  \u001b[31m   \u001b[0m customize UnixCCompiler\n",
      "  \u001b[31m   \u001b[0m customize UnixCCompiler using new_build_clib\n",
      "  \u001b[31m   \u001b[0m building 'npymath' library\n",
      "  \u001b[31m   \u001b[0m compiling C sources\n",
      "  \u001b[31m   \u001b[0m C compiler: clang -DNDEBUG -fwrapv -O2 -Wall -fPIC -O2 -isystem /opt/anaconda3/include -arch arm64 -fPIC -O2 -isystem /opt/anaconda3/include -arch arm64\n",
      "  \u001b[31m   \u001b[0m \n",
      "  \u001b[31m   \u001b[0m creating build/temp.macosx-11.0-arm64-3.11\n",
      "  \u001b[31m   \u001b[0m creating build/temp.macosx-11.0-arm64-3.11/numpy\n",
      "  \u001b[31m   \u001b[0m creating build/temp.macosx-11.0-arm64-3.11/numpy/core\n",
      "  \u001b[31m   \u001b[0m creating build/temp.macosx-11.0-arm64-3.11/numpy/core/src\n",
      "  \u001b[31m   \u001b[0m creating build/temp.macosx-11.0-arm64-3.11/numpy/core/src/npymath\n",
      "  \u001b[31m   \u001b[0m creating build/temp.macosx-11.0-arm64-3.11/build\n",
      "  \u001b[31m   \u001b[0m creating build/temp.macosx-11.0-arm64-3.11/build/src.macosx-11.0-arm64-3.11\n",
      "  \u001b[31m   \u001b[0m creating build/temp.macosx-11.0-arm64-3.11/build/src.macosx-11.0-arm64-3.11/numpy\n",
      "  \u001b[31m   \u001b[0m creating build/temp.macosx-11.0-arm64-3.11/build/src.macosx-11.0-arm64-3.11/numpy/core\n",
      "  \u001b[31m   \u001b[0m creating build/temp.macosx-11.0-arm64-3.11/build/src.macosx-11.0-arm64-3.11/numpy/core/src\n",
      "  \u001b[31m   \u001b[0m creating build/temp.macosx-11.0-arm64-3.11/build/src.macosx-11.0-arm64-3.11/numpy/core/src/npymath\n",
      "  \u001b[31m   \u001b[0m compile options: '-Ibuild/src.macosx-11.0-arm64-3.11/numpy/core/src/npymath -Inumpy/core/include -Ibuild/src.macosx-11.0-arm64-3.11/numpy/core/include/numpy -Inumpy/core/src/common -Inumpy/core/src -Inumpy/core -Inumpy/core/src/npymath -Inumpy/core/src/multiarray -Inumpy/core/src/umath -Inumpy/core/src/npysort -I/opt/anaconda3/include/python3.11 -Ibuild/src.macosx-11.0-arm64-3.11/numpy/core/src/common -Ibuild/src.macosx-11.0-arm64-3.11/numpy/core/src/npymath -c'\n",
      "  \u001b[31m   \u001b[0m clang: numpy/core/src/npymath/npy_math.cclang: build/src.macosx-11.0-arm64-3.11/numpy/core/src/npymath/ieee754.c\n",
      "  \u001b[31m   \u001b[0m \n",
      "  \u001b[31m   \u001b[0m clang: build/src.macosx-11.0-arm64-3.11/numpy/core/src/npymath/npy_math_complex.c\n",
      "  \u001b[31m   \u001b[0m clang: numpy/core/src/npymath/halffloat.c\n",
      "  \u001b[31m   \u001b[0m In file included from numpy/core/src/npymath/npy_math.c:9:\n",
      "  \u001b[31m   \u001b[0m numpy/core/src/npymath/npy_math_internal.h.src:490:21: warning: incompatible pointer types passing 'npy_longdouble *' (aka 'double *') to parameter of type 'long double *' [-Wincompatible-pointer-types]\n",
      "  \u001b[31m   \u001b[0m     return modfl(x, iptr);\n",
      "  \u001b[31m   \u001b[0m                     ^~~~\n",
      "  \u001b[31m   \u001b[0m /Library/Developer/CommandLineTools/SDKs/MacOSX.sdk/usr/include/math.h:394:52: note: passing argument to parameter here\n",
      "  \u001b[31m   \u001b[0m extern long double modfl(long double, long double *);\n",
      "  \u001b[31m   \u001b[0m                                                    ^\n",
      "  \u001b[31m   \u001b[0m 1 warning generated.\n",
      "  \u001b[31m   \u001b[0m ar: adding 4 object files to build/temp.macosx-11.0-arm64-3.11/libnpymath.a\n",
      "  \u001b[31m   \u001b[0m ranlib:@ build/temp.macosx-11.0-arm64-3.11/libnpymath.a\n",
      "  \u001b[31m   \u001b[0m building 'npysort' library\n",
      "  \u001b[31m   \u001b[0m compiling C sources\n",
      "  \u001b[31m   \u001b[0m C compiler: clang -DNDEBUG -fwrapv -O2 -Wall -fPIC -O2 -isystem /opt/anaconda3/include -arch arm64 -fPIC -O2 -isystem /opt/anaconda3/include -arch arm64\n",
      "  \u001b[31m   \u001b[0m \n",
      "  \u001b[31m   \u001b[0m creating build/temp.macosx-11.0-arm64-3.11/build/src.macosx-11.0-arm64-3.11/numpy/core/src/npysort\n",
      "  \u001b[31m   \u001b[0m compile options: '-Ibuild/src.macosx-11.0-arm64-3.11/numpy/core/src/common -Inumpy/core/include -Ibuild/src.macosx-11.0-arm64-3.11/numpy/core/include/numpy -Inumpy/core/src/common -Inumpy/core/src -Inumpy/core -Inumpy/core/src/npymath -Inumpy/core/src/multiarray -Inumpy/core/src/umath -Inumpy/core/src/npysort -I/opt/anaconda3/include/python3.11 -Ibuild/src.macosx-11.0-arm64-3.11/numpy/core/src/common -Ibuild/src.macosx-11.0-arm64-3.11/numpy/core/src/npymath -c'\n",
      "  \u001b[31m   \u001b[0m clang: build/src.macosx-11.0-arm64-3.11/numpy/core/src/npysort/quicksort.c\n",
      "  \u001b[31m   \u001b[0m clang: build/src.macosx-11.0-arm64-3.11/numpy/core/src/npysort/timsort.c\n",
      "  \u001b[31m   \u001b[0m clang: build/src.macosx-11.0-arm64-3.11/numpy/core/src/npysort/mergesort.c\n",
      "  \u001b[31m   \u001b[0m clang: build/src.macosx-11.0-arm64-3.11/numpy/core/src/npysort/heapsort.c\n",
      "  \u001b[31m   \u001b[0m clang: build/src.macosx-11.0-arm64-3.11/numpy/core/src/npysort/radixsort.c\n",
      "  \u001b[31m   \u001b[0m clang: build/src.macosx-11.0-arm64-3.11/numpy/core/src/npysort/selection.c\n",
      "  \u001b[31m   \u001b[0m clang: build/src.macosx-11.0-arm64-3.11/numpy/core/src/npysort/binsearch.c\n",
      "  \u001b[31m   \u001b[0m ar: adding 7 object files to build/temp.macosx-11.0-arm64-3.11/libnpysort.a\n",
      "  \u001b[31m   \u001b[0m ranlib:@ build/temp.macosx-11.0-arm64-3.11/libnpysort.a\n",
      "  \u001b[31m   \u001b[0m building 'npyrandom' library\n",
      "  \u001b[31m   \u001b[0m compiling C sources\n",
      "  \u001b[31m   \u001b[0m C compiler: clang -DNDEBUG -fwrapv -O2 -Wall -fPIC -O2 -isystem /opt/anaconda3/include -arch arm64 -fPIC -O2 -isystem /opt/anaconda3/include -arch arm64\n",
      "  \u001b[31m   \u001b[0m \n",
      "  \u001b[31m   \u001b[0m creating build/temp.macosx-11.0-arm64-3.11/numpy/random\n",
      "  \u001b[31m   \u001b[0m creating build/temp.macosx-11.0-arm64-3.11/numpy/random/src\n",
      "  \u001b[31m   \u001b[0m creating build/temp.macosx-11.0-arm64-3.11/numpy/random/src/distributions\n",
      "  \u001b[31m   \u001b[0m compile options: '-Inumpy/core/include -Ibuild/src.macosx-11.0-arm64-3.11/numpy/core/include/numpy -Inumpy/core/src/common -Inumpy/core/src -Inumpy/core -Inumpy/core/src/npymath -Inumpy/core/src/multiarray -Inumpy/core/src/umath -Inumpy/core/src/npysort -I/opt/anaconda3/include/python3.11 -Ibuild/src.macosx-11.0-arm64-3.11/numpy/core/src/common -Ibuild/src.macosx-11.0-arm64-3.11/numpy/core/src/npymath -c'\n",
      "  \u001b[31m   \u001b[0m clang: numpy/random/src/distributions/logfactorial.cclang: numpy/random/src/distributions/distributions.c\n",
      "  \u001b[31m   \u001b[0m \n",
      "  \u001b[31m   \u001b[0m clang: numpy/random/src/distributions/random_mvhg_count.c\n",
      "  \u001b[31m   \u001b[0m clang: numpy/random/src/distributions/random_hypergeometric.c\n",
      "  \u001b[31m   \u001b[0m clang: numpy/random/src/distributions/random_mvhg_marginals.c\n",
      "  \u001b[31m   \u001b[0m ar: adding 5 object files to build/temp.macosx-11.0-arm64-3.11/libnpyrandom.a\n",
      "  \u001b[31m   \u001b[0m ranlib:@ build/temp.macosx-11.0-arm64-3.11/libnpyrandom.a\n",
      "  \u001b[31m   \u001b[0m running build_ext\n",
      "  \u001b[31m   \u001b[0m customize UnixCCompiler\n",
      "  \u001b[31m   \u001b[0m customize UnixCCompiler using new_build_ext\n",
      "  \u001b[31m   \u001b[0m building 'numpy.core._multiarray_tests' extension\n",
      "  \u001b[31m   \u001b[0m compiling C sources\n",
      "  \u001b[31m   \u001b[0m C compiler: clang -DNDEBUG -fwrapv -O2 -Wall -fPIC -O2 -isystem /opt/anaconda3/include -arch arm64 -fPIC -O2 -isystem /opt/anaconda3/include -arch arm64\n",
      "  \u001b[31m   \u001b[0m \n",
      "  \u001b[31m   \u001b[0m creating build/temp.macosx-11.0-arm64-3.11/build/src.macosx-11.0-arm64-3.11/numpy/core/src/multiarray\n",
      "  \u001b[31m   \u001b[0m creating build/temp.macosx-11.0-arm64-3.11/numpy/core/src/common\n",
      "  \u001b[31m   \u001b[0m compile options: '-DNPY_INTERNAL_BUILD=1 -DHAVE_NPY_CONFIG_H=1 -D_FILE_OFFSET_BITS=64 -D_LARGEFILE_SOURCE=1 -D_LARGEFILE64_SOURCE=1 -Inumpy/core/include -Ibuild/src.macosx-11.0-arm64-3.11/numpy/core/include/numpy -Inumpy/core/src/common -Inumpy/core/src -Inumpy/core -Inumpy/core/src/npymath -Inumpy/core/src/multiarray -Inumpy/core/src/umath -Inumpy/core/src/npysort -I/opt/anaconda3/include/python3.11 -Ibuild/src.macosx-11.0-arm64-3.11/numpy/core/src/common -Ibuild/src.macosx-11.0-arm64-3.11/numpy/core/src/npymath -c'\n",
      "  \u001b[31m   \u001b[0m clang: build/src.macosx-11.0-arm64-3.11/numpy/core/src/multiarray/_multiarray_tests.cclang: numpy/core/src/common/mem_overlap.c\n",
      "  \u001b[31m   \u001b[0m \n",
      "  \u001b[31m   \u001b[0m In file included from numpy/core/src/multiarray/_multiarray_tests.c.src:7:\n",
      "  \u001b[31m   \u001b[0m In file included from numpy/core/include/numpy/npy_math.h:596:\n",
      "  \u001b[31m   \u001b[0m numpy/core/src/npymath/npy_math_internal.h.src:490:21: warning: incompatible pointer types passing 'npy_longdouble *' (aka 'double *') to parameter of type 'long double *' [-Wincompatible-pointer-types]\n",
      "  \u001b[31m   \u001b[0m     return modfl(x, iptr);\n",
      "  \u001b[31m   \u001b[0m                     ^~~~\n",
      "  \u001b[31m   \u001b[0m /Library/Developer/CommandLineTools/SDKs/MacOSX.sdk/usr/include/math.h:394:52: note: passing argument to parameter here\n",
      "  \u001b[31m   \u001b[0m extern long double modfl(long double, long double *);\n",
      "  \u001b[31m   \u001b[0m                                                    ^\n",
      "  \u001b[31m   \u001b[0m numpy/core/src/multiarray/_multiarray_tests.c.src:1895:61: warning: format specifies type 'long double' but the argument has type 'npy_longdouble' (aka 'double') [-Wformat]\n",
      "  \u001b[31m   \u001b[0m         PyOS_snprintf(str, sizeof(str), \"%.*Lg\", precision, x);\n",
      "  \u001b[31m   \u001b[0m                                          ~~~~~              ^\n",
      "  \u001b[31m   \u001b[0m                                          %.*g\n",
      "  \u001b[31m   \u001b[0m 2 warnings generated.\n",
      "  \u001b[31m   \u001b[0m clang -bundle -undefined dynamic_lookup -Wl,-rpath,/opt/anaconda3/lib -L/opt/anaconda3/lib -Wl,-rpath,/opt/anaconda3/lib -L/opt/anaconda3/lib build/temp.macosx-11.0-arm64-3.11/build/src.macosx-11.0-arm64-3.11/numpy/core/src/multiarray/_multiarray_tests.o build/temp.macosx-11.0-arm64-3.11/numpy/core/src/common/mem_overlap.o -Lbuild/temp.macosx-11.0-arm64-3.11 -lnpymath -o build/lib.macosx-11.0-arm64-3.11/numpy/core/_multiarray_tests.cpython-311-darwin.so\n",
      "  \u001b[31m   \u001b[0m building 'numpy.core._multiarray_umath' extension\n",
      "  \u001b[31m   \u001b[0m compiling C sources\n",
      "  \u001b[31m   \u001b[0m C compiler: clang -DNDEBUG -fwrapv -O2 -Wall -fPIC -O2 -isystem /opt/anaconda3/include -arch arm64 -fPIC -O2 -isystem /opt/anaconda3/include -arch arm64\n",
      "  \u001b[31m   \u001b[0m \n",
      "  \u001b[31m   \u001b[0m creating build/temp.macosx-11.0-arm64-3.11/numpy/core/src/multiarray\n",
      "  \u001b[31m   \u001b[0m creating build/temp.macosx-11.0-arm64-3.11/numpy/core/src/umath\n",
      "  \u001b[31m   \u001b[0m creating build/temp.macosx-11.0-arm64-3.11/build/src.macosx-11.0-arm64-3.11/numpy/core/src/umath\n",
      "  \u001b[31m   \u001b[0m creating build/temp.macosx-11.0-arm64-3.11/build/src.macosx-11.0-arm64-3.11/numpy/core/src/common\n",
      "  \u001b[31m   \u001b[0m compile options: '-DNPY_INTERNAL_BUILD=1 -DHAVE_NPY_CONFIG_H=1 -D_FILE_OFFSET_BITS=64 -D_LARGEFILE_SOURCE=1 -D_LARGEFILE64_SOURCE=1 -DHAVE_CBLAS -Ibuild/src.macosx-11.0-arm64-3.11/numpy/core/src/umath -Ibuild/src.macosx-11.0-arm64-3.11/numpy/core/src/npymath -Ibuild/src.macosx-11.0-arm64-3.11/numpy/core/src/common -Inumpy/core/include -Ibuild/src.macosx-11.0-arm64-3.11/numpy/core/include/numpy -Inumpy/core/src/common -Inumpy/core/src -Inumpy/core -Inumpy/core/src/npymath -Inumpy/core/src/multiarray -Inumpy/core/src/umath -Inumpy/core/src/npysort -I/opt/anaconda3/include/python3.11 -Ibuild/src.macosx-11.0-arm64-3.11/numpy/core/src/common -Ibuild/src.macosx-11.0-arm64-3.11/numpy/core/src/npymath -c'\n",
      "  \u001b[31m   \u001b[0m clang: numpy/core/src/multiarray/alloc.cclang: numpy/core/src/multiarray/array_assign_scalar.c\n",
      "  \u001b[31m   \u001b[0m clang: numpy/core/src/multiarray/buffer.c\n",
      "  \u001b[31m   \u001b[0m clang: numpy/core/src/multiarray/common.c\n",
      "  \u001b[31m   \u001b[0m clang: numpy/core/src/multiarray/conversion_utils.c\n",
      "  \u001b[31m   \u001b[0m \n",
      "  \u001b[31m   \u001b[0m clang: numpy/core/src/multiarray/datetime_strings.c\n",
      "  \u001b[31m   \u001b[0m clang: build/src.macosx-11.0-arm64-3.11/numpy/core/src/multiarray/einsum.c\n",
      "  \u001b[31m   \u001b[0m clang: numpy/core/src/multiarray/descriptor.c\n",
      "  \u001b[31m   \u001b[0m In file included from numpy/core/src/multiarray/einsum.c.src:19:\n",
      "  \u001b[31m   \u001b[0m In file included from numpy/core/include/numpy/halffloat.h:5:\n",
      "  \u001b[31m   \u001b[0m In file included from numpy/core/include/numpy/npy_math.h:596:\n",
      "  \u001b[31m   \u001b[0m numpy/core/src/npymath/npy_math_internal.h.src:490:21: warning: incompatible pointer types passing 'npy_longdouble *' (aka 'double *') to parameter of type 'long double *' [-Wincompatible-pointer-types]\n",
      "  \u001b[31m   \u001b[0m     return modfl(x, iptr);\n",
      "  \u001b[31m   \u001b[0m                     ^~~~\n",
      "  \u001b[31m   \u001b[0m /Library/Developer/CommandLineTools/SDKs/MacOSX.sdk/usr/include/math.h:394:52: note: passing argument to parameter here\n",
      "  \u001b[31m   \u001b[0m extern long double modfl(long double, long double *);\n",
      "  \u001b[31m   \u001b[0m                                                    ^\n",
      "  \u001b[31m   \u001b[0m clang: numpy/core/src/multiarray/arrayobject.c\n",
      "  \u001b[31m   \u001b[0m numpy/core/src/multiarray/einsum.c.src:2158:32: warning: unknown warning group '-Wmaybe-uninitialized', ignored [-Wunknown-warning-option]\n",
      "  \u001b[31m   \u001b[0m #pragma GCC diagnostic ignored \"-Wmaybe-uninitialized\"\n",
      "  \u001b[31m   \u001b[0m                                ^\n",
      "  \u001b[31m   \u001b[0m clang: numpy/core/src/multiarray/array_assign_array.c\n",
      "  \u001b[31m   \u001b[0m clang: numpy/core/src/multiarray/convert.c\n",
      "  \u001b[31m   \u001b[0m clang: numpy/core/src/multiarray/ctors.c\n",
      "  \u001b[31m   \u001b[0m clang: numpy/core/src/multiarray/calculation.c\n",
      "  \u001b[31m   \u001b[0m clang: numpy/core/src/multiarray/datetime_busday.c\n",
      "  \u001b[31m   \u001b[0m In file included from numpy/core/src/multiarray/ctors.c:10:\n",
      "  \u001b[31m   \u001b[0m In file included from numpy/core/include/numpy/npy_math.h:596:\n",
      "  \u001b[31m   \u001b[0m numpy/core/src/npymath/npy_math_internal.h.src:490:21: warning: incompatible pointer types passing 'npy_longdouble *' (aka 'double *') to parameter of type 'long double *' [-Wincompatible-pointer-types]\n",
      "  \u001b[31m   \u001b[0m     return modfl(x, iptr);\n",
      "  \u001b[31m   \u001b[0m                     ^~~~\n",
      "  \u001b[31m   \u001b[0m /Library/Developer/CommandLineTools/SDKs/MacOSX.sdk/usr/include/math.h:394:52: note: passing argument to parameter here\n",
      "  \u001b[31m   \u001b[0m extern long double modfl(long double, long double *);\n",
      "  \u001b[31m   \u001b[0m                                                    ^\n",
      "  \u001b[31m   \u001b[0m clang: numpy/core/src/multiarray/arrayfunction_override.c\n",
      "  \u001b[31m   \u001b[0m clang: numpy/core/src/multiarray/convert_datatype.c\n",
      "  \u001b[31m   \u001b[0m clang: numpy/core/src/multiarray/compiled_base.c\n",
      "  \u001b[31m   \u001b[0m clang: numpy/core/src/multiarray/datetime_busdaycal.c\n",
      "  \u001b[31m   \u001b[0m clang: numpy/core/src/multiarray/hashdescr.c\n",
      "  \u001b[31m   \u001b[0m clang: numpy/core/src/multiarray/dragon4.c\n",
      "  \u001b[31m   \u001b[0m In file included from numpy/core/src/multiarray/convert_datatype.c:13:\n",
      "  \u001b[31m   \u001b[0m In file included from numpy/core/include/numpy/npy_math.h:596:\n",
      "  \u001b[31m   \u001b[0m numpy/core/src/npymath/npy_math_internal.h.src:490:21: warning: incompatible pointer types passing 'npy_longdouble *' (aka 'double *') to parameter of type 'long double *' [-Wincompatible-pointer-types]\n",
      "  \u001b[31m   \u001b[0m     return modfl(x, iptr);\n",
      "  \u001b[31m   \u001b[0m                     ^~~~\n",
      "  \u001b[31m   \u001b[0m /Library/Developer/CommandLineTools/SDKs/MacOSX.sdk/usr/include/math.h:394:52: note: passing argument to parameter here\n",
      "  \u001b[31m   \u001b[0m extern long double modfl(long double, long double *);\n",
      "  \u001b[31m   \u001b[0m                                                    ^\n",
      "  \u001b[31m   \u001b[0m clang: build/src.macosx-11.0-arm64-3.11/numpy/core/src/multiarray/arraytypes.c\n",
      "  \u001b[31m   \u001b[0m In file included from numpy/core/src/multiarray/compiled_base.c:9:\n",
      "  \u001b[31m   \u001b[0m In file included from numpy/core/include/numpy/npy_math.h:596:\n",
      "  \u001b[31m   \u001b[0m numpy/core/src/npymath/npy_math_internal.h.src:490:21: warning: incompatible pointer types passing 'npy_longdouble *' (aka 'double *') to parameter of type 'long double *' [-Wincompatible-pointer-types]\n",
      "  \u001b[31m   \u001b[0m     return modfl(x, iptr);\n",
      "  \u001b[31m   \u001b[0m                     ^~~~\n",
      "  \u001b[31m   \u001b[0m /Library/Developer/CommandLineTools/SDKs/MacOSX.sdk/usr/include/math.h:394:52: note: passing argument to parameter here\n",
      "  \u001b[31m   \u001b[0m extern long double modfl(long double, long double *);\n",
      "  \u001b[31m   \u001b[0m                                                    ^\n",
      "  \u001b[31m   \u001b[0m clang: numpy/core/src/multiarray/item_selection.c\n",
      "  \u001b[31m   \u001b[0m clang: build/src.macosx-11.0-arm64-3.11/numpy/core/src/multiarray/lowlevel_strided_loops.c\n",
      "  \u001b[31m   \u001b[0m In file included from numpy/core/src/multiarray/arraytypes.c.src:16:\n",
      "  \u001b[31m   \u001b[0m In file included from numpy/core/include/numpy/npy_math.h:596:\n",
      "  \u001b[31m   \u001b[0m numpy/core/src/npymath/npy_math_internal.h.src:490:21: warning: incompatible pointer types passing 'npy_longdouble *' (aka 'double *') to parameter of type 'long double *' [-Wincompatible-pointer-types]\n",
      "  \u001b[31m   \u001b[0m     return modfl(x, iptr);\n",
      "  \u001b[31m   \u001b[0m                     ^~~~\n",
      "  \u001b[31m   \u001b[0m /Library/Developer/CommandLineTools/SDKs/MacOSX.sdk/usr/include/math.h:394:52: note: passing argument to parameter here\n",
      "  \u001b[31m   \u001b[0m extern long double modfl(long double, long double *);\n",
      "  \u001b[31m   \u001b[0m                                                    ^\n",
      "  \u001b[31m   \u001b[0m In file included from numpy/core/src/multiarray/item_selection.c:10:\n",
      "  \u001b[31m   \u001b[0m In file included from numpy/core/include/numpy/npy_math.h:596:\n",
      "  \u001b[31m   \u001b[0m numpy/core/src/npymath/npy_math_internal.h.src:490:21: warning: incompatible pointer types passing 'npy_longdouble *' (aka 'double *') to parameter of type 'long double *' [-Wincompatible-pointer-types]\n",
      "  \u001b[31m   \u001b[0m     return modfl(x, iptr);\n",
      "  \u001b[31m   \u001b[0m                     ^~~~\n",
      "  \u001b[31m   \u001b[0m /Library/Developer/CommandLineTools/SDKs/MacOSX.sdk/usr/include/math.h:394:52: note: passing argument to parameter here\n",
      "  \u001b[31m   \u001b[0m extern long double modfl(long double, long double *);\n",
      "  \u001b[31m   \u001b[0m                                                    ^\n",
      "  \u001b[31m   \u001b[0m In file included from numpy/core/src/multiarray/lowlevel_strided_loops.c.src:18:\n",
      "  \u001b[31m   \u001b[0m In file included from numpy/core/include/numpy/halffloat.h:5:\n",
      "  \u001b[31m   \u001b[0m In file included from numpy/core/include/numpy/npy_math.h:596:\n",
      "  \u001b[31m   \u001b[0m numpy/core/src/npymath/npy_math_internal.h.src:490:21: warning: incompatible pointer types passing 'npy_longdouble *' (aka 'double *') to parameter of type 'long double *' [-Wincompatible-pointer-types]\n",
      "  \u001b[31m   \u001b[0m     return modfl(x, iptr);\n",
      "  \u001b[31m   \u001b[0m                     ^~~~\n",
      "  \u001b[31m   \u001b[0m /Library/Developer/CommandLineTools/SDKs/MacOSX.sdk/usr/include/math.h:394:52: note: passing argument to parameter here\n",
      "  \u001b[31m   \u001b[0m extern long double modfl(long double, long double *);\n",
      "  \u001b[31m   \u001b[0m                                                    ^\n",
      "  \u001b[31m   \u001b[0m 1 warning generated.\n",
      "  \u001b[31m   \u001b[0m clang: numpy/core/src/multiarray/datetime.c\n",
      "  \u001b[31m   \u001b[0m 1 warning generated.\n",
      "  \u001b[31m   \u001b[0m clang: numpy/core/src/multiarray/multiarraymodule.c\n",
      "  \u001b[31m   \u001b[0m clang: numpy/core/src/multiarray/dtype_transfer.c\n",
      "  \u001b[31m   \u001b[0m In file included from numpy/core/src/multiarray/multiarraymodule.c:28:\n",
      "  \u001b[31m   \u001b[0m In file included from numpy/core/include/numpy/npy_math.h:596:\n",
      "  \u001b[31m   \u001b[0m numpy/core/src/npymath/npy_math_internal.h.src:490:21: warning: incompatible pointer types passing 'npy_longdouble *' (aka 'double *') to parameter of type 'long double *' [-Wincompatible-pointer-types]\n",
      "  \u001b[31m   \u001b[0m     return modfl(x, iptr);\n",
      "  \u001b[31m   \u001b[0m                     ^~~~\n",
      "  \u001b[31m   \u001b[0m /Library/Developer/CommandLineTools/SDKs/MacOSX.sdk/usr/include/math.h:394:52: note: passing argument to parameter here\n",
      "  \u001b[31m   \u001b[0m extern long double modfl(long double, long double *);\n",
      "  \u001b[31m   \u001b[0m                                                    ^\n",
      "  \u001b[31m   \u001b[0m 1 warning generated.\n",
      "  \u001b[31m   \u001b[0m clang: numpy/core/src/multiarray/nditer_constr.c\n",
      "  \u001b[31m   \u001b[0m 1 warning generated.\n",
      "  \u001b[31m   \u001b[0m clang: numpy/core/src/multiarray/iterators.c\n",
      "  \u001b[31m   \u001b[0m clang: numpy/core/src/multiarray/refcount.c\n",
      "  \u001b[31m   \u001b[0m clang: numpy/core/src/multiarray/sequence.c\n",
      "  \u001b[31m   \u001b[0m clang: numpy/core/src/multiarray/shape.c\n",
      "  \u001b[31m   \u001b[0m clang: numpy/core/src/multiarray/scalarapi.c\n",
      "  \u001b[31m   \u001b[0m In file included from numpy/core/src/multiarray/shape.c:10:\n",
      "  \u001b[31m   \u001b[0m In file included from numpy/core/include/numpy/npy_math.h:596:\n",
      "  \u001b[31m   \u001b[0m numpy/core/src/npymath/npy_math_internal.h.src:490:21: warning: incompatible pointer types passing 'npy_longdouble *' (aka 'double *') to parameter of type 'long double *' [-Wincompatible-pointer-types]\n",
      "  \u001b[31m   \u001b[0m     return modfl(x, iptr);\n",
      "  \u001b[31m   \u001b[0m                     ^~~~\n",
      "  \u001b[31m   \u001b[0m /Library/Developer/CommandLineTools/SDKs/MacOSX.sdk/usr/include/math.h:394:52: note: passing argument to parameter here\n",
      "  \u001b[31m   \u001b[0m extern long double modfl(long double, long double *);\n",
      "  \u001b[31m   \u001b[0m                                                    ^\n",
      "  \u001b[31m   \u001b[0m In file included from numpy/core/src/multiarray/scalarapi.c:10:\n",
      "  \u001b[31m   \u001b[0m In file included from numpy/core/include/numpy/npy_math.h:596:\n",
      "  \u001b[31m   \u001b[0m numpy/core/src/npymath/npy_math_internal.h.src:490:21: warning: incompatible pointer types passing 'npy_longdouble *' (aka 'double *') to parameter of type 'long double *' [-Wincompatible-pointer-types]\n",
      "  \u001b[31m   \u001b[0m     return modfl(x, iptr);\n",
      "  \u001b[31m   \u001b[0m                     ^~~~\n",
      "  \u001b[31m   \u001b[0m /Library/Developer/CommandLineTools/SDKs/MacOSX.sdk/usr/include/math.h:394:52: note: passing argument to parameter here\n",
      "  \u001b[31m   \u001b[0m extern long double modfl(long double, long double *);\n",
      "  \u001b[31m   \u001b[0m                                                    ^\n",
      "  \u001b[31m   \u001b[0m numpy/core/src/multiarray/scalarapi.c:759:38: warning: 'ob_shash' is deprecated [-Wdeprecated-declarations]\n",
      "  \u001b[31m   \u001b[0m             ((PyStringObject *)obj)->ob_shash = -1;\n",
      "  \u001b[31m   \u001b[0m                                      ^\n",
      "  \u001b[31m   \u001b[0m /opt/anaconda3/include/python3.11/cpython/bytesobject.h:7:5: note: 'ob_shash' has been explicitly marked deprecated here\n",
      "  \u001b[31m   \u001b[0m     Py_DEPRECATED(3.11) Py_hash_t ob_shash;\n",
      "  \u001b[31m   \u001b[0m     ^\n",
      "  \u001b[31m   \u001b[0m /opt/anaconda3/include/python3.11/pyport.h:336:54: note: expanded from macro 'Py_DEPRECATED'\n",
      "  \u001b[31m   \u001b[0m #define Py_DEPRECATED(VERSION_UNUSED) __attribute__((__deprecated__))\n",
      "  \u001b[31m   \u001b[0m                                                      ^\n",
      "  \u001b[31m   \u001b[0m clang: numpy/core/src/multiarray/temp_elide.c\n",
      "  \u001b[31m   \u001b[0m 2 warnings generated.\n",
      "  \u001b[31m   \u001b[0m clang: build/src.macosx-11.0-arm64-3.11/numpy/core/src/multiarray/scalartypes.c\n",
      "  \u001b[31m   \u001b[0m clang: numpy/core/src/multiarray/nditer_pywrap.c\n",
      "  \u001b[31m   \u001b[0m 1 warning generated.\n",
      "  \u001b[31m   \u001b[0m clang: numpy/core/src/multiarray/vdot.c\n",
      "  \u001b[31m   \u001b[0m clang: numpy/core/src/multiarray/typeinfo.c\n",
      "  \u001b[31m   \u001b[0m In file included from numpy/core/src/multiarray/scalartypes.c.src:12:\n",
      "  \u001b[31m   \u001b[0m In file included from numpy/core/include/numpy/npy_math.h:596:\n",
      "  \u001b[31m   \u001b[0m numpy/core/src/npymath/npy_math_internal.h.src:490:21: warning: incompatible pointer types passing 'npy_longdouble *' (aka 'double *') to parameter of type 'long double *' [-Wincompatible-pointer-types]\n",
      "  \u001b[31m   \u001b[0m     return modfl(x, iptr);\n",
      "  \u001b[31m   \u001b[0m                     ^~~~\n",
      "  \u001b[31m   \u001b[0m /Library/Developer/CommandLineTools/SDKs/MacOSX.sdk/usr/include/math.h:394:52: note: passing argument to parameter here\n",
      "  \u001b[31m   \u001b[0m extern long double modfl(long double, long double *);\n",
      "  \u001b[31m   \u001b[0m                                                    ^\n",
      "  \u001b[31m   \u001b[0m numpy/core/src/multiarray/scalartypes.c.src:1881:9: warning: variable 'i' set but not used [-Wunused-but-set-variable]\n",
      "  \u001b[31m   \u001b[0m     int i;\n",
      "  \u001b[31m   \u001b[0m         ^\n",
      "  \u001b[31m   \u001b[0m numpy/core/src/multiarray/scalartypes.c.src:1881:9: warning: variable 'i' set but not used [-Wunused-but-set-variable]\n",
      "  \u001b[31m   \u001b[0m     int i;\n",
      "  \u001b[31m   \u001b[0m         ^\n",
      "  \u001b[31m   \u001b[0m numpy/core/src/multiarray/scalartypes.c.src:1881:9: warning: variable 'i' set but not used [-Wunused-but-set-variable]\n",
      "  \u001b[31m   \u001b[0m     int i;\n",
      "  \u001b[31m   \u001b[0m         ^\n",
      "  \u001b[31m   \u001b[0m numpy/core/src/multiarray/scalartypes.c.src:1881:9: warning: variable 'i' set but not used [-Wunused-but-set-variable]\n",
      "  \u001b[31m   \u001b[0m     int i;\n",
      "  \u001b[31m   \u001b[0m         ^\n",
      "  \u001b[31m   \u001b[0m numpy/core/src/multiarray/scalartypes.c.src:2968:65: error: too few arguments to function call, expected 2, have 1\n",
      "  \u001b[31m   \u001b[0m     return _Py_HashDouble((double) PyArrayScalar_VAL(obj, Float));\n",
      "  \u001b[31m   \u001b[0m            ~~~~~~~~~~~~~~                                       ^\n",
      "  \u001b[31m   \u001b[0m /opt/anaconda3/include/python3.11/pyhash.h:10:23: note: '_Py_HashDouble' declared here\n",
      "  \u001b[31m   \u001b[0m PyAPI_FUNC(Py_hash_t) _Py_HashDouble(PyObject *, double);\n",
      "  \u001b[31m   \u001b[0m                       ^\n",
      "  \u001b[31m   \u001b[0m numpy/core/src/multiarray/scalartypes.c.src:2977:48: error: too few arguments to function call, expected 2, have 1\n",
      "  \u001b[31m   \u001b[0m             PyArrayScalar_VAL(obj, CFloat).real);\n",
      "  \u001b[31m   \u001b[0m                                                ^\n",
      "  \u001b[31m   \u001b[0m /opt/anaconda3/include/python3.11/pyhash.h:10:23: note: '_Py_HashDouble' declared here\n",
      "  \u001b[31m   \u001b[0m PyAPI_FUNC(Py_hash_t) _Py_HashDouble(PyObject *, double);\n",
      "  \u001b[31m   \u001b[0m                       ^\n",
      "  \u001b[31m   \u001b[0m numpy/core/src/multiarray/scalartypes.c.src:2983:48: error: too few arguments to function call, expected 2, have 1\n",
      "  \u001b[31m   \u001b[0m             PyArrayScalar_VAL(obj, CFloat).imag);\n",
      "  \u001b[31m   \u001b[0m                                                ^\n",
      "  \u001b[31m   \u001b[0m /opt/anaconda3/include/python3.11/pyhash.h:10:23: note: '_Py_HashDouble' declared here\n",
      "  \u001b[31m   \u001b[0m PyAPI_FUNC(Py_hash_t) _Py_HashDouble(PyObject *, double);\n",
      "  \u001b[31m   \u001b[0m                       ^\n",
      "  \u001b[31m   \u001b[0m numpy/core/src/multiarray/scalartypes.c.src:2968:70: error: too few arguments to function call, expected 2, have 1\n",
      "  \u001b[31m   \u001b[0m     return _Py_HashDouble((double) PyArrayScalar_VAL(obj, LongDouble));\n",
      "  \u001b[31m   \u001b[0m            ~~~~~~~~~~~~~~                                            ^\n",
      "  \u001b[31m   \u001b[0m /opt/anaconda3/include/python3.11/pyhash.h:10:23: note: '_Py_HashDouble' declared here\n",
      "  \u001b[31m   \u001b[0m PyAPI_FUNC(Py_hash_t) _Py_HashDouble(PyObject *, double);\n",
      "  \u001b[31m   \u001b[0m                       ^\n",
      "  \u001b[31m   \u001b[0m numpy/core/src/multiarray/scalartypes.c.src:2977:53: error: too few arguments to function call, expected 2, have 1\n",
      "  \u001b[31m   \u001b[0m             PyArrayScalar_VAL(obj, CLongDouble).real);\n",
      "  \u001b[31m   \u001b[0m                                                     ^\n",
      "  \u001b[31m   \u001b[0m /opt/anaconda3/include/python3.11/pyhash.h:10:23: note: '_Py_HashDouble' declared here\n",
      "  \u001b[31m   \u001b[0m PyAPI_FUNC(Py_hash_t) _Py_HashDouble(PyObject *, double);\n",
      "  \u001b[31m   \u001b[0m                       ^\n",
      "  \u001b[31m   \u001b[0m clang: numpy/core/src/multiarray/usertypes.c\n",
      "  \u001b[31m   \u001b[0m numpy/core/src/multiarray/scalartypes.c.src:2983:53: error: too few arguments to function call, expected 2, have 1\n",
      "  \u001b[31m   \u001b[0m             PyArrayScalar_VAL(obj, CLongDouble).imag);\n",
      "  \u001b[31m   \u001b[0m                                                     ^\n",
      "  \u001b[31m   \u001b[0m /opt/anaconda3/include/python3.11/pyhash.h:10:23: note: '_Py_HashDouble' declared here\n",
      "  \u001b[31m   \u001b[0m PyAPI_FUNC(Py_hash_t) _Py_HashDouble(PyObject *, double);\n",
      "  \u001b[31m   \u001b[0m                       ^\n",
      "  \u001b[31m   \u001b[0m numpy/core/src/multiarray/scalartypes.c.src:2998:75: error: too few arguments to function call, expected 2, have 1\n",
      "  \u001b[31m   \u001b[0m     return _Py_HashDouble(npy_half_to_double(PyArrayScalar_VAL(obj, Half)));\n",
      "  \u001b[31m   \u001b[0m            ~~~~~~~~~~~~~~                                                 ^\n",
      "  \u001b[31m   \u001b[0m /opt/anaconda3/include/python3.11/pyhash.h:10:23: note: '_Py_HashDouble' declared here\n",
      "  \u001b[31m   \u001b[0m PyAPI_FUNC(Py_hash_t) _Py_HashDouble(PyObject *, double);\n",
      "  \u001b[31m   \u001b[0m                       ^\n",
      "  \u001b[31m   \u001b[0m clang: numpy/core/src/umath/umathmodule.c\n",
      "  \u001b[31m   \u001b[0m 5 warnings and 7 errors generated.\n",
      "  \u001b[31m   \u001b[0m clang: build/src.macosx-11.0-arm64-3.11/numpy/core/src/umath/loops.c\n",
      "  \u001b[31m   \u001b[0m In file included from numpy/core/src/umath/umathmodule.c:27:\n",
      "  \u001b[31m   \u001b[0m In file included from numpy/core/include/numpy/ufuncobject.h:4:\n",
      "  \u001b[31m   \u001b[0m In file included from numpy/core/include/numpy/npy_math.h:596:\n",
      "  \u001b[31m   \u001b[0m numpy/core/src/npymath/npy_math_internal.h.src:490:21: warning: incompatible pointer types passing 'npy_longdouble *' (aka 'double *') to parameter of type 'long double *' [-Wincompatible-pointer-types]\n",
      "  \u001b[31m   \u001b[0m     return modfl(x, iptr);\n",
      "  \u001b[31m   \u001b[0m                     ^~~~\n",
      "  \u001b[31m   \u001b[0m /Library/Developer/CommandLineTools/SDKs/MacOSX.sdk/usr/include/math.h:394:52: note: passing argument to parameter here\n",
      "  \u001b[31m   \u001b[0m extern long double modfl(long double, long double *);\n",
      "  \u001b[31m   \u001b[0m                                                    ^\n",
      "  \u001b[31m   \u001b[0m In file included from numpy/core/src/umath/loops.c.src:12:\n",
      "  \u001b[31m   \u001b[0m In file included from numpy/core/include/numpy/ufuncobject.h:4:\n",
      "  \u001b[31m   \u001b[0m In file included from numpy/core/include/numpy/npy_math.h:596:\n",
      "  \u001b[31m   \u001b[0m numpy/core/src/npymath/npy_math_internal.h.src:490:21: warning: incompatible pointer types passing 'npy_longdouble *' (aka 'double *') to parameter of type 'long double *' [-Wincompatible-pointer-types]\n",
      "  \u001b[31m   \u001b[0m     return modfl(x, iptr);\n",
      "  \u001b[31m   \u001b[0m                     ^~~~\n",
      "  \u001b[31m   \u001b[0m /Library/Developer/CommandLineTools/SDKs/MacOSX.sdk/usr/include/math.h:394:52: note: passing argument to parameter here\n",
      "  \u001b[31m   \u001b[0m extern long double modfl(long double, long double *);\n",
      "  \u001b[31m   \u001b[0m                                                    ^\n",
      "  \u001b[31m   \u001b[0m clang: numpy/core/src/umath/ufunc_object.c\n",
      "  \u001b[31m   \u001b[0m 1 warning generated.\n",
      "  \u001b[31m   \u001b[0m clang: numpy/core/src/umath/reduction.c\n",
      "  \u001b[31m   \u001b[0m clang: numpy/core/src/multiarray/number.c\n",
      "  \u001b[31m   \u001b[0m In file included from numpy/core/src/umath/ufunc_object.c:37:\n",
      "  \u001b[31m   \u001b[0m In file included from numpy/core/include/numpy/ufuncobject.h:4:\n",
      "  \u001b[31m   \u001b[0m In file included from numpy/core/include/numpy/npy_math.h:596:\n",
      "  \u001b[31m   \u001b[0m numpy/core/src/npymath/npy_math_internal.h.src:490:21: warning: incompatible pointer types passing 'npy_longdouble *' (aka 'double *') to parameter of type 'long double *' [-Wincompatible-pointer-types]\n",
      "  \u001b[31m   \u001b[0m     return modfl(x, iptr);\n",
      "  \u001b[31m   \u001b[0m                     ^~~~\n",
      "  \u001b[31m   \u001b[0m /Library/Developer/CommandLineTools/SDKs/MacOSX.sdk/usr/include/math.h:394:52: note: passing argument to parameter here\n",
      "  \u001b[31m   \u001b[0m extern long double modfl(long double, long double *);\n",
      "  \u001b[31m   \u001b[0m                                                    ^\n",
      "  \u001b[31m   \u001b[0m In file included from numpy/core/src/umath/reduction.c:23:\n",
      "  \u001b[31m   \u001b[0m In file included from numpy/core/include/numpy/ufuncobject.h:4:\n",
      "  \u001b[31m   \u001b[0m In file included from numpy/core/include/numpy/npy_math.h:596:\n",
      "  \u001b[31m   \u001b[0m numpy/core/src/npymath/npy_math_internal.h.src:490:21: warning: incompatible pointer types passing 'npy_longdouble *' (aka 'double *') to parameter of type 'long double *' [-Wincompatible-pointer-types]\n",
      "  \u001b[31m   \u001b[0m     return modfl(x, iptr);\n",
      "  \u001b[31m   \u001b[0m                     ^~~~\n",
      "  \u001b[31m   \u001b[0m /Library/Developer/CommandLineTools/SDKs/MacOSX.sdk/usr/include/math.h:394:52: note: passing argument to parameter here\n",
      "  \u001b[31m   \u001b[0m extern long double modfl(long double, long double *);\n",
      "  \u001b[31m   \u001b[0m                                                    ^\n",
      "  \u001b[31m   \u001b[0m 1 warning generated.\n",
      "  \u001b[31m   \u001b[0m 1 warning generated.\n",
      "  \u001b[31m   \u001b[0m clang: numpy/core/src/umath/ufunc_type_resolution.c\n",
      "  \u001b[31m   \u001b[0m clang: build/src.macosx-11.0-arm64-3.11/numpy/core/src/multiarray/nditer_templ.c\n",
      "  \u001b[31m   \u001b[0m In file included from numpy/core/src/umath/ufunc_type_resolution.c:23:\n",
      "  \u001b[31m   \u001b[0m In file included from numpy/core/include/numpy/ufuncobject.h:4:\n",
      "  \u001b[31m   \u001b[0m In file included from numpy/core/include/numpy/npy_math.h:596:\n",
      "  \u001b[31m   \u001b[0m numpy/core/src/npymath/npy_math_internal.h.src:490:21: warning: incompatible pointer types passing 'npy_longdouble *' (aka 'double *') to parameter of type 'long double *' [-Wincompatible-pointer-types]\n",
      "  \u001b[31m   \u001b[0m     return modfl(x, iptr);\n",
      "  \u001b[31m   \u001b[0m                     ^~~~\n",
      "  \u001b[31m   \u001b[0m /Library/Developer/CommandLineTools/SDKs/MacOSX.sdk/usr/include/math.h:394:52: note: passing argument to parameter here\n",
      "  \u001b[31m   \u001b[0m extern long double modfl(long double, long double *);\n",
      "  \u001b[31m   \u001b[0m                                                    ^\n",
      "  \u001b[31m   \u001b[0m clang: build/src.macosx-11.0-arm64-3.11/numpy/core/src/npymath/ieee754.c\n",
      "  \u001b[31m   \u001b[0m In file included from numpy/core/src/npymath/ieee754.c.src:7:\n",
      "  \u001b[31m   \u001b[0m In file included from numpy/core/src/npymath/npy_math_common.h:9:\n",
      "  \u001b[31m   \u001b[0m In file included from numpy/core/include/numpy/npy_math.h:596:\n",
      "  \u001b[31m   \u001b[0m numpy/core/src/npymath/npy_math_internal.h.src:490:21: warning: incompatible pointer types passing 'npy_longdouble *' (aka 'double *') to parameter of type 'long double *' [-Wincompatible-pointer-types]\n",
      "  \u001b[31m   \u001b[0m     return modfl(x, iptr);\n",
      "  \u001b[31m   \u001b[0m                     ^~~~\n",
      "  \u001b[31m   \u001b[0m /Library/Developer/CommandLineTools/SDKs/MacOSX.sdk/usr/include/math.h:394:52: note: passing argument to parameter here\n",
      "  \u001b[31m   \u001b[0m extern long double modfl(long double, long double *);\n",
      "  \u001b[31m   \u001b[0m                                                    ^\n",
      "  \u001b[31m   \u001b[0m 1 warning generated.\n",
      "  \u001b[31m   \u001b[0m clang: build/src.macosx-11.0-arm64-3.11/numpy/core/src/npymath/npy_math_complex.c\n",
      "  \u001b[31m   \u001b[0m 1 warning generated.\n",
      "  \u001b[31m   \u001b[0m clang: numpy/core/src/umath/override.c\n",
      "  \u001b[31m   \u001b[0m In file included from numpy/core/src/npymath/npy_math_complex.c.src:34:\n",
      "  \u001b[31m   \u001b[0m In file included from numpy/core/src/npymath/npy_math_common.h:9:\n",
      "  \u001b[31m   \u001b[0m In file included from numpy/core/include/numpy/npy_math.h:596:\n",
      "  \u001b[31m   \u001b[0m numpy/core/src/npymath/npy_math_internal.h.src:490:21: warning: incompatible pointer types passing 'npy_longdouble *' (aka 'double *') to parameter of type 'long double *' [-Wincompatible-pointer-types]\n",
      "  \u001b[31m   \u001b[0m     return modfl(x, iptr);\n",
      "  \u001b[31m   \u001b[0m                     ^~~~\n",
      "  \u001b[31m   \u001b[0m /Library/Developer/CommandLineTools/SDKs/MacOSX.sdk/usr/include/math.h:394:52: note: passing argument to parameter here\n",
      "  \u001b[31m   \u001b[0m extern long double modfl(long double, long double *);\n",
      "  \u001b[31m   \u001b[0m                                                    ^\n",
      "  \u001b[31m   \u001b[0m 1 warning generated.\n",
      "  \u001b[31m   \u001b[0m clang: numpy/core/src/npymath/halffloat.c\n",
      "  \u001b[31m   \u001b[0m 2 warnings generated.\n",
      "  \u001b[31m   \u001b[0m In file included from numpy/core/src/umath/override.c:5:\n",
      "  \u001b[31m   \u001b[0m In file included from numpy/core/include/numpy/ufuncobject.h:4:\n",
      "  \u001b[31m   \u001b[0m In file included from numpy/core/include/numpy/npy_math.h:596:\n",
      "  \u001b[31m   \u001b[0m numpy/core/src/npymath/npy_math_internal.h.src:490:21: warning: incompatible pointer types passing 'npy_longdouble *' (aka 'double *') to parameter of type 'long double *' [-Wincompatible-pointer-types]\n",
      "  \u001b[31m   \u001b[0m     return modfl(x, iptr);\n",
      "  \u001b[31m   \u001b[0m                     ^~~~\n",
      "  \u001b[31m   \u001b[0m /Library/Developer/CommandLineTools/SDKs/MacOSX.sdk/usr/include/math.h:394:52: note: passing argument to parameter here\n",
      "  \u001b[31m   \u001b[0m extern long double modfl(long double, long double *);\n",
      "  \u001b[31m   \u001b[0m                                                    ^\n",
      "  \u001b[31m   \u001b[0m clang: numpy/core/src/multiarray/flagsobject.c\n",
      "  \u001b[31m   \u001b[0m In file included from numpy/core/src/npymath/halffloat.c:2:\n",
      "  \u001b[31m   \u001b[0m In file included from numpy/core/include/numpy/halffloat.h:5:\n",
      "  \u001b[31m   \u001b[0m In file included from numpy/core/include/numpy/npy_math.h:596:\n",
      "  \u001b[31m   \u001b[0m numpy/core/src/npymath/npy_math_internal.h.src:490:21: warning: incompatible pointer types passing 'npy_longdouble *' (aka 'double *') to parameter of type 'long double *' [-Wincompatible-pointer-types]\n",
      "  \u001b[31m   \u001b[0m     return modfl(x, iptr);\n",
      "  \u001b[31m   \u001b[0m                     ^~~~\n",
      "  \u001b[31m   \u001b[0m /Library/Developer/CommandLineTools/SDKs/MacOSX.sdk/usr/include/math.h:394:52: note: passing argument to parameter here\n",
      "  \u001b[31m   \u001b[0m extern long double modfl(long double, long double *);\n",
      "  \u001b[31m   \u001b[0m                                                    ^\n",
      "  \u001b[31m   \u001b[0m 1 warning generated.\n",
      "  \u001b[31m   \u001b[0m clang: numpy/core/src/npymath/npy_math.c\n",
      "  \u001b[31m   \u001b[0m 1 warning generated.\n",
      "  \u001b[31m   \u001b[0m clang: numpy/core/src/common/array_assign.c\n",
      "  \u001b[31m   \u001b[0m clang: numpy/core/src/multiarray/getset.c\n",
      "  \u001b[31m   \u001b[0m In file included from numpy/core/src/npymath/npy_math.c:9:\n",
      "  \u001b[31m   \u001b[0m numpy/core/src/npymath/npy_math_internal.h.src:490:21: warning: incompatible pointer types passing 'npy_longdouble *' (aka 'double *') to parameter of type 'long double *' [-Wincompatible-pointer-types]\n",
      "  \u001b[31m   \u001b[0m     return modfl(x, iptr);\n",
      "  \u001b[31m   \u001b[0m                     ^~~~\n",
      "  \u001b[31m   \u001b[0m /Library/Developer/CommandLineTools/SDKs/MacOSX.sdk/usr/include/math.h:394:52: note: passing argument to parameter here\n",
      "  \u001b[31m   \u001b[0m extern long double modfl(long double, long double *);\n",
      "  \u001b[31m   \u001b[0m                                                    ^\n",
      "  \u001b[31m   \u001b[0m 1 warning generated.\n",
      "  \u001b[31m   \u001b[0m clang: numpy/core/src/umath/extobj.c\n",
      "  \u001b[31m   \u001b[0m 1 warning generated.\n",
      "  \u001b[31m   \u001b[0m clang: numpy/core/src/common/mem_overlap.c\n",
      "  \u001b[31m   \u001b[0m clang: numpy/core/src/common/ucsnarrow.c\n",
      "  \u001b[31m   \u001b[0m clang: numpy/core/src/multiarray/nditer_api.c\n",
      "  \u001b[31m   \u001b[0m In file included from numpy/core/src/umath/extobj.c:12:\n",
      "  \u001b[31m   \u001b[0m In file included from numpy/core/include/numpy/ufuncobject.h:4:\n",
      "  \u001b[31m   \u001b[0m In file included from numpy/core/include/numpy/npy_math.h:596:\n",
      "  \u001b[31m   \u001b[0m numpy/core/src/npymath/npy_math_internal.h.src:490:21: warning: incompatible pointer types passing 'npy_longdouble *' (aka 'double *') to parameter of type 'long double *' [-Wincompatible-pointer-types]\n",
      "  \u001b[31m   \u001b[0m     return modfl(x, iptr);\n",
      "  \u001b[31m   \u001b[0m                     ^~~~\n",
      "  \u001b[31m   \u001b[0m /Library/Developer/CommandLineTools/SDKs/MacOSX.sdk/usr/include/math.h:394:52: note: passing argument to parameter here\n",
      "  \u001b[31m   \u001b[0m extern long double modfl(long double, long double *);\n",
      "  \u001b[31m   \u001b[0m                                                    ^\n",
      "  \u001b[31m   \u001b[0m 1 warning generated.\n",
      "  \u001b[31m   \u001b[0m clang: build/src.macosx-11.0-arm64-3.11/numpy/core/src/umath/scalarmath.c\n",
      "  \u001b[31m   \u001b[0m clang: build/src.macosx-11.0-arm64-3.11/numpy/core/src/common/npy_cpu_features.c\n",
      "  \u001b[31m   \u001b[0m In file included from numpy/core/src/common/ucsnarrow.c:11:\n",
      "  \u001b[31m   \u001b[0m In file included from numpy/core/include/numpy/npy_math.h:596:\n",
      "  \u001b[31m   \u001b[0m numpy/core/src/npymath/npy_math_internal.h.src:490:21: warning: incompatible pointer types passing 'npy_longdouble *' (aka 'double *') to parameter of type 'long double *' [-Wincompatible-pointer-types]\n",
      "  \u001b[31m   \u001b[0m     return modfl(x, iptr);\n",
      "  \u001b[31m   \u001b[0m                     ^~~~\n",
      "  \u001b[31m   \u001b[0m /Library/Developer/CommandLineTools/SDKs/MacOSX.sdk/usr/include/math.h:394:52: note: passing argument to parameter here\n",
      "  \u001b[31m   \u001b[0m extern long double modfl(long double, long double *);\n",
      "  \u001b[31m   \u001b[0m                                                    ^\n",
      "  \u001b[31m   \u001b[0m 1 warning generated.\n",
      "  \u001b[31m   \u001b[0m clang: numpy/core/src/common/ufunc_override.c\n",
      "  \u001b[31m   \u001b[0m In file included from numpy/core/src/umath/scalarmath.c.src:16:\n",
      "  \u001b[31m   \u001b[0m In file included from numpy/core/include/numpy/ufuncobject.h:4:\n",
      "  \u001b[31m   \u001b[0m In file included from numpy/core/include/numpy/npy_math.h:596:\n",
      "  \u001b[31m   \u001b[0m numpy/core/src/npymath/npy_math_internal.h.src:490:21: warning: incompatible pointer types passing 'npy_longdouble *' (aka 'double *') to parameter of type 'long double *' [-Wincompatible-pointer-types]\n",
      "  \u001b[31m   \u001b[0m     return modfl(x, iptr);\n",
      "  \u001b[31m   \u001b[0m                     ^~~~\n",
      "  \u001b[31m   \u001b[0m /Library/Developer/CommandLineTools/SDKs/MacOSX.sdk/usr/include/math.h:394:52: note: passing argument to parameter here\n",
      "  \u001b[31m   \u001b[0m extern long double modfl(long double, long double *);\n",
      "  \u001b[31m   \u001b[0m                                                    ^\n",
      "  \u001b[31m   \u001b[0m clang: numpy/core/src/common/cblasfuncs.c\n",
      "  \u001b[31m   \u001b[0m clang: numpy/core/src/common/numpyos.c\n",
      "  \u001b[31m   \u001b[0m clang: numpy/core/src/common/npy_longdouble.c\n",
      "  \u001b[31m   \u001b[0m In file included from numpy/core/src/common/npy_longdouble.c:7:\n",
      "  \u001b[31m   \u001b[0m In file included from numpy/core/include/numpy/npy_math.h:596:\n",
      "  \u001b[31m   \u001b[0m numpy/core/src/npymath/npy_math_internal.h.src:490:21: warning: incompatible pointer types passing 'npy_longdouble *' (aka 'double *') to parameter of type 'long double *' [-Wincompatible-pointer-types]\n",
      "  \u001b[31m   \u001b[0m     return modfl(x, iptr);\n",
      "  \u001b[31m   \u001b[0m                     ^~~~\n",
      "  \u001b[31m   \u001b[0m /Library/Developer/CommandLineTools/SDKs/MacOSX.sdk/usr/include/math.h:394:52: note: passing argument to parameter here\n",
      "  \u001b[31m   \u001b[0m extern long double modfl(long double, long double *);\n",
      "  \u001b[31m   \u001b[0m                                                    ^\n",
      "  \u001b[31m   \u001b[0m 1 warning generated.\n",
      "  \u001b[31m   \u001b[0m In file included from numpy/core/src/common/numpyos.c:10:\n",
      "  \u001b[31m   \u001b[0m In file included from numpy/core/include/numpy/npy_math.h:596:\n",
      "  \u001b[31m   \u001b[0m numpy/core/src/npymath/npy_math_internal.h.src:490:21: warning: incompatible pointer types passing 'npy_longdouble *' (aka 'double *') to parameter of type 'long double *' [-Wincompatible-pointer-types]\n",
      "  \u001b[31m   \u001b[0m     return modfl(x, iptr);\n",
      "  \u001b[31m   \u001b[0m                     ^~~~\n",
      "  \u001b[31m   \u001b[0m /Library/Developer/CommandLineTools/SDKs/MacOSX.sdk/usr/include/math.h:394:52: note: passing argument to parameter here\n",
      "  \u001b[31m   \u001b[0m extern long double modfl(long double, long double *);\n",
      "  \u001b[31m   \u001b[0m                                                    ^\n",
      "  \u001b[31m   \u001b[0m clang: numpy/core/src/common/python_xerbla.c\n",
      "  \u001b[31m   \u001b[0m 1 warning generated.\n",
      "  \u001b[31m   \u001b[0m 1 warning generated.\n",
      "  \u001b[31m   \u001b[0m 1 warning generated.\n",
      "  \u001b[31m   \u001b[0m 1 warning generated.\n",
      "  \u001b[31m   \u001b[0m clang: numpy/core/src/multiarray/mapping.c\n",
      "  \u001b[31m   \u001b[0m clang: numpy/core/src/multiarray/methods.c\n",
      "  \u001b[31m   \u001b[0m 1 warning generated.\n",
      "  \u001b[31m   \u001b[0m clang: build/src.macosx-11.0-arm64-3.11/numpy/core/src/umath/matmul.c\n",
      "  \u001b[31m   \u001b[0m In file included from numpy/core/src/umath/matmul.c.src:12:\n",
      "  \u001b[31m   \u001b[0m In file included from numpy/core/include/numpy/ufuncobject.h:4:\n",
      "  \u001b[31m   \u001b[0m In file included from numpy/core/include/numpy/npy_math.h:596:\n",
      "  \u001b[31m   \u001b[0m numpy/core/src/npymath/npy_math_internal.h.src:490:21: warning: incompatible pointer types passing 'npy_longdouble *' (aka 'double *') to parameter of type 'long double *' [-Wincompatible-pointer-types]\n",
      "  \u001b[31m   \u001b[0m     return modfl(x, iptr);\n",
      "  \u001b[31m   \u001b[0m                     ^~~~\n",
      "  \u001b[31m   \u001b[0m /Library/Developer/CommandLineTools/SDKs/MacOSX.sdk/usr/include/math.h:394:52: note: passing argument to parameter here\n",
      "  \u001b[31m   \u001b[0m extern long double modfl(long double, long double *);\n",
      "  \u001b[31m   \u001b[0m                                                    ^\n",
      "  \u001b[31m   \u001b[0m 1 warning generated.\n",
      "  \u001b[31m   \u001b[0m clang: build/src.macosx-11.0-arm64-3.11/numpy/core/src/umath/clip.c\n",
      "  \u001b[31m   \u001b[0m In file included from numpy/core/src/umath/clip.c.src:10:\n",
      "  \u001b[31m   \u001b[0m In file included from numpy/core/include/numpy/halffloat.h:5:\n",
      "  \u001b[31m   \u001b[0m In file included from numpy/core/include/numpy/npy_math.h:596:\n",
      "  \u001b[31m   \u001b[0m numpy/core/src/npymath/npy_math_internal.h.src:490:21: warning: incompatible pointer types passing 'npy_longdouble *' (aka 'double *') to parameter of type 'long double *' [-Wincompatible-pointer-types]\n",
      "  \u001b[31m   \u001b[0m     return modfl(x, iptr);\n",
      "  \u001b[31m   \u001b[0m                     ^~~~\n",
      "  \u001b[31m   \u001b[0m /Library/Developer/CommandLineTools/SDKs/MacOSX.sdk/usr/include/math.h:394:52: note: passing argument to parameter here\n",
      "  \u001b[31m   \u001b[0m extern long double modfl(long double, long double *);\n",
      "  \u001b[31m   \u001b[0m                                                    ^\n",
      "  \u001b[31m   \u001b[0m 1 warning generated.\n",
      "  \u001b[31m   \u001b[0m error: Command \"clang -DNDEBUG -fwrapv -O2 -Wall -fPIC -O2 -isystem /opt/anaconda3/include -arch arm64 -fPIC -O2 -isystem /opt/anaconda3/include -arch arm64 -DNPY_INTERNAL_BUILD=1 -DHAVE_NPY_CONFIG_H=1 -D_FILE_OFFSET_BITS=64 -D_LARGEFILE_SOURCE=1 -D_LARGEFILE64_SOURCE=1 -DHAVE_CBLAS -Ibuild/src.macosx-11.0-arm64-3.11/numpy/core/src/umath -Ibuild/src.macosx-11.0-arm64-3.11/numpy/core/src/npymath -Ibuild/src.macosx-11.0-arm64-3.11/numpy/core/src/common -Inumpy/core/include -Ibuild/src.macosx-11.0-arm64-3.11/numpy/core/include/numpy -Inumpy/core/src/common -Inumpy/core/src -Inumpy/core -Inumpy/core/src/npymath -Inumpy/core/src/multiarray -Inumpy/core/src/umath -Inumpy/core/src/npysort -I/opt/anaconda3/include/python3.11 -Ibuild/src.macosx-11.0-arm64-3.11/numpy/core/src/common -Ibuild/src.macosx-11.0-arm64-3.11/numpy/core/src/npymath -c build/src.macosx-11.0-arm64-3.11/numpy/core/src/multiarray/scalartypes.c -o build/temp.macosx-11.0-arm64-3.11/build/src.macosx-11.0-arm64-3.11/numpy/core/src/multiarray/scalartypes.o -MMD -MF build/temp.macosx-11.0-arm64-3.11/build/src.macosx-11.0-arm64-3.11/numpy/core/src/multiarray/scalartypes.o.d\" failed with exit status 1\n",
      "  \u001b[31m   \u001b[0m \u001b[31m[end of output]\u001b[0m\n",
      "  \n",
      "  \u001b[1;35mnote\u001b[0m: This error originates from a subprocess, and is likely not a problem with pip.\n",
      "\u001b[?25h\u001b[31m  ERROR: Failed building wheel for numpy\u001b[0m\u001b[31m\n",
      "\u001b[0mFailed to build numpy\n",
      "\u001b[31mERROR: Could not build wheels for numpy, which is required to install pyproject.toml-based projects\u001b[0m\u001b[31m\n",
      "\u001b[0mRequirement already satisfied: matplotlib in /opt/anaconda3/lib/python3.11/site-packages (3.8.0)\n",
      "Requirement already satisfied: contourpy>=1.0.1 in /opt/anaconda3/lib/python3.11/site-packages (from matplotlib) (1.2.0)\n",
      "Requirement already satisfied: cycler>=0.10 in /opt/anaconda3/lib/python3.11/site-packages (from matplotlib) (0.11.0)\n",
      "Requirement already satisfied: fonttools>=4.22.0 in /opt/anaconda3/lib/python3.11/site-packages (from matplotlib) (4.25.0)\n",
      "Requirement already satisfied: kiwisolver>=1.0.1 in /opt/anaconda3/lib/python3.11/site-packages (from matplotlib) (1.4.4)\n",
      "Requirement already satisfied: numpy<2,>=1.21 in /opt/anaconda3/lib/python3.11/site-packages (from matplotlib) (1.26.4)\n",
      "Requirement already satisfied: packaging>=20.0 in /opt/anaconda3/lib/python3.11/site-packages (from matplotlib) (23.1)\n",
      "Requirement already satisfied: pillow>=6.2.0 in /opt/anaconda3/lib/python3.11/site-packages (from matplotlib) (10.2.0)\n",
      "Requirement already satisfied: pyparsing>=2.3.1 in /opt/anaconda3/lib/python3.11/site-packages (from matplotlib) (3.0.9)\n",
      "Requirement already satisfied: python-dateutil>=2.7 in /opt/anaconda3/lib/python3.11/site-packages (from matplotlib) (2.8.2)\n",
      "Requirement already satisfied: six>=1.5 in /opt/anaconda3/lib/python3.11/site-packages (from python-dateutil>=2.7->matplotlib) (1.16.0)\n",
      "Requirement already satisfied: seaborn in /opt/anaconda3/lib/python3.11/site-packages (0.12.2)\n",
      "Requirement already satisfied: numpy!=1.24.0,>=1.17 in /opt/anaconda3/lib/python3.11/site-packages (from seaborn) (1.26.4)\n",
      "Requirement already satisfied: pandas>=0.25 in /opt/anaconda3/lib/python3.11/site-packages (from seaborn) (2.1.4)\n",
      "Requirement already satisfied: matplotlib!=3.6.1,>=3.1 in /opt/anaconda3/lib/python3.11/site-packages (from seaborn) (3.8.0)\n",
      "Requirement already satisfied: contourpy>=1.0.1 in /opt/anaconda3/lib/python3.11/site-packages (from matplotlib!=3.6.1,>=3.1->seaborn) (1.2.0)\n",
      "Requirement already satisfied: cycler>=0.10 in /opt/anaconda3/lib/python3.11/site-packages (from matplotlib!=3.6.1,>=3.1->seaborn) (0.11.0)\n",
      "Requirement already satisfied: fonttools>=4.22.0 in /opt/anaconda3/lib/python3.11/site-packages (from matplotlib!=3.6.1,>=3.1->seaborn) (4.25.0)\n",
      "Requirement already satisfied: kiwisolver>=1.0.1 in /opt/anaconda3/lib/python3.11/site-packages (from matplotlib!=3.6.1,>=3.1->seaborn) (1.4.4)\n",
      "Requirement already satisfied: packaging>=20.0 in /opt/anaconda3/lib/python3.11/site-packages (from matplotlib!=3.6.1,>=3.1->seaborn) (23.1)\n",
      "Requirement already satisfied: pillow>=6.2.0 in /opt/anaconda3/lib/python3.11/site-packages (from matplotlib!=3.6.1,>=3.1->seaborn) (10.2.0)\n",
      "Requirement already satisfied: pyparsing>=2.3.1 in /opt/anaconda3/lib/python3.11/site-packages (from matplotlib!=3.6.1,>=3.1->seaborn) (3.0.9)\n",
      "Requirement already satisfied: python-dateutil>=2.7 in /opt/anaconda3/lib/python3.11/site-packages (from matplotlib!=3.6.1,>=3.1->seaborn) (2.8.2)\n",
      "Requirement already satisfied: pytz>=2020.1 in /opt/anaconda3/lib/python3.11/site-packages (from pandas>=0.25->seaborn) (2023.3.post1)\n",
      "Requirement already satisfied: tzdata>=2022.1 in /opt/anaconda3/lib/python3.11/site-packages (from pandas>=0.25->seaborn) (2023.3)\n",
      "Requirement already satisfied: six>=1.5 in /opt/anaconda3/lib/python3.11/site-packages (from python-dateutil>=2.7->matplotlib!=3.6.1,>=3.1->seaborn) (1.16.0)\n",
      "Requirement already satisfied: scikit-learn in /opt/anaconda3/lib/python3.11/site-packages (1.2.2)\n",
      "Requirement already satisfied: numpy>=1.17.3 in /opt/anaconda3/lib/python3.11/site-packages (from scikit-learn) (1.26.4)\n",
      "Requirement already satisfied: scipy>=1.3.2 in /opt/anaconda3/lib/python3.11/site-packages (from scikit-learn) (1.11.4)\n",
      "Requirement already satisfied: joblib>=1.1.1 in /opt/anaconda3/lib/python3.11/site-packages (from scikit-learn) (1.2.0)\n",
      "Requirement already satisfied: threadpoolctl>=2.0.0 in /opt/anaconda3/lib/python3.11/site-packages (from scikit-learn) (2.2.0)\n",
      "\u001b[31mERROR: Could not find a version that satisfies the requirement scipy.stats (from versions: none)\u001b[0m\u001b[31m\n",
      "\u001b[0m\u001b[31mERROR: No matching distribution found for scipy.stats\u001b[0m\u001b[31m\n",
      "\u001b[0mCollecting scanpy\n",
      "  Downloading scanpy-1.10.1-py3-none-any.whl.metadata (8.6 kB)\n",
      "Collecting anndata>=0.8 (from scanpy)\n",
      "  Downloading anndata-0.10.7-py3-none-any.whl.metadata (6.6 kB)\n",
      "Requirement already satisfied: h5py>=3.1 in /opt/anaconda3/lib/python3.11/site-packages (from scanpy) (3.9.0)\n",
      "Requirement already satisfied: joblib in /opt/anaconda3/lib/python3.11/site-packages (from scanpy) (1.2.0)\n",
      "Collecting legacy-api-wrap>=1.4 (from scanpy)\n",
      "  Downloading legacy_api_wrap-1.4-py3-none-any.whl.metadata (1.8 kB)\n",
      "Requirement already satisfied: matplotlib>=3.6 in /opt/anaconda3/lib/python3.11/site-packages (from scanpy) (3.8.0)\n",
      "Collecting natsort (from scanpy)\n",
      "  Downloading natsort-8.4.0-py3-none-any.whl.metadata (21 kB)\n",
      "Requirement already satisfied: networkx>=2.7 in /opt/anaconda3/lib/python3.11/site-packages (from scanpy) (3.1)\n",
      "Requirement already satisfied: numba>=0.56 in /opt/anaconda3/lib/python3.11/site-packages (from scanpy) (0.59.0)\n",
      "Requirement already satisfied: numpy>=1.23 in /opt/anaconda3/lib/python3.11/site-packages (from scanpy) (1.26.4)\n",
      "Requirement already satisfied: packaging>=21.3 in /opt/anaconda3/lib/python3.11/site-packages (from scanpy) (23.1)\n",
      "Requirement already satisfied: pandas>=1.5 in /opt/anaconda3/lib/python3.11/site-packages (from scanpy) (2.1.4)\n",
      "Requirement already satisfied: patsy in /opt/anaconda3/lib/python3.11/site-packages (from scanpy) (0.5.3)\n",
      "Collecting pynndescent>=0.5 (from scanpy)\n",
      "  Downloading pynndescent-0.5.12-py3-none-any.whl.metadata (6.8 kB)\n",
      "Requirement already satisfied: scikit-learn>=0.24 in /opt/anaconda3/lib/python3.11/site-packages (from scanpy) (1.2.2)\n",
      "Requirement already satisfied: scipy>=1.8 in /opt/anaconda3/lib/python3.11/site-packages (from scanpy) (1.11.4)\n",
      "Collecting seaborn>=0.13 (from scanpy)\n",
      "  Downloading seaborn-0.13.2-py3-none-any.whl.metadata (5.4 kB)\n",
      "Collecting session-info (from scanpy)\n",
      "  Downloading session_info-1.0.0.tar.gz (24 kB)\n",
      "  Preparing metadata (setup.py) ... \u001b[?25ldone\n",
      "\u001b[?25hRequirement already satisfied: statsmodels>=0.13 in /opt/anaconda3/lib/python3.11/site-packages (from scanpy) (0.14.0)\n",
      "Requirement already satisfied: tqdm in /opt/anaconda3/lib/python3.11/site-packages (from scanpy) (4.65.0)\n",
      "Collecting umap-learn!=0.5.0,>=0.5 (from scanpy)\n",
      "  Downloading umap_learn-0.5.6-py3-none-any.whl.metadata (21 kB)\n",
      "Collecting array-api-compat!=1.5,>1.4 (from anndata>=0.8->scanpy)\n",
      "  Downloading array_api_compat-1.6-py3-none-any.whl.metadata (1.4 kB)\n",
      "Requirement already satisfied: contourpy>=1.0.1 in /opt/anaconda3/lib/python3.11/site-packages (from matplotlib>=3.6->scanpy) (1.2.0)\n",
      "Requirement already satisfied: cycler>=0.10 in /opt/anaconda3/lib/python3.11/site-packages (from matplotlib>=3.6->scanpy) (0.11.0)\n",
      "Requirement already satisfied: fonttools>=4.22.0 in /opt/anaconda3/lib/python3.11/site-packages (from matplotlib>=3.6->scanpy) (4.25.0)\n",
      "Requirement already satisfied: kiwisolver>=1.0.1 in /opt/anaconda3/lib/python3.11/site-packages (from matplotlib>=3.6->scanpy) (1.4.4)\n",
      "Requirement already satisfied: pillow>=6.2.0 in /opt/anaconda3/lib/python3.11/site-packages (from matplotlib>=3.6->scanpy) (10.2.0)\n",
      "Requirement already satisfied: pyparsing>=2.3.1 in /opt/anaconda3/lib/python3.11/site-packages (from matplotlib>=3.6->scanpy) (3.0.9)\n",
      "Requirement already satisfied: python-dateutil>=2.7 in /opt/anaconda3/lib/python3.11/site-packages (from matplotlib>=3.6->scanpy) (2.8.2)\n",
      "Requirement already satisfied: llvmlite<0.43,>=0.42.0dev0 in /opt/anaconda3/lib/python3.11/site-packages (from numba>=0.56->scanpy) (0.42.0)\n",
      "Requirement already satisfied: pytz>=2020.1 in /opt/anaconda3/lib/python3.11/site-packages (from pandas>=1.5->scanpy) (2023.3.post1)\n",
      "Requirement already satisfied: tzdata>=2022.1 in /opt/anaconda3/lib/python3.11/site-packages (from pandas>=1.5->scanpy) (2023.3)\n",
      "Requirement already satisfied: threadpoolctl>=2.0.0 in /opt/anaconda3/lib/python3.11/site-packages (from scikit-learn>=0.24->scanpy) (2.2.0)\n",
      "Requirement already satisfied: six in /opt/anaconda3/lib/python3.11/site-packages (from patsy->scanpy) (1.16.0)\n",
      "Collecting stdlib_list (from session-info->scanpy)\n",
      "  Downloading stdlib_list-0.10.0-py3-none-any.whl.metadata (3.3 kB)\n",
      "Downloading scanpy-1.10.1-py3-none-any.whl (2.1 MB)\n",
      "\u001b[2K   \u001b[90m━━━━━━━━━━━━━━━━━━━━━━━━━━━━━━━━━━━━━━━━\u001b[0m \u001b[32m2.1/2.1 MB\u001b[0m \u001b[31m26.7 MB/s\u001b[0m eta \u001b[36m0:00:00\u001b[0m00:01\u001b[0m00:01\u001b[0m\n",
      "\u001b[?25hDownloading anndata-0.10.7-py3-none-any.whl (122 kB)\n",
      "\u001b[2K   \u001b[90m━━━━━━━━━━━━━━━━━━━━━━━━━━━━━━━━━━━━━━━━\u001b[0m \u001b[32m122.4/122.4 kB\u001b[0m \u001b[31m17.5 MB/s\u001b[0m eta \u001b[36m0:00:00\u001b[0m\n",
      "\u001b[?25hDownloading legacy_api_wrap-1.4-py3-none-any.whl (15 kB)\n",
      "Downloading pynndescent-0.5.12-py3-none-any.whl (56 kB)\n",
      "\u001b[2K   \u001b[90m━━━━━━━━━━━━━━━━━━━━━━━━━━━━━━━━━━━━━━━━\u001b[0m \u001b[32m56.8/56.8 kB\u001b[0m \u001b[31m12.1 MB/s\u001b[0m eta \u001b[36m0:00:00\u001b[0m\n",
      "\u001b[?25hDownloading seaborn-0.13.2-py3-none-any.whl (294 kB)\n",
      "\u001b[2K   \u001b[90m━━━━━━━━━━━━━━━━━━━━━━━━━━━━━━━━━━━━━━━━\u001b[0m \u001b[32m294.9/294.9 kB\u001b[0m \u001b[31m29.7 MB/s\u001b[0m eta \u001b[36m0:00:00\u001b[0m\n",
      "\u001b[?25hDownloading umap_learn-0.5.6-py3-none-any.whl (85 kB)\n",
      "\u001b[2K   \u001b[90m━━━━━━━━━━━━━━━━━━━━━━━━━━━━━━━━━━━━━━━━\u001b[0m \u001b[32m85.7/85.7 kB\u001b[0m \u001b[31m14.0 MB/s\u001b[0m eta \u001b[36m0:00:00\u001b[0m\n",
      "\u001b[?25hDownloading natsort-8.4.0-py3-none-any.whl (38 kB)\n",
      "Downloading array_api_compat-1.6-py3-none-any.whl (36 kB)\n",
      "Downloading stdlib_list-0.10.0-py3-none-any.whl (79 kB)\n",
      "\u001b[2K   \u001b[90m━━━━━━━━━━━━━━━━━━━━━━━━━━━━━━━━━━━━━━━━\u001b[0m \u001b[32m79.8/79.8 kB\u001b[0m \u001b[31m15.9 MB/s\u001b[0m eta \u001b[36m0:00:00\u001b[0m\n",
      "\u001b[?25hBuilding wheels for collected packages: session-info\n",
      "  Building wheel for session-info (setup.py) ... \u001b[?25ldone\n",
      "\u001b[?25h  Created wheel for session-info: filename=session_info-1.0.0-py3-none-any.whl size=8026 sha256=4a338c3f0b2b3a11eda5f55beea138730ca77bf95cdd4d1a44401ddb27d842f2\n",
      "  Stored in directory: /Users/elisatofanelli/Library/Caches/pip/wheels/4e/56/35/a748fc57279a4b84d0b332879445fed1ad8478e7257986b015\n",
      "Successfully built session-info\n",
      "Installing collected packages: array-api-compat, stdlib_list, natsort, legacy-api-wrap, session-info, seaborn, pynndescent, anndata, umap-learn, scanpy\n",
      "  Attempting uninstall: seaborn\n",
      "    Found existing installation: seaborn 0.12.2\n",
      "    Uninstalling seaborn-0.12.2:\n",
      "      Successfully uninstalled seaborn-0.12.2\n",
      "Successfully installed anndata-0.10.7 array-api-compat-1.6 legacy-api-wrap-1.4 natsort-8.4.0 pynndescent-0.5.12 scanpy-1.10.1 seaborn-0.13.2 session-info-1.0.0 stdlib_list-0.10.0 umap-learn-0.5.6\n"
     ]
    }
   ],
   "source": [
    "# Check for libraries that are needed\n",
    "!pip install pandas\n",
    "!pip install numpy==1.19.5\n",
    "!pip install matplotlib\n",
    "!pip install seaborn\n",
    "!pip install scikit-learn\n",
    "!pip install scipy.stats\n",
    "!pip install scanpy\n"
   ]
  },
  {
   "cell_type": "code",
   "execution_count": 2,
   "metadata": {},
   "outputs": [],
   "source": [
    "# install additional packages\n",
    "!pip install -q scanpy\n",
    "!pip install -q scikit-misc\n",
    "!pip install -q pyvis\n",
    "!pip install -q leidenalg"
   ]
  },
  {
   "cell_type": "markdown",
   "metadata": {},
   "source": [
    "We import libraries"
   ]
  },
  {
   "cell_type": "code",
   "execution_count": 3,
   "metadata": {},
   "outputs": [
    {
     "ename": "ModuleNotFoundError",
     "evalue": "No module named 'torch'",
     "output_type": "error",
     "traceback": [
      "\u001b[0;31m---------------------------------------------------------------------------\u001b[0m",
      "\u001b[0;31mModuleNotFoundError\u001b[0m                       Traceback (most recent call last)",
      "Cell \u001b[0;32mIn[3], line 8\u001b[0m\n\u001b[1;32m      6\u001b[0m get_ipython()\u001b[38;5;241m.\u001b[39mrun_line_magic(\u001b[38;5;124m'\u001b[39m\u001b[38;5;124mmatplotlib\u001b[39m\u001b[38;5;124m'\u001b[39m, \u001b[38;5;124m'\u001b[39m\u001b[38;5;124minline\u001b[39m\u001b[38;5;124m'\u001b[39m)\n\u001b[1;32m      7\u001b[0m sns\u001b[38;5;241m.\u001b[39mset(color_codes\u001b[38;5;241m=\u001b[39m\u001b[38;5;28;01mTrue\u001b[39;00m)\n\u001b[0;32m----> 8\u001b[0m \u001b[38;5;28;01mimport\u001b[39;00m \u001b[38;5;21;01mtorch\u001b[39;00m \u001b[38;5;28;01mas\u001b[39;00m \u001b[38;5;21;01mth\u001b[39;00m\n\u001b[1;32m      9\u001b[0m \u001b[38;5;28;01mfrom\u001b[39;00m \u001b[38;5;21;01msklearn\u001b[39;00m\u001b[38;5;21;01m.\u001b[39;00m\u001b[38;5;21;01mpreprocessing\u001b[39;00m \u001b[38;5;28;01mimport\u001b[39;00m StandardScaler\n\u001b[1;32m     10\u001b[0m \u001b[38;5;28;01mfrom\u001b[39;00m \u001b[38;5;21;01mscipy\u001b[39;00m\u001b[38;5;21;01m.\u001b[39;00m\u001b[38;5;21;01mstats\u001b[39;00m \u001b[38;5;28;01mimport\u001b[39;00m skew\n",
      "\u001b[0;31mModuleNotFoundError\u001b[0m: No module named 'torch'"
     ]
    }
   ],
   "source": [
    "# Importing the libraries\n",
    "import pandas as pd\n",
    "import numpy as np\n",
    "import matplotlib.pyplot as plt\n",
    "import seaborn as sns\n",
    "%matplotlib inline \n",
    "sns.set(color_codes=True)\n",
    "import torch as th\n",
    "from sklearn.preprocessing import StandardScaler\n",
    "from scipy.stats import skew\n",
    "from scipy.stats import kurtosis\n",
    "from scipy.stats import kstest\n",
    "from scipy.stats import poisson\n",
    "from scipy.stats import chisquare\n",
    "from scipy.stats import nbinom\n",
    "from scipy.stats import gamma\n",
    "from scipy.stats import chi2_contingency\n",
    "import scipy.stats as stats\n",
    "import random\n",
    "from scipy.stats import mannwhitneyu\n",
    "import scanpy as sc\n",
    "from sklearn.decomposition import PCA\n",
    "from sklearn.cluster import KMeans\n",
    "from collections import defaultdict\n",
    "from sklearn.metrics.pairwise import euclidean_distances\n",
    "import plotly"
   ]
  },
  {
   "attachments": {},
   "cell_type": "markdown",
   "metadata": {},
   "source": [
    "------------------------------------------------------------------------\n",
    "\n",
    "------------------------------------------------------------------------"
   ]
  },
  {
   "attachments": {},
   "cell_type": "markdown",
   "metadata": {},
   "source": [
    "## EDA (Exploratory Data Analysis)\n",
    "Now we start by loading the 4 dataset.\n",
    "Each of them is from a single experiment, and each experiment is different because of the sequencing technique for the cells' RNA, and of the cells' environment.\n",
    "\n",
    "### Metadata files\n",
    "We start with the metadata files, one for each experiment. They are TSV files"
   ]
  },
  {
   "cell_type": "markdown",
   "metadata": {},
   "source": [
    "We import the first dataset and look at its stucture"
   ]
  },
  {
   "cell_type": "code",
   "execution_count": null,
   "metadata": {},
   "outputs": [],
   "source": [
    "df_metaM_path = '../ai_lab/SmartSeq/MCF7_SmartS_MetaData.tsv'\n",
    "df_metaM = pd.read_csv(df_metaM_path, delimiter='\\t')\n",
    "print(\"Dataframe dimensions:\", df_metaM.shape)\n",
    "print(\"Dataframe columns:\", df_metaM.columns)"
   ]
  },
  {
   "cell_type": "markdown",
   "metadata": {},
   "source": [
    "We start doing some manipulations to shape the dataset in the way we need it: we drop the first column \"Filename\" as it is not needed"
   ]
  },
  {
   "cell_type": "code",
   "execution_count": null,
   "metadata": {},
   "outputs": [],
   "source": [
    "\n",
    "\n",
    "df_metaM = df_metaM.drop(columns=['Filename'])\n",
    "df_metaM.head()"
   ]
  },
  {
   "cell_type": "markdown",
   "metadata": {},
   "source": [
    "We import the second dataset and look at its structure"
   ]
  },
  {
   "cell_type": "code",
   "execution_count": null,
   "metadata": {},
   "outputs": [],
   "source": [
    "df_metaH_path = '../ai_lab/SmartSeq/HCC1806_SmartS_MetaData.tsv'\n",
    "df_metaH = pd.read_csv(df_metaH_path, delimiter='\\t')\n",
    "print(\"Dataframe dimensions:\", df_metaH.shape)\n",
    "print(\"Dataframe columns:\", df_metaH.columns)"
   ]
  },
  {
   "cell_type": "markdown",
   "metadata": {},
   "source": [
    "We display the first 5 rows of our dataframe to take a closer look at the structure"
   ]
  },
  {
   "cell_type": "code",
   "execution_count": null,
   "metadata": {},
   "outputs": [],
   "source": [
    "df_metaH.head()"
   ]
  },
  {
   "cell_type": "markdown",
   "metadata": {},
   "source": [
    "## What is the dataset made of?\n",
    "\n",
    "For every row, we have a single observation from an experiment, and of course in the columns we have the collected data of the experiment. In order:\n",
    "#### 1.  Cell Line \n",
    "  Content\n",
    "\n",
    "#### 2. Lane\n",
    "  Content\n",
    "\n",
    "#### 3. Pos\n",
    "  Content\n",
    "\n",
    "#### 4. Condition\n",
    "  Content\n",
    "\n",
    "#### 5. Hours\n",
    "  Content\n",
    "\n",
    "#### 6. Cell Name\n",
    "  Content\n",
    "\n",
    "#### 7. Preprocessing Tag\n",
    "  Content\n",
    "  \n",
    "#### 8. ProcessingComments\n",
    "  Content\n"
   ]
  },
  {
   "cell_type": "code",
   "execution_count": null,
   "metadata": {},
   "outputs": [],
   "source": [
    "# before starting the analysis of seqdata we check the counts for Norm or Hypo\n",
    "# in the column 'Condition' for both the datasets count the number of Norm and Hypo\n",
    "counts = df_metaH['Condition'].value_counts()\n",
    "# Histogram of the counts\n",
    "print(counts)\n",
    "# Plot the histogram with two columns for each condition\n",
    "counts.plot(kind='bar', color=['blue', 'red'])\n",
    "plt.title('HCC1806 Condition counts')\n",
    "plt.xlabel('Condition')\n",
    "plt.ylabel('Count')\n",
    "plt.show()\n"
   ]
  },
  {
   "attachments": {},
   "cell_type": "markdown",
   "metadata": {},
   "source": [
    "They have similar count so we can proceed with the analysis."
   ]
  },
  {
   "cell_type": "markdown",
   "metadata": {},
   "source": [
    "## Sequencing data\n",
    "\n",
    "Now we go to sequencing data, and we notice that they are space-delimited.\n",
    "Here we just create the path and the dataset on Python.\n",
    " \n"
   ]
  },
  {
   "cell_type": "code",
   "execution_count": null,
   "metadata": {},
   "outputs": [],
   "source": [
    "#We just create the path and the dataset on Python\n",
    "df_seq_pathHFilt = '../ai_lab/SmartSeq/HCC1806_SmartS_Filtered_Data.txt'\n",
    "\n",
    "df_seq_pathHFiltNorm = '../ai_lab/SmartSeq/HCC1806_SmartS_Filtered_Normalised_3000_Data_train.txt'\n",
    "\n",
    "df_seq_pathHUnfilt = '../ai_lab/SmartSeq/HCC1806_SmartS_Unfiltered_Data.txt'\n",
    "\n",
    "df_seq_pathMFilt = '../ai_lab/SmartSeq/MCF7_SmartS_Filtered_Data.txt'\n",
    "\n",
    "df_seq_pathMFiltNorm = '../ai_lab/SmartSeq/MCF7_SmartS_Filtered_Normalised_3000_Data_train.txt'\n",
    "\n",
    "df_seq_pathMUnfilt = '../ai_lab/SmartSeq/MCF7_SmartS_Unfiltered_Data.txt'\n",
    "\n",
    "df_seq_HFilt = pd.read_csv(df_seq_pathHFilt, delimiter=' ')\n",
    "\n",
    "df_seq_HFiltNorm = pd.read_csv(df_seq_pathHFiltNorm, delimiter=' ')\n",
    "\n",
    "df_seq_HUnfilt = pd.read_csv(df_seq_pathHUnfilt, delimiter=' ')\n",
    "\n",
    "df_seq_MFilt = pd.read_csv(df_seq_pathMFilt, delimiter=' ')\n",
    "\n",
    "df_seq_MFiltNorm = pd.read_csv(df_seq_pathMFiltNorm, delimiter=' ')\n",
    "\n",
    "df_seq_MUnfilt = pd.read_csv(df_seq_pathMUnfilt, delimiter=' ')"
   ]
  },
  {
   "attachments": {},
   "cell_type": "markdown",
   "metadata": {},
   "source": [
    "There are six dataset, and we can understand what they actually are based on their name, for the EDA part we focus on the Unfiltered datased but then we will use Filtered and Normalised one for supervised/uns ML.\n",
    "\n",
    "#### 1. SmartSeq\\HCC1806_SmartS_Unfiltered_Data.txt\n",
    "  The cell line is HCC1806, the technology is SmartS, and this dataset contains the Unfiltered data\n",
    "\n",
    "#### 2. SmartSeq\\MCF7_SmartS_Unfiltered_Data.txt\n",
    "  The cell line is MCF7, the technology is SmartS, and this dataset contains the Unfiltered data\n",
    "\n"
   ]
  },
  {
   "attachments": {},
   "cell_type": "markdown",
   "metadata": {},
   "source": [
    "We analyze one dataset at a time.\n",
    "\n",
    "#### 1. SmartSeq\\HCC1806_SmartS_Unfiltered_Data.txt"
   ]
  },
  {
   "cell_type": "markdown",
   "metadata": {},
   "source": [
    "We take a closer look at the dataframe for the unfiltred data and we see in particular that the features are on the rows so we understand that we are going to need to transpose the data matrix at some point during our research"
   ]
  },
  {
   "cell_type": "code",
   "execution_count": null,
   "metadata": {},
   "outputs": [],
   "source": [
    "# Exploring the dataframe for the unfiltered data\n",
    "print(\"Dataframe dimension:\", df_seq_HUnfilt.shape)\n",
    "print(\"First Column:\", df_seq_HUnfilt.iloc[:,0])\n",
    "print(\"Columns list:\", list(df_seq_HUnfilt.columns))\n",
    "# Hence we see features on the rows and therefore we need to transpose the data matrix"
   ]
  },
  {
   "cell_type": "code",
   "execution_count": null,
   "metadata": {},
   "outputs": [],
   "source": [
    "# Check for the types of data in the dataframe\n",
    "print(\"Data types in the dataframe:\", df_seq_HUnfilt.dtypes)\n",
    "# Check for features\n",
    "gene_symbols = df_seq_HUnfilt.index\n",
    "print(\"Gene symbols in the dataframe:\",gene_symbols)"
   ]
  },
  {
   "cell_type": "markdown",
   "metadata": {},
   "source": [
    "Here we take the transpose of our dataframe"
   ]
  },
  {
   "cell_type": "code",
   "execution_count": null,
   "metadata": {},
   "outputs": [],
   "source": [
    "# Take the transpose of the dataframe\n",
    "print(\"Dataframe dimension before transpose:\", df_seq_HUnfilt.shape)\n",
    "df_seq_HUnfilt = df_seq_HUnfilt.T\n",
    "print(\"Dataframe dimension after transpose:\", df_seq_HUnfilt.shape)\n",
    "df_seq_HUnfilt.head(5)\n"
   ]
  },
  {
   "cell_type": "markdown",
   "metadata": {},
   "source": [
    "Here we just look for missing values in our dataframe"
   ]
  },
  {
   "cell_type": "code",
   "execution_count": null,
   "metadata": {},
   "outputs": [],
   "source": [
    "# Now we look at evetual missing values in the dataframe\n",
    "print(\"Missing values in the dataframe by columns:\", df_seq_HUnfilt.isnull().sum())\n",
    "print(\"Missing values in the whole dataframe:\", df_seq_HUnfilt.isna().sum().sum())"
   ]
  },
  {
   "cell_type": "markdown",
   "metadata": {},
   "source": [
    "Now we generate descriptive statistics for the DataFrame df_seq_HUnfilt"
   ]
  },
  {
   "cell_type": "code",
   "execution_count": null,
   "metadata": {},
   "outputs": [],
   "source": [
    "df_seq_HUnfilt.describe()"
   ]
  },
  {
   "cell_type": "markdown",
   "metadata": {},
   "source": [
    "We add the column 'Filename' to the dataframe df.metah in order to merge it based on this common column with df_seq_HUnfilt"
   ]
  },
  {
   "cell_type": "code",
   "execution_count": null,
   "metadata": {},
   "outputs": [],
   "source": [
    "# Now we want to add the target column (i.e. the class) to the dataframe, we get the condition from metadata\n",
    "print(df_metaH.columns)\n",
    "df_metaH.set_index('Filename', inplace=True)\n",
    "# Merge the two dataframes with key 'Filename'\n",
    "merged_df = pd.merge(df_seq_HUnfilt, df_metaH['Condition'], left_index=True, right_index=True)\n",
    "print(merged_df.columns)"
   ]
  },
  {
   "cell_type": "markdown",
   "metadata": {},
   "source": [
    "Now transform the categorical variable 'Condition' to numerical "
   ]
  },
  {
   "cell_type": "code",
   "execution_count": null,
   "metadata": {},
   "outputs": [],
   "source": [
    "# Now transform the categorical variable 'Condition' to numerical\n",
    "dummy_variables = pd.get_dummies(merged_df['Condition'], prefix='category').astype('int')\n",
    "merged = pd.concat([merged_df, dummy_variables], axis=1)\n",
    "print(merged.head())\n",
    "merged.drop(columns=['category_Hypo', 'Condition'], inplace=True)\n",
    "merged.rename(columns={'category_Normo': 'Target'}, inplace=True)\n",
    "# Note that 1 = Hypo, 0 = Norm"
   ]
  },
  {
   "cell_type": "markdown",
   "metadata": {},
   "source": [
    "We take a lot at the dataframe again showing 5 rows"
   ]
  },
  {
   "cell_type": "code",
   "execution_count": null,
   "metadata": {},
   "outputs": [],
   "source": [
    "merged.head()"
   ]
  },
  {
   "attachments": {},
   "cell_type": "markdown",
   "metadata": {},
   "source": [
    "We now look for:\n",
    "1. Duplicates\n",
    "2. Sparsity\n",
    "3. NaNs\n",
    "4. Outliers\n",
    "5. Distributions\n",
    "6. Correlation\n",
    "7. Normalization"
   ]
  },
  {
   "cell_type": "markdown",
   "metadata": {},
   "source": [
    "We now start analyzing the data. \n",
    "First we look for duplicates."
   ]
  },
  {
   "cell_type": "code",
   "execution_count": null,
   "metadata": {},
   "outputs": [],
   "source": [
    "# Check for duplicates\n",
    "print(\"Number of duplicates in the dataframe:\", merged.duplicated().sum())\n",
    "# we will now check for duplicates in a broader sense, by checking for observations with high correlation\n",
    "# we start by computing the correlation matrix of the observations\n",
    "merged_t = merged.T\n",
    "correlation_matrix_transpose = merged_t.corr()\n",
    "correlation_matrix_transpose"
   ]
  },
  {
   "cell_type": "code",
   "execution_count": null,
   "metadata": {},
   "outputs": [],
   "source": [
    "# now we will check for observations with high correlation and drop them\n",
    "columns_to_keep = []\n",
    "\n",
    "def add_representative(corr_matrix, col, threshold=0.95):\n",
    "    corr = corr_matrix[col].drop(col)\n",
    "    max_corr_id = corr.idxmax()\n",
    "    max_corr = corr[max_corr_id]\n",
    "    if max_corr < threshold:\n",
    "        columns_to_keep.append(col)\n",
    "        return None\n",
    "    else:\n",
    "        if (col not in columns_to_keep) and (max_corr_id not in columns_to_keep):\n",
    "            columns_to_keep.append(col)\n",
    "            print('choosing %s as representative for %s with correlation %s' % (col, max_corr_id, max_corr))\n",
    "            return None\n",
    "        \n",
    "\n",
    "\n",
    "for col in merged_t:\n",
    "    add_representative(correlation_matrix_transpose, col, 0.95)\n",
    "\n",
    "dropped_cols = [col for col in merged_t if col not in columns_to_keep]\n",
    "\n",
    "merged_uncorr_obs = merged_t[columns_to_keep].T\n",
    "print('dropped %s observations' % str(len(dropped_cols)))\n",
    "merged_uncorr_obs"
   ]
  },
  {
   "cell_type": "markdown",
   "metadata": {},
   "source": [
    "Now we look at the sparsity of the model. In particular we calculate this value as the percentage of missing values."
   ]
  },
  {
   "cell_type": "code",
   "execution_count": null,
   "metadata": {},
   "outputs": [],
   "source": [
    "# Check for sparsity\n",
    "total_elements = merged.shape[0] * merged.shape[1]\n",
    "print(\"Total number of elements in the DataFrame:\", total_elements)\n",
    "missing_values = (merged == 0).sum().sum()\n",
    "print(\"Total number of missing values in the DataFrame:\", missing_values)\n",
    "# Calculate the sparsity as the percentage of missing values\n",
    "sparsity = (missing_values / total_elements) * 100\n",
    "print(\"Sparsity of the DataFrame: {:.2f}%\".format(sparsity))"
   ]
  },
  {
   "cell_type": "markdown",
   "metadata": {},
   "source": [
    "Now we want to visualize the sparsity of our model. \n",
    "In order to do so we create a binary DataFrame indicating missing values (1 for missing, 0 for not missing) and we select the color white for the missing ones and red for not missing ones.\n",
    "Then we create the heatmap, add a title and labels with custom font size and style and remove the plot's spines (borders) for a cleaner appearance."
   ]
  },
  {
   "cell_type": "code",
   "execution_count": null,
   "metadata": {},
   "outputs": [],
   "source": [
    "# Visualization of sparsity\n",
    "# Assuming merged is your DataFrame\n",
    "\n",
    "# Create a binary DataFrame indicating missing values (1 for missing, 0 for not missing)\n",
    "missing_mask = merged == 0\n",
    "\n",
    "# Set up a custom color palette\n",
    "colors = [\"#FFFFFF\", \"#FF6347\"]  # White for non-missing, red for missing\n",
    "\n",
    "# Create the heatmap\n",
    "plt.figure(figsize=(12, 8))\n",
    "sns.heatmap(missing_mask, cmap=sns.color_palette(colors), cbar=False, xticklabels=False, yticklabels=False)\n",
    "\n",
    "# Add title and labels with custom font size and style\n",
    "plt.title('Sparsity Pattern of the DataFrame', fontsize=18, fontweight='bold')\n",
    "plt.xlabel('Genes', fontsize=14)\n",
    "plt.ylabel('Observations', fontsize=14)\n",
    "\n",
    "\n",
    "\n",
    "# Remove the spines (borders) of the plot\n",
    "plt.gca().spines['top'].set_visible(False)\n",
    "plt.gca().spines['right'].set_visible(False)\n",
    "\n",
    "plt.show()\n"
   ]
  },
  {
   "attachments": {},
   "cell_type": "markdown",
   "metadata": {},
   "source": [
    "DA AGGIUNGERE PACO"
   ]
  },
  {
   "cell_type": "markdown",
   "metadata": {},
   "source": [
    "We now check for the number of NaN values in the dataframe"
   ]
  },
  {
   "cell_type": "code",
   "execution_count": null,
   "metadata": {},
   "outputs": [],
   "source": [
    "# Check for NaN values\n",
    "print(\"Number of NaN values in the DataFrame:\", merged.isna().sum().sum())"
   ]
  },
  {
   "cell_type": "markdown",
   "metadata": {},
   "source": [
    "We now look for outliers. \n",
    "We use different tecniques.\n",
    "The first one is with boxplots\n",
    "So we create a set of 5 boxplots, each depicting the distribution of gene expression counts for a randomly selected subset of genes from the merged DataFrame. \n"
   ]
  },
  {
   "attachments": {},
   "cell_type": "markdown",
   "metadata": {},
   "source": [
    "Outliers for dataset with rows as cells and columns as genes"
   ]
  },
  {
   "cell_type": "code",
   "execution_count": null,
   "metadata": {},
   "outputs": [],
   "source": [
    "np.random.seed(42)\n",
    "\n",
    "# Number of boxplots you want to create\n",
    "num_boxplots = 5\n",
    "\n",
    "# Randomly select column indices\n",
    "random_columns = np.random.choice(merged.columns[1:], num_boxplots, replace=False)\n",
    "\n",
    "\n",
    "plt.figure(figsize=(12, 8))  \n",
    "for i, column in enumerate(random_columns):\n",
    "    plt.subplot(1, len(random_columns), i+1)\n",
    "    \n",
    "    # Customizing boxplot appearance\n",
    "    sns.boxplot(y=merged[column], color='skyblue', width=0.5)\n",
    "    \n",
    "    # Overlaying swarmplot for better visualization of individual data points\n",
    "    sns.swarmplot(y=merged[column], color='red', alpha=0.5)\n",
    "    \n",
    "    plt.title(f'Boxplot of {column}', fontsize=14)\n",
    "    plt.ylabel('Count of the gene expression', fontsize=12)\n",
    "    plt.xlabel('', fontsize=12)\n",
    "    plt.xticks(fontsize=10)\n",
    "    plt.yticks(fontsize=10)\n",
    "    plt.grid(True)\n",
    "\n",
    "\n",
    "plt.tight_layout()\n",
    "plt.show()"
   ]
  },
  {
   "cell_type": "markdown",
   "metadata": {},
   "source": [
    "Secondly we use the Inter-Quartile Range (IQR) proximity rule for each column.\n",
    "We start calculating the first and third quartiles along with the IQR for each column in the DataFrame merged. We then identifie outliers based on the IQR proximity rule and print both the number of outliers in each column and the percentage of outliers in the entire DataFrame."
   ]
  },
  {
   "cell_type": "code",
   "execution_count": null,
   "metadata": {},
   "outputs": [],
   "source": [
    "# Outliers with Inter-Quartile Range (IQR) proximity rule for each column\n",
    "Q1 = merged.quantile(0.25)\n",
    "Q3 = merged.quantile(0.75)\n",
    "IQR = Q3 - Q1\n",
    "outliers = (merged < (Q1 - 1.5 * IQR)) | (merged > (Q3 + 1.5 * IQR))\n",
    "# Print outliers fora each column\n",
    "print(\"Number of outliers in the DataFrame:\", outliers.sum())\n",
    "# Print outliers percentage\n",
    "outliers_percentage = (outliers.sum().sum() / total_elements) * 100\n",
    "print(\"{:.2f}%\".format(outliers_percentage))"
   ]
  },
  {
   "cell_type": "markdown",
   "metadata": {},
   "source": [
    "As third approach we normalize each column independently and find the outliers of the flattened array"
   ]
  },
  {
   "cell_type": "code",
   "execution_count": null,
   "metadata": {},
   "outputs": [],
   "source": [
    "# now we normalize each column independently\n",
    "from sklearn.preprocessing import StandardScaler\n",
    "scaler = StandardScaler()\n",
    "\n",
    "features_df_normalized = merged[merged.columns[:-1]].copy()\n",
    "features_df_normalized[features_df_normalized.columns] = scaler.fit_transform(features_df_normalized[features_df_normalized.columns])\n",
    "features_df_normalized.describe()"
   ]
  },
  {
   "cell_type": "code",
   "execution_count": null,
   "metadata": {},
   "outputs": [],
   "source": [
    "# convert the dataframe to a numpy array, find outliers\n",
    "features_array_normalized = np.array(features_df_normalized.T)\n",
    "# still need to find the outliers\n",
    "fig = plt.figure(figsize=(10, 7))\n",
    "plt.boxplot(features_array_normalized.flatten())\n",
    "# here, we notice that most of the data are outliers"
   ]
  },
  {
   "attachments": {},
   "cell_type": "markdown",
   "metadata": {},
   "source": [
    "Now we are interested in discovering if the number of times a gene is expressed is generated by some known distribution.\n",
    "\n",
    "In order to do so, we start having a look at the distribution by plotting histograms with the frequencies of number of expressions for 5 random genes, with their kernel densities.\n",
    "\n",
    "By doing this, we immediately notice that the distributions are highly asymmetrical."
   ]
  },
  {
   "cell_type": "code",
   "execution_count": null,
   "metadata": {},
   "outputs": [],
   "source": [
    "#visualize the distribution of the data through histograms\n",
    "np.random.seed(42)\n",
    "\n",
    "# Number of boxplots you want to create\n",
    "num_boxplots = 6\n",
    "\n",
    "# Randomly select column indices\n",
    "random_columns = np.random.choice(merged.columns[1:], num_boxplots, replace=False)\n",
    "\n",
    "\n",
    "\n",
    "fig = plt.figure(figsize=(12, 8))\n",
    "for i, column in enumerate(random_columns):  # Adjusted to only consider the first 5 columns\n",
    "    plt.subplot(2, 3, i+1)  # Adjusted to fit in a 2x3 grid\n",
    "    sns.histplot(merged[column], kde=True, color='skyblue')\n",
    "    plt.title(f'Histogram of {column}', fontsize=12)\n",
    "    plt.xlabel('')\n",
    "    plt.ylabel('Count', fontsize=10)\n",
    "    plt.xticks(fontsize=8)\n",
    "    plt.yticks(fontsize=8)\n",
    "    plt.grid(True)\n",
    "plt.tight_layout()\n",
    "plt.show()\n",
    "\n"
   ]
  },
  {
   "cell_type": "markdown",
   "metadata": {},
   "source": [
    "to check this asymmetry, we compute the skewness of these distributions for all the genes.\n",
    "\n",
    "Skewness is ***a measure of symmetry***, or more precisely, the lack of symmetry.\n",
    "\n",
    "We obtain that all the skewness are positive. This means that the distribution is characterised by a tail stretching right, as we could already say from the first histograms."
   ]
  },
  {
   "cell_type": "code",
   "execution_count": null,
   "metadata": {},
   "outputs": [],
   "source": [
    "# Calculate skewness for each column in your DataFrame\n",
    "skewness_values = merged[random_columns].skew()\n",
    "\n",
    "# Print skewness values\n",
    "print(\"Skewness for each selected feature:\")\n",
    "print(skewness_values)"
   ]
  },
  {
   "cell_type": "markdown",
   "metadata": {},
   "source": [
    "We now want to visualize this values we found.\n",
    "In order to do so we utilize an histogram with as refererence the rounded skewness values."
   ]
  },
  {
   "cell_type": "code",
   "execution_count": null,
   "metadata": {},
   "outputs": [],
   "source": [
    "# Calculate skewness for each column in your DataFrame\n",
    "skewness_values = merged.skew()\n",
    "\n",
    "# Round the skewness values\n",
    "rounded_skewness_values = np.round(skewness_values, decimals=2)\n",
    "\n",
    "# Set seaborn style\n",
    "sns.set(style=\"whitegrid\")\n",
    "\n",
    "# Plot a histogram of rounded skewness values\n",
    "plt.figure(figsize=(10, 6))\n",
    "sns.histplot(rounded_skewness_values, bins=20, color='skyblue', edgecolor='black')\n",
    "plt.title('Histogram of Rounded Skewness Values', fontsize=16)\n",
    "plt.xlabel('Skewness', fontsize=14)\n",
    "plt.ylabel('Frequency', fontsize=14)\n",
    "plt.xticks(fontsize=12)\n",
    "plt.yticks(fontsize=12)\n",
    "plt.grid(axis='y', linestyle='--', alpha=0.7)\n",
    "plt.show()"
   ]
  },
  {
   "cell_type": "markdown",
   "metadata": {},
   "source": [
    "we proceed the analysis of the shape of the distribution by computing the kurtosis.\n",
    "\n",
    "Kurtosis measures the peakedness or flatness of a distribution relative to a normal distribution. A positive kurtosis indicates a relatively peaked distribution (leptokurtic), while a negative kurtosis indicates a flatter distribution (platykurtic) compared to a normal distribution.\n",
    "\n",
    "Also in this case, we get positive values, which suggest heavier tails and a more peaked distribution.\n",
    "\n",
    "These informations on skewness and kurtosis suggest that the distributions are not normal."
   ]
  },
  {
   "cell_type": "code",
   "execution_count": null,
   "metadata": {},
   "outputs": [],
   "source": [
    "# Calculate kurtosis for each column in your DataFrame\n",
    "kurtosis_values = merged[random_columns].kurtosis()\n",
    "\n",
    "# Print kurtosis values\n",
    "print(\"Kurtosis for each feature:\")\n",
    "print(kurtosis_values)"
   ]
  },
  {
   "cell_type": "markdown",
   "metadata": {},
   "source": [
    "We want to visualize this value as well.\n",
    "Again we proceed creating a histogram using as data the rounded kurtosis values of our dataframe"
   ]
  },
  {
   "cell_type": "code",
   "execution_count": null,
   "metadata": {},
   "outputs": [],
   "source": [
    "# Calculate kurtosis for each column in your DataFrame\n",
    "kurtosis_values = merged.kurtosis()\n",
    "\n",
    "# Round the kurtosis values\n",
    "rounded_kurtosis_values = np.round(kurtosis_values, decimals=2)\n",
    "\n",
    "# Set seaborn style\n",
    "sns.set(style=\"whitegrid\")\n",
    "\n",
    "# Plot a histogram of rounded kurtosis values\n",
    "plt.figure(figsize=(10, 6))\n",
    "sns.histplot(rounded_kurtosis_values, bins=20, color='skyblue', edgecolor='black')\n",
    "plt.title('Histogram of Rounded Kurtosis Values', fontsize=16)\n",
    "plt.xlabel('Kurtosis', fontsize=14)\n",
    "plt.ylabel('Frequency', fontsize=14)\n",
    "plt.xticks(fontsize=12)\n",
    "plt.yticks(fontsize=12)\n",
    "plt.grid(axis='y', linestyle='--', alpha=0.7)\n",
    "plt.show()"
   ]
  },
  {
   "cell_type": "markdown",
   "metadata": {},
   "source": [
    "The analysis of the distribution of our dataframe goes on.\n",
    "To check the non-normality mathematically we run the Kolmogorov-Smirnov test, a statistic tool commonly used to check if a distribution is not normal.\n",
    "\n",
    "we proceed with the following hypothesis testing:\n",
    "\n",
    "H0: our distribution is normal\n",
    "\n",
    "H1: not normal.\n",
    "\n",
    "Setting our p value threshold at 0.05, we have statistically significant evidence that none of our feature is normally distributed.\n",
    "\n",
    "We then count how many features according to this test have non-normal distribution and we find out that this a common characteristic of all the features."
   ]
  },
  {
   "cell_type": "code",
   "execution_count": null,
   "metadata": {},
   "outputs": [],
   "source": [
    "# Test the distribution of the data matrix using Kolmogorov-Smirnov\n",
    "# Test normality of each feature\n",
    "def test_distribution_per_feature(data):\n",
    "    non_normal_count = 0\n",
    "    for column in data.columns:\n",
    "        p_value = kstest(data[column], 'norm')[1]\n",
    "        if p_value < 0.05:\n",
    "            non_normal_count += 1\n",
    "    print(\"Number of features with non-normal distribution:\", non_normal_count)\n",
    "    if data.shape[1] == non_normal_count:\n",
    "        print(\"All features have non-normal distribution\")\n",
    "    else:\n",
    "        print(\"Not all features have non-normal distribution\")\n",
    "    return non_normal_count\n",
    "\n",
    "non_normal_count = test_distribution_per_feature(merged)\n"
   ]
  },
  {
   "cell_type": "markdown",
   "metadata": {},
   "source": [
    "Some distribution commonly found in nature are also the poisson one and the negative binomial one. For this reason we want to check this ones too\n",
    "\n",
    "Before checking mathematically if it’s plausible to assume some distributions, we have to introduce the chi squared test.\n",
    "\n",
    "The chi-square goodness-of-fit test is used to determine if a sample of categorical data follows a specific distribution, such as a normal distribution or any other expected distribution. It compares the observed frequencies of the categories with the frequencies that would be expected if the data followed the specified distribution. If the difference between the observed and expected frequencies is sufficiently large, it suggests that the data may not follow the expected distribution."
   ]
  },
  {
   "cell_type": "markdown",
   "metadata": {},
   "source": [
    "We run such test to see if we can exclude the poisson distribution. \n",
    "\n",
    "To do so we estimate the parameter lamba with the estimator lambda. Then we create random samples from a poisson distribution with such lambda, and we run the test.\n",
    "\n",
    "If some features pass this test, we don’t have the guarantee that they are poisson, but we can check it by plotting the histogram and the qq plot.\n",
    "\n",
    "From our test we see that there are 3156 columns that could be poisson distributed.\n",
    "\n",
    "To see if they actually are we plot 3 of them and we actually see that they really might me poisson."
   ]
  },
  {
   "cell_type": "code",
   "execution_count": null,
   "metadata": {},
   "outputs": [],
   "source": [
    "# Iterate over columns and perform the test\n",
    "def test_poissondistribution_per_feature(data):\n",
    "    poisson_list = [] # initialize list to store features with Poisson distribution\n",
    "    for column in data.columns:\n",
    "        observed_values = data[column].values  # values of the column\n",
    "        support = np.unique(observed_values) # unique values in the column\n",
    "        mean = observed_values.mean() # mean of the column (we will need this for the Poisson distribution)\n",
    "        obs_freq = [] # initialize an empty array to store observed frequencies\n",
    "        for value in support:\n",
    "            obs_freq.append((observed_values == value).sum()) # count the number of times each unique value appears in the column\n",
    "        exp_freq = [] # initialize an empty array to store expected frequencies\n",
    "        for value in support:\n",
    "            exp_freq.append(poisson.pmf(value, mean) * len(observed_values)) # calculate the expected frequency for each unique value\n",
    "        # normalize the observed and expected frequencies\n",
    "        obs_freq = obs_freq / np.sum(obs_freq)\n",
    "        exp_freq = exp_freq / np.sum(exp_freq)\n",
    "        \n",
    "        # perform the chi-square test\n",
    "        _, p = chisquare(obs_freq, exp_freq)\n",
    "        \n",
    "        # if p-value is greater than 0.05, we don't reject the null hypothesis that the data doesn't follow a Poisson distribution\n",
    "        if p >= 0.05:\n",
    "            poisson_list.append(column)\n",
    "    print(\"Number of features that might have poisson distribution:\", len(poisson_list))\n",
    "    if len(poisson_list) == 0:\n",
    "        print(\"All features have non-poisson distribution\")\n",
    "    else:\n",
    "        print(\"Some features might have poisson distribution\")\n",
    "    return poisson_list\n",
    "\n",
    "poisson_columns = test_poissondistribution_per_feature(merged)"
   ]
  },
  {
   "cell_type": "code",
   "execution_count": null,
   "metadata": {},
   "outputs": [],
   "source": [
    "# now we plot the hist of the poisson columns\n",
    "#now we visualize the empirical distribution against the Gamma distribution for some columns\n",
    "np.random.seed(42)\n",
    "\n",
    "# Number of boxplots you want to create\n",
    "num_boxplots = 3\n",
    "\n",
    "# Randomly select column indices\n",
    "random_columns = np.random.choice(poisson_columns, num_boxplots, replace=False)\n",
    "\n",
    "fig = plt.figure(figsize=(12, 8))\n",
    "for i, column in enumerate(random_columns):  # Adjusted to only consider the first 5 columns\n",
    "    plt.subplot(2, 3, i+1)  # Adjusted to fit in a 2x3 grid\n",
    "    observed_values = merged[column].values  # Observed counts from your data\n",
    "    mean = observed_values.mean()\n",
    "    poisson_values = np.random.poisson(mean, len(observed_values))\n",
    "    \n",
    "    stats.probplot(observed_values, dist='poisson', sparams=(mean,), plot=plt)\n",
    "    plt.title(f'QQ-plot of {column}', fontsize=12)\n",
    "\n",
    "    plt.subplot(2, 3, i+4)\n",
    "    sns.histplot(observed_values, kde=True, color='skyblue', label='Observed', bins=30)\n",
    "    sns.histplot(poisson_values, kde=True, color='red', label='Gamma', bins=30)\n",
    "    plt.title(f'Histogram of {column}', fontsize=12)\n",
    "    plt.xlabel('')\n",
    "    plt.ylabel('Count', fontsize=10)\n",
    "    plt.xticks(fontsize=8)\n",
    "    plt.yticks(fontsize=8)\n",
    "    plt.grid(True)\n",
    "plt.tight_layout()\n",
    "plt.show()"
   ]
  },
  {
   "cell_type": "markdown",
   "metadata": {},
   "source": [
    "We now do exactly the same for the negative binomial distribution."
   ]
  },
  {
   "cell_type": "code",
   "execution_count": null,
   "metadata": {},
   "outputs": [],
   "source": [
    "# Iterate over columns and perform the test\n",
    "def test_negative_binomial_distribution_per_feature(data):\n",
    "    nbin_list = [] # initialize list to store features with Gamma distribution\n",
    "    for column in data.columns:\n",
    "        observed_values = data[column].values  # values of the column\n",
    "        support = np.unique(observed_values) # unique values in the column\n",
    "        mean = observed_values.mean() # mean of the column (we will need this for the nbinom distribution)\n",
    "        var = observed_values.var() # variance of the column (we will need this for the nbinom distribution)\n",
    "        size = mean ** 2 / (var - mean) # size parameter of the nbinom distribution\n",
    "        prob = 1 - (mean/var) # probability parameter of the nbinom distribution\n",
    "        obs_freq = [] # initialize an empty array to store observed frequencies\n",
    "        for value in support:\n",
    "            obs_freq.append((observed_values == value).sum()) # count the number of times each unique value appears in the column\n",
    "        exp_freq = [] # initialize an empty array to store expected frequencies\n",
    "        for value in support:\n",
    "            exp_freq.append(nbinom.pmf(value, size, prob) * len(observed_values)) # calculate the expected frequency for each unique value\n",
    "        # normalize the observed and expected frequencies\n",
    "        obs_freq = obs_freq / np.sum(obs_freq)\n",
    "        exp_freq = exp_freq / np.sum(exp_freq)\n",
    "        \n",
    "        # perform the chi-square test\n",
    "        _, p = chisquare(obs_freq, exp_freq)\n",
    "        \n",
    "        # if p-value is greater than 0.05, we don't reject the null hypothesis that the data doesn't follow a negative binomial distribution\n",
    "        if p >= 0.05:\n",
    "            nbin_list.append(column)\n",
    "    print(\"Number of features with Negative Binomial distribution:\", len(nbin_list))\n",
    "    if len(nbin_list) == 0:\n",
    "        print(\"All features have non-Negative Binomial distribution\")\n",
    "    else:\n",
    "        print(\"Some features might have Negative Binomial distribution\")\n",
    "    return nbin_list\n",
    "\n",
    "negative_binomial_columns = test_negative_binomial_distribution_per_feature(merged)"
   ]
  },
  {
   "cell_type": "code",
   "execution_count": null,
   "metadata": {},
   "outputs": [],
   "source": [
    "# now we plot the hist of the nbin columns\n",
    "#now we visualize the empirical distribution against the negative binomial distribution for some columns\n",
    "\n",
    "np.random.seed(100)\n",
    "\n",
    "# Number of boxplots you want to create\n",
    "num_boxplots = 3\n",
    "\n",
    "# Randomly select column indices\n",
    "random_columns = np.random.choice(negative_binomial_columns, num_boxplots, replace=False)\n",
    "\n",
    "fig = plt.figure(figsize=(12, 8))\n",
    "for i, column in enumerate(random_columns):  # Adjusted to only consider the first 5 columns\n",
    "    plt.subplot(2, 3, i+1)  # Adjusted to fit in a 2x3 grid\n",
    "    observed_values = merged[column].values  # Observed counts from your data\n",
    "    mean = observed_values.mean() # mean of the column (we will need this for the nbinom distribution)\n",
    "    var = observed_values.var() # variance of the column (we will need this for the nbinom distribution)\n",
    "    # HERE WE ARE CHEATING WITH THE ABSOLUTE VALUE AND THE \"NORMALIZATION\" OF THE PROB\n",
    "    size = abs(mean ** 2 / (var - mean)) # size parameter of the nbinom distribution\n",
    "    prob = 1 - (mean/var) # probability parameter of the nbinom distribution\n",
    "    if prob < 0:\n",
    "        prob = 0\n",
    "    elif prob > 1:\n",
    "        prob = 1\n",
    "\n",
    "\n",
    "    stats.probplot(observed_values, dist='nbinom', sparams=(size,prob), plot=plt)\n",
    "    plt.title(f'QQ-plot of {column}', fontsize=12)\n",
    "\n",
    "    plt.subplot(2, 3, i+4)\n",
    "    plt.title(f'QQ-plot of {column}', fontsize=12)\n",
    "    nbinom_values = np.random.negative_binomial(size, prob, len(observed_values))\n",
    "    sns.histplot(observed_values, kde=True, color='skyblue', label='Observed', bins=30)\n",
    "    sns.histplot(nbinom_values, kde=True, color='red', label='Negative Binomial', bins=30)\n",
    "    plt.title(f'Histogram of {column}', fontsize=12)\n",
    "    plt.xlabel('')\n",
    "    plt.ylabel('Count', fontsize=10)\n",
    "    plt.xticks(fontsize=8)\n",
    "    plt.yticks(fontsize=8)\n",
    "    plt.grid(True)\n",
    "plt.tight_layout()\n",
    "plt.show()"
   ]
  },
  {
   "cell_type": "code",
   "execution_count": null,
   "metadata": {},
   "outputs": [],
   "source": [
    "# from scipy.stats import gamma\n",
    "\n",
    "# def test_gamma_distribution_per_feature(data):\n",
    "#     non_gamma_count = 0\n",
    "#     for column in data.columns:\n",
    "#         observed_values = data[column].values  # Observed counts from your data\n",
    "#         shape, loc, scale = gamma.fit(observed_values)\n",
    "#         expected_values = gamma.pdf(observed_values, shape, loc, scale) * len(observed_values)\n",
    "#         expected_values += 1e-10  # Adjust this value if needed\n",
    "\n",
    "#         contingency_table = [[observed_values[i], expected_values[i]] for i in range(len(observed_values))]\n",
    "\n",
    "#         chi2, p, _, _ = chi2_contingency(contingency_table)\n",
    "        \n",
    "#         # Check if the p-value is less than the significance level\n",
    "#         if p < 0.05:\n",
    "#             non_gamma_count += 1\n",
    "    \n",
    "#     print(\"Number of features with non-gamma distribution:\", non_gamma_count)\n",
    "\n",
    "#     if data.shape[1] == non_gamma_count:\n",
    "#         print(\"All features have non-gamma distribution\")\n",
    "#     else:\n",
    "#         print(\"Not all features have non-gamma distribution\")\n",
    "        \n",
    "#     return non_gamma_count\n",
    "\n",
    "# test_gamma_distribution_per_feature(merged)\n",
    "\n",
    "# # eventually run this and maybe also plot it"
   ]
  },
  {
   "cell_type": "markdown",
   "metadata": {},
   "source": [
    "What we can check is that, under some specific condition (i.e. hypoxia), the genes could have some distribution (that maybe we can’t observe in the mixed case). \n",
    "\n",
    "So we go through the exact same process for for the genes under hypoxia and normoxia separately."
   ]
  },
  {
   "cell_type": "code",
   "execution_count": null,
   "metadata": {},
   "outputs": [],
   "source": [
    "#now we check the distribution but for hypoxia and normoxia separtely\n",
    "merged_norm = merged[merged['Target'] == 0]\n",
    "merged_hypo = merged[merged['Target'] == 1]"
   ]
  },
  {
   "cell_type": "code",
   "execution_count": null,
   "metadata": {},
   "outputs": [],
   "source": [
    "print(\"Number of normoxia samples:\", merged_norm.shape[0])\n",
    "test_distribution_per_feature(merged_norm)\n",
    "print(\"Number of hypoxia samples:\", merged_hypo.shape[0])\n",
    "test_distribution_per_feature(merged_hypo)"
   ]
  },
  {
   "cell_type": "code",
   "execution_count": null,
   "metadata": {},
   "outputs": [],
   "source": [
    "print(\"Number of normoxia samples:\", merged_norm.shape[0])\n",
    "test_negative_binomial_distribution_per_feature(merged_norm)\n",
    "print(\"Number of hypoxia samples:\", merged_hypo.shape[0])\n",
    "test_negative_binomial_distribution_per_feature(merged_hypo)"
   ]
  },
  {
   "cell_type": "markdown",
   "metadata": {},
   "source": [
    "We now take a look at the correlation.\n",
    "we already inspected the one between cells during the duplicates inspection, so now we procced looking at the one between genes.\n",
    "We do so by calculating the correlation matrix. "
   ]
  },
  {
   "cell_type": "code",
   "execution_count": null,
   "metadata": {},
   "outputs": [],
   "source": [
    "# We will use pytorch correlation matrix to calculate the correlation matrix usint torch.corrcoef\n",
    "# Correlation matrix between the genes (features)\n",
    "\n",
    "# Convert the DataFrame to a PyTorch tensor\n",
    "data_tensor = th.tensor(merged.values).T\n",
    "# Calculate the correlation matrix\n",
    "correlation_matrix = th.corrcoef(data_tensor)\n",
    "print(correlation_matrix)\n",
    "# Nicely visuaize the correlation matrix\n",
    "# plt.figure(figsize=(12,10))\n",
    "# sns.heatmap(correlation_matrix, cmap='coolwarm', yticklabels = False, xticklabels = False)\n",
    "# plt.xlabel('Sample')\n",
    "# plt.ylabel('Sample')\n",
    "# plt.show()\n",
    "\n",
    "# Compute the midpoint\n",
    "midpoint = (correlation_matrix.max() - correlation_matrix.min()) / 2 + correlation_matrix.min()\n",
    "# Print the size of the correlation matrix\n",
    "print(\"Size of the correlation matrix: \", correlation_matrix.shape)\n",
    "# Print average and minimum correlation values\n",
    "print(\"Average correlation between cells: \", float(midpoint))\n",
    "print(\"Minimum correlation between cells: \", float(correlation_matrix.min()), \"\\n\")"
   ]
  },
  {
   "cell_type": "markdown",
   "metadata": {},
   "source": [
    "here we come back to inspect the correlation between cells.\n",
    "In particular, we procced analysing the cells in the dataset with the lowest correlation with other cells, retrieve their names and plot histograms of their expression values."
   ]
  },
  {
   "cell_type": "code",
   "execution_count": null,
   "metadata": {},
   "outputs": [],
   "source": [
    "# We can see from the minimum value obtained that there are some cells that are \n",
    "# completely uncorrelated from the others and we want to see why\n",
    "# Find the indices of the minimum value in the correlation matrix\n",
    "data_tensor_transpose = data_tensor.T\n",
    "print(data_tensor_transpose.shape)\n",
    "correlation_matrix_transpose = th.corrcoef(data_tensor_transpose)\n",
    "print(correlation_matrix_transpose.shape)\n",
    "min_indices = th.where(correlation_matrix_transpose == correlation_matrix_transpose.min())\n",
    "print(\"Indices of the minimum value in the correlation matrix: \", min_indices)\n",
    "# Transform min_indices to a list\n",
    "value1 = min_indices[0].item()\n",
    "value2 = min_indices[1].item()\n",
    "# Access rows with index value1 and value2\n",
    "cells_identified = merged.iloc[[value1, value2]]\n",
    "print(f\"Cell names with minimum correlation: {cells_identified.index[0]}, {cells_identified.index[1]}\")\n",
    "\n",
    "fig, axs = plt.subplots(1, 2, figsize=(12, 6))\n",
    "axs[0].hist(data_tensor_transpose[min_indices[0]], bins=20, color='skyblue', edgecolor='black')\n",
    "# set title with corresponding cell index\n",
    "\n",
    "axs[0].set_title(f'Histogram of Cell: \\n{cells_identified.index[0]}', fontsize=12)\n",
    "axs[0].set_xlabel('Expression Value', fontsize=12)\n",
    "axs[0].set_ylabel('Frequency', fontsize=12)\n",
    "axs[1].hist(data_tensor_transpose[min_indices[1]], bins=20, color='skyblue', edgecolor='black')\n",
    "axs[1].set_title(f'Histogram of Cell: \\n{cells_identified.index[0]}', fontsize=12)\n",
    "axs[1].set_xlabel('Expression Value', fontsize=12)\n",
    "axs[1].set_ylabel('Frequency', fontsize=12)\n",
    "plt.tight_layout()\n",
    "plt.show()"
   ]
  },
  {
   "cell_type": "markdown",
   "metadata": {},
   "source": [
    "we proceed plottinf the two types of correlation we looked at using histograms."
   ]
  },
  {
   "cell_type": "code",
   "execution_count": null,
   "metadata": {},
   "outputs": [],
   "source": [
    "# Correlation between cells (samples)\n",
    "# Plot histogram of the values to see the distribution\n",
    "data_tensor = th.tensor(merged.values)\n",
    "correlation_matrix_transpose = th.corrcoef(data_tensor)\n",
    "plt.figure(figsize=(10, 6))\n",
    "sns.histplot(correlation_matrix_transpose.flatten(), bins=100, color='skyblue', edgecolor='black')\n",
    "plt.title('Histogram of Correlation Matrix Values', fontsize=16)\n",
    "plt.xlabel('Correlation Value', fontsize=14)\n",
    "plt.ylabel('Frequency', fontsize=14)\n",
    "plt.xticks(fontsize=12)\n",
    "plt.yticks(fontsize=12)\n",
    "plt.grid(axis='y', linestyle='--', alpha=0.7)\n",
    "plt.show()\n",
    "\n",
    "# Clear that we have peaks at high correlation values between cells. In principle, this is explained by the fact that every \n",
    "# gene expression in the table is coming from the same cell line we expect overall an high correlation among them."
   ]
  },
  {
   "cell_type": "code",
   "execution_count": null,
   "metadata": {},
   "outputs": [],
   "source": [
    "# We now can plot the distribution of the correlation between gene expression profiles using a \n",
    "# histogram (we do it on the first ten variables)\n",
    "\n",
    "correlation_matrix = pd.DataFrame(correlation_matrix_transpose)\n",
    "print(correlation_matrix.shape)\n",
    "c_subset = correlation_matrix.iloc[:,:10]\n",
    "sns.histplot(c_subset,bins=100)\n",
    "plt.legend().set_visible(False)\n",
    "plt.ylabel('Frequency')\n",
    "plt.xlabel('Correlation between cells expression profiles')\n",
    "plt.plot()\n"
   ]
  },
  {
   "cell_type": "markdown",
   "metadata": {},
   "source": [
    "we are now insterested in seeing if the correlation between the cells is different between the two classes hypoxia and normoxia. \n",
    "We can do this by plotting the correlation matrix for each class separately.\n",
    "We can do this by splitting the dataframe into two dataframes, one for each class."
   ]
  },
  {
   "cell_type": "code",
   "execution_count": null,
   "metadata": {},
   "outputs": [],
   "source": [
    "\n",
    "# Convert the DataFrames to PyTorch tensors\n",
    "data_tensor_norm = th.tensor(merged_norm.values)\n",
    "data_tensor_hypo = th.tensor(merged_hypo.values)\n",
    "\n",
    "# Calculate the correlation matrices\n",
    "correlation_matrix_norm = th.corrcoef(data_tensor_norm)\n",
    "correlation_matrix_hypo = th.corrcoef(data_tensor_hypo)\n",
    "\n",
    "# Plot the correlation matrices with subplots\n",
    "fig, axs = plt.subplots(1, 2, figsize=(12, 6))\n",
    "sns.heatmap(correlation_matrix_norm, cmap='coolwarm', yticklabels = False, xticklabels = False, ax=axs[0], square=True)\n",
    "sns.heatmap(correlation_matrix_hypo, cmap='coolwarm', yticklabels = False, xticklabels = False, ax=axs[1], square=True)\n",
    "# Set titles with number of genes that are norm or hypo\n",
    "axs[0].set_title(f'Normoxia ({merged_norm.shape[0]} cells)')\n",
    "axs[1].set_title(f'Hypoxia ({merged_hypo.shape[0]} cells)')\n",
    "plt.show() \n",
    "\n",
    "# Check shape of correlation matrices\n",
    "print(\"Shape of correlation matrix for normoxia:\", correlation_matrix_norm.shape)\n",
    "print(\"Shape of correlation matrix for hypoxia:\", correlation_matrix_hypo.shape)"
   ]
  },
  {
   "attachments": {},
   "cell_type": "markdown",
   "metadata": {},
   "source": [
    "________________________________________________________________________________________________________________________\n",
    "We are now interested in doing the same data analysis that we did for the trasposed dataset for the original dataset."
   ]
  },
  {
   "cell_type": "code",
   "execution_count": null,
   "metadata": {},
   "outputs": [],
   "source": [
    "# we simply transpose again the dataframe (now we have cells as columns)\n",
    "print(\"Dataframe dimension before transpose:\", df_seq_HUnfilt.shape)\n",
    "df_seq_HUnfilt = df_seq_HUnfilt.T\n",
    "print(\"Dataframe dimension after transpose:\", df_seq_HUnfilt.shape)\n",
    "df_seq_HUnfilt.head(5)"
   ]
  },
  {
   "cell_type": "code",
   "execution_count": null,
   "metadata": {},
   "outputs": [],
   "source": [
    "\n",
    "print(\"Missing values in the dataframe by columns:\", df_seq_HUnfilt.isnull().sum())\n",
    "print(\"Missing values in the whole dataframe:\", df_seq_HUnfilt.isna().sum().sum())"
   ]
  },
  {
   "cell_type": "code",
   "execution_count": null,
   "metadata": {},
   "outputs": [],
   "source": [
    "df_seq_HUnfilt.describe()"
   ]
  },
  {
   "cell_type": "code",
   "execution_count": null,
   "metadata": {},
   "outputs": [],
   "source": [
    "# Just renaming\n",
    "mergedT = df_seq_HUnfilt"
   ]
  },
  {
   "attachments": {},
   "cell_type": "markdown",
   "metadata": {},
   "source": [
    "Outliers for the transpose dataset (rows are genes)"
   ]
  },
  {
   "cell_type": "code",
   "execution_count": null,
   "metadata": {},
   "outputs": [],
   "source": [
    "# # TO REVIEW\n",
    "# np.random.seed(42)\n",
    "\n",
    "# # Number of boxplots you want to create\n",
    "# num_boxplots = 5\n",
    "\n",
    "# # Randomly select column indices\n",
    "# random_columns = np.random.choice(mergedT.columns[1:], num_boxplots, replace=False)\n",
    "\n",
    "\n",
    "# plt.figure(figsize=(12, 8))  \n",
    "# for i, column in enumerate(random_columns):\n",
    "#     plt.subplot(1, len(random_columns), i+1)\n",
    "    \n",
    "#     # Customizing boxplot appearance\n",
    "#     sns.boxplot(y=mergedT[column], color='skyblue', width=0.5)\n",
    "    \n",
    "#     # Overlaying swarmplot for better visualization of individual data points\n",
    "#     sns.swarmplot(y=mergedT[column], color='red', alpha=0.5)\n",
    "    \n",
    "#     plt.title(f'Boxplot of {column}', fontsize=14)\n",
    "#     plt.ylabel('Count of the gene expression', fontsize=12)\n",
    "#     plt.xlabel('', fontsize=12)\n",
    "#     plt.xticks(fontsize=10)\n",
    "#     plt.yticks(fontsize=10)\n",
    "#     plt.grid(True)\n",
    "\n",
    "\n",
    "# plt.tight_layout()\n",
    "# plt.show()"
   ]
  },
  {
   "cell_type": "code",
   "execution_count": null,
   "metadata": {},
   "outputs": [],
   "source": [
    "# Outliers with Inter-Quartile Range (IQR) proximity rule for each column\n",
    "Q1 = mergedT.quantile(0.25)\n",
    "Q3 = mergedT.quantile(0.75)\n",
    "IQR = Q3 - Q1\n",
    "outliers = (mergedT < (Q1 - 1.5 * IQR)) | (mergedT > (Q3 + 1.5 * IQR))\n",
    "# Print outliers fora each column\n",
    "print(\"Number of outliers in the DataFrame:\", outliers.sum())\n",
    "# Print outliers percentage\n",
    "outliers_percentage = (outliers.sum().sum() / total_elements) * 100\n",
    "print(\"{:.2f}%\".format(outliers_percentage))"
   ]
  },
  {
   "cell_type": "code",
   "execution_count": null,
   "metadata": {},
   "outputs": [],
   "source": [
    "# edo"
   ]
  },
  {
   "attachments": {},
   "cell_type": "markdown",
   "metadata": {},
   "source": [
    "Now we analyze distribution of the transpose dataset (rows are genes) in the same way we did before."
   ]
  },
  {
   "cell_type": "code",
   "execution_count": null,
   "metadata": {},
   "outputs": [],
   "source": [
    "#visualize the distribution of the data through histograms\n",
    "np.random.seed(42)\n",
    "\n",
    "# Number of boxplots you want to create\n",
    "num_boxplots = 3\n",
    "\n",
    "# Randomly select column indices\n",
    "random_columns = np.random.choice(mergedT.columns[1:], num_boxplots, replace=False)\n",
    "\n",
    "\n",
    "\n",
    "fig = plt.figure(figsize=(12, 8))\n",
    "for i, column in enumerate(random_columns):  # Adjusted to only consider the first 5 columns\n",
    "    plt.subplot(2, 3, i+1)  # Adjusted to fit in a 2x3 grid\n",
    "    sns.histplot(mergedT[column], kde=True, color='skyblue')\n",
    "    plt.title(f'Histogram of {column}', fontsize=12)\n",
    "    plt.xlabel('')\n",
    "    plt.ylabel('Count', fontsize=10)\n",
    "    # rescale the y-axis to better visualize the distribution\n",
    "    \n",
    "    plt.xticks(fontsize=8)\n",
    "    plt.yticks(fontsize=8)\n",
    "    plt.grid(True)\n",
    "plt.tight_layout()\n",
    "plt.show()\n"
   ]
  },
  {
   "cell_type": "code",
   "execution_count": null,
   "metadata": {},
   "outputs": [],
   "source": [
    "# Calculate skewness for each column in your DataFrame\n",
    "skewness_valuesT = mergedT[random_columns].skew()\n",
    "\n",
    "# Print skewness values\n",
    "print(\"Skewness for each selected feature:\")\n",
    "print(skewness_valuesT)"
   ]
  },
  {
   "cell_type": "code",
   "execution_count": null,
   "metadata": {},
   "outputs": [],
   "source": [
    "# Calculate skewness for each column in your DataFrame\n",
    "skewness_valuesT = mergedT.skew()\n",
    "\n",
    "# Round the skewness values\n",
    "rounded_skewnessT_values = np.round(skewness_valuesT, decimals=2)\n",
    "\n",
    "# Set seaborn style\n",
    "sns.set(style=\"whitegrid\")\n",
    "\n",
    "# Plot a histogram of rounded skewness values\n",
    "plt.figure(figsize=(10, 6))\n",
    "sns.histplot(rounded_skewnessT_values, bins=20, color='skyblue', edgecolor='black')\n",
    "plt.title('Histogram of Rounded Skewness Values', fontsize=16)\n",
    "plt.xlabel('Skewness', fontsize=14)\n",
    "plt.ylabel('Frequency', fontsize=14)\n",
    "plt.xticks(fontsize=12)\n",
    "plt.yticks(fontsize=12)\n",
    "plt.grid(axis='y', linestyle='--', alpha=0.7)\n",
    "plt.show()"
   ]
  },
  {
   "cell_type": "code",
   "execution_count": null,
   "metadata": {},
   "outputs": [],
   "source": [
    "# Calculate kurtosis for each column in your DataFrame\n",
    "kurtosis_valuesT = mergedT[random_columns].kurtosis()\n",
    "\n",
    "# Print kurtosis values\n",
    "print(\"Kurtosis for each feature:\")\n",
    "print(kurtosis_valuesT)"
   ]
  },
  {
   "cell_type": "code",
   "execution_count": null,
   "metadata": {},
   "outputs": [],
   "source": [
    "# Calculate kurtosis for each column in your DataFrame\n",
    "kurtosis_valuesT = mergedT.kurtosis()\n",
    "\n",
    "# Round the kurtosis values\n",
    "rounded_kurtosisT_values = np.round(kurtosis_valuesT, decimals=2)\n",
    "\n",
    "# Set seaborn style\n",
    "sns.set(style=\"whitegrid\")\n",
    "\n",
    "# Plot a histogram of rounded kurtosis values\n",
    "plt.figure(figsize=(10, 6))\n",
    "sns.histplot(rounded_kurtosisT_values, bins=20, color='skyblue', edgecolor='black')\n",
    "plt.title('Histogram of Rounded Kurtosis Values', fontsize=16)\n",
    "plt.xlabel('Kurtosis', fontsize=14)\n",
    "plt.ylabel('Frequency', fontsize=14)\n",
    "plt.xticks(fontsize=12)\n",
    "plt.yticks(fontsize=12)\n",
    "plt.grid(axis='y', linestyle='--', alpha=0.7)\n",
    "plt.show()"
   ]
  },
  {
   "cell_type": "code",
   "execution_count": null,
   "metadata": {},
   "outputs": [],
   "source": [
    "# Test normality using the Kolmogorov-Smirnov test impl. before\n",
    "non_normal_countT = test_distribution_per_feature(mergedT)"
   ]
  },
  {
   "cell_type": "code",
   "execution_count": null,
   "metadata": {},
   "outputs": [],
   "source": [
    "# Now test other distribition in the same way\n",
    "test_poissondistribution_per_feature(mergedT)"
   ]
  },
  {
   "cell_type": "code",
   "execution_count": null,
   "metadata": {},
   "outputs": [],
   "source": [
    "test_negative_binomial_distribution_per_feature(mergedT)"
   ]
  },
  {
   "cell_type": "code",
   "execution_count": null,
   "metadata": {},
   "outputs": [],
   "source": [
    "# test_gamma_distribution_per_feature(mergedT)"
   ]
  },
  {
   "cell_type": "code",
   "execution_count": null,
   "metadata": {},
   "outputs": [],
   "source": [
    "# DA AGGIUNGERE REPR FOR GAMMA"
   ]
  },
  {
   "attachments": {},
   "cell_type": "markdown",
   "metadata": {},
   "source": [
    "________________________________________________________________________________________________________________________"
   ]
  },
  {
   "attachments": {},
   "cell_type": "markdown",
   "metadata": {},
   "source": [
    "Now that we finished the analysis of the data we proceed with the normalization.\n",
    "In order to do so, we will work on the transpose dataset (genes as rows and cells as columns)"
   ]
  },
  {
   "cell_type": "code",
   "execution_count": null,
   "metadata": {},
   "outputs": [],
   "source": [
    "mergedT.shape"
   ]
  },
  {
   "cell_type": "markdown",
   "metadata": {},
   "source": [
    "since we have an highly non normal distributed data we try to take different concave transformations and then check which one is the best.\n",
    "the first transformation we use is a squarw root with a random index to pick a single feature from the transposed dataset for the analysis."
   ]
  },
  {
   "cell_type": "code",
   "execution_count": null,
   "metadata": {},
   "outputs": [],
   "source": [
    "# Highly non normal distribution hence we take concave transformations the features\n",
    "# Inspect first a single randomly selected feature\n",
    "\n",
    "# we are using the transposed dataset\n",
    "\n",
    "# Select a random index with seed\n",
    "np.random.seed(42)\n",
    "randomindex = np.random.randint(0, mergedT.shape[1])\n",
    "\n",
    "# Apply the square root of the feature with random index\n",
    "mergedT_squareroot = np.sqrt(mergedT[mergedT.columns[randomindex]])\n",
    "# Boxplot of the feature and the transformed feature\n",
    "fig, axs = plt.subplots(1, 2, figsize=(10,6))\n",
    "plt.suptitle(\"Boxplot for one column\")\n",
    "axs[0].boxplot(mergedT[mergedT.columns[randomindex]]+1)\n",
    "axs[0].set_title(\"Raw data\")\n",
    "axs[0].get_xaxis().set_visible(False)\n",
    "axs[0].grid(True)\n",
    "axs[1].boxplot(mergedT_squareroot)\n",
    "axs[1].set_title(\"Square Root data\")\n",
    "axs[1].get_xaxis().set_visible(False)\n",
    "axs[1].grid(True)\n",
    "\n",
    "plt.show()"
   ]
  },
  {
   "cell_type": "markdown",
   "metadata": {},
   "source": [
    "the second transformation is the cubic root."
   ]
  },
  {
   "cell_type": "code",
   "execution_count": null,
   "metadata": {},
   "outputs": [],
   "source": [
    "mergedT_cuberoot = np.cbrt(mergedT[mergedT.columns[randomindex]])\n",
    "# Boxplot of the feature and the transformed feature\n",
    "fig, axs = plt.subplots(1, 2, figsize=(10,6))\n",
    "plt.suptitle(\"Boxplot for one column\")\n",
    "axs[0].boxplot(mergedT[mergedT.columns[randomindex]]+1)\n",
    "axs[0].set_title(\"Raw data\")\n",
    "axs[0].get_xaxis().set_visible(False)\n",
    "axs[0].grid(True)\n",
    "axs[1].boxplot(mergedT_cuberoot)\n",
    "axs[1].set_title(\"Cube Root data\")\n",
    "axs[1].get_xaxis().set_visible(False)\n",
    "axs[1].grid(True)\n",
    "\n",
    "plt.show()"
   ]
  },
  {
   "cell_type": "markdown",
   "metadata": {},
   "source": [
    "the last transformation is the logarithm."
   ]
  },
  {
   "cell_type": "code",
   "execution_count": null,
   "metadata": {},
   "outputs": [],
   "source": [
    "mergedT_log2_onecol = np.log2(mergedT[mergedT.columns[randomindex]]+1)\n",
    "# Boxplot of the feature and the transformed feature\n",
    "fig, axs = plt.subplots(1, 2, figsize=(10,6))\n",
    "plt.suptitle(\"Boxplot for one column\")\n",
    "axs[0].boxplot(mergedT[mergedT.columns[randomindex]]+1)\n",
    "axs[0].set_title(\"Raw data\")\n",
    "axs[0].get_xaxis().set_visible(False)\n",
    "axs[0].grid(True)\n",
    "axs[1].boxplot(mergedT_log2_onecol)\n",
    "axs[1].set_title(\"Log data\")\n",
    "axs[1].get_xaxis().set_visible(False)\n",
    "axs[1].grid(True)\n",
    "\n",
    "plt.show()"
   ]
  },
  {
   "cell_type": "markdown",
   "metadata": {},
   "source": [
    "We now show that between the transformation we tryed the best one is the log one.\n",
    "In order to do so we look at the skewness of the transformed data and then plot the histograms to inspect why the skewness is negative. Finally we procced plotting the density of the transformed columns."
   ]
  },
  {
   "cell_type": "code",
   "execution_count": null,
   "metadata": {},
   "outputs": [],
   "source": [
    "# Prove that log transformation is the best\n",
    "# Calculate the skewness of the raw data\n",
    "skewness_raw = mergedT[mergedT.columns[randomindex]].skew()\n",
    "# Calculate the skewness of the log transformed data\n",
    "skewness_log = np.log2(mergedT[mergedT.columns[randomindex]]+1).skew()\n",
    "# Calculate the skewness of the square root transformed data\n",
    "skewness_sqrt = np.sqrt(mergedT[mergedT.columns[randomindex]]).skew()\n",
    "# Calculate the skewness of the cube root transformed data\n",
    "skewness_cbrt = np.cbrt(mergedT[mergedT.columns[randomindex]]).skew()\n",
    "# Print the skewness values\n",
    "print(f\"Skewness of raw data: {skewness_raw}\")\n",
    "print(f\"Skewness of log transformed data: {skewness_log}\")\n",
    "print(f\"Skewness of square root transformed data: {skewness_sqrt}\")\n",
    "print(f\"Skewness of cube root transformed data: {skewness_cbrt}\")\n",
    "\n",
    "# Plot the histogram of transformed column, inspect why the skewness is negative\n",
    "fig, axs = plt.subplots(1, 2, figsize=(10,6))\n",
    "plt.suptitle(\"Histogram for one column\")\n",
    "axs[0].hist(mergedT[mergedT.columns[randomindex]], bins = 100)\n",
    "# Set x-axis limit\n",
    "axs[0].set_xlim(0, 1000)\n",
    "axs[0].set_title(\"Raw data\")\n",
    "axs[0].grid(True)\n",
    "axs[1].hist(mergedT_log2_onecol)\n",
    "axs[1].set_title(\"Log data\")\n",
    "axs[1].grid(True)\n",
    "\n",
    "# Plot the density of the transformed column\n",
    "fig, axs = plt.subplots(1, 2, figsize=(10,6))\n",
    "plt.suptitle(\"Density plot for one column\")\n",
    "sns.kdeplot(mergedT[mergedT.columns[randomindex]], ax=axs[0])\n",
    "axs[0].set_title(\"Raw data\")\n",
    "axs[0].grid(True)\n",
    "sns.kdeplot(mergedT_log2_onecol, ax=axs[1])\n",
    "axs[1].set_title(\"Log data\")\n",
    "axs[1].grid(True)\n"
   ]
  },
  {
   "cell_type": "markdown",
   "metadata": {},
   "source": [
    "now we plot the densities of 10 randomly selected features all in one plot with sns with rescaled x axis"
   ]
  },
  {
   "cell_type": "code",
   "execution_count": null,
   "metadata": {},
   "outputs": [],
   "source": [
    "np.random.seed(42)\n",
    "fig, ax = plt.subplots(1, 1, figsize=(10,6))\n",
    "plt.suptitle(\"Density plot for 10 columns\")\n",
    "for i in np.random.randint(0, mergedT.shape[1], 10):\n",
    "    np.log2(mergedT[mergedT.columns[i]]+1).plot.density(legend = False)\n",
    "ax.set_title(\"Raw data\")\n",
    "# Rescale x limits\n",
    "ax.set_xlim(-10, 20)\n",
    "plt.grid(True)\n",
    "ax.grid(True)\n",
    "plt.show()\n",
    "\n"
   ]
  },
  {
   "attachments": {},
   "cell_type": "markdown",
   "metadata": {},
   "source": [
    "DA CAMBIARE What can we say about these results? We see that there are two peaks, so close to half of the genes are usually not expressed (or very low expressed) while roughly the other half is very expressed. So, this indicates the presence of two subgroups of genes for each cell. In classification, we want to \"compare\" these distributions, but from the boxplot above, we can see that different samples have different expression levels range, which complicates the task!"
   ]
  },
  {
   "cell_type": "markdown",
   "metadata": {},
   "source": [
    "Now that we saw that the log transformation is the best for this randomly selected random feature, we proceed inspecting the whole dataset.\n",
    "So we apply the three transformations to the whole dataset and we check which one is the best by analyzing the skewness and the kurtosis of the two resulting datasets.\n"
   ]
  },
  {
   "cell_type": "code",
   "execution_count": null,
   "metadata": {},
   "outputs": [],
   "source": [
    "# Apply the log transformation to the entire dataset\n",
    "mergedT_log = np.log2(mergedT+1)\n",
    "mergedT_cbrt = np.cbrt(mergedT)\n",
    "mergedT_sqrt = np.sqrt(mergedT)\n",
    "# Convert to DataFrame\n",
    "mergedT_log = pd.DataFrame(mergedT_log, columns=mergedT.columns, index=mergedT.index)\n",
    "mergedT_cbrt = pd.DataFrame(mergedT_cbrt, columns=mergedT.columns, index=mergedT.index)\n",
    "mergedT_sqrt = pd.DataFrame(mergedT_sqrt, columns=mergedT.columns, index=mergedT.index)\n",
    "# Check skewness of the transformed data\n",
    "skewness_log = mergedT_log.skew()\n",
    "skewness_cbrt = mergedT_cbrt.skew()\n",
    "skewness_sqrt = mergedT_sqrt.skew()\n",
    "# Print the skewness values\n",
    "print(f\"Skewness of log transformed data: {skewness_log.mean()}\")\n",
    "print(f\"Skewness of cube root transformed data: {skewness_cbrt.mean()}\")\n",
    "print(f\"Skewness of square root transformed data: {skewness_sqrt.mean()}\")\n",
    "# Plot the histograms of the transformed data\n",
    "fig, axs = plt.subplots(1, 3, figsize=(15, 5))\n",
    "plt.suptitle(\"Histograms of transformed data\")\n",
    "axs[0].hist(mergedT_log.values.flatten(), bins=50, color='blue', alpha=0.7)\n",
    "axs[0].set_title(\"Log transformed data\")\n",
    "axs[1].hist(mergedT_cbrt.values.flatten(), bins=50, color='red', alpha=0.7)\n",
    "axs[1].set_title(\"Cube root transformed data\")\n",
    "axs[2].hist(mergedT_sqrt.values.flatten(), bins=50, color='green', alpha=0.7)\n",
    "axs[2].set_title(\"Square root transformed data\")\n",
    "plt.show()"
   ]
  },
  {
   "cell_type": "markdown",
   "metadata": {},
   "source": [
    "Now that we saw that indeed the log transformation is the best we do some more plots on the data transformed in this way."
   ]
  },
  {
   "cell_type": "code",
   "execution_count": null,
   "metadata": {},
   "outputs": [],
   "source": [
    "# Create a list of skewness values for all columns\n",
    "skewness_log = mergedT_log.skew()\n",
    "\n",
    "# Now we histogram plot the skewness values for the log transformed data\n",
    "fig, ax = plt.subplots(1, 1, figsize=(10,6))\n",
    "plt.suptitle(\"Histogram of skewness values for log transformed data\")\n",
    "sns.histplot(skewness_log, bins=1000, color='blue')\n",
    "ax.set_title(\"Log transformed data\")\n",
    "# Set x limits\n",
    "ax.set_xlim(0, 2)\n",
    "plt.grid(True)\n",
    "plt.show()\n"
   ]
  },
  {
   "cell_type": "code",
   "execution_count": null,
   "metadata": {},
   "outputs": [],
   "source": [
    "# kurtosis of log-trasnformed dataframe computed one column at a time\n",
    "kurtosis_log = mergedT_log.kurtosis()\n",
    "# Plot the histogram of kurtosis values\n",
    "fig = plt.figure(figsize=(10,6))\n",
    "plt.suptitle(\"Histogram of kurtosis values for log transformed data\")\n",
    "sns.histplot(kurtosis_log, bins=1000, color='blue')\n",
    "plt.title(\"Log transformed data\")\n",
    "plt.xlim(0, 10)\n",
    "plt.grid(True)\n",
    "plt.show()"
   ]
  },
  {
   "attachments": {},
   "cell_type": "markdown",
   "metadata": {},
   "source": [
    "We use CPM (Counts Per Million) normalization, which is a common normalization technique for RNA-seq data. It is calculated as follows:\n",
    "CPM values are calculated by dividing the number of reads mapped to a gene by a million scaling factor divided by the total of mapped reads.\n",
    "We will do it across columns (i.e. across cells) because we want the genes' reads to be \"normalized\" and so comparable across different observations"
   ]
  },
  {
   "cell_type": "code",
   "execution_count": null,
   "metadata": {},
   "outputs": [],
   "source": [
    "# CPM Normalization with a for loop\n",
    "# Initialize a new DataFrame\n",
    "mergedT_cpm = pd.DataFrame()\n",
    "# Loop over each column\n",
    "for column in mergedT.columns:\n",
    "    # Calculate the CPM\n",
    "    cpm = mergedT[column] / mergedT[column].sum() * 1e6\n",
    "    # Add the CPM to the new DataFrame\n",
    "    mergedT_cpm = pd.concat([mergedT_cpm, cpm], axis=1)\n"
   ]
  },
  {
   "cell_type": "code",
   "execution_count": null,
   "metadata": {},
   "outputs": [],
   "source": [
    "mergedT_cpm.shape"
   ]
  },
  {
   "cell_type": "code",
   "execution_count": null,
   "metadata": {},
   "outputs": [],
   "source": [
    "mergedT_cpm.head()"
   ]
  },
  {
   "cell_type": "code",
   "execution_count": null,
   "metadata": {},
   "outputs": [],
   "source": [
    "mergedT_cpm.describe()"
   ]
  },
  {
   "cell_type": "markdown",
   "metadata": {},
   "source": [
    "Here we boxplot our CPM-normalized cells. The distribution start to look balanced."
   ]
  },
  {
   "cell_type": "code",
   "execution_count": null,
   "metadata": {},
   "outputs": [],
   "source": [
    "#box-plot of log-transformed 50 random columns of dataframe\n",
    "random_columns = list(range(0, mergedT.shape[1])) # list of integers from 1 to 243\n",
    "random.shuffle(random_columns)\n",
    "random_columns = random_columns[:50]\n",
    "normalized_small = mergedT_cpm.iloc[:, random_columns]\n",
    "plt.figure(figsize=(16,4))\n",
    "plot=sns.boxplot(data=normalized_small,palette=\"Set3\")\n",
    "plt.setp(plot.get_xticklabels(), rotation=90);\n"
   ]
  },
  {
   "cell_type": "markdown",
   "metadata": {},
   "source": [
    "Here we see that the Skeweness and Kurtosis values are still very high.The log transformation will definitely improve the symmetry of the distributions."
   ]
  },
  {
   "cell_type": "code",
   "execution_count": null,
   "metadata": {},
   "outputs": [],
   "source": [
    "# Check again skewness and kurtosis of the CPM normalized data\n",
    "skewness_cpm = mergedT_cpm.skew()\n",
    "kurtosis_cpm = mergedT_cpm.kurtosis()\n",
    "# Print the skewness and kurtosis values\n",
    "print(f\"Mean Skewness of CPM normalized data: {skewness_cpm.mean()}\")\n",
    "print(f\"Mean Kurtosis of CPM normalized data: {kurtosis_cpm.mean()}\")\n",
    "# boxplot of skewness\n",
    "fig, ax = plt.subplots(1, 2, figsize=(10,5))\n",
    "plt.suptitle(\"Boxplot of CPM Normalized Data\")\n",
    "ax[0].boxplot(skewness_cpm)\n",
    "ax[0].grid(True)\n",
    "ax[0].set_title(\"Skewness\")\n",
    "ax[1].boxplot(kurtosis_cpm)\n",
    "ax[1].grid(True)\n",
    "ax[1].set_title(\"Kurtosis\")\n",
    "plt.show()\n"
   ]
  },
  {
   "cell_type": "code",
   "execution_count": null,
   "metadata": {},
   "outputs": [],
   "source": [
    "# Now we will apply the log transformation to the CPM normalized data\n",
    "mergedT_cpm_log = np.log2(mergedT_cpm+1)\n",
    "# Convert to DataFrame\n",
    "mergedT_cpm_log = pd.DataFrame(mergedT_cpm_log, columns=mergedT_cpm.columns, index=mergedT_cpm.index)"
   ]
  },
  {
   "cell_type": "markdown",
   "metadata": {},
   "source": [
    "The boxplot of 10 random cells shows that the distributions after the log transformation are even more balanced and symmetric."
   ]
  },
  {
   "cell_type": "code",
   "execution_count": null,
   "metadata": {},
   "outputs": [],
   "source": [
    "# Study the distributions of 10 random columns now (boxplot and densities)\n",
    "log_small = mergedT_cpm_log.iloc[:, random_columns]\n",
    "plt.figure(figsize=(16,4))\n",
    "plot=sns.boxplot(data=log_small, palette=\"Set3\")\n",
    "plt.setp(plot.get_xticklabels(), rotation=90);\n"
   ]
  },
  {
   "cell_type": "markdown",
   "metadata": {},
   "source": [
    "Plotting the densities of 10 random cells, we notice a Bimodal distributions, with of course a peak at the 0, as we expected since most of the genes in each cell have 0 reading, and a second peak around 5, so this means that most of the genes, when they apprear, have a similar number of readings."
   ]
  },
  {
   "cell_type": "code",
   "execution_count": null,
   "metadata": {},
   "outputs": [],
   "source": [
    "# Densities of the 10 random columns\n",
    "fig, ax = plt.subplots(1, 1, figsize=(10,6))\n",
    "plt.suptitle(\"Density plot of 10 random columns\")\n",
    "for i in range(10):\n",
    "    sns.kdeplot(mergedT_cpm_log.iloc[:, i], ax=ax)\n",
    "ax.set_title(\"Log transformed CPM normalized data\")\n",
    "ax.set_xlabel(\"\")\n",
    "ax.grid(True)\n",
    "plt.show()\n"
   ]
  },
  {
   "cell_type": "code",
   "execution_count": null,
   "metadata": {},
   "outputs": [],
   "source": [
    "# from scipy.stats import beta\n",
    "\n",
    "# # Iterate over columns and perform the test\n",
    "# def test_beta_distribution_per_feature(data):\n",
    "#     beta_list = [] # initialize list to store features with Gamma distribution\n",
    "#     for column in data.columns:\n",
    "#         observed_values = data[column].values  # values of the column\n",
    "#         support = np.unique(observed_values) # unique values in the column\n",
    "#         mean = observed_values.mean() # mean of the column (we will need this for the nbinom distribution)\n",
    "#         var = observed_values.var() # variance of the column (we will need this for the nbinom distribution)\n",
    "#         a = mean*(1/(1-mean))\n",
    "#         b = mean*(1/var - 1/mean)\n",
    "#         obs_freq = [] # initialize an empty array to store observed frequencies\n",
    "#         for value in support:\n",
    "#             obs_freq.append((observed_values == value).sum()) # count the number of times each unique value appears in the column\n",
    "#         exp_freq = [] # initialize an empty array to store expected frequencies\n",
    "#         for value in support:\n",
    "#             exp_freq.append(beta.pdf(value,a,b) * len(observed_values)) # calculate the expected frequency for each unique value\n",
    "#         # normalize the observed and expected frequencies\n",
    "#         obs_freq = obs_freq / np.sum(obs_freq)\n",
    "#         exp_freq = exp_freq / np.sum(exp_freq)\n",
    "        \n",
    "#         # perform the chi-square test\n",
    "#         _, p = chisquare(obs_freq, exp_freq)\n",
    "        \n",
    "#         # if p-value is greater than 0.05, we don't reject the null hypothesis that the data doesn't follow a beta distribution\n",
    "#         if p >= 0.05:\n",
    "#             beta_list.append(column)\n",
    "#     print(\"Number of features with Beta distribution:\", len(beta_list))\n",
    "#     if len(beta_list) == 0:\n",
    "#         print(\"All features have non-Beta distribution\")\n",
    "#     else:\n",
    "#         print(\"Some features might have Beta distribution\")\n",
    "#     return beta_list\n",
    "\n",
    "# beta_columns = test_beta_distribution_per_feature(mergedT_cpm_log)"
   ]
  },
  {
   "attachments": {},
   "cell_type": "markdown",
   "metadata": {},
   "source": [
    "________________________________________________________________________________________________________________________"
   ]
  },
  {
   "attachments": {},
   "cell_type": "markdown",
   "metadata": {},
   "source": [
    "## Feature Selection"
   ]
  },
  {
   "attachments": {},
   "cell_type": "markdown",
   "metadata": {},
   "source": [
    "In this section we try to find the genes that explain most of the variance, discarding all the others.So we want to remove these \"undetectable\" genes. How could we define a detectable gene? When there are biological replicates in each group, in this case, we have a sample size of 2 in each group. Therefore we could define a gene as detectable if there is a minimum counts-per-million (CPM) threshold in at least 2 samples.\n",
    "Genes with very low counts in all samples provide\n",
    "little evidence for differential expression.\n",
    "We filter using CPM values rather than counts\n",
    "because they account for differences in\n",
    "sequencing depth between samples.\n",
    "we could define a gene as detectable if there is a minimum counts-per-million threshold in at least 2 samples.\n",
    "There is no general rule for choosing the threshold,\n",
    "so we will do grid search for finding the optimal value.\n"
   ]
  },
  {
   "cell_type": "code",
   "execution_count": null,
   "metadata": {},
   "outputs": [],
   "source": [
    "def filter_CPM(data, threshold):\n",
    "    data_filtered = pd.DataFrame()\n",
    "    # Keep track of the number of rows removed\n",
    "    removed_genes = 0\n",
    "    # Create a mask to filter out rows with low counts\n",
    "    if 'Target' in data.index:\n",
    "        data = data.drop('Target')\n",
    "    mask_thr = data > threshold\n",
    "    mask_rows = mask_thr.sum(axis=1) >= 2\n",
    "    data_filtered = data.loc[mask_rows, :]\n",
    "    return data_filtered"
   ]
  },
  {
   "cell_type": "code",
   "execution_count": null,
   "metadata": {},
   "outputs": [],
   "source": [
    "filteredcpm = filter_CPM(mergedT_cpm_log, 0.5)\n",
    "print(filteredcpm)\n",
    "print(\"Number of rows before filtering:\", mergedT_cpm_log.shape[0])"
   ]
  },
  {
   "cell_type": "code",
   "execution_count": null,
   "metadata": {},
   "outputs": [],
   "source": [
    "# check if there is target column in the filtered data\n",
    "print(\"Target column in the filtered data:\", \"Target\" in mergedT_cpm_log.columns)\n",
    "print(\"Target column in the filtered data:\", \"Target\" in filteredcpm.columns)\n"
   ]
  },
  {
   "cell_type": "code",
   "execution_count": null,
   "metadata": {},
   "outputs": [],
   "source": [
    "mergedT_cpm_log_transpose = mergedT_cpm_log.T"
   ]
  },
  {
   "cell_type": "markdown",
   "metadata": {},
   "source": [
    "Technicality: the function discarded the 'Target' row, so we need to add it again"
   ]
  },
  {
   "cell_type": "code",
   "execution_count": null,
   "metadata": {},
   "outputs": [],
   "source": [
    "# Now we want to add the target column (i.e. the class) to the dataframe, we get the condition from metadata\n",
    "df_metaH = pd.read_csv(df_metaH_path, delimiter='\\t')\n",
    "print(df_metaH.columns)\n",
    "df_metaH.set_index('Filename', inplace=True)\n",
    "# Merge the two dataframes with key 'Filename'\n",
    "merged_transition = pd.merge(mergedT_cpm_log_transpose, df_metaH['Condition'], left_index=True, right_index=True)\n",
    "\n",
    "# Now transform the categorical variable 'Condition' to numerical\n",
    "dummy_variables = pd.get_dummies(merged_transition['Condition'], prefix='category').astype('int')\n",
    "merged_cpm_log = pd.concat([merged_transition, dummy_variables], axis=1)\n",
    "print(merged_cpm_log.head())\n",
    "merged_cpm_log.drop(columns=['category_Hypo', 'Condition'], inplace=True)\n",
    "merged_cpm_log.rename(columns={'category_Normo': 'Target'}, inplace=True)\n",
    "# Note that 1 = Hypo, 0 = Norm"
   ]
  },
  {
   "cell_type": "code",
   "execution_count": null,
   "metadata": {},
   "outputs": [],
   "source": [
    "def add_target_column(data, metadata_path, target_column_name, target_category):\n",
    "    df_meta = pd.read_csv(metadata_path, delimiter='\\t')\n",
    "    df_meta.set_index('Filename', inplace=True)\n",
    "    merged_transition = pd.merge(data, df_meta[target_column_name], left_index=True, right_index=True)\n",
    "    dummy_variables = pd.get_dummies(merged_transition[target_column_name], prefix='category').astype('int')\n",
    "    \n",
    "    # Set the target category to 1 and the others to 0\n",
    "    dummy_variables['Target'] = dummy_variables[target_category]\n",
    "    dummy_variables.drop(columns=[col for col in dummy_variables.columns if col != 'Target'], inplace=True)\n",
    "    \n",
    "    merged_data = pd.concat([merged_transition, dummy_variables], axis=1)\n",
    "    merged_data.drop(columns=[target_column_name], inplace=True)\n",
    "    return merged_data\n",
    "\n",
    "add_target_column(mergedT_cpm_log_transpose, df_metaH_path, 'Condition', 'category_Normo')"
   ]
  },
  {
   "cell_type": "code",
   "execution_count": null,
   "metadata": {},
   "outputs": [],
   "source": [
    "merged_cpm_log.shape"
   ]
  },
  {
   "cell_type": "code",
   "execution_count": null,
   "metadata": {},
   "outputs": [],
   "source": [
    "# Split the dataset in Normo and Hypo based on Condition\n",
    "normo_cpm_log = merged_cpm_log[merged_cpm_log[\"Target\"] == 0]\n",
    "hypo_cpm_log = merged_cpm_log[merged_cpm_log[\"Target\"] == 1]"
   ]
  },
  {
   "cell_type": "markdown",
   "metadata": {},
   "source": [
    "Since we have only two groups (Normoxia and Hypoxia), it could be useful to understand the significant genes to run the Wilcoxon Rank-Sum Test too.\n",
    "In the Mann-Whitney test, the null hypothesis (usually denoted as \n",
    "states that there are no significant differences between the probability distributions of the two samples, meaning that both samples are drawn from the same population. \n",
    "The alternative hypothesis (usually denoted as  asserts that there is a significant difference between the distributions of the two samples, suggesting that one sample stochastically dominates the other.\n",
    "So we run this test for each gene, and we store the corresponding p-values in a dictionary.\n"
   ]
  },
  {
   "cell_type": "code",
   "execution_count": null,
   "metadata": {},
   "outputs": [],
   "source": [
    "# Wilcoxon rank-sum test \n",
    "# We will use the Wilcoxon rank-sum test to compare the distributions of two groups of samples.\n",
    "def wilcoxon_ranksum_test(data):\n",
    "    normo = data[data[\"Target\"] == 0]\n",
    "    hypo = data[data[\"Target\"] == 1]\n",
    "    p_values = {}\n",
    "    for i in range(data.shape[1]):\n",
    "        p_values[data.columns[i]] = mannwhitneyu(normo.iloc[:, i], hypo.iloc[:, i], alternative = \"two-sided\")[1]\n",
    "    return p_values\n",
    "\n",
    "p_values_mannwhitneyu = wilcoxon_ranksum_test(merged_cpm_log)\n",
    "# print(p_values_mannwhitneyu)"
   ]
  },
  {
   "cell_type": "markdown",
   "metadata": {},
   "source": [
    "Gene expression analysis involves comparing the expression levels of thousands of genes between different experimental conditions.\n",
    " Researchers typically conduct statistical testsfor each gene to determine if there are significant differences in expression between the conditions.\n",
    "\n",
    "However, when performing thousands of statistical tests simultaneously, there's a high chance of observing false positives (genes incorrectly identified as differentially expressed) due to random chance alone. To address this issue, researchers use multiple testing corrections to control the false discovery rate (FDR).\n",
    "Here's how q-values come into play: by  Benjamini-Hochberg procedure we adjusts the p-values to account for the number of tests performed and controls the FDR.\n",
    "By using q-values, we can prioritize genes that are more likely to be truly differentially expressed while minimizing the number of false discoveries. "
   ]
  },
  {
   "cell_type": "code",
   "execution_count": null,
   "metadata": {},
   "outputs": [],
   "source": [
    "def q_value (p_val_dict):\n",
    "  sorted_list = [[key, value] for (key, value) in sorted(p_val_dict.items(), key=lambda x: x[1])]\n",
    "  rank = 1\n",
    "  for p in sorted_list:\n",
    "    p[1] = p[1] * len(p_val_dict)/rank\n",
    "    rank += 1\n",
    "  q_val_dict = dict(sorted_list)\n",
    "  q_val_dict = (sorted(q_val_dict.items()))\n",
    "  return q_val_dict"
   ]
  },
  {
   "cell_type": "code",
   "execution_count": null,
   "metadata": {},
   "outputs": [],
   "source": [
    "q_value(p_values_mannwhitneyu)"
   ]
  },
  {
   "cell_type": "markdown",
   "metadata": {},
   "source": [
    "For choosing the optimal number of significant genes, we will combine q-values with CPM threshold.\n",
    "we will proceed in the following way:\n",
    "1. We filter the data using the CPM threshold\n",
    "2. We run the Mann-Whitney test on the remaining features, computing the p-values (and then the q-values) for each gene\n",
    "3. We keep only the ones with an associated q value >0.05\n",
    "4. We perform gridsearch to find the optimal value for the threshold"
   ]
  },
  {
   "cell_type": "code",
   "execution_count": null,
   "metadata": {},
   "outputs": [],
   "source": [
    "# from datafilter select the genes that have a q-value < 0.05 and drop those rows\n",
    "data_filtered_transpose = filteredcpm.T\n",
    "count = [value for value in q_value(p_values_mannwhitneyu) if value[1] <= 0.05]\n",
    "# we create a list with just the first values of each tuple\n",
    "count = [value[0] for value in count]\n",
    "#we remove from count the eleemnt 'Target'\n",
    "count.remove('Target')\n",
    "finaldf = data_filtered_transpose.drop(columns = count)"
   ]
  },
  {
   "cell_type": "code",
   "execution_count": null,
   "metadata": {},
   "outputs": [],
   "source": [
    "data_filtered_transpose.shape"
   ]
  },
  {
   "cell_type": "code",
   "execution_count": null,
   "metadata": {},
   "outputs": [],
   "source": [
    "finaldf.shape"
   ]
  },
  {
   "cell_type": "code",
   "execution_count": null,
   "metadata": {},
   "outputs": [],
   "source": [
    "mergedT_cpm_log.shape"
   ]
  },
  {
   "cell_type": "code",
   "execution_count": null,
   "metadata": {},
   "outputs": [],
   "source": [
    "# Now we plot the number of features we drop for each treshold value with grid search\n",
    "def grid_search_thresholds(data, thresholds):\n",
    "    n_features = []\n",
    "    for threshold in thresholds:\n",
    "        data_filtered = filter_CPM(data, threshold)\n",
    "        data_filtered = data_filtered.T\n",
    "        print(\"Number of features dropped for CPM\", threshold, \":\", data.shape[0]-data_filtered.shape[1])\n",
    "        data_filtered = add_target_column(data_filtered, df_metaH_path, 'Condition', 'category_Normo')\n",
    "        p_vals = wilcoxon_ranksum_test(data_filtered)\n",
    "        count = [value for value in q_value(p_vals) if value[1] <= 0.05]\n",
    "        count = [value[0] for value in count]\n",
    "        # Delete all columns in count that are not in colsdatafilt\n",
    "        finaldf = data_filtered[count]\n",
    "        print(\"Number of features dropped after q-value test for threshold\", threshold, \":\", data_filtered.shape[1]-len(count))\n",
    "        n_features.append(finaldf.shape[1])\n",
    "        # Plot the number of features we drop for each treshold value\n",
    "    plt.plot(thresholds, n_features)\n",
    "    plt.xlabel('Threshold')\n",
    "    plt.ylabel('Number of features')\n",
    "    plt.title('Number of significant features for each threshold value')\n",
    "    plt.axvline(x=2.1, color = \"red\", linestyle = \"--\", label = \"Optimal Threshold\")\n",
    "    plt.legend()\n",
    "    plt.show()  \n",
    "    return n_features\n",
    "\n",
    "thresholds = np.linspace(start = 0, stop = 10, num = 20)\n",
    "grid_search_thresholds(mergedT_cpm_log, thresholds)"
   ]
  },
  {
   "cell_type": "code",
   "execution_count": null,
   "metadata": {},
   "outputs": [],
   "source": [
    "merged_cpm_log_filtered = filter_CPM(mergedT_cpm_log, 2.1)\n",
    "merged_cpm_log_filtered = merged_cpm_log_filtered.T\n",
    "merged_cpm_log_filtered = add_target_column(merged_cpm_log_filtered, df_metaH_path, 'Condition', 'category_Normo')\n",
    "pvals = wilcoxon_ranksum_test(merged_cpm_log_filtered)\n",
    "qvals = q_value(pvals)\n",
    "count = [value for value in qvals if value[1] <= 0.05]\n",
    "count = [value[0] for value in count]\n",
    "merged_cpm_log_filtered = merged_cpm_log_filtered[count]"
   ]
  },
  {
   "cell_type": "code",
   "execution_count": null,
   "metadata": {},
   "outputs": [],
   "source": [
    "print(merged_cpm_log_filtered.shape)"
   ]
  },
  {
   "cell_type": "code",
   "execution_count": null,
   "metadata": {},
   "outputs": [],
   "source": [
    "merged_cpm_log_filtered.head()\n",
    "# Check if there is target in columns with boolean\n",
    "print('Target' in merged_cpm_log_filtered.columns)"
   ]
  },
  {
   "attachments": {},
   "cell_type": "markdown",
   "metadata": {},
   "source": [
    "It's clear that an optimal value for the threshold is approximately 2.1., and by choosing such a value we will keep approximately 3800 features"
   ]
  },
  {
   "cell_type": "code",
   "execution_count": null,
   "metadata": {},
   "outputs": [],
   "source": [
    "# Now scatter plot the variance of the genes\n",
    "filt_first = filter_CPM(mergedT_cpm_log, 2.1).T\n",
    "adata = sc.AnnData(filt_first)\n",
    "\n",
    "sc.pp.highly_variable_genes(adata, n_top_genes=3000, inplace=False, flavor='seurat_v3')\n",
    "# Note since our dataset is already log-transformed as the function 'Expects logarithmized data'\n",
    "sc.pl.highly_variable_genes(adata, inplace = False)"
   ]
  },
  {
   "cell_type": "code",
   "execution_count": null,
   "metadata": {},
   "outputs": [],
   "source": [
    "adata = adata[:, adata.var['highly_variable']]\n",
    "print(\"Total matching: \", adata.var['highly_variable'].index.isin(df_seq_HFiltNorm.index).astype(bool).sum())\n",
    "print(\"Percentage matching to the given training dataset: \", round(adata.var['highly_variable'].index.isin(df_seq_HFiltNorm.index).astype(bool).sum()/3000*100, 2), \"%\")"
   ]
  },
  {
   "attachments": {},
   "cell_type": "markdown",
   "metadata": {},
   "source": [
    "## DIMENSIONALITY REDUCTION FOR VISUALIZATION"
   ]
  },
  {
   "cell_type": "markdown",
   "metadata": {},
   "source": [
    "we now start the training part of our model.\n",
    "Firsly we perform PCA in order to diminuish the dimensions of our dataset and visualize it."
   ]
  },
  {
   "cell_type": "code",
   "execution_count": null,
   "metadata": {},
   "outputs": [],
   "source": [
    "# Now use the dataset already Filtered and Normalized to train the model\n",
    "df_seq_HFiltNorm.T.head()"
   ]
  },
  {
   "cell_type": "code",
   "execution_count": null,
   "metadata": {},
   "outputs": [],
   "source": [
    "# we notice that the data does not have mean 0 and variance 1, so we need to normalize it\n",
    "df_dim_red = pd.DataFrame(StandardScaler().fit_transform(df_seq_HFiltNorm.T), columns=df_seq_HFiltNorm.T.columns, index=df_seq_HFiltNorm.T.index)\n",
    "df_dim_red.describe()"
   ]
  },
  {
   "cell_type": "code",
   "execution_count": null,
   "metadata": {},
   "outputs": [],
   "source": [
    "merged_df_pca = pd.merge(df_dim_red, df_metaH['Condition'], left_index=True, right_index=True)\n",
    "merged_df_pca"
   ]
  },
  {
   "cell_type": "code",
   "execution_count": null,
   "metadata": {},
   "outputs": [],
   "source": [
    "pca = PCA()\n",
    "pca_array = pca.fit_transform(df_dim_red)\n",
    "pca_array_df = pd.DataFrame(pca_array, columns=[f'PC{i+1}' for i in range(pca_array.shape[1])], index=df_dim_red.index)\n",
    "merged_pca_array_df = pd.merge(pca_array_df, df_metaH['Condition'], left_index=True, right_index=True)\n",
    "cumsum = np.cumsum(pca.explained_variance_ratio_)\n",
    "plt.plot(cumsum)\n",
    "nec_dimensions = np.argmax(cumsum >= 0.95)\n",
    "plt.scatter(nec_dimensions, 0.95, color='red')\n",
    "plt.plot([nec_dimensions, nec_dimensions], [0, 0.95], linestyle='--', color='black')\n",
    "plt.plot([0, nec_dimensions], [0.95, 0.95], linestyle='--', color='black')\n",
    "print(f\"The number of dimensions needed to explain 95% of the variance is {nec_dimensions}\")"
   ]
  },
  {
   "cell_type": "code",
   "execution_count": null,
   "metadata": {},
   "outputs": [],
   "source": [
    "# we now use pca to visualize the data\n",
    "three_dim_df = merged_pca_array_df[['PC1', 'PC2', 'PC3', 'Condition']]\n",
    "three_dim_df.head()"
   ]
  },
  {
   "cell_type": "code",
   "execution_count": null,
   "metadata": {},
   "outputs": [
    {
     "data": {
      "application/vnd.plotly.v1+json": {
       "config": {
        "plotlyServerURL": "https://plot.ly"
       },
       "data": [
        {
         "hovertemplate": "Condition=Normo<br>PC1=%{x}<br>PC2=%{y}<br>PC3=%{z}<extra></extra>",
         "legendgroup": "Normo",
         "marker": {
          "color": "#636efa",
          "symbol": "circle"
         },
         "mode": "markers",
         "name": "Normo",
         "scene": "scene",
         "showlegend": true,
         "type": "scatter3d",
         "x": [
          -2.849172362669632,
          0.8955037750411307,
          7.723932179956828,
          -7.774682148760614,
          -6.3157592765678165,
          -4.271424460580183,
          -2.5729235572659364,
          -5.394955209003875,
          -2.995661546396527,
          -7.906085647564885,
          -10.432395167334526,
          -3.293918455814849,
          -5.226937379123299,
          -11.085370800971576,
          -8.853921717837716,
          -5.2514413920930005,
          -6.805478022638315,
          -2.3049972252974986,
          -2.9940059038482887,
          0.9176027771763298,
          -7.1153742619902305,
          -7.28590057459112,
          -5.919735116078817,
          -5.870777399565983,
          -2.900656449523277,
          -2.8861891069511088,
          3.3705452540435217,
          -8.755003669309067,
          13.104295221583037,
          -4.812995374004535,
          -5.410525677084922,
          -2.7409490457580286,
          -8.46731758169173,
          -4.364952186767466,
          -4.863652411894696,
          -7.398150154412245,
          -5.932990974844489,
          -6.908326986331833,
          -3.858490690843944,
          -8.539969842641781,
          -5.073629308218087,
          -6.620875656542033,
          -4.784959831366707,
          -5.312978204761448,
          -13.63342569872808,
          2.8204729247627176,
          -7.457551578495613,
          -1.3203858973380556,
          -8.647503083564166,
          -1.561102548297432,
          -9.434525432952238,
          -7.991506037093942,
          -8.450664093529575,
          19.201616878271892,
          -6.8127008664342945,
          -0.27067451292605843,
          -7.961895078783681,
          9.172539224836278,
          -3.485871828407423,
          -8.99092750512477,
          -7.101573786971669,
          -7.8656698292865235,
          1.43642124899059,
          -8.598874315915612,
          -0.9853306258744691,
          -3.843650523751153,
          11.926975702339192,
          0.6229670326555106,
          3.7377239173811754,
          -6.837607130463202,
          3.8655408304034418,
          -7.197435637881675,
          -6.329013298732748,
          -5.01106438750158,
          -4.800260214835492,
          -1.5761487427256986,
          -3.7650647863681708,
          -6.113221864859857,
          -6.419359907096028,
          6.967223121706853,
          -5.9986262896563725,
          -5.029623305433096,
          -10.48313671350801,
          -5.148519616838007,
          -5.424450900004501
         ],
         "y": [
          -5.641256115002739,
          -16.137828454635756,
          -4.747882943722972,
          -2.7706505485860475,
          -0.03704672979941619,
          -7.41537507485837,
          -2.32368403346476,
          -1.4911954667862497,
          -10.113255975644211,
          -12.895911284842164,
          -7.174996670373616,
          -9.387890598598428,
          -16.984563642807387,
          -1.4276081077744476,
          -0.9216856123718435,
          -17.327881982182692,
          -1.525783739189023,
          -11.510592962897714,
          -1.9868866841932058,
          -4.544162182477544,
          -2.618532074123268,
          -1.7540733727356643,
          -11.004993236954137,
          -7.096703184390901,
          17.152620138286526,
          1.8488985129414786,
          -19.30529753483762,
          4.402063868699041,
          -14.73448148908008,
          2.88074515163185,
          -0.5955431376618404,
          -3.472923367566429,
          -8.570355323714416,
          -6.36818281427621,
          5.293339641829961,
          -7.382060133061835,
          -7.593995906612811,
          -9.77359209090743,
          -6.845267819108061,
          -2.0697550180051265,
          -6.483831015697471,
          0.6184275180613273,
          -3.5814732924919066,
          -5.266225608690674,
          -4.500235829831704,
          7.3380625097875845,
          -2.5756812844217523,
          -8.778665994361768,
          -4.4113521921728625,
          -4.948706962807648,
          -4.77333817504672,
          -2.2397181987772865,
          -4.815072323492581,
          -11.748316712423849,
          -9.01480728624836,
          -1.6326010718540427,
          1.3949935753802163,
          -5.447810772071911,
          6.424214563881391,
          -14.577416643826606,
          1.304726114071103,
          -3.617677253027576,
          -13.494933899557477,
          -3.979029571647444,
          -10.665444567290658,
          -12.38875144935886,
          -22.78527759706334,
          -7.094196768187723,
          -17.363305769961624,
          -7.346952750275758,
          6.485374556719537,
          -9.632836220539641,
          -11.852116719683032,
          -3.0392340747021427,
          -15.864311292255621,
          -6.12806839263544,
          -2.19577748261161,
          -5.465541432847866,
          -14.3048987299876,
          -8.743328429205206,
          -2.477779289145385,
          -0.6925415472640096,
          9.072834760316624,
          -2.65966423576633,
          -10.692700284345603
         ],
         "z": [
          3.283656780835777,
          4.513095306203504,
          17.302600179325047,
          2.3163506517497168,
          2.5780133359681563,
          5.428060624704883,
          1.596063288905233,
          -1.090629427329872,
          0.8896617932717752,
          5.652546203880813,
          2.2435915927314816,
          2.9365644083189846,
          4.297175857725193,
          3.532845425582431,
          2.6309490670403917,
          4.238144829805848,
          0.39033522854826225,
          3.4426635581429177,
          -2.6775454227648843,
          3.150367161881262,
          2.6739016976944745,
          3.1188391216054754,
          3.845146957602427,
          2.865827952012429,
          1.2056849916704138,
          3.3931640590224283,
          6.0009825665111505,
          6.340122240285962,
          1.8697354183060995,
          -1.9351042930680924,
          1.6867287620914555,
          -0.2599864194367467,
          5.328927286825306,
          0.8267844416361219,
          1.9789529504223773,
          2.8641391159910357,
          3.487655829825539,
          5.098348543931384,
          0.4131523021022264,
          2.4935826263720053,
          1.9478417823035503,
          -0.06385674791526419,
          2.0117993074443232,
          -0.3597165410900633,
          1.8234850143813706,
          -0.40674319710264156,
          2.4028543576425756,
          2.1923912972572204,
          0.9219096296147969,
          9.91047092534014,
          1.2591840148720443,
          1.8276888142548575,
          1.9374858040959475,
          4.806525398271227,
          5.028190259623083,
          -2.310201863478755,
          0.6651487275368176,
          0.7451284996760161,
          3.32809418024873,
          9.213898581054318,
          -2.019338916426841,
          2.5092430756546626,
          1.6521720366652597,
          1.9510262836417753,
          -1.0787303883273602,
          5.014959081430899,
          6.361657645332179,
          0.6421563898361087,
          3.2789995567698957,
          4.708748363143752,
          10.331978972378877,
          2.4907575454692434,
          3.454149390970175,
          0.04872545898670843,
          3.549271819068087,
          0.2657176018807728,
          -0.29862429961501313,
          0.942687603309826,
          4.085915784776279,
          -0.40621457593198096,
          -1.194949656258979,
          0.47192071332415036,
          -0.5260840196999674,
          0.17675364405610558,
          2.0014734467293813
         ]
        },
        {
         "hovertemplate": "Condition=Hypo<br>PC1=%{x}<br>PC2=%{y}<br>PC3=%{z}<extra></extra>",
         "legendgroup": "Hypo",
         "marker": {
          "color": "#EF553B",
          "symbol": "circle"
         },
         "mode": "markers",
         "name": "Hypo",
         "scene": "scene",
         "showlegend": true,
         "type": "scatter3d",
         "x": [
          7.899027305532452,
          -0.49790867557148816,
          4.08194954526045,
          2.255481037997968,
          -2.3611681189341724,
          -6.022287975037674,
          0.8443545804585706,
          2.9886048597008275,
          -0.2796633984329374,
          -5.044109071870207,
          -1.9380629931003115,
          -1.9732831389835952,
          -4.383335766509444,
          -2.3477636106160387,
          -1.5837464001282469,
          -1.3173204769995368,
          1.4354115798971305,
          -2.675379207185505,
          13.297108140260919,
          0.7568906875907876,
          0.14920208018051448,
          -4.6283232750795955,
          -6.570901495349145,
          -4.925426011375755,
          -2.674679066300048,
          -1.6892403944445242,
          3.677560509803704,
          26.541328307186017,
          17.253191206398476,
          -6.432228419549475,
          14.48926336776308,
          -3.1338370674439755,
          9.085327617604296,
          -1.152485177469137,
          -2.7769556088534415,
          -3.1015273423662775,
          3.5124986727261107,
          3.379401180264602,
          -0.10545502495587486,
          -3.2737434886126153,
          30.680868139924673,
          2.9008824382585017,
          3.8491493820615394,
          42.76317960028818,
          1.9178060610992362,
          21.433537737908445,
          78.66297003131086,
          2.057411004657517,
          -10.046259199342957,
          -6.299428561924536,
          38.652037110903464,
          0.9397667050428319,
          -0.29234643423445505,
          -3.877131117987466,
          -4.151980306685417,
          -1.0023251652630052,
          17.562246759699665,
          -7.142438628904406,
          -4.350860277697849,
          -3.673916135529846,
          -1.866570651900903,
          2.0183259267630493,
          2.942974197902245,
          -2.7329480608775314,
          -5.374841808500188,
          1.3887113137237599,
          -8.59677328863079,
          2.00224570106641,
          -0.47740648765298815,
          56.17749158871266,
          2.6459200678092207,
          2.766131346421729,
          -3.915407423981668,
          -2.4804068781116633,
          -1.8271074495438149,
          34.03071053667683,
          -2.83511190347778,
          -0.368304823696431,
          3.4476346789792576,
          -1.1080326991734726,
          26.555146936847187,
          -3.7857371175936207,
          3.110153444316943,
          -2.7062800952321577,
          3.266837751475076,
          5.1149009017463305,
          -7.2362966443108885,
          -0.062258947141145014,
          -3.6334040696008136,
          -5.43680100030993,
          7.92705830071212,
          -3.998167430434428,
          -3.8796217946869125,
          -0.3312669922542469,
          2.6871943599558583,
          -0.15107799541323033,
          -3.681015378453294
         ],
         "y": [
          10.434395806411578,
          12.686548265433037,
          8.070230161126299,
          2.8400244237845804,
          3.3366563376622467,
          21.252592876795408,
          7.128051921255405,
          -6.277360111638842,
          2.5250730560195422,
          3.639647363216703,
          9.060476443374002,
          6.705589719145348,
          4.5619901580396665,
          5.455131933163638,
          -0.10502465387326483,
          2.938745121604368,
          6.208403985630278,
          -13.903741493607777,
          27.73482974916098,
          7.903847516141752,
          0.5144876664631793,
          3.395135059131701,
          -6.955367690303406,
          9.043199328204203,
          2.6086082713130256,
          3.751821447417311,
          1.4075876645468794,
          -12.778643448906468,
          -2.2143069577153667,
          9.148139290188718,
          -17.311991578749836,
          8.235297496113416,
          2.4989953709860555,
          10.558424332820469,
          3.2023869676483203,
          6.901885054582686,
          -0.28837908256561046,
          3.187436121669881,
          3.585531251992102,
          -1.230867358070013,
          6.075964328696224,
          8.276595023283743,
          2.7950378795116255,
          -16.995884995266255,
          1.0258639158366951,
          13.249220956251559,
          -5.29916233103775,
          -7.687876375043792,
          -3.9145295390096115,
          3.99536703546195,
          -10.21382218332274,
          2.20751133661208,
          8.87234410226932,
          5.48852079124348,
          9.897439553183185,
          2.0624991281324156,
          9.26584034496904,
          13.131173151536489,
          7.233766646981234,
          6.429138834244982,
          9.417235016612576,
          14.683653135448628,
          11.665015574986196,
          17.50024877659726,
          1.4880698305164566,
          11.86714426651555,
          10.115926324202826,
          12.899521272215456,
          2.552678526237898,
          9.068343887454969,
          19.326097050407505,
          1.2880197471000514,
          7.902277107466988,
          8.179388402271409,
          7.320508400848842,
          5.135653919261903,
          -0.8459496066171797,
          2.8726319831611247,
          41.917529648952716,
          3.651815568651669,
          -3.098185928588508,
          2.5023979569589923,
          -7.392725393816734,
          -0.8001950006760357,
          7.76252473115736,
          8.902753033834797,
          6.801523158727039,
          6.894252693548359,
          6.467072456187381,
          5.726014519870114,
          0.31641024864755535,
          1.4190885096235073,
          2.277163873723871,
          3.7596751456708564,
          7.450652429768769,
          5.462792783334846,
          10.80769608280369
         ],
         "z": [
          -8.601801994061448,
          -9.234080240599104,
          -4.739527028442201,
          -4.79021317302805,
          -0.7042027903859284,
          -10.515476114260629,
          -7.86775162227546,
          4.103697567883822,
          -5.44750746776227,
          -4.623141588425825,
          -3.278475154766089,
          -4.281832626371496,
          -4.240728059239435,
          -3.4285438672666193,
          -2.757187867285087,
          -4.774681645968235,
          -4.522289650210167,
          1.9026542063443674,
          6.1145387038185754,
          -6.164911948184396,
          -3.06215100332849,
          -1.860278301444576,
          0.19831374371195293,
          -3.1144893765354302,
          -2.184751351340642,
          -7.33386084074151,
          -1.2642025841216302,
          0.34657244007970855,
          -4.790944262249489,
          -3.8317363384015213,
          4.409032992986296,
          -8.292502943309183,
          -5.504363126858451,
          -4.767347758906823,
          -2.938295488296091,
          -5.178086999505968,
          -4.061274702747705,
          -4.031548086683411,
          -3.9775178092435985,
          -2.247668272552772,
          -5.94793784556961,
          -7.592804972248964,
          -2.957371269292821,
          2.5217316185561067,
          -2.649090327496282,
          -15.21857560570013,
          12.530733056302655,
          -1.6255443189074357,
          0.5575761107984218,
          -2.321719946573421,
          0.5583509515715376,
          -3.194155194195929,
          26.87867477849741,
          -5.462000609509514,
          -2.6643853696768605,
          -2.337999117394159,
          -8.020239676854066,
          -3.8899887660085493,
          -2.848154685138121,
          -3.0775020222772413,
          -6.894703999386979,
          -8.302211340881392,
          -4.985031288699682,
          2.954249312541747,
          -1.5140450283680005,
          -7.216682187943315,
          -5.540666773069945,
          -4.9517544320394515,
          -5.047271703392711,
          -6.782443829583459,
          -3.214221637245596,
          0.08257905471720574,
          -4.625778409185623,
          -3.4807826384912235,
          -4.493840354749719,
          -3.0534664865003562,
          -3.6089380717601705,
          -3.674287087872192,
          99.76886572501009,
          -4.015447038458151,
          -3.5680514729727704,
          -4.733259955920872,
          1.7249046076310548,
          -4.461413690785109,
          -9.347774170678168,
          -7.4466814468776805,
          -3.557614457606376,
          -4.603641403641574,
          -5.4406133565489005,
          -3.8478926468352666,
          2.080845942819176,
          -2.9630325142508633,
          -3.8295288023981664,
          -6.444800038700342,
          -0.44005363359066874,
          -7.440862795371161,
          -4.232733704946237
         ]
        }
       ],
       "layout": {
        "legend": {
         "title": {
          "text": "Condition"
         },
         "tracegroupgap": 0
        },
        "scene": {
         "domain": {
          "x": [
           0,
           1
          ],
          "y": [
           0,
           1
          ]
         },
         "xaxis": {
          "title": {
           "text": "PC1"
          }
         },
         "yaxis": {
          "title": {
           "text": "PC2"
          }
         },
         "zaxis": {
          "title": {
           "text": "PC3"
          }
         }
        },
        "template": {
         "data": {
          "bar": [
           {
            "error_x": {
             "color": "#2a3f5f"
            },
            "error_y": {
             "color": "#2a3f5f"
            },
            "marker": {
             "line": {
              "color": "#E5ECF6",
              "width": 0.5
             },
             "pattern": {
              "fillmode": "overlay",
              "size": 10,
              "solidity": 0.2
             }
            },
            "type": "bar"
           }
          ],
          "barpolar": [
           {
            "marker": {
             "line": {
              "color": "#E5ECF6",
              "width": 0.5
             },
             "pattern": {
              "fillmode": "overlay",
              "size": 10,
              "solidity": 0.2
             }
            },
            "type": "barpolar"
           }
          ],
          "carpet": [
           {
            "aaxis": {
             "endlinecolor": "#2a3f5f",
             "gridcolor": "white",
             "linecolor": "white",
             "minorgridcolor": "white",
             "startlinecolor": "#2a3f5f"
            },
            "baxis": {
             "endlinecolor": "#2a3f5f",
             "gridcolor": "white",
             "linecolor": "white",
             "minorgridcolor": "white",
             "startlinecolor": "#2a3f5f"
            },
            "type": "carpet"
           }
          ],
          "choropleth": [
           {
            "colorbar": {
             "outlinewidth": 0,
             "ticks": ""
            },
            "type": "choropleth"
           }
          ],
          "contour": [
           {
            "colorbar": {
             "outlinewidth": 0,
             "ticks": ""
            },
            "colorscale": [
             [
              0,
              "#0d0887"
             ],
             [
              0.1111111111111111,
              "#46039f"
             ],
             [
              0.2222222222222222,
              "#7201a8"
             ],
             [
              0.3333333333333333,
              "#9c179e"
             ],
             [
              0.4444444444444444,
              "#bd3786"
             ],
             [
              0.5555555555555556,
              "#d8576b"
             ],
             [
              0.6666666666666666,
              "#ed7953"
             ],
             [
              0.7777777777777778,
              "#fb9f3a"
             ],
             [
              0.8888888888888888,
              "#fdca26"
             ],
             [
              1,
              "#f0f921"
             ]
            ],
            "type": "contour"
           }
          ],
          "contourcarpet": [
           {
            "colorbar": {
             "outlinewidth": 0,
             "ticks": ""
            },
            "type": "contourcarpet"
           }
          ],
          "heatmap": [
           {
            "colorbar": {
             "outlinewidth": 0,
             "ticks": ""
            },
            "colorscale": [
             [
              0,
              "#0d0887"
             ],
             [
              0.1111111111111111,
              "#46039f"
             ],
             [
              0.2222222222222222,
              "#7201a8"
             ],
             [
              0.3333333333333333,
              "#9c179e"
             ],
             [
              0.4444444444444444,
              "#bd3786"
             ],
             [
              0.5555555555555556,
              "#d8576b"
             ],
             [
              0.6666666666666666,
              "#ed7953"
             ],
             [
              0.7777777777777778,
              "#fb9f3a"
             ],
             [
              0.8888888888888888,
              "#fdca26"
             ],
             [
              1,
              "#f0f921"
             ]
            ],
            "type": "heatmap"
           }
          ],
          "heatmapgl": [
           {
            "colorbar": {
             "outlinewidth": 0,
             "ticks": ""
            },
            "colorscale": [
             [
              0,
              "#0d0887"
             ],
             [
              0.1111111111111111,
              "#46039f"
             ],
             [
              0.2222222222222222,
              "#7201a8"
             ],
             [
              0.3333333333333333,
              "#9c179e"
             ],
             [
              0.4444444444444444,
              "#bd3786"
             ],
             [
              0.5555555555555556,
              "#d8576b"
             ],
             [
              0.6666666666666666,
              "#ed7953"
             ],
             [
              0.7777777777777778,
              "#fb9f3a"
             ],
             [
              0.8888888888888888,
              "#fdca26"
             ],
             [
              1,
              "#f0f921"
             ]
            ],
            "type": "heatmapgl"
           }
          ],
          "histogram": [
           {
            "marker": {
             "pattern": {
              "fillmode": "overlay",
              "size": 10,
              "solidity": 0.2
             }
            },
            "type": "histogram"
           }
          ],
          "histogram2d": [
           {
            "colorbar": {
             "outlinewidth": 0,
             "ticks": ""
            },
            "colorscale": [
             [
              0,
              "#0d0887"
             ],
             [
              0.1111111111111111,
              "#46039f"
             ],
             [
              0.2222222222222222,
              "#7201a8"
             ],
             [
              0.3333333333333333,
              "#9c179e"
             ],
             [
              0.4444444444444444,
              "#bd3786"
             ],
             [
              0.5555555555555556,
              "#d8576b"
             ],
             [
              0.6666666666666666,
              "#ed7953"
             ],
             [
              0.7777777777777778,
              "#fb9f3a"
             ],
             [
              0.8888888888888888,
              "#fdca26"
             ],
             [
              1,
              "#f0f921"
             ]
            ],
            "type": "histogram2d"
           }
          ],
          "histogram2dcontour": [
           {
            "colorbar": {
             "outlinewidth": 0,
             "ticks": ""
            },
            "colorscale": [
             [
              0,
              "#0d0887"
             ],
             [
              0.1111111111111111,
              "#46039f"
             ],
             [
              0.2222222222222222,
              "#7201a8"
             ],
             [
              0.3333333333333333,
              "#9c179e"
             ],
             [
              0.4444444444444444,
              "#bd3786"
             ],
             [
              0.5555555555555556,
              "#d8576b"
             ],
             [
              0.6666666666666666,
              "#ed7953"
             ],
             [
              0.7777777777777778,
              "#fb9f3a"
             ],
             [
              0.8888888888888888,
              "#fdca26"
             ],
             [
              1,
              "#f0f921"
             ]
            ],
            "type": "histogram2dcontour"
           }
          ],
          "mesh3d": [
           {
            "colorbar": {
             "outlinewidth": 0,
             "ticks": ""
            },
            "type": "mesh3d"
           }
          ],
          "parcoords": [
           {
            "line": {
             "colorbar": {
              "outlinewidth": 0,
              "ticks": ""
             }
            },
            "type": "parcoords"
           }
          ],
          "pie": [
           {
            "automargin": true,
            "type": "pie"
           }
          ],
          "scatter": [
           {
            "fillpattern": {
             "fillmode": "overlay",
             "size": 10,
             "solidity": 0.2
            },
            "type": "scatter"
           }
          ],
          "scatter3d": [
           {
            "line": {
             "colorbar": {
              "outlinewidth": 0,
              "ticks": ""
             }
            },
            "marker": {
             "colorbar": {
              "outlinewidth": 0,
              "ticks": ""
             }
            },
            "type": "scatter3d"
           }
          ],
          "scattercarpet": [
           {
            "marker": {
             "colorbar": {
              "outlinewidth": 0,
              "ticks": ""
             }
            },
            "type": "scattercarpet"
           }
          ],
          "scattergeo": [
           {
            "marker": {
             "colorbar": {
              "outlinewidth": 0,
              "ticks": ""
             }
            },
            "type": "scattergeo"
           }
          ],
          "scattergl": [
           {
            "marker": {
             "colorbar": {
              "outlinewidth": 0,
              "ticks": ""
             }
            },
            "type": "scattergl"
           }
          ],
          "scattermapbox": [
           {
            "marker": {
             "colorbar": {
              "outlinewidth": 0,
              "ticks": ""
             }
            },
            "type": "scattermapbox"
           }
          ],
          "scatterpolar": [
           {
            "marker": {
             "colorbar": {
              "outlinewidth": 0,
              "ticks": ""
             }
            },
            "type": "scatterpolar"
           }
          ],
          "scatterpolargl": [
           {
            "marker": {
             "colorbar": {
              "outlinewidth": 0,
              "ticks": ""
             }
            },
            "type": "scatterpolargl"
           }
          ],
          "scatterternary": [
           {
            "marker": {
             "colorbar": {
              "outlinewidth": 0,
              "ticks": ""
             }
            },
            "type": "scatterternary"
           }
          ],
          "surface": [
           {
            "colorbar": {
             "outlinewidth": 0,
             "ticks": ""
            },
            "colorscale": [
             [
              0,
              "#0d0887"
             ],
             [
              0.1111111111111111,
              "#46039f"
             ],
             [
              0.2222222222222222,
              "#7201a8"
             ],
             [
              0.3333333333333333,
              "#9c179e"
             ],
             [
              0.4444444444444444,
              "#bd3786"
             ],
             [
              0.5555555555555556,
              "#d8576b"
             ],
             [
              0.6666666666666666,
              "#ed7953"
             ],
             [
              0.7777777777777778,
              "#fb9f3a"
             ],
             [
              0.8888888888888888,
              "#fdca26"
             ],
             [
              1,
              "#f0f921"
             ]
            ],
            "type": "surface"
           }
          ],
          "table": [
           {
            "cells": {
             "fill": {
              "color": "#EBF0F8"
             },
             "line": {
              "color": "white"
             }
            },
            "header": {
             "fill": {
              "color": "#C8D4E3"
             },
             "line": {
              "color": "white"
             }
            },
            "type": "table"
           }
          ]
         },
         "layout": {
          "annotationdefaults": {
           "arrowcolor": "#2a3f5f",
           "arrowhead": 0,
           "arrowwidth": 1
          },
          "autotypenumbers": "strict",
          "coloraxis": {
           "colorbar": {
            "outlinewidth": 0,
            "ticks": ""
           }
          },
          "colorscale": {
           "diverging": [
            [
             0,
             "#8e0152"
            ],
            [
             0.1,
             "#c51b7d"
            ],
            [
             0.2,
             "#de77ae"
            ],
            [
             0.3,
             "#f1b6da"
            ],
            [
             0.4,
             "#fde0ef"
            ],
            [
             0.5,
             "#f7f7f7"
            ],
            [
             0.6,
             "#e6f5d0"
            ],
            [
             0.7,
             "#b8e186"
            ],
            [
             0.8,
             "#7fbc41"
            ],
            [
             0.9,
             "#4d9221"
            ],
            [
             1,
             "#276419"
            ]
           ],
           "sequential": [
            [
             0,
             "#0d0887"
            ],
            [
             0.1111111111111111,
             "#46039f"
            ],
            [
             0.2222222222222222,
             "#7201a8"
            ],
            [
             0.3333333333333333,
             "#9c179e"
            ],
            [
             0.4444444444444444,
             "#bd3786"
            ],
            [
             0.5555555555555556,
             "#d8576b"
            ],
            [
             0.6666666666666666,
             "#ed7953"
            ],
            [
             0.7777777777777778,
             "#fb9f3a"
            ],
            [
             0.8888888888888888,
             "#fdca26"
            ],
            [
             1,
             "#f0f921"
            ]
           ],
           "sequentialminus": [
            [
             0,
             "#0d0887"
            ],
            [
             0.1111111111111111,
             "#46039f"
            ],
            [
             0.2222222222222222,
             "#7201a8"
            ],
            [
             0.3333333333333333,
             "#9c179e"
            ],
            [
             0.4444444444444444,
             "#bd3786"
            ],
            [
             0.5555555555555556,
             "#d8576b"
            ],
            [
             0.6666666666666666,
             "#ed7953"
            ],
            [
             0.7777777777777778,
             "#fb9f3a"
            ],
            [
             0.8888888888888888,
             "#fdca26"
            ],
            [
             1,
             "#f0f921"
            ]
           ]
          },
          "colorway": [
           "#636efa",
           "#EF553B",
           "#00cc96",
           "#ab63fa",
           "#FFA15A",
           "#19d3f3",
           "#FF6692",
           "#B6E880",
           "#FF97FF",
           "#FECB52"
          ],
          "font": {
           "color": "#2a3f5f"
          },
          "geo": {
           "bgcolor": "white",
           "lakecolor": "white",
           "landcolor": "#E5ECF6",
           "showlakes": true,
           "showland": true,
           "subunitcolor": "white"
          },
          "hoverlabel": {
           "align": "left"
          },
          "hovermode": "closest",
          "mapbox": {
           "style": "light"
          },
          "paper_bgcolor": "white",
          "plot_bgcolor": "#E5ECF6",
          "polar": {
           "angularaxis": {
            "gridcolor": "white",
            "linecolor": "white",
            "ticks": ""
           },
           "bgcolor": "#E5ECF6",
           "radialaxis": {
            "gridcolor": "white",
            "linecolor": "white",
            "ticks": ""
           }
          },
          "scene": {
           "xaxis": {
            "backgroundcolor": "#E5ECF6",
            "gridcolor": "white",
            "gridwidth": 2,
            "linecolor": "white",
            "showbackground": true,
            "ticks": "",
            "zerolinecolor": "white"
           },
           "yaxis": {
            "backgroundcolor": "#E5ECF6",
            "gridcolor": "white",
            "gridwidth": 2,
            "linecolor": "white",
            "showbackground": true,
            "ticks": "",
            "zerolinecolor": "white"
           },
           "zaxis": {
            "backgroundcolor": "#E5ECF6",
            "gridcolor": "white",
            "gridwidth": 2,
            "linecolor": "white",
            "showbackground": true,
            "ticks": "",
            "zerolinecolor": "white"
           }
          },
          "shapedefaults": {
           "line": {
            "color": "#2a3f5f"
           }
          },
          "ternary": {
           "aaxis": {
            "gridcolor": "white",
            "linecolor": "white",
            "ticks": ""
           },
           "baxis": {
            "gridcolor": "white",
            "linecolor": "white",
            "ticks": ""
           },
           "bgcolor": "#E5ECF6",
           "caxis": {
            "gridcolor": "white",
            "linecolor": "white",
            "ticks": ""
           }
          },
          "title": {
           "x": 0.05
          },
          "xaxis": {
           "automargin": true,
           "gridcolor": "white",
           "linecolor": "white",
           "ticks": "",
           "title": {
            "standoff": 15
           },
           "zerolinecolor": "white",
           "zerolinewidth": 2
          },
          "yaxis": {
           "automargin": true,
           "gridcolor": "white",
           "linecolor": "white",
           "ticks": "",
           "title": {
            "standoff": 15
           },
           "zerolinecolor": "white",
           "zerolinewidth": 2
          }
         }
        },
        "title": {
         "text": "Projecing the data on the 3 principal components with PCA"
        }
       }
      }
     },
     "metadata": {},
     "output_type": "display_data"
    }
   ],
   "source": [
    "import plotly.express as px\n",
    "\n",
    "fig = px.scatter_3d(\n",
    "    data_frame = three_dim_df,\n",
    "    x = \"PC1\",\n",
    "    y = \"PC2\",\n",
    "    z = \"PC3\",\n",
    "    title=\"3-dimensional representation of the data with UMAP\",\n",
    "    color = \"Condition\"\n",
    ")\n",
    "# Show the fig\n",
    "fig.show()"
   ]
  },
  {
   "cell_type": "markdown",
   "metadata": {},
   "source": [
    "UMAP"
   ]
  },
  {
   "cell_type": "code",
   "execution_count": null,
   "metadata": {},
   "outputs": [
    {
     "data": {
      "application/vnd.plotly.v1+json": {
       "config": {
        "plotlyServerURL": "https://plot.ly"
       },
       "data": [
        {
         "hovertemplate": "Condition=Normo<br>UMAP1=%{x}<br>UMAP2=%{y}<br>UMAP3=%{z}<extra></extra>",
         "legendgroup": "Normo",
         "marker": {
          "color": "#636efa",
          "symbol": "circle"
         },
         "mode": "markers",
         "name": "Normo",
         "scene": "scene",
         "showlegend": true,
         "type": "scatter3d",
         "x": [
          2.1901652812957764,
          4.045956611633301,
          2.4592559337615967,
          2.7783751487731934,
          7.049695014953613,
          3.074218273162842,
          2.2663612365722656,
          6.785785675048828,
          2.435549020767212,
          0.7486128211021423,
          0.64289790391922,
          3.040421724319458,
          -0.9369581937789917,
          0.7793158292770386,
          1.0942273139953613,
          -0.9370306730270386,
          2.8280551433563232,
          3.8960607051849365,
          7.065532207489014,
          7.194248199462891,
          2.5922048091888428,
          0.6169688105583191,
          2.652853488922119,
          2.627673387527466,
          7.010299205780029,
          7.128727912902832,
          3.9511866569519043,
          1.1491782665252686,
          0.7152488231658936,
          2.7804770469665527,
          7.0605363845825195,
          7.042327880859375,
          0.9032646417617798,
          2.2185912132263184,
          2.514861583709717,
          2.8320398330688477,
          2.4019198417663574,
          1.2310919761657715,
          2.3519933223724365,
          0.5224263668060303,
          2.769810199737549,
          2.151055097579956,
          6.816441059112549,
          7.275187015533447,
          0.704205334186554,
          6.79345703125,
          2.214127540588379,
          6.947296142578125,
          0.41491520404815674,
          2.5332515239715576,
          0.7294868230819702,
          2.198207378387451,
          2.350306987762451,
          0.956588089466095,
          0.9129408001899719,
          6.795087814331055,
          2.3768885135650635,
          7.130093574523926,
          6.6002326011657715,
          0.685890793800354,
          6.807685375213623,
          2.5673038959503174,
          2.957996129989624,
          1.038143277168274,
          2.0308995246887207,
          2.0378618240356445,
          4.115894794464111,
          2.7704875469207764,
          3.9043939113616943,
          0.9877892136573792,
          2.6299126148223877,
          2.513871669769287,
          1.0666595697402954,
          6.875403881072998,
          0.8911454081535339,
          7.1559906005859375,
          7.287179946899414,
          3.35744571685791,
          2.189307928085327,
          3.324397563934326,
          7.38309383392334,
          7.537111282348633,
          7.1819281578063965,
          7.395017623901367,
          3.277723550796509
         ],
         "y": [
          0.16291122138500214,
          -2.4836273193359375,
          0.36992260813713074,
          0.5344403386116028,
          5.017146587371826,
          0.12194620817899704,
          0.18337328732013702,
          5.0748090744018555,
          0.44073572754859924,
          8.723766326904297,
          8.693920135498047,
          0.3899049162864685,
          7.365934371948242,
          8.74944019317627,
          8.531759262084961,
          7.36591911315918,
          0.012063154950737953,
          -2.3017635345458984,
          5.207303047180176,
          6.366953372955322,
          0.6226931810379028,
          9.152654647827148,
          1.0823211669921875,
          0.37914448976516724,
          5.142473220825195,
          4.716007232666016,
          -2.3737878799438477,
          8.837475776672363,
          2.145358085632324,
          0.5628576278686523,
          4.808300971984863,
          5.316135883331299,
          8.649320602416992,
          0.5622133612632751,
          0.4948449432849884,
          0.14675864577293396,
          -0.21854399144649506,
          9.0991849899292,
          0.5497321486473083,
          8.99288558959961,
          0.18689163029193878,
          0.638238787651062,
          5.117653846740723,
          5.090437889099121,
          9.00653076171875,
          5.400269985198975,
          0.7663537263870239,
          5.447128772735596,
          8.750778198242188,
          0.9154915809631348,
          9.111016273498535,
          0.5370027422904968,
          0.8255316019058228,
          2.0866012573242188,
          8.76521110534668,
          5.094123840332031,
          -0.1336628943681717,
          5.116067409515381,
          4.803835391998291,
          8.888833045959473,
          4.885303020477295,
          -0.17965777218341827,
          0.47600695490837097,
          8.9501953125,
          0.4105251431465149,
          0.10885905474424362,
          -2.5650687217712402,
          0.4266502857208252,
          -2.3222479820251465,
          9.156180381774902,
          -0.05048539116978645,
          0.4631280303001404,
          9.265981674194336,
          4.813055515289307,
          8.511980056762695,
          6.173145771026611,
          4.652527332305908,
          -0.9530379772186279,
          0.3244723081588745,
          -0.923091471195221,
          5.407962322235107,
          5.13191556930542,
          4.764324188232422,
          5.066030025482178,
          -0.8508481383323669
         ],
         "z": [
          7.6224164962768555,
          6.747706413269043,
          7.391320705413818,
          7.548524856567383,
          7.208899021148682,
          7.212430953979492,
          7.58901309967041,
          7.8918137550354,
          7.529682159423828,
          8.306483268737793,
          7.798137187957764,
          7.617242813110352,
          15.266892433166504,
          7.988914966583252,
          8.36559772491455,
          15.267091751098633,
          7.65972375869751,
          6.834445476531982,
          7.817915439605713,
          7.091291427612305,
          7.80050802230835,
          8.130370140075684,
          7.133415222167969,
          7.553042888641357,
          7.306980609893799,
          7.33149528503418,
          6.785350799560547,
          8.262857437133789,
          10.650882720947266,
          7.395002841949463,
          7.566028594970703,
          7.389315605163574,
          7.931232929229736,
          7.425171852111816,
          7.635307788848877,
          7.597914695739746,
          7.150378704071045,
          8.265047073364258,
          7.183545112609863,
          7.978645324707031,
          7.5201873779296875,
          7.6358795166015625,
          7.00802755355835,
          7.5528645515441895,
          7.718554496765137,
          7.615604877471924,
          7.70418119430542,
          7.412405014038086,
          8.09521770477295,
          7.444900035858154,
          7.812841892242432,
          8.03491497039795,
          7.831420421600342,
          10.682933807373047,
          8.312328338623047,
          7.221286296844482,
          7.8928399085998535,
          7.446324348449707,
          7.364602565765381,
          8.190407752990723,
          7.2660088539123535,
          7.927000045776367,
          7.4042439460754395,
          7.821406364440918,
          7.308081150054932,
          8.011456489562988,
          6.708537578582764,
          7.244584083557129,
          6.829561710357666,
          8.076884269714355,
          7.506858825683594,
          8.144896507263184,
          7.965846538543701,
          8.14393424987793,
          8.213057518005371,
          7.170638084411621,
          7.353163719177246,
          7.897435665130615,
          7.030019283294678,
          7.9414472579956055,
          7.573644638061523,
          7.536151885986328,
          7.038745403289795,
          6.978028297424316,
          7.954254627227783
         ]
        },
        {
         "hovertemplate": "Condition=Hypo<br>UMAP1=%{x}<br>UMAP2=%{y}<br>UMAP3=%{z}<extra></extra>",
         "legendgroup": "Hypo",
         "marker": {
          "color": "#EF553B",
          "symbol": "circle"
         },
         "mode": "markers",
         "name": "Hypo",
         "scene": "scene",
         "showlegend": true,
         "type": "scatter3d",
         "x": [
          6.683695316314697,
          7.375497817993164,
          1.430328130722046,
          2.8499302864074707,
          2.599243402481079,
          7.210867404937744,
          12.933917999267578,
          2.767429828643799,
          1.5299748182296753,
          7.4069366455078125,
          12.489952087402344,
          3.0174617767333984,
          2.90464186668396,
          6.6410298347473145,
          2.763368606567383,
          7.33228874206543,
          12.789111137390137,
          2.6456191539764404,
          3.102611780166626,
          2.875204563140869,
          7.047028541564941,
          2.914304256439209,
          0.8085713386535645,
          2.7758185863494873,
          2.644637107849121,
          12.502947807312012,
          12.623438835144043,
          0.7964751720428467,
          7.247232437133789,
          0.9449195265769958,
          1.0853869915008545,
          2.770792245864868,
          12.385431289672852,
          3.033994674682617,
          7.248812675476074,
          0.9763626456260681,
          12.907060623168945,
          2.5018084049224854,
          12.601922035217285,
          1.071751594543457,
          12.509418487548828,
          12.057178497314453,
          12.700922966003418,
          0.8262702822685242,
          2.67153000831604,
          12.819727897644043,
          0.8147605657577515,
          1.0678235292434692,
          0.9823610782623291,
          2.5588769912719727,
          0.8562214970588684,
          12.483358383178711,
          2.273547887802124,
          2.3240580558776855,
          7.145657062530518,
          2.9123947620391846,
          12.861144065856934,
          2.810692071914673,
          2.3848297595977783,
          6.998786449432373,
          2.736917018890381,
          7.388859748840332,
          2.7493903636932373,
          12.411084175109863,
          3.0390472412109375,
          12.354567527770996,
          0.8169568777084351,
          6.784289836883545,
          2.768909454345703,
          0.5535442233085632,
          2.909878730773926,
          2.660017728805542,
          2.662353515625,
          12.370342254638672,
          2.6784231662750244,
          12.657780647277832,
          13.07158374786377,
          12.664290428161621,
          7.231119155883789,
          3.029228448867798,
          0.5754492282867432,
          2.1119446754455566,
          1.973642349243164,
          12.510723114013672,
          12.173819541931152,
          12.369555473327637,
          0.8289130330085754,
          6.861818313598633,
          2.6683831214904785,
          2.8120975494384766,
          2.2353734970092773,
          2.619581699371338,
          0.6889261603355408,
          12.49350643157959,
          3.0150978565216064,
          12.11939811706543,
          7.262970447540283
         ],
         "y": [
          5.066990852355957,
          4.5761895179748535,
          0.423807829618454,
          3.033341884613037,
          0.5157895088195801,
          5.346539497375488,
          2.9749467372894287,
          0.3137222230434418,
          0.44254183769226074,
          4.76136589050293,
          2.905879259109497,
          3.303424596786499,
          3.371206760406494,
          5.122953414916992,
          0.8090274333953857,
          4.980736255645752,
          2.5343146324157715,
          1.144740343093872,
          3.1517128944396973,
          3.4658639430999756,
          4.898730754852295,
          2.97737193107605,
          8.706917762756348,
          -0.09073406457901001,
          3.29738187789917,
          2.8461523056030273,
          2.4892680644989014,
          2.2393579483032227,
          6.268923759460449,
          8.299596786499023,
          9.839167594909668,
          3.199617385864258,
          2.677814245223999,
          3.2626233100891113,
          5.372552871704102,
          8.496625900268555,
          2.49442982673645,
          3.2847397327423096,
          2.699920177459717,
          8.650772094726562,
          2.874857187271118,
          2.5642518997192383,
          2.3829307556152344,
          2.1406569480895996,
          3.281151533126831,
          2.5040123462677,
          2.293303966522217,
          9.74263858795166,
          8.631195068359375,
          3.0459342002868652,
          2.315180778503418,
          2.3755412101745605,
          0.3182656764984131,
          0.010866220109164715,
          5.308253288269043,
          0.8668127059936523,
          2.7517364025115967,
          2.8939263820648193,
          0.6003517508506775,
          5.206712245941162,
          2.988691806793213,
          5.015225887298584,
          3.2728757858276367,
          2.7144124507904053,
          0.4902358651161194,
          2.536304235458374,
          9.131187438964844,
          4.801283359527588,
          -0.3658791482448578,
          2.4293930530548096,
          3.1640079021453857,
          3.0335586071014404,
          2.98034405708313,
          2.2852492332458496,
          0.03485454246401787,
          2.4863245487213135,
          2.7638697624206543,
          2.770155906677246,
          6.416466236114502,
          3.1784346103668213,
          2.393460512161255,
          0.16239392757415771,
          0.8295612931251526,
          2.4065632820129395,
          2.632539749145508,
          2.8586647510528564,
          8.94343090057373,
          4.72481632232666,
          0.012137539684772491,
          3.2007768154144287,
          0.24789373576641083,
          3.0296268463134766,
          8.713269233703613,
          2.6645615100860596,
          2.975384473800659,
          2.4519202709198,
          4.61140251159668
         ],
         "z": [
          7.65214729309082,
          7.255305767059326,
          7.53519868850708,
          1.3709381818771362,
          7.9156365394592285,
          7.358946800231934,
          1.8523424863815308,
          7.299377918243408,
          7.539029598236084,
          7.316140174865723,
          1.6632100343704224,
          1.5904096364974976,
          1.326398253440857,
          7.634781837463379,
          7.489786148071289,
          7.446475982666016,
          1.9454420804977417,
          7.0919671058654785,
          1.6961065530776978,
          1.81455397605896,
          7.693689823150635,
          1.4957574605941772,
          7.962114334106445,
          7.314520835876465,
          1.4331202507019043,
          1.816921353340149,
          1.7416720390319824,
          10.553632736206055,
          7.148329734802246,
          8.032428741455078,
          8.34960651397705,
          1.4747965335845947,
          1.5626591444015503,
          1.56078040599823,
          7.510004997253418,
          8.017986297607422,
          1.8233472108840942,
          1.4984846115112305,
          1.8184455633163452,
          7.813608646392822,
          1.8163166046142578,
          2.2701563835144043,
          1.574700951576233,
          10.65449047088623,
          1.5828025341033936,
          1.7754818201065063,
          10.449575424194336,
          8.329874038696289,
          7.904123783111572,
          1.725130319595337,
          10.468369483947754,
          2.053353786468506,
          7.0249152183532715,
          7.9961748123168945,
          7.03331184387207,
          7.8849639892578125,
          2.0828847885131836,
          1.6088443994522095,
          6.807712078094482,
          6.9968438148498535,
          1.6776491403579712,
          7.2407732009887695,
          1.7768635749816895,
          1.8435423374176025,
          7.678263187408447,
          1.956674575805664,
          8.064824104309082,
          7.306506156921387,
          7.606208801269531,
          10.670702934265137,
          1.5468791723251343,
          1.9391154050827026,
          1.7786492109298706,
          1.9261062145233154,
          7.135011196136475,
          1.9016892910003662,
          2.0020411014556885,
          2.1643292903900146,
          7.048498630523682,
          1.6625659465789795,
          10.653120040893555,
          7.351546764373779,
          7.282219409942627,
          1.6490451097488403,
          1.510529637336731,
          2.013854503631592,
          8.219453811645508,
          7.882917881011963,
          7.022643566131592,
          1.9730908870697021,
          7.633602619171143,
          1.6509292125701904,
          8.15579605102539,
          1.9449610710144043,
          1.668764591217041,
          2.2205727100372314,
          7.879406452178955
         ]
        }
       ],
       "layout": {
        "legend": {
         "title": {
          "text": "Condition"
         },
         "tracegroupgap": 0
        },
        "scene": {
         "domain": {
          "x": [
           0,
           1
          ],
          "y": [
           0,
           1
          ]
         },
         "xaxis": {
          "title": {
           "text": "UMAP1"
          }
         },
         "yaxis": {
          "title": {
           "text": "UMAP2"
          }
         },
         "zaxis": {
          "title": {
           "text": "UMAP3"
          }
         }
        },
        "template": {
         "data": {
          "bar": [
           {
            "error_x": {
             "color": "#2a3f5f"
            },
            "error_y": {
             "color": "#2a3f5f"
            },
            "marker": {
             "line": {
              "color": "#E5ECF6",
              "width": 0.5
             },
             "pattern": {
              "fillmode": "overlay",
              "size": 10,
              "solidity": 0.2
             }
            },
            "type": "bar"
           }
          ],
          "barpolar": [
           {
            "marker": {
             "line": {
              "color": "#E5ECF6",
              "width": 0.5
             },
             "pattern": {
              "fillmode": "overlay",
              "size": 10,
              "solidity": 0.2
             }
            },
            "type": "barpolar"
           }
          ],
          "carpet": [
           {
            "aaxis": {
             "endlinecolor": "#2a3f5f",
             "gridcolor": "white",
             "linecolor": "white",
             "minorgridcolor": "white",
             "startlinecolor": "#2a3f5f"
            },
            "baxis": {
             "endlinecolor": "#2a3f5f",
             "gridcolor": "white",
             "linecolor": "white",
             "minorgridcolor": "white",
             "startlinecolor": "#2a3f5f"
            },
            "type": "carpet"
           }
          ],
          "choropleth": [
           {
            "colorbar": {
             "outlinewidth": 0,
             "ticks": ""
            },
            "type": "choropleth"
           }
          ],
          "contour": [
           {
            "colorbar": {
             "outlinewidth": 0,
             "ticks": ""
            },
            "colorscale": [
             [
              0,
              "#0d0887"
             ],
             [
              0.1111111111111111,
              "#46039f"
             ],
             [
              0.2222222222222222,
              "#7201a8"
             ],
             [
              0.3333333333333333,
              "#9c179e"
             ],
             [
              0.4444444444444444,
              "#bd3786"
             ],
             [
              0.5555555555555556,
              "#d8576b"
             ],
             [
              0.6666666666666666,
              "#ed7953"
             ],
             [
              0.7777777777777778,
              "#fb9f3a"
             ],
             [
              0.8888888888888888,
              "#fdca26"
             ],
             [
              1,
              "#f0f921"
             ]
            ],
            "type": "contour"
           }
          ],
          "contourcarpet": [
           {
            "colorbar": {
             "outlinewidth": 0,
             "ticks": ""
            },
            "type": "contourcarpet"
           }
          ],
          "heatmap": [
           {
            "colorbar": {
             "outlinewidth": 0,
             "ticks": ""
            },
            "colorscale": [
             [
              0,
              "#0d0887"
             ],
             [
              0.1111111111111111,
              "#46039f"
             ],
             [
              0.2222222222222222,
              "#7201a8"
             ],
             [
              0.3333333333333333,
              "#9c179e"
             ],
             [
              0.4444444444444444,
              "#bd3786"
             ],
             [
              0.5555555555555556,
              "#d8576b"
             ],
             [
              0.6666666666666666,
              "#ed7953"
             ],
             [
              0.7777777777777778,
              "#fb9f3a"
             ],
             [
              0.8888888888888888,
              "#fdca26"
             ],
             [
              1,
              "#f0f921"
             ]
            ],
            "type": "heatmap"
           }
          ],
          "heatmapgl": [
           {
            "colorbar": {
             "outlinewidth": 0,
             "ticks": ""
            },
            "colorscale": [
             [
              0,
              "#0d0887"
             ],
             [
              0.1111111111111111,
              "#46039f"
             ],
             [
              0.2222222222222222,
              "#7201a8"
             ],
             [
              0.3333333333333333,
              "#9c179e"
             ],
             [
              0.4444444444444444,
              "#bd3786"
             ],
             [
              0.5555555555555556,
              "#d8576b"
             ],
             [
              0.6666666666666666,
              "#ed7953"
             ],
             [
              0.7777777777777778,
              "#fb9f3a"
             ],
             [
              0.8888888888888888,
              "#fdca26"
             ],
             [
              1,
              "#f0f921"
             ]
            ],
            "type": "heatmapgl"
           }
          ],
          "histogram": [
           {
            "marker": {
             "pattern": {
              "fillmode": "overlay",
              "size": 10,
              "solidity": 0.2
             }
            },
            "type": "histogram"
           }
          ],
          "histogram2d": [
           {
            "colorbar": {
             "outlinewidth": 0,
             "ticks": ""
            },
            "colorscale": [
             [
              0,
              "#0d0887"
             ],
             [
              0.1111111111111111,
              "#46039f"
             ],
             [
              0.2222222222222222,
              "#7201a8"
             ],
             [
              0.3333333333333333,
              "#9c179e"
             ],
             [
              0.4444444444444444,
              "#bd3786"
             ],
             [
              0.5555555555555556,
              "#d8576b"
             ],
             [
              0.6666666666666666,
              "#ed7953"
             ],
             [
              0.7777777777777778,
              "#fb9f3a"
             ],
             [
              0.8888888888888888,
              "#fdca26"
             ],
             [
              1,
              "#f0f921"
             ]
            ],
            "type": "histogram2d"
           }
          ],
          "histogram2dcontour": [
           {
            "colorbar": {
             "outlinewidth": 0,
             "ticks": ""
            },
            "colorscale": [
             [
              0,
              "#0d0887"
             ],
             [
              0.1111111111111111,
              "#46039f"
             ],
             [
              0.2222222222222222,
              "#7201a8"
             ],
             [
              0.3333333333333333,
              "#9c179e"
             ],
             [
              0.4444444444444444,
              "#bd3786"
             ],
             [
              0.5555555555555556,
              "#d8576b"
             ],
             [
              0.6666666666666666,
              "#ed7953"
             ],
             [
              0.7777777777777778,
              "#fb9f3a"
             ],
             [
              0.8888888888888888,
              "#fdca26"
             ],
             [
              1,
              "#f0f921"
             ]
            ],
            "type": "histogram2dcontour"
           }
          ],
          "mesh3d": [
           {
            "colorbar": {
             "outlinewidth": 0,
             "ticks": ""
            },
            "type": "mesh3d"
           }
          ],
          "parcoords": [
           {
            "line": {
             "colorbar": {
              "outlinewidth": 0,
              "ticks": ""
             }
            },
            "type": "parcoords"
           }
          ],
          "pie": [
           {
            "automargin": true,
            "type": "pie"
           }
          ],
          "scatter": [
           {
            "fillpattern": {
             "fillmode": "overlay",
             "size": 10,
             "solidity": 0.2
            },
            "type": "scatter"
           }
          ],
          "scatter3d": [
           {
            "line": {
             "colorbar": {
              "outlinewidth": 0,
              "ticks": ""
             }
            },
            "marker": {
             "colorbar": {
              "outlinewidth": 0,
              "ticks": ""
             }
            },
            "type": "scatter3d"
           }
          ],
          "scattercarpet": [
           {
            "marker": {
             "colorbar": {
              "outlinewidth": 0,
              "ticks": ""
             }
            },
            "type": "scattercarpet"
           }
          ],
          "scattergeo": [
           {
            "marker": {
             "colorbar": {
              "outlinewidth": 0,
              "ticks": ""
             }
            },
            "type": "scattergeo"
           }
          ],
          "scattergl": [
           {
            "marker": {
             "colorbar": {
              "outlinewidth": 0,
              "ticks": ""
             }
            },
            "type": "scattergl"
           }
          ],
          "scattermapbox": [
           {
            "marker": {
             "colorbar": {
              "outlinewidth": 0,
              "ticks": ""
             }
            },
            "type": "scattermapbox"
           }
          ],
          "scatterpolar": [
           {
            "marker": {
             "colorbar": {
              "outlinewidth": 0,
              "ticks": ""
             }
            },
            "type": "scatterpolar"
           }
          ],
          "scatterpolargl": [
           {
            "marker": {
             "colorbar": {
              "outlinewidth": 0,
              "ticks": ""
             }
            },
            "type": "scatterpolargl"
           }
          ],
          "scatterternary": [
           {
            "marker": {
             "colorbar": {
              "outlinewidth": 0,
              "ticks": ""
             }
            },
            "type": "scatterternary"
           }
          ],
          "surface": [
           {
            "colorbar": {
             "outlinewidth": 0,
             "ticks": ""
            },
            "colorscale": [
             [
              0,
              "#0d0887"
             ],
             [
              0.1111111111111111,
              "#46039f"
             ],
             [
              0.2222222222222222,
              "#7201a8"
             ],
             [
              0.3333333333333333,
              "#9c179e"
             ],
             [
              0.4444444444444444,
              "#bd3786"
             ],
             [
              0.5555555555555556,
              "#d8576b"
             ],
             [
              0.6666666666666666,
              "#ed7953"
             ],
             [
              0.7777777777777778,
              "#fb9f3a"
             ],
             [
              0.8888888888888888,
              "#fdca26"
             ],
             [
              1,
              "#f0f921"
             ]
            ],
            "type": "surface"
           }
          ],
          "table": [
           {
            "cells": {
             "fill": {
              "color": "#EBF0F8"
             },
             "line": {
              "color": "white"
             }
            },
            "header": {
             "fill": {
              "color": "#C8D4E3"
             },
             "line": {
              "color": "white"
             }
            },
            "type": "table"
           }
          ]
         },
         "layout": {
          "annotationdefaults": {
           "arrowcolor": "#2a3f5f",
           "arrowhead": 0,
           "arrowwidth": 1
          },
          "autotypenumbers": "strict",
          "coloraxis": {
           "colorbar": {
            "outlinewidth": 0,
            "ticks": ""
           }
          },
          "colorscale": {
           "diverging": [
            [
             0,
             "#8e0152"
            ],
            [
             0.1,
             "#c51b7d"
            ],
            [
             0.2,
             "#de77ae"
            ],
            [
             0.3,
             "#f1b6da"
            ],
            [
             0.4,
             "#fde0ef"
            ],
            [
             0.5,
             "#f7f7f7"
            ],
            [
             0.6,
             "#e6f5d0"
            ],
            [
             0.7,
             "#b8e186"
            ],
            [
             0.8,
             "#7fbc41"
            ],
            [
             0.9,
             "#4d9221"
            ],
            [
             1,
             "#276419"
            ]
           ],
           "sequential": [
            [
             0,
             "#0d0887"
            ],
            [
             0.1111111111111111,
             "#46039f"
            ],
            [
             0.2222222222222222,
             "#7201a8"
            ],
            [
             0.3333333333333333,
             "#9c179e"
            ],
            [
             0.4444444444444444,
             "#bd3786"
            ],
            [
             0.5555555555555556,
             "#d8576b"
            ],
            [
             0.6666666666666666,
             "#ed7953"
            ],
            [
             0.7777777777777778,
             "#fb9f3a"
            ],
            [
             0.8888888888888888,
             "#fdca26"
            ],
            [
             1,
             "#f0f921"
            ]
           ],
           "sequentialminus": [
            [
             0,
             "#0d0887"
            ],
            [
             0.1111111111111111,
             "#46039f"
            ],
            [
             0.2222222222222222,
             "#7201a8"
            ],
            [
             0.3333333333333333,
             "#9c179e"
            ],
            [
             0.4444444444444444,
             "#bd3786"
            ],
            [
             0.5555555555555556,
             "#d8576b"
            ],
            [
             0.6666666666666666,
             "#ed7953"
            ],
            [
             0.7777777777777778,
             "#fb9f3a"
            ],
            [
             0.8888888888888888,
             "#fdca26"
            ],
            [
             1,
             "#f0f921"
            ]
           ]
          },
          "colorway": [
           "#636efa",
           "#EF553B",
           "#00cc96",
           "#ab63fa",
           "#FFA15A",
           "#19d3f3",
           "#FF6692",
           "#B6E880",
           "#FF97FF",
           "#FECB52"
          ],
          "font": {
           "color": "#2a3f5f"
          },
          "geo": {
           "bgcolor": "white",
           "lakecolor": "white",
           "landcolor": "#E5ECF6",
           "showlakes": true,
           "showland": true,
           "subunitcolor": "white"
          },
          "hoverlabel": {
           "align": "left"
          },
          "hovermode": "closest",
          "mapbox": {
           "style": "light"
          },
          "paper_bgcolor": "white",
          "plot_bgcolor": "#E5ECF6",
          "polar": {
           "angularaxis": {
            "gridcolor": "white",
            "linecolor": "white",
            "ticks": ""
           },
           "bgcolor": "#E5ECF6",
           "radialaxis": {
            "gridcolor": "white",
            "linecolor": "white",
            "ticks": ""
           }
          },
          "scene": {
           "xaxis": {
            "backgroundcolor": "#E5ECF6",
            "gridcolor": "white",
            "gridwidth": 2,
            "linecolor": "white",
            "showbackground": true,
            "ticks": "",
            "zerolinecolor": "white"
           },
           "yaxis": {
            "backgroundcolor": "#E5ECF6",
            "gridcolor": "white",
            "gridwidth": 2,
            "linecolor": "white",
            "showbackground": true,
            "ticks": "",
            "zerolinecolor": "white"
           },
           "zaxis": {
            "backgroundcolor": "#E5ECF6",
            "gridcolor": "white",
            "gridwidth": 2,
            "linecolor": "white",
            "showbackground": true,
            "ticks": "",
            "zerolinecolor": "white"
           }
          },
          "shapedefaults": {
           "line": {
            "color": "#2a3f5f"
           }
          },
          "ternary": {
           "aaxis": {
            "gridcolor": "white",
            "linecolor": "white",
            "ticks": ""
           },
           "baxis": {
            "gridcolor": "white",
            "linecolor": "white",
            "ticks": ""
           },
           "bgcolor": "#E5ECF6",
           "caxis": {
            "gridcolor": "white",
            "linecolor": "white",
            "ticks": ""
           }
          },
          "title": {
           "x": 0.05
          },
          "xaxis": {
           "automargin": true,
           "gridcolor": "white",
           "linecolor": "white",
           "ticks": "",
           "title": {
            "standoff": 15
           },
           "zerolinecolor": "white",
           "zerolinewidth": 2
          },
          "yaxis": {
           "automargin": true,
           "gridcolor": "white",
           "linecolor": "white",
           "ticks": "",
           "title": {
            "standoff": 15
           },
           "zerolinecolor": "white",
           "zerolinewidth": 2
          }
         }
        },
        "title": {
         "text": "3-dimensional representation of the data with UMAP, n_neighbors = 2"
        }
       }
      }
     },
     "metadata": {},
     "output_type": "display_data"
    },
    {
     "data": {
      "application/vnd.plotly.v1+json": {
       "config": {
        "plotlyServerURL": "https://plot.ly"
       },
       "data": [
        {
         "hovertemplate": "Condition=Normo<br>UMAP1=%{x}<br>UMAP2=%{y}<br>UMAP3=%{z}<extra></extra>",
         "legendgroup": "Normo",
         "marker": {
          "color": "#636efa",
          "symbol": "circle"
         },
         "mode": "markers",
         "name": "Normo",
         "scene": "scene",
         "showlegend": true,
         "type": "scatter3d",
         "x": [
          1.9354389905929565,
          1.3130897283554077,
          1.4746766090393066,
          2.509429931640625,
          0.8349847793579102,
          1.4783105850219727,
          2.537031412124634,
          1.0127202272415161,
          1.6268410682678223,
          0.7205194234848022,
          1.0888878107070923,
          1.694422721862793,
          1.070433259010315,
          1.19287109375,
          1.4915934801101685,
          1.1385105848312378,
          2.1999824047088623,
          1.5692074298858643,
          1.059694766998291,
          0.8318795561790466,
          1.7333829402923584,
          0.49249276518821716,
          1.3412169218063354,
          1.972286343574524,
          2.550569534301758,
          1.6520605087280273,
          1.479293942451477,
          0.819110631942749,
          1.240286946296692,
          1.9267581701278687,
          1.9397648572921753,
          1.824360966682434,
          0.20716075599193573,
          2.0797572135925293,
          2.32431960105896,
          2.4128074645996094,
          1.781516194343567,
          1.0950881242752075,
          1.311985731124878,
          0.7570543885231018,
          2.818146228790283,
          1.3590130805969238,
          1.2030658721923828,
          1.8970388174057007,
          0.7950530648231506,
          0.6798137426376343,
          2.2243802547454834,
          1.226890206336975,
          0.9642866253852844,
          1.9319151639938354,
          0.7324663400650024,
          2.462451457977295,
          2.68196439743042,
          0.9831553101539612,
          1.2983745336532593,
          1.1465067863464355,
          1.418034553527832,
          1.0966975688934326,
          1.3789587020874023,
          0.8414613604545593,
          0.8040555119514465,
          2.4371180534362793,
          1.2075175046920776,
          1.1861896514892578,
          2.0795719623565674,
          2.1591222286224365,
          1.2924848794937134,
          1.7430721521377563,
          1.5549668073654175,
          1.2203503847122192,
          2.728726387023926,
          2.3283982276916504,
          0.9847549200057983,
          2.9871599674224854,
          1.3459383249282837,
          0.8431524634361267,
          2.1492867469787598,
          2.226727247238159,
          1.8985178470611572,
          2.0975024700164795,
          1.840792179107666,
          0.702491044998169,
          1.3664978742599487,
          1.187354564666748,
          1.8778598308563232
         ],
         "y": [
          11.01197624206543,
          11.914400100708008,
          11.377583503723145,
          10.764814376831055,
          10.176721572875977,
          11.004485130310059,
          11.056779861450195,
          10.452218055725098,
          11.078741073608398,
          11.23568058013916,
          10.971454620361328,
          11.31528091430664,
          12.03901481628418,
          10.908587455749512,
          10.790234565734863,
          12.102049827575684,
          10.921422004699707,
          11.59611701965332,
          10.360044479370117,
          10.7913236618042,
          10.395303726196289,
          10.6774320602417,
          11.78906536102295,
          11.044337272644043,
          10.303994178771973,
          10.105202674865723,
          11.79564094543457,
          10.563226699829102,
          11.494434356689453,
          10.134370803833008,
          10.258252143859863,
          10.738358497619629,
          10.570938110351562,
          10.702285766601562,
          10.507243156433105,
          11.335846900939941,
          11.473695755004883,
          11.034723281860352,
          10.825823783874512,
          10.699576377868652,
          11.323684692382812,
          10.866188049316406,
          10.042365074157715,
          12.015504837036133,
          10.90237808227539,
          10.013310432434082,
          11.311293601989746,
          10.599578857421875,
          10.56532096862793,
          11.436097145080566,
          10.464105606079102,
          10.980982780456543,
          11.020904541015625,
          11.472410202026367,
          11.027682304382324,
          10.405375480651855,
          10.02216625213623,
          10.797618865966797,
          9.986446380615234,
          11.234743118286133,
          9.945597648620605,
          10.666766166687012,
          11.667054176330566,
          10.953052520751953,
          11.591114044189453,
          11.607266426086426,
          11.90815258026123,
          10.872381210327148,
          11.627118110656738,
          11.411848068237305,
          11.062311172485352,
          11.458724975585938,
          11.527554512023926,
          11.252391815185547,
          11.691515922546387,
          10.644241333007812,
          10.21548080444336,
          11.76154899597168,
          11.748430252075195,
          11.725302696228027,
          10.539478302001953,
          9.898810386657715,
          10.328606605529785,
          10.071913719177246,
          11.659868240356445
         ],
         "z": [
          -3.3228704929351807,
          -2.5728564262390137,
          -2.7390823364257812,
          -3.5938658714294434,
          -3.904865026473999,
          -2.775000810623169,
          -2.8987138271331787,
          -2.8748223781585693,
          -3.425614356994629,
          -3.8127715587615967,
          -3.9274442195892334,
          -3.124868392944336,
          -2.9544429779052734,
          -4.243998050689697,
          -4.326274871826172,
          -3.036419153213501,
          -3.158160448074341,
          -2.444432020187378,
          -2.5106191635131836,
          -1.8054652214050293,
          -4.000027179718018,
          -3.9892046451568604,
          -3.395371198654175,
          -2.9404802322387695,
          -3.3733673095703125,
          -3.0106472969055176,
          -2.7841928005218506,
          -4.1497650146484375,
          -1.3216378688812256,
          -3.140594959259033,
          -3.5310778617858887,
          -2.6889572143554688,
          -3.742802619934082,
          -3.4495315551757812,
          -3.924586772918701,
          -2.9872076511383057,
          -3.948716163635254,
          -3.582545042037964,
          -2.579439878463745,
          -3.9295196533203125,
          -3.1649582386016846,
          -3.7936673164367676,
          -3.175818681716919,
          -3.1957032680511475,
          -3.957770586013794,
          -2.618762969970703,
          -3.431593179702759,
          -2.3235859870910645,
          -3.8720626831054688,
          -2.295232057571411,
          -3.400998115539551,
          -3.7913622856140137,
          -3.577341318130493,
          -1.6969574689865112,
          -3.4632439613342285,
          -2.9779019355773926,
          -3.8354132175445557,
          -2.0619187355041504,
          -3.2386441230773926,
          -3.5192930698394775,
          -2.908841133117676,
          -3.95955228805542,
          -2.0851519107818604,
          -4.188323497772217,
          -2.8828370571136475,
          -3.3216726779937744,
          -2.2802798748016357,
          -2.201373338699341,
          -2.3351645469665527,
          -3.8858566284179688,
          -2.6800835132598877,
          -3.269775152206421,
          -3.690552234649658,
          -3.0655524730682373,
          -3.7735774517059326,
          -2.2013790607452393,
          -3.6702826023101807,
          -3.5364179611206055,
          -3.600674629211426,
          -2.906115770339966,
          -2.7566030025482178,
          -2.7842495441436768,
          -4.197863578796387,
          -2.7644283771514893,
          -2.9582104682922363
         ]
        },
        {
         "hovertemplate": "Condition=Hypo<br>UMAP1=%{x}<br>UMAP2=%{y}<br>UMAP3=%{z}<extra></extra>",
         "legendgroup": "Hypo",
         "marker": {
          "color": "#EF553B",
          "symbol": "circle"
         },
         "mode": "markers",
         "name": "Hypo",
         "scene": "scene",
         "showlegend": true,
         "type": "scatter3d",
         "x": [
          1.5061205625534058,
          1.4090911149978638,
          2.126715898513794,
          2.6245501041412354,
          2.3914010524749756,
          1.895548701286316,
          1.905819058418274,
          1.8832374811172485,
          2.5431132316589355,
          1.3713825941085815,
          1.6755280494689941,
          2.727134943008423,
          2.918053388595581,
          1.8041458129882812,
          2.1776347160339355,
          1.341092824935913,
          2.109266757965088,
          1.5295350551605225,
          2.7859256267547607,
          2.6638851165771484,
          1.458856225013733,
          2.4702982902526855,
          1.6688742637634277,
          1.652854084968567,
          2.8004403114318848,
          2.2176549434661865,
          1.7006478309631348,
          1.4642019271850586,
          1.3832474946975708,
          1.0119867324829102,
          0.7764531970024109,
          2.7505500316619873,
          2.293971061706543,
          3.159592866897583,
          1.8306485414505005,
          0.6523879170417786,
          2.068185806274414,
          2.7502903938293457,
          1.8232358694076538,
          0.5723124146461487,
          1.9642778635025024,
          1.8654595613479614,
          1.7227057218551636,
          1.0248939990997314,
          2.5425028800964355,
          1.8257617950439453,
          1.016970157623291,
          0.5982977151870728,
          0.5877595543861389,
          2.789926528930664,
          1.3689334392547607,
          1.8508853912353516,
          2.226585865020752,
          2.9606523513793945,
          1.4891369342803955,
          1.664685845375061,
          1.7433223724365234,
          3.2441906929016113,
          2.9385602474212646,
          1.054499626159668,
          2.8468873500823975,
          1.3412281274795532,
          2.689661979675293,
          1.1123464107513428,
          1.6299766302108765,
          2.3976352214813232,
          0.6103469729423523,
          2.7048161029815674,
          2.219331741333008,
          1.1681727170944214,
          2.192822217941284,
          2.5803134441375732,
          3.1626200675964355,
          2.0630006790161133,
          2.8464155197143555,
          1.300525188446045,
          1.3811331987380981,
          1.3983290195465088,
          0.7664350271224976,
          3.319195032119751,
          1.2520675659179688,
          2.843263864517212,
          1.7105703353881836,
          2.4693045616149902,
          2.1779446601867676,
          2.671869993209839,
          2.0361533164978027,
          1.048117756843567,
          3.1001548767089844,
          2.8951830863952637,
          2.00054931640625,
          2.7220842838287354,
          1.4412798881530762,
          2.414332628250122,
          3.270909547805786,
          1.910352110862732,
          2.5276846885681152
         ],
         "y": [
          9.327217102050781,
          9.057991027832031,
          9.77584457397461,
          9.902445793151855,
          10.71965217590332,
          9.212385177612305,
          9.622023582458496,
          11.347390174865723,
          9.6106595993042,
          9.71975326538086,
          9.817779541015625,
          10.239799499511719,
          9.691593170166016,
          10.013833999633789,
          10.118550300598145,
          10.143193244934082,
          9.448040962219238,
          11.886754035949707,
          9.413918495178223,
          9.523256301879883,
          9.72016429901123,
          9.734119415283203,
          11.226685523986816,
          10.47900104522705,
          10.314536094665527,
          9.839804649353027,
          9.763296127319336,
          11.329708099365234,
          10.277142524719238,
          9.840974807739258,
          11.401128768920898,
          9.540881156921387,
          9.6516752243042,
          9.68299388885498,
          9.176408767700195,
          9.943586349487305,
          10.456360816955566,
          9.875738143920898,
          9.309773445129395,
          10.878643989562988,
          9.898396492004395,
          9.213275909423828,
          9.380476951599121,
          11.509169578552246,
          9.156584739685059,
          9.560032844543457,
          11.306926727294922,
          11.076654434204102,
          10.803691864013672,
          10.127213478088379,
          11.493768692016602,
          9.523324012756348,
          11.256285667419434,
          10.172022819519043,
          9.504059791564941,
          9.195987701416016,
          9.414931297302246,
          9.957196235656738,
          10.492283821105957,
          9.424290657043457,
          9.47758674621582,
          9.037223815917969,
          9.094850540161133,
          9.676490783691406,
          9.806099891662598,
          9.427693367004395,
          10.420448303222656,
          9.290700912475586,
          9.744009017944336,
          11.219738006591797,
          8.932997703552246,
          9.782258033752441,
          10.204526901245117,
          8.936312675476074,
          9.5972318649292,
          9.841156005859375,
          10.002898216247559,
          9.407532691955566,
          10.666580200195312,
          9.98477554321289,
          11.239686012268066,
          10.399476051330566,
          12.021650314331055,
          10.164634704589844,
          9.265829086303711,
          9.466217041015625,
          10.59142780303955,
          9.201865196228027,
          10.535117149353027,
          9.887730598449707,
          10.581400871276855,
          9.271254539489746,
          10.501565933227539,
          9.944692611694336,
          9.919861793518066,
          9.223580360412598,
          9.444439888000488
         ],
         "z": [
          -2.033595085144043,
          -2.622786045074463,
          -2.18210768699646,
          -2.409989833831787,
          -3.109584093093872,
          -3.0542750358581543,
          -1.3637458086013794,
          -2.7687673568725586,
          -2.023488759994507,
          -2.727212429046631,
          -2.7249815464019775,
          -2.778532028198242,
          -2.9901387691497803,
          -2.664532423019409,
          -2.5283124446868896,
          -2.2339890003204346,
          -2.3490562438964844,
          -3.3654234409332275,
          -3.050119638442993,
          -2.7515628337860107,
          -2.1115126609802246,
          -2.9432358741760254,
          -3.9244987964630127,
          -3.2176334857940674,
          -2.6658992767333984,
          -1.9202098846435547,
          -1.930423617362976,
          -1.2827495336532593,
          -1.8608903884887695,
          -3.353649616241455,
          -2.3258442878723145,
          -2.5316553115844727,
          -1.7416337728500366,
          -2.667391538619995,
          -3.134066343307495,
          -3.8652637004852295,
          -1.9904191493988037,
          -2.1702542304992676,
          -2.2900326251983643,
          -2.80405855178833,
          -1.7340478897094727,
          -1.5241570472717285,
          -2.0683212280273438,
          -1.4654237031936646,
          -2.8218729496002197,
          -1.2280685901641846,
          -1.2931694984436035,
          -2.418041229248047,
          -3.6834752559661865,
          -3.322434425354004,
          -1.3953138589859009,
          -1.9064542055130005,
          -2.332960367202759,
          -3.233255386352539,
          -3.3683643341064453,
          -2.5000927448272705,
          -1.6631919145584106,
          -3.439177989959717,
          -3.548630714416504,
          -2.8850624561309814,
          -2.54140305519104,
          -2.2999093532562256,
          -2.271773338317871,
          -2.325394630432129,
          -3.5235955715179443,
          -1.9717952013015747,
          -3.567621946334839,
          -2.2805659770965576,
          -2.7446277141571045,
          -1.044700026512146,
          -2.3840067386627197,
          -3.1381046772003174,
          -2.984058380126953,
          -2.1530160903930664,
          -3.2719991207122803,
          -1.6580722332000732,
          -1.725028157234192,
          -2.454385280609131,
          -1.7297433614730835,
          -3.0122458934783936,
          -1.1074894666671753,
          -2.4696993827819824,
          -2.7261240482330322,
          -1.7377111911773682,
          -1.5154591798782349,
          -1.7533453702926636,
          -4.269087791442871,
          -2.3710880279541016,
          -3.124450206756592,
          -3.2715039253234863,
          -1.660841703414917,
          -2.8889424800872803,
          -4.018612861633301,
          -1.4810996055603027,
          -2.506063461303711,
          -1.460576057434082,
          -3.4687256813049316
         ]
        }
       ],
       "layout": {
        "legend": {
         "title": {
          "text": "Condition"
         },
         "tracegroupgap": 0
        },
        "scene": {
         "domain": {
          "x": [
           0,
           1
          ],
          "y": [
           0,
           1
          ]
         },
         "xaxis": {
          "title": {
           "text": "UMAP1"
          }
         },
         "yaxis": {
          "title": {
           "text": "UMAP2"
          }
         },
         "zaxis": {
          "title": {
           "text": "UMAP3"
          }
         }
        },
        "template": {
         "data": {
          "bar": [
           {
            "error_x": {
             "color": "#2a3f5f"
            },
            "error_y": {
             "color": "#2a3f5f"
            },
            "marker": {
             "line": {
              "color": "#E5ECF6",
              "width": 0.5
             },
             "pattern": {
              "fillmode": "overlay",
              "size": 10,
              "solidity": 0.2
             }
            },
            "type": "bar"
           }
          ],
          "barpolar": [
           {
            "marker": {
             "line": {
              "color": "#E5ECF6",
              "width": 0.5
             },
             "pattern": {
              "fillmode": "overlay",
              "size": 10,
              "solidity": 0.2
             }
            },
            "type": "barpolar"
           }
          ],
          "carpet": [
           {
            "aaxis": {
             "endlinecolor": "#2a3f5f",
             "gridcolor": "white",
             "linecolor": "white",
             "minorgridcolor": "white",
             "startlinecolor": "#2a3f5f"
            },
            "baxis": {
             "endlinecolor": "#2a3f5f",
             "gridcolor": "white",
             "linecolor": "white",
             "minorgridcolor": "white",
             "startlinecolor": "#2a3f5f"
            },
            "type": "carpet"
           }
          ],
          "choropleth": [
           {
            "colorbar": {
             "outlinewidth": 0,
             "ticks": ""
            },
            "type": "choropleth"
           }
          ],
          "contour": [
           {
            "colorbar": {
             "outlinewidth": 0,
             "ticks": ""
            },
            "colorscale": [
             [
              0,
              "#0d0887"
             ],
             [
              0.1111111111111111,
              "#46039f"
             ],
             [
              0.2222222222222222,
              "#7201a8"
             ],
             [
              0.3333333333333333,
              "#9c179e"
             ],
             [
              0.4444444444444444,
              "#bd3786"
             ],
             [
              0.5555555555555556,
              "#d8576b"
             ],
             [
              0.6666666666666666,
              "#ed7953"
             ],
             [
              0.7777777777777778,
              "#fb9f3a"
             ],
             [
              0.8888888888888888,
              "#fdca26"
             ],
             [
              1,
              "#f0f921"
             ]
            ],
            "type": "contour"
           }
          ],
          "contourcarpet": [
           {
            "colorbar": {
             "outlinewidth": 0,
             "ticks": ""
            },
            "type": "contourcarpet"
           }
          ],
          "heatmap": [
           {
            "colorbar": {
             "outlinewidth": 0,
             "ticks": ""
            },
            "colorscale": [
             [
              0,
              "#0d0887"
             ],
             [
              0.1111111111111111,
              "#46039f"
             ],
             [
              0.2222222222222222,
              "#7201a8"
             ],
             [
              0.3333333333333333,
              "#9c179e"
             ],
             [
              0.4444444444444444,
              "#bd3786"
             ],
             [
              0.5555555555555556,
              "#d8576b"
             ],
             [
              0.6666666666666666,
              "#ed7953"
             ],
             [
              0.7777777777777778,
              "#fb9f3a"
             ],
             [
              0.8888888888888888,
              "#fdca26"
             ],
             [
              1,
              "#f0f921"
             ]
            ],
            "type": "heatmap"
           }
          ],
          "heatmapgl": [
           {
            "colorbar": {
             "outlinewidth": 0,
             "ticks": ""
            },
            "colorscale": [
             [
              0,
              "#0d0887"
             ],
             [
              0.1111111111111111,
              "#46039f"
             ],
             [
              0.2222222222222222,
              "#7201a8"
             ],
             [
              0.3333333333333333,
              "#9c179e"
             ],
             [
              0.4444444444444444,
              "#bd3786"
             ],
             [
              0.5555555555555556,
              "#d8576b"
             ],
             [
              0.6666666666666666,
              "#ed7953"
             ],
             [
              0.7777777777777778,
              "#fb9f3a"
             ],
             [
              0.8888888888888888,
              "#fdca26"
             ],
             [
              1,
              "#f0f921"
             ]
            ],
            "type": "heatmapgl"
           }
          ],
          "histogram": [
           {
            "marker": {
             "pattern": {
              "fillmode": "overlay",
              "size": 10,
              "solidity": 0.2
             }
            },
            "type": "histogram"
           }
          ],
          "histogram2d": [
           {
            "colorbar": {
             "outlinewidth": 0,
             "ticks": ""
            },
            "colorscale": [
             [
              0,
              "#0d0887"
             ],
             [
              0.1111111111111111,
              "#46039f"
             ],
             [
              0.2222222222222222,
              "#7201a8"
             ],
             [
              0.3333333333333333,
              "#9c179e"
             ],
             [
              0.4444444444444444,
              "#bd3786"
             ],
             [
              0.5555555555555556,
              "#d8576b"
             ],
             [
              0.6666666666666666,
              "#ed7953"
             ],
             [
              0.7777777777777778,
              "#fb9f3a"
             ],
             [
              0.8888888888888888,
              "#fdca26"
             ],
             [
              1,
              "#f0f921"
             ]
            ],
            "type": "histogram2d"
           }
          ],
          "histogram2dcontour": [
           {
            "colorbar": {
             "outlinewidth": 0,
             "ticks": ""
            },
            "colorscale": [
             [
              0,
              "#0d0887"
             ],
             [
              0.1111111111111111,
              "#46039f"
             ],
             [
              0.2222222222222222,
              "#7201a8"
             ],
             [
              0.3333333333333333,
              "#9c179e"
             ],
             [
              0.4444444444444444,
              "#bd3786"
             ],
             [
              0.5555555555555556,
              "#d8576b"
             ],
             [
              0.6666666666666666,
              "#ed7953"
             ],
             [
              0.7777777777777778,
              "#fb9f3a"
             ],
             [
              0.8888888888888888,
              "#fdca26"
             ],
             [
              1,
              "#f0f921"
             ]
            ],
            "type": "histogram2dcontour"
           }
          ],
          "mesh3d": [
           {
            "colorbar": {
             "outlinewidth": 0,
             "ticks": ""
            },
            "type": "mesh3d"
           }
          ],
          "parcoords": [
           {
            "line": {
             "colorbar": {
              "outlinewidth": 0,
              "ticks": ""
             }
            },
            "type": "parcoords"
           }
          ],
          "pie": [
           {
            "automargin": true,
            "type": "pie"
           }
          ],
          "scatter": [
           {
            "fillpattern": {
             "fillmode": "overlay",
             "size": 10,
             "solidity": 0.2
            },
            "type": "scatter"
           }
          ],
          "scatter3d": [
           {
            "line": {
             "colorbar": {
              "outlinewidth": 0,
              "ticks": ""
             }
            },
            "marker": {
             "colorbar": {
              "outlinewidth": 0,
              "ticks": ""
             }
            },
            "type": "scatter3d"
           }
          ],
          "scattercarpet": [
           {
            "marker": {
             "colorbar": {
              "outlinewidth": 0,
              "ticks": ""
             }
            },
            "type": "scattercarpet"
           }
          ],
          "scattergeo": [
           {
            "marker": {
             "colorbar": {
              "outlinewidth": 0,
              "ticks": ""
             }
            },
            "type": "scattergeo"
           }
          ],
          "scattergl": [
           {
            "marker": {
             "colorbar": {
              "outlinewidth": 0,
              "ticks": ""
             }
            },
            "type": "scattergl"
           }
          ],
          "scattermapbox": [
           {
            "marker": {
             "colorbar": {
              "outlinewidth": 0,
              "ticks": ""
             }
            },
            "type": "scattermapbox"
           }
          ],
          "scatterpolar": [
           {
            "marker": {
             "colorbar": {
              "outlinewidth": 0,
              "ticks": ""
             }
            },
            "type": "scatterpolar"
           }
          ],
          "scatterpolargl": [
           {
            "marker": {
             "colorbar": {
              "outlinewidth": 0,
              "ticks": ""
             }
            },
            "type": "scatterpolargl"
           }
          ],
          "scatterternary": [
           {
            "marker": {
             "colorbar": {
              "outlinewidth": 0,
              "ticks": ""
             }
            },
            "type": "scatterternary"
           }
          ],
          "surface": [
           {
            "colorbar": {
             "outlinewidth": 0,
             "ticks": ""
            },
            "colorscale": [
             [
              0,
              "#0d0887"
             ],
             [
              0.1111111111111111,
              "#46039f"
             ],
             [
              0.2222222222222222,
              "#7201a8"
             ],
             [
              0.3333333333333333,
              "#9c179e"
             ],
             [
              0.4444444444444444,
              "#bd3786"
             ],
             [
              0.5555555555555556,
              "#d8576b"
             ],
             [
              0.6666666666666666,
              "#ed7953"
             ],
             [
              0.7777777777777778,
              "#fb9f3a"
             ],
             [
              0.8888888888888888,
              "#fdca26"
             ],
             [
              1,
              "#f0f921"
             ]
            ],
            "type": "surface"
           }
          ],
          "table": [
           {
            "cells": {
             "fill": {
              "color": "#EBF0F8"
             },
             "line": {
              "color": "white"
             }
            },
            "header": {
             "fill": {
              "color": "#C8D4E3"
             },
             "line": {
              "color": "white"
             }
            },
            "type": "table"
           }
          ]
         },
         "layout": {
          "annotationdefaults": {
           "arrowcolor": "#2a3f5f",
           "arrowhead": 0,
           "arrowwidth": 1
          },
          "autotypenumbers": "strict",
          "coloraxis": {
           "colorbar": {
            "outlinewidth": 0,
            "ticks": ""
           }
          },
          "colorscale": {
           "diverging": [
            [
             0,
             "#8e0152"
            ],
            [
             0.1,
             "#c51b7d"
            ],
            [
             0.2,
             "#de77ae"
            ],
            [
             0.3,
             "#f1b6da"
            ],
            [
             0.4,
             "#fde0ef"
            ],
            [
             0.5,
             "#f7f7f7"
            ],
            [
             0.6,
             "#e6f5d0"
            ],
            [
             0.7,
             "#b8e186"
            ],
            [
             0.8,
             "#7fbc41"
            ],
            [
             0.9,
             "#4d9221"
            ],
            [
             1,
             "#276419"
            ]
           ],
           "sequential": [
            [
             0,
             "#0d0887"
            ],
            [
             0.1111111111111111,
             "#46039f"
            ],
            [
             0.2222222222222222,
             "#7201a8"
            ],
            [
             0.3333333333333333,
             "#9c179e"
            ],
            [
             0.4444444444444444,
             "#bd3786"
            ],
            [
             0.5555555555555556,
             "#d8576b"
            ],
            [
             0.6666666666666666,
             "#ed7953"
            ],
            [
             0.7777777777777778,
             "#fb9f3a"
            ],
            [
             0.8888888888888888,
             "#fdca26"
            ],
            [
             1,
             "#f0f921"
            ]
           ],
           "sequentialminus": [
            [
             0,
             "#0d0887"
            ],
            [
             0.1111111111111111,
             "#46039f"
            ],
            [
             0.2222222222222222,
             "#7201a8"
            ],
            [
             0.3333333333333333,
             "#9c179e"
            ],
            [
             0.4444444444444444,
             "#bd3786"
            ],
            [
             0.5555555555555556,
             "#d8576b"
            ],
            [
             0.6666666666666666,
             "#ed7953"
            ],
            [
             0.7777777777777778,
             "#fb9f3a"
            ],
            [
             0.8888888888888888,
             "#fdca26"
            ],
            [
             1,
             "#f0f921"
            ]
           ]
          },
          "colorway": [
           "#636efa",
           "#EF553B",
           "#00cc96",
           "#ab63fa",
           "#FFA15A",
           "#19d3f3",
           "#FF6692",
           "#B6E880",
           "#FF97FF",
           "#FECB52"
          ],
          "font": {
           "color": "#2a3f5f"
          },
          "geo": {
           "bgcolor": "white",
           "lakecolor": "white",
           "landcolor": "#E5ECF6",
           "showlakes": true,
           "showland": true,
           "subunitcolor": "white"
          },
          "hoverlabel": {
           "align": "left"
          },
          "hovermode": "closest",
          "mapbox": {
           "style": "light"
          },
          "paper_bgcolor": "white",
          "plot_bgcolor": "#E5ECF6",
          "polar": {
           "angularaxis": {
            "gridcolor": "white",
            "linecolor": "white",
            "ticks": ""
           },
           "bgcolor": "#E5ECF6",
           "radialaxis": {
            "gridcolor": "white",
            "linecolor": "white",
            "ticks": ""
           }
          },
          "scene": {
           "xaxis": {
            "backgroundcolor": "#E5ECF6",
            "gridcolor": "white",
            "gridwidth": 2,
            "linecolor": "white",
            "showbackground": true,
            "ticks": "",
            "zerolinecolor": "white"
           },
           "yaxis": {
            "backgroundcolor": "#E5ECF6",
            "gridcolor": "white",
            "gridwidth": 2,
            "linecolor": "white",
            "showbackground": true,
            "ticks": "",
            "zerolinecolor": "white"
           },
           "zaxis": {
            "backgroundcolor": "#E5ECF6",
            "gridcolor": "white",
            "gridwidth": 2,
            "linecolor": "white",
            "showbackground": true,
            "ticks": "",
            "zerolinecolor": "white"
           }
          },
          "shapedefaults": {
           "line": {
            "color": "#2a3f5f"
           }
          },
          "ternary": {
           "aaxis": {
            "gridcolor": "white",
            "linecolor": "white",
            "ticks": ""
           },
           "baxis": {
            "gridcolor": "white",
            "linecolor": "white",
            "ticks": ""
           },
           "bgcolor": "#E5ECF6",
           "caxis": {
            "gridcolor": "white",
            "linecolor": "white",
            "ticks": ""
           }
          },
          "title": {
           "x": 0.05
          },
          "xaxis": {
           "automargin": true,
           "gridcolor": "white",
           "linecolor": "white",
           "ticks": "",
           "title": {
            "standoff": 15
           },
           "zerolinecolor": "white",
           "zerolinewidth": 2
          },
          "yaxis": {
           "automargin": true,
           "gridcolor": "white",
           "linecolor": "white",
           "ticks": "",
           "title": {
            "standoff": 15
           },
           "zerolinecolor": "white",
           "zerolinewidth": 2
          }
         }
        },
        "title": {
         "text": "3-dimensional representation of the data with UMAP, n_neighbors = 10"
        }
       }
      }
     },
     "metadata": {},
     "output_type": "display_data"
    },
    {
     "data": {
      "application/vnd.plotly.v1+json": {
       "config": {
        "plotlyServerURL": "https://plot.ly"
       },
       "data": [
        {
         "hovertemplate": "Condition=Normo<br>UMAP1=%{x}<br>UMAP2=%{y}<br>UMAP3=%{z}<extra></extra>",
         "legendgroup": "Normo",
         "marker": {
          "color": "#636efa",
          "symbol": "circle"
         },
         "mode": "markers",
         "name": "Normo",
         "scene": "scene",
         "showlegend": true,
         "type": "scatter3d",
         "x": [
          -0.5850552916526794,
          -1.9994615316390991,
          -0.8920446634292603,
          -0.5685292482376099,
          -0.02659401297569275,
          -0.7604104280471802,
          -0.8876355886459351,
          -0.46282288432121277,
          -0.9191305637359619,
          -0.434088796377182,
          0.1213274598121643,
          -1.1410921812057495,
          -1.3007464408874512,
          0.30402329564094543,
          0.03365097567439079,
          -1.2777214050292969,
          -0.5172004103660583,
          -1.745766282081604,
          -0.4229637682437897,
          -1.1028566360473633,
          -0.12438790500164032,
          0.17902356386184692,
          -1.0487748384475708,
          -0.96623295545578,
          -0.3289125859737396,
          -0.40051931142807007,
          -1.6643579006195068,
          0.23191270232200623,
          -2.192420721054077,
          -0.7428265810012817,
          -0.2231682538986206,
          -0.49429982900619507,
          -0.11943478137254715,
          -0.7199439406394958,
          -0.12462584674358368,
          -0.7723640203475952,
          -0.856196403503418,
          -0.5131385922431946,
          -1.385159969329834,
          0.10546484589576721,
          -0.6235383749008179,
          -0.12870076298713684,
          0.06710012257099152,
          -1.0171990394592285,
          0.4737444221973419,
          0.4613015055656433,
          -0.5716867446899414,
          -1.1646826267242432,
          0.11081234365701675,
          -1.5718523263931274,
          0.2894214689731598,
          0.12580956518650055,
          -0.6349199414253235,
          -1.932454228401184,
          -0.1335892677307129,
          -0.24036642909049988,
          0.26882216334342957,
          -1.4701036214828491,
          0.263519287109375,
          -0.2295178323984146,
          0.03579786419868469,
          -0.24549394845962524,
          -1.7466704845428467,
          0.00785638578236103,
          -1.388195514678955,
          -1.4362647533416748,
          -1.968412160873413,
          -1.0660011768341064,
          -1.597530722618103,
          -0.5138540267944336,
          -1.195050597190857,
          -1.387134075164795,
          -0.4109475612640381,
          -0.3633301258087158,
          -0.9050966501235962,
          -0.9163467884063721,
          -0.7479464411735535,
          -0.656082272529602,
          -1.0930980443954468,
          -1.9405630826950073,
          -0.664366602897644,
          0.42282089591026306,
          0.5257219672203064,
          0.2365233153104782,
          -1.4482719898223877
         ],
         "y": [
          3.4609148502349854,
          3.381094217300415,
          3.602006673812866,
          2.8276894092559814,
          3.8897342681884766,
          3.6875391006469727,
          3.370560646057129,
          3.940016746520996,
          3.4635674953460693,
          3.4076364040374756,
          3.14162015914917,
          3.284419298171997,
          2.9133684635162354,
          3.1422290802001953,
          2.8906638622283936,
          2.9073326587677,
          3.2001495361328125,
          3.622127056121826,
          4.128937244415283,
          4.170990943908691,
          3.4251277446746826,
          3.563042402267456,
          3.0479896068573,
          3.1774990558624268,
          3.339099645614624,
          3.5463736057281494,
          3.1939871311187744,
          3.6169557571411133,
          4.274233341217041,
          3.571176528930664,
          3.251600980758667,
          3.5733540058135986,
          3.503117084503174,
          2.9180727005004883,
          3.2596325874328613,
          3.333758592605591,
          3.0527663230895996,
          3.5317752361297607,
          3.7202000617980957,
          3.6062328815460205,
          2.62052583694458,
          3.3069300651550293,
          3.968830108642578,
          2.7865185737609863,
          3.2121546268463135,
          3.915363073348999,
          2.768429756164551,
          3.8938584327697754,
          3.231257915496826,
          3.035022497177124,
          3.4704084396362305,
          2.99943470954895,
          2.963365316390991,
          4.153964519500732,
          3.165090322494507,
          3.9280807971954346,
          3.4154818058013916,
          4.367347717285156,
          3.7309489250183105,
          2.9906673431396484,
          3.4944632053375244,
          2.8313708305358887,
          3.740849018096924,
          2.8950531482696533,
          3.37007737159729,
          3.125844717025757,
          3.4951012134552,
          3.992110013961792,
          3.651759386062622,
          2.777318000793457,
          3.1763126850128174,
          2.6832189559936523,
          3.7313451766967773,
          2.5674166679382324,
          3.1428585052490234,
          4.505466938018799,
          3.0144128799438477,
          2.5804996490478516,
          2.6552305221557617,
          3.622563123703003,
          4.322230339050293,
          3.4891767501831055,
          3.6071770191192627,
          4.036583423614502,
          2.74593448638916
         ],
         "z": [
          7.77461051940918,
          7.314600944519043,
          7.676286220550537,
          8.05544376373291,
          7.410116195678711,
          7.273077487945557,
          8.120198249816895,
          7.811403274536133,
          7.1840972900390625,
          6.98883581161499,
          7.2192463874816895,
          7.516905784606934,
          6.786034107208252,
          7.552353382110596,
          7.827840805053711,
          6.672719955444336,
          8.121710777282715,
          7.352328777313232,
          7.679373741149902,
          7.199020862579346,
          7.798375129699707,
          6.872091770172119,
          7.035846710205078,
          7.693788528442383,
          9.00202465057373,
          8.534932136535645,
          7.155582904815674,
          7.14450216293335,
          7.227079391479492,
          8.235400199890137,
          8.124375343322754,
          8.087552070617676,
          6.889298439025879,
          7.5227227210998535,
          8.288763046264648,
          7.7733564376831055,
          7.534094333648682,
          6.784362316131592,
          7.5092997550964355,
          7.6053361892700195,
          7.922192096710205,
          7.598252773284912,
          7.287039279937744,
          7.652005672454834,
          6.935081958770752,
          8.168641090393066,
          8.345123291015625,
          6.919929027557373,
          6.779179096221924,
          7.976686954498291,
          7.330212593078613,
          8.355514526367188,
          8.167275428771973,
          7.117408275604248,
          7.1918416023254395,
          7.362241744995117,
          8.160325050354004,
          6.9473772048950195,
          8.502799034118652,
          6.8493428230285645,
          8.546491622924805,
          8.546659469604492,
          6.813754558563232,
          7.324559211730957,
          7.141324043273926,
          7.682781219482422,
          7.058243751525879,
          6.635014533996582,
          6.824741363525391,
          7.137182712554932,
          8.44596004486084,
          7.844174861907959,
          6.551566123962402,
          7.890845775604248,
          6.674257755279541,
          6.81673002243042,
          8.687615394592285,
          7.434172630310059,
          7.1740922927856445,
          7.528906345367432,
          7.439993381500244,
          8.016307830810547,
          7.822294235229492,
          8.615934371948242,
          7.330738067626953
         ]
        },
        {
         "hovertemplate": "Condition=Hypo<br>UMAP1=%{x}<br>UMAP2=%{y}<br>UMAP3=%{z}<extra></extra>",
         "legendgroup": "Hypo",
         "marker": {
          "color": "#EF553B",
          "symbol": "circle"
         },
         "mode": "markers",
         "name": "Hypo",
         "scene": "scene",
         "showlegend": true,
         "type": "scatter3d",
         "x": [
          -0.6249571442604065,
          -0.3884931802749634,
          -0.9690353870391846,
          -1.0966564416885376,
          -0.9631715416908264,
          -0.6180559992790222,
          -0.7843260169029236,
          -1.3535224199295044,
          -1.1691794395446777,
          -0.1521754264831543,
          -0.798889696598053,
          -0.6536124348640442,
          -0.65120530128479,
          -0.10892311483621597,
          -1.5214595794677734,
          -0.8250325322151184,
          -1.3520792722702026,
          -1.4058419466018677,
          -1.435716986656189,
          -1.264949083328247,
          -1.2416791915893555,
          -0.5382214784622192,
          -0.6415770053863525,
          -0.25106850266456604,
          -1.1063895225524902,
          -1.1256107091903687,
          -1.812587857246399,
          -2.129415512084961,
          -1.3277697563171387,
          -0.12176775187253952,
          -1.4901115894317627,
          -0.5081217288970947,
          -1.556093454360962,
          -0.6686800122261047,
          -0.42226651310920715,
          0.11851437389850616,
          -1.3057416677474976,
          -1.3567719459533691,
          -1.0607260465621948,
          -0.2915082275867462,
          -1.2099342346191406,
          -0.8402114510536194,
          -1.5089240074157715,
          -2.2058465480804443,
          -1.7499892711639404,
          -1.1097277402877808,
          -1.8935422897338867,
          -1.4093255996704102,
          0.38859960436820984,
          -0.9750012755393982,
          -2.040567636489868,
          -1.3383969068527222,
          -1.3304237127304077,
          -0.9009727835655212,
          0.1690002828836441,
          -1.704292893409729,
          -1.195360541343689,
          -0.13044844567775726,
          -0.14057956635951996,
          -0.41443994641304016,
          -0.6648561358451843,
          -1.7448972463607788,
          -1.119805932044983,
          -0.048030514270067215,
          0.4862165153026581,
          -1.369127631187439,
          0.40597254037857056,
          -1.544803261756897,
          -1.1075809001922607,
          -2.037931442260742,
          -0.9507777690887451,
          -1.6630676984786987,
          -0.9742888808250427,
          -0.4355889856815338,
          -0.8161641359329224,
          -1.5462062358856201,
          -1.0792346000671387,
          -0.35597750544548035,
          -0.6903502941131592,
          -1.507622480392456,
          -2.0873546600341797,
          0.05017821118235588,
          -1.857308268547058,
          -1.8214205503463745,
          -1.2929269075393677,
          -1.1772480010986328,
          0.5856530666351318,
          -0.3219771087169647,
          -0.8045644760131836,
          -0.5322620272636414,
          -0.9264074563980103,
          -0.9373815059661865,
          0.1441522240638733,
          -1.2170859575271606,
          -1.3146717548370361,
          -0.7415499687194824,
          -0.21887902915477753
         ],
         "y": [
          5.048444747924805,
          4.798328399658203,
          4.4843668937683105,
          4.447984218597412,
          3.872859001159668,
          4.152553081512451,
          5.410917282104492,
          3.586452007293701,
          4.539839267730713,
          4.709146976470947,
          4.235722541809082,
          4.225805759429932,
          3.6118547916412354,
          4.207098484039307,
          3.646097421646118,
          4.915837287902832,
          4.318104267120361,
          3.1726608276367188,
          4.268487453460693,
          4.293129920959473,
          4.273988246917725,
          3.850099563598633,
          3.145878791809082,
          4.131711006164551,
          3.899146318435669,
          4.790173053741455,
          4.902957439422607,
          4.388514041900635,
          4.783685207366943,
          4.038483142852783,
          4.250024318695068,
          4.345331192016602,
          4.82271146774292,
          4.479855060577393,
          4.383532524108887,
          4.297703266143799,
          4.653730869293213,
          4.788470268249512,
          5.048443794250488,
          4.073707580566406,
          4.7299981117248535,
          5.428882598876953,
          4.55044412612915,
          4.105268478393555,
          3.889211416244507,
          5.53590202331543,
          4.29588508605957,
          4.704705238342285,
          3.844339609146118,
          3.4894187450408936,
          4.420451641082764,
          5.065402030944824,
          2.97145414352417,
          3.8580358028411865,
          4.303139686584473,
          4.189273834228516,
          5.346423149108887,
          4.199797630310059,
          3.615388870239258,
          4.9192633628845215,
          4.845224380493164,
          4.606478214263916,
          4.538763999938965,
          4.920040130615234,
          4.05436372756958,
          4.919656276702881,
          4.320357799530029,
          4.428353786468506,
          3.5402162075042725,
          4.775948524475098,
          4.562906742095947,
          3.7395126819610596,
          3.6996209621429443,
          5.115101337432861,
          3.873372793197632,
          5.066473484039307,
          5.0870795249938965,
          5.190497875213623,
          4.22777795791626,
          3.9764020442962646,
          4.840768814086914,
          4.626961708068848,
          3.061565637588501,
          4.8233747482299805,
          5.363986968994141,
          5.043313503265381,
          4.043715476989746,
          5.006188869476318,
          4.306756019592285,
          4.016121864318848,
          4.624521255493164,
          4.2255353927612305,
          4.586332321166992,
          5.371972560882568,
          4.152801036834717,
          5.460555553436279,
          3.9841392040252686
         ],
         "z": [
          8.032474517822266,
          8.340877532958984,
          8.341862678527832,
          8.775755882263184,
          7.9203410148620605,
          8.56640911102295,
          8.103309631347656,
          7.44405460357666,
          8.412013053894043,
          7.722236156463623,
          8.077644348144531,
          8.63294792175293,
          9.063165664672852,
          8.500406265258789,
          8.11973762512207,
          7.427493095397949,
          8.154163360595703,
          7.095714569091797,
          8.774393081665039,
          9.11533260345459,
          7.877584934234619,
          8.846719741821289,
          6.950926303863525,
          8.083836555480957,
          8.575241088867188,
          8.082192420959473,
          7.971842288970947,
          7.407270908355713,
          7.47501277923584,
          7.954535484313965,
          6.689024448394775,
          9.105412483215332,
          8.250112533569336,
          8.878179550170898,
          8.255468368530273,
          7.062158107757568,
          7.272955417633057,
          8.53403377532959,
          8.517948150634766,
          6.67269229888916,
          7.75806188583374,
          8.20095157623291,
          8.00137710571289,
          7.428896903991699,
          8.442416191101074,
          7.958578109741211,
          7.419409275054932,
          6.743897914886475,
          6.80720329284668,
          9.099364280700684,
          7.104121685028076,
          8.124622344970703,
          8.25008773803711,
          8.803888320922852,
          8.131155014038086,
          8.186141967773438,
          8.127537727355957,
          9.085030555725098,
          8.889153480529785,
          7.490668773651123,
          9.023093223571777,
          8.209053993225098,
          8.89560317993164,
          7.929032325744629,
          7.990316867828369,
          8.896724700927734,
          7.163693428039551,
          8.768715858459473,
          8.67970085144043,
          7.4483513832092285,
          9.199629783630371,
          8.803513526916504,
          9.214771270751953,
          8.680164337158203,
          9.231130599975586,
          7.584216594696045,
          7.312764644622803,
          8.597851753234863,
          6.99589204788208,
          9.10229778289795,
          7.403249263763428,
          8.573884010314941,
          7.412428855895996,
          8.648274421691895,
          8.271636009216309,
          9.033917427062988,
          7.623175144195557,
          8.03395938873291,
          9.510132789611816,
          9.081189155578613,
          7.252986431121826,
          9.280594825744629,
          7.586402416229248,
          8.567679405212402,
          9.528642654418945,
          8.220117568969727,
          9.316180229187012
         ]
        }
       ],
       "layout": {
        "legend": {
         "title": {
          "text": "Condition"
         },
         "tracegroupgap": 0
        },
        "scene": {
         "domain": {
          "x": [
           0,
           1
          ],
          "y": [
           0,
           1
          ]
         },
         "xaxis": {
          "title": {
           "text": "UMAP1"
          }
         },
         "yaxis": {
          "title": {
           "text": "UMAP2"
          }
         },
         "zaxis": {
          "title": {
           "text": "UMAP3"
          }
         }
        },
        "template": {
         "data": {
          "bar": [
           {
            "error_x": {
             "color": "#2a3f5f"
            },
            "error_y": {
             "color": "#2a3f5f"
            },
            "marker": {
             "line": {
              "color": "#E5ECF6",
              "width": 0.5
             },
             "pattern": {
              "fillmode": "overlay",
              "size": 10,
              "solidity": 0.2
             }
            },
            "type": "bar"
           }
          ],
          "barpolar": [
           {
            "marker": {
             "line": {
              "color": "#E5ECF6",
              "width": 0.5
             },
             "pattern": {
              "fillmode": "overlay",
              "size": 10,
              "solidity": 0.2
             }
            },
            "type": "barpolar"
           }
          ],
          "carpet": [
           {
            "aaxis": {
             "endlinecolor": "#2a3f5f",
             "gridcolor": "white",
             "linecolor": "white",
             "minorgridcolor": "white",
             "startlinecolor": "#2a3f5f"
            },
            "baxis": {
             "endlinecolor": "#2a3f5f",
             "gridcolor": "white",
             "linecolor": "white",
             "minorgridcolor": "white",
             "startlinecolor": "#2a3f5f"
            },
            "type": "carpet"
           }
          ],
          "choropleth": [
           {
            "colorbar": {
             "outlinewidth": 0,
             "ticks": ""
            },
            "type": "choropleth"
           }
          ],
          "contour": [
           {
            "colorbar": {
             "outlinewidth": 0,
             "ticks": ""
            },
            "colorscale": [
             [
              0,
              "#0d0887"
             ],
             [
              0.1111111111111111,
              "#46039f"
             ],
             [
              0.2222222222222222,
              "#7201a8"
             ],
             [
              0.3333333333333333,
              "#9c179e"
             ],
             [
              0.4444444444444444,
              "#bd3786"
             ],
             [
              0.5555555555555556,
              "#d8576b"
             ],
             [
              0.6666666666666666,
              "#ed7953"
             ],
             [
              0.7777777777777778,
              "#fb9f3a"
             ],
             [
              0.8888888888888888,
              "#fdca26"
             ],
             [
              1,
              "#f0f921"
             ]
            ],
            "type": "contour"
           }
          ],
          "contourcarpet": [
           {
            "colorbar": {
             "outlinewidth": 0,
             "ticks": ""
            },
            "type": "contourcarpet"
           }
          ],
          "heatmap": [
           {
            "colorbar": {
             "outlinewidth": 0,
             "ticks": ""
            },
            "colorscale": [
             [
              0,
              "#0d0887"
             ],
             [
              0.1111111111111111,
              "#46039f"
             ],
             [
              0.2222222222222222,
              "#7201a8"
             ],
             [
              0.3333333333333333,
              "#9c179e"
             ],
             [
              0.4444444444444444,
              "#bd3786"
             ],
             [
              0.5555555555555556,
              "#d8576b"
             ],
             [
              0.6666666666666666,
              "#ed7953"
             ],
             [
              0.7777777777777778,
              "#fb9f3a"
             ],
             [
              0.8888888888888888,
              "#fdca26"
             ],
             [
              1,
              "#f0f921"
             ]
            ],
            "type": "heatmap"
           }
          ],
          "heatmapgl": [
           {
            "colorbar": {
             "outlinewidth": 0,
             "ticks": ""
            },
            "colorscale": [
             [
              0,
              "#0d0887"
             ],
             [
              0.1111111111111111,
              "#46039f"
             ],
             [
              0.2222222222222222,
              "#7201a8"
             ],
             [
              0.3333333333333333,
              "#9c179e"
             ],
             [
              0.4444444444444444,
              "#bd3786"
             ],
             [
              0.5555555555555556,
              "#d8576b"
             ],
             [
              0.6666666666666666,
              "#ed7953"
             ],
             [
              0.7777777777777778,
              "#fb9f3a"
             ],
             [
              0.8888888888888888,
              "#fdca26"
             ],
             [
              1,
              "#f0f921"
             ]
            ],
            "type": "heatmapgl"
           }
          ],
          "histogram": [
           {
            "marker": {
             "pattern": {
              "fillmode": "overlay",
              "size": 10,
              "solidity": 0.2
             }
            },
            "type": "histogram"
           }
          ],
          "histogram2d": [
           {
            "colorbar": {
             "outlinewidth": 0,
             "ticks": ""
            },
            "colorscale": [
             [
              0,
              "#0d0887"
             ],
             [
              0.1111111111111111,
              "#46039f"
             ],
             [
              0.2222222222222222,
              "#7201a8"
             ],
             [
              0.3333333333333333,
              "#9c179e"
             ],
             [
              0.4444444444444444,
              "#bd3786"
             ],
             [
              0.5555555555555556,
              "#d8576b"
             ],
             [
              0.6666666666666666,
              "#ed7953"
             ],
             [
              0.7777777777777778,
              "#fb9f3a"
             ],
             [
              0.8888888888888888,
              "#fdca26"
             ],
             [
              1,
              "#f0f921"
             ]
            ],
            "type": "histogram2d"
           }
          ],
          "histogram2dcontour": [
           {
            "colorbar": {
             "outlinewidth": 0,
             "ticks": ""
            },
            "colorscale": [
             [
              0,
              "#0d0887"
             ],
             [
              0.1111111111111111,
              "#46039f"
             ],
             [
              0.2222222222222222,
              "#7201a8"
             ],
             [
              0.3333333333333333,
              "#9c179e"
             ],
             [
              0.4444444444444444,
              "#bd3786"
             ],
             [
              0.5555555555555556,
              "#d8576b"
             ],
             [
              0.6666666666666666,
              "#ed7953"
             ],
             [
              0.7777777777777778,
              "#fb9f3a"
             ],
             [
              0.8888888888888888,
              "#fdca26"
             ],
             [
              1,
              "#f0f921"
             ]
            ],
            "type": "histogram2dcontour"
           }
          ],
          "mesh3d": [
           {
            "colorbar": {
             "outlinewidth": 0,
             "ticks": ""
            },
            "type": "mesh3d"
           }
          ],
          "parcoords": [
           {
            "line": {
             "colorbar": {
              "outlinewidth": 0,
              "ticks": ""
             }
            },
            "type": "parcoords"
           }
          ],
          "pie": [
           {
            "automargin": true,
            "type": "pie"
           }
          ],
          "scatter": [
           {
            "fillpattern": {
             "fillmode": "overlay",
             "size": 10,
             "solidity": 0.2
            },
            "type": "scatter"
           }
          ],
          "scatter3d": [
           {
            "line": {
             "colorbar": {
              "outlinewidth": 0,
              "ticks": ""
             }
            },
            "marker": {
             "colorbar": {
              "outlinewidth": 0,
              "ticks": ""
             }
            },
            "type": "scatter3d"
           }
          ],
          "scattercarpet": [
           {
            "marker": {
             "colorbar": {
              "outlinewidth": 0,
              "ticks": ""
             }
            },
            "type": "scattercarpet"
           }
          ],
          "scattergeo": [
           {
            "marker": {
             "colorbar": {
              "outlinewidth": 0,
              "ticks": ""
             }
            },
            "type": "scattergeo"
           }
          ],
          "scattergl": [
           {
            "marker": {
             "colorbar": {
              "outlinewidth": 0,
              "ticks": ""
             }
            },
            "type": "scattergl"
           }
          ],
          "scattermapbox": [
           {
            "marker": {
             "colorbar": {
              "outlinewidth": 0,
              "ticks": ""
             }
            },
            "type": "scattermapbox"
           }
          ],
          "scatterpolar": [
           {
            "marker": {
             "colorbar": {
              "outlinewidth": 0,
              "ticks": ""
             }
            },
            "type": "scatterpolar"
           }
          ],
          "scatterpolargl": [
           {
            "marker": {
             "colorbar": {
              "outlinewidth": 0,
              "ticks": ""
             }
            },
            "type": "scatterpolargl"
           }
          ],
          "scatterternary": [
           {
            "marker": {
             "colorbar": {
              "outlinewidth": 0,
              "ticks": ""
             }
            },
            "type": "scatterternary"
           }
          ],
          "surface": [
           {
            "colorbar": {
             "outlinewidth": 0,
             "ticks": ""
            },
            "colorscale": [
             [
              0,
              "#0d0887"
             ],
             [
              0.1111111111111111,
              "#46039f"
             ],
             [
              0.2222222222222222,
              "#7201a8"
             ],
             [
              0.3333333333333333,
              "#9c179e"
             ],
             [
              0.4444444444444444,
              "#bd3786"
             ],
             [
              0.5555555555555556,
              "#d8576b"
             ],
             [
              0.6666666666666666,
              "#ed7953"
             ],
             [
              0.7777777777777778,
              "#fb9f3a"
             ],
             [
              0.8888888888888888,
              "#fdca26"
             ],
             [
              1,
              "#f0f921"
             ]
            ],
            "type": "surface"
           }
          ],
          "table": [
           {
            "cells": {
             "fill": {
              "color": "#EBF0F8"
             },
             "line": {
              "color": "white"
             }
            },
            "header": {
             "fill": {
              "color": "#C8D4E3"
             },
             "line": {
              "color": "white"
             }
            },
            "type": "table"
           }
          ]
         },
         "layout": {
          "annotationdefaults": {
           "arrowcolor": "#2a3f5f",
           "arrowhead": 0,
           "arrowwidth": 1
          },
          "autotypenumbers": "strict",
          "coloraxis": {
           "colorbar": {
            "outlinewidth": 0,
            "ticks": ""
           }
          },
          "colorscale": {
           "diverging": [
            [
             0,
             "#8e0152"
            ],
            [
             0.1,
             "#c51b7d"
            ],
            [
             0.2,
             "#de77ae"
            ],
            [
             0.3,
             "#f1b6da"
            ],
            [
             0.4,
             "#fde0ef"
            ],
            [
             0.5,
             "#f7f7f7"
            ],
            [
             0.6,
             "#e6f5d0"
            ],
            [
             0.7,
             "#b8e186"
            ],
            [
             0.8,
             "#7fbc41"
            ],
            [
             0.9,
             "#4d9221"
            ],
            [
             1,
             "#276419"
            ]
           ],
           "sequential": [
            [
             0,
             "#0d0887"
            ],
            [
             0.1111111111111111,
             "#46039f"
            ],
            [
             0.2222222222222222,
             "#7201a8"
            ],
            [
             0.3333333333333333,
             "#9c179e"
            ],
            [
             0.4444444444444444,
             "#bd3786"
            ],
            [
             0.5555555555555556,
             "#d8576b"
            ],
            [
             0.6666666666666666,
             "#ed7953"
            ],
            [
             0.7777777777777778,
             "#fb9f3a"
            ],
            [
             0.8888888888888888,
             "#fdca26"
            ],
            [
             1,
             "#f0f921"
            ]
           ],
           "sequentialminus": [
            [
             0,
             "#0d0887"
            ],
            [
             0.1111111111111111,
             "#46039f"
            ],
            [
             0.2222222222222222,
             "#7201a8"
            ],
            [
             0.3333333333333333,
             "#9c179e"
            ],
            [
             0.4444444444444444,
             "#bd3786"
            ],
            [
             0.5555555555555556,
             "#d8576b"
            ],
            [
             0.6666666666666666,
             "#ed7953"
            ],
            [
             0.7777777777777778,
             "#fb9f3a"
            ],
            [
             0.8888888888888888,
             "#fdca26"
            ],
            [
             1,
             "#f0f921"
            ]
           ]
          },
          "colorway": [
           "#636efa",
           "#EF553B",
           "#00cc96",
           "#ab63fa",
           "#FFA15A",
           "#19d3f3",
           "#FF6692",
           "#B6E880",
           "#FF97FF",
           "#FECB52"
          ],
          "font": {
           "color": "#2a3f5f"
          },
          "geo": {
           "bgcolor": "white",
           "lakecolor": "white",
           "landcolor": "#E5ECF6",
           "showlakes": true,
           "showland": true,
           "subunitcolor": "white"
          },
          "hoverlabel": {
           "align": "left"
          },
          "hovermode": "closest",
          "mapbox": {
           "style": "light"
          },
          "paper_bgcolor": "white",
          "plot_bgcolor": "#E5ECF6",
          "polar": {
           "angularaxis": {
            "gridcolor": "white",
            "linecolor": "white",
            "ticks": ""
           },
           "bgcolor": "#E5ECF6",
           "radialaxis": {
            "gridcolor": "white",
            "linecolor": "white",
            "ticks": ""
           }
          },
          "scene": {
           "xaxis": {
            "backgroundcolor": "#E5ECF6",
            "gridcolor": "white",
            "gridwidth": 2,
            "linecolor": "white",
            "showbackground": true,
            "ticks": "",
            "zerolinecolor": "white"
           },
           "yaxis": {
            "backgroundcolor": "#E5ECF6",
            "gridcolor": "white",
            "gridwidth": 2,
            "linecolor": "white",
            "showbackground": true,
            "ticks": "",
            "zerolinecolor": "white"
           },
           "zaxis": {
            "backgroundcolor": "#E5ECF6",
            "gridcolor": "white",
            "gridwidth": 2,
            "linecolor": "white",
            "showbackground": true,
            "ticks": "",
            "zerolinecolor": "white"
           }
          },
          "shapedefaults": {
           "line": {
            "color": "#2a3f5f"
           }
          },
          "ternary": {
           "aaxis": {
            "gridcolor": "white",
            "linecolor": "white",
            "ticks": ""
           },
           "baxis": {
            "gridcolor": "white",
            "linecolor": "white",
            "ticks": ""
           },
           "bgcolor": "#E5ECF6",
           "caxis": {
            "gridcolor": "white",
            "linecolor": "white",
            "ticks": ""
           }
          },
          "title": {
           "x": 0.05
          },
          "xaxis": {
           "automargin": true,
           "gridcolor": "white",
           "linecolor": "white",
           "ticks": "",
           "title": {
            "standoff": 15
           },
           "zerolinecolor": "white",
           "zerolinewidth": 2
          },
          "yaxis": {
           "automargin": true,
           "gridcolor": "white",
           "linecolor": "white",
           "ticks": "",
           "title": {
            "standoff": 15
           },
           "zerolinecolor": "white",
           "zerolinewidth": 2
          }
         }
        },
        "title": {
         "text": "3-dimensional representation of the data with UMAP, n_neighbors = 50"
        }
       }
      }
     },
     "metadata": {},
     "output_type": "display_data"
    },
    {
     "data": {
      "application/vnd.plotly.v1+json": {
       "config": {
        "plotlyServerURL": "https://plot.ly"
       },
       "data": [
        {
         "hovertemplate": "Condition=Normo<br>UMAP1=%{x}<br>UMAP2=%{y}<br>UMAP3=%{z}<extra></extra>",
         "legendgroup": "Normo",
         "marker": {
          "color": "#636efa",
          "symbol": "circle"
         },
         "mode": "markers",
         "name": "Normo",
         "scene": "scene",
         "showlegend": true,
         "type": "scatter3d",
         "x": [
          0.34256890416145325,
          0.874372124671936,
          0.44671711325645447,
          0.42002999782562256,
          0.15278932452201843,
          0.6544124484062195,
          -0.06046752259135246,
          0.17931921780109406,
          0.6241203546524048,
          0.8761731386184692,
          0.779674768447876,
          0.896592915058136,
          1.312371015548706,
          0.6335055232048035,
          0.3887205421924591,
          1.252485990524292,
          0.7566081881523132,
          1.0024125576019287,
          0.09408685564994812,
          0.04343918338418007,
          0.4114643335342407,
          0.6228793859481812,
          1.0124239921569824,
          1.0789594650268555,
          -0.35358116030693054,
          0.14109234511852264,
          1.2461268901824951,
          0.38810086250305176,
          0.2813182771205902,
          0.28876441717147827,
          0.5287256240844727,
          0.5889158844947815,
          1.1304354667663574,
          0.3890083432197571,
          0.2957538068294525,
          0.22438013553619385,
          1.0591397285461426,
          1.1080654859542847,
          0.3039909601211548,
          0.7052414417266846,
          0.9122226238250732,
          0.17743587493896484,
          0.395450621843338,
          0.5328841805458069,
          0.8402755260467529,
          0.07698498666286469,
          0.7850633263587952,
          0.2121453732252121,
          0.46738943457603455,
          0.5499037504196167,
          0.9689067006111145,
          0.6792094111442566,
          0.5625559687614441,
          0.38258156180381775,
          1.3718397617340088,
          0.2074962705373764,
          0.5851138830184937,
          0.32733502984046936,
          0.24555236101150513,
          1.3317883014678955,
          0.5096104145050049,
          0.20528429746627808,
          0.8037620782852173,
          0.832807183265686,
          0.4857839047908783,
          1.0250523090362549,
          1.1675314903259277,
          0.8315632939338684,
          0.9260078072547913,
          1.37283194065094,
          -0.05891430750489235,
          1.156864047050476,
          1.1185023784637451,
          0.6222792267799377,
          1.395919680595398,
          0.14871017634868622,
          -0.2628895044326782,
          1.3280844688415527,
          1.5444157123565674,
          0.8584639430046082,
          -0.07606164366006851,
          0.6887447237968445,
          0.32002803683280945,
          -0.342865526676178,
          1.2448698282241821
         ],
         "y": [
          8.190539360046387,
          9.32585620880127,
          8.448222160339355,
          8.306596755981445,
          8.620831489562988,
          9.126391410827637,
          8.346261978149414,
          8.770271301269531,
          9.1123046875,
          8.537951469421387,
          8.04991340637207,
          9.091955184936523,
          8.495955467224121,
          7.905029773712158,
          7.864202976226807,
          8.416009902954102,
          7.867441654205322,
          9.6034574508667,
          8.927167892456055,
          9.279133796691895,
          7.503225803375244,
          8.243341445922852,
          9.054533004760742,
          7.917195796966553,
          7.63037633895874,
          8.447768211364746,
          9.163351058959961,
          8.414432525634766,
          9.917489051818848,
          7.709412097930908,
          7.99692440032959,
          9.020238876342773,
          8.361173629760742,
          8.945674896240234,
          7.820758819580078,
          8.54269027709961,
          8.803125381469727,
          8.222780227661133,
          9.329477310180664,
          7.6151323318481445,
          7.785218238830566,
          7.63515043258667,
          7.8542399406433105,
          8.628758430480957,
          8.024064064025879,
          8.684286117553711,
          8.222391128540039,
          9.311407089233398,
          7.905179023742676,
          8.960824012756348,
          7.745306015014648,
          7.432920455932617,
          8.529297828674316,
          9.960427284240723,
          8.076486587524414,
          8.501989364624023,
          7.631628513336182,
          9.34386157989502,
          7.237355709075928,
          8.42248249053955,
          7.97450065612793,
          7.779062271118164,
          9.792302131652832,
          7.555103302001953,
          9.848702430725098,
          8.824797630310059,
          9.593653678894043,
          9.491340637207031,
          9.729028701782227,
          8.148458480834961,
          8.114043235778809,
          8.707226753234863,
          8.798088073730469,
          7.429288387298584,
          9.111165046691895,
          9.827699661254883,
          7.4195709228515625,
          9.096388816833496,
          8.926971435546875,
          9.771260261535645,
          8.219185829162598,
          8.210299491882324,
          7.207151889801025,
          8.397404670715332,
          9.001063346862793
         ],
         "z": [
          3.236423969268799,
          3.1276118755340576,
          2.696625232696533,
          2.654620409011841,
          3.7647945880889893,
          3.0036978721618652,
          2.1739373207092285,
          2.821580648422241,
          2.8177618980407715,
          3.3710122108459473,
          3.660264015197754,
          2.7111027240753174,
          2.6681630611419678,
          3.2782037258148193,
          2.882760524749756,
          2.6884214878082275,
          2.314582586288452,
          2.867183208465576,
          3.36065936088562,
          2.6467843055725098,
          3.264801025390625,
          4.161833763122559,
          3.4998795986175537,
          2.803285598754883,
          2.305171251296997,
          1.9926437139511108,
          3.1508913040161133,
          3.7449724674224854,
          2.314552068710327,
          2.1918394565582275,
          2.4205644130706787,
          2.2718324661254883,
          3.7590808868408203,
          2.595395565032959,
          2.477092742919922,
          1.6547760963439941,
          3.2380290031433105,
          3.7268075942993164,
          3.2611348628997803,
          3.7811074256896973,
          2.4040701389312744,
          2.8400096893310547,
          3.946950912475586,
          2.5639407634735107,
          4.073100566864014,
          2.1071536540985107,
          2.515028238296509,
          3.5473852157592773,
          4.073000907897949,
          1.7767425775527954,
          3.612868309020996,
          2.678903341293335,
          2.324612855911255,
          2.5240132808685303,
          3.412956476211548,
          3.20009446144104,
          3.0826311111450195,
          2.199812173843384,
          2.2736783027648926,
          3.820358991622925,
          1.9464025497436523,
          2.267979145050049,
          3.3319203853607178,
          3.2639389038085938,
          3.3026952743530273,
          3.332925319671631,
          3.050396680831909,
          2.438692331314087,
          3.3581607341766357,
          2.9615612030029297,
          1.7016990184783936,
          2.3898682594299316,
          3.8787474632263184,
          2.4689249992370605,
          3.6216318607330322,
          3.574662923812866,
          2.681946039199829,
          2.635833263397217,
          2.851457357406616,
          2.7527573108673096,
          3.598759651184082,
          1.9117350578308105,
          3.197685480117798,
          3.7791833877563477,
          2.3726651668548584
         ]
        },
        {
         "hovertemplate": "Condition=Hypo<br>UMAP1=%{x}<br>UMAP2=%{y}<br>UMAP3=%{z}<extra></extra>",
         "legendgroup": "Hypo",
         "marker": {
          "color": "#EF553B",
          "symbol": "circle"
         },
         "mode": "markers",
         "name": "Hypo",
         "scene": "scene",
         "showlegend": true,
         "type": "scatter3d",
         "x": [
          -0.8100560903549194,
          -0.9182268381118774,
          -0.5189745426177979,
          -0.47809991240501404,
          -0.39429327845573425,
          -1.0403169393539429,
          -0.6769059300422668,
          0.44662266969680786,
          -0.8767776489257812,
          -0.3825438618659973,
          -0.31984391808509827,
          -0.8792163133621216,
          -1.046889305114746,
          -0.19980596005916595,
          -0.4638192355632782,
          -0.2857106029987335,
          -0.6941931247711182,
          1.2038682699203491,
          -0.7252669334411621,
          -0.4221958518028259,
          -0.4156881272792816,
          -0.5944662690162659,
          0.8443397283554077,
          -0.0790494829416275,
          -0.5837819576263428,
          -0.7874975800514221,
          -0.6640523672103882,
          0.32592666149139404,
          -0.06838826835155487,
          0.22919651865959167,
          0.587168276309967,
          -0.9486965537071228,
          -0.9402226209640503,
          -1.5078459978103638,
          -0.47229501605033875,
          0.239623561501503,
          -0.49360963702201843,
          -1.1313719749450684,
          -1.0155473947525024,
          0.4234355092048645,
          -0.6636642217636108,
          -1.1811531782150269,
          -0.40358296036720276,
          0.06411895900964737,
          -0.803047776222229,
          -1.0611462593078613,
          -0.052686531096696854,
          0.19979560375213623,
          0.7827239036560059,
          -0.8905870318412781,
          0.26476213335990906,
          -1.2769443988800049,
          0.49120190739631653,
          -0.475982666015625,
          -0.37374013662338257,
          -0.3152199387550354,
          -1.193095088005066,
          -0.7682116627693176,
          -0.10978247225284576,
          -0.6557931900024414,
          -1.080095887184143,
          -1.3106368780136108,
          -1.3453350067138672,
          -0.7264947891235352,
          -0.17770805954933167,
          -1.4603984355926514,
          0.4271135926246643,
          -1.2791109085083008,
          -0.49693673849105835,
          -0.41305825114250183,
          -1.5117403268814087,
          -1.0777654647827148,
          -0.9010897874832153,
          -1.0666228532791138,
          -0.4128076732158661,
          -0.7123710513114929,
          -0.1780630201101303,
          -0.8657340407371521,
          0.06885162740945816,
          -1.1386737823486328,
          -0.25145310163497925,
          -0.5660280585289001,
          1.2978260517120361,
          -0.33593857288360596,
          -1.3222073316574097,
          -1.4730744361877441,
          0.0238322950899601,
          -1.5431594848632812,
          -0.9486682415008545,
          -0.78358393907547,
          -0.31423377990722656,
          -1.4825221300125122,
          -0.15265053510665894,
          -1.4240275621414185,
          -1.4841665029525757,
          -1.3973621129989624,
          -0.8246212601661682
         ],
         "y": [
          8.919724464416504,
          8.43861198425293,
          8.752655982971191,
          9.01760482788086,
          8.727384567260742,
          8.442830085754395,
          9.051424026489258,
          9.453103065490723,
          8.837882995605469,
          8.679932594299316,
          8.263875961303711,
          8.157852172851562,
          8.166893005371094,
          8.386127471923828,
          9.01726245880127,
          9.135578155517578,
          8.512134552001953,
          8.867006301879883,
          8.013802528381348,
          8.461843490600586,
          9.03540325164795,
          8.197572708129883,
          8.221417427062988,
          7.958664417266846,
          7.70422887802124,
          8.9685697555542,
          8.554779052734375,
          9.837682723999023,
          9.686175346374512,
          7.9306321144104,
          9.64148235321045,
          8.439573287963867,
          9.155917167663574,
          8.29517650604248,
          8.176794052124023,
          8.481651306152344,
          9.579981803894043,
          8.918827056884766,
          8.803287506103516,
          8.8714599609375,
          9.559432029724121,
          9.083688735961914,
          9.165428161621094,
          9.777974128723145,
          8.096508026123047,
          9.363208770751953,
          9.857385635375977,
          9.516810417175293,
          8.49421501159668,
          8.070477485656738,
          9.626531600952148,
          8.933432579040527,
          8.843740463256836,
          8.12783145904541,
          7.4290924072265625,
          8.757203102111816,
          9.374211311340332,
          7.827930450439453,
          7.960756301879883,
          9.398845672607422,
          7.926487445831299,
          8.381173133850098,
          8.066370964050293,
          9.005566596984863,
          7.6739583015441895,
          8.711005210876465,
          8.262557983398438,
          8.64488410949707,
          8.163130760192871,
          9.849142074584961,
          7.924254417419434,
          7.736010551452637,
          7.93073034286499,
          7.6080474853515625,
          7.8864312171936035,
          9.708784103393555,
          9.527078628540039,
          8.269028663635254,
          8.763501167297363,
          8.053023338317871,
          9.892327308654785,
          7.655808925628662,
          9.445063591003418,
          9.149100303649902,
          9.521435737609863,
          9.052619934082031,
          7.375463485717773,
          8.54718017578125,
          8.848946571350098,
          8.306650161743164,
          8.980929374694824,
          8.353066444396973,
          8.190669059753418,
          9.130119323730469,
          7.893362522125244,
          9.25461196899414,
          7.489783763885498
         ],
         "z": [
          3.4385411739349365,
          3.471975803375244,
          2.4297890663146973,
          3.138707160949707,
          3.0024912357330322,
          2.747431516647339,
          2.8085882663726807,
          3.0616610050201416,
          2.358875274658203,
          4.045776844024658,
          2.842292308807373,
          2.857419967651367,
          2.36333966255188,
          2.981125593185425,
          2.130896806716919,
          3.414421319961548,
          3.3125133514404297,
          2.9110219478607178,
          3.5651724338531494,
          2.522948741912842,
          2.376424789428711,
          2.4087674617767334,
          3.427295684814453,
          3.5932457447052,
          3.0436863899230957,
          2.8905818462371826,
          3.501584768295288,
          2.4825644493103027,
          3.146777391433716,
          3.4379138946533203,
          3.7611312866210938,
          2.3137173652648926,
          2.629228115081787,
          2.6496920585632324,
          3.314073085784912,
          4.163183212280273,
          2.7346787452697754,
          3.14406681060791,
          3.398308515548706,
          4.083223819732666,
          3.070394515991211,
          3.6674766540527344,
          3.8019497394561768,
          2.4561896324157715,
          3.023132085800171,
          3.3861470222473145,
          2.741656541824341,
          3.9372453689575195,
          4.160156726837158,
          1.8198825120925903,
          2.2854158878326416,
          2.977993965148926,
          1.8697565793991089,
          2.0542502403259277,
          3.342515230178833,
          3.576202630996704,
          2.7036497592926025,
          2.181791067123413,
          2.165046215057373,
          3.3565404415130615,
          3.122460126876831,
          3.4020049571990967,
          3.5254712104797363,
          3.9704670906066895,
          3.133241891860962,
          2.9181671142578125,
          4.080207347869873,
          2.5023529529571533,
          3.911228895187378,
          2.439646005630493,
          2.99994158744812,
          2.707352876663208,
          2.242302179336548,
          3.4575374126434326,
          1.7698777914047241,
          3.2477834224700928,
          3.5904598236083984,
          4.021681785583496,
          3.2038168907165527,
          1.9850623607635498,
          2.252591848373413,
          3.7559003829956055,
          2.6521048545837402,
          4.117819786071777,
          3.025866746902466,
          3.1122500896453857,
          3.7786154747009277,
          3.332759141921997,
          1.9963207244873047,
          2.0528295040130615,
          1.7734068632125854,
          2.260890245437622,
          4.252948760986328,
          2.5330824851989746,
          2.469346523284912,
          3.5320961475372314,
          2.6009485721588135
         ]
        }
       ],
       "layout": {
        "legend": {
         "title": {
          "text": "Condition"
         },
         "tracegroupgap": 0
        },
        "scene": {
         "domain": {
          "x": [
           0,
           1
          ],
          "y": [
           0,
           1
          ]
         },
         "xaxis": {
          "title": {
           "text": "UMAP1"
          }
         },
         "yaxis": {
          "title": {
           "text": "UMAP2"
          }
         },
         "zaxis": {
          "title": {
           "text": "UMAP3"
          }
         }
        },
        "template": {
         "data": {
          "bar": [
           {
            "error_x": {
             "color": "#2a3f5f"
            },
            "error_y": {
             "color": "#2a3f5f"
            },
            "marker": {
             "line": {
              "color": "#E5ECF6",
              "width": 0.5
             },
             "pattern": {
              "fillmode": "overlay",
              "size": 10,
              "solidity": 0.2
             }
            },
            "type": "bar"
           }
          ],
          "barpolar": [
           {
            "marker": {
             "line": {
              "color": "#E5ECF6",
              "width": 0.5
             },
             "pattern": {
              "fillmode": "overlay",
              "size": 10,
              "solidity": 0.2
             }
            },
            "type": "barpolar"
           }
          ],
          "carpet": [
           {
            "aaxis": {
             "endlinecolor": "#2a3f5f",
             "gridcolor": "white",
             "linecolor": "white",
             "minorgridcolor": "white",
             "startlinecolor": "#2a3f5f"
            },
            "baxis": {
             "endlinecolor": "#2a3f5f",
             "gridcolor": "white",
             "linecolor": "white",
             "minorgridcolor": "white",
             "startlinecolor": "#2a3f5f"
            },
            "type": "carpet"
           }
          ],
          "choropleth": [
           {
            "colorbar": {
             "outlinewidth": 0,
             "ticks": ""
            },
            "type": "choropleth"
           }
          ],
          "contour": [
           {
            "colorbar": {
             "outlinewidth": 0,
             "ticks": ""
            },
            "colorscale": [
             [
              0,
              "#0d0887"
             ],
             [
              0.1111111111111111,
              "#46039f"
             ],
             [
              0.2222222222222222,
              "#7201a8"
             ],
             [
              0.3333333333333333,
              "#9c179e"
             ],
             [
              0.4444444444444444,
              "#bd3786"
             ],
             [
              0.5555555555555556,
              "#d8576b"
             ],
             [
              0.6666666666666666,
              "#ed7953"
             ],
             [
              0.7777777777777778,
              "#fb9f3a"
             ],
             [
              0.8888888888888888,
              "#fdca26"
             ],
             [
              1,
              "#f0f921"
             ]
            ],
            "type": "contour"
           }
          ],
          "contourcarpet": [
           {
            "colorbar": {
             "outlinewidth": 0,
             "ticks": ""
            },
            "type": "contourcarpet"
           }
          ],
          "heatmap": [
           {
            "colorbar": {
             "outlinewidth": 0,
             "ticks": ""
            },
            "colorscale": [
             [
              0,
              "#0d0887"
             ],
             [
              0.1111111111111111,
              "#46039f"
             ],
             [
              0.2222222222222222,
              "#7201a8"
             ],
             [
              0.3333333333333333,
              "#9c179e"
             ],
             [
              0.4444444444444444,
              "#bd3786"
             ],
             [
              0.5555555555555556,
              "#d8576b"
             ],
             [
              0.6666666666666666,
              "#ed7953"
             ],
             [
              0.7777777777777778,
              "#fb9f3a"
             ],
             [
              0.8888888888888888,
              "#fdca26"
             ],
             [
              1,
              "#f0f921"
             ]
            ],
            "type": "heatmap"
           }
          ],
          "heatmapgl": [
           {
            "colorbar": {
             "outlinewidth": 0,
             "ticks": ""
            },
            "colorscale": [
             [
              0,
              "#0d0887"
             ],
             [
              0.1111111111111111,
              "#46039f"
             ],
             [
              0.2222222222222222,
              "#7201a8"
             ],
             [
              0.3333333333333333,
              "#9c179e"
             ],
             [
              0.4444444444444444,
              "#bd3786"
             ],
             [
              0.5555555555555556,
              "#d8576b"
             ],
             [
              0.6666666666666666,
              "#ed7953"
             ],
             [
              0.7777777777777778,
              "#fb9f3a"
             ],
             [
              0.8888888888888888,
              "#fdca26"
             ],
             [
              1,
              "#f0f921"
             ]
            ],
            "type": "heatmapgl"
           }
          ],
          "histogram": [
           {
            "marker": {
             "pattern": {
              "fillmode": "overlay",
              "size": 10,
              "solidity": 0.2
             }
            },
            "type": "histogram"
           }
          ],
          "histogram2d": [
           {
            "colorbar": {
             "outlinewidth": 0,
             "ticks": ""
            },
            "colorscale": [
             [
              0,
              "#0d0887"
             ],
             [
              0.1111111111111111,
              "#46039f"
             ],
             [
              0.2222222222222222,
              "#7201a8"
             ],
             [
              0.3333333333333333,
              "#9c179e"
             ],
             [
              0.4444444444444444,
              "#bd3786"
             ],
             [
              0.5555555555555556,
              "#d8576b"
             ],
             [
              0.6666666666666666,
              "#ed7953"
             ],
             [
              0.7777777777777778,
              "#fb9f3a"
             ],
             [
              0.8888888888888888,
              "#fdca26"
             ],
             [
              1,
              "#f0f921"
             ]
            ],
            "type": "histogram2d"
           }
          ],
          "histogram2dcontour": [
           {
            "colorbar": {
             "outlinewidth": 0,
             "ticks": ""
            },
            "colorscale": [
             [
              0,
              "#0d0887"
             ],
             [
              0.1111111111111111,
              "#46039f"
             ],
             [
              0.2222222222222222,
              "#7201a8"
             ],
             [
              0.3333333333333333,
              "#9c179e"
             ],
             [
              0.4444444444444444,
              "#bd3786"
             ],
             [
              0.5555555555555556,
              "#d8576b"
             ],
             [
              0.6666666666666666,
              "#ed7953"
             ],
             [
              0.7777777777777778,
              "#fb9f3a"
             ],
             [
              0.8888888888888888,
              "#fdca26"
             ],
             [
              1,
              "#f0f921"
             ]
            ],
            "type": "histogram2dcontour"
           }
          ],
          "mesh3d": [
           {
            "colorbar": {
             "outlinewidth": 0,
             "ticks": ""
            },
            "type": "mesh3d"
           }
          ],
          "parcoords": [
           {
            "line": {
             "colorbar": {
              "outlinewidth": 0,
              "ticks": ""
             }
            },
            "type": "parcoords"
           }
          ],
          "pie": [
           {
            "automargin": true,
            "type": "pie"
           }
          ],
          "scatter": [
           {
            "fillpattern": {
             "fillmode": "overlay",
             "size": 10,
             "solidity": 0.2
            },
            "type": "scatter"
           }
          ],
          "scatter3d": [
           {
            "line": {
             "colorbar": {
              "outlinewidth": 0,
              "ticks": ""
             }
            },
            "marker": {
             "colorbar": {
              "outlinewidth": 0,
              "ticks": ""
             }
            },
            "type": "scatter3d"
           }
          ],
          "scattercarpet": [
           {
            "marker": {
             "colorbar": {
              "outlinewidth": 0,
              "ticks": ""
             }
            },
            "type": "scattercarpet"
           }
          ],
          "scattergeo": [
           {
            "marker": {
             "colorbar": {
              "outlinewidth": 0,
              "ticks": ""
             }
            },
            "type": "scattergeo"
           }
          ],
          "scattergl": [
           {
            "marker": {
             "colorbar": {
              "outlinewidth": 0,
              "ticks": ""
             }
            },
            "type": "scattergl"
           }
          ],
          "scattermapbox": [
           {
            "marker": {
             "colorbar": {
              "outlinewidth": 0,
              "ticks": ""
             }
            },
            "type": "scattermapbox"
           }
          ],
          "scatterpolar": [
           {
            "marker": {
             "colorbar": {
              "outlinewidth": 0,
              "ticks": ""
             }
            },
            "type": "scatterpolar"
           }
          ],
          "scatterpolargl": [
           {
            "marker": {
             "colorbar": {
              "outlinewidth": 0,
              "ticks": ""
             }
            },
            "type": "scatterpolargl"
           }
          ],
          "scatterternary": [
           {
            "marker": {
             "colorbar": {
              "outlinewidth": 0,
              "ticks": ""
             }
            },
            "type": "scatterternary"
           }
          ],
          "surface": [
           {
            "colorbar": {
             "outlinewidth": 0,
             "ticks": ""
            },
            "colorscale": [
             [
              0,
              "#0d0887"
             ],
             [
              0.1111111111111111,
              "#46039f"
             ],
             [
              0.2222222222222222,
              "#7201a8"
             ],
             [
              0.3333333333333333,
              "#9c179e"
             ],
             [
              0.4444444444444444,
              "#bd3786"
             ],
             [
              0.5555555555555556,
              "#d8576b"
             ],
             [
              0.6666666666666666,
              "#ed7953"
             ],
             [
              0.7777777777777778,
              "#fb9f3a"
             ],
             [
              0.8888888888888888,
              "#fdca26"
             ],
             [
              1,
              "#f0f921"
             ]
            ],
            "type": "surface"
           }
          ],
          "table": [
           {
            "cells": {
             "fill": {
              "color": "#EBF0F8"
             },
             "line": {
              "color": "white"
             }
            },
            "header": {
             "fill": {
              "color": "#C8D4E3"
             },
             "line": {
              "color": "white"
             }
            },
            "type": "table"
           }
          ]
         },
         "layout": {
          "annotationdefaults": {
           "arrowcolor": "#2a3f5f",
           "arrowhead": 0,
           "arrowwidth": 1
          },
          "autotypenumbers": "strict",
          "coloraxis": {
           "colorbar": {
            "outlinewidth": 0,
            "ticks": ""
           }
          },
          "colorscale": {
           "diverging": [
            [
             0,
             "#8e0152"
            ],
            [
             0.1,
             "#c51b7d"
            ],
            [
             0.2,
             "#de77ae"
            ],
            [
             0.3,
             "#f1b6da"
            ],
            [
             0.4,
             "#fde0ef"
            ],
            [
             0.5,
             "#f7f7f7"
            ],
            [
             0.6,
             "#e6f5d0"
            ],
            [
             0.7,
             "#b8e186"
            ],
            [
             0.8,
             "#7fbc41"
            ],
            [
             0.9,
             "#4d9221"
            ],
            [
             1,
             "#276419"
            ]
           ],
           "sequential": [
            [
             0,
             "#0d0887"
            ],
            [
             0.1111111111111111,
             "#46039f"
            ],
            [
             0.2222222222222222,
             "#7201a8"
            ],
            [
             0.3333333333333333,
             "#9c179e"
            ],
            [
             0.4444444444444444,
             "#bd3786"
            ],
            [
             0.5555555555555556,
             "#d8576b"
            ],
            [
             0.6666666666666666,
             "#ed7953"
            ],
            [
             0.7777777777777778,
             "#fb9f3a"
            ],
            [
             0.8888888888888888,
             "#fdca26"
            ],
            [
             1,
             "#f0f921"
            ]
           ],
           "sequentialminus": [
            [
             0,
             "#0d0887"
            ],
            [
             0.1111111111111111,
             "#46039f"
            ],
            [
             0.2222222222222222,
             "#7201a8"
            ],
            [
             0.3333333333333333,
             "#9c179e"
            ],
            [
             0.4444444444444444,
             "#bd3786"
            ],
            [
             0.5555555555555556,
             "#d8576b"
            ],
            [
             0.6666666666666666,
             "#ed7953"
            ],
            [
             0.7777777777777778,
             "#fb9f3a"
            ],
            [
             0.8888888888888888,
             "#fdca26"
            ],
            [
             1,
             "#f0f921"
            ]
           ]
          },
          "colorway": [
           "#636efa",
           "#EF553B",
           "#00cc96",
           "#ab63fa",
           "#FFA15A",
           "#19d3f3",
           "#FF6692",
           "#B6E880",
           "#FF97FF",
           "#FECB52"
          ],
          "font": {
           "color": "#2a3f5f"
          },
          "geo": {
           "bgcolor": "white",
           "lakecolor": "white",
           "landcolor": "#E5ECF6",
           "showlakes": true,
           "showland": true,
           "subunitcolor": "white"
          },
          "hoverlabel": {
           "align": "left"
          },
          "hovermode": "closest",
          "mapbox": {
           "style": "light"
          },
          "paper_bgcolor": "white",
          "plot_bgcolor": "#E5ECF6",
          "polar": {
           "angularaxis": {
            "gridcolor": "white",
            "linecolor": "white",
            "ticks": ""
           },
           "bgcolor": "#E5ECF6",
           "radialaxis": {
            "gridcolor": "white",
            "linecolor": "white",
            "ticks": ""
           }
          },
          "scene": {
           "xaxis": {
            "backgroundcolor": "#E5ECF6",
            "gridcolor": "white",
            "gridwidth": 2,
            "linecolor": "white",
            "showbackground": true,
            "ticks": "",
            "zerolinecolor": "white"
           },
           "yaxis": {
            "backgroundcolor": "#E5ECF6",
            "gridcolor": "white",
            "gridwidth": 2,
            "linecolor": "white",
            "showbackground": true,
            "ticks": "",
            "zerolinecolor": "white"
           },
           "zaxis": {
            "backgroundcolor": "#E5ECF6",
            "gridcolor": "white",
            "gridwidth": 2,
            "linecolor": "white",
            "showbackground": true,
            "ticks": "",
            "zerolinecolor": "white"
           }
          },
          "shapedefaults": {
           "line": {
            "color": "#2a3f5f"
           }
          },
          "ternary": {
           "aaxis": {
            "gridcolor": "white",
            "linecolor": "white",
            "ticks": ""
           },
           "baxis": {
            "gridcolor": "white",
            "linecolor": "white",
            "ticks": ""
           },
           "bgcolor": "#E5ECF6",
           "caxis": {
            "gridcolor": "white",
            "linecolor": "white",
            "ticks": ""
           }
          },
          "title": {
           "x": 0.05
          },
          "xaxis": {
           "automargin": true,
           "gridcolor": "white",
           "linecolor": "white",
           "ticks": "",
           "title": {
            "standoff": 15
           },
           "zerolinecolor": "white",
           "zerolinewidth": 2
          },
          "yaxis": {
           "automargin": true,
           "gridcolor": "white",
           "linecolor": "white",
           "ticks": "",
           "title": {
            "standoff": 15
           },
           "zerolinecolor": "white",
           "zerolinewidth": 2
          }
         }
        },
        "title": {
         "text": "3-dimensional representation of the data with UMAP, n_neighbors = 181"
        }
       }
      }
     },
     "metadata": {},
     "output_type": "display_data"
    }
   ],
   "source": [
    "import umap.umap_ as umap\n",
    "\n",
    "n_neighbors_list = [2, 10, 50, df_dim_red.shape[0]-1]\n",
    "\n",
    "umap_dict = {}\n",
    "for n in n_neighbors_list:\n",
    "    reducer = umap.UMAP(n_components=3, n_neighbors=n)\n",
    "    embedding = reducer.fit_transform(df_dim_red)\n",
    "    columns = [f'UMAP{i+1}' for i in range(embedding.shape[1])]\n",
    "    umap_embedding_df = pd.DataFrame(embedding, columns=columns, index=df_dim_red.index)\n",
    "    merged_umap = pd.merge(umap_embedding_df, df_metaH['Condition'], left_index=True, right_index=True)\n",
    "    merged_umap['n_neighbors'] = [n]*df_dim_red.shape[0]\n",
    "    umap_dict[n] = merged_umap\n",
    "    \n",
    "    fig = px.scatter_3d(\n",
    "    data_frame = merged_umap,\n",
    "    x = \"UMAP1\",\n",
    "    y = \"UMAP2\",\n",
    "    z = \"UMAP3\",\n",
    "    title=f\"3-dimensional representation of the data with UMAP, n_neighbors = {n}\",\n",
    "    color = \"Condition\"\n",
    "    )\n",
    "    fig.show()"
   ]
  }
 ],
 "metadata": {
  "kernelspec": {
   "display_name": "base",
   "language": "python",
   "name": "python3"
  },
  "language_info": {
   "codemirror_mode": {
    "name": "ipython",
    "version": 3
   },
   "file_extension": ".py",
   "mimetype": "text/x-python",
   "name": "python",
   "nbconvert_exporter": "python",
   "pygments_lexer": "ipython3",
   "version": "3.11.0"
  },
  "vscode": {
   "interpreter": {
    "hash": "7f217336c97d15ce4a94207d0500046615b0bc55fbf2d342e9c35c59defb6831"
   }
  }
 },
 "nbformat": 4,
 "nbformat_minor": 2
}
