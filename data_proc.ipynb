{
 "cells": [
  {
   "attachments": {},
   "cell_type": "markdown",
   "metadata": {},
   "source": [
    "# AI LAB 2024\n",
    "\n",
    "## Introduction\n",
    "\n",
    "## Materials and Methods\n",
    "\n",
    "## Libraries"
   ]
  },
  {
   "cell_type": "code",
   "execution_count": 2,
   "metadata": {},
   "outputs": [
    {
     "name": "stdout",
     "output_type": "stream",
     "text": [
      "Requirement already satisfied: scikit-learn in c:\\users\\giuseppe iannone\\anaconda3\\lib\\site-packages (1.0.2)\n",
      "Requirement already satisfied: scipy>=1.1.0 in c:\\users\\giuseppe iannone\\anaconda3\\lib\\site-packages (from scikit-learn) (1.9.1)\n",
      "Requirement already satisfied: joblib>=0.11 in c:\\users\\giuseppe iannone\\anaconda3\\lib\\site-packages (from scikit-learn) (1.1.0)\n",
      "Requirement already satisfied: numpy>=1.14.6 in c:\\users\\giuseppe iannone\\anaconda3\\lib\\site-packages (from scikit-learn) (1.19.3)\n",
      "Requirement already satisfied: threadpoolctl>=2.0.0 in c:\\users\\giuseppe iannone\\anaconda3\\lib\\site-packages (from scikit-learn) (2.2.0)\n",
      "Requirement already satisfied: pandas in c:\\users\\giuseppe iannone\\anaconda3\\lib\\site-packages (1.4.4)\n",
      "Requirement already satisfied: pytz>=2020.1 in c:\\users\\giuseppe iannone\\anaconda3\\lib\\site-packages (from pandas) (2022.1)\n",
      "Requirement already satisfied: python-dateutil>=2.8.1 in c:\\users\\giuseppe iannone\\anaconda3\\lib\\site-packages (from pandas) (2.8.2)\n",
      "Requirement already satisfied: numpy>=1.18.5 in c:\\users\\giuseppe iannone\\anaconda3\\lib\\site-packages (from pandas) (1.19.3)\n",
      "Requirement already satisfied: six>=1.5 in c:\\users\\giuseppe iannone\\anaconda3\\lib\\site-packages (from python-dateutil>=2.8.1->pandas) (1.16.0)\n",
      "Collecting numpy==1.19.5\n",
      "  Downloading numpy-1.19.5-cp39-cp39-win_amd64.whl (13.3 MB)\n",
      "     ---------------------------------------- 13.3/13.3 MB 4.9 MB/s eta 0:00:00\n",
      "Installing collected packages: numpy\n",
      "  Attempting uninstall: numpy\n",
      "    Found existing installation: numpy 1.19.3\n",
      "    Uninstalling numpy-1.19.3:\n",
      "      Successfully uninstalled numpy-1.19.3\n",
      "Successfully installed numpy-1.19.5\n"
     ]
    },
    {
     "name": "stderr",
     "output_type": "stream",
     "text": [
      "ERROR: pip's dependency resolver does not currently take into account all the packages that are installed. This behaviour is the source of the following dependency conflicts.\n",
      "daal4py 2021.6.0 requires daal==2021.4.0, which is not installed.\n"
     ]
    },
    {
     "name": "stdout",
     "output_type": "stream",
     "text": [
      "Requirement already satisfied: matplotlib in c:\\users\\giuseppe iannone\\anaconda3\\lib\\site-packages (3.5.2)\n",
      "Requirement already satisfied: packaging>=20.0 in c:\\users\\giuseppe iannone\\anaconda3\\lib\\site-packages (from matplotlib) (21.3)\n",
      "Requirement already satisfied: kiwisolver>=1.0.1 in c:\\users\\giuseppe iannone\\anaconda3\\lib\\site-packages (from matplotlib) (1.4.2)\n",
      "Requirement already satisfied: fonttools>=4.22.0 in c:\\users\\giuseppe iannone\\anaconda3\\lib\\site-packages (from matplotlib) (4.25.0)\n",
      "Requirement already satisfied: pillow>=6.2.0 in c:\\users\\giuseppe iannone\\anaconda3\\lib\\site-packages (from matplotlib) (9.2.0)\n",
      "Requirement already satisfied: pyparsing>=2.2.1 in c:\\users\\giuseppe iannone\\anaconda3\\lib\\site-packages (from matplotlib) (3.0.9)\n",
      "Requirement already satisfied: numpy>=1.17 in c:\\users\\giuseppe iannone\\anaconda3\\lib\\site-packages (from matplotlib) (1.19.5)\n",
      "Requirement already satisfied: python-dateutil>=2.7 in c:\\users\\giuseppe iannone\\anaconda3\\lib\\site-packages (from matplotlib) (2.8.2)\n",
      "Requirement already satisfied: cycler>=0.10 in c:\\users\\giuseppe iannone\\anaconda3\\lib\\site-packages (from matplotlib) (0.11.0)\n",
      "Requirement already satisfied: six>=1.5 in c:\\users\\giuseppe iannone\\anaconda3\\lib\\site-packages (from python-dateutil>=2.7->matplotlib) (1.16.0)\n",
      "Requirement already satisfied: seaborn in c:\\users\\giuseppe iannone\\anaconda3\\lib\\site-packages (0.11.2)\n",
      "Requirement already satisfied: pandas>=0.23 in c:\\users\\giuseppe iannone\\anaconda3\\lib\\site-packages (from seaborn) (1.4.4)\n",
      "Requirement already satisfied: scipy>=1.0 in c:\\users\\giuseppe iannone\\anaconda3\\lib\\site-packages (from seaborn) (1.9.1)\n",
      "Requirement already satisfied: matplotlib>=2.2 in c:\\users\\giuseppe iannone\\anaconda3\\lib\\site-packages (from seaborn) (3.5.2)\n",
      "Requirement already satisfied: numpy>=1.15 in c:\\users\\giuseppe iannone\\anaconda3\\lib\\site-packages (from seaborn) (1.19.5)\n",
      "Requirement already satisfied: kiwisolver>=1.0.1 in c:\\users\\giuseppe iannone\\anaconda3\\lib\\site-packages (from matplotlib>=2.2->seaborn) (1.4.2)\n",
      "Requirement already satisfied: python-dateutil>=2.7 in c:\\users\\giuseppe iannone\\anaconda3\\lib\\site-packages (from matplotlib>=2.2->seaborn) (2.8.2)\n",
      "Requirement already satisfied: fonttools>=4.22.0 in c:\\users\\giuseppe iannone\\anaconda3\\lib\\site-packages (from matplotlib>=2.2->seaborn) (4.25.0)\n",
      "Requirement already satisfied: packaging>=20.0 in c:\\users\\giuseppe iannone\\anaconda3\\lib\\site-packages (from matplotlib>=2.2->seaborn) (21.3)\n",
      "Requirement already satisfied: pyparsing>=2.2.1 in c:\\users\\giuseppe iannone\\anaconda3\\lib\\site-packages (from matplotlib>=2.2->seaborn) (3.0.9)\n",
      "Requirement already satisfied: pillow>=6.2.0 in c:\\users\\giuseppe iannone\\anaconda3\\lib\\site-packages (from matplotlib>=2.2->seaborn) (9.2.0)\n",
      "Requirement already satisfied: cycler>=0.10 in c:\\users\\giuseppe iannone\\anaconda3\\lib\\site-packages (from matplotlib>=2.2->seaborn) (0.11.0)\n",
      "Requirement already satisfied: pytz>=2020.1 in c:\\users\\giuseppe iannone\\anaconda3\\lib\\site-packages (from pandas>=0.23->seaborn) (2022.1)\n",
      "Requirement already satisfied: six>=1.5 in c:\\users\\giuseppe iannone\\anaconda3\\lib\\site-packages (from python-dateutil>=2.7->matplotlib>=2.2->seaborn) (1.16.0)\n",
      "Requirement already satisfied: scikit-learn in c:\\users\\giuseppe iannone\\anaconda3\\lib\\site-packages (1.0.2)\n",
      "Requirement already satisfied: numpy>=1.14.6 in c:\\users\\giuseppe iannone\\anaconda3\\lib\\site-packages (from scikit-learn) (1.19.5)\n",
      "Requirement already satisfied: threadpoolctl>=2.0.0 in c:\\users\\giuseppe iannone\\anaconda3\\lib\\site-packages (from scikit-learn) (2.2.0)\n",
      "Requirement already satisfied: joblib>=0.11 in c:\\users\\giuseppe iannone\\anaconda3\\lib\\site-packages (from scikit-learn) (1.1.0)\n",
      "Requirement already satisfied: scipy>=1.1.0 in c:\\users\\giuseppe iannone\\anaconda3\\lib\\site-packages (from scikit-learn) (1.9.1)\n"
     ]
    }
   ],
   "source": [
    "# Check for libraries that are needed\n",
    "!pip install pandas\n",
    "!pip install numpy==1.19.5\n",
    "!pip install matplotlib\n",
    "!pip install seaborn\n",
    "!pip install scikit-learn"
   ]
  },
  {
   "cell_type": "code",
   "execution_count": 3,
   "metadata": {},
   "outputs": [],
   "source": [
    "# Importing the libraries\n",
    "import pandas as pd\n",
    "import numpy as np\n",
    "import matplotlib.pyplot as plt\n",
    "import seaborn as sns\n",
    "%matplotlib inline \n",
    "sns.set(color_codes=True)"
   ]
  },
  {
   "attachments": {},
   "cell_type": "markdown",
   "metadata": {},
   "source": [
    "------------------------------------------------------------------------\n",
    "\n",
    "------------------------------------------------------------------------"
   ]
  },
  {
   "attachments": {},
   "cell_type": "markdown",
   "metadata": {},
   "source": [
    "## EDA (Exploratory Data Analysis)\n",
    "Now we start by loading the 4 dataset.\n",
    "Each of them is from a single experiment, and each experiment is different because of the sequencing technique for the cells' RNA, and of the cells' environment.\n",
    "\n",
    "### Metadata files\n",
    "We start with the metadata files, one for each experiment. They are TSV files"
   ]
  },
  {
   "cell_type": "code",
   "execution_count": 13,
   "metadata": {},
   "outputs": [
    {
     "name": "stdout",
     "output_type": "stream",
     "text": [
      "Dataframe dimensions: (383, 9)\n",
      "Dataframe columns: Index(['Filename', 'Cell Line', 'Lane', 'Pos', 'Condition', 'Hours',\n",
      "       'Cell name', 'PreprocessingTag', 'ProcessingComments'],\n",
      "      dtype='object')\n"
     ]
    }
   ],
   "source": [
    "df_meta_path = '..\\\\ai_lab\\\\SmartSeq\\\\MCF7_SmartS_MetaData.tsv'\n",
    "df_meta = pd.read_csv(df_meta_path, delimiter='\\t')\n",
    "print(\"Dataframe dimensions:\", df_meta.shape)\n",
    "print(\"Dataframe columns:\", df_meta.columns)"
   ]
  },
  {
   "cell_type": "code",
   "execution_count": 14,
   "metadata": {},
   "outputs": [
    {
     "data": {
      "text/html": [
       "<div>\n",
       "<style scoped>\n",
       "    .dataframe tbody tr th:only-of-type {\n",
       "        vertical-align: middle;\n",
       "    }\n",
       "\n",
       "    .dataframe tbody tr th {\n",
       "        vertical-align: top;\n",
       "    }\n",
       "\n",
       "    .dataframe thead th {\n",
       "        text-align: right;\n",
       "    }\n",
       "</style>\n",
       "<table border=\"1\" class=\"dataframe\">\n",
       "  <thead>\n",
       "    <tr style=\"text-align: right;\">\n",
       "      <th></th>\n",
       "      <th>Cell Line</th>\n",
       "      <th>Lane</th>\n",
       "      <th>Pos</th>\n",
       "      <th>Condition</th>\n",
       "      <th>Hours</th>\n",
       "      <th>Cell name</th>\n",
       "      <th>PreprocessingTag</th>\n",
       "      <th>ProcessingComments</th>\n",
       "    </tr>\n",
       "  </thead>\n",
       "  <tbody>\n",
       "    <tr>\n",
       "      <th>0</th>\n",
       "      <td>MCF7</td>\n",
       "      <td>output.STAR.1</td>\n",
       "      <td>A10</td>\n",
       "      <td>Hypo</td>\n",
       "      <td>72</td>\n",
       "      <td>S28</td>\n",
       "      <td>Aligned.sortedByCoord.out.bam</td>\n",
       "      <td>STAR,FeatureCounts</td>\n",
       "    </tr>\n",
       "    <tr>\n",
       "      <th>1</th>\n",
       "      <td>MCF7</td>\n",
       "      <td>output.STAR.1</td>\n",
       "      <td>A11</td>\n",
       "      <td>Hypo</td>\n",
       "      <td>72</td>\n",
       "      <td>S29</td>\n",
       "      <td>Aligned.sortedByCoord.out.bam</td>\n",
       "      <td>STAR,FeatureCounts</td>\n",
       "    </tr>\n",
       "    <tr>\n",
       "      <th>2</th>\n",
       "      <td>MCF7</td>\n",
       "      <td>output.STAR.1</td>\n",
       "      <td>A12</td>\n",
       "      <td>Hypo</td>\n",
       "      <td>72</td>\n",
       "      <td>S30</td>\n",
       "      <td>Aligned.sortedByCoord.out.bam</td>\n",
       "      <td>STAR,FeatureCounts</td>\n",
       "    </tr>\n",
       "    <tr>\n",
       "      <th>3</th>\n",
       "      <td>MCF7</td>\n",
       "      <td>output.STAR.1</td>\n",
       "      <td>A1</td>\n",
       "      <td>Norm</td>\n",
       "      <td>72</td>\n",
       "      <td>S1</td>\n",
       "      <td>Aligned.sortedByCoord.out.bam</td>\n",
       "      <td>STAR,FeatureCounts</td>\n",
       "    </tr>\n",
       "    <tr>\n",
       "      <th>4</th>\n",
       "      <td>MCF7</td>\n",
       "      <td>output.STAR.1</td>\n",
       "      <td>A2</td>\n",
       "      <td>Norm</td>\n",
       "      <td>72</td>\n",
       "      <td>S2</td>\n",
       "      <td>Aligned.sortedByCoord.out.bam</td>\n",
       "      <td>STAR,FeatureCounts</td>\n",
       "    </tr>\n",
       "  </tbody>\n",
       "</table>\n",
       "</div>"
      ],
      "text/plain": [
       "  Cell Line           Lane  Pos Condition  Hours Cell name  \\\n",
       "0      MCF7  output.STAR.1  A10      Hypo     72       S28   \n",
       "1      MCF7  output.STAR.1  A11      Hypo     72       S29   \n",
       "2      MCF7  output.STAR.1  A12      Hypo     72       S30   \n",
       "3      MCF7  output.STAR.1   A1      Norm     72        S1   \n",
       "4      MCF7  output.STAR.1   A2      Norm     72        S2   \n",
       "\n",
       "                PreprocessingTag  ProcessingComments  \n",
       "0  Aligned.sortedByCoord.out.bam  STAR,FeatureCounts  \n",
       "1  Aligned.sortedByCoord.out.bam  STAR,FeatureCounts  \n",
       "2  Aligned.sortedByCoord.out.bam  STAR,FeatureCounts  \n",
       "3  Aligned.sortedByCoord.out.bam  STAR,FeatureCounts  \n",
       "4  Aligned.sortedByCoord.out.bam  STAR,FeatureCounts  "
      ]
     },
     "execution_count": 14,
     "metadata": {},
     "output_type": "execute_result"
    }
   ],
   "source": [
    "#we drop the first column 'Filename' as it is not needed\n",
    "\n",
    "df_meta = df_meta.drop(columns=['Filename'])\n",
    "df_meta.head()"
   ]
  },
  {
   "cell_type": "markdown",
   "metadata": {},
   "source": [
    "## What is the dataset made of?\n",
    "\n",
    "For every row, we have a single observation from an experiment, and of course in the columns we have the collected data of the experiment. In order:\n",
    "#### 1.  Cell Line \n",
    "  Content\n",
    "\n",
    "#### 2. Lane\n",
    "  Content\n",
    "\n",
    "#### 3. Pos\n",
    "  Content\n",
    "\n",
    "#### 4. Condition\n",
    "  Content\n",
    "\n",
    "#### 5. Hours\n",
    "  Content\n",
    "\n",
    "#### 6. Cell Name\n",
    "  Content\n",
    "\n",
    "#### 7. Preprocessing Tag\n",
    "  Content\n",
    "  \n",
    "#### 8. ProcessingComments\n",
    "  Content\n"
   ]
  },
  {
   "cell_type": "markdown",
   "metadata": {},
   "source": [
    "## Sequencing data\n",
    "\n",
    "Now we go to sequencing data, and we notice that they are space-delimited.\n",
    "Here we just create the path and the dataset on Python.\n",
    " \n"
   ]
  },
  {
   "cell_type": "code",
   "execution_count": 17,
   "metadata": {},
   "outputs": [],
   "source": [
    "#We just create the path and the dataset on Python\n",
    "df_seq_pathHFilt = '..\\\\ai_lab\\\\SmartSeq\\\\HCC1806_SmartS_Filtered_Data.txt'\n",
    "\n",
    "df_seq_pathHFiltNorm = '..\\\\ai_lab\\\\SmartSeq\\\\HCC1806_SmartS_Filtered_Normalised_3000_Data_train.txt'\n",
    "\n",
    "df_seq_pathUnfilt = '..\\\\ai_lab\\\\SmartSeq\\\\HCC1806_SmartS_Unfiltered_Data.txt'\n",
    "\n",
    "df_seq_pathMFilt = '..\\\\ai_lab\\\\SmartSeq\\\\MCF7_SmartS_Filtered_Data.txt'\n",
    "\n",
    "df_seq_pathMFiltNorm = '..\\\\ai_lab\\\\SmartSeq\\\\MCF7_SmartS_Filtered_Normalised_3000_Data_train.txt'\n",
    "\n",
    "df_seq_pathMUnfilt = '..\\\\ai_lab\\\\SmartSeq\\MCF7_SmartS_Unfiltered_Data.txt'\n",
    "\n",
    "df_seq_HFilt = pd.read_csv(df_seq_pathHFilt)\n",
    "\n",
    "df_seq_HFiltNorm = pd.read_csv(df_seq_pathHFiltNorm)\n",
    "\n",
    "df_seq_Unfilt = pd.read_csv(df_seq_pathUnfilt)\n",
    "\n",
    "df_seq_MFilt = pd.read_csv(df_seq_pathMFilt)\n",
    "\n",
    "df_seq_MFiltNorm = pd.read_csv(df_seq_pathMFiltNorm)\n",
    "\n",
    "df_seq_MUnfilt = pd.read_csv(df_seq_pathMUnfilt)\n",
    "\n"
   ]
  },
  {
   "cell_type": "markdown",
   "metadata": {},
   "source": [
    "There are six dataset, and we can understand what they actually are based on their name.\n",
    "#### 1. SmartSeq\\HCC1806_SmartS_Filtered_Data.txt\n",
    "  The cell line is HCC1806, the technology is SmartS, and this dataset contains the Filtered data\n",
    "\n",
    "#### 2. SmartSeq\\HCC1806_SmartS_Filtered_Normalised_3000_Data_train.txt\n",
    "  The cell line is HCC1806, the technology is SmartS, and this dataset contains the Filtered and Normalized data for training the model\n",
    "\n",
    "#### 3. SmartSeq\\HCC1806_SmartS_Unfiltered_Data.txt\n",
    "  The cell line is HCC1806, the technology is SmartS, and this dataset contains the Unfiltered data\n",
    "\n",
    "#### 4. SmartSeq\\MCF7_SmartS_Filtered_Data.txt\n",
    "  The cell line is MCF7, the technology is SmartS, and this dataset contains the Filtered data\n",
    "\n",
    "#### 5. SmartSeq\\MCF7_SmartS_Filtered_Normalised_3000_Data_train.txt\n",
    "  The cell line is MCF7, the technology is SmartS, and this dataset contains the Filtered and Normalized data for training the model\n",
    "\n",
    "#### 6. SmartSeq\\MCF7_SmartS_Unfiltered_Data.txt\n",
    "  The cell line is MCF7, the technology is SmartS, and this dataset contains the Unfiltered data\n",
    "\n"
   ]
  },
  {
   "cell_type": "markdown",
   "metadata": {},
   "source": [
    "We analyze one dataset at a time.\n",
    "\n",
    "#### 1. SmartSeq\\HCC1806_SmartS_Filtered_Data."
   ]
  },
  {
   "cell_type": "code",
   "execution_count": 18,
   "metadata": {},
   "outputs": [
    {
     "name": "stdout",
     "output_type": "stream",
     "text": [
      "Dimension: (19503, 1)\n"
     ]
    }
   ],
   "source": [
    "print('Dimension:' , df_seq_HFilt.shape)"
   ]
  }
 ],
 "metadata": {
  "kernelspec": {
   "display_name": "base",
   "language": "python",
   "name": "python3"
  },
  "language_info": {
   "codemirror_mode": {
    "name": "ipython",
    "version": 3
   },
   "file_extension": ".py",
   "mimetype": "text/x-python",
   "name": "python",
   "nbconvert_exporter": "python",
   "pygments_lexer": "ipython3",
   "version": "3.11.0 | packaged by conda-forge | (main, Jan 14 2023, 12:25:12) [Clang 14.0.6 ]"
  },
  "vscode": {
   "interpreter": {
    "hash": "7f217336c97d15ce4a94207d0500046615b0bc55fbf2d342e9c35c59defb6831"
   }
  }
 },
 "nbformat": 4,
 "nbformat_minor": 2
}
