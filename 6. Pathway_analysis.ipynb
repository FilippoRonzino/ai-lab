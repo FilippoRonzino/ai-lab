{
 "cells": [
  {
   "cell_type": "code",
   "execution_count": 4,
   "metadata": {},
   "outputs": [],
   "source": [
    "!pip install -q biopython\n",
    "!pip install Bio\n",
    "!pip install -q ReportLab\n",
    "#gseapy\n",
    "!pip install -q gseapy"
   ]
  },
  {
   "cell_type": "code",
   "execution_count": 41,
   "metadata": {},
   "outputs": [],
   "source": [
    "import gseapy as gp\n",
    "from gseapy import dotplot\n",
    "import pickle\n",
    "import pandas as pd\n",
    "import numpy as np"
   ]
  },
  {
   "attachments": {},
   "cell_type": "markdown",
   "metadata": {},
   "source": [
    "XGBoost and Random Forest return a list with the most important features to predict the condition of the cell. A common double-check done in bioinformatics is to check if this set of genes is involved in some biological path, or if these genes are just together \"by chance\".\n",
    "\n",
    "To check this, you usually test your group against a dataset of set of genes well known for their function in some biological path. Checking how much our genes are over (or under) represented with respect to a set of genes in a specific biological path, we can compute an adjusted p-value, that will give us an idea of how sure we are that our set is linked to that pathway. "
   ]
  },
  {
   "attachments": {},
   "cell_type": "markdown",
   "metadata": {},
   "source": [
    "To do so, we define:\n",
    "* Our genes list, that is basically our set of significant genes for predicting the condition of Hypoxia or Normoxia. As we said before, this is the list of relevant genes returned by XGBoost and RF.\n",
    "* A list of sets of genes, well known for being involved in biological paths. We choose as dataset for these sets the MSigDB_Hallmark_2020, since it's well recognized in literature, and it was shown in class.\n",
    "\n",
    "The adjusted p-values will be computed over these two lists, using a default test given by the function gp.enrich, that is hypergeometric test, which calculates the probability of observing a given number of genes from the input list within a particular gene set, given the total number of genes in the dataset and the number of genes in the gene set."
   ]
  },
  {
   "cell_type": "code",
   "execution_count": 14,
   "metadata": {},
   "outputs": [],
   "source": [
    "df_dropseq_pathHFiltNorm = '../ai_lab/DropSeq/HCC1806_Filtered_Normalised_3000_Data_train.txt'\n",
    "df_dropseq_HFiltNorm = pd.read_csv(df_dropseq_pathHFiltNorm, delimiter=' ')"
   ]
  },
  {
   "cell_type": "code",
   "execution_count": 22,
   "metadata": {},
   "outputs": [
    {
     "name": "stdout",
     "output_type": "stream",
     "text": [
      "Index(['H1-5', 'MALAT1', 'MT-RNR2', 'ARVCF', 'BCYRN1', 'ATXN7L2', 'IGFBP3',\n",
      "       'H1-3', 'CTIF', 'RNF123',\n",
      "       ...\n",
      "       'BATF3', 'CDKN3', 'DLD', 'PMPCA', 'ZNF165', 'SCCPDH', 'NTAN1', 'CLIP2',\n",
      "       'DUSP23', 'ZNF682'],\n",
      "      dtype='object', length=3000)\n"
     ]
    }
   ],
   "source": [
    "df_dropseq_HFiltNorm = df_dropseq_HFiltNorm.T\n",
    "gene_names = df_dropseq_HFiltNorm.columns\n",
    "print(gene_names)"
   ]
  },
  {
   "cell_type": "code",
   "execution_count": 32,
   "metadata": {},
   "outputs": [
    {
     "name": "stdout",
     "output_type": "stream",
     "text": [
      "Top 50 Genes: ['NDRG1', 'FGF23', 'IGFBP3', 'AKR1C1', 'BNIP3', 'LDHA', 'GPM6A', 'WDR43', 'NPM1P40', 'AKR1C2', 'EIF3J', 'HSPD1', 'EGLN3', 'P4HA1', 'PGK1', 'RPL41', 'NCALD', 'TMSB10', 'KRT19', 'BTBD9', 'BNIP3L', 'MT-TQ', 'MT-TV', 'MT1X', 'BCYRN1', 'S100A10', 'B4GALT1', 'HSP90AA1', 'NCL', 'AHNAK2', 'CNNM2', 'C4orf3', 'ZNF302', 'CALM2', 'CACNA1A', 'NEAT1', 'MT1E', 'ENO1', 'GBP1P1', 'RPS29', 'H4C5', 'RPS21', 'FOXP1', 'RPS28', 'MALAT1', 'PRRG3', 'S100A6', 'PLOD2', 'RPS27', 'HSP90AB1']\n"
     ]
    }
   ],
   "source": [
    "# load the xgboost dropseq model and return the list of the 50 most important genes\n",
    "filename = '/Users/filipporonzino/Downloads/dropseq_merged dataset'\n",
    "with open(filename, 'rb') as f:\n",
    "    xgboost_dropseq = pickle.load(f)['model']\n",
    "feature_importance = xgboost_dropseq.feature_importances_\n",
    "feature_names = xgboost_dropseq.get_booster().feature_names\n",
    "feature_importance_df = pd.DataFrame({'Feature': feature_names, 'Importance': feature_importance})\n",
    "feature_importance_df = feature_importance_df.sort_values(by='Importance', ascending=False)\n",
    "top_50_genes_xgb = feature_importance_df['Feature'][:50].tolist()\n",
    "# Print the top 50 genes\n",
    "print(\"Top 50 Genes:\", top_50_genes_xgb)"
   ]
  },
  {
   "cell_type": "code",
   "execution_count": 33,
   "metadata": {},
   "outputs": [
    {
     "name": "stdout",
     "output_type": "stream",
     "text": [
      "Top 50 features sorted by importance:\n",
      "NDRG1: 0.06035161028628387\n",
      "EIF3J: 0.0408470655051273\n",
      "BCYRN1: 0.0373260984835343\n",
      "HSP90AA1: 0.031103681702997942\n",
      "TMSB10: 0.030635302337780872\n",
      "HSPD1: 0.029575760142894727\n",
      "WDR43: 0.027278652955354043\n",
      "AKR1C2: 0.025782785526020254\n",
      "IGFBP3: 0.025520796962684417\n",
      "NPM1P40: 0.024754198953490483\n",
      "BNIP3: 0.021828634409136034\n",
      "P4HA1: 0.01995578165845006\n",
      "KRT19: 0.019076699076809808\n",
      "NCL: 0.01770801486598715\n",
      "FGF23: 0.01768525259460857\n",
      "ZC3H15: 0.017117492012740623\n",
      "RPL41: 0.01673181506240575\n",
      "LDHA: 0.01661112175776632\n",
      "S100A10: 0.01646915146690679\n",
      "AKR1C1: 0.01541340034555105\n",
      "GPM6A: 0.014709546442417464\n",
      "MT-TQ: 0.012467694868531368\n",
      "B4GALT1: 0.011939886894577843\n",
      "PGK1: 0.011579469642239555\n",
      "AHNAK2: 0.011029032175237877\n",
      "GPI: 0.010845169440104416\n",
      "CALM2: 0.010374944302601509\n",
      "NEAT1: 0.01017767922972161\n",
      "EEF2: 0.010044437132708969\n",
      "BTBD9: 0.009763784667455595\n",
      "ENO1: 0.009341087584875011\n",
      "KCNJ3: 0.009265233078967285\n",
      "YWHAZ: 0.008346656728689875\n",
      "RPS27: 0.007808394533829469\n",
      "CACNA1A: 0.007747678219600621\n",
      "EGLN3: 0.007745739316455066\n",
      "MARCKS: 0.007477428675071991\n",
      "NCALD: 0.007446092501847716\n",
      "HSP90AB1: 0.006994766060847943\n",
      "S100A6: 0.006647936898438032\n",
      "MT2A: 0.0062673990134609935\n",
      "MT-TV: 0.0062218796631608635\n",
      "ZNF302: 0.006089423811815353\n",
      "H1-1: 0.006054768222452602\n",
      "RPS3: 0.006012934690119084\n",
      "BAP1: 0.005714141434913955\n",
      "CNNM2: 0.005517075633097379\n",
      "SERF2: 0.005413984293499738\n",
      "RPS5: 0.005131492554791299\n",
      "RPLP1: 0.0050569411060628925\n"
     ]
    }
   ],
   "source": [
    "# # load the randomforest dropseq model and return the list of the 50 most important genes\n",
    "filename = '/Users/filipporonzino/Downloads/pickle/HCC1806/rf/dropseq_merged dataset'\n",
    "with open(filename, 'rb') as f:\n",
    "    randomforest_dropseq = pickle.load(f)['model']\n",
    "# Get feature importances\n",
    "importances = randomforest_dropseq.feature_importances_\n",
    "\n",
    "# Sort gene names and importances based on importance\n",
    "sorted_importances = sorted(zip(gene_names, importances), key=lambda x: x[1], reverse=True)\n",
    "\n",
    "# Print the top 50 sorted by importance\n",
    "print(\"Top 50 features sorted by importance:\")\n",
    "for name, importance in sorted_importances[:50]:\n",
    "    print(f\"{name}: {importance}\")\n",
    "top_50_genes_rf = [name for name, importance in sorted_importances[:50]]"
   ]
  },
  {
   "cell_type": "code",
   "execution_count": 37,
   "metadata": {},
   "outputs": [
    {
     "name": "stdout",
     "output_type": "stream",
     "text": [
      "63\n"
     ]
    }
   ],
   "source": [
    "gene_list = (top_50_genes_xgb + top_50_genes_rf)\n",
    "# take unique genes\n",
    "gene_list = list(set(gene_list))\n",
    "gene_sets = ['MSigDB_Hallmark_2020'] # selected as it was shown in class\n",
    "gene_background = None\n",
    "print(len(gene_list))"
   ]
  },
  {
   "cell_type": "code",
   "execution_count": 38,
   "metadata": {},
   "outputs": [],
   "source": [
    "enr = gp.enrichr(gene_list=gene_list, \n",
    "                 gene_sets=gene_sets, \n",
    "                 organism='human', \n",
    "                 background=gene_background,\n",
    "                 outdir=None, \n",
    "                )"
   ]
  },
  {
   "cell_type": "code",
   "execution_count": 39,
   "metadata": {},
   "outputs": [
    {
     "data": {
      "text/html": [
       "<div>\n",
       "<style scoped>\n",
       "    .dataframe tbody tr th:only-of-type {\n",
       "        vertical-align: middle;\n",
       "    }\n",
       "\n",
       "    .dataframe tbody tr th {\n",
       "        vertical-align: top;\n",
       "    }\n",
       "\n",
       "    .dataframe thead th {\n",
       "        text-align: right;\n",
       "    }\n",
       "</style>\n",
       "<table border=\"1\" class=\"dataframe\">\n",
       "  <thead>\n",
       "    <tr style=\"text-align: right;\">\n",
       "      <th></th>\n",
       "      <th>Gene_set</th>\n",
       "      <th>Term</th>\n",
       "      <th>Overlap</th>\n",
       "      <th>P-value</th>\n",
       "      <th>Adjusted P-value</th>\n",
       "      <th>Old P-value</th>\n",
       "      <th>Old Adjusted P-value</th>\n",
       "      <th>Odds Ratio</th>\n",
       "      <th>Combined Score</th>\n",
       "      <th>Genes</th>\n",
       "    </tr>\n",
       "  </thead>\n",
       "  <tbody>\n",
       "    <tr>\n",
       "      <th>0</th>\n",
       "      <td>MSigDB_Hallmark_2020</td>\n",
       "      <td>Hypoxia</td>\n",
       "      <td>10/200</td>\n",
       "      <td>6.434698e-10</td>\n",
       "      <td>1.801716e-08</td>\n",
       "      <td>0</td>\n",
       "      <td>0</td>\n",
       "      <td>19.609732</td>\n",
       "      <td>415.023227</td>\n",
       "      <td>GPI;BNIP3L;LDHA;MT2A;P4HA1;IGFBP3;PGK1;ENO1;ND...</td>\n",
       "    </tr>\n",
       "    <tr>\n",
       "      <th>1</th>\n",
       "      <td>MSigDB_Hallmark_2020</td>\n",
       "      <td>mTORC1 Signaling</td>\n",
       "      <td>8/200</td>\n",
       "      <td>2.101825e-07</td>\n",
       "      <td>1.961704e-06</td>\n",
       "      <td>0</td>\n",
       "      <td>0</td>\n",
       "      <td>14.958333</td>\n",
       "      <td>229.988706</td>\n",
       "      <td>GPI;LDHA;EGLN3;P4HA1;PGK1;PLOD2;ENO1;HSPD1</td>\n",
       "    </tr>\n",
       "    <tr>\n",
       "      <th>2</th>\n",
       "      <td>MSigDB_Hallmark_2020</td>\n",
       "      <td>Glycolysis</td>\n",
       "      <td>8/200</td>\n",
       "      <td>2.101825e-07</td>\n",
       "      <td>1.961704e-06</td>\n",
       "      <td>0</td>\n",
       "      <td>0</td>\n",
       "      <td>14.958333</td>\n",
       "      <td>229.988706</td>\n",
       "      <td>LDHA;EGLN3;B4GALT1;P4HA1;IGFBP3;PGK1;PLOD2;ENO1</td>\n",
       "    </tr>\n",
       "    <tr>\n",
       "      <th>3</th>\n",
       "      <td>MSigDB_Hallmark_2020</td>\n",
       "      <td>Myc Targets V1</td>\n",
       "      <td>7/200</td>\n",
       "      <td>3.100961e-06</td>\n",
       "      <td>2.170673e-05</td>\n",
       "      <td>0</td>\n",
       "      <td>0</td>\n",
       "      <td>12.787565</td>\n",
       "      <td>162.194894</td>\n",
       "      <td>LDHA;HSP90AB1;RPS5;EIF3J;PGK1;RPS3;HSPD1</td>\n",
       "    </tr>\n",
       "    <tr>\n",
       "      <th>4</th>\n",
       "      <td>MSigDB_Hallmark_2020</td>\n",
       "      <td>Androgen Response</td>\n",
       "      <td>3/100</td>\n",
       "      <td>3.875721e-03</td>\n",
       "      <td>2.170404e-02</td>\n",
       "      <td>0</td>\n",
       "      <td>0</td>\n",
       "      <td>10.226804</td>\n",
       "      <td>56.789683</td>\n",
       "      <td>KRT19;B4GALT1;NDRG1</td>\n",
       "    </tr>\n",
       "  </tbody>\n",
       "</table>\n",
       "</div>"
      ],
      "text/plain": [
       "               Gene_set               Term Overlap       P-value  \\\n",
       "0  MSigDB_Hallmark_2020            Hypoxia  10/200  6.434698e-10   \n",
       "1  MSigDB_Hallmark_2020   mTORC1 Signaling   8/200  2.101825e-07   \n",
       "2  MSigDB_Hallmark_2020         Glycolysis   8/200  2.101825e-07   \n",
       "3  MSigDB_Hallmark_2020     Myc Targets V1   7/200  3.100961e-06   \n",
       "4  MSigDB_Hallmark_2020  Androgen Response   3/100  3.875721e-03   \n",
       "\n",
       "   Adjusted P-value  Old P-value  Old Adjusted P-value  Odds Ratio  \\\n",
       "0      1.801716e-08            0                     0   19.609732   \n",
       "1      1.961704e-06            0                     0   14.958333   \n",
       "2      1.961704e-06            0                     0   14.958333   \n",
       "3      2.170673e-05            0                     0   12.787565   \n",
       "4      2.170404e-02            0                     0   10.226804   \n",
       "\n",
       "   Combined Score                                              Genes  \n",
       "0      415.023227  GPI;BNIP3L;LDHA;MT2A;P4HA1;IGFBP3;PGK1;ENO1;ND...  \n",
       "1      229.988706         GPI;LDHA;EGLN3;P4HA1;PGK1;PLOD2;ENO1;HSPD1  \n",
       "2      229.988706    LDHA;EGLN3;B4GALT1;P4HA1;IGFBP3;PGK1;PLOD2;ENO1  \n",
       "3      162.194894           LDHA;HSP90AB1;RPS5;EIF3J;PGK1;RPS3;HSPD1  \n",
       "4       56.789683                                KRT19;B4GALT1;NDRG1  "
      ]
     },
     "execution_count": 39,
     "metadata": {},
     "output_type": "execute_result"
    }
   ],
   "source": [
    "enrichment_results_df = enr.results\n",
    "enrichment_results_df.head()"
   ]
  },
  {
   "cell_type": "code",
   "execution_count": 40,
   "metadata": {},
   "outputs": [
    {
     "name": "stderr",
     "output_type": "stream",
     "text": [
      "/Users/filipporonzino/anaconda3/lib/python3.11/site-packages/gseapy/plot.py:689: FutureWarning: The 'method' keyword in Series.replace is deprecated and will be removed in a future version.\n",
      "  df[self.colname].replace(\n",
      "/Users/filipporonzino/anaconda3/lib/python3.11/site-packages/gseapy/plot.py:689: FutureWarning: A value is trying to be set on a copy of a DataFrame or Series through chained assignment using an inplace method.\n",
      "The behavior will change in pandas 3.0. This inplace method will never work because the intermediate object on which we are setting values always behaves as a copy.\n",
      "\n",
      "For example, when doing 'df[col].method(value, inplace=True)', try using 'df.method({col: value}, inplace=True)' or df[col] = df[col].method(value) instead, to perform the operation inplace on the original object.\n",
      "\n",
      "\n",
      "  df[self.colname].replace(\n"
     ]
    },
    {
     "data": {
      "image/png": "[encoded data removed]",
      "text/plain": [
       "<Figure size 400x600 with 2 Axes>"
      ]
     },
     "metadata": {},
     "output_type": "display_data"
    }
   ],
   "source": [
    "#Show top 5 terms of each gene_set ranked by “Adjusted P-value”\n",
    "ax = dotplot(enr.results,\n",
    "              column=\"Adjusted P-value\",\n",
    "              x='Gene_set', # set x axis, so you could do a multi-sample/library comparsion\n",
    "              size=10,\n",
    "              top_term=5,\n",
    "              figsize=(4,6),\n",
    "              title = \"MSigDB_Hallmark_2020\", \n",
    "              show_ring=True, # set to False to revmove outer ring\n",
    "              marker='o',\n",
    "             )"
   ]
  },
  {
   "attachments": {},
   "cell_type": "markdown",
   "metadata": {},
   "source": [
    " We immediately see that the gene sets that are over-represented are the ones corresponding to: Hypoxia. This is of course to be expected, since we have used as our gene list the genes that are relevant for classification of hypoxia.\n",
    "\n",
    "It is moreover clear that in <code>enr.results</code>, the highest overlap is the one for Hypoxia, which means that the number of genes that overlap between our gene list and the genes in the specific gene set chosen is 10/200\n",
    "\n"
   ]
  }
 ],
 "metadata": {
  "kernelspec": {
   "display_name": "base",
   "language": "python",
   "name": "python3"
  },
  "language_info": {
   "codemirror_mode": {
    "name": "ipython",
    "version": 3
   },
   "file_extension": ".py",
   "mimetype": "text/x-python",
   "name": "python",
   "nbconvert_exporter": "python",
   "pygments_lexer": "ipython3",
   "version": "3.11.0"
  },
  "orig_nbformat": 4,
  "vscode": {
   "interpreter": {
    "hash": "7f217336c97d15ce4a94207d0500046615b0bc55fbf2d342e9c35c59defb6831"
   }
  }
 },
 "nbformat": 4,
 "nbformat_minor": 2
}
