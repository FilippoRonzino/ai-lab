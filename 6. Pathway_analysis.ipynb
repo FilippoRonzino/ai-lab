{
 "cells": [
  {
   "cell_type": "code",
   "execution_count": 4,
   "metadata": {},
   "outputs": [],
   "source": [
    "!pip install -q biopython\n",
    "!pip install Bio\n",
    "!pip install -q ReportLab\n",
    "#gseapy\n",
    "!pip install -q gseapy"
   ]
  },
  {
   "cell_type": "code",
   "execution_count": 4,
   "metadata": {},
   "outputs": [],
   "source": [
    "import gseapy as gp\n",
    "from gseapy import barplot, dotplot\n",
    "import pickle\n",
    "import pandas as pd"
   ]
  },
  {
   "attachments": {},
   "cell_type": "markdown",
   "metadata": {},
   "source": [
    "XGBoost returns a list with the most important features to predict the condition of the cell. A common double-check done in bioinformatics is to check if this set of genes is involved in some biological path, or if these genes are just together \"by chance\".\n",
    "\n",
    "To check this, you usually test your group against a dataset of set of genes well known for their function in some biological path. Checking how much our genes are over (or under) represented with respect to a set of genes in a specific biological path, we can compute an adjusted p-value, that will give us an idea of how sure we are that our set is linked to that pathway. "
   ]
  },
  {
   "attachments": {},
   "cell_type": "markdown",
   "metadata": {},
   "source": [
    "To do so, we define:\n",
    "* Our genes list, that is basically our set of significant genes for predicting the condition of Hypoxia or Normoxia. As we said before, this is the list of relevant genes returned by XGBoost.\n",
    "* A list of sets of genes, well known for being involved in biological paths. We choose as dataset for these sets the MSigDB_Hallmark_2020, since it's well recognized in literature, and it was shown in class.\n",
    "\n",
    "The adjusted p-values will be computed over over these two lists, using a default dest given by the function gp.enrich, that is ....."
   ]
  },
  {
   "cell_type": "code",
   "execution_count": 10,
   "metadata": {},
   "outputs": [
    {
     "name": "stdout",
     "output_type": "stream",
     "text": [
      "Top 50 Genes: ['NDRG1', 'FGF23', 'IGFBP3', 'AKR1C1', 'BNIP3', 'LDHA', 'GPM6A', 'WDR43', 'NPM1P40', 'AKR1C2', 'EIF3J', 'HSPD1', 'EGLN3', 'P4HA1', 'PGK1', 'RPL41', 'NCALD', 'TMSB10', 'KRT19', 'BTBD9', 'BNIP3L', 'MT-TQ', 'MT-TV', 'MT1X', 'BCYRN1', 'S100A10', 'B4GALT1', 'HSP90AA1', 'NCL', 'AHNAK2', 'CNNM2', 'C4orf3', 'ZNF302', 'CALM2', 'CACNA1A', 'NEAT1', 'MT1E', 'ENO1', 'GBP1P1', 'RPS29', 'H4C5', 'RPS21', 'FOXP1', 'RPS28', 'MALAT1', 'PRRG3', 'S100A6', 'PLOD2', 'RPS27', 'HSP90AB1']\n"
     ]
    }
   ],
   "source": [
    "# load the xgboost dropseq model and return the list of the 50 most important genes\n",
    "filename = '/Users/filipporonzino/Downloads/dropseq_merged dataset'\n",
    "with open(filename, 'rb') as f:\n",
    "    xgboost_dropseq = pickle.load(f)['model']\n",
    "feature_importance = xgboost_dropseq.feature_importances_\n",
    "feature_names = xgboost_dropseq.get_booster().feature_names\n",
    "feature_importance_df = pd.DataFrame({'Feature': feature_names, 'Importance': feature_importance})\n",
    "feature_importance_df = feature_importance_df.sort_values(by='Importance', ascending=False)\n",
    "top_50_genes = feature_importance_df['Feature'][:50].tolist()\n",
    "# Print the top 50 genes\n",
    "print(\"Top 50 Genes:\", top_50_genes)"
   ]
  },
  {
   "cell_type": "code",
   "execution_count": 19,
   "metadata": {},
   "outputs": [],
   "source": [
    "gene_list = top_50_genes\n",
    "gene_sets = ['MSigDB_Hallmark_2020'] # selected as it was shown in class\n",
    "gene_background = None"
   ]
  },
  {
   "cell_type": "code",
   "execution_count": 20,
   "metadata": {},
   "outputs": [],
   "source": [
    "enr = gp.enrichr(gene_list=gene_list, \n",
    "                 gene_sets=gene_sets, \n",
    "                 organism='human', \n",
    "                 background=gene_background,\n",
    "                 outdir=None, \n",
    "                )"
   ]
  },
  {
   "cell_type": "code",
   "execution_count": 21,
   "metadata": {},
   "outputs": [
    {
     "data": {
      "text/html": [
       "<div>\n",
       "<style scoped>\n",
       "    .dataframe tbody tr th:only-of-type {\n",
       "        vertical-align: middle;\n",
       "    }\n",
       "\n",
       "    .dataframe tbody tr th {\n",
       "        vertical-align: top;\n",
       "    }\n",
       "\n",
       "    .dataframe thead th {\n",
       "        text-align: right;\n",
       "    }\n",
       "</style>\n",
       "<table border=\"1\" class=\"dataframe\">\n",
       "  <thead>\n",
       "    <tr style=\"text-align: right;\">\n",
       "      <th></th>\n",
       "      <th>Gene_set</th>\n",
       "      <th>Term</th>\n",
       "      <th>Overlap</th>\n",
       "      <th>P-value</th>\n",
       "      <th>Adjusted P-value</th>\n",
       "      <th>Old P-value</th>\n",
       "      <th>Old Adjusted P-value</th>\n",
       "      <th>Odds Ratio</th>\n",
       "      <th>Combined Score</th>\n",
       "      <th>Genes</th>\n",
       "    </tr>\n",
       "  </thead>\n",
       "  <tbody>\n",
       "    <tr>\n",
       "      <th>0</th>\n",
       "      <td>MSigDB_Hallmark_2020</td>\n",
       "      <td>Hypoxia</td>\n",
       "      <td>8/200</td>\n",
       "      <td>3.255912e-08</td>\n",
       "      <td>4.069890e-07</td>\n",
       "      <td>0</td>\n",
       "      <td>0</td>\n",
       "      <td>19.601190</td>\n",
       "      <td>337.928605</td>\n",
       "      <td>BNIP3L;LDHA;P4HA1;IGFBP3;PGK1;ENO1;NDRG1;MT1E</td>\n",
       "    </tr>\n",
       "    <tr>\n",
       "      <th>1</th>\n",
       "      <td>MSigDB_Hallmark_2020</td>\n",
       "      <td>Glycolysis</td>\n",
       "      <td>8/200</td>\n",
       "      <td>3.255912e-08</td>\n",
       "      <td>4.069890e-07</td>\n",
       "      <td>0</td>\n",
       "      <td>0</td>\n",
       "      <td>19.601190</td>\n",
       "      <td>337.928605</td>\n",
       "      <td>LDHA;EGLN3;B4GALT1;P4HA1;IGFBP3;PGK1;PLOD2;ENO1</td>\n",
       "    </tr>\n",
       "    <tr>\n",
       "      <th>2</th>\n",
       "      <td>MSigDB_Hallmark_2020</td>\n",
       "      <td>mTORC1 Signaling</td>\n",
       "      <td>7/200</td>\n",
       "      <td>6.247575e-07</td>\n",
       "      <td>5.206313e-06</td>\n",
       "      <td>0</td>\n",
       "      <td>0</td>\n",
       "      <td>16.664538</td>\n",
       "      <td>238.067958</td>\n",
       "      <td>LDHA;EGLN3;P4HA1;PGK1;PLOD2;ENO1;HSPD1</td>\n",
       "    </tr>\n",
       "    <tr>\n",
       "      <th>3</th>\n",
       "      <td>MSigDB_Hallmark_2020</td>\n",
       "      <td>Myc Targets V1</td>\n",
       "      <td>5/200</td>\n",
       "      <td>1.398365e-04</td>\n",
       "      <td>8.739782e-04</td>\n",
       "      <td>0</td>\n",
       "      <td>0</td>\n",
       "      <td>11.256410</td>\n",
       "      <td>99.901053</td>\n",
       "      <td>LDHA;HSP90AB1;EIF3J;PGK1;HSPD1</td>\n",
       "    </tr>\n",
       "    <tr>\n",
       "      <th>4</th>\n",
       "      <td>MSigDB_Hallmark_2020</td>\n",
       "      <td>Androgen Response</td>\n",
       "      <td>3/100</td>\n",
       "      <td>2.004676e-03</td>\n",
       "      <td>1.002338e-02</td>\n",
       "      <td>0</td>\n",
       "      <td>0</td>\n",
       "      <td>13.064049</td>\n",
       "      <td>81.157437</td>\n",
       "      <td>KRT19;B4GALT1;NDRG1</td>\n",
       "    </tr>\n",
       "  </tbody>\n",
       "</table>\n",
       "</div>"
      ],
      "text/plain": [
       "               Gene_set               Term Overlap       P-value  \\\n",
       "0  MSigDB_Hallmark_2020            Hypoxia   8/200  3.255912e-08   \n",
       "1  MSigDB_Hallmark_2020         Glycolysis   8/200  3.255912e-08   \n",
       "2  MSigDB_Hallmark_2020   mTORC1 Signaling   7/200  6.247575e-07   \n",
       "3  MSigDB_Hallmark_2020     Myc Targets V1   5/200  1.398365e-04   \n",
       "4  MSigDB_Hallmark_2020  Androgen Response   3/100  2.004676e-03   \n",
       "\n",
       "   Adjusted P-value  Old P-value  Old Adjusted P-value  Odds Ratio  \\\n",
       "0      4.069890e-07            0                     0   19.601190   \n",
       "1      4.069890e-07            0                     0   19.601190   \n",
       "2      5.206313e-06            0                     0   16.664538   \n",
       "3      8.739782e-04            0                     0   11.256410   \n",
       "4      1.002338e-02            0                     0   13.064049   \n",
       "\n",
       "   Combined Score                                            Genes  \n",
       "0      337.928605    BNIP3L;LDHA;P4HA1;IGFBP3;PGK1;ENO1;NDRG1;MT1E  \n",
       "1      337.928605  LDHA;EGLN3;B4GALT1;P4HA1;IGFBP3;PGK1;PLOD2;ENO1  \n",
       "2      238.067958           LDHA;EGLN3;P4HA1;PGK1;PLOD2;ENO1;HSPD1  \n",
       "3       99.901053                   LDHA;HSP90AB1;EIF3J;PGK1;HSPD1  \n",
       "4       81.157437                              KRT19;B4GALT1;NDRG1  "
      ]
     },
     "execution_count": 21,
     "metadata": {},
     "output_type": "execute_result"
    }
   ],
   "source": [
    "enrichment_results_df = enr.results\n",
    "enrichment_results_df.head()"
   ]
  },
  {
   "cell_type": "code",
   "execution_count": 22,
   "metadata": {},
   "outputs": [
    {
     "name": "stderr",
     "output_type": "stream",
     "text": [
      "/Users/filipporonzino/anaconda3/lib/python3.11/site-packages/gseapy/plot.py:689: FutureWarning: The 'method' keyword in Series.replace is deprecated and will be removed in a future version.\n",
      "  df[self.colname].replace(\n",
      "/Users/filipporonzino/anaconda3/lib/python3.11/site-packages/gseapy/plot.py:689: FutureWarning: A value is trying to be set on a copy of a DataFrame or Series through chained assignment using an inplace method.\n",
      "The behavior will change in pandas 3.0. This inplace method will never work because the intermediate object on which we are setting values always behaves as a copy.\n",
      "\n",
      "For example, when doing 'df[col].method(value, inplace=True)', try using 'df.method({col: value}, inplace=True)' or df[col] = df[col].method(value) instead, to perform the operation inplace on the original object.\n",
      "\n",
      "\n",
      "  df[self.colname].replace(\n"
     ]
    },
    {
     "data": {
      "image/png": "[encoded data removed]",
      "text/plain": [
       "<Figure size 400x600 with 2 Axes>"
      ]
     },
     "metadata": {},
     "output_type": "display_data"
    }
   ],
   "source": [
    "#Show top 5 terms of each gene_set ranked by “Adjusted P-value”\n",
    "ax = dotplot(enr.results,\n",
    "              column=\"Adjusted P-value\",\n",
    "              x='Gene_set', # set x axis, so you could do a multi-sample/library comparsion\n",
    "              size=10,\n",
    "              top_term=5,\n",
    "              figsize=(4,6),\n",
    "              title = \"MSigDB_Hallmark_2020\", \n",
    "              show_ring=True, # set to False to revmove outer ring\n",
    "              marker='o',\n",
    "             )"
   ]
  },
  {
   "attachments": {},
   "cell_type": "markdown",
   "metadata": {},
   "source": [
    " We immediately see that the gene sets that are over-represented are the ones corresponding to: Hypoxia. This is of course to be expected, since we have used as our gene list the genes that are relevant for classification of hypoxia.\n",
    "\n",
    "It is moreover clear that in <code>enr.results</code>, the highest overlap is the one for Hypoxia, which means that the number of genes that overlap between our gene list and the genes in the specific gene set chosen is 18/200\n",
    "\n"
   ]
  }
 ],
 "metadata": {
  "kernelspec": {
   "display_name": "base",
   "language": "python",
   "name": "python3"
  },
  "language_info": {
   "codemirror_mode": {
    "name": "ipython",
    "version": 3
   },
   "file_extension": ".py",
   "mimetype": "text/x-python",
   "name": "python",
   "nbconvert_exporter": "python",
   "pygments_lexer": "ipython3",
   "version": "3.11.0"
  },
  "orig_nbformat": 4,
  "vscode": {
   "interpreter": {
    "hash": "7f217336c97d15ce4a94207d0500046615b0bc55fbf2d342e9c35c59defb6831"
   }
  }
 },
 "nbformat": 4,
 "nbformat_minor": 2
}
