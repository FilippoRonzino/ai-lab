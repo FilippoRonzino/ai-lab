{
 "cells": [
  {
   "attachments": {},
   "cell_type": "markdown",
   "metadata": {},
   "source": [
    "# BONUS-KAN MODEL"
   ]
  },
  {
   "attachments": {},
   "cell_type": "markdown",
   "metadata": {},
   "source": [
    "On the 30 of april 2024, it was published a paper (https://arxiv.org/abs/2404.19756) about a new possible approach towards neural networks. Kolmogorov-Arnold Networks (KANs) are proposed as an alternative to Multi-Layer Perceptrons (MLPs) inspired by the Kolmogorov-Arnold representation theorem. \n",
    "\n",
    "Unlike MLPs, which have fixed activation functions on nodes, KANs have learnable activation functions on edges. In simpler terms, KANs do not have linear weights, and instead, every weight parameter is replaced by a univariate function parameterized as a spline.\n",
    "\n",
    "Since it is already been implemented on Python, we thought it would be interesting to test this model on our dataset, without any expectations of it being better than the MLP model, or to go deep into the theory behind it. "
   ]
  },
  {
   "cell_type": "code",
   "execution_count": null,
   "metadata": {},
   "outputs": [],
   "source": [
    "!pip install imodelsx"
   ]
  },
  {
   "cell_type": "code",
   "execution_count": 31,
   "metadata": {},
   "outputs": [],
   "source": [
    "import imodelsx.kan\n",
    "from sklearn.metrics import accuracy_score\n",
    "import numpy as np\n",
    "import pandas as pd\n",
    "import torch as th"
   ]
  },
  {
   "cell_type": "code",
   "execution_count": 36,
   "metadata": {},
   "outputs": [],
   "source": [
    "# Load the dataset\n",
    "df_seq_pathHFiltNorm = '../ai_lab/SmartSeq/HCC1806_SmartS_Filtered_Normalised_3000_Data_train.txt'\n",
    "df_seq_HFiltNorm = pd.read_csv(df_seq_pathHFiltNorm, delimiter=' ')\n",
    "df_seq_HfiltNormT = df_seq_HFiltNorm.T\n",
    "#we now add the target variable\n",
    "df_metaH_path = '../ai_lab/SmartSeq/HCC1806_SmartS_MetaData.tsv'\n",
    "df_metaH = pd.read_csv(df_metaH_path, delimiter='\\t')\n",
    "df_metaH.set_index('Filename', inplace=True)\n",
    "\n",
    "def add_target_column(data, metadata_path, target_column_name, target_category):\n",
    "    df_meta = pd.read_csv(metadata_path, delimiter='\\t')\n",
    "    df_meta.set_index('Filename', inplace=True)\n",
    "    merged_transition = pd.merge(data, df_meta[target_column_name], left_index=True, right_index=True)\n",
    "    dummy_variables = pd.get_dummies(merged_transition[target_column_name], prefix='category').astype('int')\n",
    "    \n",
    "    # Set the target category to 1 and the others to 0\n",
    "    dummy_variables['Target'] = dummy_variables[target_category]\n",
    "    dummy_variables.drop(columns=[col for col in dummy_variables.columns if col != 'Target'], inplace=True)\n",
    "    \n",
    "    merged_data = pd.concat([merged_transition, dummy_variables], axis=1)\n",
    "    merged_data.drop(columns=[target_column_name], inplace=True)\n",
    "    return merged_data\n",
    "merged = add_target_column(df_seq_HfiltNormT, df_metaH_path, 'Condition', 'category_Normo')"
   ]
  },
  {
   "cell_type": "code",
   "execution_count": 33,
   "metadata": {},
   "outputs": [
    {
     "data": {
      "text/html": [
       "<div>\n",
       "<style scoped>\n",
       "    .dataframe tbody tr th:only-of-type {\n",
       "        vertical-align: middle;\n",
       "    }\n",
       "\n",
       "    .dataframe tbody tr th {\n",
       "        vertical-align: top;\n",
       "    }\n",
       "\n",
       "    .dataframe thead th {\n",
       "        text-align: right;\n",
       "    }\n",
       "</style>\n",
       "<table border=\"1\" class=\"dataframe\">\n",
       "  <thead>\n",
       "    <tr style=\"text-align: right;\">\n",
       "      <th></th>\n",
       "      <th>DDIT4</th>\n",
       "      <th>ANGPTL4</th>\n",
       "      <th>CALML5</th>\n",
       "      <th>KRT14</th>\n",
       "      <th>CCNB1</th>\n",
       "      <th>IGFBP3</th>\n",
       "      <th>AKR1C2</th>\n",
       "      <th>KRT6A</th>\n",
       "      <th>NDRG1</th>\n",
       "      <th>KRT4</th>\n",
       "      <th>...</th>\n",
       "      <th>ZYG11A</th>\n",
       "      <th>NRG1</th>\n",
       "      <th>RBMS3</th>\n",
       "      <th>VCPIP1</th>\n",
       "      <th>LINC02693</th>\n",
       "      <th>OR8B9P</th>\n",
       "      <th>NEAT1</th>\n",
       "      <th>ZDHHC23</th>\n",
       "      <th>ODAD2</th>\n",
       "      <th>Target</th>\n",
       "    </tr>\n",
       "  </thead>\n",
       "  <tbody>\n",
       "    <tr>\n",
       "      <th>output.STAR.PCRPlate1G12_Normoxia_S32_Aligned.sortedByCoord.out.bam</th>\n",
       "      <td>0</td>\n",
       "      <td>48</td>\n",
       "      <td>0</td>\n",
       "      <td>321</td>\n",
       "      <td>298</td>\n",
       "      <td>82</td>\n",
       "      <td>6250</td>\n",
       "      <td>634</td>\n",
       "      <td>0</td>\n",
       "      <td>0</td>\n",
       "      <td>...</td>\n",
       "      <td>10</td>\n",
       "      <td>136</td>\n",
       "      <td>0</td>\n",
       "      <td>0</td>\n",
       "      <td>29</td>\n",
       "      <td>0</td>\n",
       "      <td>29</td>\n",
       "      <td>0</td>\n",
       "      <td>0</td>\n",
       "      <td>1</td>\n",
       "    </tr>\n",
       "    <tr>\n",
       "      <th>output.STAR.PCRPlate1G1_Hypoxia_S102_Aligned.sortedByCoord.out.bam</th>\n",
       "      <td>8739</td>\n",
       "      <td>2101</td>\n",
       "      <td>55</td>\n",
       "      <td>96</td>\n",
       "      <td>1824</td>\n",
       "      <td>1938</td>\n",
       "      <td>62</td>\n",
       "      <td>0</td>\n",
       "      <td>522</td>\n",
       "      <td>413</td>\n",
       "      <td>...</td>\n",
       "      <td>0</td>\n",
       "      <td>264</td>\n",
       "      <td>0</td>\n",
       "      <td>134</td>\n",
       "      <td>68</td>\n",
       "      <td>0</td>\n",
       "      <td>213</td>\n",
       "      <td>0</td>\n",
       "      <td>0</td>\n",
       "      <td>0</td>\n",
       "    </tr>\n",
       "    <tr>\n",
       "      <th>output.STAR.PCRPlate1G2_Hypoxia_S2_Aligned.sortedByCoord.out.bam</th>\n",
       "      <td>13098</td>\n",
       "      <td>14032</td>\n",
       "      <td>0</td>\n",
       "      <td>0</td>\n",
       "      <td>1616</td>\n",
       "      <td>247</td>\n",
       "      <td>430</td>\n",
       "      <td>907</td>\n",
       "      <td>348</td>\n",
       "      <td>0</td>\n",
       "      <td>...</td>\n",
       "      <td>0</td>\n",
       "      <td>38</td>\n",
       "      <td>0</td>\n",
       "      <td>0</td>\n",
       "      <td>0</td>\n",
       "      <td>0</td>\n",
       "      <td>92</td>\n",
       "      <td>0</td>\n",
       "      <td>0</td>\n",
       "      <td>0</td>\n",
       "    </tr>\n",
       "    <tr>\n",
       "      <th>output.STAR.PCRPlate1G3_Hypoxia_S7_Aligned.sortedByCoord.out.bam</th>\n",
       "      <td>2880</td>\n",
       "      <td>356</td>\n",
       "      <td>0</td>\n",
       "      <td>6211</td>\n",
       "      <td>3</td>\n",
       "      <td>3430</td>\n",
       "      <td>79</td>\n",
       "      <td>1953</td>\n",
       "      <td>592</td>\n",
       "      <td>176</td>\n",
       "      <td>...</td>\n",
       "      <td>0</td>\n",
       "      <td>16</td>\n",
       "      <td>0</td>\n",
       "      <td>4</td>\n",
       "      <td>1</td>\n",
       "      <td>0</td>\n",
       "      <td>1</td>\n",
       "      <td>0</td>\n",
       "      <td>0</td>\n",
       "      <td>0</td>\n",
       "    </tr>\n",
       "    <tr>\n",
       "      <th>output.STAR.PCRPlate1G4_Hypoxia_S107_Aligned.sortedByCoord.out.bam</th>\n",
       "      <td>7777</td>\n",
       "      <td>5661</td>\n",
       "      <td>4383</td>\n",
       "      <td>0</td>\n",
       "      <td>145</td>\n",
       "      <td>4618</td>\n",
       "      <td>246</td>\n",
       "      <td>85</td>\n",
       "      <td>206</td>\n",
       "      <td>0</td>\n",
       "      <td>...</td>\n",
       "      <td>1</td>\n",
       "      <td>25</td>\n",
       "      <td>0</td>\n",
       "      <td>0</td>\n",
       "      <td>0</td>\n",
       "      <td>0</td>\n",
       "      <td>128</td>\n",
       "      <td>0</td>\n",
       "      <td>0</td>\n",
       "      <td>0</td>\n",
       "    </tr>\n",
       "  </tbody>\n",
       "</table>\n",
       "<p>5 rows × 3001 columns</p>\n",
       "</div>"
      ],
      "text/plain": [
       "                                                    DDIT4  ANGPTL4  CALML5  \\\n",
       "output.STAR.PCRPlate1G12_Normoxia_S32_Aligned.s...      0       48       0   \n",
       "output.STAR.PCRPlate1G1_Hypoxia_S102_Aligned.so...   8739     2101      55   \n",
       "output.STAR.PCRPlate1G2_Hypoxia_S2_Aligned.sort...  13098    14032       0   \n",
       "output.STAR.PCRPlate1G3_Hypoxia_S7_Aligned.sort...   2880      356       0   \n",
       "output.STAR.PCRPlate1G4_Hypoxia_S107_Aligned.so...   7777     5661    4383   \n",
       "\n",
       "                                                    KRT14  CCNB1  IGFBP3  \\\n",
       "output.STAR.PCRPlate1G12_Normoxia_S32_Aligned.s...    321    298      82   \n",
       "output.STAR.PCRPlate1G1_Hypoxia_S102_Aligned.so...     96   1824    1938   \n",
       "output.STAR.PCRPlate1G2_Hypoxia_S2_Aligned.sort...      0   1616     247   \n",
       "output.STAR.PCRPlate1G3_Hypoxia_S7_Aligned.sort...   6211      3    3430   \n",
       "output.STAR.PCRPlate1G4_Hypoxia_S107_Aligned.so...      0    145    4618   \n",
       "\n",
       "                                                    AKR1C2  KRT6A  NDRG1  \\\n",
       "output.STAR.PCRPlate1G12_Normoxia_S32_Aligned.s...    6250    634      0   \n",
       "output.STAR.PCRPlate1G1_Hypoxia_S102_Aligned.so...      62      0    522   \n",
       "output.STAR.PCRPlate1G2_Hypoxia_S2_Aligned.sort...     430    907    348   \n",
       "output.STAR.PCRPlate1G3_Hypoxia_S7_Aligned.sort...      79   1953    592   \n",
       "output.STAR.PCRPlate1G4_Hypoxia_S107_Aligned.so...     246     85    206   \n",
       "\n",
       "                                                    KRT4  ...  ZYG11A  NRG1  \\\n",
       "output.STAR.PCRPlate1G12_Normoxia_S32_Aligned.s...     0  ...      10   136   \n",
       "output.STAR.PCRPlate1G1_Hypoxia_S102_Aligned.so...   413  ...       0   264   \n",
       "output.STAR.PCRPlate1G2_Hypoxia_S2_Aligned.sort...     0  ...       0    38   \n",
       "output.STAR.PCRPlate1G3_Hypoxia_S7_Aligned.sort...   176  ...       0    16   \n",
       "output.STAR.PCRPlate1G4_Hypoxia_S107_Aligned.so...     0  ...       1    25   \n",
       "\n",
       "                                                    RBMS3  VCPIP1  LINC02693  \\\n",
       "output.STAR.PCRPlate1G12_Normoxia_S32_Aligned.s...      0       0         29   \n",
       "output.STAR.PCRPlate1G1_Hypoxia_S102_Aligned.so...      0     134         68   \n",
       "output.STAR.PCRPlate1G2_Hypoxia_S2_Aligned.sort...      0       0          0   \n",
       "output.STAR.PCRPlate1G3_Hypoxia_S7_Aligned.sort...      0       4          1   \n",
       "output.STAR.PCRPlate1G4_Hypoxia_S107_Aligned.so...      0       0          0   \n",
       "\n",
       "                                                    OR8B9P  NEAT1  ZDHHC23  \\\n",
       "output.STAR.PCRPlate1G12_Normoxia_S32_Aligned.s...       0     29        0   \n",
       "output.STAR.PCRPlate1G1_Hypoxia_S102_Aligned.so...       0    213        0   \n",
       "output.STAR.PCRPlate1G2_Hypoxia_S2_Aligned.sort...       0     92        0   \n",
       "output.STAR.PCRPlate1G3_Hypoxia_S7_Aligned.sort...       0      1        0   \n",
       "output.STAR.PCRPlate1G4_Hypoxia_S107_Aligned.so...       0    128        0   \n",
       "\n",
       "                                                    ODAD2  Target  \n",
       "output.STAR.PCRPlate1G12_Normoxia_S32_Aligned.s...      0       1  \n",
       "output.STAR.PCRPlate1G1_Hypoxia_S102_Aligned.so...      0       0  \n",
       "output.STAR.PCRPlate1G2_Hypoxia_S2_Aligned.sort...      0       0  \n",
       "output.STAR.PCRPlate1G3_Hypoxia_S7_Aligned.sort...      0       0  \n",
       "output.STAR.PCRPlate1G4_Hypoxia_S107_Aligned.so...      0       0  \n",
       "\n",
       "[5 rows x 3001 columns]"
      ]
     },
     "execution_count": 33,
     "metadata": {},
     "output_type": "execute_result"
    }
   ],
   "source": [
    "merged.head()"
   ]
  },
  {
   "cell_type": "code",
   "execution_count": 34,
   "metadata": {},
   "outputs": [
    {
     "name": "stdout",
     "output_type": "stream",
     "text": [
      "(182, 3000) (182,)\n",
      "<class 'numpy.ndarray'> <class 'numpy.ndarray'>\n"
     ]
    }
   ],
   "source": [
    "# Split X and y using ndarray\n",
    "X = merged.iloc[:, :-1].values\n",
    "y = merged.iloc[:, -1].values\n",
    "print(X.shape, y.shape)\n",
    "print(type(X), type(y))"
   ]
  },
  {
   "cell_type": "code",
   "execution_count": 35,
   "metadata": {},
   "outputs": [
    {
     "name": "stderr",
     "output_type": "stream",
     "text": [
      "  5%|▌         | 5/100 [00:00<00:04, 19.00it/s]"
     ]
    },
    {
     "name": "stdout",
     "output_type": "stream",
     "text": [
      "Early stopping\n"
     ]
    },
    {
     "name": "stderr",
     "output_type": "stream",
     "text": [
      "\n"
     ]
    },
    {
     "data": {
      "text/plain": [
       "0.8076923076923077"
      ]
     },
     "execution_count": 35,
     "metadata": {},
     "output_type": "execute_result"
    }
   ],
   "source": [
    "# Model KAN\n",
    "model = imodelsx.kan.KANClassifier(hidden_layer_size=8, device='cpu', regularize_activation=1.0, regularize_entropy=1.0)\n",
    "model.fit(X, y)\n",
    "#now we plot the process of training\n",
    "y_pred = model.predict(X)\n",
    "\n",
    "accuracy_score(y, y_pred)"
   ]
  },
  {
   "attachments": {},
   "cell_type": "markdown",
   "metadata": {},
   "source": [
    "As expected, the accuracy is lower than the other models, but it is interesting to see how the model behaves with our dataset."
   ]
  }
 ],
 "metadata": {
  "kernelspec": {
   "display_name": "base",
   "language": "python",
   "name": "python3"
  },
  "language_info": {
   "codemirror_mode": {
    "name": "ipython",
    "version": 3
   },
   "file_extension": ".py",
   "mimetype": "text/x-python",
   "name": "python",
   "nbconvert_exporter": "python",
   "pygments_lexer": "ipython3",
   "version": "3.11.0"
  },
  "orig_nbformat": 4,
  "vscode": {
   "interpreter": {
    "hash": "7f217336c97d15ce4a94207d0500046615b0bc55fbf2d342e9c35c59defb6831"
   }
  }
 },
 "nbformat": 4,
 "nbformat_minor": 2
}
